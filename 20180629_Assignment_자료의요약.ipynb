{
  "nbformat": 4,
  "nbformat_minor": 0,
  "metadata": {
    "colab": {
      "name": "20180629_Assignment_자료의요약.ipynb",
      "version": "0.3.2",
      "provenance": [],
      "include_colab_link": true
    },
    "kernelspec": {
      "name": "python3",
      "display_name": "Python 3"
    }
  },
  "cells": [
    {
      "cell_type": "markdown",
      "metadata": {
        "id": "view-in-github",
        "colab_type": "text"
      },
      "source": [
        "[View in Colaboratory](https://colab.research.google.com/github/YoungestSalon/TIL/blob/master/20180629_Assignment_%EC%9E%90%EB%A3%8C%EC%9D%98%EC%9A%94%EC%95%BD.ipynb)"
      ]
    },
    {
      "metadata": {
        "id": "X2yWDucLRGRS",
        "colab_type": "text"
      },
      "cell_type": "markdown",
      "source": [
        "2018.06.29 데잇걸즈2 수업 '자료의 요약' 부분에서 다음 개념에 대해 학습했다.\n",
        "\n",
        "- 평균\n",
        "- 중앙값\n",
        "- 사분위수\n",
        "- 분산\n",
        "- 표준편차\n",
        "- 자연로그 함수\n",
        "- 상관계수\n",
        "\n",
        "이 개념들을 **파이썬 함수**로 계산하려면?"
      ]
    },
    {
      "metadata": {
        "id": "iyPScMXgSYpa",
        "colab_type": "code",
        "colab": {
          "base_uri": "https://localhost:8080/",
          "height": 107
        },
        "outputId": "a8332378-0e20-4dce-fce2-35279a24de36"
      },
      "cell_type": "code",
      "source": [
        "# 데이터 셋이 1개인 경우\n",
        "\n",
        "data = [11, 12, 13, 14, 15, 16, 17, 18, 19, 20, 21, 22, 23, 24]\n",
        "\n",
        "\n",
        "# 중앙값 (= 2사분위수)\n",
        "\n",
        "def median(data):\n",
        "    if int(len(data)) % 2 == 1:                                 # 갯수가 홀수인 경우\n",
        "        index_median = int((int(len(data)) + 1) / 2)\n",
        "        median = data[index_median]\n",
        "    else:                                                       # 갯수가 짝수인 경우\n",
        "        index1 = int(int(len(data)) / 2) -1\n",
        "        index2 = int((int(len(data)) / 2) + 1) -1\n",
        "        median = ((data[index1]) + (data[index2])) / 2\n",
        "    return median\n",
        "  \n",
        "\n",
        "# 사분위수 : interval 부분이 틀린 느낌인데, 고치는 방법을 모르겠다.\n",
        "\n",
        "def quartile(data):\n",
        "    interval = (int(data[-1]) - int(data[0])) / 4\n",
        "    \n",
        "    if int(len(data)) % 2 == 1:\n",
        "        index_median = int((int(len(data)) + 1) / 2)\n",
        "        median = data[index_median]\n",
        "    else:\n",
        "        index1 = int(int(len(data)) / 2) -1\n",
        "        index2 = int((int(len(data)) / 2) + 1) -1\n",
        "        median = ((data[index1]) + (data[index2])) / 2    \n",
        "        \n",
        "    Q1 = median - interval\n",
        "    Q2 = median\n",
        "    Q3 = median + interval\n",
        "\n",
        "    return Q1, Q2, Q3\n",
        "\n",
        "  \n",
        "# 자연로그 함수 (엑셀의 ln 함수)\n",
        "\n",
        "import math\n",
        "\n",
        "data_log = []\n",
        "\n",
        "def log(data):\n",
        "    for i in range(len(data)):\n",
        "        e = round(math.log(data[i]), 4)        # 보기 편하도록 소수점 이하 4자리에서 반올림\n",
        "        data_log.append(e)\n",
        "    return data_log\n",
        "\n",
        "\n",
        "# 분산, 표준편차 (참고 : http://math7.tistory.com/16)\n",
        "  \n",
        "avg = sum(data) / len(data)\n",
        "\n",
        "def var(data):\n",
        "    dev_sum = 0\n",
        "\n",
        "    for i in range(len(data)):\n",
        "        dev_double = (data[i] - avg) ** 2       # 편차의 제곱을 구해서\n",
        "        dev_sum = dev_sum + dev_double          # 구해진 편차의 제곱을 모두 합친 후\n",
        "    \n",
        "    var = dev_sum / len(data)                   # 편차의 제곱끼리 평균을 구함 (= 분산)\n",
        "    standard_var = var ** 0.5                   # 분산에 루트를 씌움 (= 표준편차)\n",
        "    return var, standard_var\n",
        "    \n",
        "\n",
        "avg_data = sum(data) / len(data)     # 평균\n",
        "med_data = median(data)              # 중앙값\n",
        "quar_data = quartile(data)           # 사분위수 : 틀린듯\n",
        "natural_log = log(data)              # 자연로그 함수\n",
        "var = var(data)                      # 분산 & 표준편차\n",
        "\n",
        "print(avg_data)\n",
        "print(med_data)\n",
        "print(quar_data)\n",
        "print(natural_log)\n",
        "print(var)"
      ],
      "execution_count": 16,
      "outputs": [
        {
          "output_type": "stream",
          "text": [
            "17.5\n",
            "17.5\n",
            "(14.25, 17.5, 20.75)\n",
            "[2.3979, 2.4849, 2.5649, 2.6391, 2.7081, 2.7726, 2.8332, 2.8904, 2.9444, 2.9957, 3.0445, 3.091, 3.1355, 3.1781]\n",
            "(16.25, 4.031128874149275)\n"
          ],
          "name": "stdout"
        }
      ]
    },
    {
      "metadata": {
        "id": "gr8KyBxjRqY3",
        "colab_type": "text"
      },
      "cell_type": "markdown",
      "source": [
        "상관계수는 두 개 이상의 데이터 셋이 있을 때 연관도를 측정하는 개념이다.\n",
        "즉, 데이터 셋이 하나인 경우에는 상관계수라는 개념이 성립하지 않는다.\n",
        "\n",
        "그렇다면 데이터 셋이 두 개인 경우의 상관계수를 구해보자."
      ]
    },
    {
      "metadata": {
        "id": "1aYHryG8oLTs",
        "colab_type": "code",
        "colab": {
          "base_uri": "https://localhost:8080/",
          "height": 35
        },
        "outputId": "2539712b-db6c-44f5-e48c-7dc32bc5f2cc"
      },
      "cell_type": "code",
      "source": [
        "# 데이터 셋이 2개인 경우\n",
        "\n",
        "data1 = [1, 2, 3, 4, 5]\n",
        "data2 = [8, 7, 6, 4, 5]\n",
        "\n",
        "\n",
        "# 상관계수 (참고 : http://math7.tistory.com/114)\n",
        "\n",
        "avg1 = sum(data1) / len(data1)            # 1번 데이터 셋의 평균        \n",
        "avg2 = sum(data2) / len(data2)            # 2번 데이터 셋의 평균\n",
        "\n",
        "def stage1(data1, data2):                 # 분자 부분을 구함\n",
        "    i = 0\n",
        "    stage1 = 0\n",
        "    for i in range(len(data1)):\n",
        "        num1 = data1[i] - avg1 \n",
        "        num2 = data2[i] - avg2\n",
        "        num3 = num1 * num2\n",
        "        stage1 = stage1 + num3\n",
        "        i = i + 1\n",
        "    return stage1\n",
        "\n",
        "def stage2(data1):                        # 분모 부분을 구하기 위해, \n",
        "    i = 0\n",
        "    stage2 = 0\n",
        "    for i in range(len(data1)):\n",
        "        num = (data1[i] - avg1) ** 2      # 1번 데이터 셋의 모든 요소에 대해 편차의 제곱을 구하고\n",
        "        stage2 = stage2 + num             # 그 편차의 제곱을 모두 더함\n",
        "        i = i + 1\n",
        "    return stage2\n",
        "\n",
        "def stage3(data2):                        # 분모 부분을 구하기 위해,\n",
        "    i = 0\n",
        "    stage3 = 0\n",
        "    for i in range(len(data2)):\n",
        "        num = (data2[i] - avg2) ** 2      # 2번 데이터 셋도 모든 요소에 대해 편차의 제곱을 구하고\n",
        "        stage3 = stage3 + num             # 그 편차의 제곱을 모두 더함\n",
        "        i = i + 1\n",
        "    return stage3\n",
        "    \n",
        "def stage4(data1, data2):                                         # 드디어, 상관계수를 구해보자!\n",
        "    over = stage1(data1, data2)                                   # 분자는 stage1 함수에서 구해짐\n",
        "    under = (float(stage2(data1) * stage3(data2))) ** 0.5         # 분모는 각 데이터 셋의 편차의 제곱의 합을 곱하고, 다시 루트('** 0.5' 부분)를 씌워야 함\n",
        "    coefficient = float(over) / float(under)                      # 분자를 분모로 나누면 상관계수가 구해짐\n",
        "    return coefficient\n",
        "\n",
        "coef = stage4(data1, data2)\n",
        "print(coef)"
      ],
      "execution_count": 17,
      "outputs": [
        {
          "output_type": "stream",
          "text": [
            "-0.9\n"
          ],
          "name": "stdout"
        }
      ]
    },
    {
      "metadata": {
        "id": "Z0HxEITVR82_",
        "colab_type": "text"
      },
      "cell_type": "markdown",
      "source": [
        "추신. 수업 당시에는 시각화를 위한 그래프(히스토그램, Boxplot(?) 등)도 다뤘으나, 이건 Matplotlib 라이브러리를 배운 후에나 가능할 것 같다(...)"
      ]
    }
  ]
}