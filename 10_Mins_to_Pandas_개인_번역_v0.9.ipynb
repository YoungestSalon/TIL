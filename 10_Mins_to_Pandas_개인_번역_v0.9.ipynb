{
  "nbformat": 4,
  "nbformat_minor": 0,
  "metadata": {
    "colab": {
      "name": "10 Mins to Pandas_개인 번역_v0.9.ipynb",
      "version": "0.3.2",
      "provenance": [],
      "include_colab_link": true
    },
    "kernelspec": {
      "name": "python3",
      "display_name": "Python 3"
    }
  },
  "cells": [
    {
      "cell_type": "markdown",
      "metadata": {
        "id": "view-in-github",
        "colab_type": "text"
      },
      "source": [
        "[View in Colaboratory](https://colab.research.google.com/github/YoungestSalon/TIL/blob/master/10_Mins_to_Pandas_%EA%B0%9C%EC%9D%B8_%EB%B2%88%EC%97%AD_v0.9.ipynb)"
      ]
    },
    {
      "metadata": {
        "id": "4LCsDHO62MKM",
        "colab_type": "text"
      },
      "cell_type": "markdown",
      "source": [
        "# 10 Minutes to Pandas 번역\n",
        "\n",
        "(원본 : https://pandas.pydata.org/pandas-docs/stable/10min.html)\n",
        "\n",
        "(역자 주 : 약간의 의역이 있으며, 존댓말과 반말을 오락가락하는 점 양해 부탁 드립니다.)\n"
      ]
    },
    {
      "metadata": {
        "id": "098x_dmZ6WQc",
        "colab_type": "text"
      },
      "cell_type": "markdown",
      "source": [
        "이것은 Pandas에 관한 간략한 소개로, 주로 신규 사용자를 대상으로 합니다. 더 복잡한 사용법은 Cookbook에서 보실 수 있습니다.\n",
        "\n",
        "일반적으로, 우리는 (Pandas를) 다음과 같은 방법으로 불러옵니다."
      ]
    },
    {
      "metadata": {
        "id": "vgDf7pooyyQq",
        "colab_type": "code",
        "colab": {}
      },
      "cell_type": "code",
      "source": [
        "import pandas as pd\n",
        "import numpy as np\n",
        "import matplotlib.pyplot as plt"
      ],
      "execution_count": 0,
      "outputs": []
    },
    {
      "metadata": {
        "id": "8YbuCV-U2U1u",
        "colab_type": "text"
      },
      "cell_type": "markdown",
      "source": [
        "##객체 생성 \n",
        "\n",
        "[데이터 구조 소개 섹션](https://pandas.pydata.org/pandas-docs/stable/dsintro.html#dsintro)을 참조하십시오.\n",
        "\n",
        "값의 목록을 전달하여 Pandas가 기본 정수 인덱스를 생성하도록 함으로써 Series를 만들기\n"
      ]
    },
    {
      "metadata": {
        "id": "CMAPETpP2XAX",
        "colab_type": "code",
        "colab": {
          "base_uri": "https://localhost:8080/",
          "height": 143
        },
        "outputId": "1cac2fe7-fd7a-4526-aaa4-fb8ded630bf8"
      },
      "cell_type": "code",
      "source": [
        "s = pd.Series([1,3,5,np.nan,6,8])\n",
        "s"
      ],
      "execution_count": 5,
      "outputs": [
        {
          "output_type": "execute_result",
          "data": {
            "text/plain": [
              "0    1.0\n",
              "1    3.0\n",
              "2    5.0\n",
              "3    NaN\n",
              "4    6.0\n",
              "5    8.0\n",
              "dtype: float64"
            ]
          },
          "metadata": {
            "tags": []
          },
          "execution_count": 5
        }
      ]
    },
    {
      "metadata": {
        "id": "J-rX8HTH2gr5",
        "colab_type": "text"
      },
      "cell_type": "markdown",
      "source": [
        "일자 인덱스와 레이블 된 열이 있는 Numpy(넘파이) 배열을 전달하여 DataFrame 만들기"
      ]
    },
    {
      "metadata": {
        "id": "lFL5KmeL1kDg",
        "colab_type": "code",
        "colab": {
          "base_uri": "https://localhost:8080/",
          "height": 71
        },
        "outputId": "44d82e89-d1be-4eea-e2c4-2dcdfaf4748b"
      },
      "cell_type": "code",
      "source": [
        "dates = pd.date_range('20130101', periods = 6)\n",
        "dates"
      ],
      "execution_count": 3,
      "outputs": [
        {
          "output_type": "execute_result",
          "data": {
            "text/plain": [
              "DatetimeIndex(['2013-01-01', '2013-01-02', '2013-01-03', '2013-01-04',\n",
              "               '2013-01-05', '2013-01-06'],\n",
              "              dtype='datetime64[ns]', freq='D')"
            ]
          },
          "metadata": {
            "tags": []
          },
          "execution_count": 3
        }
      ]
    },
    {
      "metadata": {
        "id": "ygfezeGd1qzo",
        "colab_type": "code",
        "colab": {
          "base_uri": "https://localhost:8080/",
          "height": 235
        },
        "outputId": "c6628499-c6b4-4918-f583-826882cb551c"
      },
      "cell_type": "code",
      "source": [
        "df = pd.DataFrame(np.random.randn(6,4), index=dates, columns=list('ABCD'))\n",
        "df"
      ],
      "execution_count": 4,
      "outputs": [
        {
          "output_type": "execute_result",
          "data": {
            "text/html": [
              "<div>\n",
              "<style scoped>\n",
              "    .dataframe tbody tr th:only-of-type {\n",
              "        vertical-align: middle;\n",
              "    }\n",
              "\n",
              "    .dataframe tbody tr th {\n",
              "        vertical-align: top;\n",
              "    }\n",
              "\n",
              "    .dataframe thead th {\n",
              "        text-align: right;\n",
              "    }\n",
              "</style>\n",
              "<table border=\"1\" class=\"dataframe\">\n",
              "  <thead>\n",
              "    <tr style=\"text-align: right;\">\n",
              "      <th></th>\n",
              "      <th>A</th>\n",
              "      <th>B</th>\n",
              "      <th>C</th>\n",
              "      <th>D</th>\n",
              "    </tr>\n",
              "  </thead>\n",
              "  <tbody>\n",
              "    <tr>\n",
              "      <th>2013-01-01</th>\n",
              "      <td>-0.844384</td>\n",
              "      <td>0.201616</td>\n",
              "      <td>1.778816</td>\n",
              "      <td>0.244655</td>\n",
              "    </tr>\n",
              "    <tr>\n",
              "      <th>2013-01-02</th>\n",
              "      <td>-2.209277</td>\n",
              "      <td>0.828335</td>\n",
              "      <td>-0.936778</td>\n",
              "      <td>0.178987</td>\n",
              "    </tr>\n",
              "    <tr>\n",
              "      <th>2013-01-03</th>\n",
              "      <td>-1.337833</td>\n",
              "      <td>1.801974</td>\n",
              "      <td>-1.367746</td>\n",
              "      <td>-0.839407</td>\n",
              "    </tr>\n",
              "    <tr>\n",
              "      <th>2013-01-04</th>\n",
              "      <td>-0.548509</td>\n",
              "      <td>-1.458021</td>\n",
              "      <td>0.929009</td>\n",
              "      <td>0.040272</td>\n",
              "    </tr>\n",
              "    <tr>\n",
              "      <th>2013-01-05</th>\n",
              "      <td>-0.193988</td>\n",
              "      <td>0.391281</td>\n",
              "      <td>0.561286</td>\n",
              "      <td>0.230670</td>\n",
              "    </tr>\n",
              "    <tr>\n",
              "      <th>2013-01-06</th>\n",
              "      <td>0.358212</td>\n",
              "      <td>-1.533466</td>\n",
              "      <td>-0.251480</td>\n",
              "      <td>2.194119</td>\n",
              "    </tr>\n",
              "  </tbody>\n",
              "</table>\n",
              "</div>"
            ],
            "text/plain": [
              "                   A         B         C         D\n",
              "2013-01-01 -0.844384  0.201616  1.778816  0.244655\n",
              "2013-01-02 -2.209277  0.828335 -0.936778  0.178987\n",
              "2013-01-03 -1.337833  1.801974 -1.367746 -0.839407\n",
              "2013-01-04 -0.548509 -1.458021  0.929009  0.040272\n",
              "2013-01-05 -0.193988  0.391281  0.561286  0.230670\n",
              "2013-01-06  0.358212 -1.533466 -0.251480  2.194119"
            ]
          },
          "metadata": {
            "tags": []
          },
          "execution_count": 4
        }
      ]
    },
    {
      "metadata": {
        "id": "0vuVe-I42j0N",
        "colab_type": "text"
      },
      "cell_type": "markdown",
      "source": [
        "Series와 유사하게 변형될 수 있는 객체들의 Dictionary를 전달하여 DataFrame 만들기"
      ]
    },
    {
      "metadata": {
        "id": "y0yRS2-N2Jvj",
        "colab_type": "code",
        "colab": {
          "base_uri": "https://localhost:8080/",
          "height": 173
        },
        "outputId": "60474579-e4af-4f56-99ea-a9883d4d6dcb"
      },
      "cell_type": "code",
      "source": [
        "df2 = pd.DataFrame({ 'A' : 1.,\n",
        "   ....:                      'B' : pd.Timestamp('20130102'),\n",
        "   ....:                      'C' : pd.Series(1,index=list(range(4)),dtype='float32'),\n",
        "   ....:                      'D' : np.array([3] * 4,dtype='int32'),\n",
        "   ....:                      'E' : pd.Categorical([\"test\",\"train\",\"test\",\"train\"]),\n",
        "   ....:                      'F' : 'foo' })\n",
        "   ....: \n",
        "\n",
        "df2"
      ],
      "execution_count": 7,
      "outputs": [
        {
          "output_type": "execute_result",
          "data": {
            "text/html": [
              "<div>\n",
              "<style scoped>\n",
              "    .dataframe tbody tr th:only-of-type {\n",
              "        vertical-align: middle;\n",
              "    }\n",
              "\n",
              "    .dataframe tbody tr th {\n",
              "        vertical-align: top;\n",
              "    }\n",
              "\n",
              "    .dataframe thead th {\n",
              "        text-align: right;\n",
              "    }\n",
              "</style>\n",
              "<table border=\"1\" class=\"dataframe\">\n",
              "  <thead>\n",
              "    <tr style=\"text-align: right;\">\n",
              "      <th></th>\n",
              "      <th>A</th>\n",
              "      <th>B</th>\n",
              "      <th>C</th>\n",
              "      <th>D</th>\n",
              "      <th>E</th>\n",
              "      <th>F</th>\n",
              "    </tr>\n",
              "  </thead>\n",
              "  <tbody>\n",
              "    <tr>\n",
              "      <th>0</th>\n",
              "      <td>1.0</td>\n",
              "      <td>2013-01-02</td>\n",
              "      <td>1.0</td>\n",
              "      <td>3</td>\n",
              "      <td>test</td>\n",
              "      <td>foo</td>\n",
              "    </tr>\n",
              "    <tr>\n",
              "      <th>1</th>\n",
              "      <td>1.0</td>\n",
              "      <td>2013-01-02</td>\n",
              "      <td>1.0</td>\n",
              "      <td>3</td>\n",
              "      <td>train</td>\n",
              "      <td>foo</td>\n",
              "    </tr>\n",
              "    <tr>\n",
              "      <th>2</th>\n",
              "      <td>1.0</td>\n",
              "      <td>2013-01-02</td>\n",
              "      <td>1.0</td>\n",
              "      <td>3</td>\n",
              "      <td>test</td>\n",
              "      <td>foo</td>\n",
              "    </tr>\n",
              "    <tr>\n",
              "      <th>3</th>\n",
              "      <td>1.0</td>\n",
              "      <td>2013-01-02</td>\n",
              "      <td>1.0</td>\n",
              "      <td>3</td>\n",
              "      <td>train</td>\n",
              "      <td>foo</td>\n",
              "    </tr>\n",
              "  </tbody>\n",
              "</table>\n",
              "</div>"
            ],
            "text/plain": [
              "     A          B    C  D      E    F\n",
              "0  1.0 2013-01-02  1.0  3   test  foo\n",
              "1  1.0 2013-01-02  1.0  3  train  foo\n",
              "2  1.0 2013-01-02  1.0  3   test  foo\n",
              "3  1.0 2013-01-02  1.0  3  train  foo"
            ]
          },
          "metadata": {
            "tags": []
          },
          "execution_count": 7
        }
      ]
    },
    {
      "metadata": {
        "id": "tyK3j-5p3F_8",
        "colab_type": "text"
      },
      "cell_type": "markdown",
      "source": [
        "DataFrame 결과값의 열은 다른 데이터 타입들(dtypes)을 지님"
      ]
    },
    {
      "metadata": {
        "id": "GAyJQwIg3lfP",
        "colab_type": "code",
        "colab": {
          "base_uri": "https://localhost:8080/",
          "height": 143
        },
        "outputId": "a94b4c79-ff87-430d-ad04-87d350211aee"
      },
      "cell_type": "code",
      "source": [
        "df2.dtypes"
      ],
      "execution_count": 8,
      "outputs": [
        {
          "output_type": "execute_result",
          "data": {
            "text/plain": [
              "A           float64\n",
              "B    datetime64[ns]\n",
              "C           float32\n",
              "D             int32\n",
              "E          category\n",
              "F            object\n",
              "dtype: object"
            ]
          },
          "metadata": {
            "tags": []
          },
          "execution_count": 8
        }
      ]
    },
    {
      "metadata": {
        "id": "5TexpkuA3p3v",
        "colab_type": "text"
      },
      "cell_type": "markdown",
      "source": [
        "만약 iPython을 사용한다면, 열 이름의 Tab 완성도 자동으로 가능해짐. 다음은 완료될 속성(attributes)의 부분 집합임.\n",
        "\n",
        "(역자 주 : Google Colaboratory에도 동일한 기능이 있음. 하기 'df2.'의 뒷부분 '<TAB>'을 지우고 해당 위치에서 Tab 버튼을 누르면 동일한 기능이 작동함)"
      ]
    },
    {
      "metadata": {
        "id": "ihvVY0ba4gG9",
        "colab_type": "code",
        "colab": {
          "base_uri": "https://localhost:8080/",
          "height": 136
        },
        "outputId": "5094c08f-c655-4ee7-8b88-7c9238780927"
      },
      "cell_type": "code",
      "source": [
        "df2.\n",
        "\n",
        "# 본 함수는 실행하면 invalid syntax Error가 발생함"
      ],
      "execution_count": 10,
      "outputs": [
        {
          "output_type": "error",
          "ename": "SyntaxError",
          "evalue": "ignored",
          "traceback": [
            "\u001b[0;36m  File \u001b[0;32m\"<ipython-input-10-a13260a1daf7>\"\u001b[0;36m, line \u001b[0;32m1\u001b[0m\n\u001b[0;31m    df2.\u001b[0m\n\u001b[0m        ^\u001b[0m\n\u001b[0;31mSyntaxError\u001b[0m\u001b[0;31m:\u001b[0m invalid syntax\n"
          ]
        }
      ]
    },
    {
      "metadata": {
        "id": "o8OiKk4l5Von",
        "colab_type": "code",
        "colab": {
          "base_uri": "https://localhost:8080/",
          "height": 136
        },
        "outputId": "ef01a888-1b1b-4e01-cccb-7521780fb713"
      },
      "cell_type": "code",
      "source": [
        "# 참고로, Tab 버튼으로 자동 완성이 가능한 항목은 다음과 같음.\n",
        "\n",
        "df2.A                  df2.bool\n",
        "df2.abs                df2.boxplot\n",
        "df2.add                df2.C\n",
        "df2.add_prefix         df2.clip\n",
        "df2.add_suffix         df2.clip_lower\n",
        "df2.align              df2.clip_upper\n",
        "df2.all                df2.columns\n",
        "df2.any                df2.combine\n",
        "df2.append             df2.combine_first\n",
        "df2.apply              df2.compound\n",
        "df2.applymap           df2.consolidate\n",
        "df2.D\n",
        "\n",
        "# 본 항목도 실행하면 invalid syntax Error가 발생함."
      ],
      "execution_count": 12,
      "outputs": [
        {
          "output_type": "error",
          "ename": "SyntaxError",
          "evalue": "ignored",
          "traceback": [
            "\u001b[0;36m  File \u001b[0;32m\"<ipython-input-12-0ea27079c2f6>\"\u001b[0;36m, line \u001b[0;32m2\u001b[0m\n\u001b[0;31m    df2.A                  df2.bool\u001b[0m\n\u001b[0m                             ^\u001b[0m\n\u001b[0;31mSyntaxError\u001b[0m\u001b[0;31m:\u001b[0m invalid syntax\n"
          ]
        }
      ]
    },
    {
      "metadata": {
        "id": "Mb7isCeD5W-m",
        "colab_type": "text"
      },
      "cell_type": "markdown",
      "source": [
        "보신 바와 같이, A, B, C, D 열은 자동으로 Tab 완성됩니다. E 또한 마찬가지입니다. (나머지 항목은 간결함을 위해 생략합니다.)"
      ]
    },
    {
      "metadata": {
        "id": "0mkIWqsU6n3y",
        "colab_type": "text"
      },
      "cell_type": "markdown",
      "source": [
        "## 데이터 확인\n",
        "\n",
        "[기초 섹션](https://pandas.pydata.org/pandas-docs/stable/basics.html#basics)을 확인하십시오.\n",
        "\n",
        "다음은 프레임의 처음과 마지막 행을 보는 방법입니다."
      ]
    },
    {
      "metadata": {
        "id": "7PJJ8G5t7fzq",
        "colab_type": "code",
        "colab": {
          "base_uri": "https://localhost:8080/",
          "height": 204
        },
        "outputId": "5115b03b-a2b6-41fa-a664-cd77807d1819"
      },
      "cell_type": "code",
      "source": [
        "df.head()"
      ],
      "execution_count": 13,
      "outputs": [
        {
          "output_type": "execute_result",
          "data": {
            "text/html": [
              "<div>\n",
              "<style scoped>\n",
              "    .dataframe tbody tr th:only-of-type {\n",
              "        vertical-align: middle;\n",
              "    }\n",
              "\n",
              "    .dataframe tbody tr th {\n",
              "        vertical-align: top;\n",
              "    }\n",
              "\n",
              "    .dataframe thead th {\n",
              "        text-align: right;\n",
              "    }\n",
              "</style>\n",
              "<table border=\"1\" class=\"dataframe\">\n",
              "  <thead>\n",
              "    <tr style=\"text-align: right;\">\n",
              "      <th></th>\n",
              "      <th>A</th>\n",
              "      <th>B</th>\n",
              "      <th>C</th>\n",
              "      <th>D</th>\n",
              "    </tr>\n",
              "  </thead>\n",
              "  <tbody>\n",
              "    <tr>\n",
              "      <th>2013-01-01</th>\n",
              "      <td>-0.844384</td>\n",
              "      <td>0.201616</td>\n",
              "      <td>1.778816</td>\n",
              "      <td>0.244655</td>\n",
              "    </tr>\n",
              "    <tr>\n",
              "      <th>2013-01-02</th>\n",
              "      <td>-2.209277</td>\n",
              "      <td>0.828335</td>\n",
              "      <td>-0.936778</td>\n",
              "      <td>0.178987</td>\n",
              "    </tr>\n",
              "    <tr>\n",
              "      <th>2013-01-03</th>\n",
              "      <td>-1.337833</td>\n",
              "      <td>1.801974</td>\n",
              "      <td>-1.367746</td>\n",
              "      <td>-0.839407</td>\n",
              "    </tr>\n",
              "    <tr>\n",
              "      <th>2013-01-04</th>\n",
              "      <td>-0.548509</td>\n",
              "      <td>-1.458021</td>\n",
              "      <td>0.929009</td>\n",
              "      <td>0.040272</td>\n",
              "    </tr>\n",
              "    <tr>\n",
              "      <th>2013-01-05</th>\n",
              "      <td>-0.193988</td>\n",
              "      <td>0.391281</td>\n",
              "      <td>0.561286</td>\n",
              "      <td>0.230670</td>\n",
              "    </tr>\n",
              "  </tbody>\n",
              "</table>\n",
              "</div>"
            ],
            "text/plain": [
              "                   A         B         C         D\n",
              "2013-01-01 -0.844384  0.201616  1.778816  0.244655\n",
              "2013-01-02 -2.209277  0.828335 -0.936778  0.178987\n",
              "2013-01-03 -1.337833  1.801974 -1.367746 -0.839407\n",
              "2013-01-04 -0.548509 -1.458021  0.929009  0.040272\n",
              "2013-01-05 -0.193988  0.391281  0.561286  0.230670"
            ]
          },
          "metadata": {
            "tags": []
          },
          "execution_count": 13
        }
      ]
    },
    {
      "metadata": {
        "id": "RD4UkmIr7jxO",
        "colab_type": "code",
        "colab": {
          "base_uri": "https://localhost:8080/",
          "height": 142
        },
        "outputId": "19ecc7be-2665-46a2-9989-b7f6e22974f5"
      },
      "cell_type": "code",
      "source": [
        "df.tail(3)"
      ],
      "execution_count": 14,
      "outputs": [
        {
          "output_type": "execute_result",
          "data": {
            "text/html": [
              "<div>\n",
              "<style scoped>\n",
              "    .dataframe tbody tr th:only-of-type {\n",
              "        vertical-align: middle;\n",
              "    }\n",
              "\n",
              "    .dataframe tbody tr th {\n",
              "        vertical-align: top;\n",
              "    }\n",
              "\n",
              "    .dataframe thead th {\n",
              "        text-align: right;\n",
              "    }\n",
              "</style>\n",
              "<table border=\"1\" class=\"dataframe\">\n",
              "  <thead>\n",
              "    <tr style=\"text-align: right;\">\n",
              "      <th></th>\n",
              "      <th>A</th>\n",
              "      <th>B</th>\n",
              "      <th>C</th>\n",
              "      <th>D</th>\n",
              "    </tr>\n",
              "  </thead>\n",
              "  <tbody>\n",
              "    <tr>\n",
              "      <th>2013-01-04</th>\n",
              "      <td>-0.548509</td>\n",
              "      <td>-1.458021</td>\n",
              "      <td>0.929009</td>\n",
              "      <td>0.040272</td>\n",
              "    </tr>\n",
              "    <tr>\n",
              "      <th>2013-01-05</th>\n",
              "      <td>-0.193988</td>\n",
              "      <td>0.391281</td>\n",
              "      <td>0.561286</td>\n",
              "      <td>0.230670</td>\n",
              "    </tr>\n",
              "    <tr>\n",
              "      <th>2013-01-06</th>\n",
              "      <td>0.358212</td>\n",
              "      <td>-1.533466</td>\n",
              "      <td>-0.251480</td>\n",
              "      <td>2.194119</td>\n",
              "    </tr>\n",
              "  </tbody>\n",
              "</table>\n",
              "</div>"
            ],
            "text/plain": [
              "                   A         B         C         D\n",
              "2013-01-04 -0.548509 -1.458021  0.929009  0.040272\n",
              "2013-01-05 -0.193988  0.391281  0.561286  0.230670\n",
              "2013-01-06  0.358212 -1.533466 -0.251480  2.194119"
            ]
          },
          "metadata": {
            "tags": []
          },
          "execution_count": 14
        }
      ]
    },
    {
      "metadata": {
        "id": "-KaNZaK77n1i",
        "colab_type": "text"
      },
      "cell_type": "markdown",
      "source": [
        "NumPy 데이터의 인덱스, 열 및 기본 정보(underlying)를 확인해 봅시다."
      ]
    },
    {
      "metadata": {
        "id": "Pqn8Kg377-DI",
        "colab_type": "code",
        "colab": {
          "base_uri": "https://localhost:8080/",
          "height": 71
        },
        "outputId": "82a474b8-01c7-4390-e0fd-0310151eec69"
      },
      "cell_type": "code",
      "source": [
        "df.index"
      ],
      "execution_count": 15,
      "outputs": [
        {
          "output_type": "execute_result",
          "data": {
            "text/plain": [
              "DatetimeIndex(['2013-01-01', '2013-01-02', '2013-01-03', '2013-01-04',\n",
              "               '2013-01-05', '2013-01-06'],\n",
              "              dtype='datetime64[ns]', freq='D')"
            ]
          },
          "metadata": {
            "tags": []
          },
          "execution_count": 15
        }
      ]
    },
    {
      "metadata": {
        "id": "MeDbjRGM8Dn9",
        "colab_type": "code",
        "colab": {
          "base_uri": "https://localhost:8080/",
          "height": 35
        },
        "outputId": "ad0b46ff-6730-4c4d-c204-920bc98f57ec"
      },
      "cell_type": "code",
      "source": [
        "df.columns"
      ],
      "execution_count": 16,
      "outputs": [
        {
          "output_type": "execute_result",
          "data": {
            "text/plain": [
              "Index(['A', 'B', 'C', 'D'], dtype='object')"
            ]
          },
          "metadata": {
            "tags": []
          },
          "execution_count": 16
        }
      ]
    },
    {
      "metadata": {
        "id": "2IZO8m6y8HK8",
        "colab_type": "code",
        "colab": {
          "base_uri": "https://localhost:8080/",
          "height": 125
        },
        "outputId": "8b4e5938-45ef-455f-bb6d-193d761ef400"
      },
      "cell_type": "code",
      "source": [
        "df.values"
      ],
      "execution_count": 17,
      "outputs": [
        {
          "output_type": "execute_result",
          "data": {
            "text/plain": [
              "array([[-0.84438367,  0.20161619,  1.77881636,  0.24465453],\n",
              "       [-2.20927699,  0.82833494, -0.93677785,  0.17898669],\n",
              "       [-1.33783285,  1.80197372, -1.36774638, -0.8394066 ],\n",
              "       [-0.54850891, -1.45802077,  0.92900859,  0.04027194],\n",
              "       [-0.19398759,  0.39128116,  0.56128637,  0.23066952],\n",
              "       [ 0.35821157, -1.5334665 , -0.25148043,  2.19411888]])"
            ]
          },
          "metadata": {
            "tags": []
          },
          "execution_count": 17
        }
      ]
    },
    {
      "metadata": {
        "id": "iFE6PT0L8MGk",
        "colab_type": "text"
      },
      "cell_type": "markdown",
      "source": [
        "describe() 는 데이터의 빠른 통계적 요약을 보여줍니다."
      ]
    },
    {
      "metadata": {
        "id": "BGbRvM4K8YjM",
        "colab_type": "code",
        "colab": {
          "base_uri": "https://localhost:8080/",
          "height": 297
        },
        "outputId": "184cd642-cfbd-4cb6-fa63-be187a452c00"
      },
      "cell_type": "code",
      "source": [
        "df.describe()"
      ],
      "execution_count": 18,
      "outputs": [
        {
          "output_type": "execute_result",
          "data": {
            "text/html": [
              "<div>\n",
              "<style scoped>\n",
              "    .dataframe tbody tr th:only-of-type {\n",
              "        vertical-align: middle;\n",
              "    }\n",
              "\n",
              "    .dataframe tbody tr th {\n",
              "        vertical-align: top;\n",
              "    }\n",
              "\n",
              "    .dataframe thead th {\n",
              "        text-align: right;\n",
              "    }\n",
              "</style>\n",
              "<table border=\"1\" class=\"dataframe\">\n",
              "  <thead>\n",
              "    <tr style=\"text-align: right;\">\n",
              "      <th></th>\n",
              "      <th>A</th>\n",
              "      <th>B</th>\n",
              "      <th>C</th>\n",
              "      <th>D</th>\n",
              "    </tr>\n",
              "  </thead>\n",
              "  <tbody>\n",
              "    <tr>\n",
              "      <th>count</th>\n",
              "      <td>6.000000</td>\n",
              "      <td>6.000000</td>\n",
              "      <td>6.000000</td>\n",
              "      <td>6.000000</td>\n",
              "    </tr>\n",
              "    <tr>\n",
              "      <th>mean</th>\n",
              "      <td>-0.795963</td>\n",
              "      <td>0.038620</td>\n",
              "      <td>0.118851</td>\n",
              "      <td>0.341549</td>\n",
              "    </tr>\n",
              "    <tr>\n",
              "      <th>std</th>\n",
              "      <td>0.899906</td>\n",
              "      <td>1.311136</td>\n",
              "      <td>1.189038</td>\n",
              "      <td>0.996549</td>\n",
              "    </tr>\n",
              "    <tr>\n",
              "      <th>min</th>\n",
              "      <td>-2.209277</td>\n",
              "      <td>-1.533466</td>\n",
              "      <td>-1.367746</td>\n",
              "      <td>-0.839407</td>\n",
              "    </tr>\n",
              "    <tr>\n",
              "      <th>25%</th>\n",
              "      <td>-1.214471</td>\n",
              "      <td>-1.043112</td>\n",
              "      <td>-0.765453</td>\n",
              "      <td>0.074951</td>\n",
              "    </tr>\n",
              "    <tr>\n",
              "      <th>50%</th>\n",
              "      <td>-0.696446</td>\n",
              "      <td>0.296449</td>\n",
              "      <td>0.154903</td>\n",
              "      <td>0.204828</td>\n",
              "    </tr>\n",
              "    <tr>\n",
              "      <th>75%</th>\n",
              "      <td>-0.282618</td>\n",
              "      <td>0.719071</td>\n",
              "      <td>0.837078</td>\n",
              "      <td>0.241158</td>\n",
              "    </tr>\n",
              "    <tr>\n",
              "      <th>max</th>\n",
              "      <td>0.358212</td>\n",
              "      <td>1.801974</td>\n",
              "      <td>1.778816</td>\n",
              "      <td>2.194119</td>\n",
              "    </tr>\n",
              "  </tbody>\n",
              "</table>\n",
              "</div>"
            ],
            "text/plain": [
              "              A         B         C         D\n",
              "count  6.000000  6.000000  6.000000  6.000000\n",
              "mean  -0.795963  0.038620  0.118851  0.341549\n",
              "std    0.899906  1.311136  1.189038  0.996549\n",
              "min   -2.209277 -1.533466 -1.367746 -0.839407\n",
              "25%   -1.214471 -1.043112 -0.765453  0.074951\n",
              "50%   -0.696446  0.296449  0.154903  0.204828\n",
              "75%   -0.282618  0.719071  0.837078  0.241158\n",
              "max    0.358212  1.801974  1.778816  2.194119"
            ]
          },
          "metadata": {
            "tags": []
          },
          "execution_count": 18
        }
      ]
    },
    {
      "metadata": {
        "id": "2sN2Hz218nSK",
        "colab_type": "text"
      },
      "cell_type": "markdown",
      "source": [
        "데이터를 전이해보겠습니다.\n",
        "\n",
        "(역자 주 : 데이터의 행과 열을 서로 바꾸는 것을 의미하는 듯)"
      ]
    },
    {
      "metadata": {
        "id": "8oXNEM7p8sIr",
        "colab_type": "code",
        "colab": {
          "base_uri": "https://localhost:8080/",
          "height": 173
        },
        "outputId": "e70409a4-4e20-4af4-aebb-1e43bca1cc76"
      },
      "cell_type": "code",
      "source": [
        "df.T"
      ],
      "execution_count": 19,
      "outputs": [
        {
          "output_type": "execute_result",
          "data": {
            "text/html": [
              "<div>\n",
              "<style scoped>\n",
              "    .dataframe tbody tr th:only-of-type {\n",
              "        vertical-align: middle;\n",
              "    }\n",
              "\n",
              "    .dataframe tbody tr th {\n",
              "        vertical-align: top;\n",
              "    }\n",
              "\n",
              "    .dataframe thead th {\n",
              "        text-align: right;\n",
              "    }\n",
              "</style>\n",
              "<table border=\"1\" class=\"dataframe\">\n",
              "  <thead>\n",
              "    <tr style=\"text-align: right;\">\n",
              "      <th></th>\n",
              "      <th>2013-01-01 00:00:00</th>\n",
              "      <th>2013-01-02 00:00:00</th>\n",
              "      <th>2013-01-03 00:00:00</th>\n",
              "      <th>2013-01-04 00:00:00</th>\n",
              "      <th>2013-01-05 00:00:00</th>\n",
              "      <th>2013-01-06 00:00:00</th>\n",
              "    </tr>\n",
              "  </thead>\n",
              "  <tbody>\n",
              "    <tr>\n",
              "      <th>A</th>\n",
              "      <td>-0.844384</td>\n",
              "      <td>-2.209277</td>\n",
              "      <td>-1.337833</td>\n",
              "      <td>-0.548509</td>\n",
              "      <td>-0.193988</td>\n",
              "      <td>0.358212</td>\n",
              "    </tr>\n",
              "    <tr>\n",
              "      <th>B</th>\n",
              "      <td>0.201616</td>\n",
              "      <td>0.828335</td>\n",
              "      <td>1.801974</td>\n",
              "      <td>-1.458021</td>\n",
              "      <td>0.391281</td>\n",
              "      <td>-1.533466</td>\n",
              "    </tr>\n",
              "    <tr>\n",
              "      <th>C</th>\n",
              "      <td>1.778816</td>\n",
              "      <td>-0.936778</td>\n",
              "      <td>-1.367746</td>\n",
              "      <td>0.929009</td>\n",
              "      <td>0.561286</td>\n",
              "      <td>-0.251480</td>\n",
              "    </tr>\n",
              "    <tr>\n",
              "      <th>D</th>\n",
              "      <td>0.244655</td>\n",
              "      <td>0.178987</td>\n",
              "      <td>-0.839407</td>\n",
              "      <td>0.040272</td>\n",
              "      <td>0.230670</td>\n",
              "      <td>2.194119</td>\n",
              "    </tr>\n",
              "  </tbody>\n",
              "</table>\n",
              "</div>"
            ],
            "text/plain": [
              "   2013-01-01  2013-01-02  2013-01-03  2013-01-04  2013-01-05  2013-01-06\n",
              "A   -0.844384   -2.209277   -1.337833   -0.548509   -0.193988    0.358212\n",
              "B    0.201616    0.828335    1.801974   -1.458021    0.391281   -1.533466\n",
              "C    1.778816   -0.936778   -1.367746    0.929009    0.561286   -0.251480\n",
              "D    0.244655    0.178987   -0.839407    0.040272    0.230670    2.194119"
            ]
          },
          "metadata": {
            "tags": []
          },
          "execution_count": 19
        }
      ]
    },
    {
      "metadata": {
        "id": "d5N_uNCB8zbE",
        "colab_type": "text"
      },
      "cell_type": "markdown",
      "source": [
        "축을 기준으로 정렬합니다."
      ]
    },
    {
      "metadata": {
        "id": "EJzHV8z7843p",
        "colab_type": "code",
        "colab": {
          "base_uri": "https://localhost:8080/",
          "height": 235
        },
        "outputId": "3a54628f-0c3b-4bf7-bd74-1a9dee63a3a1"
      },
      "cell_type": "code",
      "source": [
        "df.sort_index(axis=1, ascending=False)"
      ],
      "execution_count": 20,
      "outputs": [
        {
          "output_type": "execute_result",
          "data": {
            "text/html": [
              "<div>\n",
              "<style scoped>\n",
              "    .dataframe tbody tr th:only-of-type {\n",
              "        vertical-align: middle;\n",
              "    }\n",
              "\n",
              "    .dataframe tbody tr th {\n",
              "        vertical-align: top;\n",
              "    }\n",
              "\n",
              "    .dataframe thead th {\n",
              "        text-align: right;\n",
              "    }\n",
              "</style>\n",
              "<table border=\"1\" class=\"dataframe\">\n",
              "  <thead>\n",
              "    <tr style=\"text-align: right;\">\n",
              "      <th></th>\n",
              "      <th>D</th>\n",
              "      <th>C</th>\n",
              "      <th>B</th>\n",
              "      <th>A</th>\n",
              "    </tr>\n",
              "  </thead>\n",
              "  <tbody>\n",
              "    <tr>\n",
              "      <th>2013-01-01</th>\n",
              "      <td>0.244655</td>\n",
              "      <td>1.778816</td>\n",
              "      <td>0.201616</td>\n",
              "      <td>-0.844384</td>\n",
              "    </tr>\n",
              "    <tr>\n",
              "      <th>2013-01-02</th>\n",
              "      <td>0.178987</td>\n",
              "      <td>-0.936778</td>\n",
              "      <td>0.828335</td>\n",
              "      <td>-2.209277</td>\n",
              "    </tr>\n",
              "    <tr>\n",
              "      <th>2013-01-03</th>\n",
              "      <td>-0.839407</td>\n",
              "      <td>-1.367746</td>\n",
              "      <td>1.801974</td>\n",
              "      <td>-1.337833</td>\n",
              "    </tr>\n",
              "    <tr>\n",
              "      <th>2013-01-04</th>\n",
              "      <td>0.040272</td>\n",
              "      <td>0.929009</td>\n",
              "      <td>-1.458021</td>\n",
              "      <td>-0.548509</td>\n",
              "    </tr>\n",
              "    <tr>\n",
              "      <th>2013-01-05</th>\n",
              "      <td>0.230670</td>\n",
              "      <td>0.561286</td>\n",
              "      <td>0.391281</td>\n",
              "      <td>-0.193988</td>\n",
              "    </tr>\n",
              "    <tr>\n",
              "      <th>2013-01-06</th>\n",
              "      <td>2.194119</td>\n",
              "      <td>-0.251480</td>\n",
              "      <td>-1.533466</td>\n",
              "      <td>0.358212</td>\n",
              "    </tr>\n",
              "  </tbody>\n",
              "</table>\n",
              "</div>"
            ],
            "text/plain": [
              "                   D         C         B         A\n",
              "2013-01-01  0.244655  1.778816  0.201616 -0.844384\n",
              "2013-01-02  0.178987 -0.936778  0.828335 -2.209277\n",
              "2013-01-03 -0.839407 -1.367746  1.801974 -1.337833\n",
              "2013-01-04  0.040272  0.929009 -1.458021 -0.548509\n",
              "2013-01-05  0.230670  0.561286  0.391281 -0.193988\n",
              "2013-01-06  2.194119 -0.251480 -1.533466  0.358212"
            ]
          },
          "metadata": {
            "tags": []
          },
          "execution_count": 20
        }
      ]
    },
    {
      "metadata": {
        "id": "0n3F0KCw9Bdz",
        "colab_type": "text"
      },
      "cell_type": "markdown",
      "source": [
        "값을 기준으로 정렬합니다."
      ]
    },
    {
      "metadata": {
        "id": "rA3QxS-v9C_3",
        "colab_type": "code",
        "colab": {
          "base_uri": "https://localhost:8080/",
          "height": 235
        },
        "outputId": "cdd06792-24d8-4c0d-e89a-044c9b81829a"
      },
      "cell_type": "code",
      "source": [
        "df.sort_values(by='B')"
      ],
      "execution_count": 21,
      "outputs": [
        {
          "output_type": "execute_result",
          "data": {
            "text/html": [
              "<div>\n",
              "<style scoped>\n",
              "    .dataframe tbody tr th:only-of-type {\n",
              "        vertical-align: middle;\n",
              "    }\n",
              "\n",
              "    .dataframe tbody tr th {\n",
              "        vertical-align: top;\n",
              "    }\n",
              "\n",
              "    .dataframe thead th {\n",
              "        text-align: right;\n",
              "    }\n",
              "</style>\n",
              "<table border=\"1\" class=\"dataframe\">\n",
              "  <thead>\n",
              "    <tr style=\"text-align: right;\">\n",
              "      <th></th>\n",
              "      <th>A</th>\n",
              "      <th>B</th>\n",
              "      <th>C</th>\n",
              "      <th>D</th>\n",
              "    </tr>\n",
              "  </thead>\n",
              "  <tbody>\n",
              "    <tr>\n",
              "      <th>2013-01-06</th>\n",
              "      <td>0.358212</td>\n",
              "      <td>-1.533466</td>\n",
              "      <td>-0.251480</td>\n",
              "      <td>2.194119</td>\n",
              "    </tr>\n",
              "    <tr>\n",
              "      <th>2013-01-04</th>\n",
              "      <td>-0.548509</td>\n",
              "      <td>-1.458021</td>\n",
              "      <td>0.929009</td>\n",
              "      <td>0.040272</td>\n",
              "    </tr>\n",
              "    <tr>\n",
              "      <th>2013-01-01</th>\n",
              "      <td>-0.844384</td>\n",
              "      <td>0.201616</td>\n",
              "      <td>1.778816</td>\n",
              "      <td>0.244655</td>\n",
              "    </tr>\n",
              "    <tr>\n",
              "      <th>2013-01-05</th>\n",
              "      <td>-0.193988</td>\n",
              "      <td>0.391281</td>\n",
              "      <td>0.561286</td>\n",
              "      <td>0.230670</td>\n",
              "    </tr>\n",
              "    <tr>\n",
              "      <th>2013-01-02</th>\n",
              "      <td>-2.209277</td>\n",
              "      <td>0.828335</td>\n",
              "      <td>-0.936778</td>\n",
              "      <td>0.178987</td>\n",
              "    </tr>\n",
              "    <tr>\n",
              "      <th>2013-01-03</th>\n",
              "      <td>-1.337833</td>\n",
              "      <td>1.801974</td>\n",
              "      <td>-1.367746</td>\n",
              "      <td>-0.839407</td>\n",
              "    </tr>\n",
              "  </tbody>\n",
              "</table>\n",
              "</div>"
            ],
            "text/plain": [
              "                   A         B         C         D\n",
              "2013-01-06  0.358212 -1.533466 -0.251480  2.194119\n",
              "2013-01-04 -0.548509 -1.458021  0.929009  0.040272\n",
              "2013-01-01 -0.844384  0.201616  1.778816  0.244655\n",
              "2013-01-05 -0.193988  0.391281  0.561286  0.230670\n",
              "2013-01-02 -2.209277  0.828335 -0.936778  0.178987\n",
              "2013-01-03 -1.337833  1.801974 -1.367746 -0.839407"
            ]
          },
          "metadata": {
            "tags": []
          },
          "execution_count": 21
        }
      ]
    },
    {
      "metadata": {
        "id": "XOG-lL0G9M7f",
        "colab_type": "text"
      },
      "cell_type": "markdown",
      "source": [
        "## 선택\n",
        "\n",
        "주 : 선택과 설정을 위한 Python, Numpy의 표준화된 표현들이 직관적이며, 코드 작성을 위한 양방향 작업에 유용하지만 우리는 Pandas에 최적화된 데이터 접근 방법인 .at, .iat, .loc 및 .iloc. 을 추천합니다. \n",
        "\n",
        "[데이터 인덱싱 및 선택](https://pandas.pydata.org/pandas-docs/stable/indexing.html#indexing) 문서와 [다중 인덱싱 / 심화 인덱싱](https://pandas.pydata.org/pandas-docs/stable/advanced.html#advanced) 문서를 확인하십시오."
      ]
    },
    {
      "metadata": {
        "id": "mizkjXq0-i9w",
        "colab_type": "text"
      },
      "cell_type": "markdown",
      "source": [
        "### 얻기\n",
        "\n",
        "df.A 와 동일한 Series를 생성하는 단일 열을 선택합니다."
      ]
    },
    {
      "metadata": {
        "id": "CsTYgDQF_GqF",
        "colab_type": "code",
        "colab": {
          "base_uri": "https://localhost:8080/",
          "height": 143
        },
        "outputId": "e076878d-e106-4d1b-ca0e-9a10d0d56c80"
      },
      "cell_type": "code",
      "source": [
        "df['A']"
      ],
      "execution_count": 22,
      "outputs": [
        {
          "output_type": "execute_result",
          "data": {
            "text/plain": [
              "2013-01-01   -0.844384\n",
              "2013-01-02   -2.209277\n",
              "2013-01-03   -1.337833\n",
              "2013-01-04   -0.548509\n",
              "2013-01-05   -0.193988\n",
              "2013-01-06    0.358212\n",
              "Freq: D, Name: A, dtype: float64"
            ]
          },
          "metadata": {
            "tags": []
          },
          "execution_count": 22
        }
      ]
    },
    {
      "metadata": {
        "id": "JYsZdjR2_Mr2",
        "colab_type": "text"
      },
      "cell_type": "markdown",
      "source": [
        "행을 분할하는 [] 를 통해 선택합니다."
      ]
    },
    {
      "metadata": {
        "id": "5S8kpiRr_WR9",
        "colab_type": "code",
        "colab": {
          "base_uri": "https://localhost:8080/",
          "height": 142
        },
        "outputId": "7b5e2377-7486-47e4-bf66-9773a1fe26f9"
      },
      "cell_type": "code",
      "source": [
        "df[0:3]"
      ],
      "execution_count": 23,
      "outputs": [
        {
          "output_type": "execute_result",
          "data": {
            "text/html": [
              "<div>\n",
              "<style scoped>\n",
              "    .dataframe tbody tr th:only-of-type {\n",
              "        vertical-align: middle;\n",
              "    }\n",
              "\n",
              "    .dataframe tbody tr th {\n",
              "        vertical-align: top;\n",
              "    }\n",
              "\n",
              "    .dataframe thead th {\n",
              "        text-align: right;\n",
              "    }\n",
              "</style>\n",
              "<table border=\"1\" class=\"dataframe\">\n",
              "  <thead>\n",
              "    <tr style=\"text-align: right;\">\n",
              "      <th></th>\n",
              "      <th>A</th>\n",
              "      <th>B</th>\n",
              "      <th>C</th>\n",
              "      <th>D</th>\n",
              "    </tr>\n",
              "  </thead>\n",
              "  <tbody>\n",
              "    <tr>\n",
              "      <th>2013-01-01</th>\n",
              "      <td>-0.844384</td>\n",
              "      <td>0.201616</td>\n",
              "      <td>1.778816</td>\n",
              "      <td>0.244655</td>\n",
              "    </tr>\n",
              "    <tr>\n",
              "      <th>2013-01-02</th>\n",
              "      <td>-2.209277</td>\n",
              "      <td>0.828335</td>\n",
              "      <td>-0.936778</td>\n",
              "      <td>0.178987</td>\n",
              "    </tr>\n",
              "    <tr>\n",
              "      <th>2013-01-03</th>\n",
              "      <td>-1.337833</td>\n",
              "      <td>1.801974</td>\n",
              "      <td>-1.367746</td>\n",
              "      <td>-0.839407</td>\n",
              "    </tr>\n",
              "  </tbody>\n",
              "</table>\n",
              "</div>"
            ],
            "text/plain": [
              "                   A         B         C         D\n",
              "2013-01-01 -0.844384  0.201616  1.778816  0.244655\n",
              "2013-01-02 -2.209277  0.828335 -0.936778  0.178987\n",
              "2013-01-03 -1.337833  1.801974 -1.367746 -0.839407"
            ]
          },
          "metadata": {
            "tags": []
          },
          "execution_count": 23
        }
      ]
    },
    {
      "metadata": {
        "id": "PKYr3afa_ZvG",
        "colab_type": "code",
        "colab": {
          "base_uri": "https://localhost:8080/",
          "height": 142
        },
        "outputId": "8d6f8b91-7097-4028-9b1a-0fab18b082e6"
      },
      "cell_type": "code",
      "source": [
        "df['20130102':'20130104']"
      ],
      "execution_count": 24,
      "outputs": [
        {
          "output_type": "execute_result",
          "data": {
            "text/html": [
              "<div>\n",
              "<style scoped>\n",
              "    .dataframe tbody tr th:only-of-type {\n",
              "        vertical-align: middle;\n",
              "    }\n",
              "\n",
              "    .dataframe tbody tr th {\n",
              "        vertical-align: top;\n",
              "    }\n",
              "\n",
              "    .dataframe thead th {\n",
              "        text-align: right;\n",
              "    }\n",
              "</style>\n",
              "<table border=\"1\" class=\"dataframe\">\n",
              "  <thead>\n",
              "    <tr style=\"text-align: right;\">\n",
              "      <th></th>\n",
              "      <th>A</th>\n",
              "      <th>B</th>\n",
              "      <th>C</th>\n",
              "      <th>D</th>\n",
              "    </tr>\n",
              "  </thead>\n",
              "  <tbody>\n",
              "    <tr>\n",
              "      <th>2013-01-02</th>\n",
              "      <td>-2.209277</td>\n",
              "      <td>0.828335</td>\n",
              "      <td>-0.936778</td>\n",
              "      <td>0.178987</td>\n",
              "    </tr>\n",
              "    <tr>\n",
              "      <th>2013-01-03</th>\n",
              "      <td>-1.337833</td>\n",
              "      <td>1.801974</td>\n",
              "      <td>-1.367746</td>\n",
              "      <td>-0.839407</td>\n",
              "    </tr>\n",
              "    <tr>\n",
              "      <th>2013-01-04</th>\n",
              "      <td>-0.548509</td>\n",
              "      <td>-1.458021</td>\n",
              "      <td>0.929009</td>\n",
              "      <td>0.040272</td>\n",
              "    </tr>\n",
              "  </tbody>\n",
              "</table>\n",
              "</div>"
            ],
            "text/plain": [
              "                   A         B         C         D\n",
              "2013-01-02 -2.209277  0.828335 -0.936778  0.178987\n",
              "2013-01-03 -1.337833  1.801974 -1.367746 -0.839407\n",
              "2013-01-04 -0.548509 -1.458021  0.929009  0.040272"
            ]
          },
          "metadata": {
            "tags": []
          },
          "execution_count": 24
        }
      ]
    },
    {
      "metadata": {
        "id": "VK35XdZJ_eqt",
        "colab_type": "text"
      },
      "cell_type": "markdown",
      "source": [
        "### Label 을 통한 선택\n",
        "\n",
        "[Label을 통한 선택](https://pandas.pydata.org/pandas-docs/stable/indexing.html#indexing-label)에서 더 많은 내용을 확인하세요.\n",
        "\n",
        "라벨을 사용하여 횡단면을 얻는 방법입니다."
      ]
    },
    {
      "metadata": {
        "id": "R1i72qhc_8qy",
        "colab_type": "code",
        "colab": {
          "base_uri": "https://localhost:8080/",
          "height": 107
        },
        "outputId": "1b37f7ca-eb83-4ad7-ecef-747f7546df83"
      },
      "cell_type": "code",
      "source": [
        "df.loc[dates[0]]"
      ],
      "execution_count": 25,
      "outputs": [
        {
          "output_type": "execute_result",
          "data": {
            "text/plain": [
              "A   -0.844384\n",
              "B    0.201616\n",
              "C    1.778816\n",
              "D    0.244655\n",
              "Name: 2013-01-01 00:00:00, dtype: float64"
            ]
          },
          "metadata": {
            "tags": []
          },
          "execution_count": 25
        }
      ]
    },
    {
      "metadata": {
        "id": "bE9Is_g5ACrA",
        "colab_type": "text"
      },
      "cell_type": "markdown",
      "source": [
        "라벨을 사용하여 여러 축(의 데이터)을 얻는 방법입니다."
      ]
    },
    {
      "metadata": {
        "id": "FBP-My_HAOLW",
        "colab_type": "code",
        "colab": {
          "base_uri": "https://localhost:8080/",
          "height": 235
        },
        "outputId": "1d2922e3-2bb2-4c21-fd69-7a6cf2894aa3"
      },
      "cell_type": "code",
      "source": [
        "df.loc[:,['A','B']]"
      ],
      "execution_count": 26,
      "outputs": [
        {
          "output_type": "execute_result",
          "data": {
            "text/html": [
              "<div>\n",
              "<style scoped>\n",
              "    .dataframe tbody tr th:only-of-type {\n",
              "        vertical-align: middle;\n",
              "    }\n",
              "\n",
              "    .dataframe tbody tr th {\n",
              "        vertical-align: top;\n",
              "    }\n",
              "\n",
              "    .dataframe thead th {\n",
              "        text-align: right;\n",
              "    }\n",
              "</style>\n",
              "<table border=\"1\" class=\"dataframe\">\n",
              "  <thead>\n",
              "    <tr style=\"text-align: right;\">\n",
              "      <th></th>\n",
              "      <th>A</th>\n",
              "      <th>B</th>\n",
              "    </tr>\n",
              "  </thead>\n",
              "  <tbody>\n",
              "    <tr>\n",
              "      <th>2013-01-01</th>\n",
              "      <td>-0.844384</td>\n",
              "      <td>0.201616</td>\n",
              "    </tr>\n",
              "    <tr>\n",
              "      <th>2013-01-02</th>\n",
              "      <td>-2.209277</td>\n",
              "      <td>0.828335</td>\n",
              "    </tr>\n",
              "    <tr>\n",
              "      <th>2013-01-03</th>\n",
              "      <td>-1.337833</td>\n",
              "      <td>1.801974</td>\n",
              "    </tr>\n",
              "    <tr>\n",
              "      <th>2013-01-04</th>\n",
              "      <td>-0.548509</td>\n",
              "      <td>-1.458021</td>\n",
              "    </tr>\n",
              "    <tr>\n",
              "      <th>2013-01-05</th>\n",
              "      <td>-0.193988</td>\n",
              "      <td>0.391281</td>\n",
              "    </tr>\n",
              "    <tr>\n",
              "      <th>2013-01-06</th>\n",
              "      <td>0.358212</td>\n",
              "      <td>-1.533466</td>\n",
              "    </tr>\n",
              "  </tbody>\n",
              "</table>\n",
              "</div>"
            ],
            "text/plain": [
              "                   A         B\n",
              "2013-01-01 -0.844384  0.201616\n",
              "2013-01-02 -2.209277  0.828335\n",
              "2013-01-03 -1.337833  1.801974\n",
              "2013-01-04 -0.548509 -1.458021\n",
              "2013-01-05 -0.193988  0.391281\n",
              "2013-01-06  0.358212 -1.533466"
            ]
          },
          "metadata": {
            "tags": []
          },
          "execution_count": 26
        }
      ]
    },
    {
      "metadata": {
        "id": "YIAe4tpRAWVl",
        "colab_type": "text"
      },
      "cell_type": "markdown",
      "source": [
        "양쪽 종단점을 포함한 라벨 슬라이싱을 봅시다."
      ]
    },
    {
      "metadata": {
        "id": "yQv-6k8LAlqB",
        "colab_type": "code",
        "colab": {
          "base_uri": "https://localhost:8080/",
          "height": 142
        },
        "outputId": "e6a256f0-25ca-4ac0-c5cb-4e0f6951a684"
      },
      "cell_type": "code",
      "source": [
        "df.loc['20130102':'20130104', ['A','B']]"
      ],
      "execution_count": 27,
      "outputs": [
        {
          "output_type": "execute_result",
          "data": {
            "text/html": [
              "<div>\n",
              "<style scoped>\n",
              "    .dataframe tbody tr th:only-of-type {\n",
              "        vertical-align: middle;\n",
              "    }\n",
              "\n",
              "    .dataframe tbody tr th {\n",
              "        vertical-align: top;\n",
              "    }\n",
              "\n",
              "    .dataframe thead th {\n",
              "        text-align: right;\n",
              "    }\n",
              "</style>\n",
              "<table border=\"1\" class=\"dataframe\">\n",
              "  <thead>\n",
              "    <tr style=\"text-align: right;\">\n",
              "      <th></th>\n",
              "      <th>A</th>\n",
              "      <th>B</th>\n",
              "    </tr>\n",
              "  </thead>\n",
              "  <tbody>\n",
              "    <tr>\n",
              "      <th>2013-01-02</th>\n",
              "      <td>-2.209277</td>\n",
              "      <td>0.828335</td>\n",
              "    </tr>\n",
              "    <tr>\n",
              "      <th>2013-01-03</th>\n",
              "      <td>-1.337833</td>\n",
              "      <td>1.801974</td>\n",
              "    </tr>\n",
              "    <tr>\n",
              "      <th>2013-01-04</th>\n",
              "      <td>-0.548509</td>\n",
              "      <td>-1.458021</td>\n",
              "    </tr>\n",
              "  </tbody>\n",
              "</table>\n",
              "</div>"
            ],
            "text/plain": [
              "                   A         B\n",
              "2013-01-02 -2.209277  0.828335\n",
              "2013-01-03 -1.337833  1.801974\n",
              "2013-01-04 -0.548509 -1.458021"
            ]
          },
          "metadata": {
            "tags": []
          },
          "execution_count": 27
        }
      ]
    },
    {
      "metadata": {
        "id": "pyv6WrwkAxFu",
        "colab_type": "text"
      },
      "cell_type": "markdown",
      "source": [
        "반환되는 객체의 크기를 줄입니다."
      ]
    },
    {
      "metadata": {
        "id": "Dd1XtVS3BNIv",
        "colab_type": "code",
        "colab": {
          "base_uri": "https://localhost:8080/",
          "height": 71
        },
        "outputId": "ae40e5a5-ce3f-44d4-e842-f943d7a88726"
      },
      "cell_type": "code",
      "source": [
        "df.loc['20130102',['A','B']]"
      ],
      "execution_count": 28,
      "outputs": [
        {
          "output_type": "execute_result",
          "data": {
            "text/plain": [
              "A   -2.209277\n",
              "B    0.828335\n",
              "Name: 2013-01-02 00:00:00, dtype: float64"
            ]
          },
          "metadata": {
            "tags": []
          },
          "execution_count": 28
        }
      ]
    },
    {
      "metadata": {
        "id": "gYp0GPDoBVfH",
        "colab_type": "text"
      },
      "cell_type": "markdown",
      "source": [
        "스칼라 값을 얻습니다."
      ]
    },
    {
      "metadata": {
        "id": "rVuofl7pBdWq",
        "colab_type": "code",
        "colab": {
          "base_uri": "https://localhost:8080/",
          "height": 35
        },
        "outputId": "9091cf23-03ff-4e7c-9f50-7945582961b0"
      },
      "cell_type": "code",
      "source": [
        "df.loc[dates[0],'A']"
      ],
      "execution_count": 29,
      "outputs": [
        {
          "output_type": "execute_result",
          "data": {
            "text/plain": [
              "-0.8443836703546894"
            ]
          },
          "metadata": {
            "tags": []
          },
          "execution_count": 29
        }
      ]
    },
    {
      "metadata": {
        "id": "nYqCR5moBkqU",
        "colab_type": "text"
      },
      "cell_type": "markdown",
      "source": [
        "스칼라 값을 더 빠르게 구하는 방법입니다. (앞선 method와 동일합니다)"
      ]
    },
    {
      "metadata": {
        "id": "d5eiZc2CB0x4",
        "colab_type": "code",
        "colab": {
          "base_uri": "https://localhost:8080/",
          "height": 35
        },
        "outputId": "661f3a60-f63e-4a73-c875-cfc6b012f327"
      },
      "cell_type": "code",
      "source": [
        "df.at[dates[0],'A']"
      ],
      "execution_count": 30,
      "outputs": [
        {
          "output_type": "execute_result",
          "data": {
            "text/plain": [
              "-0.8443836703546894"
            ]
          },
          "metadata": {
            "tags": []
          },
          "execution_count": 30
        }
      ]
    },
    {
      "metadata": {
        "id": "4Vvo9ywsB7AA",
        "colab_type": "text"
      },
      "cell_type": "markdown",
      "source": [
        "### 위치를 통한 선택\n",
        "\n",
        "[위치를 통한 선택 문서](https://pandas.pydata.org/pandas-docs/stable/indexing.html#indexing-integer)에서 더 많은 내용을 확인하세요.\n",
        "\n",
        "전달되는 정수의 위치를 통해 선택합니다."
      ]
    },
    {
      "metadata": {
        "id": "CBlfYmrYCUde",
        "colab_type": "code",
        "colab": {
          "base_uri": "https://localhost:8080/",
          "height": 107
        },
        "outputId": "50b1ecd0-558e-4c1a-b146-50d9d8a52d32"
      },
      "cell_type": "code",
      "source": [
        "df.iloc[3]"
      ],
      "execution_count": 31,
      "outputs": [
        {
          "output_type": "execute_result",
          "data": {
            "text/plain": [
              "A   -0.548509\n",
              "B   -1.458021\n",
              "C    0.929009\n",
              "D    0.040272\n",
              "Name: 2013-01-04 00:00:00, dtype: float64"
            ]
          },
          "metadata": {
            "tags": []
          },
          "execution_count": 31
        }
      ]
    },
    {
      "metadata": {
        "id": "yXc7ubmZCXPV",
        "colab_type": "text"
      },
      "cell_type": "markdown",
      "source": [
        "정수 슬라이스를 통해 Numpy, Python과 유사하게 작동할 수 있습니다."
      ]
    },
    {
      "metadata": {
        "id": "BwWSe3GbCiVz",
        "colab_type": "code",
        "colab": {
          "base_uri": "https://localhost:8080/",
          "height": 111
        },
        "outputId": "3456aed9-0326-4d5e-dcd4-f683f7940cd4"
      },
      "cell_type": "code",
      "source": [
        "df.iloc[3:5, 0:2]"
      ],
      "execution_count": 32,
      "outputs": [
        {
          "output_type": "execute_result",
          "data": {
            "text/html": [
              "<div>\n",
              "<style scoped>\n",
              "    .dataframe tbody tr th:only-of-type {\n",
              "        vertical-align: middle;\n",
              "    }\n",
              "\n",
              "    .dataframe tbody tr th {\n",
              "        vertical-align: top;\n",
              "    }\n",
              "\n",
              "    .dataframe thead th {\n",
              "        text-align: right;\n",
              "    }\n",
              "</style>\n",
              "<table border=\"1\" class=\"dataframe\">\n",
              "  <thead>\n",
              "    <tr style=\"text-align: right;\">\n",
              "      <th></th>\n",
              "      <th>A</th>\n",
              "      <th>B</th>\n",
              "    </tr>\n",
              "  </thead>\n",
              "  <tbody>\n",
              "    <tr>\n",
              "      <th>2013-01-04</th>\n",
              "      <td>-0.548509</td>\n",
              "      <td>-1.458021</td>\n",
              "    </tr>\n",
              "    <tr>\n",
              "      <th>2013-01-05</th>\n",
              "      <td>-0.193988</td>\n",
              "      <td>0.391281</td>\n",
              "    </tr>\n",
              "  </tbody>\n",
              "</table>\n",
              "</div>"
            ],
            "text/plain": [
              "                   A         B\n",
              "2013-01-04 -0.548509 -1.458021\n",
              "2013-01-05 -0.193988  0.391281"
            ]
          },
          "metadata": {
            "tags": []
          },
          "execution_count": 32
        }
      ]
    },
    {
      "metadata": {
        "id": "IOb404xqCopY",
        "colab_type": "text"
      },
      "cell_type": "markdown",
      "source": [
        "정수 위치의 리스트를 통해 Numpy, Python 스타일과 비슷하게 작동 가능합니다."
      ]
    },
    {
      "metadata": {
        "id": "A92AyWG6C5B5",
        "colab_type": "code",
        "colab": {
          "base_uri": "https://localhost:8080/",
          "height": 142
        },
        "outputId": "633375bd-d44f-487e-f276-bfa05de7a74d"
      },
      "cell_type": "code",
      "source": [
        "df.iloc[[1,2,4],[0,2]]"
      ],
      "execution_count": 33,
      "outputs": [
        {
          "output_type": "execute_result",
          "data": {
            "text/html": [
              "<div>\n",
              "<style scoped>\n",
              "    .dataframe tbody tr th:only-of-type {\n",
              "        vertical-align: middle;\n",
              "    }\n",
              "\n",
              "    .dataframe tbody tr th {\n",
              "        vertical-align: top;\n",
              "    }\n",
              "\n",
              "    .dataframe thead th {\n",
              "        text-align: right;\n",
              "    }\n",
              "</style>\n",
              "<table border=\"1\" class=\"dataframe\">\n",
              "  <thead>\n",
              "    <tr style=\"text-align: right;\">\n",
              "      <th></th>\n",
              "      <th>A</th>\n",
              "      <th>C</th>\n",
              "    </tr>\n",
              "  </thead>\n",
              "  <tbody>\n",
              "    <tr>\n",
              "      <th>2013-01-02</th>\n",
              "      <td>-2.209277</td>\n",
              "      <td>-0.936778</td>\n",
              "    </tr>\n",
              "    <tr>\n",
              "      <th>2013-01-03</th>\n",
              "      <td>-1.337833</td>\n",
              "      <td>-1.367746</td>\n",
              "    </tr>\n",
              "    <tr>\n",
              "      <th>2013-01-05</th>\n",
              "      <td>-0.193988</td>\n",
              "      <td>0.561286</td>\n",
              "    </tr>\n",
              "  </tbody>\n",
              "</table>\n",
              "</div>"
            ],
            "text/plain": [
              "                   A         C\n",
              "2013-01-02 -2.209277 -0.936778\n",
              "2013-01-03 -1.337833 -1.367746\n",
              "2013-01-05 -0.193988  0.561286"
            ]
          },
          "metadata": {
            "tags": []
          },
          "execution_count": 33
        }
      ]
    },
    {
      "metadata": {
        "id": "T_0fnpQbC9pD",
        "colab_type": "text"
      },
      "cell_type": "markdown",
      "source": [
        "명시적으로 행을 분할합니다."
      ]
    },
    {
      "metadata": {
        "id": "SCIrpKV4DINe",
        "colab_type": "code",
        "colab": {
          "base_uri": "https://localhost:8080/",
          "height": 111
        },
        "outputId": "f2f20ecb-ff53-4a3b-f094-1f5b6b0ee470"
      },
      "cell_type": "code",
      "source": [
        "df.iloc[1:3,:]"
      ],
      "execution_count": 34,
      "outputs": [
        {
          "output_type": "execute_result",
          "data": {
            "text/html": [
              "<div>\n",
              "<style scoped>\n",
              "    .dataframe tbody tr th:only-of-type {\n",
              "        vertical-align: middle;\n",
              "    }\n",
              "\n",
              "    .dataframe tbody tr th {\n",
              "        vertical-align: top;\n",
              "    }\n",
              "\n",
              "    .dataframe thead th {\n",
              "        text-align: right;\n",
              "    }\n",
              "</style>\n",
              "<table border=\"1\" class=\"dataframe\">\n",
              "  <thead>\n",
              "    <tr style=\"text-align: right;\">\n",
              "      <th></th>\n",
              "      <th>A</th>\n",
              "      <th>B</th>\n",
              "      <th>C</th>\n",
              "      <th>D</th>\n",
              "    </tr>\n",
              "  </thead>\n",
              "  <tbody>\n",
              "    <tr>\n",
              "      <th>2013-01-02</th>\n",
              "      <td>-2.209277</td>\n",
              "      <td>0.828335</td>\n",
              "      <td>-0.936778</td>\n",
              "      <td>0.178987</td>\n",
              "    </tr>\n",
              "    <tr>\n",
              "      <th>2013-01-03</th>\n",
              "      <td>-1.337833</td>\n",
              "      <td>1.801974</td>\n",
              "      <td>-1.367746</td>\n",
              "      <td>-0.839407</td>\n",
              "    </tr>\n",
              "  </tbody>\n",
              "</table>\n",
              "</div>"
            ],
            "text/plain": [
              "                   A         B         C         D\n",
              "2013-01-02 -2.209277  0.828335 -0.936778  0.178987\n",
              "2013-01-03 -1.337833  1.801974 -1.367746 -0.839407"
            ]
          },
          "metadata": {
            "tags": []
          },
          "execution_count": 34
        }
      ]
    },
    {
      "metadata": {
        "id": "6VjtQ7Z7DNk6",
        "colab_type": "text"
      },
      "cell_type": "markdown",
      "source": [
        "명시적으로 열을 분할합니다."
      ]
    },
    {
      "metadata": {
        "id": "iIyyuRliDQCo",
        "colab_type": "code",
        "colab": {
          "base_uri": "https://localhost:8080/",
          "height": 235
        },
        "outputId": "9e8c30a6-9335-4a79-c8b9-f2f95cedb516"
      },
      "cell_type": "code",
      "source": [
        "df.iloc[:,1:3]"
      ],
      "execution_count": 36,
      "outputs": [
        {
          "output_type": "execute_result",
          "data": {
            "text/html": [
              "<div>\n",
              "<style scoped>\n",
              "    .dataframe tbody tr th:only-of-type {\n",
              "        vertical-align: middle;\n",
              "    }\n",
              "\n",
              "    .dataframe tbody tr th {\n",
              "        vertical-align: top;\n",
              "    }\n",
              "\n",
              "    .dataframe thead th {\n",
              "        text-align: right;\n",
              "    }\n",
              "</style>\n",
              "<table border=\"1\" class=\"dataframe\">\n",
              "  <thead>\n",
              "    <tr style=\"text-align: right;\">\n",
              "      <th></th>\n",
              "      <th>B</th>\n",
              "      <th>C</th>\n",
              "    </tr>\n",
              "  </thead>\n",
              "  <tbody>\n",
              "    <tr>\n",
              "      <th>2013-01-01</th>\n",
              "      <td>0.201616</td>\n",
              "      <td>1.778816</td>\n",
              "    </tr>\n",
              "    <tr>\n",
              "      <th>2013-01-02</th>\n",
              "      <td>0.828335</td>\n",
              "      <td>-0.936778</td>\n",
              "    </tr>\n",
              "    <tr>\n",
              "      <th>2013-01-03</th>\n",
              "      <td>1.801974</td>\n",
              "      <td>-1.367746</td>\n",
              "    </tr>\n",
              "    <tr>\n",
              "      <th>2013-01-04</th>\n",
              "      <td>-1.458021</td>\n",
              "      <td>0.929009</td>\n",
              "    </tr>\n",
              "    <tr>\n",
              "      <th>2013-01-05</th>\n",
              "      <td>0.391281</td>\n",
              "      <td>0.561286</td>\n",
              "    </tr>\n",
              "    <tr>\n",
              "      <th>2013-01-06</th>\n",
              "      <td>-1.533466</td>\n",
              "      <td>-0.251480</td>\n",
              "    </tr>\n",
              "  </tbody>\n",
              "</table>\n",
              "</div>"
            ],
            "text/plain": [
              "                   B         C\n",
              "2013-01-01  0.201616  1.778816\n",
              "2013-01-02  0.828335 -0.936778\n",
              "2013-01-03  1.801974 -1.367746\n",
              "2013-01-04 -1.458021  0.929009\n",
              "2013-01-05  0.391281  0.561286\n",
              "2013-01-06 -1.533466 -0.251480"
            ]
          },
          "metadata": {
            "tags": []
          },
          "execution_count": 36
        }
      ]
    },
    {
      "metadata": {
        "id": "hxjUiO-bDe-Y",
        "colab_type": "text"
      },
      "cell_type": "markdown",
      "source": [
        "명시적으로 값을 얻습니다."
      ]
    },
    {
      "metadata": {
        "id": "fE5xW4CWDo2m",
        "colab_type": "code",
        "colab": {
          "base_uri": "https://localhost:8080/",
          "height": 35
        },
        "outputId": "d29f9ac3-60ae-4437-823b-9f34bf7db0b6"
      },
      "cell_type": "code",
      "source": [
        "df.iloc[1,1]"
      ],
      "execution_count": 37,
      "outputs": [
        {
          "output_type": "execute_result",
          "data": {
            "text/plain": [
              "0.8283349428054982"
            ]
          },
          "metadata": {
            "tags": []
          },
          "execution_count": 37
        }
      ]
    },
    {
      "metadata": {
        "id": "DUY0K5ULDsj3",
        "colab_type": "text"
      },
      "cell_type": "markdown",
      "source": [
        "스칼라 값을 빠르게 얻는 방법입니다. (상기 method와 동일합니다.)"
      ]
    },
    {
      "metadata": {
        "id": "1LyuJtHvD0uf",
        "colab_type": "code",
        "colab": {
          "base_uri": "https://localhost:8080/",
          "height": 35
        },
        "outputId": "bdbcfa7b-4a0c-4938-e130-c3727772529b"
      },
      "cell_type": "code",
      "source": [
        "df.iat[1,1]"
      ],
      "execution_count": 38,
      "outputs": [
        {
          "output_type": "execute_result",
          "data": {
            "text/plain": [
              "0.8283349428054982"
            ]
          },
          "metadata": {
            "tags": []
          },
          "execution_count": 38
        }
      ]
    },
    {
      "metadata": {
        "id": "QpAOxW5KD5sR",
        "colab_type": "text"
      },
      "cell_type": "markdown",
      "source": [
        "### 논리형 인덱싱\n",
        "\n",
        "데이터를 선택하기 위해 1개 열의 값을 사용한 방법입니다."
      ]
    },
    {
      "metadata": {
        "id": "9qEc1fxNEPFH",
        "colab_type": "code",
        "colab": {
          "base_uri": "https://localhost:8080/",
          "height": 80
        },
        "outputId": "4723edb4-abec-4022-fadc-0403ac1748ec"
      },
      "cell_type": "code",
      "source": [
        "df[df.A > 0]"
      ],
      "execution_count": 39,
      "outputs": [
        {
          "output_type": "execute_result",
          "data": {
            "text/html": [
              "<div>\n",
              "<style scoped>\n",
              "    .dataframe tbody tr th:only-of-type {\n",
              "        vertical-align: middle;\n",
              "    }\n",
              "\n",
              "    .dataframe tbody tr th {\n",
              "        vertical-align: top;\n",
              "    }\n",
              "\n",
              "    .dataframe thead th {\n",
              "        text-align: right;\n",
              "    }\n",
              "</style>\n",
              "<table border=\"1\" class=\"dataframe\">\n",
              "  <thead>\n",
              "    <tr style=\"text-align: right;\">\n",
              "      <th></th>\n",
              "      <th>A</th>\n",
              "      <th>B</th>\n",
              "      <th>C</th>\n",
              "      <th>D</th>\n",
              "    </tr>\n",
              "  </thead>\n",
              "  <tbody>\n",
              "    <tr>\n",
              "      <th>2013-01-06</th>\n",
              "      <td>0.358212</td>\n",
              "      <td>-1.533466</td>\n",
              "      <td>-0.25148</td>\n",
              "      <td>2.194119</td>\n",
              "    </tr>\n",
              "  </tbody>\n",
              "</table>\n",
              "</div>"
            ],
            "text/plain": [
              "                   A         B        C         D\n",
              "2013-01-06  0.358212 -1.533466 -0.25148  2.194119"
            ]
          },
          "metadata": {
            "tags": []
          },
          "execution_count": 39
        }
      ]
    },
    {
      "metadata": {
        "id": "TnCCtSsUEUqn",
        "colab_type": "text"
      },
      "cell_type": "markdown",
      "source": [
        "논리형(Boolean) 조건을 충족하는 DataFrame으로부터 값을 선택하는 방법입니다."
      ]
    },
    {
      "metadata": {
        "id": "gT7t2OaXGt-V",
        "colab_type": "code",
        "colab": {
          "base_uri": "https://localhost:8080/",
          "height": 235
        },
        "outputId": "82345ca6-30f4-434d-dea9-0b715c46c7ca"
      },
      "cell_type": "code",
      "source": [
        "df[df > 0]"
      ],
      "execution_count": 40,
      "outputs": [
        {
          "output_type": "execute_result",
          "data": {
            "text/html": [
              "<div>\n",
              "<style scoped>\n",
              "    .dataframe tbody tr th:only-of-type {\n",
              "        vertical-align: middle;\n",
              "    }\n",
              "\n",
              "    .dataframe tbody tr th {\n",
              "        vertical-align: top;\n",
              "    }\n",
              "\n",
              "    .dataframe thead th {\n",
              "        text-align: right;\n",
              "    }\n",
              "</style>\n",
              "<table border=\"1\" class=\"dataframe\">\n",
              "  <thead>\n",
              "    <tr style=\"text-align: right;\">\n",
              "      <th></th>\n",
              "      <th>A</th>\n",
              "      <th>B</th>\n",
              "      <th>C</th>\n",
              "      <th>D</th>\n",
              "    </tr>\n",
              "  </thead>\n",
              "  <tbody>\n",
              "    <tr>\n",
              "      <th>2013-01-01</th>\n",
              "      <td>NaN</td>\n",
              "      <td>0.201616</td>\n",
              "      <td>1.778816</td>\n",
              "      <td>0.244655</td>\n",
              "    </tr>\n",
              "    <tr>\n",
              "      <th>2013-01-02</th>\n",
              "      <td>NaN</td>\n",
              "      <td>0.828335</td>\n",
              "      <td>NaN</td>\n",
              "      <td>0.178987</td>\n",
              "    </tr>\n",
              "    <tr>\n",
              "      <th>2013-01-03</th>\n",
              "      <td>NaN</td>\n",
              "      <td>1.801974</td>\n",
              "      <td>NaN</td>\n",
              "      <td>NaN</td>\n",
              "    </tr>\n",
              "    <tr>\n",
              "      <th>2013-01-04</th>\n",
              "      <td>NaN</td>\n",
              "      <td>NaN</td>\n",
              "      <td>0.929009</td>\n",
              "      <td>0.040272</td>\n",
              "    </tr>\n",
              "    <tr>\n",
              "      <th>2013-01-05</th>\n",
              "      <td>NaN</td>\n",
              "      <td>0.391281</td>\n",
              "      <td>0.561286</td>\n",
              "      <td>0.230670</td>\n",
              "    </tr>\n",
              "    <tr>\n",
              "      <th>2013-01-06</th>\n",
              "      <td>0.358212</td>\n",
              "      <td>NaN</td>\n",
              "      <td>NaN</td>\n",
              "      <td>2.194119</td>\n",
              "    </tr>\n",
              "  </tbody>\n",
              "</table>\n",
              "</div>"
            ],
            "text/plain": [
              "                   A         B         C         D\n",
              "2013-01-01       NaN  0.201616  1.778816  0.244655\n",
              "2013-01-02       NaN  0.828335       NaN  0.178987\n",
              "2013-01-03       NaN  1.801974       NaN       NaN\n",
              "2013-01-04       NaN       NaN  0.929009  0.040272\n",
              "2013-01-05       NaN  0.391281  0.561286  0.230670\n",
              "2013-01-06  0.358212       NaN       NaN  2.194119"
            ]
          },
          "metadata": {
            "tags": []
          },
          "execution_count": 40
        }
      ]
    },
    {
      "metadata": {
        "id": "SWwK9HUdGzna",
        "colab_type": "text"
      },
      "cell_type": "markdown",
      "source": [
        "isin() 메소드를 사용하면 필터링이 가능합니다."
      ]
    },
    {
      "metadata": {
        "id": "GIN5qr0kG2-r",
        "colab_type": "code",
        "colab": {
          "base_uri": "https://localhost:8080/",
          "height": 235
        },
        "outputId": "5c399ead-7f39-412c-8ebb-6e23f8a0b339"
      },
      "cell_type": "code",
      "source": [
        "df2 = df.copy()\n",
        "df2['E'] = ['one', 'one', 'two', 'three', 'four', 'three']\n",
        "df2"
      ],
      "execution_count": 41,
      "outputs": [
        {
          "output_type": "execute_result",
          "data": {
            "text/html": [
              "<div>\n",
              "<style scoped>\n",
              "    .dataframe tbody tr th:only-of-type {\n",
              "        vertical-align: middle;\n",
              "    }\n",
              "\n",
              "    .dataframe tbody tr th {\n",
              "        vertical-align: top;\n",
              "    }\n",
              "\n",
              "    .dataframe thead th {\n",
              "        text-align: right;\n",
              "    }\n",
              "</style>\n",
              "<table border=\"1\" class=\"dataframe\">\n",
              "  <thead>\n",
              "    <tr style=\"text-align: right;\">\n",
              "      <th></th>\n",
              "      <th>A</th>\n",
              "      <th>B</th>\n",
              "      <th>C</th>\n",
              "      <th>D</th>\n",
              "      <th>E</th>\n",
              "    </tr>\n",
              "  </thead>\n",
              "  <tbody>\n",
              "    <tr>\n",
              "      <th>2013-01-01</th>\n",
              "      <td>-0.844384</td>\n",
              "      <td>0.201616</td>\n",
              "      <td>1.778816</td>\n",
              "      <td>0.244655</td>\n",
              "      <td>one</td>\n",
              "    </tr>\n",
              "    <tr>\n",
              "      <th>2013-01-02</th>\n",
              "      <td>-2.209277</td>\n",
              "      <td>0.828335</td>\n",
              "      <td>-0.936778</td>\n",
              "      <td>0.178987</td>\n",
              "      <td>one</td>\n",
              "    </tr>\n",
              "    <tr>\n",
              "      <th>2013-01-03</th>\n",
              "      <td>-1.337833</td>\n",
              "      <td>1.801974</td>\n",
              "      <td>-1.367746</td>\n",
              "      <td>-0.839407</td>\n",
              "      <td>two</td>\n",
              "    </tr>\n",
              "    <tr>\n",
              "      <th>2013-01-04</th>\n",
              "      <td>-0.548509</td>\n",
              "      <td>-1.458021</td>\n",
              "      <td>0.929009</td>\n",
              "      <td>0.040272</td>\n",
              "      <td>three</td>\n",
              "    </tr>\n",
              "    <tr>\n",
              "      <th>2013-01-05</th>\n",
              "      <td>-0.193988</td>\n",
              "      <td>0.391281</td>\n",
              "      <td>0.561286</td>\n",
              "      <td>0.230670</td>\n",
              "      <td>four</td>\n",
              "    </tr>\n",
              "    <tr>\n",
              "      <th>2013-01-06</th>\n",
              "      <td>0.358212</td>\n",
              "      <td>-1.533466</td>\n",
              "      <td>-0.251480</td>\n",
              "      <td>2.194119</td>\n",
              "      <td>three</td>\n",
              "    </tr>\n",
              "  </tbody>\n",
              "</table>\n",
              "</div>"
            ],
            "text/plain": [
              "                   A         B         C         D      E\n",
              "2013-01-01 -0.844384  0.201616  1.778816  0.244655    one\n",
              "2013-01-02 -2.209277  0.828335 -0.936778  0.178987    one\n",
              "2013-01-03 -1.337833  1.801974 -1.367746 -0.839407    two\n",
              "2013-01-04 -0.548509 -1.458021  0.929009  0.040272  three\n",
              "2013-01-05 -0.193988  0.391281  0.561286  0.230670   four\n",
              "2013-01-06  0.358212 -1.533466 -0.251480  2.194119  three"
            ]
          },
          "metadata": {
            "tags": []
          },
          "execution_count": 41
        }
      ]
    },
    {
      "metadata": {
        "id": "72w1tey_HFwG",
        "colab_type": "code",
        "colab": {
          "base_uri": "https://localhost:8080/",
          "height": 111
        },
        "outputId": "51476027-3628-452e-971e-9482e1669fbe"
      },
      "cell_type": "code",
      "source": [
        "df2[df2['E'].isin(['two','four'])]"
      ],
      "execution_count": 42,
      "outputs": [
        {
          "output_type": "execute_result",
          "data": {
            "text/html": [
              "<div>\n",
              "<style scoped>\n",
              "    .dataframe tbody tr th:only-of-type {\n",
              "        vertical-align: middle;\n",
              "    }\n",
              "\n",
              "    .dataframe tbody tr th {\n",
              "        vertical-align: top;\n",
              "    }\n",
              "\n",
              "    .dataframe thead th {\n",
              "        text-align: right;\n",
              "    }\n",
              "</style>\n",
              "<table border=\"1\" class=\"dataframe\">\n",
              "  <thead>\n",
              "    <tr style=\"text-align: right;\">\n",
              "      <th></th>\n",
              "      <th>A</th>\n",
              "      <th>B</th>\n",
              "      <th>C</th>\n",
              "      <th>D</th>\n",
              "      <th>E</th>\n",
              "    </tr>\n",
              "  </thead>\n",
              "  <tbody>\n",
              "    <tr>\n",
              "      <th>2013-01-03</th>\n",
              "      <td>-1.337833</td>\n",
              "      <td>1.801974</td>\n",
              "      <td>-1.367746</td>\n",
              "      <td>-0.839407</td>\n",
              "      <td>two</td>\n",
              "    </tr>\n",
              "    <tr>\n",
              "      <th>2013-01-05</th>\n",
              "      <td>-0.193988</td>\n",
              "      <td>0.391281</td>\n",
              "      <td>0.561286</td>\n",
              "      <td>0.230670</td>\n",
              "      <td>four</td>\n",
              "    </tr>\n",
              "  </tbody>\n",
              "</table>\n",
              "</div>"
            ],
            "text/plain": [
              "                   A         B         C         D     E\n",
              "2013-01-03 -1.337833  1.801974 -1.367746 -0.839407   two\n",
              "2013-01-05 -0.193988  0.391281  0.561286  0.230670  four"
            ]
          },
          "metadata": {
            "tags": []
          },
          "execution_count": 42
        }
      ]
    },
    {
      "metadata": {
        "id": "QBI3ihgIHQ7L",
        "colab_type": "text"
      },
      "cell_type": "markdown",
      "source": [
        "### 셋팅\n",
        "\n",
        "인덱스들을 기준으로 데이터를 정렬하여 자동으로 새로운 열을 생성하는 방법입니다."
      ]
    },
    {
      "metadata": {
        "id": "y1yI89YHHl0e",
        "colab_type": "code",
        "colab": {
          "base_uri": "https://localhost:8080/",
          "height": 143
        },
        "outputId": "8199c3b9-083e-444f-ecfe-7b0b7219e45c"
      },
      "cell_type": "code",
      "source": [
        "s1 = pd.Series([1,2,3,4,5,6], index=pd.date_range('20130102', periods = 6))\n",
        "s1"
      ],
      "execution_count": 45,
      "outputs": [
        {
          "output_type": "execute_result",
          "data": {
            "text/plain": [
              "2013-01-02    1\n",
              "2013-01-03    2\n",
              "2013-01-04    3\n",
              "2013-01-05    4\n",
              "2013-01-06    5\n",
              "2013-01-07    6\n",
              "Freq: D, dtype: int64"
            ]
          },
          "metadata": {
            "tags": []
          },
          "execution_count": 45
        }
      ]
    },
    {
      "metadata": {
        "id": "mlYXHjsbH0jX",
        "colab_type": "code",
        "colab": {}
      },
      "cell_type": "code",
      "source": [
        "df['F'] = s1"
      ],
      "execution_count": 0,
      "outputs": []
    },
    {
      "metadata": {
        "id": "_zirH4eMH4pJ",
        "colab_type": "text"
      },
      "cell_type": "markdown",
      "source": [
        "라벨을 통해 값을 설정하는 방법입니다."
      ]
    },
    {
      "metadata": {
        "id": "etmRiCrdH97Y",
        "colab_type": "code",
        "colab": {}
      },
      "cell_type": "code",
      "source": [
        "df.at[dates[0],'A'] = 0"
      ],
      "execution_count": 0,
      "outputs": []
    },
    {
      "metadata": {
        "id": "BvyGSNKoIDUM",
        "colab_type": "text"
      },
      "cell_type": "markdown",
      "source": [
        "위치를 통해 값을 설정하는 방법입니다."
      ]
    },
    {
      "metadata": {
        "id": "xqWr8c69IGn-",
        "colab_type": "code",
        "colab": {}
      },
      "cell_type": "code",
      "source": [
        "df.iat[0, 1] = 0"
      ],
      "execution_count": 0,
      "outputs": []
    },
    {
      "metadata": {
        "id": "cwH3d3ykIK9A",
        "colab_type": "text"
      },
      "cell_type": "markdown",
      "source": [
        "Numpy 배열 지정하여 설정하는 방법입니다."
      ]
    },
    {
      "metadata": {
        "id": "JcdsYXaCISnT",
        "colab_type": "code",
        "colab": {}
      },
      "cell_type": "code",
      "source": [
        "df.loc[:,'D'] = np.array([5] * len(df))"
      ],
      "execution_count": 0,
      "outputs": []
    },
    {
      "metadata": {
        "id": "aclia0X7IZBD",
        "colab_type": "text"
      },
      "cell_type": "markdown",
      "source": [
        "상기 설정 작업을 통한 결과물입니다."
      ]
    },
    {
      "metadata": {
        "id": "MyvbprhJIidZ",
        "colab_type": "code",
        "colab": {
          "base_uri": "https://localhost:8080/",
          "height": 235
        },
        "outputId": "5a696ab0-e791-4643-e07f-b7bdc81c340a"
      },
      "cell_type": "code",
      "source": [
        "df"
      ],
      "execution_count": 50,
      "outputs": [
        {
          "output_type": "execute_result",
          "data": {
            "text/html": [
              "<div>\n",
              "<style scoped>\n",
              "    .dataframe tbody tr th:only-of-type {\n",
              "        vertical-align: middle;\n",
              "    }\n",
              "\n",
              "    .dataframe tbody tr th {\n",
              "        vertical-align: top;\n",
              "    }\n",
              "\n",
              "    .dataframe thead th {\n",
              "        text-align: right;\n",
              "    }\n",
              "</style>\n",
              "<table border=\"1\" class=\"dataframe\">\n",
              "  <thead>\n",
              "    <tr style=\"text-align: right;\">\n",
              "      <th></th>\n",
              "      <th>A</th>\n",
              "      <th>B</th>\n",
              "      <th>C</th>\n",
              "      <th>D</th>\n",
              "      <th>F</th>\n",
              "    </tr>\n",
              "  </thead>\n",
              "  <tbody>\n",
              "    <tr>\n",
              "      <th>2013-01-01</th>\n",
              "      <td>0.000000</td>\n",
              "      <td>0.000000</td>\n",
              "      <td>1.778816</td>\n",
              "      <td>5</td>\n",
              "      <td>NaN</td>\n",
              "    </tr>\n",
              "    <tr>\n",
              "      <th>2013-01-02</th>\n",
              "      <td>-2.209277</td>\n",
              "      <td>0.828335</td>\n",
              "      <td>-0.936778</td>\n",
              "      <td>5</td>\n",
              "      <td>1.0</td>\n",
              "    </tr>\n",
              "    <tr>\n",
              "      <th>2013-01-03</th>\n",
              "      <td>-1.337833</td>\n",
              "      <td>1.801974</td>\n",
              "      <td>-1.367746</td>\n",
              "      <td>5</td>\n",
              "      <td>2.0</td>\n",
              "    </tr>\n",
              "    <tr>\n",
              "      <th>2013-01-04</th>\n",
              "      <td>-0.548509</td>\n",
              "      <td>-1.458021</td>\n",
              "      <td>0.929009</td>\n",
              "      <td>5</td>\n",
              "      <td>3.0</td>\n",
              "    </tr>\n",
              "    <tr>\n",
              "      <th>2013-01-05</th>\n",
              "      <td>-0.193988</td>\n",
              "      <td>0.391281</td>\n",
              "      <td>0.561286</td>\n",
              "      <td>5</td>\n",
              "      <td>4.0</td>\n",
              "    </tr>\n",
              "    <tr>\n",
              "      <th>2013-01-06</th>\n",
              "      <td>0.358212</td>\n",
              "      <td>-1.533466</td>\n",
              "      <td>-0.251480</td>\n",
              "      <td>5</td>\n",
              "      <td>5.0</td>\n",
              "    </tr>\n",
              "  </tbody>\n",
              "</table>\n",
              "</div>"
            ],
            "text/plain": [
              "                   A         B         C  D    F\n",
              "2013-01-01  0.000000  0.000000  1.778816  5  NaN\n",
              "2013-01-02 -2.209277  0.828335 -0.936778  5  1.0\n",
              "2013-01-03 -1.337833  1.801974 -1.367746  5  2.0\n",
              "2013-01-04 -0.548509 -1.458021  0.929009  5  3.0\n",
              "2013-01-05 -0.193988  0.391281  0.561286  5  4.0\n",
              "2013-01-06  0.358212 -1.533466 -0.251480  5  5.0"
            ]
          },
          "metadata": {
            "tags": []
          },
          "execution_count": 50
        }
      ]
    },
    {
      "metadata": {
        "id": "AkYgiregIliJ",
        "colab_type": "text"
      },
      "cell_type": "markdown",
      "source": [
        "설정을 함께 진행하는 작업입니다."
      ]
    },
    {
      "metadata": {
        "id": "8clyAkIGI1VD",
        "colab_type": "code",
        "colab": {
          "base_uri": "https://localhost:8080/",
          "height": 235
        },
        "outputId": "4c1be2f8-a953-4127-b63c-f0489b21ddc0"
      },
      "cell_type": "code",
      "source": [
        "df2 = df.copy()\n",
        "df2[df2 > 0] = -df2\n",
        "df2"
      ],
      "execution_count": 51,
      "outputs": [
        {
          "output_type": "execute_result",
          "data": {
            "text/html": [
              "<div>\n",
              "<style scoped>\n",
              "    .dataframe tbody tr th:only-of-type {\n",
              "        vertical-align: middle;\n",
              "    }\n",
              "\n",
              "    .dataframe tbody tr th {\n",
              "        vertical-align: top;\n",
              "    }\n",
              "\n",
              "    .dataframe thead th {\n",
              "        text-align: right;\n",
              "    }\n",
              "</style>\n",
              "<table border=\"1\" class=\"dataframe\">\n",
              "  <thead>\n",
              "    <tr style=\"text-align: right;\">\n",
              "      <th></th>\n",
              "      <th>A</th>\n",
              "      <th>B</th>\n",
              "      <th>C</th>\n",
              "      <th>D</th>\n",
              "      <th>F</th>\n",
              "    </tr>\n",
              "  </thead>\n",
              "  <tbody>\n",
              "    <tr>\n",
              "      <th>2013-01-01</th>\n",
              "      <td>0.000000</td>\n",
              "      <td>0.000000</td>\n",
              "      <td>-1.778816</td>\n",
              "      <td>-5</td>\n",
              "      <td>NaN</td>\n",
              "    </tr>\n",
              "    <tr>\n",
              "      <th>2013-01-02</th>\n",
              "      <td>-2.209277</td>\n",
              "      <td>-0.828335</td>\n",
              "      <td>-0.936778</td>\n",
              "      <td>-5</td>\n",
              "      <td>-1.0</td>\n",
              "    </tr>\n",
              "    <tr>\n",
              "      <th>2013-01-03</th>\n",
              "      <td>-1.337833</td>\n",
              "      <td>-1.801974</td>\n",
              "      <td>-1.367746</td>\n",
              "      <td>-5</td>\n",
              "      <td>-2.0</td>\n",
              "    </tr>\n",
              "    <tr>\n",
              "      <th>2013-01-04</th>\n",
              "      <td>-0.548509</td>\n",
              "      <td>-1.458021</td>\n",
              "      <td>-0.929009</td>\n",
              "      <td>-5</td>\n",
              "      <td>-3.0</td>\n",
              "    </tr>\n",
              "    <tr>\n",
              "      <th>2013-01-05</th>\n",
              "      <td>-0.193988</td>\n",
              "      <td>-0.391281</td>\n",
              "      <td>-0.561286</td>\n",
              "      <td>-5</td>\n",
              "      <td>-4.0</td>\n",
              "    </tr>\n",
              "    <tr>\n",
              "      <th>2013-01-06</th>\n",
              "      <td>-0.358212</td>\n",
              "      <td>-1.533466</td>\n",
              "      <td>-0.251480</td>\n",
              "      <td>-5</td>\n",
              "      <td>-5.0</td>\n",
              "    </tr>\n",
              "  </tbody>\n",
              "</table>\n",
              "</div>"
            ],
            "text/plain": [
              "                   A         B         C  D    F\n",
              "2013-01-01  0.000000  0.000000 -1.778816 -5  NaN\n",
              "2013-01-02 -2.209277 -0.828335 -0.936778 -5 -1.0\n",
              "2013-01-03 -1.337833 -1.801974 -1.367746 -5 -2.0\n",
              "2013-01-04 -0.548509 -1.458021 -0.929009 -5 -3.0\n",
              "2013-01-05 -0.193988 -0.391281 -0.561286 -5 -4.0\n",
              "2013-01-06 -0.358212 -1.533466 -0.251480 -5 -5.0"
            ]
          },
          "metadata": {
            "tags": []
          },
          "execution_count": 51
        }
      ]
    },
    {
      "metadata": {
        "id": "YMWHdD76I_2_",
        "colab_type": "text"
      },
      "cell_type": "markdown",
      "source": [
        "## 결측치 (데이터 누락)\n",
        "\n",
        "Pandas는 누락된 데이터를 나타내기 위해 주로 np.nan 값을 사용합니다. 이 값은 기본적으로 계산에 포함되지 않습니다. [누락된 데이터](https://pandas.pydata.org/pandas-docs/stable/missing_data.html#missing-data) 섹션을 참조하십시오.\n",
        "\n",
        "지정된 축의 인덱스를 변경, 추가, 삭제하기 위해 인덱스 재작업(Reindexing)을 할 수 있습니다. 이것은 데이터의 복사본을 반환합니다."
      ]
    },
    {
      "metadata": {
        "id": "iOZr-t-bJzOD",
        "colab_type": "code",
        "colab": {
          "base_uri": "https://localhost:8080/",
          "height": 173
        },
        "outputId": "867cf84c-57fc-4c2f-966b-4ddd63de78c8"
      },
      "cell_type": "code",
      "source": [
        "df1 = df.reindex(index = dates[0:4], columns = list(df.columns) + ['E'])\n",
        "df1.loc[dates[0]:dates[1],'E'] = 1\n",
        "df1"
      ],
      "execution_count": 52,
      "outputs": [
        {
          "output_type": "execute_result",
          "data": {
            "text/html": [
              "<div>\n",
              "<style scoped>\n",
              "    .dataframe tbody tr th:only-of-type {\n",
              "        vertical-align: middle;\n",
              "    }\n",
              "\n",
              "    .dataframe tbody tr th {\n",
              "        vertical-align: top;\n",
              "    }\n",
              "\n",
              "    .dataframe thead th {\n",
              "        text-align: right;\n",
              "    }\n",
              "</style>\n",
              "<table border=\"1\" class=\"dataframe\">\n",
              "  <thead>\n",
              "    <tr style=\"text-align: right;\">\n",
              "      <th></th>\n",
              "      <th>A</th>\n",
              "      <th>B</th>\n",
              "      <th>C</th>\n",
              "      <th>D</th>\n",
              "      <th>F</th>\n",
              "      <th>E</th>\n",
              "    </tr>\n",
              "  </thead>\n",
              "  <tbody>\n",
              "    <tr>\n",
              "      <th>2013-01-01</th>\n",
              "      <td>0.000000</td>\n",
              "      <td>0.000000</td>\n",
              "      <td>1.778816</td>\n",
              "      <td>5</td>\n",
              "      <td>NaN</td>\n",
              "      <td>1.0</td>\n",
              "    </tr>\n",
              "    <tr>\n",
              "      <th>2013-01-02</th>\n",
              "      <td>-2.209277</td>\n",
              "      <td>0.828335</td>\n",
              "      <td>-0.936778</td>\n",
              "      <td>5</td>\n",
              "      <td>1.0</td>\n",
              "      <td>1.0</td>\n",
              "    </tr>\n",
              "    <tr>\n",
              "      <th>2013-01-03</th>\n",
              "      <td>-1.337833</td>\n",
              "      <td>1.801974</td>\n",
              "      <td>-1.367746</td>\n",
              "      <td>5</td>\n",
              "      <td>2.0</td>\n",
              "      <td>NaN</td>\n",
              "    </tr>\n",
              "    <tr>\n",
              "      <th>2013-01-04</th>\n",
              "      <td>-0.548509</td>\n",
              "      <td>-1.458021</td>\n",
              "      <td>0.929009</td>\n",
              "      <td>5</td>\n",
              "      <td>3.0</td>\n",
              "      <td>NaN</td>\n",
              "    </tr>\n",
              "  </tbody>\n",
              "</table>\n",
              "</div>"
            ],
            "text/plain": [
              "                   A         B         C  D    F    E\n",
              "2013-01-01  0.000000  0.000000  1.778816  5  NaN  1.0\n",
              "2013-01-02 -2.209277  0.828335 -0.936778  5  1.0  1.0\n",
              "2013-01-03 -1.337833  1.801974 -1.367746  5  2.0  NaN\n",
              "2013-01-04 -0.548509 -1.458021  0.929009  5  3.0  NaN"
            ]
          },
          "metadata": {
            "tags": []
          },
          "execution_count": 52
        }
      ]
    },
    {
      "metadata": {
        "id": "0BakbpkGKXBC",
        "colab_type": "text"
      },
      "cell_type": "markdown",
      "source": [
        "누락된 데이터가 존재하는 모든 행을 지워버립니다."
      ]
    },
    {
      "metadata": {
        "id": "6JNE4-1YKh7y",
        "colab_type": "code",
        "colab": {
          "base_uri": "https://localhost:8080/",
          "height": 80
        },
        "outputId": "763a1adf-e2a6-4aa1-b95a-1747cc87cfcc"
      },
      "cell_type": "code",
      "source": [
        "df1.dropna(how = 'any')"
      ],
      "execution_count": 53,
      "outputs": [
        {
          "output_type": "execute_result",
          "data": {
            "text/html": [
              "<div>\n",
              "<style scoped>\n",
              "    .dataframe tbody tr th:only-of-type {\n",
              "        vertical-align: middle;\n",
              "    }\n",
              "\n",
              "    .dataframe tbody tr th {\n",
              "        vertical-align: top;\n",
              "    }\n",
              "\n",
              "    .dataframe thead th {\n",
              "        text-align: right;\n",
              "    }\n",
              "</style>\n",
              "<table border=\"1\" class=\"dataframe\">\n",
              "  <thead>\n",
              "    <tr style=\"text-align: right;\">\n",
              "      <th></th>\n",
              "      <th>A</th>\n",
              "      <th>B</th>\n",
              "      <th>C</th>\n",
              "      <th>D</th>\n",
              "      <th>F</th>\n",
              "      <th>E</th>\n",
              "    </tr>\n",
              "  </thead>\n",
              "  <tbody>\n",
              "    <tr>\n",
              "      <th>2013-01-02</th>\n",
              "      <td>-2.209277</td>\n",
              "      <td>0.828335</td>\n",
              "      <td>-0.936778</td>\n",
              "      <td>5</td>\n",
              "      <td>1.0</td>\n",
              "      <td>1.0</td>\n",
              "    </tr>\n",
              "  </tbody>\n",
              "</table>\n",
              "</div>"
            ],
            "text/plain": [
              "                   A         B         C  D    F    E\n",
              "2013-01-02 -2.209277  0.828335 -0.936778  5  1.0  1.0"
            ]
          },
          "metadata": {
            "tags": []
          },
          "execution_count": 53
        }
      ]
    },
    {
      "metadata": {
        "id": "eTbDh9qMKoK1",
        "colab_type": "text"
      },
      "cell_type": "markdown",
      "source": [
        "누락된 데이터를 채워넣습니다."
      ]
    },
    {
      "metadata": {
        "id": "ZwFnc9UWKrBW",
        "colab_type": "code",
        "colab": {
          "base_uri": "https://localhost:8080/",
          "height": 173
        },
        "outputId": "280ff6fd-a143-46e1-e8f6-75db80b94e23"
      },
      "cell_type": "code",
      "source": [
        "df1.fillna(value = 5)"
      ],
      "execution_count": 54,
      "outputs": [
        {
          "output_type": "execute_result",
          "data": {
            "text/html": [
              "<div>\n",
              "<style scoped>\n",
              "    .dataframe tbody tr th:only-of-type {\n",
              "        vertical-align: middle;\n",
              "    }\n",
              "\n",
              "    .dataframe tbody tr th {\n",
              "        vertical-align: top;\n",
              "    }\n",
              "\n",
              "    .dataframe thead th {\n",
              "        text-align: right;\n",
              "    }\n",
              "</style>\n",
              "<table border=\"1\" class=\"dataframe\">\n",
              "  <thead>\n",
              "    <tr style=\"text-align: right;\">\n",
              "      <th></th>\n",
              "      <th>A</th>\n",
              "      <th>B</th>\n",
              "      <th>C</th>\n",
              "      <th>D</th>\n",
              "      <th>F</th>\n",
              "      <th>E</th>\n",
              "    </tr>\n",
              "  </thead>\n",
              "  <tbody>\n",
              "    <tr>\n",
              "      <th>2013-01-01</th>\n",
              "      <td>0.000000</td>\n",
              "      <td>0.000000</td>\n",
              "      <td>1.778816</td>\n",
              "      <td>5</td>\n",
              "      <td>5.0</td>\n",
              "      <td>1.0</td>\n",
              "    </tr>\n",
              "    <tr>\n",
              "      <th>2013-01-02</th>\n",
              "      <td>-2.209277</td>\n",
              "      <td>0.828335</td>\n",
              "      <td>-0.936778</td>\n",
              "      <td>5</td>\n",
              "      <td>1.0</td>\n",
              "      <td>1.0</td>\n",
              "    </tr>\n",
              "    <tr>\n",
              "      <th>2013-01-03</th>\n",
              "      <td>-1.337833</td>\n",
              "      <td>1.801974</td>\n",
              "      <td>-1.367746</td>\n",
              "      <td>5</td>\n",
              "      <td>2.0</td>\n",
              "      <td>5.0</td>\n",
              "    </tr>\n",
              "    <tr>\n",
              "      <th>2013-01-04</th>\n",
              "      <td>-0.548509</td>\n",
              "      <td>-1.458021</td>\n",
              "      <td>0.929009</td>\n",
              "      <td>5</td>\n",
              "      <td>3.0</td>\n",
              "      <td>5.0</td>\n",
              "    </tr>\n",
              "  </tbody>\n",
              "</table>\n",
              "</div>"
            ],
            "text/plain": [
              "                   A         B         C  D    F    E\n",
              "2013-01-01  0.000000  0.000000  1.778816  5  5.0  1.0\n",
              "2013-01-02 -2.209277  0.828335 -0.936778  5  1.0  1.0\n",
              "2013-01-03 -1.337833  1.801974 -1.367746  5  2.0  5.0\n",
              "2013-01-04 -0.548509 -1.458021  0.929009  5  3.0  5.0"
            ]
          },
          "metadata": {
            "tags": []
          },
          "execution_count": 54
        }
      ]
    },
    {
      "metadata": {
        "id": "nhkQV5_4KvBj",
        "colab_type": "text"
      },
      "cell_type": "markdown",
      "source": [
        "nan 인 값의 위치를 표시하는 논리형(Boolean)을 얻습니다."
      ]
    },
    {
      "metadata": {
        "id": "0goXEHLUK63g",
        "colab_type": "code",
        "colab": {
          "base_uri": "https://localhost:8080/",
          "height": 173
        },
        "outputId": "d48aeffd-87f2-4df6-e6c0-7d768f0eabc9"
      },
      "cell_type": "code",
      "source": [
        "pd.isna(df1)"
      ],
      "execution_count": 55,
      "outputs": [
        {
          "output_type": "execute_result",
          "data": {
            "text/html": [
              "<div>\n",
              "<style scoped>\n",
              "    .dataframe tbody tr th:only-of-type {\n",
              "        vertical-align: middle;\n",
              "    }\n",
              "\n",
              "    .dataframe tbody tr th {\n",
              "        vertical-align: top;\n",
              "    }\n",
              "\n",
              "    .dataframe thead th {\n",
              "        text-align: right;\n",
              "    }\n",
              "</style>\n",
              "<table border=\"1\" class=\"dataframe\">\n",
              "  <thead>\n",
              "    <tr style=\"text-align: right;\">\n",
              "      <th></th>\n",
              "      <th>A</th>\n",
              "      <th>B</th>\n",
              "      <th>C</th>\n",
              "      <th>D</th>\n",
              "      <th>F</th>\n",
              "      <th>E</th>\n",
              "    </tr>\n",
              "  </thead>\n",
              "  <tbody>\n",
              "    <tr>\n",
              "      <th>2013-01-01</th>\n",
              "      <td>False</td>\n",
              "      <td>False</td>\n",
              "      <td>False</td>\n",
              "      <td>False</td>\n",
              "      <td>True</td>\n",
              "      <td>False</td>\n",
              "    </tr>\n",
              "    <tr>\n",
              "      <th>2013-01-02</th>\n",
              "      <td>False</td>\n",
              "      <td>False</td>\n",
              "      <td>False</td>\n",
              "      <td>False</td>\n",
              "      <td>False</td>\n",
              "      <td>False</td>\n",
              "    </tr>\n",
              "    <tr>\n",
              "      <th>2013-01-03</th>\n",
              "      <td>False</td>\n",
              "      <td>False</td>\n",
              "      <td>False</td>\n",
              "      <td>False</td>\n",
              "      <td>False</td>\n",
              "      <td>True</td>\n",
              "    </tr>\n",
              "    <tr>\n",
              "      <th>2013-01-04</th>\n",
              "      <td>False</td>\n",
              "      <td>False</td>\n",
              "      <td>False</td>\n",
              "      <td>False</td>\n",
              "      <td>False</td>\n",
              "      <td>True</td>\n",
              "    </tr>\n",
              "  </tbody>\n",
              "</table>\n",
              "</div>"
            ],
            "text/plain": [
              "                A      B      C      D      F      E\n",
              "2013-01-01  False  False  False  False   True  False\n",
              "2013-01-02  False  False  False  False  False  False\n",
              "2013-01-03  False  False  False  False  False   True\n",
              "2013-01-04  False  False  False  False  False   True"
            ]
          },
          "metadata": {
            "tags": []
          },
          "execution_count": 55
        }
      ]
    },
    {
      "metadata": {
        "id": "Veej-UKcLIiD",
        "colab_type": "text"
      },
      "cell_type": "markdown",
      "source": [
        "## 운영\n",
        "\n",
        "[이진(Binary) 작업의 기본](https://pandas.pydata.org/pandas-docs/stable/basics.html#basics-binop) 섹션을 참조하세요."
      ]
    },
    {
      "metadata": {
        "id": "x8Ih4OMALisj",
        "colab_type": "text"
      },
      "cell_type": "markdown",
      "source": [
        "### 통계\n",
        "\n",
        "일반적으로 누락된 데이터는 계산에서 제외됩니다.\n",
        "\n",
        "서술적인 통계를 수행합니다."
      ]
    },
    {
      "metadata": {
        "id": "0hqu0aOGMEMQ",
        "colab_type": "code",
        "colab": {
          "base_uri": "https://localhost:8080/",
          "height": 125
        },
        "outputId": "b8cdfdc5-ae65-49a0-c8a9-3a9d32ebc0b9"
      },
      "cell_type": "code",
      "source": [
        "df.mean()"
      ],
      "execution_count": 56,
      "outputs": [
        {
          "output_type": "execute_result",
          "data": {
            "text/plain": [
              "A   -0.655232\n",
              "B    0.005017\n",
              "C    0.118851\n",
              "D    5.000000\n",
              "F    3.000000\n",
              "dtype: float64"
            ]
          },
          "metadata": {
            "tags": []
          },
          "execution_count": 56
        }
      ]
    },
    {
      "metadata": {
        "id": "munJJ-imMKGg",
        "colab_type": "text"
      },
      "cell_type": "markdown",
      "source": [
        "동일한 계산을 다른 축에서 실행합니다."
      ]
    },
    {
      "metadata": {
        "id": "5xzzSkZCMPA9",
        "colab_type": "code",
        "colab": {
          "base_uri": "https://localhost:8080/",
          "height": 143
        },
        "outputId": "ef4ffeca-37d0-4d2d-f8f1-3b175b856ad9"
      },
      "cell_type": "code",
      "source": [
        "df.mean(1)"
      ],
      "execution_count": 57,
      "outputs": [
        {
          "output_type": "execute_result",
          "data": {
            "text/plain": [
              "2013-01-01    1.694704\n",
              "2013-01-02    0.736456\n",
              "2013-01-03    1.219279\n",
              "2013-01-04    1.384496\n",
              "2013-01-05    1.951716\n",
              "2013-01-06    1.714653\n",
              "Freq: D, dtype: float64"
            ]
          },
          "metadata": {
            "tags": []
          },
          "execution_count": 57
        }
      ]
    },
    {
      "metadata": {
        "id": "bNTwoL54MURn",
        "colab_type": "text"
      },
      "cell_type": "markdown",
      "source": [
        "정렬이 필요하며, 차원이 다른 객체로 계산해보겠습니다.\n",
        "\n",
        "또한, Pandas는 지정된 차원을 따라 자동으로 송출합니다."
      ]
    },
    {
      "metadata": {
        "id": "OF942AHGMuCK",
        "colab_type": "code",
        "colab": {
          "base_uri": "https://localhost:8080/",
          "height": 143
        },
        "outputId": "377086a6-02e1-4ade-ec3e-f93cf07dad1f"
      },
      "cell_type": "code",
      "source": [
        "s = pd.Series([1, 3, 5, np.nan, 6, 8], index = dates).shift(2)\n",
        "s"
      ],
      "execution_count": 58,
      "outputs": [
        {
          "output_type": "execute_result",
          "data": {
            "text/plain": [
              "2013-01-01    NaN\n",
              "2013-01-02    NaN\n",
              "2013-01-03    1.0\n",
              "2013-01-04    3.0\n",
              "2013-01-05    5.0\n",
              "2013-01-06    NaN\n",
              "Freq: D, dtype: float64"
            ]
          },
          "metadata": {
            "tags": []
          },
          "execution_count": 58
        }
      ]
    },
    {
      "metadata": {
        "id": "UV3hI50sM4jn",
        "colab_type": "code",
        "colab": {
          "base_uri": "https://localhost:8080/",
          "height": 235
        },
        "outputId": "6603a00e-bc8c-46e8-b1eb-0f6998dcda40"
      },
      "cell_type": "code",
      "source": [
        "df.sub(s, axis='index')"
      ],
      "execution_count": 59,
      "outputs": [
        {
          "output_type": "execute_result",
          "data": {
            "text/html": [
              "<div>\n",
              "<style scoped>\n",
              "    .dataframe tbody tr th:only-of-type {\n",
              "        vertical-align: middle;\n",
              "    }\n",
              "\n",
              "    .dataframe tbody tr th {\n",
              "        vertical-align: top;\n",
              "    }\n",
              "\n",
              "    .dataframe thead th {\n",
              "        text-align: right;\n",
              "    }\n",
              "</style>\n",
              "<table border=\"1\" class=\"dataframe\">\n",
              "  <thead>\n",
              "    <tr style=\"text-align: right;\">\n",
              "      <th></th>\n",
              "      <th>A</th>\n",
              "      <th>B</th>\n",
              "      <th>C</th>\n",
              "      <th>D</th>\n",
              "      <th>F</th>\n",
              "    </tr>\n",
              "  </thead>\n",
              "  <tbody>\n",
              "    <tr>\n",
              "      <th>2013-01-01</th>\n",
              "      <td>NaN</td>\n",
              "      <td>NaN</td>\n",
              "      <td>NaN</td>\n",
              "      <td>NaN</td>\n",
              "      <td>NaN</td>\n",
              "    </tr>\n",
              "    <tr>\n",
              "      <th>2013-01-02</th>\n",
              "      <td>NaN</td>\n",
              "      <td>NaN</td>\n",
              "      <td>NaN</td>\n",
              "      <td>NaN</td>\n",
              "      <td>NaN</td>\n",
              "    </tr>\n",
              "    <tr>\n",
              "      <th>2013-01-03</th>\n",
              "      <td>-2.337833</td>\n",
              "      <td>0.801974</td>\n",
              "      <td>-2.367746</td>\n",
              "      <td>4.0</td>\n",
              "      <td>1.0</td>\n",
              "    </tr>\n",
              "    <tr>\n",
              "      <th>2013-01-04</th>\n",
              "      <td>-3.548509</td>\n",
              "      <td>-4.458021</td>\n",
              "      <td>-2.070991</td>\n",
              "      <td>2.0</td>\n",
              "      <td>0.0</td>\n",
              "    </tr>\n",
              "    <tr>\n",
              "      <th>2013-01-05</th>\n",
              "      <td>-5.193988</td>\n",
              "      <td>-4.608719</td>\n",
              "      <td>-4.438714</td>\n",
              "      <td>0.0</td>\n",
              "      <td>-1.0</td>\n",
              "    </tr>\n",
              "    <tr>\n",
              "      <th>2013-01-06</th>\n",
              "      <td>NaN</td>\n",
              "      <td>NaN</td>\n",
              "      <td>NaN</td>\n",
              "      <td>NaN</td>\n",
              "      <td>NaN</td>\n",
              "    </tr>\n",
              "  </tbody>\n",
              "</table>\n",
              "</div>"
            ],
            "text/plain": [
              "                   A         B         C    D    F\n",
              "2013-01-01       NaN       NaN       NaN  NaN  NaN\n",
              "2013-01-02       NaN       NaN       NaN  NaN  NaN\n",
              "2013-01-03 -2.337833  0.801974 -2.367746  4.0  1.0\n",
              "2013-01-04 -3.548509 -4.458021 -2.070991  2.0  0.0\n",
              "2013-01-05 -5.193988 -4.608719 -4.438714  0.0 -1.0\n",
              "2013-01-06       NaN       NaN       NaN  NaN  NaN"
            ]
          },
          "metadata": {
            "tags": []
          },
          "execution_count": 59
        }
      ]
    },
    {
      "metadata": {
        "id": "Oi0JDTcmOHNG",
        "colab_type": "text"
      },
      "cell_type": "markdown",
      "source": [
        "### 적용\n",
        "\n",
        "데이터에 함수를 적용합니다."
      ]
    },
    {
      "metadata": {
        "id": "HYi9F9agOYpV",
        "colab_type": "code",
        "colab": {
          "base_uri": "https://localhost:8080/",
          "height": 235
        },
        "outputId": "18eec98d-d5e2-4a5b-d313-5a1e358b9617"
      },
      "cell_type": "code",
      "source": [
        "df.apply(np.cumsum)"
      ],
      "execution_count": 60,
      "outputs": [
        {
          "output_type": "execute_result",
          "data": {
            "text/html": [
              "<div>\n",
              "<style scoped>\n",
              "    .dataframe tbody tr th:only-of-type {\n",
              "        vertical-align: middle;\n",
              "    }\n",
              "\n",
              "    .dataframe tbody tr th {\n",
              "        vertical-align: top;\n",
              "    }\n",
              "\n",
              "    .dataframe thead th {\n",
              "        text-align: right;\n",
              "    }\n",
              "</style>\n",
              "<table border=\"1\" class=\"dataframe\">\n",
              "  <thead>\n",
              "    <tr style=\"text-align: right;\">\n",
              "      <th></th>\n",
              "      <th>A</th>\n",
              "      <th>B</th>\n",
              "      <th>C</th>\n",
              "      <th>D</th>\n",
              "      <th>F</th>\n",
              "    </tr>\n",
              "  </thead>\n",
              "  <tbody>\n",
              "    <tr>\n",
              "      <th>2013-01-01</th>\n",
              "      <td>0.000000</td>\n",
              "      <td>0.000000</td>\n",
              "      <td>1.778816</td>\n",
              "      <td>5</td>\n",
              "      <td>NaN</td>\n",
              "    </tr>\n",
              "    <tr>\n",
              "      <th>2013-01-02</th>\n",
              "      <td>-2.209277</td>\n",
              "      <td>0.828335</td>\n",
              "      <td>0.842039</td>\n",
              "      <td>10</td>\n",
              "      <td>1.0</td>\n",
              "    </tr>\n",
              "    <tr>\n",
              "      <th>2013-01-03</th>\n",
              "      <td>-3.547110</td>\n",
              "      <td>2.630309</td>\n",
              "      <td>-0.525708</td>\n",
              "      <td>15</td>\n",
              "      <td>3.0</td>\n",
              "    </tr>\n",
              "    <tr>\n",
              "      <th>2013-01-04</th>\n",
              "      <td>-4.095619</td>\n",
              "      <td>1.172288</td>\n",
              "      <td>0.403301</td>\n",
              "      <td>20</td>\n",
              "      <td>6.0</td>\n",
              "    </tr>\n",
              "    <tr>\n",
              "      <th>2013-01-05</th>\n",
              "      <td>-4.289606</td>\n",
              "      <td>1.563569</td>\n",
              "      <td>0.964587</td>\n",
              "      <td>25</td>\n",
              "      <td>10.0</td>\n",
              "    </tr>\n",
              "    <tr>\n",
              "      <th>2013-01-06</th>\n",
              "      <td>-3.931395</td>\n",
              "      <td>0.030103</td>\n",
              "      <td>0.713107</td>\n",
              "      <td>30</td>\n",
              "      <td>15.0</td>\n",
              "    </tr>\n",
              "  </tbody>\n",
              "</table>\n",
              "</div>"
            ],
            "text/plain": [
              "                   A         B         C   D     F\n",
              "2013-01-01  0.000000  0.000000  1.778816   5   NaN\n",
              "2013-01-02 -2.209277  0.828335  0.842039  10   1.0\n",
              "2013-01-03 -3.547110  2.630309 -0.525708  15   3.0\n",
              "2013-01-04 -4.095619  1.172288  0.403301  20   6.0\n",
              "2013-01-05 -4.289606  1.563569  0.964587  25  10.0\n",
              "2013-01-06 -3.931395  0.030103  0.713107  30  15.0"
            ]
          },
          "metadata": {
            "tags": []
          },
          "execution_count": 60
        }
      ]
    },
    {
      "metadata": {
        "id": "Fowu55IcOdBx",
        "colab_type": "code",
        "colab": {
          "base_uri": "https://localhost:8080/",
          "height": 125
        },
        "outputId": "066f892f-a3e6-48d7-a81a-38bef1495d6c"
      },
      "cell_type": "code",
      "source": [
        "df.apply(lambda x: x.max() - x.min())"
      ],
      "execution_count": 61,
      "outputs": [
        {
          "output_type": "execute_result",
          "data": {
            "text/plain": [
              "A    2.567489\n",
              "B    3.335440\n",
              "C    3.146563\n",
              "D    0.000000\n",
              "F    4.000000\n",
              "dtype: float64"
            ]
          },
          "metadata": {
            "tags": []
          },
          "execution_count": 61
        }
      ]
    },
    {
      "metadata": {
        "id": "84UbNGxCOsRK",
        "colab_type": "text"
      },
      "cell_type": "markdown",
      "source": [
        "### 히스토그램\n",
        "\n",
        "[히스토그램 및 이산](https://pandas.pydata.org/pandas-docs/stable/basics.html#basics-discretization) 항목에서 더 많은 내용을 참조할 수 있습니다."
      ]
    },
    {
      "metadata": {
        "id": "C_ZSbmZRO32L",
        "colab_type": "code",
        "colab": {
          "base_uri": "https://localhost:8080/",
          "height": 215
        },
        "outputId": "82e3b7b7-2a79-450f-b554-cc762351729e"
      },
      "cell_type": "code",
      "source": [
        "s = pd.Series(np.random.randint(0, 7, size = 10))\n",
        "s"
      ],
      "execution_count": 63,
      "outputs": [
        {
          "output_type": "execute_result",
          "data": {
            "text/plain": [
              "0    0\n",
              "1    1\n",
              "2    5\n",
              "3    4\n",
              "4    0\n",
              "5    2\n",
              "6    5\n",
              "7    3\n",
              "8    4\n",
              "9    0\n",
              "dtype: int64"
            ]
          },
          "metadata": {
            "tags": []
          },
          "execution_count": 63
        }
      ]
    },
    {
      "metadata": {
        "id": "uNOyUvRdO-_V",
        "colab_type": "code",
        "colab": {
          "base_uri": "https://localhost:8080/",
          "height": 143
        },
        "outputId": "0d9d3df6-a7f5-403d-aaeb-1b1af0b900d0"
      },
      "cell_type": "code",
      "source": [
        "s.value_counts()"
      ],
      "execution_count": 65,
      "outputs": [
        {
          "output_type": "execute_result",
          "data": {
            "text/plain": [
              "0    3\n",
              "5    2\n",
              "4    2\n",
              "3    1\n",
              "2    1\n",
              "1    1\n",
              "dtype: int64"
            ]
          },
          "metadata": {
            "tags": []
          },
          "execution_count": 65
        }
      ]
    },
    {
      "metadata": {
        "id": "tV6HJ3FZPMDA",
        "colab_type": "text"
      },
      "cell_type": "markdown",
      "source": [
        "### 문자열 메소드\n",
        "\n",
        "Series는 다음의 코드와 같이 문자열 처리 메소드 모음(set)을 가지고 있습니다. 이 모음은 배열의 각 요소를 쉽게 조작할 수 있도록 만들어주는 문자열의 속성에 포함되어 있습니다.\n",
        "\n",
        "문자열의 패턴 일치 확인은 기본적으로 정규 표현식을 사용하며, 몇몇 경우에는 항상 정규 표현식을 사용함에 유의하십시오.\n",
        "\n",
        "좀 더 자세한 내용은 [벡터화된 문자열 메소드](https://pandas.pydata.org/pandas-docs/stable/text.html#text-string-methods) 부분에서 확인할 수 있습니다."
      ]
    },
    {
      "metadata": {
        "id": "uBBFE1j6RgdZ",
        "colab_type": "code",
        "colab": {
          "base_uri": "https://localhost:8080/",
          "height": 197
        },
        "outputId": "15acc5fe-ad24-4225-8fdd-a8cc965b689b"
      },
      "cell_type": "code",
      "source": [
        "s = pd.Series(['A', 'B', 'C', 'Aaba', 'Baca', np.nan, 'CABA', 'dog', 'cat'])\n",
        "s.str.lower()"
      ],
      "execution_count": 66,
      "outputs": [
        {
          "output_type": "execute_result",
          "data": {
            "text/plain": [
              "0       a\n",
              "1       b\n",
              "2       c\n",
              "3    aaba\n",
              "4    baca\n",
              "5     NaN\n",
              "6    caba\n",
              "7     dog\n",
              "8     cat\n",
              "dtype: object"
            ]
          },
          "metadata": {
            "tags": []
          },
          "execution_count": 66
        }
      ]
    },
    {
      "metadata": {
        "id": "_6cfS5VBYwXe",
        "colab_type": "text"
      },
      "cell_type": "markdown",
      "source": [
        "## Merge"
      ]
    }
  ]
}