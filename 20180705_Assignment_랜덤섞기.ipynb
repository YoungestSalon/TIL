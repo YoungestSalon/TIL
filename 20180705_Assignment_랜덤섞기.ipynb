{
  "nbformat": 4,
  "nbformat_minor": 0,
  "metadata": {
    "colab": {
      "name": "20180705_Assignment_랜덤섞기.ipynb",
      "version": "0.3.2",
      "provenance": [],
      "include_colab_link": true
    },
    "kernelspec": {
      "name": "python3",
      "display_name": "Python 3"
    }
  },
  "cells": [
    {
      "cell_type": "markdown",
      "metadata": {
        "id": "view-in-github",
        "colab_type": "text"
      },
      "source": [
        "[View in Colaboratory](https://colab.research.google.com/github/YoungestSalon/TIL/blob/master/20180705_Assignment_%EB%9E%9C%EB%8D%A4%EC%84%9E%EA%B8%B0.ipynb)"
      ]
    },
    {
      "metadata": {
        "id": "yz1jSPPC4PTo",
        "colab_type": "text"
      },
      "cell_type": "markdown",
      "source": [
        "Q. 리스트를 인자로 받아서 리스트의 원소를 임의의 순서로 섞은 새 리스트를 반환하는 함수를 서로 다른 세 가지 방식으로 구현하고, 각 함수의 작동 방식과 장단점을 설명하는 Colab 노트북을 만드세요. 함수에 전달했던 원래의 리스트는 함수가 실행된 이후에도 그대로 유지되어야 합니다.\n",
        "\n",
        "\n",
        "---\n",
        "\n"
      ]
    },
    {
      "metadata": {
        "id": "M6UzQq0k5bhI",
        "colab_type": "text"
      },
      "cell_type": "markdown",
      "source": [
        "**Case 1. Random 모듈을 호출 → 리스트를 복제 → 복제된 리스트를 Shuffle 함수로 섞음**\n",
        "\n",
        "- 장점 : 코드가 간단함, 오류의 가능성이 적음\n",
        "- 단점 : while 문, for 문 등의 사용이 없기 때문에 학습 목적으로는 부적절"
      ]
    },
    {
      "metadata": {
        "id": "fYeAN1CD3-rn",
        "colab_type": "code",
        "colab": {
          "base_uri": "https://localhost:8080/",
          "height": 53
        },
        "outputId": "c007d2d7-f6dd-40c2-be76-e5cb903fa9f2"
      },
      "cell_type": "code",
      "source": [
        "import random                                      # Random 모듈 호출\n",
        "\n",
        "data = [\"Heroes\", \"Bears\", \"Eagles\", \"Twins\", \"Wyverns\", \"Lions\", \"Giants\", \"Dinos\", \"Tigers\", \"Wiz\"]                   \n",
        "data2 = data[:]                                    # 리스트 복제\n",
        "\n",
        "def shuffle0(data2):\n",
        "    random.shuffle(data2)                          # Shuffle 함수로 섞음\n",
        "    return data2\n",
        "\n",
        "data_2nd = shuffle0(data2)\n",
        "print(data_2nd)\n",
        "print(data)"
      ],
      "execution_count": 7,
      "outputs": [
        {
          "output_type": "stream",
          "text": [
            "['Wyverns', 'Giants', 'Bears', 'Wiz', 'Twins', 'Lions', 'Heroes', 'Tigers', 'Eagles', 'Dinos']\n",
            "['Heroes', 'Bears', 'Eagles', 'Twins', 'Wyverns', 'Lions', 'Giants', 'Dinos', 'Tigers', 'Wiz']\n"
          ],
          "name": "stdout"
        }
      ]
    },
    {
      "metadata": {
        "id": "uBMCt9y0N9GQ",
        "colab_type": "text"
      },
      "cell_type": "markdown",
      "source": [
        "**Case 1-1. Random 모듈을 호출 → 원본 리스트를 입력 받음 → 리스트를 복제 → 복제된 리스트를 Shuffle 함수로 섞음**\n",
        "\n",
        "- 장점 : 유저가 데이터를 입력할 수 있음\n",
        "- 단점 : 유저가 데이터를 입력할 시, 같은 항목에 대해 오타를 내는 경우에는 검출이 불가능함."
      ]
    },
    {
      "metadata": {
        "id": "A2UoNog3NzJ_",
        "colab_type": "code",
        "colab": {
          "base_uri": "https://localhost:8080/",
          "height": 269
        },
        "outputId": "823433f9-0fb6-4505-edba-b40a28f2de5e"
      },
      "cell_type": "code",
      "source": [
        "import random                                                               # Random 모듈 호출\n",
        "\n",
        "data = []                                                                   # 원본 리스트를 생성\n",
        "\n",
        "while True:                                                                 # for 문으로 입력 시, 오타가 생기면 10개 구단명을 모두 입력할 수 없음\n",
        "    if int(len(data)) == 10:                                                # 현재 기준 한국 프로야구단 갯수(10개)가 모두 채워지면...\n",
        "        break                                                               # 추가 입력을 중단시킴\n",
        "    else:                                                                   # 한국 프로야구단 갯수가 채워지지 않았다면...\n",
        "        answer = input(\"한국 프로야구 10개 구단명을 입력해주세요\")          # 유저에게 데이터를 입력하도록 요청\n",
        "        if answer in data:                                                  # 유저가 입력한 데이터가 중복값이면...\n",
        "            print (\"중복된 값입니다.\")                                      # 중복된 값이라고 알려주고 추가하지 않음\n",
        "        else:                                                               # 유저가 입력한 데이터가 중복이 아니라면...\n",
        "            data.append(answer)                                             # 원본 리스트에 추가\n",
        "        \n",
        "data2 = data[:]                                                             # 원본 리스트를 복제\n",
        "\n",
        "def shuffle0(data2):\n",
        "    random.shuffle(data2)                                                   # Shuffle 함수로 섞음\n",
        "    return data2\n",
        "\n",
        "data_2nd = shuffle0(data2)\n",
        "print(data_2nd)\n",
        "print(data)"
      ],
      "execution_count": 1,
      "outputs": [
        {
          "output_type": "stream",
          "text": [
            "한국 프로야구 10개 구단명을 입력해주세요Heroes\n",
            "한국 프로야구 10개 구단명을 입력해주세요Tigers\n",
            "한국 프로야구 10개 구단명을 입력해주세요Wiz\n",
            "한국 프로야구 10개 구단명을 입력해주세요Lions\n",
            "한국 프로야구 10개 구단명을 입력해주세요Giants\n",
            "한국 프로야구 10개 구단명을 입력해주세요Heroes\n",
            "중복된 값입니다.\n",
            "한국 프로야구 10개 구단명을 입력해주세요Bears\n",
            "한국 프로야구 10개 구단명을 입력해주세요Twins\n",
            "한국 프로야구 10개 구단명을 입력해주세요Dinos\n",
            "한국 프로야구 10개 구단명을 입력해주세요Wyverns\n",
            "한국 프로야구 10개 구단명을 입력해주세요Eagles\n",
            "['Lions', 'Eagles', 'Wiz', 'Twins', 'Wyverns', 'Giants', 'Bears', 'Tigers', 'Heroes', 'Dinos']\n",
            "['Heroes', 'Tigers', 'Wiz', 'Lions', 'Giants', 'Bears', 'Twins', 'Dinos', 'Wyverns', 'Eagles']\n"
          ],
          "name": "stdout"
        }
      ]
    },
    {
      "metadata": {
        "id": "_otorYdT80v8",
        "colab_type": "text"
      },
      "cell_type": "markdown",
      "source": [
        "**Case 2. Random 모듈을 호출 → 리스트를 복제 → Random으로 리스트의 인덱스 숫자 중 하나를 선택 → 선택된 인덱스에 해당하는 값을 새로운 리스트에 추가**\n",
        "\n",
        "- 장점 : 코드가 비교적 간단함. \n",
        "- 단점 : Case 1에 비하면 코드가 복잡함. pop 함수를 쓰기 때문에 원본 리스트 복제가 필수."
      ]
    },
    {
      "metadata": {
        "id": "wRtYRzxP6bQE",
        "colab_type": "code",
        "colab": {
          "base_uri": "https://localhost:8080/",
          "height": 53
        },
        "outputId": "c4221549-c774-40eb-fa89-22dcd5c32df8"
      },
      "cell_type": "code",
      "source": [
        "import random                                        # Random 모듈 호출\n",
        "\n",
        "data = [\"Heroes\", \"Bears\", \"Eagles\", \"Twins\", \"Wyverns\", \"Lions\", \"Giants\", \"Dinos\", \"Tigers\", \"Wiz\"]\n",
        "data_re = data[:]                                    # 리스트를 복제\n",
        "data3 = []                                           # 결과를 입력할 리스트 생성\n",
        "\n",
        "def shuffle1(data_re):\n",
        "    for stage in range(len(data)):                   # 데이터 리스트 내 요소의 갯수를 한계로 반복문 작성\n",
        "        limit = len(data) - stage                    # for 문의 반복 횟수(stage)에 따라 인덱스 숫자 선택의 한계 범위를 조정 : out of range 오류 방지\n",
        "        num = random.randrange(0, limit)             # 리스트의 인덱스 중 하나를 Random으로 선택\n",
        "        name = data_re.pop(num)                      # 복제된 리스트(data_re) 중 선택된 인덱스에 해당하는 요소를 꺼냄\n",
        "        data3.append(name)                           # 꺼낸 요소를 결과값 리스트(data3)에 추가\n",
        "    return data3\n",
        "\n",
        "data_3rd = shuffle1(data_re)\n",
        "print(data_3rd)\n",
        "print(data)"
      ],
      "execution_count": 35,
      "outputs": [
        {
          "output_type": "stream",
          "text": [
            "['Dinos', 'Wyverns', 'Bears', 'Heroes', 'Eagles', 'Lions', 'Tigers', 'Wiz', 'Twins', 'Giants']\n",
            "['Heroes', 'Bears', 'Eagles', 'Twins', 'Wyverns', 'Lions', 'Giants', 'Dinos', 'Tigers', 'Wiz']\n"
          ],
          "name": "stdout"
        }
      ]
    },
    {
      "metadata": {
        "id": "1xTTFmDJABl5",
        "colab_type": "text"
      },
      "cell_type": "markdown",
      "source": [
        "**Case 3. Random 모듈을 호출 → Random으로 원본 리스트의 요소 중 하나를 선택 → 새로운 리스트에 없으면 추가 → 원본 리스트와 인덱스가 동일해지면 함수 종료**\n",
        "\n",
        "- 장점 : 원본 리스트 복제가 필요하지 않음.\n",
        "- 단점 : 코드가 다소 복잡함."
      ]
    },
    {
      "metadata": {
        "id": "FpkX9e0K6b5T",
        "colab_type": "code",
        "colab": {
          "base_uri": "https://localhost:8080/",
          "height": 53
        },
        "outputId": "ed091e4f-41df-4ce5-869e-e3b6d7d5da13"
      },
      "cell_type": "code",
      "source": [
        "import random                                        # Random 모듈 호출\n",
        "\n",
        "data = [\"Heroes\", \"Bears\", \"Eagles\", \"Twins\", \"Wyverns\", \"Lions\", \"Giants\", \"Dinos\", \"Tigers\", \"Wiz\"]\n",
        "data4 = []                                           # 결과값 입력을 위한 리스트 생성\n",
        "\n",
        "def shuffle2(data):\n",
        "    while True:                                      # 무한 반복. 이 부분을 for 문으로 처리하면 결과값 리스트가 모두 채워지지 않아도 함수가 끝나는 오류가 발생.\n",
        "        if int(len(data)) == int(len(data4)):        # 원본 리스트(data)와 결과값 리스트(data4)의 인덱스가 동일해지면...\n",
        "            break                                    # 함수 종료\n",
        "        else:                                        # 원본 리스트(data)와 결과값 리스트(data4)의 인덱스가 동일하지 않으면...\n",
        "            choice = random.choice(data)             # 원본 리스트(data)의 요소 중 하나를 random하게 선택\n",
        "            if choice in data4:                      # 선택된 요소(choice)가 결과값 리스트(data4)에 이미 존재한다면...\n",
        "                pass                                 # 아무 변화 없이 pass\n",
        "            else:                                    # 선택된 요소가 결과값 리스트에 없다면...\n",
        "                data4.append(choice)                 # 결과값 리스트에 선택된 요소를 추가\n",
        "    return data4\n",
        "\n",
        "data_4th = shuffle2(data)\n",
        "print(data_4th)\n",
        "print(data)"
      ],
      "execution_count": 2,
      "outputs": [
        {
          "output_type": "stream",
          "text": [
            "['Wyverns', 'Twins', 'Eagles', 'Giants', 'Dinos', 'Wiz', 'Tigers', 'Bears', 'Heroes', 'Lions']\n",
            "['Heroes', 'Bears', 'Eagles', 'Twins', 'Wyverns', 'Lions', 'Giants', 'Dinos', 'Tigers', 'Wiz']\n"
          ],
          "name": "stdout"
        }
      ]
    },
    {
      "metadata": {
        "id": "mfXjGC64FzHc",
        "colab_type": "text"
      },
      "cell_type": "markdown",
      "source": [
        "**Case 4. Random 모듈을 호출 → 인덱스 리스트를 생성 → Random으로 원본 리스트의 인덱스 중 하나를 선택 → 인덱스에 해당하는 값을 새로운 리스트에 추가**\n",
        "\n",
        "- 장점 : 원본 리스트 복제가 필요하지 않음.\n",
        "- 단점 : 코드가 복잡함. 인덱스 선택 후 pop 함수를 사용하기 때문에 인덱스 숫자 리스트를 생성해야 함."
      ]
    },
    {
      "metadata": {
        "id": "slFeuSpnQAop",
        "colab_type": "code",
        "colab": {
          "base_uri": "https://localhost:8080/",
          "height": 53
        },
        "outputId": "c37b2682-3228-477b-da58-5411bc9e3965"
      },
      "cell_type": "code",
      "source": [
        "import random                                               # Random 모듈 호출\n",
        "\n",
        "data = [\"Heroes\", \"Bears\", \"Eagles\", \"Twins\", \"Wyverns\", \"Lions\", \"Giants\", \"Dinos\", \"Tigers\", \"Wiz\"]\n",
        "data5 = []                                                  # 결과값 입력을 위한 리스트 생성\n",
        "\n",
        "def shuffle3(num):\n",
        "    num = []                                                # 인덱스 관련 작업을 위한 인덱스 숫자 리스트 생성\n",
        "    for i in range(len(data)):                              # 원본 리스트의 인덱스만큼 반복 \n",
        "        num.append(i)                                       # 원본 리스트의 인덱스 숫자를 인덱스 숫자 리스트에 추가\n",
        "\n",
        "    while True:                                             # 무한 반복. 이 부분을 for 문으로 처리하면 결과값 리스트가 모두 채워지지 않아도 함수가 끝나는 오류가 발생.\n",
        "        if int(len(data)) == int(len(data5)):               # 원본 리스트(data)와 결과값 리스트(data5)의 인덱스가 동일해지면...\n",
        "            break                                           # 함수 종료\n",
        "        else:                                               # 원본 리스트(data)와 결과값 리스트(data4)의 인덱스가 동일하지 않으면...\n",
        "            choice = random.randrange(0, len(data))         # 원본 리스트(data)의 인덱스 중 하나를 random하게 선택\n",
        "            if choice >= len(num):                          # 선택된 인덱스 숫자(choice)가 인덱스 숫자 리스트(num)에 없다면...\n",
        "                pass                                        # 아무 변화 없이 pass (이 단계가 없으면 out of range 오류가 발생)\n",
        "            else:                                           # 선택된 인덱스 숫자(choice)가 인덱스 숫자 리스트(num)에 있다면...\n",
        "                choice_index = num.pop(choice)              # 인덱스 숫자 리스트(num)에서 선택된 인덱스 숫자에 해당하는 값(choice_index)을 추출\n",
        "                name = data[choice_index]                   # 원본 리스트(data)에서 추출된 값(choice_index)에 해당하는 요소를 변수 name으로 저장\n",
        "                data5.append(name)                          # 변수 name을 결과값 리스트에 추가\n",
        "    return data5\n",
        "\n",
        "data_5th = shuffle3(data)\n",
        "print(data_5th)\n",
        "print(data)"
      ],
      "execution_count": 4,
      "outputs": [
        {
          "output_type": "stream",
          "text": [
            "['Tigers', 'Wiz', 'Dinos', 'Eagles', 'Twins', 'Lions', 'Bears', 'Heroes', 'Wyverns', 'Giants']\n",
            "['Heroes', 'Bears', 'Eagles', 'Twins', 'Wyverns', 'Lions', 'Giants', 'Dinos', 'Tigers', 'Wiz']\n"
          ],
          "name": "stdout"
        }
      ]
    }
  ]
}