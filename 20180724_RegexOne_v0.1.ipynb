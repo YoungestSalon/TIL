{
  "nbformat": 4,
  "nbformat_minor": 0,
  "metadata": {
    "colab": {
      "name": "20180724_RegexOne.ipynb",
      "version": "0.3.2",
      "provenance": [],
      "include_colab_link": true
    },
    "kernelspec": {
      "name": "python3",
      "display_name": "Python 3"
    }
  },
  "cells": [
    {
      "cell_type": "markdown",
      "metadata": {
        "id": "view-in-github",
        "colab_type": "text"
      },
      "source": [
        "[View in Colaboratory](https://colab.research.google.com/github/YoungestSalon/TIL/blob/master/20180724_RegexOne_v0.1.ipynb)"
      ]
    },
    {
      "metadata": {
        "id": "5taCwO1c2zix",
        "colab_type": "text"
      },
      "cell_type": "markdown",
      "source": [
        "## 과제 알림\n",
        "\n",
        "필수:\n",
        "\n",
        "다음 사이트에서 풀 수 있는 단계까지 최대한 해결하고, 각 단계별로 본인이 사용한 정규표현식을 정리하여 과제폴더에 공유해주세요: \n",
        "\n",
        "https://regexone.com/lesson/introduction_abcs\n",
        "\n",
        "\n",
        "참고자료: [Regular expression cheat sheet](http://www.cbs.dtu.dk/courses/27610/regular-expressions-cheat-sheet-v2.pdf)\n"
      ]
    },
    {
      "metadata": {
        "id": "f5HyyTPEh6dP",
        "colab_type": "text"
      },
      "cell_type": "markdown",
      "source": [
        "## Lesson\n",
        "\n",
        "Exercise 1 : abc\n",
        "\n",
        "Exercise 1-1 : 123\n",
        "\n",
        "Exercise 2: \\.\n",
        "\n",
        "Exercise 3 : [cmf]an\n",
        "\n",
        "Exercise 4 : [^b]og\n",
        "\n",
        "Exercise 5 : [ABC]\n",
        "\n",
        "Exercise 6 : wazz\n",
        "\n",
        "Exercise 7 : aa\n",
        "\n",
        "Exercise 8 : \\d\n",
        "\n",
        "Exercise 9 : \\d.\\s\n",
        "\n",
        "Exercise 10 : ^Mission\n",
        "\n",
        "Exercise 11 : ^(file_\\S+)\\.pdf$\n",
        "\n",
        "Exercise 12 : (\\S{3}\\s(\\d{4}))\n",
        "\n",
        "Exercise 13 : (\\d{4})x(\\d{3,4})\n",
        "\n",
        "Exercise 14 : I love (cats|dogs)\n",
        "\n",
        "Exercise 15 : ^The"
      ]
    },
    {
      "metadata": {
        "id": "yYxl1qd2tihi",
        "colab_type": "text"
      },
      "cell_type": "markdown",
      "source": [
        "## Problem 1\n",
        "\n",
        "Exercise 1 : (\\d|-)*(\\d)$\n",
        "\n",
        "Exercise 2 : (\\d{3})\n",
        "\n",
        "Exercise 3 : "
      ]
    },
    {
      "metadata": {
        "id": "9PfnMmMth49Y",
        "colab_type": "code",
        "colab": {}
      },
      "cell_type": "code",
      "source": [
        ""
      ],
      "execution_count": 0,
      "outputs": []
    }
  ]
}