{
  "nbformat": 4,
  "nbformat_minor": 0,
  "metadata": {
    "colab": {
      "name": "20180713_자료의 요약과 Pandas 예제_v1.1.ipynb",
      "version": "0.3.2",
      "provenance": [],
      "private_outputs": true,
      "collapsed_sections": [],
      "include_colab_link": true
    },
    "kernelspec": {
      "name": "python3",
      "display_name": "Python 3"
    }
  },
  "cells": [
    {
      "cell_type": "markdown",
      "metadata": {
        "id": "view-in-github",
        "colab_type": "text"
      },
      "source": [
        "[View in Colaboratory](https://colab.research.google.com/github/YoungestSalon/TIL/blob/master/20180713_%EC%9E%90%EB%A3%8C%EC%9D%98_%EC%9A%94%EC%95%BD%EA%B3%BC_Pandas_%EC%98%88%EC%A0%9C_v1.1.ipynb)"
      ]
    },
    {
      "metadata": {
        "id": "FnGZcZccjfA3",
        "colab_type": "code",
        "colab": {}
      },
      "cell_type": "code",
      "source": [
        "!pip install --upgrade -q gspread\n",
        "\n",
        "import pandas as pd\n",
        "\n",
        "from google.colab import auth\n",
        "\n",
        "auth.authenticate_user()\n",
        "\n",
        "import gspread\n",
        "from oauth2client.client import GoogleCredentials\n",
        "\n",
        "\n",
        "def get_sheet(title, sheet_name):\n",
        "  gc = gspread.authorize(GoogleCredentials.get_application_default())\n",
        "  return gc.open(title).worksheet(sheet_name)"
      ],
      "execution_count": 0,
      "outputs": []
    },
    {
      "metadata": {
        "id": "QA1i2lktp-yH",
        "colab_type": "text"
      },
      "cell_type": "markdown",
      "source": [
        "# 자료의 요약 시트 불러오기"
      ]
    },
    {
      "metadata": {
        "id": "Z65L_pz7Em-6",
        "colab_type": "code",
        "colab": {}
      },
      "cell_type": "code",
      "source": [
        "# 자료의 요약에 있는 특정 시트를 불러옵니다.\n",
        "# 1번 row를 0번 인덱스로 읽어오는 데, 0번 인덱스를 컬럼으로 지정해 주도록 했습니다.\n",
        "# 그러면 스프레드시트에서 봤던 것 처럼 데이터프레임이 생성됩니다.\n",
        "def get_df(sheet_name):\n",
        "  sheet = get_sheet('자료의 요약', sheet_name)\n",
        "\n",
        "  # Create dataframe from the sheet\n",
        "  rows = sheet.get_all_values()\n",
        "  df = pd.DataFrame.from_records(rows)\n",
        "\n",
        "  df.columns = df.iloc[0]                # default 인덱스는 삭제하고\n",
        "  df = df.reindex(df.index.drop(0))      # 시트의 1번 row를 인덱스로 대체하는 코드\n",
        "  return df"
      ],
      "execution_count": 0,
      "outputs": []
    },
    {
      "metadata": {
        "id": "Rg9jU-3pxkrD",
        "colab_type": "text"
      },
      "cell_type": "markdown",
      "source": [
        "# 혈액형"
      ]
    },
    {
      "metadata": {
        "id": "aqcIXpHqxj0T",
        "colab_type": "code",
        "colab": {}
      },
      "cell_type": "code",
      "source": [
        "df_blood = get_df('혈액형')\n",
        "# 상위 5개의 데이터를 가져옵니다.\n",
        "print(df_blood.shape)\n",
        "df_blood.head()         # 참조 : df_blood.tail(3) → 뒤에서 3개만 불러옴"
      ],
      "execution_count": 0,
      "outputs": []
    },
    {
      "metadata": {
        "id": "U0ogXBQ6Uffp",
        "colab_type": "code",
        "colab": {}
      },
      "cell_type": "code",
      "source": [
        "df_blood.info()"
      ],
      "execution_count": 0,
      "outputs": []
    },
    {
      "metadata": {
        "id": "dvL-GNVihfzF",
        "colab_type": "code",
        "colab": {}
      },
      "cell_type": "code",
      "source": [
        "df_blood"
      ],
      "execution_count": 0,
      "outputs": []
    },
    {
      "metadata": {
        "id": "cTxrnkenp66k",
        "colab_type": "text"
      },
      "cell_type": "markdown",
      "source": [
        "# 조선왕"
      ]
    },
    {
      "metadata": {
        "id": "M0T5cLsllz1P",
        "colab_type": "code",
        "colab": {}
      },
      "cell_type": "code",
      "source": [
        "df_king = get_df('조선왕')\n",
        "# 상위 5개의 데이터를 가져옵니다.\n",
        "print(df_king.shape)\n",
        "df_king.head()"
      ],
      "execution_count": 0,
      "outputs": []
    },
    {
      "metadata": {
        "id": "Ac3MgOQSmAg-",
        "colab_type": "code",
        "colab": {}
      },
      "cell_type": "code",
      "source": [
        "# 어떤 컬럼이 있고 데이터의 row, column 수, 데이터 타입을 볼 수 있다.\n",
        "df_king.info()"
      ],
      "execution_count": 0,
      "outputs": []
    },
    {
      "metadata": {
        "id": "gImNQuVrnYlo",
        "colab_type": "code",
        "colab": {}
      },
      "cell_type": "code",
      "source": [
        "df_king.describe()"
      ],
      "execution_count": 0,
      "outputs": []
    },
    {
      "metadata": {
        "id": "04EQOy7CnJMh",
        "colab_type": "code",
        "colab": {}
      },
      "cell_type": "code",
      "source": [
        "# 데이터 타입을 int로 변경해 준다.\n",
        "df_king['life'] = df_king['life'].astype(int)\n",
        "df_king['period'] = df_king['period'].astype(int)\n",
        "# 위와 describe() 했을 때의 정보가 다르다. \n",
        "# 수치형 데이터 일 때 count, mean, std, min/max, 사분위수를 보여준다.\n",
        "df_king.describe()"
      ],
      "execution_count": 0,
      "outputs": []
    },
    {
      "metadata": {
        "id": "cjYrTRvareU8",
        "colab_type": "code",
        "colab": {}
      },
      "cell_type": "code",
      "source": [
        "# 결측치를 보고 싶을 때 널값을 구해 본다.\n",
        "df_king.isnull().sum()"
      ],
      "execution_count": 0,
      "outputs": []
    },
    {
      "metadata": {
        "id": "U10pHKZYsuPk",
        "colab_type": "code",
        "colab": {}
      },
      "cell_type": "code",
      "source": [
        "# 가장 오래 집권한 왕순으로 정렬해 보고 상위 5개의 데이터만 본다.\n",
        "df_king.sort_values(by='period', ascending=False).head(5)"
      ],
      "execution_count": 0,
      "outputs": []
    },
    {
      "metadata": {
        "id": "qRQ6isGes-Xf",
        "colab_type": "code",
        "colab": {}
      },
      "cell_type": "code",
      "source": [
        "# 평균값만 본다.\n",
        "df_king.mean()"
      ],
      "execution_count": 0,
      "outputs": []
    },
    {
      "metadata": {
        "id": "meNs10dntD4M",
        "colab_type": "code",
        "colab": {}
      },
      "cell_type": "code",
      "source": [
        "# 표준편차만 본다.\n",
        "df_king.std()"
      ],
      "execution_count": 0,
      "outputs": []
    },
    {
      "metadata": {
        "id": "V_NNcznBtXfy",
        "colab_type": "code",
        "colab": {}
      },
      "cell_type": "code",
      "source": [
        "# 최대값만 본다. 효종이 나온 이유는 한글 중에 가장 뒤에 있기 때문\n",
        "# life, period도 각 컬럼에서 최대값\n",
        "df_king.max()"
      ],
      "execution_count": 0,
      "outputs": []
    },
    {
      "metadata": {
        "id": "36aLsY9otcle",
        "colab_type": "code",
        "colab": {}
      },
      "cell_type": "code",
      "source": [
        "df_king['period'].max()"
      ],
      "execution_count": 0,
      "outputs": []
    },
    {
      "metadata": {
        "id": "hOdI7ksoq-Ou",
        "colab_type": "code",
        "colab": {}
      },
      "cell_type": "code",
      "source": [
        "df_king['life'].plot()"
      ],
      "execution_count": 0,
      "outputs": []
    },
    {
      "metadata": {
        "id": "HyLFCNoLpxtS",
        "colab_type": "code",
        "colab": {}
      },
      "cell_type": "code",
      "source": [
        "df_king['life'].hist()"
      ],
      "execution_count": 0,
      "outputs": []
    },
    {
      "metadata": {
        "id": "jRsfMFhyqlmp",
        "colab_type": "code",
        "colab": {}
      },
      "cell_type": "code",
      "source": [
        "df_king['period'].hist(stacked=True, bins=10)"
      ],
      "execution_count": 0,
      "outputs": []
    },
    {
      "metadata": {
        "id": "VuBj0N6wpyox",
        "colab_type": "text"
      },
      "cell_type": "markdown",
      "source": [
        "# 타이타닉"
      ]
    },
    {
      "metadata": {
        "id": "AIleTOPdlKra",
        "colab_type": "code",
        "colab": {}
      },
      "cell_type": "code",
      "source": [
        "df_titanic = get_df('타이타닉')\n",
        "print(df_titanic.shape)\n",
        "# 상위 5개의 데이터를 가져옵니다.\n",
        "df_titanic.head()"
      ],
      "execution_count": 0,
      "outputs": []
    },
    {
      "metadata": {
        "id": "YKKFIPGQZ1Tt",
        "colab_type": "code",
        "colab": {}
      },
      "cell_type": "code",
      "source": [
        "# 어떤 컬럼이 있는지 보여줍니다.\n",
        "df_titanic.columns"
      ],
      "execution_count": 0,
      "outputs": []
    },
    {
      "metadata": {
        "id": "AZa4ciw4l33E",
        "colab_type": "code",
        "colab": {}
      },
      "cell_type": "code",
      "source": [
        "# 컬럼 정보를 보여줍니다.\n",
        "df_titanic.info()"
      ],
      "execution_count": 0,
      "outputs": []
    },
    {
      "metadata": {
        "id": "S-QZdW8Hl4Tf",
        "colab_type": "code",
        "colab": {}
      },
      "cell_type": "code",
      "source": [
        "# 자료의 요약을 보여줍니다.\n",
        "df_titanic.describe()"
      ],
      "execution_count": 0,
      "outputs": []
    },
    {
      "metadata": {
        "id": "ql9I3BkkL23U",
        "colab_type": "code",
        "colab": {}
      },
      "cell_type": "code",
      "source": [
        "df_titanic['Class'].value_counts()"
      ],
      "execution_count": 0,
      "outputs": []
    },
    {
      "metadata": {
        "id": "-EZ59H4PZNGT",
        "colab_type": "code",
        "colab": {}
      },
      "cell_type": "code",
      "source": [
        "df_titanic['생존여부'].value_counts()"
      ],
      "execution_count": 0,
      "outputs": []
    },
    {
      "metadata": {
        "id": "MpMJQ4-zXGhw",
        "colab_type": "text"
      },
      "cell_type": "markdown",
      "source": [
        "# 집 값 (추가)"
      ]
    },
    {
      "metadata": {
        "id": "-GyG_SClXP77",
        "colab_type": "code",
        "colab": {}
      },
      "cell_type": "code",
      "source": [
        "df_houseprice = get_df('집 값')\n",
        "# 상위 5개의 데이터를 가져옵니다.\n",
        "print(df_houseprice.shape)\n",
        "df_houseprice.head()"
      ],
      "execution_count": 0,
      "outputs": []
    },
    {
      "metadata": {
        "id": "ia0MY_o3X4Uq",
        "colab_type": "code",
        "colab": {}
      },
      "cell_type": "code",
      "source": [
        "df_houseprice.describe()"
      ],
      "execution_count": 0,
      "outputs": []
    },
    {
      "metadata": {
        "id": "ypsXxs77YJCe",
        "colab_type": "code",
        "colab": {}
      },
      "cell_type": "code",
      "source": [
        "# 데이터 타입을 float로 변경해 준다.\n",
        "df_houseprice['주택가격'] = df_houseprice['주택가격'].astype(float)\n",
        "# 위와 describe() 했을 때의 정보가 다르다. \n",
        "# 수치형 데이터 일 때 count, mean, std, min/max, 사분위수를 보여준다.\n",
        "df_houseprice.describe()"
      ],
      "execution_count": 0,
      "outputs": []
    },
    {
      "metadata": {
        "id": "6uwkcnxtFSY3",
        "colab_type": "code",
        "colab": {}
      },
      "cell_type": "code",
      "source": [
        "# 평균은?\n",
        "\n",
        "df_houseprice.mean()"
      ],
      "execution_count": 0,
      "outputs": []
    },
    {
      "metadata": {
        "id": "BknQiBs2Fo19",
        "colab_type": "code",
        "colab": {}
      },
      "cell_type": "code",
      "source": [
        "# 도심/외곽을 나눠서 각 그룹별 평균을 구하려면?\n",
        "\n",
        "df_houseprice.groupby('도심&외각').mean()"
      ],
      "execution_count": 0,
      "outputs": []
    },
    {
      "metadata": {
        "id": "kmfjXMBbY0o9",
        "colab_type": "code",
        "colab": {}
      },
      "cell_type": "code",
      "source": [
        "# 가장 집값이 비싼 순서로 정렬해 보고 상위 5개의 데이터만 본다.\n",
        "df_houseprice.sort_values(by='주택가격', ascending=False).head(5)"
      ],
      "execution_count": 0,
      "outputs": []
    },
    {
      "metadata": {
        "id": "4fETszgmZSzl",
        "colab_type": "code",
        "colab": {}
      },
      "cell_type": "code",
      "source": [
        "df_houseprice['주택가격'].plot()"
      ],
      "execution_count": 0,
      "outputs": []
    },
    {
      "metadata": {
        "id": "6fxgbvHvZj_9",
        "colab_type": "code",
        "colab": {}
      },
      "cell_type": "code",
      "source": [
        "df_houseprice['주택가격'].hist()"
      ],
      "execution_count": 0,
      "outputs": []
    },
    {
      "metadata": {
        "id": "_z8OKxWiE7zV",
        "colab_type": "code",
        "colab": {}
      },
      "cell_type": "code",
      "source": [
        "# stacked = True (데이터를 쌓아 올림)\n",
        "# bins = 15 (데이터를 상자 15개에 나눠 담아서 그림)\n",
        "\n",
        "df_houseprice['주택가격'].hist(stacked = True, bins = 15)"
      ],
      "execution_count": 0,
      "outputs": []
    },
    {
      "metadata": {
        "id": "AZnnJOFGIiML",
        "colab_type": "text"
      },
      "cell_type": "markdown",
      "source": [
        "# 포유류 (추가)"
      ]
    },
    {
      "metadata": {
        "id": "Tt024WulGcCU",
        "colab_type": "code",
        "colab": {}
      },
      "cell_type": "code",
      "source": [
        "# 데이터 가져오기\n",
        "df_mammals = get_df('포유류')"
      ],
      "execution_count": 0,
      "outputs": []
    },
    {
      "metadata": {
        "id": "TdafyOYyLRzW",
        "colab_type": "code",
        "colab": {}
      },
      "cell_type": "code",
      "source": [
        "# 데이터 형 변환(type conversion)\n",
        "df_mammals['몸무게'] = df_mammals['몸무게'].astype(float)\n",
        "df_mammals['뇌무게'] = df_mammals['뇌무게'].astype(float)"
      ],
      "execution_count": 0,
      "outputs": []
    },
    {
      "metadata": {
        "id": "02r4dzGOLsLT",
        "colab_type": "code",
        "colab": {}
      },
      "cell_type": "code",
      "source": [
        "# 데이터 요약\n",
        "df_mammals.describe()"
      ],
      "execution_count": 0,
      "outputs": []
    },
    {
      "metadata": {
        "id": "7j-DwpZzLz6V",
        "colab_type": "code",
        "colab": {}
      },
      "cell_type": "code",
      "source": [
        "# 몸무게 / 뇌무게 각각의 평균은?\n",
        "df_mammals[['몸무게', '뇌무게']].mean()"
      ],
      "execution_count": 0,
      "outputs": []
    },
    {
      "metadata": {
        "id": "Cd4H1uI2NQH9",
        "colab_type": "code",
        "colab": {}
      },
      "cell_type": "code",
      "source": [
        "df_mammals['몸무게'].plot()"
      ],
      "execution_count": 0,
      "outputs": []
    },
    {
      "metadata": {
        "id": "avNyEDGlN7zm",
        "colab_type": "code",
        "colab": {}
      },
      "cell_type": "code",
      "source": [
        "df_mammals['뇌무게'].hist()"
      ],
      "execution_count": 0,
      "outputs": []
    },
    {
      "metadata": {
        "id": "OZfsMPPlFSL8",
        "colab_type": "code",
        "colab": {}
      },
      "cell_type": "code",
      "source": [
        "df_mammals['뇌무게'].hist(stacked = False, bins = 10)"
      ],
      "execution_count": 0,
      "outputs": []
    }
  ]
}