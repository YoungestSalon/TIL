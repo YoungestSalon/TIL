{
  "nbformat": 4,
  "nbformat_minor": 0,
  "metadata": {
    "colab": {
      "name": "20180719_Crawling_국민청원_v1.0.ipynb",
      "version": "0.3.2",
      "provenance": [],
      "include_colab_link": true
    },
    "kernelspec": {
      "name": "python3",
      "display_name": "Python 3"
    }
  },
  "cells": [
    {
      "cell_type": "markdown",
      "metadata": {
        "id": "view-in-github",
        "colab_type": "text"
      },
      "source": [
        "[View in Colaboratory](https://colab.research.google.com/github/YoungestSalon/TIL/blob/master/20180719_Crawling_%EA%B5%AD%EB%AF%BC%EC%B2%AD%EC%9B%90_v1_0.ipynb)"
      ]
    },
    {
      "metadata": {
        "id": "KrLWX4teq-5K",
        "colab_type": "text"
      },
      "cell_type": "markdown",
      "source": [
        "## 2018.07.19.오전 크롤링#3 과제\n",
        "\n",
        "\n",
        "**기본과제**\n",
        "\n",
        "국민청원 첫 페이지 하단의 청원 목록에서 번호, 분류, 제목, 참여인원을 추출하여 DataFrame에 담아주세요.\n",
        "\n",
        "\n",
        "**선택과제**\n",
        "\n",
        "국민청원 목록 첫 페이지 주소는 https://www1.president.go.kr/petitions?page=1 입니다. 두번째 페이지 주소는 https://www1.president.go.kr/petitions?page=2 입니다. 처음 10개 페이지에 순차적으로 방문하여 번호, 분류, 제목, 참여인원을 추출하고 그 결과를 DataFrame에 담아주세요.\n",
        "\n",
        "\n",
        "**선택과제**\n",
        "\n",
        "2018년 7월 17일 현재 국민청원의 글 번호는 1번부터 238663번까지 부여되어 있습니다. 하지만 중간중간 삭제된 청원이 있어서 실제 청원 수는 238663개보다 적습니다. 309510번 청원글 본문의 URL은 https://www1.president.go.kr/petitions/309510 입니다. URL에서 글번호만 바꾸면 해당 청원의 본문으로 이동할 수 있습니다. 이러한 URL 패턴의 특성을 활용하여 전체 청원 중 임의로 100개 청원의 제목과 본문을 추출하여 DataFrame에 담아주세요.\n",
        "\n",
        "\n",
        "\n",
        "---\n",
        "\n"
      ]
    },
    {
      "metadata": {
        "id": "3_Pc74u2fzKa",
        "colab_type": "text"
      },
      "cell_type": "markdown",
      "source": [
        "## 기본과제"
      ]
    },
    {
      "metadata": {
        "id": "7z82LavSq8dJ",
        "colab_type": "code",
        "colab": {
          "base_uri": "https://localhost:8080/",
          "height": 89
        },
        "outputId": "8e332edd-927b-4fe8-9d11-34622cfca772"
      },
      "cell_type": "code",
      "source": [
        "# 설치를 하고,\n",
        "\n",
        "!pip install html5lib beautifulsoup4"
      ],
      "execution_count": 69,
      "outputs": [
        {
          "output_type": "stream",
          "text": [
            "Requirement already satisfied: html5lib in /usr/local/lib/python3.6/dist-packages (1.0.1)\r\n",
            "Requirement already satisfied: beautifulsoup4 in /usr/local/lib/python3.6/dist-packages (4.6.0)\r\n",
            "Requirement already satisfied: six>=1.9 in /usr/local/lib/python3.6/dist-packages (from html5lib) (1.11.0)\r\n",
            "Requirement already satisfied: webencodings in /usr/local/lib/python3.6/dist-packages (from html5lib) (0.5.1)\r\n"
          ],
          "name": "stdout"
        }
      ]
    },
    {
      "metadata": {
        "id": "KFH5Tzk9VO1y",
        "colab_type": "code",
        "colab": {}
      },
      "cell_type": "code",
      "source": [
        "# HTML 받아오기\n",
        "\n",
        "from urllib import request\n",
        "\n",
        "url = \"https://www1.president.go.kr/petitions?page=1\"\n",
        "with request.urlopen(url) as f:\n",
        "  charset = f.headers.get_content_charset()\n",
        "  html = f.read().decode(charset)"
      ],
      "execution_count": 0,
      "outputs": []
    },
    {
      "metadata": {
        "id": "mPTEaRKeWlv4",
        "colab_type": "code",
        "colab": {}
      },
      "cell_type": "code",
      "source": [
        "# HTML 문자열을 분석하여 DOM 구성하기\n",
        "\n",
        "from bs4 import BeautifulSoup\n",
        "\n",
        "bs = BeautifulSoup(html, 'html5lib')"
      ],
      "execution_count": 0,
      "outputs": []
    },
    {
      "metadata": {
        "id": "SC1vucxEKmXs",
        "colab_type": "code",
        "colab": {}
      },
      "cell_type": "code",
      "source": [
        "# 국민청원 1페이지 구조 분석 : 청원 목록을 찾아가는 경로\n",
        "\n",
        "# body\n",
        "# div id = \"wrap\"\n",
        "# div id = \"contents\" class = \"c_sub.on\"\n",
        "# section id = \"cont_view\" class = \"cs_wrap\"\n",
        "# div class = \"cs_area\"\n",
        "# div class = \"cs_body\"\n",
        "# div class = \"wrap\"\n",
        "# div class = \"board.text\"\n",
        "# div class = \"b_list.category\"\n",
        "# div class = \"bl_body\"\n",
        "# ul\n",
        "# li\n",
        "# div class = \"bl_wrap\"\n",
        "\n",
        "# 번호 : div class = \"bl_no\"\n",
        "# 분류 : div class = \"bl_category.cs\"\n",
        "# 제목 : div class = \"bl_subject\" -> a href = \"주소\"\n",
        "# 참여인원 : div class = \"bl_agree.cb\"\n",
        "\n",
        "# 청원목록에는 한 페이지 당 15개씩 글이 있음"
      ],
      "execution_count": 0,
      "outputs": []
    },
    {
      "metadata": {
        "id": "Oh5U0NEjh8i0",
        "colab_type": "code",
        "colab": {
          "base_uri": "https://localhost:8080/",
          "height": 287
        },
        "outputId": "b5c622ec-9565-407a-f13b-5d513901e91d"
      },
      "cell_type": "code",
      "source": [
        "# 청원 목록의 글 번호만 선택하려면?\n",
        "\n",
        "# 답변 대기 중인 청원에도 .board.text 클래스가 있고,\n",
        "# 청원 목록에도 .board.text 클래스가 있다.\n",
        "\n",
        "# 두 클래스의 차이는, 전자는 wrap 클래스의 직계 자식이 아닌 자손이다.\n",
        "# 즉, 답변 대기 중인 청원에는 csp_box~ 로 시작하는 클래스가 중간에 하나 더 있다.\n",
        "# 뒤집어서 생각하면, wrap 클래스의 직계 자식인 board.text 클래스는 단 하나이다.\n",
        "# 그 단 하나는 청원 목록에 들어 있다.\n",
        "# 그러므로 우리는 그 wrap 클래스의 직계 자식인 board.text 클래스를 찾으면 된다.\n",
        "# 그래서 '.wrap'과 '.board.text' 사이에는 '>' 가 하나 더 적혀있다.\n",
        "\n",
        "# 애란쌤 Comment : 이 방법은 코드는 간결하지만, 원본 HTML의 변경에 취약하다.\n",
        "\n",
        "bl_no = bs.select('.wrap > .board.text .bl_body ul li .bl_wrap .bl_no')\n",
        "\n",
        "bl_no"
      ],
      "execution_count": 73,
      "outputs": [
        {
          "output_type": "execute_result",
          "data": {
            "text/plain": [
              "[<div class=\"bl_no\"><span class=\"sound_only\">번호 </span>242494</div>,\n",
              " <div class=\"bl_no\"><span class=\"sound_only\">번호 </span>242493</div>,\n",
              " <div class=\"bl_no\"><span class=\"sound_only\">번호 </span>242492</div>,\n",
              " <div class=\"bl_no\"><span class=\"sound_only\">번호 </span>242491</div>,\n",
              " <div class=\"bl_no\"><span class=\"sound_only\">번호 </span>242490</div>,\n",
              " <div class=\"bl_no\"><span class=\"sound_only\">번호 </span>242489</div>,\n",
              " <div class=\"bl_no\"><span class=\"sound_only\">번호 </span>242488</div>,\n",
              " <div class=\"bl_no\"><span class=\"sound_only\">번호 </span>242487</div>,\n",
              " <div class=\"bl_no\"><span class=\"sound_only\">번호 </span>242486</div>,\n",
              " <div class=\"bl_no\"><span class=\"sound_only\">번호 </span>242485</div>,\n",
              " <div class=\"bl_no\"><span class=\"sound_only\">번호 </span>242484</div>,\n",
              " <div class=\"bl_no\"><span class=\"sound_only\">번호 </span>242483</div>,\n",
              " <div class=\"bl_no\"><span class=\"sound_only\">번호 </span>242482</div>,\n",
              " <div class=\"bl_no\"><span class=\"sound_only\">번호 </span>242481</div>,\n",
              " <div class=\"bl_no\"><span class=\"sound_only\">번호 </span>242480</div>]"
            ]
          },
          "metadata": {
            "tags": []
          },
          "execution_count": 73
        }
      ]
    },
    {
      "metadata": {
        "id": "kon1x4mrKeUi",
        "colab_type": "code",
        "colab": {}
      },
      "cell_type": "code",
      "source": [
        "# bl_no의 앞뒤로 붙어있는 지저분한(?) 텍스트를 지우기 위한 함수\n",
        "# No(번호) 뿐만 아니라, 분류(category)와 제목(subject)도 비슷한 구조이다.\n",
        "# 참여인원(agree)은 \"명\"이 추가로 붙어 있으니 참여인원할 때 추가 작업이 필요.\n",
        "\n",
        "# '>' 라는 문자를 기준으로 자르고(split), \n",
        "# 자른 결과의 4번째('[3]') 요소를 선택해서,\n",
        "# 다시 '<' 라는 문자 기준으로 자른 다음 1번째('[0]') 요소를 선택하여 출력한다.\n",
        "\n",
        "def to_return(raw):\n",
        "  result = raw.split(\">\")[3].split(\"<\")[0]\n",
        "  return result"
      ],
      "execution_count": 0,
      "outputs": []
    },
    {
      "metadata": {
        "id": "O2qcE7CqKWPk",
        "colab_type": "code",
        "colab": {
          "base_uri": "https://localhost:8080/",
          "height": 287
        },
        "outputId": "41fe51f8-54a4-4bb7-e33c-52ceb9dec947"
      },
      "cell_type": "code",
      "source": [
        "# to_return 함수를 호출해서 bl_no의 앞뒤 텍스트를 지우고 no이라는 리스트에 넣는다.\n",
        "\n",
        "no = []\n",
        "i_no = 0   # bl_no가 리스트 타입이기 때문에 1개씩 불러오려면 인덱스가 필요하다.\n",
        "\n",
        "for num in bl_no:   # bl_no를 1개씩 순차적으로 불러오기 위한 반복문\n",
        "  num = str(bl_no[i_no])   # bl_no의 요소는 nontype → str으로 바꿔야 to_num 함수에서 split가 가능\n",
        "  no.append(int(to_return(num)))   # to_return의 결과값은 str이므로 int로 변경해서 저장\n",
        "  i_no = i_no + 1\n",
        "  \n",
        "no"
      ],
      "execution_count": 76,
      "outputs": [
        {
          "output_type": "execute_result",
          "data": {
            "text/plain": [
              "[242494,\n",
              " 242493,\n",
              " 242492,\n",
              " 242491,\n",
              " 242490,\n",
              " 242489,\n",
              " 242488,\n",
              " 242487,\n",
              " 242486,\n",
              " 242485,\n",
              " 242484,\n",
              " 242483,\n",
              " 242482,\n",
              " 242481,\n",
              " 242480]"
            ]
          },
          "metadata": {
            "tags": []
          },
          "execution_count": 76
        }
      ]
    },
    {
      "metadata": {
        "id": "hbZJxTtKOCW7",
        "colab_type": "code",
        "colab": {
          "base_uri": "https://localhost:8080/",
          "height": 287
        },
        "outputId": "5e111727-1c71-43fa-8d1f-194ce1195cf9"
      },
      "cell_type": "code",
      "source": [
        "# 청원 목록의 분류만 선택하자. (div class = \"bl_category.cs\")\n",
        "\n",
        "bl_category = bs.select('.wrap > .board.text .bl_body ul li .bl_wrap .bl_category.cs')\n",
        "bl_category"
      ],
      "execution_count": 77,
      "outputs": [
        {
          "output_type": "execute_result",
          "data": {
            "text/plain": [
              "[<div class=\"bl_category cs\"><span class=\"sound_only\">분류 </span> 기타</div>,\n",
              " <div class=\"bl_category cs\"><span class=\"sound_only\">분류 </span> 정치개혁</div>,\n",
              " <div class=\"bl_category cs\"><span class=\"sound_only\">분류 </span> 정치개혁</div>,\n",
              " <div class=\"bl_category cs\"><span class=\"sound_only\">분류 </span> 정치개혁</div>,\n",
              " <div class=\"bl_category cs\"><span class=\"sound_only\">분류 </span> 인권/성평등</div>,\n",
              " <div class=\"bl_category cs\"><span class=\"sound_only\">분류 </span> 정치개혁</div>,\n",
              " <div class=\"bl_category cs\"><span class=\"sound_only\">분류 </span> 정치개혁</div>,\n",
              " <div class=\"bl_category cs\"><span class=\"sound_only\">분류 </span> 기타</div>,\n",
              " <div class=\"bl_category cs\"><span class=\"sound_only\">분류 </span> 육아/교육</div>,\n",
              " <div class=\"bl_category cs\"><span class=\"sound_only\">분류 </span> 정치개혁</div>,\n",
              " <div class=\"bl_category cs\"><span class=\"sound_only\">분류 </span> 정치개혁</div>,\n",
              " <div class=\"bl_category cs\"><span class=\"sound_only\">분류 </span> 경제민주화</div>,\n",
              " <div class=\"bl_category cs\"><span class=\"sound_only\">분류 </span> 정치개혁</div>,\n",
              " <div class=\"bl_category cs\"><span class=\"sound_only\">분류 </span> 육아/교육</div>,\n",
              " <div class=\"bl_category cs\"><span class=\"sound_only\">분류 </span> 정치개혁</div>]"
            ]
          },
          "metadata": {
            "tags": []
          },
          "execution_count": 77
        }
      ]
    },
    {
      "metadata": {
        "id": "un7B8ztiTDg_",
        "colab_type": "code",
        "colab": {
          "base_uri": "https://localhost:8080/",
          "height": 287
        },
        "outputId": "75f5997e-2237-4794-db81-e18eee19d808"
      },
      "cell_type": "code",
      "source": [
        "# 분류도 마찬가지로 텍스트를 정리해야 한다.\n",
        "\n",
        "category = []\n",
        "i_cate = 0\n",
        "\n",
        "for catego in bl_category:\n",
        "  catego = str(bl_category[i_cate])\n",
        "  category.append(to_return(catego))\n",
        "  i_cate = i_cate + 1\n",
        "  \n",
        "category"
      ],
      "execution_count": 78,
      "outputs": [
        {
          "output_type": "execute_result",
          "data": {
            "text/plain": [
              "[' 기타',\n",
              " ' 정치개혁',\n",
              " ' 정치개혁',\n",
              " ' 정치개혁',\n",
              " ' 인권/성평등',\n",
              " ' 정치개혁',\n",
              " ' 정치개혁',\n",
              " ' 기타',\n",
              " ' 육아/교육',\n",
              " ' 정치개혁',\n",
              " ' 정치개혁',\n",
              " ' 경제민주화',\n",
              " ' 정치개혁',\n",
              " ' 육아/교육',\n",
              " ' 정치개혁']"
            ]
          },
          "metadata": {
            "tags": []
          },
          "execution_count": 78
        }
      ]
    },
    {
      "metadata": {
        "id": "Fjp9gcJoOa92",
        "colab_type": "code",
        "colab": {}
      },
      "cell_type": "code",
      "source": [
        "# 이번에는 청원 목록의 참여인원(div class = \"bl_agree.cb\")을 선택한다.\n",
        "\n",
        "bl_agree = bs.select('.wrap > .board.text .bl_body ul li .bl_wrap .bl_agree.cb')\n",
        "bl_agree"
      ],
      "execution_count": 0,
      "outputs": []
    },
    {
      "metadata": {
        "id": "0CTVak_bVd71",
        "colab_type": "code",
        "colab": {
          "base_uri": "https://localhost:8080/",
          "height": 35
        },
        "outputId": "cdfb1cbf-2b5e-40c7-9874-8873a882d3f0"
      },
      "cell_type": "code",
      "source": [
        "# 참여인원도 텍스트 정리를...\n",
        "# 텍스트 정리하는 코드 3개는 합칠 수 없으려나 (...)\n",
        "\n",
        "num_agree = []\n",
        "i_agree = 0\n",
        "\n",
        "for agree in bl_agree:\n",
        "  agree = str(bl_agree[i_agree])\n",
        "  \n",
        "  # 참여인원은 글 번호와 다르게 숫자 뒤에 \"명\"과 빈 칸이 붙어 있어서 지워야 함.\n",
        "  no_agree = int(to_return(agree).split(\"명\")[0])\n",
        "  \n",
        "  num_agree.append(no_agree)\n",
        "  i_agree = i_agree + 1\n",
        "  \n",
        "num_agree"
      ],
      "execution_count": 80,
      "outputs": [
        {
          "output_type": "execute_result",
          "data": {
            "text/plain": [
              "[1, 3, 1, 0, 0, 4, 3, 23, 1, 29, 38, 15, 36, 1, 68]"
            ]
          },
          "metadata": {
            "tags": []
          },
          "execution_count": 80
        }
      ]
    },
    {
      "metadata": {
        "id": "tIZNT4yfOGA7",
        "colab_type": "code",
        "colab": {
          "base_uri": "https://localhost:8080/",
          "height": 307
        },
        "outputId": "e1ac46bd-482f-492d-fe51-6103b7bdcc97"
      },
      "cell_type": "code",
      "source": [
        "# 마지막으로 청원 목록의 제목(div class = \"bl_subject\" -> a href = \"주소\") 차례.\n",
        "\n",
        "bl_subject = bs.select('.wrap > .board.text .bl_body ul li .bl_wrap .bl_subject a')\n",
        "bl_subject"
      ],
      "execution_count": 81,
      "outputs": [
        {
          "output_type": "execute_result",
          "data": {
            "text/plain": [
              "[<a class=\"cb\" href=\"https://www1.president.go.kr/petitions/314233?navigation=petitions\"><span class=\"sound_only\">제목 </span>이재명과 은수미의 조폭 유착에 대한 철저한 수사를 ...</a>,\n",
              " <a class=\"cb\" href=\"https://www1.president.go.kr/petitions/314232?navigation=petitions\"><span class=\"sound_only\">제목 </span>성남시  국제 마피아파와 이재명경기도지사 은수미성 ...</a>,\n",
              " <a class=\"cb\" href=\"https://www1.president.go.kr/petitions/314231?navigation=petitions\"><span class=\"sound_only\">제목 </span>성남시조폭과 정치인들의 적폐를 청산 해주세요</a>,\n",
              " <a class=\"cb\" href=\"https://www1.president.go.kr/petitions/314230?navigation=petitions\"><span class=\"sound_only\">제목 </span>경기도지사 선거 다시하겠습니다</a>,\n",
              " <a class=\"cb\" href=\"https://www1.president.go.kr/petitions/314229?navigation=petitions\"><span class=\"sound_only\">제목 </span>파타야살인사건 제대로된 수사청원합니다</a>,\n",
              " <a class=\"cb\" href=\"https://www1.president.go.kr/petitions/314228?navigation=petitions\"><span class=\"sound_only\">제목 </span>경기도지사 이재명과 성남시장 은수미 즉각 구속수사 ...</a>,\n",
              " <a class=\"cb\" href=\"https://www1.president.go.kr/petitions/314227?navigation=petitions\"><span class=\"sound_only\">제목 </span>국회의원 급여를 국민투표를 통해 국민이 결정</a>,\n",
              " <a class=\"cb\" href=\"https://www1.president.go.kr/petitions/314226?navigation=petitions\"><span class=\"sound_only\">제목 </span>이재명에대하여</a>,\n",
              " <a class=\"cb\" href=\"https://www1.president.go.kr/petitions/314225?navigation=petitions\"><span class=\"sound_only\">제목 </span>교육부 장관님꼐 청원합니다.</a>,\n",
              " <a class=\"cb\" href=\"https://www1.president.go.kr/petitions/314224?navigation=petitions\"><span class=\"sound_only\">제목 </span>이재명 경기도지사 해임 후 보궐선거를 희망합니다 ( ...</a>,\n",
              " <a class=\"cb\" href=\"https://www1.president.go.kr/petitions/314223?navigation=petitions\"><span class=\"sound_only\">제목 </span>그것이 알고싶다, 성남시 은수미, 이재명 조폭 연루 ...</a>,\n",
              " <a class=\"cb\" href=\"https://www1.president.go.kr/petitions/314222?navigation=petitions\"><span class=\"sound_only\">제목 </span>성남시  청문회 진행건</a>,\n",
              " <a class=\"cb\" href=\"https://www1.president.go.kr/petitions/314221?navigation=petitions\"><span class=\"sound_only\">제목 </span>문재인 대통령님 철저한 조사  부탁드립니다.</a>,\n",
              " <a class=\"cb\" href=\"https://www1.president.go.kr/petitions/314220?navigation=petitions\"><span class=\"sound_only\">제목 </span>학교 교무실 청소에 관하여</a>,\n",
              " <a class=\"cb\" href=\"https://www1.president.go.kr/petitions/314219?navigation=petitions\"><span class=\"sound_only\">제목 </span>이재명 경기도지사, 성남시, 성남 경찰과 성남 국제마 ...</a>]"
            ]
          },
          "metadata": {
            "tags": []
          },
          "execution_count": 81
        }
      ]
    },
    {
      "metadata": {
        "id": "w7H3V5G5ajAx",
        "colab_type": "code",
        "colab": {
          "base_uri": "https://localhost:8080/",
          "height": 287
        },
        "outputId": "30d1d286-7115-4497-d5f4-e094f9cffb17"
      },
      "cell_type": "code",
      "source": [
        "# 제목도 텍스트 정리가 필요하다.\n",
        "\n",
        "subject = []\n",
        "i_subject = 0\n",
        "\n",
        "for sub in bl_subject:\n",
        "  sub = str(bl_subject[i_subject])\n",
        "  subject.append(to_return(sub))\n",
        "  i_subject = i_subject + 1\n",
        "\n",
        "subject"
      ],
      "execution_count": 82,
      "outputs": [
        {
          "output_type": "execute_result",
          "data": {
            "text/plain": [
              "['이재명과 은수미의 조폭 유착에 대한 철저한 수사를 ...',\n",
              " '성남시  국제 마피아파와 이재명경기도지사 은수미성 ...',\n",
              " '성남시조폭과 정치인들의 적폐를 청산 해주세요',\n",
              " '경기도지사 선거 다시하겠습니다',\n",
              " '파타야살인사건 제대로된 수사청원합니다',\n",
              " '경기도지사 이재명과 성남시장 은수미 즉각 구속수사 ...',\n",
              " '국회의원 급여를 국민투표를 통해 국민이 결정',\n",
              " '이재명에대하여',\n",
              " '교육부 장관님꼐 청원합니다.',\n",
              " '이재명 경기도지사 해임 후 보궐선거를 희망합니다 ( ...',\n",
              " '그것이 알고싶다, 성남시 은수미, 이재명 조폭 연루 ...',\n",
              " '성남시  청문회 진행건',\n",
              " '문재인 대통령님 철저한 조사  부탁드립니다.',\n",
              " '학교 교무실 청소에 관하여',\n",
              " '이재명 경기도지사, 성남시, 성남 경찰과 성남 국제마 ...']"
            ]
          },
          "metadata": {
            "tags": []
          },
          "execution_count": 82
        }
      ]
    },
    {
      "metadata": {
        "id": "8HdCoskwNX-9",
        "colab_type": "code",
        "colab": {
          "base_uri": "https://localhost:8080/",
          "height": 514
        },
        "outputId": "0dd64b07-6f78-494a-f434-8df80af6ad43"
      },
      "cell_type": "code",
      "source": [
        "# 정리가 끝난 1페이지의 청원목록 데이터를 데이터프레임에 추가한다.\n",
        "\n",
        "import pandas as pd\n",
        "\n",
        "df_pg1 = pd.DataFrame(\n",
        "    {'No': no, 'Category': category, 'Subject': subject, 'Agree': num_agree},\n",
        "    columns = ['No', 'Category', 'Subject', 'Agree']\n",
        ")\n",
        "\n",
        "df_pg1.head(15)"
      ],
      "execution_count": 83,
      "outputs": [
        {
          "output_type": "execute_result",
          "data": {
            "text/html": [
              "<div>\n",
              "<style scoped>\n",
              "    .dataframe tbody tr th:only-of-type {\n",
              "        vertical-align: middle;\n",
              "    }\n",
              "\n",
              "    .dataframe tbody tr th {\n",
              "        vertical-align: top;\n",
              "    }\n",
              "\n",
              "    .dataframe thead th {\n",
              "        text-align: right;\n",
              "    }\n",
              "</style>\n",
              "<table border=\"1\" class=\"dataframe\">\n",
              "  <thead>\n",
              "    <tr style=\"text-align: right;\">\n",
              "      <th></th>\n",
              "      <th>No</th>\n",
              "      <th>Category</th>\n",
              "      <th>Subject</th>\n",
              "      <th>Agree</th>\n",
              "    </tr>\n",
              "  </thead>\n",
              "  <tbody>\n",
              "    <tr>\n",
              "      <th>0</th>\n",
              "      <td>242494</td>\n",
              "      <td>기타</td>\n",
              "      <td>이재명과 은수미의 조폭 유착에 대한 철저한 수사를 ...</td>\n",
              "      <td>1</td>\n",
              "    </tr>\n",
              "    <tr>\n",
              "      <th>1</th>\n",
              "      <td>242493</td>\n",
              "      <td>정치개혁</td>\n",
              "      <td>성남시  국제 마피아파와 이재명경기도지사 은수미성 ...</td>\n",
              "      <td>3</td>\n",
              "    </tr>\n",
              "    <tr>\n",
              "      <th>2</th>\n",
              "      <td>242492</td>\n",
              "      <td>정치개혁</td>\n",
              "      <td>성남시조폭과 정치인들의 적폐를 청산 해주세요</td>\n",
              "      <td>1</td>\n",
              "    </tr>\n",
              "    <tr>\n",
              "      <th>3</th>\n",
              "      <td>242491</td>\n",
              "      <td>정치개혁</td>\n",
              "      <td>경기도지사 선거 다시하겠습니다</td>\n",
              "      <td>0</td>\n",
              "    </tr>\n",
              "    <tr>\n",
              "      <th>4</th>\n",
              "      <td>242490</td>\n",
              "      <td>인권/성평등</td>\n",
              "      <td>파타야살인사건 제대로된 수사청원합니다</td>\n",
              "      <td>0</td>\n",
              "    </tr>\n",
              "    <tr>\n",
              "      <th>5</th>\n",
              "      <td>242489</td>\n",
              "      <td>정치개혁</td>\n",
              "      <td>경기도지사 이재명과 성남시장 은수미 즉각 구속수사 ...</td>\n",
              "      <td>4</td>\n",
              "    </tr>\n",
              "    <tr>\n",
              "      <th>6</th>\n",
              "      <td>242488</td>\n",
              "      <td>정치개혁</td>\n",
              "      <td>국회의원 급여를 국민투표를 통해 국민이 결정</td>\n",
              "      <td>3</td>\n",
              "    </tr>\n",
              "    <tr>\n",
              "      <th>7</th>\n",
              "      <td>242487</td>\n",
              "      <td>기타</td>\n",
              "      <td>이재명에대하여</td>\n",
              "      <td>23</td>\n",
              "    </tr>\n",
              "    <tr>\n",
              "      <th>8</th>\n",
              "      <td>242486</td>\n",
              "      <td>육아/교육</td>\n",
              "      <td>교육부 장관님꼐 청원합니다.</td>\n",
              "      <td>1</td>\n",
              "    </tr>\n",
              "    <tr>\n",
              "      <th>9</th>\n",
              "      <td>242485</td>\n",
              "      <td>정치개혁</td>\n",
              "      <td>이재명 경기도지사 해임 후 보궐선거를 희망합니다 ( ...</td>\n",
              "      <td>29</td>\n",
              "    </tr>\n",
              "    <tr>\n",
              "      <th>10</th>\n",
              "      <td>242484</td>\n",
              "      <td>정치개혁</td>\n",
              "      <td>그것이 알고싶다, 성남시 은수미, 이재명 조폭 연루 ...</td>\n",
              "      <td>38</td>\n",
              "    </tr>\n",
              "    <tr>\n",
              "      <th>11</th>\n",
              "      <td>242483</td>\n",
              "      <td>경제민주화</td>\n",
              "      <td>성남시  청문회 진행건</td>\n",
              "      <td>15</td>\n",
              "    </tr>\n",
              "    <tr>\n",
              "      <th>12</th>\n",
              "      <td>242482</td>\n",
              "      <td>정치개혁</td>\n",
              "      <td>문재인 대통령님 철저한 조사  부탁드립니다.</td>\n",
              "      <td>36</td>\n",
              "    </tr>\n",
              "    <tr>\n",
              "      <th>13</th>\n",
              "      <td>242481</td>\n",
              "      <td>육아/교육</td>\n",
              "      <td>학교 교무실 청소에 관하여</td>\n",
              "      <td>1</td>\n",
              "    </tr>\n",
              "    <tr>\n",
              "      <th>14</th>\n",
              "      <td>242480</td>\n",
              "      <td>정치개혁</td>\n",
              "      <td>이재명 경기도지사, 성남시, 성남 경찰과 성남 국제마 ...</td>\n",
              "      <td>68</td>\n",
              "    </tr>\n",
              "  </tbody>\n",
              "</table>\n",
              "</div>"
            ],
            "text/plain": [
              "        No Category                            Subject  Agree\n",
              "0   242494       기타    이재명과 은수미의 조폭 유착에 대한 철저한 수사를 ...      1\n",
              "1   242493     정치개혁    성남시  국제 마피아파와 이재명경기도지사 은수미성 ...      3\n",
              "2   242492     정치개혁           성남시조폭과 정치인들의 적폐를 청산 해주세요      1\n",
              "3   242491     정치개혁                   경기도지사 선거 다시하겠습니다      0\n",
              "4   242490   인권/성평등               파타야살인사건 제대로된 수사청원합니다      0\n",
              "5   242489     정치개혁    경기도지사 이재명과 성남시장 은수미 즉각 구속수사 ...      4\n",
              "6   242488     정치개혁           국회의원 급여를 국민투표를 통해 국민이 결정      3\n",
              "7   242487       기타                            이재명에대하여     23\n",
              "8   242486    육아/교육                    교육부 장관님꼐 청원합니다.      1\n",
              "9   242485     정치개혁   이재명 경기도지사 해임 후 보궐선거를 희망합니다 ( ...     29\n",
              "10  242484     정치개혁   그것이 알고싶다, 성남시 은수미, 이재명 조폭 연루 ...     38\n",
              "11  242483    경제민주화                       성남시  청문회 진행건     15\n",
              "12  242482     정치개혁           문재인 대통령님 철저한 조사  부탁드립니다.     36\n",
              "13  242481    육아/교육                     학교 교무실 청소에 관하여      1\n",
              "14  242480     정치개혁  이재명 경기도지사, 성남시, 성남 경찰과 성남 국제마 ...     68"
            ]
          },
          "metadata": {
            "tags": []
          },
          "execution_count": 83
        }
      ]
    },
    {
      "metadata": {
        "id": "kQK0_sRdfZ0S",
        "colab_type": "text"
      },
      "cell_type": "markdown",
      "source": [
        "### [주의] 정치적인 내용입니다.\n",
        "\n",
        "7월 22일 일요일 오전 0시 30분 기준 데이터. 동시간대 '그것이 알고싶다'에서 다룬 이재명/은수미 당선자 관련 청원글이 많다.\n",
        "\n",
        "특히 242480번 글의 Agree 숫자가 놀라워서 일단 한번 박제를... 경기도민, 특히 성남시민이다보니 Agree 한 표 누르고 싶은 심정이다.\n",
        "\n",
        "![대체 텍스트](https://github.com/YoungestSalon/TIL/blob/master/Crawling_Capture.JPG?raw=true)\n",
        "\n"
      ]
    },
    {
      "metadata": {
        "id": "jzdilBZlisHM",
        "colab_type": "text"
      },
      "cell_type": "markdown",
      "source": [
        "## 추가과제 1\n",
        "\n",
        "전부 다 for문으로 for i in range(0, 10) 처리하면 가능하지 않을까?\n",
        "\n",
        "* HTML 페이지 번호 바꿔서 받아오는 과정 자동화\n",
        "* 각 요소의 리스트, 인덱스 번호를 페이지별로 자동 생성하도록 기능 추가\n",
        "* 각 요소의 불러오기(bs.select문)와 데이터 정제(for문) 자동 반복 기능 추가\n",
        "* 데이터 프레임 생성해서 데이터 추가하는 과정 자동화"
      ]
    },
    {
      "metadata": {
        "id": "_i3UCFLWjnsi",
        "colab_type": "text"
      },
      "cell_type": "markdown",
      "source": [
        "## 추가과제 2\n",
        "\n",
        "* 페이지 구조 파악 : 제목 / 본문 부분의 CSS Selector는?\n",
        "* for i in range (0, 100) 처리해서 100번을 반복시킨다.\n",
        "* URL 주소 랜덤 처리는 import random 해서 random.randint(1, 100) 메소드 사용."
      ]
    }
  ]
}