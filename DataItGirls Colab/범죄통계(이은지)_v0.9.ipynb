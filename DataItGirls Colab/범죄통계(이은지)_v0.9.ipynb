{
  "nbformat": 4,
  "nbformat_minor": 0,
  "metadata": {
    "colab": {
      "name": "범죄통계(이은지)_v0.9.ipynb",
      "version": "0.3.2",
      "provenance": [],
      "include_colab_link": true
    },
    "kernelspec": {
      "name": "python3",
      "display_name": "Python 3"
    }
  },
  "cells": [
    {
      "cell_type": "markdown",
      "metadata": {
        "id": "view-in-github",
        "colab_type": "text"
      },
      "source": [
        "[View in Colaboratory](https://colab.research.google.com/github/YoungestSalon/TIL/blob/master/%EB%B2%94%EC%A3%84%ED%86%B5%EA%B3%84(%EC%9D%B4%EC%9D%80%EC%A7%80)_v0.9.ipynb)"
      ]
    },
    {
      "metadata": {
        "id": "Oo8pWwQFfp1b",
        "colab_type": "text"
      },
      "cell_type": "markdown",
      "source": [
        "## 데이터 읽어오기\n",
        "\n",
        "웹에 공개되어 있는 범죄 통계 데이터 파일을 가져와서 파이썬 리스트(list)로 변환한 후 `data`라는 이름의 변수에 담아 둡니다."
      ]
    },
    {
      "metadata": {
        "id": "fQLoj6V9fDGc",
        "colab_type": "code",
        "colab": {}
      },
      "cell_type": "code",
      "source": [
        "import pandas as pd\n",
        "import numpy as np\n",
        "import math\n",
        "\n",
        "df = pd.read_csv('https://s3.ap-northeast-2.amazonaws.com/data10902/messy/crime_clean.csv')\n",
        "data = [d for d in df.get_values().tolist() if not math.isnan(d[-1])]"
      ],
      "execution_count": 0,
      "outputs": []
    },
    {
      "metadata": {
        "id": "yM_iZCYQf3-T",
        "colab_type": "text"
      },
      "cell_type": "markdown",
      "source": [
        "위 코드에는 아직 배우지 않은 내용들(pandas, numpy 등)이 담겨 있습니다. 하지만 위 코드를 제외한 아래의 모든 코드는 [파이써 자습서](https://docs.python.org/ko/3/tutorial/) 3, 4, 5장에서 설명하는 내용으로만 구성되어 있습니다.\n",
        "\n",
        "우선 데이터가 어떻게 생겼는지 확인하기 위해 리스트에서 처음 5개를 뽑아보겠습니다.\n",
        "\n",
        "데이터는 범죄유형 대분류, 범죄유형 소분류, 발생년도, 성별, 연령대, 피해/가해 유형, 인원수 순서로 구성되어 있습니다."
      ]
    },
    {
      "metadata": {
        "id": "B5_XfhyEfLJ1",
        "colab_type": "code",
        "colab": {
          "base_uri": "https://localhost:8080/",
          "height": 107
        },
        "outputId": "b0373596-2eda-42d2-ba37-1845d9c35019"
      },
      "cell_type": "code",
      "source": [
        "data[:5]"
      ],
      "execution_count": 0,
      "outputs": [
        {
          "output_type": "execute_result",
          "data": {
            "text/plain": [
              "[['강력범죄', '강간', 2012, '남자', '20세이하', '피해자', 0.0],\n",
              " ['강력범죄', '강간', 2012, '남자', '61세이상', '가해자', 0.0],\n",
              " ['강력범죄', '강간', 2012, '여자', '20세이하', '피해자', 0.0],\n",
              " ['강력범죄', '강간', 2012, '여자', '61세이상', '가해자', 0.0],\n",
              " ['강력범죄', '강간', 2013, '남자', '20세이하', '가해자', 1196.0]]"
            ]
          },
          "metadata": {
            "tags": []
          },
          "execution_count": 3
        }
      ]
    },
    {
      "metadata": {
        "id": "3YUk17gof_zh",
        "colab_type": "text"
      },
      "cell_type": "markdown",
      "source": [
        "마지막 다섯개도 뽑아볼까요?"
      ]
    },
    {
      "metadata": {
        "id": "wXd4UfQUfSJ4",
        "colab_type": "code",
        "colab": {
          "base_uri": "https://localhost:8080/",
          "height": 107
        },
        "outputId": "9ff67c9f-ae37-49d8-8b4c-f0424d2e92fb"
      },
      "cell_type": "code",
      "source": [
        "data[-5:]"
      ],
      "execution_count": 0,
      "outputs": [
        {
          "output_type": "execute_result",
          "data": {
            "text/plain": [
              "[['풍속범죄', '성풍속범죄', 2016, '여자', '51-60세', '피해자', 256.0],\n",
              " ['풍속범죄', '성풍속범죄', 2016, '여자', '61세이상', '가해자', 20.0],\n",
              " ['풍속범죄', '성풍속범죄', 2016, '여자', '61세이상', '피해자', 78.0],\n",
              " ['풍속범죄', '성풍속범죄', 2016, '여자', '미상', '가해자', 5.0],\n",
              " ['풍속범죄', '성풍속범죄', 2016, '여자', '미상', '피해자', 443.0]]"
            ]
          },
          "metadata": {
            "tags": []
          },
          "execution_count": 4
        }
      ]
    },
    {
      "metadata": {
        "id": "ZqwhxpQCgDxH",
        "colab_type": "text"
      },
      "cell_type": "markdown",
      "source": [
        " 전체 데이터는 몇 건이나 있을까요?"
      ]
    },
    {
      "metadata": {
        "id": "NUTvt5djgCT3",
        "colab_type": "code",
        "colab": {
          "base_uri": "https://localhost:8080/",
          "height": 35
        },
        "outputId": "2f4b8fdd-186e-43a2-e2b5-12f7c3b5c25b"
      },
      "cell_type": "code",
      "source": [
        "len(data)"
      ],
      "execution_count": 0,
      "outputs": [
        {
          "output_type": "execute_result",
          "data": {
            "text/plain": [
              "3860"
            ]
          },
          "metadata": {
            "tags": []
          },
          "execution_count": 5
        }
      ]
    },
    {
      "metadata": {
        "id": "bcbScIb2h5xz",
        "colab_type": "text"
      },
      "cell_type": "markdown",
      "source": [
        "전체 가해자 수는 몇 명일까요?"
      ]
    },
    {
      "metadata": {
        "id": "t7RSrQ39h8di",
        "colab_type": "code",
        "colab": {
          "base_uri": "https://localhost:8080/",
          "height": 35
        },
        "outputId": "784877fa-24b0-4feb-ffc0-c5ff5b4dc55b"
      },
      "cell_type": "code",
      "source": [
        "sum([d[6] for d in data if d[5] == '가해자'])"
      ],
      "execution_count": 0,
      "outputs": [
        {
          "output_type": "execute_result",
          "data": {
            "text/plain": [
              "3687871.0"
            ]
          },
          "metadata": {
            "tags": []
          },
          "execution_count": 6
        }
      ]
    },
    {
      "metadata": {
        "id": "IpUtgJPxgHY2",
        "colab_type": "text"
      },
      "cell_type": "markdown",
      "source": [
        "2015년 데이터 중 여성이 피해자인 데이터를 모두 뽑아볼까요?"
      ]
    },
    {
      "metadata": {
        "id": "jeI5njoWgGCh",
        "colab_type": "code",
        "colab": {
          "base_uri": "https://localhost:8080/",
          "height": 35
        },
        "outputId": "d5821f3e-856c-4e4d-f902-28529a72b28a"
      },
      "cell_type": "code",
      "source": [
        "female_victims_2015 = [d for d in data if d[2] == 2015 and d[3] == '여자' and d[5] == '피해자']\n",
        "len(female_victims_2015)"
      ],
      "execution_count": 0,
      "outputs": [
        {
          "output_type": "execute_result",
          "data": {
            "text/plain": [
              "190"
            ]
          },
          "metadata": {
            "tags": []
          },
          "execution_count": 7
        }
      ]
    },
    {
      "metadata": {
        "id": "C4e4oP74DjPc",
        "colab_type": "text"
      },
      "cell_type": "markdown",
      "source": [
        "아이디어들\n",
        "\n",
        "1. 강력범죄 / 지능범죄 / 폭력범죄 / 풍속범죄의 비율을 구하는 함수 (전체 연도 대상)\n",
        "2. 연도별 비율을 구하는 함수\n",
        "3. 범죄 유형별 대분류별 소분류 중 최빈값인 소분류 구하기 (또는 많은 순서대로 sort)\n",
        "4. 가해자, 피해자의 남녀 비율을 구하는 함수\n",
        "5. 강력범죄 내에서 가해자, 피해자의 남녀 비율을 구하는 함수 (전체 연도 대상)\n",
        "6. 강력범죄 가해자의 연령대별 비율을 구하는 함수 (전체 연도 대상)\n",
        "7. 강력범죄 피해자의 연령대별 비율을 구하는 함수 (전체 연도 대상)\n",
        "\n",
        "\n",
        "궁금한 점\n",
        "\n",
        "1. 이 데이터로 최빈값, 최소값, 중앙값, 분산, 표준편차를 구하는 것이 의미가 있을까?\n",
        "2. 추세선 등의 그래픽 적인 요소들을 활용하려면, matplotlib을 활용해야 할까?\n",
        "3. numpy 등의 수학/과학 계산 라이브러리를 쓰면 좀 더 쉽게 분석이 가능할까?\n",
        "4. pandas 라이브러리 사용해서 csv 파일 그대로 테이블로 보고 분석할 수는 없을까?\n",
        "5. (너무 멀리 갔나 싶지만) 이 데이터에 scikit-learn 라이브러리 쓰면 머신러닝이 가능할까?"
      ]
    },
    {
      "metadata": {
        "id": "sKLY8GmSGKX7",
        "colab_type": "text"
      },
      "cell_type": "markdown",
      "source": [
        "우선,  칼럼별로 종류를 확인해보자."
      ]
    },
    {
      "metadata": {
        "id": "DHhU2yvSGbY2",
        "colab_type": "code",
        "colab": {
          "base_uri": "https://localhost:8080/",
          "height": 35
        },
        "outputId": "7a78b566-24e8-4494-e67b-77ff78aac5cc"
      },
      "cell_type": "code",
      "source": [
        "set(d[0] for d in data)    # 대분류"
      ],
      "execution_count": 0,
      "outputs": [
        {
          "output_type": "execute_result",
          "data": {
            "text/plain": [
              "{'강력범죄', '지능범죄', '폭력범죄', '풍속범죄'}"
            ]
          },
          "metadata": {
            "tags": []
          },
          "execution_count": 10
        }
      ]
    },
    {
      "metadata": {
        "id": "4-f9XgWiHi1M",
        "colab_type": "code",
        "colab": {
          "base_uri": "https://localhost:8080/",
          "height": 521
        },
        "outputId": "47bcb5d5-6721-4ecf-b2fc-4c2e95b0eaa7"
      },
      "cell_type": "code",
      "source": [
        "set(d[1] for d in data)    # 소분류\n",
        "\n",
        "# 대분류별 소분류를 볼 수 있는 방법은 없을까? set() 함수를 중첩해서 딕셔너리로 만들려다가 실패."
      ],
      "execution_count": 0,
      "outputs": [
        {
          "output_type": "execute_result",
          "data": {
            "text/plain": [
              "{'강간',\n",
              " '강간·강제추행',\n",
              " '강도',\n",
              " '강제추행',\n",
              " '공갈',\n",
              " '기타(강간·강제추행)',\n",
              " '도박범죄',\n",
              " '문서·인장',\n",
              " '방화',\n",
              " '배임',\n",
              " '사기',\n",
              " '살인(기수)',\n",
              " '살인(미수등)',\n",
              " '상해',\n",
              " '성풍속범죄',\n",
              " '손괴',\n",
              " '약취·유인',\n",
              " '유가증권인지',\n",
              " '유사강간',\n",
              " '증수뢰',\n",
              " '직권남용',\n",
              " '직무유기',\n",
              " '체포·감금',\n",
              " '통화',\n",
              " '폭력행위',\n",
              " '폭행',\n",
              " '협박',\n",
              " '횡령'}"
            ]
          },
          "metadata": {
            "tags": []
          },
          "execution_count": 33
        }
      ]
    },
    {
      "metadata": {
        "id": "butXp3_PJ9wa",
        "colab_type": "text"
      },
      "cell_type": "markdown",
      "source": [
        "소분류 + 대분류를 다시 시도해보자!"
      ]
    },
    {
      "metadata": {
        "id": "ibTzAXroKOQL",
        "colab_type": "code",
        "colab": {
          "base_uri": "https://localhost:8080/",
          "height": 195
        },
        "outputId": "562ae923-5ee4-4742-99a4-bdeb667dead1"
      },
      "cell_type": "code",
      "source": [
        "class_combined = list(zip(data[0], data[1]))\n",
        "set(d[0] for d in class_combined)"
      ],
      "execution_count": 2,
      "outputs": [
        {
          "output_type": "error",
          "ename": "NameError",
          "evalue": "ignored",
          "traceback": [
            "\u001b[0;31m---------------------------------------------------------------------------\u001b[0m",
            "\u001b[0;31mNameError\u001b[0m                                 Traceback (most recent call last)",
            "\u001b[0;32m<ipython-input-2-3ae3afdc0c67>\u001b[0m in \u001b[0;36m<module>\u001b[0;34m()\u001b[0m\n\u001b[0;32m----> 1\u001b[0;31m \u001b[0mclass_combined\u001b[0m \u001b[0;34m=\u001b[0m \u001b[0mlist\u001b[0m\u001b[0;34m(\u001b[0m\u001b[0mzip\u001b[0m\u001b[0;34m(\u001b[0m\u001b[0mdata\u001b[0m\u001b[0;34m[\u001b[0m\u001b[0;36m0\u001b[0m\u001b[0;34m]\u001b[0m\u001b[0;34m,\u001b[0m \u001b[0mdata\u001b[0m\u001b[0;34m[\u001b[0m\u001b[0;36m1\u001b[0m\u001b[0;34m]\u001b[0m\u001b[0;34m)\u001b[0m\u001b[0;34m)\u001b[0m\u001b[0;34m\u001b[0m\u001b[0m\n\u001b[0m\u001b[1;32m      2\u001b[0m \u001b[0mset\u001b[0m\u001b[0;34m(\u001b[0m\u001b[0md\u001b[0m\u001b[0;34m[\u001b[0m\u001b[0;36m0\u001b[0m\u001b[0;34m]\u001b[0m \u001b[0;32mfor\u001b[0m \u001b[0md\u001b[0m \u001b[0;32min\u001b[0m \u001b[0mclass_combined\u001b[0m\u001b[0;34m)\u001b[0m\u001b[0;34m\u001b[0m\u001b[0m\n",
            "\u001b[0;31mNameError\u001b[0m: name 'data' is not defined"
          ]
        }
      ]
    },
    {
      "metadata": {
        "id": "GGEwJW4YHjfF",
        "colab_type": "code",
        "colab": {
          "base_uri": "https://localhost:8080/",
          "height": 35
        },
        "outputId": "43c59f8c-c95e-45c5-bbe6-87eda1fc277e"
      },
      "cell_type": "code",
      "source": [
        " set(d[2] for d in data)    # 발생년도"
      ],
      "execution_count": 0,
      "outputs": [
        {
          "output_type": "execute_result",
          "data": {
            "text/plain": [
              "{2012, 2013, 2014, 2015, 2016}"
            ]
          },
          "metadata": {
            "tags": []
          },
          "execution_count": 34
        }
      ]
    },
    {
      "metadata": {
        "id": "lzJIPPzgHjzM",
        "colab_type": "code",
        "colab": {
          "base_uri": "https://localhost:8080/",
          "height": 35
        },
        "outputId": "2ed4c22d-654a-4b44-f8e4-1c28173f3b79"
      },
      "cell_type": "code",
      "source": [
        "set(d[3] for d in data)    # 성별"
      ],
      "execution_count": 0,
      "outputs": [
        {
          "output_type": "execute_result",
          "data": {
            "text/plain": [
              "{'남자', '불상', '여자'}"
            ]
          },
          "metadata": {
            "tags": []
          },
          "execution_count": 35
        }
      ]
    },
    {
      "metadata": {
        "id": "vwSWdJPKLWNz",
        "colab_type": "text"
      },
      "cell_type": "markdown",
      "source": [
        "잠깐, 성별이 불상인 경우는 모두 피해자인가?"
      ]
    },
    {
      "metadata": {
        "id": "Eh4Nb3MDLZYQ",
        "colab_type": "code",
        "colab": {
          "base_uri": "https://localhost:8080/",
          "height": 35
        },
        "outputId": "013ea08f-65af-49f5-f332-3473d184848b"
      },
      "cell_type": "code",
      "source": [
        "non_victims = [d for d in data if d[3] == '불상' and d[5] == '가해자']\n",
        "print(len(non_victims))"
      ],
      "execution_count": 0,
      "outputs": [
        {
          "output_type": "stream",
          "text": [
            "0\n"
          ],
          "name": "stdout"
        }
      ]
    },
    {
      "metadata": {
        "id": "EGZ2TjXuLuFC",
        "colab_type": "text"
      },
      "cell_type": "markdown",
      "source": [
        "성별이 불상이고 가해자인 경우는 없는 것으로 보아, 모든 성별 불상인 경우는 피해자일 것이다."
      ]
    },
    {
      "metadata": {
        "id": "ite_GqeiHkHf",
        "colab_type": "code",
        "colab": {
          "base_uri": "https://localhost:8080/",
          "height": 35
        },
        "outputId": "a459c930-0308-4332-cb9e-98c61cce3e21"
      },
      "cell_type": "code",
      "source": [
        "set(d[4] for d in data)    # 연령대"
      ],
      "execution_count": 0,
      "outputs": [
        {
          "output_type": "execute_result",
          "data": {
            "text/plain": [
              "{'20세이하', '21-30세', '31-40세', '41-50세', '51-60세', '61세이상', '미상', '불상'}"
            ]
          },
          "metadata": {
            "tags": []
          },
          "execution_count": 36
        }
      ]
    },
    {
      "metadata": {
        "id": "9SD3aPX7HkaF",
        "colab_type": "code",
        "colab": {
          "base_uri": "https://localhost:8080/",
          "height": 35
        },
        "outputId": "281878ae-1b56-4adf-9083-6c2308d83320"
      },
      "cell_type": "code",
      "source": [
        "set(d[5] for d in data)    # 가해, 피해 구분\n",
        "# 인원수는 이산형 변수가 아니라 연속형 변수일 것 같아서 제외"
      ],
      "execution_count": 0,
      "outputs": [
        {
          "output_type": "execute_result",
          "data": {
            "text/plain": [
              "{'가해자', '피해자'}"
            ]
          },
          "metadata": {
            "tags": []
          },
          "execution_count": 37
        }
      ]
    },
    {
      "metadata": {
        "id": "87VVjfMIMQYH",
        "colab_type": "text"
      },
      "cell_type": "markdown",
      "source": [
        "\n",
        "Q1-1. 전체 범죄 중 강력범죄의 비율은?"
      ]
    },
    {
      "metadata": {
        "id": "EFyVnF9TMY11",
        "colab_type": "code",
        "colab": {
          "base_uri": "https://localhost:8080/",
          "height": 35
        },
        "outputId": "dd164868-3e6a-4843-cdb2-d986d3cbbb87"
      },
      "cell_type": "code",
      "source": [
        "violent_crime = [d for d in data if d[0] == '강력범죄']\n",
        "violent_percent = str(round((len(violent_crime) / len(data) * 100), 2))\n",
        "print(violent_percent + \"%\")"
      ],
      "execution_count": 0,
      "outputs": [
        {
          "output_type": "stream",
          "text": [
            "28.63%\n"
          ],
          "name": "stdout"
        }
      ]
    },
    {
      "metadata": {
        "id": "FoVEWswDPtVq",
        "colab_type": "text"
      },
      "cell_type": "markdown",
      "source": [
        "Q2. 피해자 중 여성의 비율은?"
      ]
    },
    {
      "metadata": {
        "id": "zcWMRHnxPwQ3",
        "colab_type": "code",
        "colab": {
          "base_uri": "https://localhost:8080/",
          "height": 35
        },
        "outputId": "87ad6133-0776-41ec-c55c-aa1f9b85ff0e"
      },
      "cell_type": "code",
      "source": [
        "woman_victim = [d for d in data if d[3] == '여자' and d[5] == '피해자']\n",
        "victim = [d for d in data if d[5] == '피해자']\n",
        "woman_percent = str(round((len(woman_victim) / len(victim) * 100), 2))\n",
        "print(woman_percent + \"%\")"
      ],
      "execution_count": 0,
      "outputs": [
        {
          "output_type": "stream",
          "text": [
            "46.69%\n"
          ],
          "name": "stdout"
        }
      ]
    },
    {
      "metadata": {
        "id": "dcVV0hDvQaeh",
        "colab_type": "text"
      },
      "cell_type": "markdown",
      "source": [
        "Q3. 강력범죄 피해자 중 여성의 비율은?"
      ]
    },
    {
      "metadata": {
        "id": "3m7YBFgjQe67",
        "colab_type": "code",
        "colab": {
          "base_uri": "https://localhost:8080/",
          "height": 35
        },
        "outputId": "fb37e886-a8e2-4fee-d248-99fb26d6a2d2"
      },
      "cell_type": "code",
      "source": [
        "woman_violent_victim = [d for d in data if d[0] == '강력범죄' and d[3] == '여자' and d[5] == '피해자']\n",
        "violent_victim = [d for d in data if d[0] == '강력범죄' and d[5] == '피해자']\n",
        "woman_violent_victim_percent = str(round((len(woman_violent_victim) / len(violent_victim) * 100), 2))\n",
        "print(woman_violent_victim_percent + \"%\")\n",
        "\n",
        "# 어라, 결과값이 뭔가 이상한데...?"
      ],
      "execution_count": 0,
      "outputs": [
        {
          "output_type": "stream",
          "text": [
            "46.76%\n"
          ],
          "name": "stdout"
        }
      ]
    }
  ]
}