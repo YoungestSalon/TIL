{
 "cells": [
  {
   "cell_type": "markdown",
   "metadata": {
    "colab_type": "text",
    "id": "_SA4MsmkCMEL"
   },
   "source": [
    "# Pandas 10분 완성"
   ]
  },
  {
   "cell_type": "markdown",
   "metadata": {
    "colab_type": "text",
    "id": "q3iuQdonkHB5"
   },
   "source": [
    "*역자 주 : 원문은 [링크](https://pandas.pydata.org/pandas-docs/stable/10min.html)를 참조하세요.*"
   ]
  },
  {
   "cell_type": "markdown",
   "metadata": {
    "colab_type": "text",
    "id": "6vTEdOiaLNf5"
   },
   "source": [
    "이 소개서는 주로 신규 사용자를 대상으로 한 판다스에 대한 간략한 소개입니다. 더 복잡한 방법은 [Cookbook](https://pandas.pydata.org/pandas-docs/stable/cookbook.html#cookbook) 에서 볼 수 있습니다.\n",
    "\n",
    "\n",
    "일반적으로 다음과 같이 불러옵니다."
   ]
  },
  {
   "cell_type": "code",
   "execution_count": 1,
   "metadata": {
    "colab": {
     "autoexec": {
      "startup": false,
      "wait_interval": 0
     }
    },
    "colab_type": "code",
    "id": "u8AvydKWLNf6"
   },
   "outputs": [],
   "source": [
    "import pandas as pd"
   ]
  },
  {
   "cell_type": "code",
   "execution_count": 2,
   "metadata": {
    "colab": {
     "autoexec": {
      "startup": false,
      "wait_interval": 0
     }
    },
    "colab_type": "code",
    "id": "gt_2tMD2LNf9"
   },
   "outputs": [],
   "source": [
    "import numpy as np"
   ]
  },
  {
   "cell_type": "code",
   "execution_count": 3,
   "metadata": {
    "colab": {
     "autoexec": {
      "startup": false,
      "wait_interval": 0
     }
    },
    "colab_type": "code",
    "id": "y6Eq4MTnLNf_"
   },
   "outputs": [],
   "source": [
    "import matplotlib.pyplot as plt"
   ]
  },
  {
   "cell_type": "markdown",
   "metadata": {
    "colab_type": "text",
    "id": "X9rrAHzu2Vab"
   },
   "source": [
    "## Object Creation (객체 생성)"
   ]
  },
  {
   "cell_type": "markdown",
   "metadata": {
    "colab_type": "text",
    "id": "5hgd3fkZ3DKl"
   },
   "source": [
    "[데이터 구조 소개 섹션](https://pandas.pydata.org/pandas-docs/stable/dsintro.html#dsintro)을 참조하세요.\n",
    "\n",
    "pandas는 값을 가지고 있는 리스트를 통해 [시리즈](https://pandas.pydata.org/pandas-docs/stable/generated/pandas.Series.html#pandas.Series)를 만들고, 정수로 만들어진 인덱스를 기본값으로 불러올 것입니다."
   ]
  },
  {
   "cell_type": "code",
   "execution_count": 4,
   "metadata": {
    "colab": {
     "autoexec": {
      "startup": false,
      "wait_interval": 0
     }
    },
    "colab_type": "code",
    "id": "qg9Rcvn83IIA"
   },
   "outputs": [],
   "source": [
    "s = pd.Series([1,3,5,np.nan,6,8])"
   ]
  },
  {
   "cell_type": "code",
   "execution_count": 5,
   "metadata": {
    "colab": {
     "autoexec": {
      "startup": false,
      "wait_interval": 0
     },
     "base_uri": "https://localhost:8080/",
     "height": 143
    },
    "colab_type": "code",
    "executionInfo": {
     "elapsed": 1516,
     "status": "ok",
     "timestamp": 1532272756320,
     "user": {
      "displayName": "EUNJI LEE",
      "photoUrl": "//lh5.googleusercontent.com/-Af1nbBVMBUM/AAAAAAAAAAI/AAAAAAAAAG8/Q6xuMVAUbHk/s50-c-k-no/photo.jpg",
      "userId": "113493488780737428858"
     },
     "user_tz": -540
    },
    "id": "ulVQdi2w3J98",
    "outputId": "c80a4d58-75df-471f-88bb-924d3ff39621"
   },
   "outputs": [
    {
     "data": {
      "text/plain": [
       "0    1.0\n",
       "1    3.0\n",
       "2    5.0\n",
       "3    NaN\n",
       "4    6.0\n",
       "5    8.0\n",
       "dtype: float64"
      ]
     },
     "execution_count": 5,
     "metadata": {},
     "output_type": "execute_result"
    }
   ],
   "source": [
    "s"
   ]
  },
  {
   "cell_type": "markdown",
   "metadata": {
    "colab_type": "text",
    "id": "lea8Y7Rq3tWL"
   },
   "source": [
    "datetime 인덱스와 레이블이 있는 열을 가지고 있는 NumPy 배열을 전달하여 데이터프레임을 만듭니다."
   ]
  },
  {
   "cell_type": "code",
   "execution_count": 6,
   "metadata": {
    "colab": {
     "autoexec": {
      "startup": false,
      "wait_interval": 0
     }
    },
    "colab_type": "code",
    "id": "Cj4sCmrH3R71"
   },
   "outputs": [],
   "source": [
    "dates = pd.date_range('20130101', periods=6)"
   ]
  },
  {
   "cell_type": "code",
   "execution_count": 7,
   "metadata": {
    "colab": {
     "autoexec": {
      "startup": false,
      "wait_interval": 0
     },
     "base_uri": "https://localhost:8080/",
     "height": 71
    },
    "colab_type": "code",
    "executionInfo": {
     "elapsed": 1536,
     "status": "ok",
     "timestamp": 1532272761532,
     "user": {
      "displayName": "EUNJI LEE",
      "photoUrl": "//lh5.googleusercontent.com/-Af1nbBVMBUM/AAAAAAAAAAI/AAAAAAAAAG8/Q6xuMVAUbHk/s50-c-k-no/photo.jpg",
      "userId": "113493488780737428858"
     },
     "user_tz": -540
    },
    "id": "yM54opp63Sfg",
    "outputId": "1b4bc193-6769-4e47-ef04-ea7a4f9dad53"
   },
   "outputs": [
    {
     "data": {
      "text/plain": [
       "DatetimeIndex(['2013-01-01', '2013-01-02', '2013-01-03', '2013-01-04',\n",
       "               '2013-01-05', '2013-01-06'],\n",
       "              dtype='datetime64[ns]', freq='D')"
      ]
     },
     "execution_count": 7,
     "metadata": {},
     "output_type": "execute_result"
    }
   ],
   "source": [
    "dates"
   ]
  },
  {
   "cell_type": "code",
   "execution_count": 8,
   "metadata": {
    "colab": {
     "autoexec": {
      "startup": false,
      "wait_interval": 0
     }
    },
    "colab_type": "code",
    "id": "YQCGP5R43XVT"
   },
   "outputs": [],
   "source": [
    "df = pd.DataFrame(np.random.randn(6,4), index=dates, columns=list('ABCD'))"
   ]
  },
  {
   "cell_type": "code",
   "execution_count": 9,
   "metadata": {
    "colab": {
     "autoexec": {
      "startup": false,
      "wait_interval": 0
     },
     "base_uri": "https://localhost:8080/",
     "height": 235
    },
    "colab_type": "code",
    "executionInfo": {
     "elapsed": 2658,
     "status": "ok",
     "timestamp": 1532272772779,
     "user": {
      "displayName": "EUNJI LEE",
      "photoUrl": "//lh5.googleusercontent.com/-Af1nbBVMBUM/AAAAAAAAAAI/AAAAAAAAAG8/Q6xuMVAUbHk/s50-c-k-no/photo.jpg",
      "userId": "113493488780737428858"
     },
     "user_tz": -540
    },
    "id": "fkU_8Hwg3ZTg",
    "outputId": "456ffa6a-06ca-427a-f6ae-412f18f2feab"
   },
   "outputs": [
    {
     "data": {
      "text/html": [
       "<div>\n",
       "<style scoped>\n",
       "    .dataframe tbody tr th:only-of-type {\n",
       "        vertical-align: middle;\n",
       "    }\n",
       "\n",
       "    .dataframe tbody tr th {\n",
       "        vertical-align: top;\n",
       "    }\n",
       "\n",
       "    .dataframe thead th {\n",
       "        text-align: right;\n",
       "    }\n",
       "</style>\n",
       "<table border=\"1\" class=\"dataframe\">\n",
       "  <thead>\n",
       "    <tr style=\"text-align: right;\">\n",
       "      <th></th>\n",
       "      <th>A</th>\n",
       "      <th>B</th>\n",
       "      <th>C</th>\n",
       "      <th>D</th>\n",
       "    </tr>\n",
       "  </thead>\n",
       "  <tbody>\n",
       "    <tr>\n",
       "      <th>2013-01-01</th>\n",
       "      <td>1.072056</td>\n",
       "      <td>0.676612</td>\n",
       "      <td>0.190707</td>\n",
       "      <td>-0.106271</td>\n",
       "    </tr>\n",
       "    <tr>\n",
       "      <th>2013-01-02</th>\n",
       "      <td>-1.347269</td>\n",
       "      <td>-1.948308</td>\n",
       "      <td>-0.542869</td>\n",
       "      <td>0.411718</td>\n",
       "    </tr>\n",
       "    <tr>\n",
       "      <th>2013-01-03</th>\n",
       "      <td>-0.196870</td>\n",
       "      <td>-1.043814</td>\n",
       "      <td>-2.912603</td>\n",
       "      <td>0.216540</td>\n",
       "    </tr>\n",
       "    <tr>\n",
       "      <th>2013-01-04</th>\n",
       "      <td>0.336644</td>\n",
       "      <td>0.428977</td>\n",
       "      <td>0.136755</td>\n",
       "      <td>0.129543</td>\n",
       "    </tr>\n",
       "    <tr>\n",
       "      <th>2013-01-05</th>\n",
       "      <td>-0.459113</td>\n",
       "      <td>1.272854</td>\n",
       "      <td>0.684824</td>\n",
       "      <td>-0.001784</td>\n",
       "    </tr>\n",
       "    <tr>\n",
       "      <th>2013-01-06</th>\n",
       "      <td>-0.864858</td>\n",
       "      <td>0.169408</td>\n",
       "      <td>0.557564</td>\n",
       "      <td>2.094632</td>\n",
       "    </tr>\n",
       "  </tbody>\n",
       "</table>\n",
       "</div>"
      ],
      "text/plain": [
       "                   A         B         C         D\n",
       "2013-01-01  1.072056  0.676612  0.190707 -0.106271\n",
       "2013-01-02 -1.347269 -1.948308 -0.542869  0.411718\n",
       "2013-01-03 -0.196870 -1.043814 -2.912603  0.216540\n",
       "2013-01-04  0.336644  0.428977  0.136755  0.129543\n",
       "2013-01-05 -0.459113  1.272854  0.684824 -0.001784\n",
       "2013-01-06 -0.864858  0.169408  0.557564  2.094632"
      ]
     },
     "execution_count": 9,
     "metadata": {},
     "output_type": "execute_result"
    }
   ],
   "source": [
    "df"
   ]
  },
  {
   "cell_type": "markdown",
   "metadata": {
    "colab_type": "text",
    "id": "rYnipdkELNgC"
   },
   "source": [
    "시리즈와 같은 것으로 변환될 수 있는 객체들의 dict로 구성된 데이터프레임을 만듭니다."
   ]
  },
  {
   "cell_type": "code",
   "execution_count": 10,
   "metadata": {
    "colab": {
     "autoexec": {
      "startup": false,
      "wait_interval": 0
     }
    },
    "colab_type": "code",
    "id": "cKpPtOIVLNgC"
   },
   "outputs": [],
   "source": [
    "df2 = pd.DataFrame({'A' : 1.,\n",
    "                    'B' : pd.Timestamp('20130102'),\n",
    "                    'C' : pd.Series(1,index=list(range(4)),dtype='float32'),\n",
    "                    'D' : np.array([3] * 4,dtype='int32'),\n",
    "                    'E' : pd.Categorical([\"test\",\"train\",\"test\",\"train\"]),\n",
    "                    'F' : 'foo' })"
   ]
  },
  {
   "cell_type": "code",
   "execution_count": 11,
   "metadata": {
    "colab": {
     "autoexec": {
      "startup": false,
      "wait_interval": 0
     },
     "base_uri": "https://localhost:8080/",
     "height": 173
    },
    "colab_type": "code",
    "executionInfo": {
     "elapsed": 1879,
     "status": "ok",
     "timestamp": 1532272780791,
     "user": {
      "displayName": "EUNJI LEE",
      "photoUrl": "//lh5.googleusercontent.com/-Af1nbBVMBUM/AAAAAAAAAAI/AAAAAAAAAG8/Q6xuMVAUbHk/s50-c-k-no/photo.jpg",
      "userId": "113493488780737428858"
     },
     "user_tz": -540
    },
    "id": "QDm61ULjLNgE",
    "outputId": "5415e667-1330-4f3f-d60f-29a99585888c"
   },
   "outputs": [
    {
     "data": {
      "text/html": [
       "<div>\n",
       "<style scoped>\n",
       "    .dataframe tbody tr th:only-of-type {\n",
       "        vertical-align: middle;\n",
       "    }\n",
       "\n",
       "    .dataframe tbody tr th {\n",
       "        vertical-align: top;\n",
       "    }\n",
       "\n",
       "    .dataframe thead th {\n",
       "        text-align: right;\n",
       "    }\n",
       "</style>\n",
       "<table border=\"1\" class=\"dataframe\">\n",
       "  <thead>\n",
       "    <tr style=\"text-align: right;\">\n",
       "      <th></th>\n",
       "      <th>A</th>\n",
       "      <th>B</th>\n",
       "      <th>C</th>\n",
       "      <th>D</th>\n",
       "      <th>E</th>\n",
       "      <th>F</th>\n",
       "    </tr>\n",
       "  </thead>\n",
       "  <tbody>\n",
       "    <tr>\n",
       "      <th>0</th>\n",
       "      <td>1.0</td>\n",
       "      <td>2013-01-02</td>\n",
       "      <td>1.0</td>\n",
       "      <td>3</td>\n",
       "      <td>test</td>\n",
       "      <td>foo</td>\n",
       "    </tr>\n",
       "    <tr>\n",
       "      <th>1</th>\n",
       "      <td>1.0</td>\n",
       "      <td>2013-01-02</td>\n",
       "      <td>1.0</td>\n",
       "      <td>3</td>\n",
       "      <td>train</td>\n",
       "      <td>foo</td>\n",
       "    </tr>\n",
       "    <tr>\n",
       "      <th>2</th>\n",
       "      <td>1.0</td>\n",
       "      <td>2013-01-02</td>\n",
       "      <td>1.0</td>\n",
       "      <td>3</td>\n",
       "      <td>test</td>\n",
       "      <td>foo</td>\n",
       "    </tr>\n",
       "    <tr>\n",
       "      <th>3</th>\n",
       "      <td>1.0</td>\n",
       "      <td>2013-01-02</td>\n",
       "      <td>1.0</td>\n",
       "      <td>3</td>\n",
       "      <td>train</td>\n",
       "      <td>foo</td>\n",
       "    </tr>\n",
       "  </tbody>\n",
       "</table>\n",
       "</div>"
      ],
      "text/plain": [
       "     A          B    C  D      E    F\n",
       "0  1.0 2013-01-02  1.0  3   test  foo\n",
       "1  1.0 2013-01-02  1.0  3  train  foo\n",
       "2  1.0 2013-01-02  1.0  3   test  foo\n",
       "3  1.0 2013-01-02  1.0  3  train  foo"
      ]
     },
     "execution_count": 11,
     "metadata": {},
     "output_type": "execute_result"
    }
   ],
   "source": [
    "df2"
   ]
  },
  {
   "cell_type": "markdown",
   "metadata": {
    "colab_type": "text",
    "id": "Hlagj-SMLNgI"
   },
   "source": [
    "데이터프레임 결과물의 열은 다양한 데이터 타입(dtypes)으로 구성됩니다."
   ]
  },
  {
   "cell_type": "code",
   "execution_count": 12,
   "metadata": {
    "colab": {
     "autoexec": {
      "startup": false,
      "wait_interval": 0
     },
     "base_uri": "https://localhost:8080/",
     "height": 143
    },
    "colab_type": "code",
    "executionInfo": {
     "elapsed": 1919,
     "status": "ok",
     "timestamp": 1532272783727,
     "user": {
      "displayName": "EUNJI LEE",
      "photoUrl": "//lh5.googleusercontent.com/-Af1nbBVMBUM/AAAAAAAAAAI/AAAAAAAAAG8/Q6xuMVAUbHk/s50-c-k-no/photo.jpg",
      "userId": "113493488780737428858"
     },
     "user_tz": -540
    },
    "id": "eFzVncepLNgJ",
    "outputId": "a045d6d4-4d74-47a1-f9ee-7b4318abb9de"
   },
   "outputs": [
    {
     "data": {
      "text/plain": [
       "A           float64\n",
       "B    datetime64[ns]\n",
       "C           float32\n",
       "D             int32\n",
       "E          category\n",
       "F            object\n",
       "dtype: object"
      ]
     },
     "execution_count": 12,
     "metadata": {},
     "output_type": "execute_result"
    }
   ],
   "source": [
    "df2.dtypes"
   ]
  },
  {
   "cell_type": "markdown",
   "metadata": {
    "colab_type": "text",
    "id": "oOt1V164LNgN"
   },
   "source": [
    "IPython을 이용하고 계시다면, (공용 속성을 포함한) 열 이름에 대한 Tap 자동완성 기능이 자동으로 활성화됩니다. <br>\n",
    "다음은 완성될 속성에 대한 부분집합(subset)입니다. \n",
    "\n",
    "*역자 주 : 하기 코드의 경우, IPython이 아닌 환경(Google Colaboratory, Jupyter 등)에서는 사용이 불가능한 코드인 점에 주의하세요.*"
   ]
  },
  {
   "cell_type": "code",
   "execution_count": 13,
   "metadata": {
    "colab": {
     "autoexec": {
      "startup": false,
      "wait_interval": 0
     }
    },
    "colab_type": "code",
    "id": "Me53oH4ZkZHt"
   },
   "outputs": [],
   "source": [
    "# df2.<TAB>"
   ]
  },
  {
   "cell_type": "markdown",
   "metadata": {
    "colab_type": "text",
    "id": "Itt3P3rQ5DV-"
   },
   "source": [
    "*역자 주 : IPython에서 실행하면 다음과 같은 결과값이 나옵니다.*\n",
    "\n",
    "```\n",
    "df2.A                  df2.bool\n",
    "df2.abs                df2.boxplot\n",
    "df2.add                df2.C\n",
    "df2.add_prefix         df2.clip\n",
    "df2.add_suffix         df2.clip_lower\n",
    "df2.align              df2.clip_upper\n",
    "df2.all                df2.columns\n",
    "df2.any                df2.combine\n",
    "df2.append             df2.combine_first\n",
    "df2.apply              df2.compound\n",
    "df2.applymap           df2.consolidate\n",
    "df2.D\n",
    "```"
   ]
  },
  {
   "cell_type": "markdown",
   "metadata": {
    "colab_type": "text",
    "id": "YHLdSINuLNgS"
   },
   "source": [
    "보시다시피, A, B, C 그리고 D 열이 Tab 자동완성 기능으로 실행됩니다. 물론 E도 있습니다. 나머지 속성들은 간결하게 잘라버렸습니다. "
   ]
  },
  {
   "cell_type": "markdown",
   "metadata": {
    "colab_type": "text",
    "id": "lkJcyM0ILNgT"
   },
   "source": [
    "## Viewing Data(데이터 확인하기)"
   ]
  },
  {
   "cell_type": "markdown",
   "metadata": {
    "colab_type": "text",
    "id": "2108prOVLNgY"
   },
   "source": [
    "[Basic Section](https://pandas.pydata.org/pandas-docs/stable/basics.html#basics)을 참조하세요.\n",
    "\n",
    "데이터프레임의 가장 윗 줄과 마지막 줄을 확인하고 싶을 때에 사용하는 방법은 다음과 같습니다. <br>\n",
    "\n",
    "*역자 주 <br>\n",
    "괄호()안에는 숫자가 들어갈 수도 있고 안 들어갈 수도 있습니다. <br>\n",
    "숫자가 들어간다면, 윗/마지막 줄의 특정 줄을 불러올 수 있습니다. <br>\n",
    "숫자가 들어가지 않다면, 기본값인 5로 처리됩니다.*\n",
    "\n",
    "*예시 <br>\n",
    "df.tail(3) - 끝에서 마지막 3줄을 불러옴 <br>\n",
    "df.tail() - 끝에서 마지막 5줄 불러옴*"
   ]
  },
  {
   "cell_type": "code",
   "execution_count": 14,
   "metadata": {
    "colab": {
     "autoexec": {
      "startup": false,
      "wait_interval": 0
     },
     "base_uri": "https://localhost:8080/",
     "height": 204
    },
    "colab_type": "code",
    "executionInfo": {
     "elapsed": 2881,
     "status": "ok",
     "timestamp": 1532272790793,
     "user": {
      "displayName": "EUNJI LEE",
      "photoUrl": "//lh5.googleusercontent.com/-Af1nbBVMBUM/AAAAAAAAAAI/AAAAAAAAAG8/Q6xuMVAUbHk/s50-c-k-no/photo.jpg",
      "userId": "113493488780737428858"
     },
     "user_tz": -540
    },
    "id": "bW82qnwBLNga",
    "outputId": "fc91d05a-3894-48c7-fcb7-b2a7e6298580"
   },
   "outputs": [
    {
     "data": {
      "text/html": [
       "<div>\n",
       "<style scoped>\n",
       "    .dataframe tbody tr th:only-of-type {\n",
       "        vertical-align: middle;\n",
       "    }\n",
       "\n",
       "    .dataframe tbody tr th {\n",
       "        vertical-align: top;\n",
       "    }\n",
       "\n",
       "    .dataframe thead th {\n",
       "        text-align: right;\n",
       "    }\n",
       "</style>\n",
       "<table border=\"1\" class=\"dataframe\">\n",
       "  <thead>\n",
       "    <tr style=\"text-align: right;\">\n",
       "      <th></th>\n",
       "      <th>A</th>\n",
       "      <th>B</th>\n",
       "      <th>C</th>\n",
       "      <th>D</th>\n",
       "    </tr>\n",
       "  </thead>\n",
       "  <tbody>\n",
       "    <tr>\n",
       "      <th>2013-01-01</th>\n",
       "      <td>1.072056</td>\n",
       "      <td>0.676612</td>\n",
       "      <td>0.190707</td>\n",
       "      <td>-0.106271</td>\n",
       "    </tr>\n",
       "    <tr>\n",
       "      <th>2013-01-02</th>\n",
       "      <td>-1.347269</td>\n",
       "      <td>-1.948308</td>\n",
       "      <td>-0.542869</td>\n",
       "      <td>0.411718</td>\n",
       "    </tr>\n",
       "    <tr>\n",
       "      <th>2013-01-03</th>\n",
       "      <td>-0.196870</td>\n",
       "      <td>-1.043814</td>\n",
       "      <td>-2.912603</td>\n",
       "      <td>0.216540</td>\n",
       "    </tr>\n",
       "    <tr>\n",
       "      <th>2013-01-04</th>\n",
       "      <td>0.336644</td>\n",
       "      <td>0.428977</td>\n",
       "      <td>0.136755</td>\n",
       "      <td>0.129543</td>\n",
       "    </tr>\n",
       "    <tr>\n",
       "      <th>2013-01-05</th>\n",
       "      <td>-0.459113</td>\n",
       "      <td>1.272854</td>\n",
       "      <td>0.684824</td>\n",
       "      <td>-0.001784</td>\n",
       "    </tr>\n",
       "  </tbody>\n",
       "</table>\n",
       "</div>"
      ],
      "text/plain": [
       "                   A         B         C         D\n",
       "2013-01-01  1.072056  0.676612  0.190707 -0.106271\n",
       "2013-01-02 -1.347269 -1.948308 -0.542869  0.411718\n",
       "2013-01-03 -0.196870 -1.043814 -2.912603  0.216540\n",
       "2013-01-04  0.336644  0.428977  0.136755  0.129543\n",
       "2013-01-05 -0.459113  1.272854  0.684824 -0.001784"
      ]
     },
     "execution_count": 14,
     "metadata": {},
     "output_type": "execute_result"
    }
   ],
   "source": [
    "df.head()"
   ]
  },
  {
   "cell_type": "code",
   "execution_count": 15,
   "metadata": {
    "colab": {
     "autoexec": {
      "startup": false,
      "wait_interval": 0
     },
     "base_uri": "https://localhost:8080/",
     "height": 142
    },
    "colab_type": "code",
    "executionInfo": {
     "elapsed": 1156,
     "status": "ok",
     "timestamp": 1532272793257,
     "user": {
      "displayName": "EUNJI LEE",
      "photoUrl": "//lh5.googleusercontent.com/-Af1nbBVMBUM/AAAAAAAAAAI/AAAAAAAAAG8/Q6xuMVAUbHk/s50-c-k-no/photo.jpg",
      "userId": "113493488780737428858"
     },
     "user_tz": -540
    },
    "id": "mDFQ0TnFLNgg",
    "outputId": "2f9c9eac-68dd-4d1a-b92b-19bf97bc6212"
   },
   "outputs": [
    {
     "data": {
      "text/html": [
       "<div>\n",
       "<style scoped>\n",
       "    .dataframe tbody tr th:only-of-type {\n",
       "        vertical-align: middle;\n",
       "    }\n",
       "\n",
       "    .dataframe tbody tr th {\n",
       "        vertical-align: top;\n",
       "    }\n",
       "\n",
       "    .dataframe thead th {\n",
       "        text-align: right;\n",
       "    }\n",
       "</style>\n",
       "<table border=\"1\" class=\"dataframe\">\n",
       "  <thead>\n",
       "    <tr style=\"text-align: right;\">\n",
       "      <th></th>\n",
       "      <th>A</th>\n",
       "      <th>B</th>\n",
       "      <th>C</th>\n",
       "      <th>D</th>\n",
       "    </tr>\n",
       "  </thead>\n",
       "  <tbody>\n",
       "    <tr>\n",
       "      <th>2013-01-04</th>\n",
       "      <td>0.336644</td>\n",
       "      <td>0.428977</td>\n",
       "      <td>0.136755</td>\n",
       "      <td>0.129543</td>\n",
       "    </tr>\n",
       "    <tr>\n",
       "      <th>2013-01-05</th>\n",
       "      <td>-0.459113</td>\n",
       "      <td>1.272854</td>\n",
       "      <td>0.684824</td>\n",
       "      <td>-0.001784</td>\n",
       "    </tr>\n",
       "    <tr>\n",
       "      <th>2013-01-06</th>\n",
       "      <td>-0.864858</td>\n",
       "      <td>0.169408</td>\n",
       "      <td>0.557564</td>\n",
       "      <td>2.094632</td>\n",
       "    </tr>\n",
       "  </tbody>\n",
       "</table>\n",
       "</div>"
      ],
      "text/plain": [
       "                   A         B         C         D\n",
       "2013-01-04  0.336644  0.428977  0.136755  0.129543\n",
       "2013-01-05 -0.459113  1.272854  0.684824 -0.001784\n",
       "2013-01-06 -0.864858  0.169408  0.557564  2.094632"
      ]
     },
     "execution_count": 15,
     "metadata": {},
     "output_type": "execute_result"
    }
   ],
   "source": [
    "df.tail(3)"
   ]
  },
  {
   "cell_type": "markdown",
   "metadata": {
    "colab_type": "text",
    "id": "GAZJV4orLNgj"
   },
   "source": [
    "인덱스(Index), 열(Column) 그리고 NumPy 데이터에 대한 세부 정보를 봅니다."
   ]
  },
  {
   "cell_type": "code",
   "execution_count": 16,
   "metadata": {
    "colab": {
     "autoexec": {
      "startup": false,
      "wait_interval": 0
     },
     "base_uri": "https://localhost:8080/",
     "height": 71
    },
    "colab_type": "code",
    "executionInfo": {
     "elapsed": 3418,
     "status": "ok",
     "timestamp": 1532272797643,
     "user": {
      "displayName": "EUNJI LEE",
      "photoUrl": "//lh5.googleusercontent.com/-Af1nbBVMBUM/AAAAAAAAAAI/AAAAAAAAAG8/Q6xuMVAUbHk/s50-c-k-no/photo.jpg",
      "userId": "113493488780737428858"
     },
     "user_tz": -540
    },
    "id": "QjyY5q21LNgj",
    "outputId": "fbd38331-6daf-4598-f892-654cb3d3c90a"
   },
   "outputs": [
    {
     "data": {
      "text/plain": [
       "DatetimeIndex(['2013-01-01', '2013-01-02', '2013-01-03', '2013-01-04',\n",
       "               '2013-01-05', '2013-01-06'],\n",
       "              dtype='datetime64[ns]', freq='D')"
      ]
     },
     "execution_count": 16,
     "metadata": {},
     "output_type": "execute_result"
    }
   ],
   "source": [
    "df.index"
   ]
  },
  {
   "cell_type": "code",
   "execution_count": 17,
   "metadata": {
    "colab": {
     "autoexec": {
      "startup": false,
      "wait_interval": 0
     },
     "base_uri": "https://localhost:8080/",
     "height": 35
    },
    "colab_type": "code",
    "executionInfo": {
     "elapsed": 2275,
     "status": "ok",
     "timestamp": 1532272802771,
     "user": {
      "displayName": "EUNJI LEE",
      "photoUrl": "//lh5.googleusercontent.com/-Af1nbBVMBUM/AAAAAAAAAAI/AAAAAAAAAG8/Q6xuMVAUbHk/s50-c-k-no/photo.jpg",
      "userId": "113493488780737428858"
     },
     "user_tz": -540
    },
    "id": "uMLtdmlTLNgm",
    "outputId": "9677a10f-0e06-488f-917e-474cbc26d20a"
   },
   "outputs": [
    {
     "data": {
      "text/plain": [
       "Index(['A', 'B', 'C', 'D'], dtype='object')"
      ]
     },
     "execution_count": 17,
     "metadata": {},
     "output_type": "execute_result"
    }
   ],
   "source": [
    "df.columns"
   ]
  },
  {
   "cell_type": "code",
   "execution_count": 18,
   "metadata": {
    "colab": {
     "autoexec": {
      "startup": false,
      "wait_interval": 0
     },
     "base_uri": "https://localhost:8080/",
     "height": 125
    },
    "colab_type": "code",
    "executionInfo": {
     "elapsed": 1771,
     "status": "ok",
     "timestamp": 1532272806357,
     "user": {
      "displayName": "EUNJI LEE",
      "photoUrl": "//lh5.googleusercontent.com/-Af1nbBVMBUM/AAAAAAAAAAI/AAAAAAAAAG8/Q6xuMVAUbHk/s50-c-k-no/photo.jpg",
      "userId": "113493488780737428858"
     },
     "user_tz": -540
    },
    "id": "nyBJBmQ6LNgq",
    "outputId": "2fb20e09-f435-4663-d5b7-8f0cc4615fec"
   },
   "outputs": [
    {
     "data": {
      "text/plain": [
       "array([[ 1.07205612e+00,  6.76612120e-01,  1.90707282e-01,\n",
       "        -1.06270883e-01],\n",
       "       [-1.34726877e+00, -1.94830834e+00, -5.42869055e-01,\n",
       "         4.11717564e-01],\n",
       "       [-1.96870190e-01, -1.04381418e+00, -2.91260255e+00,\n",
       "         2.16540485e-01],\n",
       "       [ 3.36644416e-01,  4.28976864e-01,  1.36755039e-01,\n",
       "         1.29542535e-01],\n",
       "       [-4.59112754e-01,  1.27285363e+00,  6.84824135e-01,\n",
       "        -1.78393547e-03],\n",
       "       [-8.64857657e-01,  1.69407877e-01,  5.57563817e-01,\n",
       "         2.09463211e+00]])"
      ]
     },
     "execution_count": 18,
     "metadata": {},
     "output_type": "execute_result"
    }
   ],
   "source": [
    "df.values"
   ]
  },
  {
   "cell_type": "markdown",
   "metadata": {
    "colab_type": "text",
    "id": "_ZTvIW8iLNgt"
   },
   "source": [
    "[describe()](https://pandas.pydata.org/pandas-docs/stable/generated/pandas.DataFrame.describe.html#pandas.DataFrame.describe)는 데이터의 대략적인 통계적 정보 요약을 보여줍니다."
   ]
  },
  {
   "cell_type": "code",
   "execution_count": 19,
   "metadata": {
    "colab": {
     "autoexec": {
      "startup": false,
      "wait_interval": 0
     },
     "base_uri": "https://localhost:8080/",
     "height": 297
    },
    "colab_type": "code",
    "executionInfo": {
     "elapsed": 1852,
     "status": "ok",
     "timestamp": 1532272809584,
     "user": {
      "displayName": "EUNJI LEE",
      "photoUrl": "//lh5.googleusercontent.com/-Af1nbBVMBUM/AAAAAAAAAAI/AAAAAAAAAG8/Q6xuMVAUbHk/s50-c-k-no/photo.jpg",
      "userId": "113493488780737428858"
     },
     "user_tz": -540
    },
    "id": "xZngU-19LNgt",
    "outputId": "37419a0f-11c9-47ee-af31-bce154215fdc"
   },
   "outputs": [
    {
     "data": {
      "text/html": [
       "<div>\n",
       "<style scoped>\n",
       "    .dataframe tbody tr th:only-of-type {\n",
       "        vertical-align: middle;\n",
       "    }\n",
       "\n",
       "    .dataframe tbody tr th {\n",
       "        vertical-align: top;\n",
       "    }\n",
       "\n",
       "    .dataframe thead th {\n",
       "        text-align: right;\n",
       "    }\n",
       "</style>\n",
       "<table border=\"1\" class=\"dataframe\">\n",
       "  <thead>\n",
       "    <tr style=\"text-align: right;\">\n",
       "      <th></th>\n",
       "      <th>A</th>\n",
       "      <th>B</th>\n",
       "      <th>C</th>\n",
       "      <th>D</th>\n",
       "    </tr>\n",
       "  </thead>\n",
       "  <tbody>\n",
       "    <tr>\n",
       "      <th>count</th>\n",
       "      <td>6.000000</td>\n",
       "      <td>6.000000</td>\n",
       "      <td>6.000000</td>\n",
       "      <td>6.000000</td>\n",
       "    </tr>\n",
       "    <tr>\n",
       "      <th>mean</th>\n",
       "      <td>-0.243235</td>\n",
       "      <td>-0.074045</td>\n",
       "      <td>-0.314270</td>\n",
       "      <td>0.457396</td>\n",
       "    </tr>\n",
       "    <tr>\n",
       "      <th>std</th>\n",
       "      <td>0.862590</td>\n",
       "      <td>1.195260</td>\n",
       "      <td>1.343153</td>\n",
       "      <td>0.821790</td>\n",
       "    </tr>\n",
       "    <tr>\n",
       "      <th>min</th>\n",
       "      <td>-1.347269</td>\n",
       "      <td>-1.948308</td>\n",
       "      <td>-2.912603</td>\n",
       "      <td>-0.106271</td>\n",
       "    </tr>\n",
       "    <tr>\n",
       "      <th>25%</th>\n",
       "      <td>-0.763421</td>\n",
       "      <td>-0.740509</td>\n",
       "      <td>-0.372963</td>\n",
       "      <td>0.031048</td>\n",
       "    </tr>\n",
       "    <tr>\n",
       "      <th>50%</th>\n",
       "      <td>-0.327991</td>\n",
       "      <td>0.299192</td>\n",
       "      <td>0.163731</td>\n",
       "      <td>0.173042</td>\n",
       "    </tr>\n",
       "    <tr>\n",
       "      <th>75%</th>\n",
       "      <td>0.203266</td>\n",
       "      <td>0.614703</td>\n",
       "      <td>0.465850</td>\n",
       "      <td>0.362923</td>\n",
       "    </tr>\n",
       "    <tr>\n",
       "      <th>max</th>\n",
       "      <td>1.072056</td>\n",
       "      <td>1.272854</td>\n",
       "      <td>0.684824</td>\n",
       "      <td>2.094632</td>\n",
       "    </tr>\n",
       "  </tbody>\n",
       "</table>\n",
       "</div>"
      ],
      "text/plain": [
       "              A         B         C         D\n",
       "count  6.000000  6.000000  6.000000  6.000000\n",
       "mean  -0.243235 -0.074045 -0.314270  0.457396\n",
       "std    0.862590  1.195260  1.343153  0.821790\n",
       "min   -1.347269 -1.948308 -2.912603 -0.106271\n",
       "25%   -0.763421 -0.740509 -0.372963  0.031048\n",
       "50%   -0.327991  0.299192  0.163731  0.173042\n",
       "75%    0.203266  0.614703  0.465850  0.362923\n",
       "max    1.072056  1.272854  0.684824  2.094632"
      ]
     },
     "execution_count": 19,
     "metadata": {},
     "output_type": "execute_result"
    }
   ],
   "source": [
    "df.describe()"
   ]
  },
  {
   "cell_type": "markdown",
   "metadata": {
    "colab_type": "text",
    "id": "nJd6ga6NA6E1"
   },
   "source": [
    "데이터를 전치합니다."
   ]
  },
  {
   "cell_type": "code",
   "execution_count": 20,
   "metadata": {
    "colab": {
     "autoexec": {
      "startup": false,
      "wait_interval": 0
     },
     "base_uri": "https://localhost:8080/",
     "height": 173
    },
    "colab_type": "code",
    "executionInfo": {
     "elapsed": 3233,
     "status": "ok",
     "timestamp": 1532272814699,
     "user": {
      "displayName": "EUNJI LEE",
      "photoUrl": "//lh5.googleusercontent.com/-Af1nbBVMBUM/AAAAAAAAAAI/AAAAAAAAAG8/Q6xuMVAUbHk/s50-c-k-no/photo.jpg",
      "userId": "113493488780737428858"
     },
     "user_tz": -540
    },
    "id": "_YcshrJjAsM4",
    "outputId": "e66a6676-f539-4315-a8b8-91b0b67156fd"
   },
   "outputs": [
    {
     "data": {
      "text/html": [
       "<div>\n",
       "<style scoped>\n",
       "    .dataframe tbody tr th:only-of-type {\n",
       "        vertical-align: middle;\n",
       "    }\n",
       "\n",
       "    .dataframe tbody tr th {\n",
       "        vertical-align: top;\n",
       "    }\n",
       "\n",
       "    .dataframe thead th {\n",
       "        text-align: right;\n",
       "    }\n",
       "</style>\n",
       "<table border=\"1\" class=\"dataframe\">\n",
       "  <thead>\n",
       "    <tr style=\"text-align: right;\">\n",
       "      <th></th>\n",
       "      <th>2013-01-01 00:00:00</th>\n",
       "      <th>2013-01-02 00:00:00</th>\n",
       "      <th>2013-01-03 00:00:00</th>\n",
       "      <th>2013-01-04 00:00:00</th>\n",
       "      <th>2013-01-05 00:00:00</th>\n",
       "      <th>2013-01-06 00:00:00</th>\n",
       "    </tr>\n",
       "  </thead>\n",
       "  <tbody>\n",
       "    <tr>\n",
       "      <th>A</th>\n",
       "      <td>1.072056</td>\n",
       "      <td>-1.347269</td>\n",
       "      <td>-0.196870</td>\n",
       "      <td>0.336644</td>\n",
       "      <td>-0.459113</td>\n",
       "      <td>-0.864858</td>\n",
       "    </tr>\n",
       "    <tr>\n",
       "      <th>B</th>\n",
       "      <td>0.676612</td>\n",
       "      <td>-1.948308</td>\n",
       "      <td>-1.043814</td>\n",
       "      <td>0.428977</td>\n",
       "      <td>1.272854</td>\n",
       "      <td>0.169408</td>\n",
       "    </tr>\n",
       "    <tr>\n",
       "      <th>C</th>\n",
       "      <td>0.190707</td>\n",
       "      <td>-0.542869</td>\n",
       "      <td>-2.912603</td>\n",
       "      <td>0.136755</td>\n",
       "      <td>0.684824</td>\n",
       "      <td>0.557564</td>\n",
       "    </tr>\n",
       "    <tr>\n",
       "      <th>D</th>\n",
       "      <td>-0.106271</td>\n",
       "      <td>0.411718</td>\n",
       "      <td>0.216540</td>\n",
       "      <td>0.129543</td>\n",
       "      <td>-0.001784</td>\n",
       "      <td>2.094632</td>\n",
       "    </tr>\n",
       "  </tbody>\n",
       "</table>\n",
       "</div>"
      ],
      "text/plain": [
       "   2013-01-01  2013-01-02  2013-01-03  2013-01-04  2013-01-05  2013-01-06\n",
       "A    1.072056   -1.347269   -0.196870    0.336644   -0.459113   -0.864858\n",
       "B    0.676612   -1.948308   -1.043814    0.428977    1.272854    0.169408\n",
       "C    0.190707   -0.542869   -2.912603    0.136755    0.684824    0.557564\n",
       "D   -0.106271    0.411718    0.216540    0.129543   -0.001784    2.094632"
      ]
     },
     "execution_count": 20,
     "metadata": {},
     "output_type": "execute_result"
    }
   ],
   "source": [
    "df.T"
   ]
  },
  {
   "cell_type": "markdown",
   "metadata": {
    "colab_type": "text",
    "id": "qgDNXgvsA_MB"
   },
   "source": [
    "축 별로 정렬합니다."
   ]
  },
  {
   "cell_type": "code",
   "execution_count": 21,
   "metadata": {
    "colab": {
     "autoexec": {
      "startup": false,
      "wait_interval": 0
     },
     "base_uri": "https://localhost:8080/",
     "height": 235
    },
    "colab_type": "code",
    "executionInfo": {
     "elapsed": 3230,
     "status": "ok",
     "timestamp": 1532272819450,
     "user": {
      "displayName": "EUNJI LEE",
      "photoUrl": "//lh5.googleusercontent.com/-Af1nbBVMBUM/AAAAAAAAAAI/AAAAAAAAAG8/Q6xuMVAUbHk/s50-c-k-no/photo.jpg",
      "userId": "113493488780737428858"
     },
     "user_tz": -540
    },
    "id": "Sd5qldouAuWG",
    "outputId": "b025209b-9f46-4325-a33f-59f3cdd6d46e"
   },
   "outputs": [
    {
     "data": {
      "text/html": [
       "<div>\n",
       "<style scoped>\n",
       "    .dataframe tbody tr th:only-of-type {\n",
       "        vertical-align: middle;\n",
       "    }\n",
       "\n",
       "    .dataframe tbody tr th {\n",
       "        vertical-align: top;\n",
       "    }\n",
       "\n",
       "    .dataframe thead th {\n",
       "        text-align: right;\n",
       "    }\n",
       "</style>\n",
       "<table border=\"1\" class=\"dataframe\">\n",
       "  <thead>\n",
       "    <tr style=\"text-align: right;\">\n",
       "      <th></th>\n",
       "      <th>D</th>\n",
       "      <th>C</th>\n",
       "      <th>B</th>\n",
       "      <th>A</th>\n",
       "    </tr>\n",
       "  </thead>\n",
       "  <tbody>\n",
       "    <tr>\n",
       "      <th>2013-01-01</th>\n",
       "      <td>-0.106271</td>\n",
       "      <td>0.190707</td>\n",
       "      <td>0.676612</td>\n",
       "      <td>1.072056</td>\n",
       "    </tr>\n",
       "    <tr>\n",
       "      <th>2013-01-02</th>\n",
       "      <td>0.411718</td>\n",
       "      <td>-0.542869</td>\n",
       "      <td>-1.948308</td>\n",
       "      <td>-1.347269</td>\n",
       "    </tr>\n",
       "    <tr>\n",
       "      <th>2013-01-03</th>\n",
       "      <td>0.216540</td>\n",
       "      <td>-2.912603</td>\n",
       "      <td>-1.043814</td>\n",
       "      <td>-0.196870</td>\n",
       "    </tr>\n",
       "    <tr>\n",
       "      <th>2013-01-04</th>\n",
       "      <td>0.129543</td>\n",
       "      <td>0.136755</td>\n",
       "      <td>0.428977</td>\n",
       "      <td>0.336644</td>\n",
       "    </tr>\n",
       "    <tr>\n",
       "      <th>2013-01-05</th>\n",
       "      <td>-0.001784</td>\n",
       "      <td>0.684824</td>\n",
       "      <td>1.272854</td>\n",
       "      <td>-0.459113</td>\n",
       "    </tr>\n",
       "    <tr>\n",
       "      <th>2013-01-06</th>\n",
       "      <td>2.094632</td>\n",
       "      <td>0.557564</td>\n",
       "      <td>0.169408</td>\n",
       "      <td>-0.864858</td>\n",
       "    </tr>\n",
       "  </tbody>\n",
       "</table>\n",
       "</div>"
      ],
      "text/plain": [
       "                   D         C         B         A\n",
       "2013-01-01 -0.106271  0.190707  0.676612  1.072056\n",
       "2013-01-02  0.411718 -0.542869 -1.948308 -1.347269\n",
       "2013-01-03  0.216540 -2.912603 -1.043814 -0.196870\n",
       "2013-01-04  0.129543  0.136755  0.428977  0.336644\n",
       "2013-01-05 -0.001784  0.684824  1.272854 -0.459113\n",
       "2013-01-06  2.094632  0.557564  0.169408 -0.864858"
      ]
     },
     "execution_count": 21,
     "metadata": {},
     "output_type": "execute_result"
    }
   ],
   "source": [
    "df.sort_index(axis=1, ascending=False)"
   ]
  },
  {
   "cell_type": "markdown",
   "metadata": {
    "colab_type": "text",
    "id": "F88TTYh9BGZ5"
   },
   "source": [
    "값 별로 정렬합니다."
   ]
  },
  {
   "cell_type": "code",
   "execution_count": 22,
   "metadata": {
    "colab": {
     "autoexec": {
      "startup": false,
      "wait_interval": 0
     },
     "base_uri": "https://localhost:8080/",
     "height": 235
    },
    "colab_type": "code",
    "executionInfo": {
     "elapsed": 1881,
     "status": "ok",
     "timestamp": 1532272822983,
     "user": {
      "displayName": "EUNJI LEE",
      "photoUrl": "//lh5.googleusercontent.com/-Af1nbBVMBUM/AAAAAAAAAAI/AAAAAAAAAG8/Q6xuMVAUbHk/s50-c-k-no/photo.jpg",
      "userId": "113493488780737428858"
     },
     "user_tz": -540
    },
    "id": "9f7MLCxpAv67",
    "outputId": "38f801a5-ae89-416e-b4f9-39657b6ab99f"
   },
   "outputs": [
    {
     "data": {
      "text/html": [
       "<div>\n",
       "<style scoped>\n",
       "    .dataframe tbody tr th:only-of-type {\n",
       "        vertical-align: middle;\n",
       "    }\n",
       "\n",
       "    .dataframe tbody tr th {\n",
       "        vertical-align: top;\n",
       "    }\n",
       "\n",
       "    .dataframe thead th {\n",
       "        text-align: right;\n",
       "    }\n",
       "</style>\n",
       "<table border=\"1\" class=\"dataframe\">\n",
       "  <thead>\n",
       "    <tr style=\"text-align: right;\">\n",
       "      <th></th>\n",
       "      <th>A</th>\n",
       "      <th>B</th>\n",
       "      <th>C</th>\n",
       "      <th>D</th>\n",
       "    </tr>\n",
       "  </thead>\n",
       "  <tbody>\n",
       "    <tr>\n",
       "      <th>2013-01-02</th>\n",
       "      <td>-1.347269</td>\n",
       "      <td>-1.948308</td>\n",
       "      <td>-0.542869</td>\n",
       "      <td>0.411718</td>\n",
       "    </tr>\n",
       "    <tr>\n",
       "      <th>2013-01-03</th>\n",
       "      <td>-0.196870</td>\n",
       "      <td>-1.043814</td>\n",
       "      <td>-2.912603</td>\n",
       "      <td>0.216540</td>\n",
       "    </tr>\n",
       "    <tr>\n",
       "      <th>2013-01-06</th>\n",
       "      <td>-0.864858</td>\n",
       "      <td>0.169408</td>\n",
       "      <td>0.557564</td>\n",
       "      <td>2.094632</td>\n",
       "    </tr>\n",
       "    <tr>\n",
       "      <th>2013-01-04</th>\n",
       "      <td>0.336644</td>\n",
       "      <td>0.428977</td>\n",
       "      <td>0.136755</td>\n",
       "      <td>0.129543</td>\n",
       "    </tr>\n",
       "    <tr>\n",
       "      <th>2013-01-01</th>\n",
       "      <td>1.072056</td>\n",
       "      <td>0.676612</td>\n",
       "      <td>0.190707</td>\n",
       "      <td>-0.106271</td>\n",
       "    </tr>\n",
       "    <tr>\n",
       "      <th>2013-01-05</th>\n",
       "      <td>-0.459113</td>\n",
       "      <td>1.272854</td>\n",
       "      <td>0.684824</td>\n",
       "      <td>-0.001784</td>\n",
       "    </tr>\n",
       "  </tbody>\n",
       "</table>\n",
       "</div>"
      ],
      "text/plain": [
       "                   A         B         C         D\n",
       "2013-01-02 -1.347269 -1.948308 -0.542869  0.411718\n",
       "2013-01-03 -0.196870 -1.043814 -2.912603  0.216540\n",
       "2013-01-06 -0.864858  0.169408  0.557564  2.094632\n",
       "2013-01-04  0.336644  0.428977  0.136755  0.129543\n",
       "2013-01-01  1.072056  0.676612  0.190707 -0.106271\n",
       "2013-01-05 -0.459113  1.272854  0.684824 -0.001784"
      ]
     },
     "execution_count": 22,
     "metadata": {},
     "output_type": "execute_result"
    }
   ],
   "source": [
    "df.sort_values(by='B')"
   ]
  },
  {
   "cell_type": "markdown",
   "metadata": {
    "colab_type": "text",
    "id": "3Gqmfx7oox22"
   },
   "source": [
    "## Selection (선택)"
   ]
  },
  {
   "cell_type": "markdown",
   "metadata": {
    "colab_type": "text",
    "id": "MJaeG531pyqQ"
   },
   "source": [
    "주석(Note) : 선택과 설정을 위한 Python / Numpy의 표준화된 표현들이 직관적이며, 코드 작성을 위한 양방향 작업에 유용하지만 우리는 Pandas에 최적화된 데이터 접근 방법인 .at, .iat, .loc 및 .iloc 을 추천합니다. "
   ]
  },
  {
   "cell_type": "markdown",
   "metadata": {
    "colab_type": "text",
    "id": "zwO_Qdc3kHES"
   },
   "source": [
    "[데이터 인덱싱 및 선택](https://pandas.pydata.org/pandas-docs/stable/indexing.html#indexing) 문서와 [다중 인덱싱 / 심화 인덱싱](https://pandas.pydata.org/pandas-docs/stable/advanced.html#advanced) 문서를 참조하세요."
   ]
  },
  {
   "cell_type": "markdown",
   "metadata": {
    "colab_type": "text",
    "id": "DeXaTXAdp6ne"
   },
   "source": [
    "### Getting (데이터 얻기)"
   ]
  },
  {
   "cell_type": "markdown",
   "metadata": {
    "colab_type": "text",
    "id": "VnTSMq2XkHEU"
   },
   "source": [
    "df.A 와 동일한 Series를 생성하는 단일 열을 선택합니다."
   ]
  },
  {
   "cell_type": "code",
   "execution_count": 23,
   "metadata": {
    "colab": {
     "autoexec": {
      "startup": false,
      "wait_interval": 0
     },
     "base_uri": "https://localhost:8080/",
     "height": 143
    },
    "colab_type": "code",
    "executionInfo": {
     "elapsed": 1483,
     "status": "ok",
     "timestamp": 1532272826535,
     "user": {
      "displayName": "EUNJI LEE",
      "photoUrl": "//lh5.googleusercontent.com/-Af1nbBVMBUM/AAAAAAAAAAI/AAAAAAAAAG8/Q6xuMVAUbHk/s50-c-k-no/photo.jpg",
      "userId": "113493488780737428858"
     },
     "user_tz": -540
    },
    "id": "2i6jOXNMox26",
    "outputId": "c4e9eb2f-829e-44ef-e62c-26d14d171224"
   },
   "outputs": [
    {
     "data": {
      "text/plain": [
       "2013-01-01    1.072056\n",
       "2013-01-02   -1.347269\n",
       "2013-01-03   -0.196870\n",
       "2013-01-04    0.336644\n",
       "2013-01-05   -0.459113\n",
       "2013-01-06   -0.864858\n",
       "Freq: D, Name: A, dtype: float64"
      ]
     },
     "execution_count": 23,
     "metadata": {},
     "output_type": "execute_result"
    }
   ],
   "source": [
    "df['A']"
   ]
  },
  {
   "cell_type": "markdown",
   "metadata": {
    "colab_type": "text",
    "id": "HVumS0kMr2pH"
   },
   "source": [
    "행을 분할하는 []를 통해 선택합니다."
   ]
  },
  {
   "cell_type": "code",
   "execution_count": 24,
   "metadata": {
    "colab": {
     "autoexec": {
      "startup": false,
      "wait_interval": 0
     },
     "base_uri": "https://localhost:8080/",
     "height": 142
    },
    "colab_type": "code",
    "executionInfo": {
     "elapsed": 1289,
     "status": "ok",
     "timestamp": 1532272829612,
     "user": {
      "displayName": "EUNJI LEE",
      "photoUrl": "//lh5.googleusercontent.com/-Af1nbBVMBUM/AAAAAAAAAAI/AAAAAAAAAG8/Q6xuMVAUbHk/s50-c-k-no/photo.jpg",
      "userId": "113493488780737428858"
     },
     "user_tz": -540
    },
    "id": "CN4_iAoCr-hd",
    "outputId": "412869e6-bd72-45d4-87b3-836d8b3b331e"
   },
   "outputs": [
    {
     "data": {
      "text/html": [
       "<div>\n",
       "<style scoped>\n",
       "    .dataframe tbody tr th:only-of-type {\n",
       "        vertical-align: middle;\n",
       "    }\n",
       "\n",
       "    .dataframe tbody tr th {\n",
       "        vertical-align: top;\n",
       "    }\n",
       "\n",
       "    .dataframe thead th {\n",
       "        text-align: right;\n",
       "    }\n",
       "</style>\n",
       "<table border=\"1\" class=\"dataframe\">\n",
       "  <thead>\n",
       "    <tr style=\"text-align: right;\">\n",
       "      <th></th>\n",
       "      <th>A</th>\n",
       "      <th>B</th>\n",
       "      <th>C</th>\n",
       "      <th>D</th>\n",
       "    </tr>\n",
       "  </thead>\n",
       "  <tbody>\n",
       "    <tr>\n",
       "      <th>2013-01-01</th>\n",
       "      <td>1.072056</td>\n",
       "      <td>0.676612</td>\n",
       "      <td>0.190707</td>\n",
       "      <td>-0.106271</td>\n",
       "    </tr>\n",
       "    <tr>\n",
       "      <th>2013-01-02</th>\n",
       "      <td>-1.347269</td>\n",
       "      <td>-1.948308</td>\n",
       "      <td>-0.542869</td>\n",
       "      <td>0.411718</td>\n",
       "    </tr>\n",
       "    <tr>\n",
       "      <th>2013-01-03</th>\n",
       "      <td>-0.196870</td>\n",
       "      <td>-1.043814</td>\n",
       "      <td>-2.912603</td>\n",
       "      <td>0.216540</td>\n",
       "    </tr>\n",
       "  </tbody>\n",
       "</table>\n",
       "</div>"
      ],
      "text/plain": [
       "                   A         B         C         D\n",
       "2013-01-01  1.072056  0.676612  0.190707 -0.106271\n",
       "2013-01-02 -1.347269 -1.948308 -0.542869  0.411718\n",
       "2013-01-03 -0.196870 -1.043814 -2.912603  0.216540"
      ]
     },
     "execution_count": 24,
     "metadata": {},
     "output_type": "execute_result"
    }
   ],
   "source": [
    "df[0:3]"
   ]
  },
  {
   "cell_type": "code",
   "execution_count": 25,
   "metadata": {
    "colab": {
     "autoexec": {
      "startup": false,
      "wait_interval": 0
     },
     "base_uri": "https://localhost:8080/",
     "height": 142
    },
    "colab_type": "code",
    "executionInfo": {
     "elapsed": 1806,
     "status": "ok",
     "timestamp": 1532272833864,
     "user": {
      "displayName": "EUNJI LEE",
      "photoUrl": "//lh5.googleusercontent.com/-Af1nbBVMBUM/AAAAAAAAAAI/AAAAAAAAAG8/Q6xuMVAUbHk/s50-c-k-no/photo.jpg",
      "userId": "113493488780737428858"
     },
     "user_tz": -540
    },
    "id": "rfj3fFBSsQyB",
    "outputId": "279e4176-5c5f-4ea5-8181-74980f8d2464"
   },
   "outputs": [
    {
     "data": {
      "text/html": [
       "<div>\n",
       "<style scoped>\n",
       "    .dataframe tbody tr th:only-of-type {\n",
       "        vertical-align: middle;\n",
       "    }\n",
       "\n",
       "    .dataframe tbody tr th {\n",
       "        vertical-align: top;\n",
       "    }\n",
       "\n",
       "    .dataframe thead th {\n",
       "        text-align: right;\n",
       "    }\n",
       "</style>\n",
       "<table border=\"1\" class=\"dataframe\">\n",
       "  <thead>\n",
       "    <tr style=\"text-align: right;\">\n",
       "      <th></th>\n",
       "      <th>A</th>\n",
       "      <th>B</th>\n",
       "      <th>C</th>\n",
       "      <th>D</th>\n",
       "    </tr>\n",
       "  </thead>\n",
       "  <tbody>\n",
       "    <tr>\n",
       "      <th>2013-01-02</th>\n",
       "      <td>-1.347269</td>\n",
       "      <td>-1.948308</td>\n",
       "      <td>-0.542869</td>\n",
       "      <td>0.411718</td>\n",
       "    </tr>\n",
       "    <tr>\n",
       "      <th>2013-01-03</th>\n",
       "      <td>-0.196870</td>\n",
       "      <td>-1.043814</td>\n",
       "      <td>-2.912603</td>\n",
       "      <td>0.216540</td>\n",
       "    </tr>\n",
       "    <tr>\n",
       "      <th>2013-01-04</th>\n",
       "      <td>0.336644</td>\n",
       "      <td>0.428977</td>\n",
       "      <td>0.136755</td>\n",
       "      <td>0.129543</td>\n",
       "    </tr>\n",
       "  </tbody>\n",
       "</table>\n",
       "</div>"
      ],
      "text/plain": [
       "                   A         B         C         D\n",
       "2013-01-02 -1.347269 -1.948308 -0.542869  0.411718\n",
       "2013-01-03 -0.196870 -1.043814 -2.912603  0.216540\n",
       "2013-01-04  0.336644  0.428977  0.136755  0.129543"
      ]
     },
     "execution_count": 25,
     "metadata": {},
     "output_type": "execute_result"
    }
   ],
   "source": [
    "df['20130102':'20130104']"
   ]
  },
  {
   "cell_type": "markdown",
   "metadata": {
    "colab_type": "text",
    "id": "izNpv79bsGV7"
   },
   "source": [
    "### Selection by Label (Label 을 통한 선택)"
   ]
  },
  {
   "cell_type": "markdown",
   "metadata": {
    "colab_type": "text",
    "id": "MevvK6S4kHEq"
   },
   "source": [
    "[Label을 통한 선택](https://pandas.pydata.org/pandas-docs/stable/indexing.html#indexing-label)에서 더 많은 내용을 확인하세요.\n",
    "\n",
    "라벨을 사용하여 횡단면을 얻습니다."
   ]
  },
  {
   "cell_type": "code",
   "execution_count": 26,
   "metadata": {
    "colab": {
     "autoexec": {
      "startup": false,
      "wait_interval": 0
     },
     "base_uri": "https://localhost:8080/",
     "height": 107
    },
    "colab_type": "code",
    "executionInfo": {
     "elapsed": 4216,
     "status": "ok",
     "timestamp": 1532272839171,
     "user": {
      "displayName": "EUNJI LEE",
      "photoUrl": "//lh5.googleusercontent.com/-Af1nbBVMBUM/AAAAAAAAAAI/AAAAAAAAAG8/Q6xuMVAUbHk/s50-c-k-no/photo.jpg",
      "userId": "113493488780737428858"
     },
     "user_tz": -540
    },
    "id": "SiL6JlaRs7DM",
    "outputId": "d9f851e8-965f-4fbd-a0b5-034120784e04"
   },
   "outputs": [
    {
     "data": {
      "text/plain": [
       "A    1.072056\n",
       "B    0.676612\n",
       "C    0.190707\n",
       "D   -0.106271\n",
       "Name: 2013-01-01 00:00:00, dtype: float64"
      ]
     },
     "execution_count": 26,
     "metadata": {},
     "output_type": "execute_result"
    }
   ],
   "source": [
    "df.loc[dates[0]]"
   ]
  },
  {
   "cell_type": "markdown",
   "metadata": {
    "colab_type": "text",
    "id": "wqEiM9ZKsVDW"
   },
   "source": [
    "라벨을 사용하여 여러 축(의 데이터)을 얻습니다."
   ]
  },
  {
   "cell_type": "code",
   "execution_count": 27,
   "metadata": {
    "colab": {
     "autoexec": {
      "startup": false,
      "wait_interval": 0
     },
     "base_uri": "https://localhost:8080/",
     "height": 235
    },
    "colab_type": "code",
    "executionInfo": {
     "elapsed": 1289,
     "status": "ok",
     "timestamp": 1532272843283,
     "user": {
      "displayName": "EUNJI LEE",
      "photoUrl": "//lh5.googleusercontent.com/-Af1nbBVMBUM/AAAAAAAAAAI/AAAAAAAAAG8/Q6xuMVAUbHk/s50-c-k-no/photo.jpg",
      "userId": "113493488780737428858"
     },
     "user_tz": -540
    },
    "id": "ujryWjpRtV9f",
    "outputId": "0c636d4d-b104-4032-c26f-7c3cd255e80c"
   },
   "outputs": [
    {
     "data": {
      "text/html": [
       "<div>\n",
       "<style scoped>\n",
       "    .dataframe tbody tr th:only-of-type {\n",
       "        vertical-align: middle;\n",
       "    }\n",
       "\n",
       "    .dataframe tbody tr th {\n",
       "        vertical-align: top;\n",
       "    }\n",
       "\n",
       "    .dataframe thead th {\n",
       "        text-align: right;\n",
       "    }\n",
       "</style>\n",
       "<table border=\"1\" class=\"dataframe\">\n",
       "  <thead>\n",
       "    <tr style=\"text-align: right;\">\n",
       "      <th></th>\n",
       "      <th>A</th>\n",
       "      <th>B</th>\n",
       "    </tr>\n",
       "  </thead>\n",
       "  <tbody>\n",
       "    <tr>\n",
       "      <th>2013-01-01</th>\n",
       "      <td>1.072056</td>\n",
       "      <td>0.676612</td>\n",
       "    </tr>\n",
       "    <tr>\n",
       "      <th>2013-01-02</th>\n",
       "      <td>-1.347269</td>\n",
       "      <td>-1.948308</td>\n",
       "    </tr>\n",
       "    <tr>\n",
       "      <th>2013-01-03</th>\n",
       "      <td>-0.196870</td>\n",
       "      <td>-1.043814</td>\n",
       "    </tr>\n",
       "    <tr>\n",
       "      <th>2013-01-04</th>\n",
       "      <td>0.336644</td>\n",
       "      <td>0.428977</td>\n",
       "    </tr>\n",
       "    <tr>\n",
       "      <th>2013-01-05</th>\n",
       "      <td>-0.459113</td>\n",
       "      <td>1.272854</td>\n",
       "    </tr>\n",
       "    <tr>\n",
       "      <th>2013-01-06</th>\n",
       "      <td>-0.864858</td>\n",
       "      <td>0.169408</td>\n",
       "    </tr>\n",
       "  </tbody>\n",
       "</table>\n",
       "</div>"
      ],
      "text/plain": [
       "                   A         B\n",
       "2013-01-01  1.072056  0.676612\n",
       "2013-01-02 -1.347269 -1.948308\n",
       "2013-01-03 -0.196870 -1.043814\n",
       "2013-01-04  0.336644  0.428977\n",
       "2013-01-05 -0.459113  1.272854\n",
       "2013-01-06 -0.864858  0.169408"
      ]
     },
     "execution_count": 27,
     "metadata": {},
     "output_type": "execute_result"
    }
   ],
   "source": [
    "df.loc[:,['A','B']]"
   ]
  },
  {
   "cell_type": "markdown",
   "metadata": {
    "colab_type": "text",
    "id": "SuyHx40itars"
   },
   "source": [
    "양쪽 종단점을 포함한 라벨 슬라이싱을 봅니다."
   ]
  },
  {
   "cell_type": "code",
   "execution_count": 28,
   "metadata": {
    "colab": {
     "autoexec": {
      "startup": false,
      "wait_interval": 0
     },
     "base_uri": "https://localhost:8080/",
     "height": 142
    },
    "colab_type": "code",
    "executionInfo": {
     "elapsed": 1801,
     "status": "ok",
     "timestamp": 1532272847610,
     "user": {
      "displayName": "EUNJI LEE",
      "photoUrl": "//lh5.googleusercontent.com/-Af1nbBVMBUM/AAAAAAAAAAI/AAAAAAAAAG8/Q6xuMVAUbHk/s50-c-k-no/photo.jpg",
      "userId": "113493488780737428858"
     },
     "user_tz": -540
    },
    "id": "Dxq_ixT7tgMB",
    "outputId": "d0e172c1-296e-4476-d2b7-4ad565d8373a"
   },
   "outputs": [
    {
     "data": {
      "text/html": [
       "<div>\n",
       "<style scoped>\n",
       "    .dataframe tbody tr th:only-of-type {\n",
       "        vertical-align: middle;\n",
       "    }\n",
       "\n",
       "    .dataframe tbody tr th {\n",
       "        vertical-align: top;\n",
       "    }\n",
       "\n",
       "    .dataframe thead th {\n",
       "        text-align: right;\n",
       "    }\n",
       "</style>\n",
       "<table border=\"1\" class=\"dataframe\">\n",
       "  <thead>\n",
       "    <tr style=\"text-align: right;\">\n",
       "      <th></th>\n",
       "      <th>A</th>\n",
       "      <th>B</th>\n",
       "    </tr>\n",
       "  </thead>\n",
       "  <tbody>\n",
       "    <tr>\n",
       "      <th>2013-01-02</th>\n",
       "      <td>-1.347269</td>\n",
       "      <td>-1.948308</td>\n",
       "    </tr>\n",
       "    <tr>\n",
       "      <th>2013-01-03</th>\n",
       "      <td>-0.196870</td>\n",
       "      <td>-1.043814</td>\n",
       "    </tr>\n",
       "    <tr>\n",
       "      <th>2013-01-04</th>\n",
       "      <td>0.336644</td>\n",
       "      <td>0.428977</td>\n",
       "    </tr>\n",
       "  </tbody>\n",
       "</table>\n",
       "</div>"
      ],
      "text/plain": [
       "                   A         B\n",
       "2013-01-02 -1.347269 -1.948308\n",
       "2013-01-03 -0.196870 -1.043814\n",
       "2013-01-04  0.336644  0.428977"
      ]
     },
     "execution_count": 28,
     "metadata": {},
     "output_type": "execute_result"
    }
   ],
   "source": [
    "df.loc['20130102':'20130104', ['A','B']]"
   ]
  },
  {
   "cell_type": "markdown",
   "metadata": {
    "colab_type": "text",
    "id": "NByKKdFXtsnP"
   },
   "source": [
    "반환되는 객체의 크기를 줄입니다."
   ]
  },
  {
   "cell_type": "code",
   "execution_count": 29,
   "metadata": {
    "colab": {
     "autoexec": {
      "startup": false,
      "wait_interval": 0
     },
     "base_uri": "https://localhost:8080/",
     "height": 71
    },
    "colab_type": "code",
    "executionInfo": {
     "elapsed": 1648,
     "status": "ok",
     "timestamp": 1532272851799,
     "user": {
      "displayName": "EUNJI LEE",
      "photoUrl": "//lh5.googleusercontent.com/-Af1nbBVMBUM/AAAAAAAAAAI/AAAAAAAAAG8/Q6xuMVAUbHk/s50-c-k-no/photo.jpg",
      "userId": "113493488780737428858"
     },
     "user_tz": -540
    },
    "id": "ih2FqQaStyEv",
    "outputId": "798e84d7-f93b-4a73-bafd-a816a7f947f4"
   },
   "outputs": [
    {
     "data": {
      "text/plain": [
       "A   -1.347269\n",
       "B   -1.948308\n",
       "Name: 2013-01-02 00:00:00, dtype: float64"
      ]
     },
     "execution_count": 29,
     "metadata": {},
     "output_type": "execute_result"
    }
   ],
   "source": [
    "df.loc['20130102',['A','B']]"
   ]
  },
  {
   "cell_type": "markdown",
   "metadata": {
    "colab_type": "text",
    "id": "Mgdkhb3at1wM"
   },
   "source": [
    "스칼라 값을 얻습니다."
   ]
  },
  {
   "cell_type": "code",
   "execution_count": 30,
   "metadata": {
    "colab": {
     "autoexec": {
      "startup": false,
      "wait_interval": 0
     },
     "base_uri": "https://localhost:8080/",
     "height": 35
    },
    "colab_type": "code",
    "executionInfo": {
     "elapsed": 1287,
     "status": "ok",
     "timestamp": 1532272855728,
     "user": {
      "displayName": "EUNJI LEE",
      "photoUrl": "//lh5.googleusercontent.com/-Af1nbBVMBUM/AAAAAAAAAAI/AAAAAAAAAG8/Q6xuMVAUbHk/s50-c-k-no/photo.jpg",
      "userId": "113493488780737428858"
     },
     "user_tz": -540
    },
    "id": "umW1SZZQt5Q0",
    "outputId": "d30c0492-617e-4599-c583-1a5dba4167c9"
   },
   "outputs": [
    {
     "data": {
      "text/plain": [
       "1.072056120039088"
      ]
     },
     "execution_count": 30,
     "metadata": {},
     "output_type": "execute_result"
    }
   ],
   "source": [
    "df.loc[dates[0],'A']"
   ]
  },
  {
   "cell_type": "markdown",
   "metadata": {
    "colab_type": "text",
    "id": "8DN1MLxHt9Xb"
   },
   "source": [
    "스칼라 값을 더 빠르게 구하는 방법입니다. (앞선 메소드와 동일합니다.)"
   ]
  },
  {
   "cell_type": "code",
   "execution_count": 31,
   "metadata": {
    "colab": {
     "autoexec": {
      "startup": false,
      "wait_interval": 0
     },
     "base_uri": "https://localhost:8080/",
     "height": 35
    },
    "colab_type": "code",
    "executionInfo": {
     "elapsed": 1466,
     "status": "ok",
     "timestamp": 1532272859805,
     "user": {
      "displayName": "EUNJI LEE",
      "photoUrl": "//lh5.googleusercontent.com/-Af1nbBVMBUM/AAAAAAAAAAI/AAAAAAAAAG8/Q6xuMVAUbHk/s50-c-k-no/photo.jpg",
      "userId": "113493488780737428858"
     },
     "user_tz": -540
    },
    "id": "FxxN4hauuDLB",
    "outputId": "052c8e6b-7c4c-4063-9ff2-8fef23971a29"
   },
   "outputs": [
    {
     "data": {
      "text/plain": [
       "1.072056120039088"
      ]
     },
     "execution_count": 31,
     "metadata": {},
     "output_type": "execute_result"
    }
   ],
   "source": [
    "df.at[dates[0],'A']"
   ]
  },
  {
   "cell_type": "markdown",
   "metadata": {
    "colab_type": "text",
    "id": "v7BFmgcRLNif"
   },
   "source": [
    "### Selection by Position (위치로 선택하기)"
   ]
  },
  {
   "cell_type": "markdown",
   "metadata": {
    "colab_type": "text",
    "id": "HdUlCKcMLNig"
   },
   "source": [
    "자세한 내용은 [위치로 선택하기](https://pandas.pydata.org/pandas-docs/stable/indexing.html#indexing-integer)를 참고해주세요.\n",
    "\n",
    "넘겨받은 정수의 위치를 기준으로 선택합니다."
   ]
  },
  {
   "cell_type": "code",
   "execution_count": 32,
   "metadata": {
    "colab": {
     "autoexec": {
      "startup": false,
      "wait_interval": 0
     },
     "base_uri": "https://localhost:8080/",
     "height": 107
    },
    "colab_type": "code",
    "executionInfo": {
     "elapsed": 1947,
     "status": "ok",
     "timestamp": 1532272862360,
     "user": {
      "displayName": "EUNJI LEE",
      "photoUrl": "//lh5.googleusercontent.com/-Af1nbBVMBUM/AAAAAAAAAAI/AAAAAAAAAG8/Q6xuMVAUbHk/s50-c-k-no/photo.jpg",
      "userId": "113493488780737428858"
     },
     "user_tz": -540
    },
    "id": "CI_RX7HL2dbm",
    "outputId": "bcc39739-ff66-4cad-9b2a-064e4fc5dbd2"
   },
   "outputs": [
    {
     "data": {
      "text/plain": [
       "A    0.336644\n",
       "B    0.428977\n",
       "C    0.136755\n",
       "D    0.129543\n",
       "Name: 2013-01-04 00:00:00, dtype: float64"
      ]
     },
     "execution_count": 32,
     "metadata": {},
     "output_type": "execute_result"
    }
   ],
   "source": [
    "df.iloc[3]"
   ]
  },
  {
   "cell_type": "markdown",
   "metadata": {
    "colab_type": "text",
    "id": "oARGkVI-23ZC"
   },
   "source": [
    "정수(로 표기된) 슬라이스들을 통해, numpy/python과 유사하게 작동합니다."
   ]
  },
  {
   "cell_type": "code",
   "execution_count": 33,
   "metadata": {
    "colab": {
     "autoexec": {
      "startup": false,
      "wait_interval": 0
     },
     "base_uri": "https://localhost:8080/",
     "height": 111
    },
    "colab_type": "code",
    "executionInfo": {
     "elapsed": 1919,
     "status": "ok",
     "timestamp": 1532272865404,
     "user": {
      "displayName": "EUNJI LEE",
      "photoUrl": "//lh5.googleusercontent.com/-Af1nbBVMBUM/AAAAAAAAAAI/AAAAAAAAAG8/Q6xuMVAUbHk/s50-c-k-no/photo.jpg",
      "userId": "113493488780737428858"
     },
     "user_tz": -540
    },
    "id": "ZVV94o9-24yW",
    "outputId": "1d9e7c48-4c49-45a8-c427-2f03e6ab6ed2"
   },
   "outputs": [
    {
     "data": {
      "text/html": [
       "<div>\n",
       "<style scoped>\n",
       "    .dataframe tbody tr th:only-of-type {\n",
       "        vertical-align: middle;\n",
       "    }\n",
       "\n",
       "    .dataframe tbody tr th {\n",
       "        vertical-align: top;\n",
       "    }\n",
       "\n",
       "    .dataframe thead th {\n",
       "        text-align: right;\n",
       "    }\n",
       "</style>\n",
       "<table border=\"1\" class=\"dataframe\">\n",
       "  <thead>\n",
       "    <tr style=\"text-align: right;\">\n",
       "      <th></th>\n",
       "      <th>A</th>\n",
       "      <th>B</th>\n",
       "    </tr>\n",
       "  </thead>\n",
       "  <tbody>\n",
       "    <tr>\n",
       "      <th>2013-01-04</th>\n",
       "      <td>0.336644</td>\n",
       "      <td>0.428977</td>\n",
       "    </tr>\n",
       "    <tr>\n",
       "      <th>2013-01-05</th>\n",
       "      <td>-0.459113</td>\n",
       "      <td>1.272854</td>\n",
       "    </tr>\n",
       "  </tbody>\n",
       "</table>\n",
       "</div>"
      ],
      "text/plain": [
       "                   A         B\n",
       "2013-01-04  0.336644  0.428977\n",
       "2013-01-05 -0.459113  1.272854"
      ]
     },
     "execution_count": 33,
     "metadata": {},
     "output_type": "execute_result"
    }
   ],
   "source": [
    "df.iloc[3:5,0:2]"
   ]
  },
  {
   "cell_type": "markdown",
   "metadata": {
    "colab_type": "text",
    "id": "Y2gjiEGT27yA"
   },
   "source": [
    "정수(로 표기된) 위치값의 리스트들을 통해, numpy/python의 스타일과 유사해집니다."
   ]
  },
  {
   "cell_type": "code",
   "execution_count": 34,
   "metadata": {
    "colab": {
     "autoexec": {
      "startup": false,
      "wait_interval": 0
     },
     "base_uri": "https://localhost:8080/",
     "height": 142
    },
    "colab_type": "code",
    "executionInfo": {
     "elapsed": 1892,
     "status": "ok",
     "timestamp": 1532272869446,
     "user": {
      "displayName": "EUNJI LEE",
      "photoUrl": "//lh5.googleusercontent.com/-Af1nbBVMBUM/AAAAAAAAAAI/AAAAAAAAAG8/Q6xuMVAUbHk/s50-c-k-no/photo.jpg",
      "userId": "113493488780737428858"
     },
     "user_tz": -540
    },
    "id": "u3AnE1li2-sH",
    "outputId": "997d14c1-66b9-414c-f65e-de4bfff193a3"
   },
   "outputs": [
    {
     "data": {
      "text/html": [
       "<div>\n",
       "<style scoped>\n",
       "    .dataframe tbody tr th:only-of-type {\n",
       "        vertical-align: middle;\n",
       "    }\n",
       "\n",
       "    .dataframe tbody tr th {\n",
       "        vertical-align: top;\n",
       "    }\n",
       "\n",
       "    .dataframe thead th {\n",
       "        text-align: right;\n",
       "    }\n",
       "</style>\n",
       "<table border=\"1\" class=\"dataframe\">\n",
       "  <thead>\n",
       "    <tr style=\"text-align: right;\">\n",
       "      <th></th>\n",
       "      <th>A</th>\n",
       "      <th>C</th>\n",
       "    </tr>\n",
       "  </thead>\n",
       "  <tbody>\n",
       "    <tr>\n",
       "      <th>2013-01-02</th>\n",
       "      <td>-1.347269</td>\n",
       "      <td>-0.542869</td>\n",
       "    </tr>\n",
       "    <tr>\n",
       "      <th>2013-01-03</th>\n",
       "      <td>-0.196870</td>\n",
       "      <td>-2.912603</td>\n",
       "    </tr>\n",
       "    <tr>\n",
       "      <th>2013-01-05</th>\n",
       "      <td>-0.459113</td>\n",
       "      <td>0.684824</td>\n",
       "    </tr>\n",
       "  </tbody>\n",
       "</table>\n",
       "</div>"
      ],
      "text/plain": [
       "                   A         C\n",
       "2013-01-02 -1.347269 -0.542869\n",
       "2013-01-03 -0.196870 -2.912603\n",
       "2013-01-05 -0.459113  0.684824"
      ]
     },
     "execution_count": 34,
     "metadata": {},
     "output_type": "execute_result"
    }
   ],
   "source": [
    "df.iloc[[1,2,4],[0,2]]"
   ]
  },
  {
   "cell_type": "markdown",
   "metadata": {
    "colab_type": "text",
    "id": "h5yyrWSQ3AmB"
   },
   "source": [
    "명시적으로 행을 나누고자 하는 경우입니다."
   ]
  },
  {
   "cell_type": "code",
   "execution_count": 35,
   "metadata": {
    "colab": {
     "autoexec": {
      "startup": false,
      "wait_interval": 0
     },
     "base_uri": "https://localhost:8080/",
     "height": 111
    },
    "colab_type": "code",
    "executionInfo": {
     "elapsed": 2279,
     "status": "ok",
     "timestamp": 1532272873850,
     "user": {
      "displayName": "EUNJI LEE",
      "photoUrl": "//lh5.googleusercontent.com/-Af1nbBVMBUM/AAAAAAAAAAI/AAAAAAAAAG8/Q6xuMVAUbHk/s50-c-k-no/photo.jpg",
      "userId": "113493488780737428858"
     },
     "user_tz": -540
    },
    "id": "aeiKSATs3CwL",
    "outputId": "84e6afbe-3857-4536-a2f0-ab8c3aff8d3e"
   },
   "outputs": [
    {
     "data": {
      "text/html": [
       "<div>\n",
       "<style scoped>\n",
       "    .dataframe tbody tr th:only-of-type {\n",
       "        vertical-align: middle;\n",
       "    }\n",
       "\n",
       "    .dataframe tbody tr th {\n",
       "        vertical-align: top;\n",
       "    }\n",
       "\n",
       "    .dataframe thead th {\n",
       "        text-align: right;\n",
       "    }\n",
       "</style>\n",
       "<table border=\"1\" class=\"dataframe\">\n",
       "  <thead>\n",
       "    <tr style=\"text-align: right;\">\n",
       "      <th></th>\n",
       "      <th>A</th>\n",
       "      <th>B</th>\n",
       "      <th>C</th>\n",
       "      <th>D</th>\n",
       "    </tr>\n",
       "  </thead>\n",
       "  <tbody>\n",
       "    <tr>\n",
       "      <th>2013-01-02</th>\n",
       "      <td>-1.347269</td>\n",
       "      <td>-1.948308</td>\n",
       "      <td>-0.542869</td>\n",
       "      <td>0.411718</td>\n",
       "    </tr>\n",
       "    <tr>\n",
       "      <th>2013-01-03</th>\n",
       "      <td>-0.196870</td>\n",
       "      <td>-1.043814</td>\n",
       "      <td>-2.912603</td>\n",
       "      <td>0.216540</td>\n",
       "    </tr>\n",
       "  </tbody>\n",
       "</table>\n",
       "</div>"
      ],
      "text/plain": [
       "                   A         B         C         D\n",
       "2013-01-02 -1.347269 -1.948308 -0.542869  0.411718\n",
       "2013-01-03 -0.196870 -1.043814 -2.912603  0.216540"
      ]
     },
     "execution_count": 35,
     "metadata": {},
     "output_type": "execute_result"
    }
   ],
   "source": [
    "df.iloc[1:3,:]"
   ]
  },
  {
   "cell_type": "markdown",
   "metadata": {
    "colab_type": "text",
    "id": "DLvxy1xF3GhR"
   },
   "source": [
    "명시적으로 열을 나누고자 하는 경우입니다."
   ]
  },
  {
   "cell_type": "code",
   "execution_count": 36,
   "metadata": {
    "colab": {
     "autoexec": {
      "startup": false,
      "wait_interval": 0
     },
     "base_uri": "https://localhost:8080/",
     "height": 235
    },
    "colab_type": "code",
    "executionInfo": {
     "elapsed": 1611,
     "status": "ok",
     "timestamp": 1532272876617,
     "user": {
      "displayName": "EUNJI LEE",
      "photoUrl": "//lh5.googleusercontent.com/-Af1nbBVMBUM/AAAAAAAAAAI/AAAAAAAAAG8/Q6xuMVAUbHk/s50-c-k-no/photo.jpg",
      "userId": "113493488780737428858"
     },
     "user_tz": -540
    },
    "id": "wAS-Ezax3IZC",
    "outputId": "b6a54022-5605-45e6-e184-67c9aac464e2"
   },
   "outputs": [
    {
     "data": {
      "text/html": [
       "<div>\n",
       "<style scoped>\n",
       "    .dataframe tbody tr th:only-of-type {\n",
       "        vertical-align: middle;\n",
       "    }\n",
       "\n",
       "    .dataframe tbody tr th {\n",
       "        vertical-align: top;\n",
       "    }\n",
       "\n",
       "    .dataframe thead th {\n",
       "        text-align: right;\n",
       "    }\n",
       "</style>\n",
       "<table border=\"1\" class=\"dataframe\">\n",
       "  <thead>\n",
       "    <tr style=\"text-align: right;\">\n",
       "      <th></th>\n",
       "      <th>B</th>\n",
       "      <th>C</th>\n",
       "    </tr>\n",
       "  </thead>\n",
       "  <tbody>\n",
       "    <tr>\n",
       "      <th>2013-01-01</th>\n",
       "      <td>0.676612</td>\n",
       "      <td>0.190707</td>\n",
       "    </tr>\n",
       "    <tr>\n",
       "      <th>2013-01-02</th>\n",
       "      <td>-1.948308</td>\n",
       "      <td>-0.542869</td>\n",
       "    </tr>\n",
       "    <tr>\n",
       "      <th>2013-01-03</th>\n",
       "      <td>-1.043814</td>\n",
       "      <td>-2.912603</td>\n",
       "    </tr>\n",
       "    <tr>\n",
       "      <th>2013-01-04</th>\n",
       "      <td>0.428977</td>\n",
       "      <td>0.136755</td>\n",
       "    </tr>\n",
       "    <tr>\n",
       "      <th>2013-01-05</th>\n",
       "      <td>1.272854</td>\n",
       "      <td>0.684824</td>\n",
       "    </tr>\n",
       "    <tr>\n",
       "      <th>2013-01-06</th>\n",
       "      <td>0.169408</td>\n",
       "      <td>0.557564</td>\n",
       "    </tr>\n",
       "  </tbody>\n",
       "</table>\n",
       "</div>"
      ],
      "text/plain": [
       "                   B         C\n",
       "2013-01-01  0.676612  0.190707\n",
       "2013-01-02 -1.948308 -0.542869\n",
       "2013-01-03 -1.043814 -2.912603\n",
       "2013-01-04  0.428977  0.136755\n",
       "2013-01-05  1.272854  0.684824\n",
       "2013-01-06  0.169408  0.557564"
      ]
     },
     "execution_count": 36,
     "metadata": {},
     "output_type": "execute_result"
    }
   ],
   "source": [
    "df.iloc[:,1:3]"
   ]
  },
  {
   "cell_type": "markdown",
   "metadata": {
    "colab_type": "text",
    "id": "QH-roZC_3Jvj"
   },
   "source": [
    "명시적으로 (특정한) 값을 얻고자 하는 경우입니다."
   ]
  },
  {
   "cell_type": "code",
   "execution_count": 37,
   "metadata": {
    "colab": {
     "autoexec": {
      "startup": false,
      "wait_interval": 0
     },
     "base_uri": "https://localhost:8080/",
     "height": 35
    },
    "colab_type": "code",
    "executionInfo": {
     "elapsed": 2619,
     "status": "ok",
     "timestamp": 1532272881895,
     "user": {
      "displayName": "EUNJI LEE",
      "photoUrl": "//lh5.googleusercontent.com/-Af1nbBVMBUM/AAAAAAAAAAI/AAAAAAAAAG8/Q6xuMVAUbHk/s50-c-k-no/photo.jpg",
      "userId": "113493488780737428858"
     },
     "user_tz": -540
    },
    "id": "YM9Q-Ami3LeF",
    "outputId": "8a28a260-5cc0-43a4-a615-a54ed0bba36d"
   },
   "outputs": [
    {
     "data": {
      "text/plain": [
       "-1.948308335452539"
      ]
     },
     "execution_count": 37,
     "metadata": {},
     "output_type": "execute_result"
    }
   ],
   "source": [
    "df.iloc[1,1]"
   ]
  },
  {
   "cell_type": "markdown",
   "metadata": {
    "colab_type": "text",
    "id": "R_2xOsp13O13"
   },
   "source": [
    "스칼라 값을 빠르게 얻는 방법입니다. (위의 방식과 동일합니다.)"
   ]
  },
  {
   "cell_type": "code",
   "execution_count": 38,
   "metadata": {
    "colab": {
     "autoexec": {
      "startup": false,
      "wait_interval": 0
     },
     "base_uri": "https://localhost:8080/",
     "height": 35
    },
    "colab_type": "code",
    "executionInfo": {
     "elapsed": 1882,
     "status": "ok",
     "timestamp": 1532272885885,
     "user": {
      "displayName": "EUNJI LEE",
      "photoUrl": "//lh5.googleusercontent.com/-Af1nbBVMBUM/AAAAAAAAAAI/AAAAAAAAAG8/Q6xuMVAUbHk/s50-c-k-no/photo.jpg",
      "userId": "113493488780737428858"
     },
     "user_tz": -540
    },
    "id": "asy0eDSB3PO6",
    "outputId": "bab0e5de-fa0a-4454-f9af-c527abc50fcb"
   },
   "outputs": [
    {
     "data": {
      "text/plain": [
       "-1.948308335452539"
      ]
     },
     "execution_count": 38,
     "metadata": {},
     "output_type": "execute_result"
    }
   ],
   "source": [
    "df.iat[1,1]"
   ]
  },
  {
   "cell_type": "markdown",
   "metadata": {
    "colab_type": "text",
    "id": "FTKvfT0oDv3x"
   },
   "source": [
    "### Boolean Indexing"
   ]
  },
  {
   "cell_type": "markdown",
   "metadata": {
    "colab_type": "text",
    "id": "J0pm13XREbg6"
   },
   "source": [
    "데이터를 선택하기 위해 단일 열의 값을 사용합니다."
   ]
  },
  {
   "cell_type": "code",
   "execution_count": 39,
   "metadata": {
    "colab": {
     "autoexec": {
      "startup": false,
      "wait_interval": 0
     },
     "base_uri": "https://localhost:8080/",
     "height": 173
    },
    "colab_type": "code",
    "executionInfo": {
     "elapsed": 4019,
     "status": "ok",
     "timestamp": 1532272890560,
     "user": {
      "displayName": "EUNJI LEE",
      "photoUrl": "//lh5.googleusercontent.com/-Af1nbBVMBUM/AAAAAAAAAAI/AAAAAAAAAG8/Q6xuMVAUbHk/s50-c-k-no/photo.jpg",
      "userId": "113493488780737428858"
     },
     "user_tz": -540
    },
    "id": "gFiUEOadDlBY",
    "outputId": "242aa54f-c441-44aa-98c6-32751e865ac0"
   },
   "outputs": [
    {
     "data": {
      "text/html": [
       "<div>\n",
       "<style scoped>\n",
       "    .dataframe tbody tr th:only-of-type {\n",
       "        vertical-align: middle;\n",
       "    }\n",
       "\n",
       "    .dataframe tbody tr th {\n",
       "        vertical-align: top;\n",
       "    }\n",
       "\n",
       "    .dataframe thead th {\n",
       "        text-align: right;\n",
       "    }\n",
       "</style>\n",
       "<table border=\"1\" class=\"dataframe\">\n",
       "  <thead>\n",
       "    <tr style=\"text-align: right;\">\n",
       "      <th></th>\n",
       "      <th>A</th>\n",
       "      <th>B</th>\n",
       "      <th>C</th>\n",
       "      <th>D</th>\n",
       "    </tr>\n",
       "  </thead>\n",
       "  <tbody>\n",
       "    <tr>\n",
       "      <th>2013-01-01</th>\n",
       "      <td>1.072056</td>\n",
       "      <td>0.676612</td>\n",
       "      <td>0.190707</td>\n",
       "      <td>-0.106271</td>\n",
       "    </tr>\n",
       "    <tr>\n",
       "      <th>2013-01-04</th>\n",
       "      <td>0.336644</td>\n",
       "      <td>0.428977</td>\n",
       "      <td>0.136755</td>\n",
       "      <td>0.129543</td>\n",
       "    </tr>\n",
       "  </tbody>\n",
       "</table>\n",
       "</div>"
      ],
      "text/plain": [
       "                   A         B         C         D\n",
       "2013-01-01  1.072056  0.676612  0.190707 -0.106271\n",
       "2013-01-04  0.336644  0.428977  0.136755  0.129543"
      ]
     },
     "execution_count": 39,
     "metadata": {},
     "output_type": "execute_result"
    }
   ],
   "source": [
    "df[df.A > 0]"
   ]
  },
  {
   "cell_type": "markdown",
   "metadata": {
    "colab_type": "text",
    "id": "3sGsFS1sEqT6"
   },
   "source": [
    "Boolean 조건을 충족하는 데이터프레임에서 값을 선택합니다."
   ]
  },
  {
   "cell_type": "code",
   "execution_count": 40,
   "metadata": {
    "colab": {
     "autoexec": {
      "startup": false,
      "wait_interval": 0
     },
     "base_uri": "https://localhost:8080/",
     "height": 235
    },
    "colab_type": "code",
    "executionInfo": {
     "elapsed": 2079,
     "status": "ok",
     "timestamp": 1532272894669,
     "user": {
      "displayName": "EUNJI LEE",
      "photoUrl": "//lh5.googleusercontent.com/-Af1nbBVMBUM/AAAAAAAAAAI/AAAAAAAAAG8/Q6xuMVAUbHk/s50-c-k-no/photo.jpg",
      "userId": "113493488780737428858"
     },
     "user_tz": -540
    },
    "id": "tZhjIBa2Eqou",
    "outputId": "b65eeab5-a409-40f3-dbb0-0f941765e708"
   },
   "outputs": [
    {
     "data": {
      "text/html": [
       "<div>\n",
       "<style scoped>\n",
       "    .dataframe tbody tr th:only-of-type {\n",
       "        vertical-align: middle;\n",
       "    }\n",
       "\n",
       "    .dataframe tbody tr th {\n",
       "        vertical-align: top;\n",
       "    }\n",
       "\n",
       "    .dataframe thead th {\n",
       "        text-align: right;\n",
       "    }\n",
       "</style>\n",
       "<table border=\"1\" class=\"dataframe\">\n",
       "  <thead>\n",
       "    <tr style=\"text-align: right;\">\n",
       "      <th></th>\n",
       "      <th>A</th>\n",
       "      <th>B</th>\n",
       "      <th>C</th>\n",
       "      <th>D</th>\n",
       "    </tr>\n",
       "  </thead>\n",
       "  <tbody>\n",
       "    <tr>\n",
       "      <th>2013-01-01</th>\n",
       "      <td>1.072056</td>\n",
       "      <td>0.676612</td>\n",
       "      <td>0.190707</td>\n",
       "      <td>NaN</td>\n",
       "    </tr>\n",
       "    <tr>\n",
       "      <th>2013-01-02</th>\n",
       "      <td>NaN</td>\n",
       "      <td>NaN</td>\n",
       "      <td>NaN</td>\n",
       "      <td>0.411718</td>\n",
       "    </tr>\n",
       "    <tr>\n",
       "      <th>2013-01-03</th>\n",
       "      <td>NaN</td>\n",
       "      <td>NaN</td>\n",
       "      <td>NaN</td>\n",
       "      <td>0.216540</td>\n",
       "    </tr>\n",
       "    <tr>\n",
       "      <th>2013-01-04</th>\n",
       "      <td>0.336644</td>\n",
       "      <td>0.428977</td>\n",
       "      <td>0.136755</td>\n",
       "      <td>0.129543</td>\n",
       "    </tr>\n",
       "    <tr>\n",
       "      <th>2013-01-05</th>\n",
       "      <td>NaN</td>\n",
       "      <td>1.272854</td>\n",
       "      <td>0.684824</td>\n",
       "      <td>NaN</td>\n",
       "    </tr>\n",
       "    <tr>\n",
       "      <th>2013-01-06</th>\n",
       "      <td>NaN</td>\n",
       "      <td>0.169408</td>\n",
       "      <td>0.557564</td>\n",
       "      <td>2.094632</td>\n",
       "    </tr>\n",
       "  </tbody>\n",
       "</table>\n",
       "</div>"
      ],
      "text/plain": [
       "                   A         B         C         D\n",
       "2013-01-01  1.072056  0.676612  0.190707       NaN\n",
       "2013-01-02       NaN       NaN       NaN  0.411718\n",
       "2013-01-03       NaN       NaN       NaN  0.216540\n",
       "2013-01-04  0.336644  0.428977  0.136755  0.129543\n",
       "2013-01-05       NaN  1.272854  0.684824       NaN\n",
       "2013-01-06       NaN  0.169408  0.557564  2.094632"
      ]
     },
     "execution_count": 40,
     "metadata": {},
     "output_type": "execute_result"
    }
   ],
   "source": [
    "df[df > 0]"
   ]
  },
  {
   "cell_type": "markdown",
   "metadata": {
    "colab_type": "text",
    "id": "vzBroT61Eu78"
   },
   "source": [
    "필터링을 위한 메소드 [isin()](https://pandas.pydata.org/pandas-docs/stable/generated/pandas.Series.isin.html#pandas.Series.isin)을 사용합니다."
   ]
  },
  {
   "cell_type": "code",
   "execution_count": 41,
   "metadata": {
    "colab": {
     "autoexec": {
      "startup": false,
      "wait_interval": 0
     }
    },
    "colab_type": "code",
    "id": "aMskyf_-E4MI"
   },
   "outputs": [],
   "source": [
    "df2 = df.copy()"
   ]
  },
  {
   "cell_type": "code",
   "execution_count": 42,
   "metadata": {
    "colab": {
     "autoexec": {
      "startup": false,
      "wait_interval": 0
     }
    },
    "colab_type": "code",
    "id": "513jhj4ZE4eW"
   },
   "outputs": [],
   "source": [
    "df2['E'] = ['one', 'one', 'two', 'three', 'four', 'three']"
   ]
  },
  {
   "cell_type": "code",
   "execution_count": 43,
   "metadata": {
    "colab": {
     "autoexec": {
      "startup": false,
      "wait_interval": 0
     },
     "base_uri": "https://localhost:8080/",
     "height": 235
    },
    "colab_type": "code",
    "executionInfo": {
     "elapsed": 1396,
     "status": "ok",
     "timestamp": 1532272903260,
     "user": {
      "displayName": "EUNJI LEE",
      "photoUrl": "//lh5.googleusercontent.com/-Af1nbBVMBUM/AAAAAAAAAAI/AAAAAAAAAG8/Q6xuMVAUbHk/s50-c-k-no/photo.jpg",
      "userId": "113493488780737428858"
     },
     "user_tz": -540
    },
    "id": "oJyqTZ08E4ml",
    "outputId": "883b96fc-bc44-48a4-b95b-9e461ec6380c"
   },
   "outputs": [
    {
     "data": {
      "text/html": [
       "<div>\n",
       "<style scoped>\n",
       "    .dataframe tbody tr th:only-of-type {\n",
       "        vertical-align: middle;\n",
       "    }\n",
       "\n",
       "    .dataframe tbody tr th {\n",
       "        vertical-align: top;\n",
       "    }\n",
       "\n",
       "    .dataframe thead th {\n",
       "        text-align: right;\n",
       "    }\n",
       "</style>\n",
       "<table border=\"1\" class=\"dataframe\">\n",
       "  <thead>\n",
       "    <tr style=\"text-align: right;\">\n",
       "      <th></th>\n",
       "      <th>A</th>\n",
       "      <th>B</th>\n",
       "      <th>C</th>\n",
       "      <th>D</th>\n",
       "      <th>E</th>\n",
       "    </tr>\n",
       "  </thead>\n",
       "  <tbody>\n",
       "    <tr>\n",
       "      <th>2013-01-01</th>\n",
       "      <td>1.072056</td>\n",
       "      <td>0.676612</td>\n",
       "      <td>0.190707</td>\n",
       "      <td>-0.106271</td>\n",
       "      <td>one</td>\n",
       "    </tr>\n",
       "    <tr>\n",
       "      <th>2013-01-02</th>\n",
       "      <td>-1.347269</td>\n",
       "      <td>-1.948308</td>\n",
       "      <td>-0.542869</td>\n",
       "      <td>0.411718</td>\n",
       "      <td>one</td>\n",
       "    </tr>\n",
       "    <tr>\n",
       "      <th>2013-01-03</th>\n",
       "      <td>-0.196870</td>\n",
       "      <td>-1.043814</td>\n",
       "      <td>-2.912603</td>\n",
       "      <td>0.216540</td>\n",
       "      <td>two</td>\n",
       "    </tr>\n",
       "    <tr>\n",
       "      <th>2013-01-04</th>\n",
       "      <td>0.336644</td>\n",
       "      <td>0.428977</td>\n",
       "      <td>0.136755</td>\n",
       "      <td>0.129543</td>\n",
       "      <td>three</td>\n",
       "    </tr>\n",
       "    <tr>\n",
       "      <th>2013-01-05</th>\n",
       "      <td>-0.459113</td>\n",
       "      <td>1.272854</td>\n",
       "      <td>0.684824</td>\n",
       "      <td>-0.001784</td>\n",
       "      <td>four</td>\n",
       "    </tr>\n",
       "    <tr>\n",
       "      <th>2013-01-06</th>\n",
       "      <td>-0.864858</td>\n",
       "      <td>0.169408</td>\n",
       "      <td>0.557564</td>\n",
       "      <td>2.094632</td>\n",
       "      <td>three</td>\n",
       "    </tr>\n",
       "  </tbody>\n",
       "</table>\n",
       "</div>"
      ],
      "text/plain": [
       "                   A         B         C         D      E\n",
       "2013-01-01  1.072056  0.676612  0.190707 -0.106271    one\n",
       "2013-01-02 -1.347269 -1.948308 -0.542869  0.411718    one\n",
       "2013-01-03 -0.196870 -1.043814 -2.912603  0.216540    two\n",
       "2013-01-04  0.336644  0.428977  0.136755  0.129543  three\n",
       "2013-01-05 -0.459113  1.272854  0.684824 -0.001784   four\n",
       "2013-01-06 -0.864858  0.169408  0.557564  2.094632  three"
      ]
     },
     "execution_count": 43,
     "metadata": {},
     "output_type": "execute_result"
    }
   ],
   "source": [
    "df2"
   ]
  },
  {
   "cell_type": "code",
   "execution_count": 44,
   "metadata": {
    "colab": {
     "autoexec": {
      "startup": false,
      "wait_interval": 0
     },
     "base_uri": "https://localhost:8080/",
     "height": 111
    },
    "colab_type": "code",
    "executionInfo": {
     "elapsed": 2123,
     "status": "ok",
     "timestamp": 1532272907883,
     "user": {
      "displayName": "EUNJI LEE",
      "photoUrl": "//lh5.googleusercontent.com/-Af1nbBVMBUM/AAAAAAAAAAI/AAAAAAAAAG8/Q6xuMVAUbHk/s50-c-k-no/photo.jpg",
      "userId": "113493488780737428858"
     },
     "user_tz": -540
    },
    "id": "VgrLcC_5FCEC",
    "outputId": "65a5fef7-38d9-4f64-82ea-99da1347fdfd"
   },
   "outputs": [
    {
     "data": {
      "text/html": [
       "<div>\n",
       "<style scoped>\n",
       "    .dataframe tbody tr th:only-of-type {\n",
       "        vertical-align: middle;\n",
       "    }\n",
       "\n",
       "    .dataframe tbody tr th {\n",
       "        vertical-align: top;\n",
       "    }\n",
       "\n",
       "    .dataframe thead th {\n",
       "        text-align: right;\n",
       "    }\n",
       "</style>\n",
       "<table border=\"1\" class=\"dataframe\">\n",
       "  <thead>\n",
       "    <tr style=\"text-align: right;\">\n",
       "      <th></th>\n",
       "      <th>A</th>\n",
       "      <th>B</th>\n",
       "      <th>C</th>\n",
       "      <th>D</th>\n",
       "      <th>E</th>\n",
       "    </tr>\n",
       "  </thead>\n",
       "  <tbody>\n",
       "    <tr>\n",
       "      <th>2013-01-03</th>\n",
       "      <td>-0.196870</td>\n",
       "      <td>-1.043814</td>\n",
       "      <td>-2.912603</td>\n",
       "      <td>0.216540</td>\n",
       "      <td>two</td>\n",
       "    </tr>\n",
       "    <tr>\n",
       "      <th>2013-01-05</th>\n",
       "      <td>-0.459113</td>\n",
       "      <td>1.272854</td>\n",
       "      <td>0.684824</td>\n",
       "      <td>-0.001784</td>\n",
       "      <td>four</td>\n",
       "    </tr>\n",
       "  </tbody>\n",
       "</table>\n",
       "</div>"
      ],
      "text/plain": [
       "                   A         B         C         D     E\n",
       "2013-01-03 -0.196870 -1.043814 -2.912603  0.216540   two\n",
       "2013-01-05 -0.459113  1.272854  0.684824 -0.001784  four"
      ]
     },
     "execution_count": 44,
     "metadata": {},
     "output_type": "execute_result"
    }
   ],
   "source": [
    "df2[df2['E'].isin(['two','four'])]"
   ]
  },
  {
   "cell_type": "markdown",
   "metadata": {
    "colab_type": "text",
    "id": "qTihaKMQLNjE"
   },
   "source": [
    "### Setting (설정)"
   ]
  },
  {
   "cell_type": "markdown",
   "metadata": {
    "colab_type": "text",
    "id": "R2K2Oay2kHHP"
   },
   "source": [
    "인덱스에 의해 (생성된) 데이터가 새로운 열에서 자동으로 정렬되도록 설정합니다."
   ]
  },
  {
   "cell_type": "code",
   "execution_count": 45,
   "metadata": {
    "colab": {
     "autoexec": {
      "startup": false,
      "wait_interval": 0
     }
    },
    "colab_type": "code",
    "id": "fvQJ2s5SLNjE"
   },
   "outputs": [],
   "source": [
    "s1 = pd.Series([1,2,3,4,5,6], index=pd.date_range('20130102', periods=6))"
   ]
  },
  {
   "cell_type": "code",
   "execution_count": 46,
   "metadata": {
    "colab": {
     "autoexec": {
      "startup": false,
      "wait_interval": 0
     },
     "base_uri": "https://localhost:8080/",
     "height": 143
    },
    "colab_type": "code",
    "executionInfo": {
     "elapsed": 2131,
     "status": "ok",
     "timestamp": 1532272915465,
     "user": {
      "displayName": "EUNJI LEE",
      "photoUrl": "//lh5.googleusercontent.com/-Af1nbBVMBUM/AAAAAAAAAAI/AAAAAAAAAG8/Q6xuMVAUbHk/s50-c-k-no/photo.jpg",
      "userId": "113493488780737428858"
     },
     "user_tz": -540
    },
    "id": "PQDBCDXh7TKl",
    "outputId": "3d5ee896-aa13-4ec0-988f-bcdf646aca8b"
   },
   "outputs": [
    {
     "data": {
      "text/plain": [
       "2013-01-02    1\n",
       "2013-01-03    2\n",
       "2013-01-04    3\n",
       "2013-01-05    4\n",
       "2013-01-06    5\n",
       "2013-01-07    6\n",
       "Freq: D, dtype: int64"
      ]
     },
     "execution_count": 46,
     "metadata": {},
     "output_type": "execute_result"
    }
   ],
   "source": [
    "s1"
   ]
  },
  {
   "cell_type": "code",
   "execution_count": 47,
   "metadata": {
    "colab": {
     "autoexec": {
      "startup": false,
      "wait_interval": 0
     }
    },
    "colab_type": "code",
    "id": "Rby6vIlw7ZBZ"
   },
   "outputs": [],
   "source": [
    "df['F'] = s1"
   ]
  },
  {
   "cell_type": "markdown",
   "metadata": {
    "colab_type": "text",
    "id": "uzRnbME87d3c"
   },
   "source": [
    "라벨에 의해 값을 설정합니다."
   ]
  },
  {
   "cell_type": "code",
   "execution_count": 48,
   "metadata": {
    "colab": {
     "autoexec": {
      "startup": false,
      "wait_interval": 0
     }
    },
    "colab_type": "code",
    "id": "y7IBkcwrLNjG"
   },
   "outputs": [],
   "source": [
    "df.at[dates[0],'A'] = 0"
   ]
  },
  {
   "cell_type": "markdown",
   "metadata": {
    "colab_type": "text",
    "id": "sMtaX7Ac8cH_"
   },
   "source": [
    "위치에 의해 값을 설정합니다."
   ]
  },
  {
   "cell_type": "code",
   "execution_count": 49,
   "metadata": {
    "colab": {
     "autoexec": {
      "startup": false,
      "wait_interval": 0
     }
    },
    "colab_type": "code",
    "id": "-gJFmCz47iSS"
   },
   "outputs": [],
   "source": [
    "df.iat[0,1] = 0"
   ]
  },
  {
   "cell_type": "markdown",
   "metadata": {
    "colab_type": "text",
    "id": "ogxVud9A81yE"
   },
   "source": [
    "NumPy 배열을 사용한 할당에 의해 값을 설정합니다."
   ]
  },
  {
   "cell_type": "code",
   "execution_count": 50,
   "metadata": {
    "colab": {
     "autoexec": {
      "startup": false,
      "wait_interval": 0
     }
    },
    "colab_type": "code",
    "id": "oP7RrCLm8zAT"
   },
   "outputs": [],
   "source": [
    "df.loc[:,'D'] = np.array([5] * len(df))"
   ]
  },
  {
   "cell_type": "markdown",
   "metadata": {
    "colab_type": "text",
    "id": "tGHZXR-K9IBc"
   },
   "source": [
    "위 설정대로 작동한 결과입니다."
   ]
  },
  {
   "cell_type": "code",
   "execution_count": 51,
   "metadata": {
    "colab": {
     "autoexec": {
      "startup": false,
      "wait_interval": 0
     },
     "base_uri": "https://localhost:8080/",
     "height": 235
    },
    "colab_type": "code",
    "executionInfo": {
     "elapsed": 919,
     "status": "ok",
     "timestamp": 1532272952791,
     "user": {
      "displayName": "EUNJI LEE",
      "photoUrl": "//lh5.googleusercontent.com/-Af1nbBVMBUM/AAAAAAAAAAI/AAAAAAAAAG8/Q6xuMVAUbHk/s50-c-k-no/photo.jpg",
      "userId": "113493488780737428858"
     },
     "user_tz": -540
    },
    "id": "TH7YbAYFLNjM",
    "outputId": "f85a2c8c-410a-4593-9817-0abf403ea8fe"
   },
   "outputs": [
    {
     "data": {
      "text/html": [
       "<div>\n",
       "<style scoped>\n",
       "    .dataframe tbody tr th:only-of-type {\n",
       "        vertical-align: middle;\n",
       "    }\n",
       "\n",
       "    .dataframe tbody tr th {\n",
       "        vertical-align: top;\n",
       "    }\n",
       "\n",
       "    .dataframe thead th {\n",
       "        text-align: right;\n",
       "    }\n",
       "</style>\n",
       "<table border=\"1\" class=\"dataframe\">\n",
       "  <thead>\n",
       "    <tr style=\"text-align: right;\">\n",
       "      <th></th>\n",
       "      <th>A</th>\n",
       "      <th>B</th>\n",
       "      <th>C</th>\n",
       "      <th>D</th>\n",
       "      <th>F</th>\n",
       "    </tr>\n",
       "  </thead>\n",
       "  <tbody>\n",
       "    <tr>\n",
       "      <th>2013-01-01</th>\n",
       "      <td>0.000000</td>\n",
       "      <td>0.000000</td>\n",
       "      <td>0.190707</td>\n",
       "      <td>5</td>\n",
       "      <td>NaN</td>\n",
       "    </tr>\n",
       "    <tr>\n",
       "      <th>2013-01-02</th>\n",
       "      <td>-1.347269</td>\n",
       "      <td>-1.948308</td>\n",
       "      <td>-0.542869</td>\n",
       "      <td>5</td>\n",
       "      <td>1.0</td>\n",
       "    </tr>\n",
       "    <tr>\n",
       "      <th>2013-01-03</th>\n",
       "      <td>-0.196870</td>\n",
       "      <td>-1.043814</td>\n",
       "      <td>-2.912603</td>\n",
       "      <td>5</td>\n",
       "      <td>2.0</td>\n",
       "    </tr>\n",
       "    <tr>\n",
       "      <th>2013-01-04</th>\n",
       "      <td>0.336644</td>\n",
       "      <td>0.428977</td>\n",
       "      <td>0.136755</td>\n",
       "      <td>5</td>\n",
       "      <td>3.0</td>\n",
       "    </tr>\n",
       "    <tr>\n",
       "      <th>2013-01-05</th>\n",
       "      <td>-0.459113</td>\n",
       "      <td>1.272854</td>\n",
       "      <td>0.684824</td>\n",
       "      <td>5</td>\n",
       "      <td>4.0</td>\n",
       "    </tr>\n",
       "    <tr>\n",
       "      <th>2013-01-06</th>\n",
       "      <td>-0.864858</td>\n",
       "      <td>0.169408</td>\n",
       "      <td>0.557564</td>\n",
       "      <td>5</td>\n",
       "      <td>5.0</td>\n",
       "    </tr>\n",
       "  </tbody>\n",
       "</table>\n",
       "</div>"
      ],
      "text/plain": [
       "                   A         B         C  D    F\n",
       "2013-01-01  0.000000  0.000000  0.190707  5  NaN\n",
       "2013-01-02 -1.347269 -1.948308 -0.542869  5  1.0\n",
       "2013-01-03 -0.196870 -1.043814 -2.912603  5  2.0\n",
       "2013-01-04  0.336644  0.428977  0.136755  5  3.0\n",
       "2013-01-05 -0.459113  1.272854  0.684824  5  4.0\n",
       "2013-01-06 -0.864858  0.169408  0.557564  5  5.0"
      ]
     },
     "execution_count": 51,
     "metadata": {},
     "output_type": "execute_result"
    }
   ],
   "source": [
    "df"
   ]
  },
  {
   "cell_type": "markdown",
   "metadata": {
    "colab_type": "text",
    "id": "ATHUfgEp-afg"
   },
   "source": [
    "상기의 설정을 적용한 연산입니다."
   ]
  },
  {
   "cell_type": "code",
   "execution_count": 52,
   "metadata": {
    "colab": {
     "autoexec": {
      "startup": false,
      "wait_interval": 0
     }
    },
    "colab_type": "code",
    "id": "CYGS8DZeLNjN"
   },
   "outputs": [],
   "source": [
    "df2 = df.copy()"
   ]
  },
  {
   "cell_type": "code",
   "execution_count": 53,
   "metadata": {
    "colab": {
     "autoexec": {
      "startup": false,
      "wait_interval": 0
     }
    },
    "colab_type": "code",
    "id": "ENx6j5B3-T4P"
   },
   "outputs": [],
   "source": [
    "df2[df2 > 0] = -df2"
   ]
  },
  {
   "cell_type": "code",
   "execution_count": 54,
   "metadata": {
    "colab": {
     "autoexec": {
      "startup": false,
      "wait_interval": 0
     },
     "base_uri": "https://localhost:8080/",
     "height": 235
    },
    "colab_type": "code",
    "executionInfo": {
     "elapsed": 1168,
     "status": "ok",
     "timestamp": 1532272963723,
     "user": {
      "displayName": "EUNJI LEE",
      "photoUrl": "//lh5.googleusercontent.com/-Af1nbBVMBUM/AAAAAAAAAAI/AAAAAAAAAG8/Q6xuMVAUbHk/s50-c-k-no/photo.jpg",
      "userId": "113493488780737428858"
     },
     "user_tz": -540
    },
    "id": "C-4V1gy8-YME",
    "outputId": "d69594d0-8fae-4717-e308-c4f6ce9c1061"
   },
   "outputs": [
    {
     "data": {
      "text/html": [
       "<div>\n",
       "<style scoped>\n",
       "    .dataframe tbody tr th:only-of-type {\n",
       "        vertical-align: middle;\n",
       "    }\n",
       "\n",
       "    .dataframe tbody tr th {\n",
       "        vertical-align: top;\n",
       "    }\n",
       "\n",
       "    .dataframe thead th {\n",
       "        text-align: right;\n",
       "    }\n",
       "</style>\n",
       "<table border=\"1\" class=\"dataframe\">\n",
       "  <thead>\n",
       "    <tr style=\"text-align: right;\">\n",
       "      <th></th>\n",
       "      <th>A</th>\n",
       "      <th>B</th>\n",
       "      <th>C</th>\n",
       "      <th>D</th>\n",
       "      <th>F</th>\n",
       "    </tr>\n",
       "  </thead>\n",
       "  <tbody>\n",
       "    <tr>\n",
       "      <th>2013-01-01</th>\n",
       "      <td>0.000000</td>\n",
       "      <td>0.000000</td>\n",
       "      <td>-0.190707</td>\n",
       "      <td>-5</td>\n",
       "      <td>NaN</td>\n",
       "    </tr>\n",
       "    <tr>\n",
       "      <th>2013-01-02</th>\n",
       "      <td>-1.347269</td>\n",
       "      <td>-1.948308</td>\n",
       "      <td>-0.542869</td>\n",
       "      <td>-5</td>\n",
       "      <td>-1.0</td>\n",
       "    </tr>\n",
       "    <tr>\n",
       "      <th>2013-01-03</th>\n",
       "      <td>-0.196870</td>\n",
       "      <td>-1.043814</td>\n",
       "      <td>-2.912603</td>\n",
       "      <td>-5</td>\n",
       "      <td>-2.0</td>\n",
       "    </tr>\n",
       "    <tr>\n",
       "      <th>2013-01-04</th>\n",
       "      <td>-0.336644</td>\n",
       "      <td>-0.428977</td>\n",
       "      <td>-0.136755</td>\n",
       "      <td>-5</td>\n",
       "      <td>-3.0</td>\n",
       "    </tr>\n",
       "    <tr>\n",
       "      <th>2013-01-05</th>\n",
       "      <td>-0.459113</td>\n",
       "      <td>-1.272854</td>\n",
       "      <td>-0.684824</td>\n",
       "      <td>-5</td>\n",
       "      <td>-4.0</td>\n",
       "    </tr>\n",
       "    <tr>\n",
       "      <th>2013-01-06</th>\n",
       "      <td>-0.864858</td>\n",
       "      <td>-0.169408</td>\n",
       "      <td>-0.557564</td>\n",
       "      <td>-5</td>\n",
       "      <td>-5.0</td>\n",
       "    </tr>\n",
       "  </tbody>\n",
       "</table>\n",
       "</div>"
      ],
      "text/plain": [
       "                   A         B         C  D    F\n",
       "2013-01-01  0.000000  0.000000 -0.190707 -5  NaN\n",
       "2013-01-02 -1.347269 -1.948308 -0.542869 -5 -1.0\n",
       "2013-01-03 -0.196870 -1.043814 -2.912603 -5 -2.0\n",
       "2013-01-04 -0.336644 -0.428977 -0.136755 -5 -3.0\n",
       "2013-01-05 -0.459113 -1.272854 -0.684824 -5 -4.0\n",
       "2013-01-06 -0.864858 -0.169408 -0.557564 -5 -5.0"
      ]
     },
     "execution_count": 54,
     "metadata": {},
     "output_type": "execute_result"
    }
   ],
   "source": [
    "df2"
   ]
  },
  {
   "cell_type": "markdown",
   "metadata": {
    "colab_type": "text",
    "id": "f7mkUirR5hit"
   },
   "source": [
    "## Missing Data (결측치)"
   ]
  },
  {
   "cell_type": "markdown",
   "metadata": {
    "colab_type": "text",
    "id": "p1uohebm9Emf"
   },
   "source": [
    "pandas는 결측치를 표현하기 위해 주로 np.nan 값을 사용합니다. 이 방법은 기본 설정값이지만 계산에는 포함되지 않습니다. <br>\n",
    "[Missing Data section](https://pandas.pydata.org/pandas-docs/stable/missing_data.html#missing-data)를 참조하세요."
   ]
  },
  {
   "cell_type": "markdown",
   "metadata": {
    "colab_type": "text",
    "id": "xAVZmDGC96Nn"
   },
   "source": [
    "Reindexing으로 지정된 축 상의 인덱스를 변경/추가/삭제할 수 있습니다. Reindexing은 데이터의 복사본을 반환합니다."
   ]
  },
  {
   "cell_type": "code",
   "execution_count": 55,
   "metadata": {
    "colab": {
     "autoexec": {
      "startup": false,
      "wait_interval": 0
     }
    },
    "colab_type": "code",
    "id": "zCxw1r4M-Pmt"
   },
   "outputs": [],
   "source": [
    "df1 = df.reindex(index=dates[0:4], columns=list(df.columns) + ['E'])"
   ]
  },
  {
   "cell_type": "code",
   "execution_count": 56,
   "metadata": {
    "colab": {
     "autoexec": {
      "startup": false,
      "wait_interval": 0
     }
    },
    "colab_type": "code",
    "id": "Oi_hYCsu-hfJ"
   },
   "outputs": [],
   "source": [
    "df1.loc[dates[0]:dates[1],'E'] = 1"
   ]
  },
  {
   "cell_type": "code",
   "execution_count": 57,
   "metadata": {
    "colab": {
     "autoexec": {
      "startup": false,
      "wait_interval": 0
     },
     "base_uri": "https://localhost:8080/",
     "height": 173
    },
    "colab_type": "code",
    "executionInfo": {
     "elapsed": 2040,
     "status": "ok",
     "timestamp": 1532272976080,
     "user": {
      "displayName": "EUNJI LEE",
      "photoUrl": "//lh5.googleusercontent.com/-Af1nbBVMBUM/AAAAAAAAAAI/AAAAAAAAAG8/Q6xuMVAUbHk/s50-c-k-no/photo.jpg",
      "userId": "113493488780737428858"
     },
     "user_tz": -540
    },
    "id": "w6yiTzDK-jwg",
    "outputId": "cf69a1d1-e244-4347-971f-2560800121c8"
   },
   "outputs": [
    {
     "data": {
      "text/html": [
       "<div>\n",
       "<style scoped>\n",
       "    .dataframe tbody tr th:only-of-type {\n",
       "        vertical-align: middle;\n",
       "    }\n",
       "\n",
       "    .dataframe tbody tr th {\n",
       "        vertical-align: top;\n",
       "    }\n",
       "\n",
       "    .dataframe thead th {\n",
       "        text-align: right;\n",
       "    }\n",
       "</style>\n",
       "<table border=\"1\" class=\"dataframe\">\n",
       "  <thead>\n",
       "    <tr style=\"text-align: right;\">\n",
       "      <th></th>\n",
       "      <th>A</th>\n",
       "      <th>B</th>\n",
       "      <th>C</th>\n",
       "      <th>D</th>\n",
       "      <th>F</th>\n",
       "      <th>E</th>\n",
       "    </tr>\n",
       "  </thead>\n",
       "  <tbody>\n",
       "    <tr>\n",
       "      <th>2013-01-01</th>\n",
       "      <td>0.000000</td>\n",
       "      <td>0.000000</td>\n",
       "      <td>0.190707</td>\n",
       "      <td>5</td>\n",
       "      <td>NaN</td>\n",
       "      <td>1.0</td>\n",
       "    </tr>\n",
       "    <tr>\n",
       "      <th>2013-01-02</th>\n",
       "      <td>-1.347269</td>\n",
       "      <td>-1.948308</td>\n",
       "      <td>-0.542869</td>\n",
       "      <td>5</td>\n",
       "      <td>1.0</td>\n",
       "      <td>1.0</td>\n",
       "    </tr>\n",
       "    <tr>\n",
       "      <th>2013-01-03</th>\n",
       "      <td>-0.196870</td>\n",
       "      <td>-1.043814</td>\n",
       "      <td>-2.912603</td>\n",
       "      <td>5</td>\n",
       "      <td>2.0</td>\n",
       "      <td>NaN</td>\n",
       "    </tr>\n",
       "    <tr>\n",
       "      <th>2013-01-04</th>\n",
       "      <td>0.336644</td>\n",
       "      <td>0.428977</td>\n",
       "      <td>0.136755</td>\n",
       "      <td>5</td>\n",
       "      <td>3.0</td>\n",
       "      <td>NaN</td>\n",
       "    </tr>\n",
       "  </tbody>\n",
       "</table>\n",
       "</div>"
      ],
      "text/plain": [
       "                   A         B         C  D    F    E\n",
       "2013-01-01  0.000000  0.000000  0.190707  5  NaN  1.0\n",
       "2013-01-02 -1.347269 -1.948308 -0.542869  5  1.0  1.0\n",
       "2013-01-03 -0.196870 -1.043814 -2.912603  5  2.0  NaN\n",
       "2013-01-04  0.336644  0.428977  0.136755  5  3.0  NaN"
      ]
     },
     "execution_count": 57,
     "metadata": {},
     "output_type": "execute_result"
    }
   ],
   "source": [
    "df1"
   ]
  },
  {
   "cell_type": "markdown",
   "metadata": {
    "colab_type": "text",
    "id": "nzGUIHyfAW3Y"
   },
   "source": [
    "결측치를 가지고 있는 행들을 지웁니다."
   ]
  },
  {
   "cell_type": "code",
   "execution_count": 58,
   "metadata": {
    "colab": {
     "autoexec": {
      "startup": false,
      "wait_interval": 0
     }
    },
    "colab_type": "code",
    "id": "S-zlTo0pAeyf"
   },
   "outputs": [
    {
     "data": {
      "text/html": [
       "<div>\n",
       "<style scoped>\n",
       "    .dataframe tbody tr th:only-of-type {\n",
       "        vertical-align: middle;\n",
       "    }\n",
       "\n",
       "    .dataframe tbody tr th {\n",
       "        vertical-align: top;\n",
       "    }\n",
       "\n",
       "    .dataframe thead th {\n",
       "        text-align: right;\n",
       "    }\n",
       "</style>\n",
       "<table border=\"1\" class=\"dataframe\">\n",
       "  <thead>\n",
       "    <tr style=\"text-align: right;\">\n",
       "      <th></th>\n",
       "      <th>A</th>\n",
       "      <th>B</th>\n",
       "      <th>C</th>\n",
       "      <th>D</th>\n",
       "      <th>F</th>\n",
       "      <th>E</th>\n",
       "    </tr>\n",
       "  </thead>\n",
       "  <tbody>\n",
       "    <tr>\n",
       "      <th>2013-01-02</th>\n",
       "      <td>-1.347269</td>\n",
       "      <td>-1.948308</td>\n",
       "      <td>-0.542869</td>\n",
       "      <td>5</td>\n",
       "      <td>1.0</td>\n",
       "      <td>1.0</td>\n",
       "    </tr>\n",
       "  </tbody>\n",
       "</table>\n",
       "</div>"
      ],
      "text/plain": [
       "                   A         B         C  D    F    E\n",
       "2013-01-02 -1.347269 -1.948308 -0.542869  5  1.0  1.0"
      ]
     },
     "execution_count": 58,
     "metadata": {},
     "output_type": "execute_result"
    }
   ],
   "source": [
    "df1.dropna(how='any')"
   ]
  },
  {
   "cell_type": "markdown",
   "metadata": {
    "colab_type": "text",
    "id": "vrgy7BjkAfCF"
   },
   "source": [
    "결측치를 채워 넣습니다."
   ]
  },
  {
   "cell_type": "code",
   "execution_count": 59,
   "metadata": {
    "colab": {
     "autoexec": {
      "startup": false,
      "wait_interval": 0
     }
    },
    "colab_type": "code",
    "id": "h4nTFHr6AfUt",
    "outputId": "c0061a66-b48a-4133-e3f6-ea73defc4593"
   },
   "outputs": [
    {
     "data": {
      "text/html": [
       "<div>\n",
       "<style scoped>\n",
       "    .dataframe tbody tr th:only-of-type {\n",
       "        vertical-align: middle;\n",
       "    }\n",
       "\n",
       "    .dataframe tbody tr th {\n",
       "        vertical-align: top;\n",
       "    }\n",
       "\n",
       "    .dataframe thead th {\n",
       "        text-align: right;\n",
       "    }\n",
       "</style>\n",
       "<table border=\"1\" class=\"dataframe\">\n",
       "  <thead>\n",
       "    <tr style=\"text-align: right;\">\n",
       "      <th></th>\n",
       "      <th>A</th>\n",
       "      <th>B</th>\n",
       "      <th>C</th>\n",
       "      <th>D</th>\n",
       "      <th>F</th>\n",
       "      <th>E</th>\n",
       "    </tr>\n",
       "  </thead>\n",
       "  <tbody>\n",
       "    <tr>\n",
       "      <th>2013-01-01</th>\n",
       "      <td>0.000000</td>\n",
       "      <td>0.000000</td>\n",
       "      <td>0.190707</td>\n",
       "      <td>5</td>\n",
       "      <td>5.0</td>\n",
       "      <td>1.0</td>\n",
       "    </tr>\n",
       "    <tr>\n",
       "      <th>2013-01-02</th>\n",
       "      <td>-1.347269</td>\n",
       "      <td>-1.948308</td>\n",
       "      <td>-0.542869</td>\n",
       "      <td>5</td>\n",
       "      <td>1.0</td>\n",
       "      <td>1.0</td>\n",
       "    </tr>\n",
       "    <tr>\n",
       "      <th>2013-01-03</th>\n",
       "      <td>-0.196870</td>\n",
       "      <td>-1.043814</td>\n",
       "      <td>-2.912603</td>\n",
       "      <td>5</td>\n",
       "      <td>2.0</td>\n",
       "      <td>5.0</td>\n",
       "    </tr>\n",
       "    <tr>\n",
       "      <th>2013-01-04</th>\n",
       "      <td>0.336644</td>\n",
       "      <td>0.428977</td>\n",
       "      <td>0.136755</td>\n",
       "      <td>5</td>\n",
       "      <td>3.0</td>\n",
       "      <td>5.0</td>\n",
       "    </tr>\n",
       "  </tbody>\n",
       "</table>\n",
       "</div>"
      ],
      "text/plain": [
       "                   A         B         C  D    F    E\n",
       "2013-01-01  0.000000  0.000000  0.190707  5  5.0  1.0\n",
       "2013-01-02 -1.347269 -1.948308 -0.542869  5  1.0  1.0\n",
       "2013-01-03 -0.196870 -1.043814 -2.912603  5  2.0  5.0\n",
       "2013-01-04  0.336644  0.428977  0.136755  5  3.0  5.0"
      ]
     },
     "execution_count": 59,
     "metadata": {},
     "output_type": "execute_result"
    }
   ],
   "source": [
    "df1.fillna(value=5)"
   ]
  },
  {
   "cell_type": "markdown",
   "metadata": {
    "colab_type": "text",
    "id": "rWuLWklCAkWB"
   },
   "source": [
    "nan인 값에 Boolean(을 통한) 표식을 얻습니다.\n",
    "\n",
    "*역자 주 : 데이터프레임의 모든 값이 Boolean 형태로 표시되도록 하며, nan인 값에만 True가 표시되게 하는 함수입니다.*"
   ]
  },
  {
   "cell_type": "code",
   "execution_count": 60,
   "metadata": {
    "colab": {
     "autoexec": {
      "startup": false,
      "wait_interval": 0
     }
    },
    "colab_type": "code",
    "id": "tcWqhC4IBAgI",
    "outputId": "c6fa7d0e-d302-4e08-ecd6-d554655e256c"
   },
   "outputs": [
    {
     "data": {
      "text/html": [
       "<div>\n",
       "<style scoped>\n",
       "    .dataframe tbody tr th:only-of-type {\n",
       "        vertical-align: middle;\n",
       "    }\n",
       "\n",
       "    .dataframe tbody tr th {\n",
       "        vertical-align: top;\n",
       "    }\n",
       "\n",
       "    .dataframe thead th {\n",
       "        text-align: right;\n",
       "    }\n",
       "</style>\n",
       "<table border=\"1\" class=\"dataframe\">\n",
       "  <thead>\n",
       "    <tr style=\"text-align: right;\">\n",
       "      <th></th>\n",
       "      <th>A</th>\n",
       "      <th>B</th>\n",
       "      <th>C</th>\n",
       "      <th>D</th>\n",
       "      <th>F</th>\n",
       "      <th>E</th>\n",
       "    </tr>\n",
       "  </thead>\n",
       "  <tbody>\n",
       "    <tr>\n",
       "      <th>2013-01-01</th>\n",
       "      <td>False</td>\n",
       "      <td>False</td>\n",
       "      <td>False</td>\n",
       "      <td>False</td>\n",
       "      <td>True</td>\n",
       "      <td>False</td>\n",
       "    </tr>\n",
       "    <tr>\n",
       "      <th>2013-01-02</th>\n",
       "      <td>False</td>\n",
       "      <td>False</td>\n",
       "      <td>False</td>\n",
       "      <td>False</td>\n",
       "      <td>False</td>\n",
       "      <td>False</td>\n",
       "    </tr>\n",
       "    <tr>\n",
       "      <th>2013-01-03</th>\n",
       "      <td>False</td>\n",
       "      <td>False</td>\n",
       "      <td>False</td>\n",
       "      <td>False</td>\n",
       "      <td>False</td>\n",
       "      <td>True</td>\n",
       "    </tr>\n",
       "    <tr>\n",
       "      <th>2013-01-04</th>\n",
       "      <td>False</td>\n",
       "      <td>False</td>\n",
       "      <td>False</td>\n",
       "      <td>False</td>\n",
       "      <td>False</td>\n",
       "      <td>True</td>\n",
       "    </tr>\n",
       "  </tbody>\n",
       "</table>\n",
       "</div>"
      ],
      "text/plain": [
       "                A      B      C      D      F      E\n",
       "2013-01-01  False  False  False  False   True  False\n",
       "2013-01-02  False  False  False  False  False  False\n",
       "2013-01-03  False  False  False  False  False   True\n",
       "2013-01-04  False  False  False  False  False   True"
      ]
     },
     "execution_count": 60,
     "metadata": {},
     "output_type": "execute_result"
    }
   ],
   "source": [
    "pd.isna(df1)"
   ]
  },
  {
   "cell_type": "markdown",
   "metadata": {
    "colab_type": "text",
    "id": "_Vtbv3Am59wL"
   },
   "source": [
    "## Operation (연산)"
   ]
  },
  {
   "cell_type": "markdown",
   "metadata": {
    "colab_type": "text",
    "id": "rX4XUGEG6gR4"
   },
   "source": [
    "[바이너리 연산의 기본 섹션](https://pandas.pydata.org/pandas-docs/stable/basics.html#basics-binop)을 참조하세요."
   ]
  },
  {
   "cell_type": "markdown",
   "metadata": {
    "colab_type": "text",
    "id": "mcVNuuy_5_wW"
   },
   "source": [
    "### Stats (통계)"
   ]
  },
  {
   "cell_type": "markdown",
   "metadata": {
    "colab_type": "text",
    "id": "iPX_nN0vBiMb"
   },
   "source": [
    "일반적으로 결측치를 제외한 후 연산됩니다.\n",
    "\n",
    "서술적인 통계를 수행합니다."
   ]
  },
  {
   "cell_type": "code",
   "execution_count": 61,
   "metadata": {
    "colab": {
     "autoexec": {
      "startup": false,
      "wait_interval": 0
     }
    },
    "colab_type": "code",
    "id": "6W54szbp68LC",
    "outputId": "af1fd902-c926-485d-a1b6-a75e2691674c"
   },
   "outputs": [
    {
     "data": {
      "text/plain": [
       "A   -0.421911\n",
       "B   -0.186814\n",
       "C   -0.314270\n",
       "D    5.000000\n",
       "F    3.000000\n",
       "dtype: float64"
      ]
     },
     "execution_count": 61,
     "metadata": {},
     "output_type": "execute_result"
    }
   ],
   "source": [
    "df.mean()"
   ]
  },
  {
   "cell_type": "markdown",
   "metadata": {
    "colab_type": "text",
    "id": "UdhVHC9A6996"
   },
   "source": [
    "다른 축에서 동일한 연산을 수행합니다."
   ]
  },
  {
   "cell_type": "code",
   "execution_count": 62,
   "metadata": {
    "colab": {
     "autoexec": {
      "startup": false,
      "wait_interval": 0
     }
    },
    "colab_type": "code",
    "id": "XC1HZGxN6-MI",
    "outputId": "094acede-e11e-425d-b041-d132eb568f90"
   },
   "outputs": [
    {
     "data": {
      "text/plain": [
       "2013-01-01    1.297677\n",
       "2013-01-02    0.432311\n",
       "2013-01-03    0.569343\n",
       "2013-01-04    1.780475\n",
       "2013-01-05    2.099713\n",
       "2013-01-06    1.972423\n",
       "Freq: D, dtype: float64"
      ]
     },
     "execution_count": 62,
     "metadata": {},
     "output_type": "execute_result"
    }
   ],
   "source": [
    "df.mean(1)"
   ]
  },
  {
   "cell_type": "markdown",
   "metadata": {
    "colab_type": "text",
    "id": "jiGhkFo-7HZf"
   },
   "source": [
    "정렬이 필요하며, 차원이 다른 객체로 연산해보겠습니다. 또한, pandas는 지정된 차원을 따라 자동으로 브로드 캐스팅됩니다.\n",
    "\n",
    "*역자 주 : broadcast란 numpy에서 유래한 용어로, n차원이나 스칼라 값으로 연산을 수행할 때 도출되는 결과의 규칙을 설명하는 것을 의미합니다.*"
   ]
  },
  {
   "cell_type": "code",
   "execution_count": 63,
   "metadata": {
    "colab": {
     "autoexec": {
      "startup": false,
      "wait_interval": 0
     }
    },
    "colab_type": "code",
    "id": "h3RUr6U_7Utf"
   },
   "outputs": [],
   "source": [
    "s = pd.Series([1,3,5,np.nan,6,8], index=dates).shift(2)"
   ]
  },
  {
   "cell_type": "code",
   "execution_count": 64,
   "metadata": {
    "colab": {
     "autoexec": {
      "startup": false,
      "wait_interval": 0
     }
    },
    "colab_type": "code",
    "id": "e-qo9CjL7XUD",
    "outputId": "7d7b1027-e101-4e63-c7d4-660d4b23abb8"
   },
   "outputs": [
    {
     "data": {
      "text/plain": [
       "2013-01-01    NaN\n",
       "2013-01-02    NaN\n",
       "2013-01-03    1.0\n",
       "2013-01-04    3.0\n",
       "2013-01-05    5.0\n",
       "2013-01-06    NaN\n",
       "Freq: D, dtype: float64"
      ]
     },
     "execution_count": 64,
     "metadata": {},
     "output_type": "execute_result"
    }
   ],
   "source": [
    "s"
   ]
  },
  {
   "cell_type": "code",
   "execution_count": 65,
   "metadata": {
    "colab": {
     "autoexec": {
      "startup": false,
      "wait_interval": 0
     }
    },
    "colab_type": "code",
    "id": "GowqZoeb7ZZo",
    "outputId": "5448cd31-75a5-42e7-a7fe-b7be75f2964d"
   },
   "outputs": [
    {
     "data": {
      "text/html": [
       "<div>\n",
       "<style scoped>\n",
       "    .dataframe tbody tr th:only-of-type {\n",
       "        vertical-align: middle;\n",
       "    }\n",
       "\n",
       "    .dataframe tbody tr th {\n",
       "        vertical-align: top;\n",
       "    }\n",
       "\n",
       "    .dataframe thead th {\n",
       "        text-align: right;\n",
       "    }\n",
       "</style>\n",
       "<table border=\"1\" class=\"dataframe\">\n",
       "  <thead>\n",
       "    <tr style=\"text-align: right;\">\n",
       "      <th></th>\n",
       "      <th>A</th>\n",
       "      <th>B</th>\n",
       "      <th>C</th>\n",
       "      <th>D</th>\n",
       "      <th>F</th>\n",
       "    </tr>\n",
       "  </thead>\n",
       "  <tbody>\n",
       "    <tr>\n",
       "      <th>2013-01-01</th>\n",
       "      <td>NaN</td>\n",
       "      <td>NaN</td>\n",
       "      <td>NaN</td>\n",
       "      <td>NaN</td>\n",
       "      <td>NaN</td>\n",
       "    </tr>\n",
       "    <tr>\n",
       "      <th>2013-01-02</th>\n",
       "      <td>NaN</td>\n",
       "      <td>NaN</td>\n",
       "      <td>NaN</td>\n",
       "      <td>NaN</td>\n",
       "      <td>NaN</td>\n",
       "    </tr>\n",
       "    <tr>\n",
       "      <th>2013-01-03</th>\n",
       "      <td>-1.196870</td>\n",
       "      <td>-2.043814</td>\n",
       "      <td>-3.912603</td>\n",
       "      <td>4.0</td>\n",
       "      <td>1.0</td>\n",
       "    </tr>\n",
       "    <tr>\n",
       "      <th>2013-01-04</th>\n",
       "      <td>-2.663356</td>\n",
       "      <td>-2.571023</td>\n",
       "      <td>-2.863245</td>\n",
       "      <td>2.0</td>\n",
       "      <td>0.0</td>\n",
       "    </tr>\n",
       "    <tr>\n",
       "      <th>2013-01-05</th>\n",
       "      <td>-5.459113</td>\n",
       "      <td>-3.727146</td>\n",
       "      <td>-4.315176</td>\n",
       "      <td>0.0</td>\n",
       "      <td>-1.0</td>\n",
       "    </tr>\n",
       "    <tr>\n",
       "      <th>2013-01-06</th>\n",
       "      <td>NaN</td>\n",
       "      <td>NaN</td>\n",
       "      <td>NaN</td>\n",
       "      <td>NaN</td>\n",
       "      <td>NaN</td>\n",
       "    </tr>\n",
       "  </tbody>\n",
       "</table>\n",
       "</div>"
      ],
      "text/plain": [
       "                   A         B         C    D    F\n",
       "2013-01-01       NaN       NaN       NaN  NaN  NaN\n",
       "2013-01-02       NaN       NaN       NaN  NaN  NaN\n",
       "2013-01-03 -1.196870 -2.043814 -3.912603  4.0  1.0\n",
       "2013-01-04 -2.663356 -2.571023 -2.863245  2.0  0.0\n",
       "2013-01-05 -5.459113 -3.727146 -4.315176  0.0 -1.0\n",
       "2013-01-06       NaN       NaN       NaN  NaN  NaN"
      ]
     },
     "execution_count": 65,
     "metadata": {},
     "output_type": "execute_result"
    }
   ],
   "source": [
    "df.sub(s, axis='index')"
   ]
  },
  {
   "cell_type": "markdown",
   "metadata": {
    "colab_type": "text",
    "id": "R7jzj-cH6Ahc"
   },
   "source": [
    "### Apply (적용)"
   ]
  },
  {
   "cell_type": "markdown",
   "metadata": {
    "colab_type": "text",
    "id": "gkSA3r_R7Ea6"
   },
   "source": [
    "데이터에 함수를 적용합니다."
   ]
  },
  {
   "cell_type": "code",
   "execution_count": 66,
   "metadata": {
    "colab": {
     "autoexec": {
      "startup": false,
      "wait_interval": 0
     }
    },
    "colab_type": "code",
    "id": "kPNfiNAy7IQZ",
    "outputId": "3946d67a-ee03-4d0c-e56a-c73efbb32b67"
   },
   "outputs": [
    {
     "data": {
      "text/html": [
       "<div>\n",
       "<style scoped>\n",
       "    .dataframe tbody tr th:only-of-type {\n",
       "        vertical-align: middle;\n",
       "    }\n",
       "\n",
       "    .dataframe tbody tr th {\n",
       "        vertical-align: top;\n",
       "    }\n",
       "\n",
       "    .dataframe thead th {\n",
       "        text-align: right;\n",
       "    }\n",
       "</style>\n",
       "<table border=\"1\" class=\"dataframe\">\n",
       "  <thead>\n",
       "    <tr style=\"text-align: right;\">\n",
       "      <th></th>\n",
       "      <th>A</th>\n",
       "      <th>B</th>\n",
       "      <th>C</th>\n",
       "      <th>D</th>\n",
       "      <th>F</th>\n",
       "    </tr>\n",
       "  </thead>\n",
       "  <tbody>\n",
       "    <tr>\n",
       "      <th>2013-01-01</th>\n",
       "      <td>0.000000</td>\n",
       "      <td>0.000000</td>\n",
       "      <td>0.190707</td>\n",
       "      <td>5</td>\n",
       "      <td>NaN</td>\n",
       "    </tr>\n",
       "    <tr>\n",
       "      <th>2013-01-02</th>\n",
       "      <td>-1.347269</td>\n",
       "      <td>-1.948308</td>\n",
       "      <td>-0.352162</td>\n",
       "      <td>10</td>\n",
       "      <td>1.0</td>\n",
       "    </tr>\n",
       "    <tr>\n",
       "      <th>2013-01-03</th>\n",
       "      <td>-1.544139</td>\n",
       "      <td>-2.992123</td>\n",
       "      <td>-3.264764</td>\n",
       "      <td>15</td>\n",
       "      <td>3.0</td>\n",
       "    </tr>\n",
       "    <tr>\n",
       "      <th>2013-01-04</th>\n",
       "      <td>-1.207495</td>\n",
       "      <td>-2.563146</td>\n",
       "      <td>-3.128009</td>\n",
       "      <td>20</td>\n",
       "      <td>6.0</td>\n",
       "    </tr>\n",
       "    <tr>\n",
       "      <th>2013-01-05</th>\n",
       "      <td>-1.666607</td>\n",
       "      <td>-1.290292</td>\n",
       "      <td>-2.443185</td>\n",
       "      <td>25</td>\n",
       "      <td>10.0</td>\n",
       "    </tr>\n",
       "    <tr>\n",
       "      <th>2013-01-06</th>\n",
       "      <td>-2.531465</td>\n",
       "      <td>-1.120884</td>\n",
       "      <td>-1.885621</td>\n",
       "      <td>30</td>\n",
       "      <td>15.0</td>\n",
       "    </tr>\n",
       "  </tbody>\n",
       "</table>\n",
       "</div>"
      ],
      "text/plain": [
       "                   A         B         C   D     F\n",
       "2013-01-01  0.000000  0.000000  0.190707   5   NaN\n",
       "2013-01-02 -1.347269 -1.948308 -0.352162  10   1.0\n",
       "2013-01-03 -1.544139 -2.992123 -3.264764  15   3.0\n",
       "2013-01-04 -1.207495 -2.563146 -3.128009  20   6.0\n",
       "2013-01-05 -1.666607 -1.290292 -2.443185  25  10.0\n",
       "2013-01-06 -2.531465 -1.120884 -1.885621  30  15.0"
      ]
     },
     "execution_count": 66,
     "metadata": {},
     "output_type": "execute_result"
    }
   ],
   "source": [
    "df.apply(np.cumsum)"
   ]
  },
  {
   "cell_type": "code",
   "execution_count": 67,
   "metadata": {
    "colab": {
     "autoexec": {
      "startup": false,
      "wait_interval": 0
     }
    },
    "colab_type": "code",
    "id": "y02IO2qi7QPj",
    "outputId": "cb3acd93-6aa1-4242-bd32-8237981133ac"
   },
   "outputs": [
    {
     "data": {
      "text/plain": [
       "A    1.683913\n",
       "B    3.221162\n",
       "C    3.597427\n",
       "D    0.000000\n",
       "F    4.000000\n",
       "dtype: float64"
      ]
     },
     "execution_count": 67,
     "metadata": {},
     "output_type": "execute_result"
    }
   ],
   "source": [
    "df.apply(lambda x: x.max() - x.min())"
   ]
  },
  {
   "cell_type": "markdown",
   "metadata": {
    "colab_type": "text",
    "id": "UyvQC_nC6S6g"
   },
   "source": [
    "### Histogramming (히스토그래밍)"
   ]
  },
  {
   "cell_type": "markdown",
   "metadata": {
    "colab_type": "text",
    "id": "lKd5leGq7KDd"
   },
   "source": [
    "더 많은 내용은 [Histogramming and Discretization (히스토그래밍과 이산화)](https://pandas.pydata.org/pandas-docs/stable/basics.html#basics-discretization) 항목을 참조하세요."
   ]
  },
  {
   "cell_type": "code",
   "execution_count": 68,
   "metadata": {
    "colab": {
     "autoexec": {
      "startup": false,
      "wait_interval": 0
     }
    },
    "colab_type": "code",
    "id": "TL4MDK3o7I6X"
   },
   "outputs": [],
   "source": [
    "s = pd.Series(np.random.randint(0, 7, size=10))"
   ]
  },
  {
   "cell_type": "code",
   "execution_count": 69,
   "metadata": {
    "colab": {
     "autoexec": {
      "startup": false,
      "wait_interval": 0
     }
    },
    "colab_type": "code",
    "id": "1Aa6PhyU7TD0",
    "outputId": "fd3a95f5-87a5-45f3-fccf-b7625f1b6173"
   },
   "outputs": [
    {
     "data": {
      "text/plain": [
       "0    1\n",
       "1    6\n",
       "2    4\n",
       "3    1\n",
       "4    2\n",
       "5    1\n",
       "6    6\n",
       "7    2\n",
       "8    3\n",
       "9    4\n",
       "dtype: int32"
      ]
     },
     "execution_count": 69,
     "metadata": {},
     "output_type": "execute_result"
    }
   ],
   "source": [
    "s"
   ]
  },
  {
   "cell_type": "code",
   "execution_count": 70,
   "metadata": {
    "colab": {
     "autoexec": {
      "startup": false,
      "wait_interval": 0
     },
     "base_uri": "https://localhost:8080/",
     "height": 124
    },
    "colab_type": "code",
    "executionInfo": {
     "elapsed": 910,
     "status": "ok",
     "timestamp": 1531813266562,
     "user": {
      "displayName": "이다혜",
      "photoUrl": "https://lh3.googleusercontent.com/a/default-user=s128",
      "userId": "111233705933183008783"
     },
     "user_tz": -540
    },
    "id": "Jft1Ma0v7VLn",
    "outputId": "5b58fe9b-e21b-4044-833f-abbae60ce26b"
   },
   "outputs": [
    {
     "data": {
      "text/plain": [
       "1    3\n",
       "6    2\n",
       "4    2\n",
       "2    2\n",
       "3    1\n",
       "dtype: int64"
      ]
     },
     "execution_count": 70,
     "metadata": {},
     "output_type": "execute_result"
    }
   ],
   "source": [
    "s.value_counts()"
   ]
  },
  {
   "cell_type": "markdown",
   "metadata": {
    "colab_type": "text",
    "id": "WsQyIOdF6aPw"
   },
   "source": [
    "### String Methods (문자열 메소드)"
   ]
  },
  {
   "cell_type": "markdown",
   "metadata": {
    "colab_type": "text",
    "id": "ap_qOc_x7dwT"
   },
   "source": [
    "Series는 다음의 코드와 같이 문자열 처리 메소드 모음(set)을 가지고 있습니다. <br>\n",
    "이 모음은 배열의 각 요소를 쉽게 조작할 수 있도록 만들어주는 문자열의 속성에 포함되어 있습니다.\n",
    "\n",
    "문자열의 패턴 일치 확인은 기본적으로 정규 표현식을 사용하며, 몇몇 경우에는 항상 정규 표현식을 사용함에 유의하십시오.\n",
    "\n",
    "좀 더 자세한 내용은 [벡터화된 문자열 메소드](https://pandas.pydata.org/pandas-docs/stable/text.html#text-string-methods) 부분에서 확인할 수 있습니다."
   ]
  },
  {
   "cell_type": "code",
   "execution_count": 71,
   "metadata": {
    "colab": {
     "autoexec": {
      "startup": false,
      "wait_interval": 0
     }
    },
    "colab_type": "code",
    "id": "jn5Yl6Md7cqb"
   },
   "outputs": [],
   "source": [
    "s = pd.Series(['A', 'B', 'C', 'Aaba', 'Baca', np.nan, 'CABA', 'dog', 'cat'])"
   ]
  },
  {
   "cell_type": "code",
   "execution_count": 72,
   "metadata": {
    "colab": {
     "autoexec": {
      "startup": false,
      "wait_interval": 0
     }
    },
    "colab_type": "code",
    "id": "ZL7RxX4k8HHP",
    "outputId": "a72976c0-b81b-4c94-e64b-db88ac9a75a7"
   },
   "outputs": [
    {
     "data": {
      "text/plain": [
       "0       a\n",
       "1       b\n",
       "2       c\n",
       "3    aaba\n",
       "4    baca\n",
       "5     NaN\n",
       "6    caba\n",
       "7     dog\n",
       "8     cat\n",
       "dtype: object"
      ]
     },
     "execution_count": 72,
     "metadata": {},
     "output_type": "execute_result"
    }
   ],
   "source": [
    "s.str.lower()"
   ]
  },
  {
   "cell_type": "markdown",
   "metadata": {
    "colab_type": "text",
    "id": "-NpTTJzF34oe"
   },
   "source": [
    "## Merge (병합)"
   ]
  },
  {
   "cell_type": "markdown",
   "metadata": {
    "colab_type": "text",
    "id": "fZWj-N4CLNig"
   },
   "source": [
    "### Concat (연결)"
   ]
  },
  {
   "cell_type": "markdown",
   "metadata": {
    "colab_type": "text",
    "id": "2XQbTp_-LNii"
   },
   "source": [
    "결합(join) / 병합(merge) 형태의 연산에 대한 인덱스, 관계 대수 기능을 위한 다양한 형태의 논리를 포함한 Series, 데이터프레임, Panel 객체를 손쉽게 결합할 수 있도록 하는 다양한 기능을 pandas 에서 제공합니다. "
   ]
  },
  {
   "cell_type": "markdown",
   "metadata": {
    "colab_type": "text",
    "id": "yFuabtnHLNii"
   },
   "source": [
    "[Merging](https://pandas.pydata.org/pandas-docs/stable/merging.html#merging) 부분을 참조하세요. "
   ]
  },
  {
   "cell_type": "markdown",
   "metadata": {
    "colab_type": "text",
    "id": "QcnDHOtILNii"
   },
   "source": [
    "[concat()](https://pandas.pydata.org/pandas-docs/stable/generated/pandas.concat.html#pandas.concat)으로 pandas 객체를 연결합니다. "
   ]
  },
  {
   "cell_type": "code",
   "execution_count": 73,
   "metadata": {
    "colab": {
     "autoexec": {
      "startup": false,
      "wait_interval": 0
     }
    },
    "colab_type": "code",
    "id": "TCrlCvfu_IKR"
   },
   "outputs": [],
   "source": [
    "df = pd.DataFrame(np.random.randn(10, 4))"
   ]
  },
  {
   "cell_type": "code",
   "execution_count": 74,
   "metadata": {
    "colab": {
     "autoexec": {
      "startup": false,
      "wait_interval": 0
     },
     "base_uri": "https://localhost:8080/",
     "height": 348
    },
    "colab_type": "code",
    "executionInfo": {
     "elapsed": 1537,
     "status": "ok",
     "timestamp": 1531793469787,
     "user": {
      "displayName": "김윤경",
      "photoUrl": "//lh5.googleusercontent.com/-wzfg4UM-36w/AAAAAAAAAAI/AAAAAAAAAAc/JH9r5OPaF9s/s50-c-k-no/photo.jpg",
      "userId": "115512225066730141381"
     },
     "user_tz": -540
    },
    "id": "mdOlcCIKAVri",
    "outputId": "5d5650af-530b-403f-b400-583fcadea7b0"
   },
   "outputs": [
    {
     "data": {
      "text/html": [
       "<div>\n",
       "<style scoped>\n",
       "    .dataframe tbody tr th:only-of-type {\n",
       "        vertical-align: middle;\n",
       "    }\n",
       "\n",
       "    .dataframe tbody tr th {\n",
       "        vertical-align: top;\n",
       "    }\n",
       "\n",
       "    .dataframe thead th {\n",
       "        text-align: right;\n",
       "    }\n",
       "</style>\n",
       "<table border=\"1\" class=\"dataframe\">\n",
       "  <thead>\n",
       "    <tr style=\"text-align: right;\">\n",
       "      <th></th>\n",
       "      <th>0</th>\n",
       "      <th>1</th>\n",
       "      <th>2</th>\n",
       "      <th>3</th>\n",
       "    </tr>\n",
       "  </thead>\n",
       "  <tbody>\n",
       "    <tr>\n",
       "      <th>0</th>\n",
       "      <td>-1.321474</td>\n",
       "      <td>1.074708</td>\n",
       "      <td>1.427600</td>\n",
       "      <td>1.491163</td>\n",
       "    </tr>\n",
       "    <tr>\n",
       "      <th>1</th>\n",
       "      <td>-0.232848</td>\n",
       "      <td>1.260216</td>\n",
       "      <td>0.166628</td>\n",
       "      <td>0.370862</td>\n",
       "    </tr>\n",
       "    <tr>\n",
       "      <th>2</th>\n",
       "      <td>-0.815331</td>\n",
       "      <td>2.728043</td>\n",
       "      <td>-1.074541</td>\n",
       "      <td>-0.221238</td>\n",
       "    </tr>\n",
       "    <tr>\n",
       "      <th>3</th>\n",
       "      <td>-0.544755</td>\n",
       "      <td>0.265997</td>\n",
       "      <td>-1.668469</td>\n",
       "      <td>-2.160295</td>\n",
       "    </tr>\n",
       "    <tr>\n",
       "      <th>4</th>\n",
       "      <td>-0.583682</td>\n",
       "      <td>-0.225389</td>\n",
       "      <td>0.607618</td>\n",
       "      <td>-0.323225</td>\n",
       "    </tr>\n",
       "    <tr>\n",
       "      <th>5</th>\n",
       "      <td>0.972730</td>\n",
       "      <td>1.370034</td>\n",
       "      <td>0.099637</td>\n",
       "      <td>-0.455284</td>\n",
       "    </tr>\n",
       "    <tr>\n",
       "      <th>6</th>\n",
       "      <td>-0.256677</td>\n",
       "      <td>-1.451318</td>\n",
       "      <td>0.170217</td>\n",
       "      <td>1.526520</td>\n",
       "    </tr>\n",
       "    <tr>\n",
       "      <th>7</th>\n",
       "      <td>-0.916983</td>\n",
       "      <td>-0.215252</td>\n",
       "      <td>-0.593453</td>\n",
       "      <td>-1.259574</td>\n",
       "    </tr>\n",
       "    <tr>\n",
       "      <th>8</th>\n",
       "      <td>-1.551022</td>\n",
       "      <td>-0.679342</td>\n",
       "      <td>-1.513099</td>\n",
       "      <td>-0.889067</td>\n",
       "    </tr>\n",
       "    <tr>\n",
       "      <th>9</th>\n",
       "      <td>-0.366858</td>\n",
       "      <td>0.121702</td>\n",
       "      <td>-0.999330</td>\n",
       "      <td>-0.633938</td>\n",
       "    </tr>\n",
       "  </tbody>\n",
       "</table>\n",
       "</div>"
      ],
      "text/plain": [
       "          0         1         2         3\n",
       "0 -1.321474  1.074708  1.427600  1.491163\n",
       "1 -0.232848  1.260216  0.166628  0.370862\n",
       "2 -0.815331  2.728043 -1.074541 -0.221238\n",
       "3 -0.544755  0.265997 -1.668469 -2.160295\n",
       "4 -0.583682 -0.225389  0.607618 -0.323225\n",
       "5  0.972730  1.370034  0.099637 -0.455284\n",
       "6 -0.256677 -1.451318  0.170217  1.526520\n",
       "7 -0.916983 -0.215252 -0.593453 -1.259574\n",
       "8 -1.551022 -0.679342 -1.513099 -0.889067\n",
       "9 -0.366858  0.121702 -0.999330 -0.633938"
      ]
     },
     "execution_count": 74,
     "metadata": {},
     "output_type": "execute_result"
    }
   ],
   "source": [
    "df"
   ]
  },
  {
   "cell_type": "code",
   "execution_count": 75,
   "metadata": {
    "colab": {
     "autoexec": {
      "startup": false,
      "wait_interval": 0
     }
    },
    "colab_type": "code",
    "id": "eJgLcGzLAYU-"
   },
   "outputs": [],
   "source": [
    "# break it into pieces\n",
    "pieces = [df[:3], df[3:7], df[7:]]"
   ]
  },
  {
   "cell_type": "code",
   "execution_count": 76,
   "metadata": {
    "colab": {
     "autoexec": {
      "startup": false,
      "wait_interval": 0
     }
    },
    "colab_type": "code",
    "id": "JQE1qIJaxBWK",
    "outputId": "290e3107-c385-4e12-c231-22c2cdc92eea"
   },
   "outputs": [
    {
     "data": {
      "text/html": [
       "<div>\n",
       "<style scoped>\n",
       "    .dataframe tbody tr th:only-of-type {\n",
       "        vertical-align: middle;\n",
       "    }\n",
       "\n",
       "    .dataframe tbody tr th {\n",
       "        vertical-align: top;\n",
       "    }\n",
       "\n",
       "    .dataframe thead th {\n",
       "        text-align: right;\n",
       "    }\n",
       "</style>\n",
       "<table border=\"1\" class=\"dataframe\">\n",
       "  <thead>\n",
       "    <tr style=\"text-align: right;\">\n",
       "      <th></th>\n",
       "      <th>0</th>\n",
       "      <th>1</th>\n",
       "      <th>2</th>\n",
       "      <th>3</th>\n",
       "    </tr>\n",
       "  </thead>\n",
       "  <tbody>\n",
       "    <tr>\n",
       "      <th>0</th>\n",
       "      <td>-1.321474</td>\n",
       "      <td>1.074708</td>\n",
       "      <td>1.427600</td>\n",
       "      <td>1.491163</td>\n",
       "    </tr>\n",
       "    <tr>\n",
       "      <th>1</th>\n",
       "      <td>-0.232848</td>\n",
       "      <td>1.260216</td>\n",
       "      <td>0.166628</td>\n",
       "      <td>0.370862</td>\n",
       "    </tr>\n",
       "    <tr>\n",
       "      <th>2</th>\n",
       "      <td>-0.815331</td>\n",
       "      <td>2.728043</td>\n",
       "      <td>-1.074541</td>\n",
       "      <td>-0.221238</td>\n",
       "    </tr>\n",
       "    <tr>\n",
       "      <th>3</th>\n",
       "      <td>-0.544755</td>\n",
       "      <td>0.265997</td>\n",
       "      <td>-1.668469</td>\n",
       "      <td>-2.160295</td>\n",
       "    </tr>\n",
       "    <tr>\n",
       "      <th>4</th>\n",
       "      <td>-0.583682</td>\n",
       "      <td>-0.225389</td>\n",
       "      <td>0.607618</td>\n",
       "      <td>-0.323225</td>\n",
       "    </tr>\n",
       "    <tr>\n",
       "      <th>5</th>\n",
       "      <td>0.972730</td>\n",
       "      <td>1.370034</td>\n",
       "      <td>0.099637</td>\n",
       "      <td>-0.455284</td>\n",
       "    </tr>\n",
       "    <tr>\n",
       "      <th>6</th>\n",
       "      <td>-0.256677</td>\n",
       "      <td>-1.451318</td>\n",
       "      <td>0.170217</td>\n",
       "      <td>1.526520</td>\n",
       "    </tr>\n",
       "    <tr>\n",
       "      <th>7</th>\n",
       "      <td>-0.916983</td>\n",
       "      <td>-0.215252</td>\n",
       "      <td>-0.593453</td>\n",
       "      <td>-1.259574</td>\n",
       "    </tr>\n",
       "    <tr>\n",
       "      <th>8</th>\n",
       "      <td>-1.551022</td>\n",
       "      <td>-0.679342</td>\n",
       "      <td>-1.513099</td>\n",
       "      <td>-0.889067</td>\n",
       "    </tr>\n",
       "    <tr>\n",
       "      <th>9</th>\n",
       "      <td>-0.366858</td>\n",
       "      <td>0.121702</td>\n",
       "      <td>-0.999330</td>\n",
       "      <td>-0.633938</td>\n",
       "    </tr>\n",
       "  </tbody>\n",
       "</table>\n",
       "</div>"
      ],
      "text/plain": [
       "          0         1         2         3\n",
       "0 -1.321474  1.074708  1.427600  1.491163\n",
       "1 -0.232848  1.260216  0.166628  0.370862\n",
       "2 -0.815331  2.728043 -1.074541 -0.221238\n",
       "3 -0.544755  0.265997 -1.668469 -2.160295\n",
       "4 -0.583682 -0.225389  0.607618 -0.323225\n",
       "5  0.972730  1.370034  0.099637 -0.455284\n",
       "6 -0.256677 -1.451318  0.170217  1.526520\n",
       "7 -0.916983 -0.215252 -0.593453 -1.259574\n",
       "8 -1.551022 -0.679342 -1.513099 -0.889067\n",
       "9 -0.366858  0.121702 -0.999330 -0.633938"
      ]
     },
     "execution_count": 76,
     "metadata": {},
     "output_type": "execute_result"
    }
   ],
   "source": [
    "pd.concat(pieces)"
   ]
  },
  {
   "cell_type": "markdown",
   "metadata": {
    "colab_type": "text",
    "id": "7IBM0m8GLNjX"
   },
   "source": [
    "### Join (결합)"
   ]
  },
  {
   "cell_type": "markdown",
   "metadata": {
    "colab_type": "text",
    "id": "AxRyEICVkHJb"
   },
   "source": [
    "SQL 방식으로 병합합니다. [데이터베이스 스타일 결합](https://pandas.pydata.org/pandas-docs/stable/merging.html#merging-join) 부분을 참고하세요."
   ]
  },
  {
   "cell_type": "code",
   "execution_count": 77,
   "metadata": {
    "colab": {
     "autoexec": {
      "startup": false,
      "wait_interval": 0
     }
    },
    "colab_type": "code",
    "id": "e-srIyoILNjX"
   },
   "outputs": [],
   "source": [
    "left = pd.DataFrame({'key': ['foo', 'foo'], 'lval': [1, 2]})"
   ]
  },
  {
   "cell_type": "code",
   "execution_count": 78,
   "metadata": {
    "colab": {
     "autoexec": {
      "startup": false,
      "wait_interval": 0
     }
    },
    "colab_type": "code",
    "id": "v5bAleqrLNjZ"
   },
   "outputs": [],
   "source": [
    "right = pd.DataFrame({'key': ['foo', 'foo'], 'rval': [4, 5]})"
   ]
  },
  {
   "cell_type": "code",
   "execution_count": 79,
   "metadata": {
    "colab": {
     "autoexec": {
      "startup": false,
      "wait_interval": 0
     },
     "base_uri": "https://localhost:8080/",
     "height": 108
    },
    "colab_type": "code",
    "executionInfo": {
     "elapsed": 643,
     "status": "ok",
     "timestamp": 1531792928869,
     "user": {
      "displayName": "Saerom Bang",
      "photoUrl": "https://lh3.googleusercontent.com/a/default-user=s128",
      "userId": "108723802128607926930"
     },
     "user_tz": -540
    },
    "id": "wFKpjvEWLNja",
    "outputId": "eaecef75-6d58-47d5-ea50-09bce9c74fc4"
   },
   "outputs": [
    {
     "data": {
      "text/html": [
       "<div>\n",
       "<style scoped>\n",
       "    .dataframe tbody tr th:only-of-type {\n",
       "        vertical-align: middle;\n",
       "    }\n",
       "\n",
       "    .dataframe tbody tr th {\n",
       "        vertical-align: top;\n",
       "    }\n",
       "\n",
       "    .dataframe thead th {\n",
       "        text-align: right;\n",
       "    }\n",
       "</style>\n",
       "<table border=\"1\" class=\"dataframe\">\n",
       "  <thead>\n",
       "    <tr style=\"text-align: right;\">\n",
       "      <th></th>\n",
       "      <th>key</th>\n",
       "      <th>lval</th>\n",
       "    </tr>\n",
       "  </thead>\n",
       "  <tbody>\n",
       "    <tr>\n",
       "      <th>0</th>\n",
       "      <td>foo</td>\n",
       "      <td>1</td>\n",
       "    </tr>\n",
       "    <tr>\n",
       "      <th>1</th>\n",
       "      <td>foo</td>\n",
       "      <td>2</td>\n",
       "    </tr>\n",
       "  </tbody>\n",
       "</table>\n",
       "</div>"
      ],
      "text/plain": [
       "   key  lval\n",
       "0  foo     1\n",
       "1  foo     2"
      ]
     },
     "execution_count": 79,
     "metadata": {},
     "output_type": "execute_result"
    }
   ],
   "source": [
    "left"
   ]
  },
  {
   "cell_type": "code",
   "execution_count": 80,
   "metadata": {
    "colab": {
     "autoexec": {
      "startup": false,
      "wait_interval": 0
     },
     "base_uri": "https://localhost:8080/",
     "height": 108
    },
    "colab_type": "code",
    "executionInfo": {
     "elapsed": 712,
     "status": "ok",
     "timestamp": 1531792933336,
     "user": {
      "displayName": "Saerom Bang",
      "photoUrl": "https://lh3.googleusercontent.com/a/default-user=s128",
      "userId": "108723802128607926930"
     },
     "user_tz": -540
    },
    "id": "yg9oRrTA4ntI",
    "outputId": "8d8143a5-9fc8-4a82-d8c4-291d7850be44"
   },
   "outputs": [
    {
     "data": {
      "text/html": [
       "<div>\n",
       "<style scoped>\n",
       "    .dataframe tbody tr th:only-of-type {\n",
       "        vertical-align: middle;\n",
       "    }\n",
       "\n",
       "    .dataframe tbody tr th {\n",
       "        vertical-align: top;\n",
       "    }\n",
       "\n",
       "    .dataframe thead th {\n",
       "        text-align: right;\n",
       "    }\n",
       "</style>\n",
       "<table border=\"1\" class=\"dataframe\">\n",
       "  <thead>\n",
       "    <tr style=\"text-align: right;\">\n",
       "      <th></th>\n",
       "      <th>key</th>\n",
       "      <th>rval</th>\n",
       "    </tr>\n",
       "  </thead>\n",
       "  <tbody>\n",
       "    <tr>\n",
       "      <th>0</th>\n",
       "      <td>foo</td>\n",
       "      <td>4</td>\n",
       "    </tr>\n",
       "    <tr>\n",
       "      <th>1</th>\n",
       "      <td>foo</td>\n",
       "      <td>5</td>\n",
       "    </tr>\n",
       "  </tbody>\n",
       "</table>\n",
       "</div>"
      ],
      "text/plain": [
       "   key  rval\n",
       "0  foo     4\n",
       "1  foo     5"
      ]
     },
     "execution_count": 80,
     "metadata": {},
     "output_type": "execute_result"
    }
   ],
   "source": [
    "right"
   ]
  },
  {
   "cell_type": "code",
   "execution_count": 81,
   "metadata": {
    "colab": {
     "autoexec": {
      "startup": false,
      "wait_interval": 0
     },
     "base_uri": "https://localhost:8080/",
     "height": 169
    },
    "colab_type": "code",
    "executionInfo": {
     "elapsed": 699,
     "status": "ok",
     "timestamp": 1531793228904,
     "user": {
      "displayName": "Saerom Bang",
      "photoUrl": "https://lh3.googleusercontent.com/a/default-user=s128",
      "userId": "108723802128607926930"
     },
     "user_tz": -540
    },
    "id": "5fN8wCZl5qVv",
    "outputId": "f124412e-daf4-4635-92b6-35a2137496bd"
   },
   "outputs": [
    {
     "data": {
      "text/html": [
       "<div>\n",
       "<style scoped>\n",
       "    .dataframe tbody tr th:only-of-type {\n",
       "        vertical-align: middle;\n",
       "    }\n",
       "\n",
       "    .dataframe tbody tr th {\n",
       "        vertical-align: top;\n",
       "    }\n",
       "\n",
       "    .dataframe thead th {\n",
       "        text-align: right;\n",
       "    }\n",
       "</style>\n",
       "<table border=\"1\" class=\"dataframe\">\n",
       "  <thead>\n",
       "    <tr style=\"text-align: right;\">\n",
       "      <th></th>\n",
       "      <th>key</th>\n",
       "      <th>lval</th>\n",
       "      <th>rval</th>\n",
       "    </tr>\n",
       "  </thead>\n",
       "  <tbody>\n",
       "    <tr>\n",
       "      <th>0</th>\n",
       "      <td>foo</td>\n",
       "      <td>1</td>\n",
       "      <td>4</td>\n",
       "    </tr>\n",
       "    <tr>\n",
       "      <th>1</th>\n",
       "      <td>foo</td>\n",
       "      <td>1</td>\n",
       "      <td>5</td>\n",
       "    </tr>\n",
       "    <tr>\n",
       "      <th>2</th>\n",
       "      <td>foo</td>\n",
       "      <td>2</td>\n",
       "      <td>4</td>\n",
       "    </tr>\n",
       "    <tr>\n",
       "      <th>3</th>\n",
       "      <td>foo</td>\n",
       "      <td>2</td>\n",
       "      <td>5</td>\n",
       "    </tr>\n",
       "  </tbody>\n",
       "</table>\n",
       "</div>"
      ],
      "text/plain": [
       "   key  lval  rval\n",
       "0  foo     1     4\n",
       "1  foo     1     5\n",
       "2  foo     2     4\n",
       "3  foo     2     5"
      ]
     },
     "execution_count": 81,
     "metadata": {},
     "output_type": "execute_result"
    }
   ],
   "source": [
    "pd.merge(left, right, on= 'key')"
   ]
  },
  {
   "cell_type": "markdown",
   "metadata": {
    "colab_type": "text",
    "id": "UEBAM4h6_gid"
   },
   "source": [
    "다른 예시입니다."
   ]
  },
  {
   "cell_type": "code",
   "execution_count": 82,
   "metadata": {
    "colab": {
     "autoexec": {
      "startup": false,
      "wait_interval": 0
     }
    },
    "colab_type": "code",
    "id": "h2Xlgd-o6xIx"
   },
   "outputs": [],
   "source": [
    "left = pd.DataFrame({'key' : ['foo', 'bar'], 'lval' : [1, 2]})"
   ]
  },
  {
   "cell_type": "code",
   "execution_count": 83,
   "metadata": {
    "colab": {
     "autoexec": {
      "startup": false,
      "wait_interval": 0
     }
    },
    "colab_type": "code",
    "id": "8FnaD9XoAtnd"
   },
   "outputs": [],
   "source": [
    "right = pd.DataFrame({'key': ['foo', 'bar'], 'rval': [4, 5]})"
   ]
  },
  {
   "cell_type": "code",
   "execution_count": 84,
   "metadata": {
    "colab": {
     "autoexec": {
      "startup": false,
      "wait_interval": 0
     },
     "base_uri": "https://localhost:8080/",
     "height": 108
    },
    "colab_type": "code",
    "executionInfo": {
     "elapsed": 705,
     "status": "ok",
     "timestamp": 1531793641257,
     "user": {
      "displayName": "Saerom Bang",
      "photoUrl": "https://lh3.googleusercontent.com/a/default-user=s128",
      "userId": "108723802128607926930"
     },
     "user_tz": -540
    },
    "id": "Y15ZVKlKA--o",
    "outputId": "daf289b9-e39f-4f05-b3dd-8df7442ee656"
   },
   "outputs": [
    {
     "data": {
      "text/html": [
       "<div>\n",
       "<style scoped>\n",
       "    .dataframe tbody tr th:only-of-type {\n",
       "        vertical-align: middle;\n",
       "    }\n",
       "\n",
       "    .dataframe tbody tr th {\n",
       "        vertical-align: top;\n",
       "    }\n",
       "\n",
       "    .dataframe thead th {\n",
       "        text-align: right;\n",
       "    }\n",
       "</style>\n",
       "<table border=\"1\" class=\"dataframe\">\n",
       "  <thead>\n",
       "    <tr style=\"text-align: right;\">\n",
       "      <th></th>\n",
       "      <th>key</th>\n",
       "      <th>lval</th>\n",
       "    </tr>\n",
       "  </thead>\n",
       "  <tbody>\n",
       "    <tr>\n",
       "      <th>0</th>\n",
       "      <td>foo</td>\n",
       "      <td>1</td>\n",
       "    </tr>\n",
       "    <tr>\n",
       "      <th>1</th>\n",
       "      <td>bar</td>\n",
       "      <td>2</td>\n",
       "    </tr>\n",
       "  </tbody>\n",
       "</table>\n",
       "</div>"
      ],
      "text/plain": [
       "   key  lval\n",
       "0  foo     1\n",
       "1  bar     2"
      ]
     },
     "execution_count": 84,
     "metadata": {},
     "output_type": "execute_result"
    }
   ],
   "source": [
    "left"
   ]
  },
  {
   "cell_type": "code",
   "execution_count": 85,
   "metadata": {
    "colab": {
     "autoexec": {
      "startup": false,
      "wait_interval": 0
     },
     "base_uri": "https://localhost:8080/",
     "height": 108
    },
    "colab_type": "code",
    "executionInfo": {
     "elapsed": 771,
     "status": "ok",
     "timestamp": 1531793655054,
     "user": {
      "displayName": "Saerom Bang",
      "photoUrl": "https://lh3.googleusercontent.com/a/default-user=s128",
      "userId": "108723802128607926930"
     },
     "user_tz": -540
    },
    "id": "ZRpNjm6wBCW0",
    "outputId": "ff4d9d71-6586-41c6-912c-dd54e99d451e"
   },
   "outputs": [
    {
     "data": {
      "text/html": [
       "<div>\n",
       "<style scoped>\n",
       "    .dataframe tbody tr th:only-of-type {\n",
       "        vertical-align: middle;\n",
       "    }\n",
       "\n",
       "    .dataframe tbody tr th {\n",
       "        vertical-align: top;\n",
       "    }\n",
       "\n",
       "    .dataframe thead th {\n",
       "        text-align: right;\n",
       "    }\n",
       "</style>\n",
       "<table border=\"1\" class=\"dataframe\">\n",
       "  <thead>\n",
       "    <tr style=\"text-align: right;\">\n",
       "      <th></th>\n",
       "      <th>key</th>\n",
       "      <th>rval</th>\n",
       "    </tr>\n",
       "  </thead>\n",
       "  <tbody>\n",
       "    <tr>\n",
       "      <th>0</th>\n",
       "      <td>foo</td>\n",
       "      <td>4</td>\n",
       "    </tr>\n",
       "    <tr>\n",
       "      <th>1</th>\n",
       "      <td>bar</td>\n",
       "      <td>5</td>\n",
       "    </tr>\n",
       "  </tbody>\n",
       "</table>\n",
       "</div>"
      ],
      "text/plain": [
       "   key  rval\n",
       "0  foo     4\n",
       "1  bar     5"
      ]
     },
     "execution_count": 85,
     "metadata": {},
     "output_type": "execute_result"
    }
   ],
   "source": [
    "right "
   ]
  },
  {
   "cell_type": "code",
   "execution_count": 86,
   "metadata": {
    "colab": {
     "autoexec": {
      "startup": false,
      "wait_interval": 0
     },
     "base_uri": "https://localhost:8080/",
     "height": 108
    },
    "colab_type": "code",
    "executionInfo": {
     "elapsed": 741,
     "status": "ok",
     "timestamp": 1531793682238,
     "user": {
      "displayName": "Saerom Bang",
      "photoUrl": "https://lh3.googleusercontent.com/a/default-user=s128",
      "userId": "108723802128607926930"
     },
     "user_tz": -540
    },
    "id": "duVQRnqnBFPe",
    "outputId": "665d2aa5-b50f-4288-8261-2ca2b2e07f5b"
   },
   "outputs": [
    {
     "data": {
      "text/html": [
       "<div>\n",
       "<style scoped>\n",
       "    .dataframe tbody tr th:only-of-type {\n",
       "        vertical-align: middle;\n",
       "    }\n",
       "\n",
       "    .dataframe tbody tr th {\n",
       "        vertical-align: top;\n",
       "    }\n",
       "\n",
       "    .dataframe thead th {\n",
       "        text-align: right;\n",
       "    }\n",
       "</style>\n",
       "<table border=\"1\" class=\"dataframe\">\n",
       "  <thead>\n",
       "    <tr style=\"text-align: right;\">\n",
       "      <th></th>\n",
       "      <th>key</th>\n",
       "      <th>lval</th>\n",
       "      <th>rval</th>\n",
       "    </tr>\n",
       "  </thead>\n",
       "  <tbody>\n",
       "    <tr>\n",
       "      <th>0</th>\n",
       "      <td>foo</td>\n",
       "      <td>1</td>\n",
       "      <td>4</td>\n",
       "    </tr>\n",
       "    <tr>\n",
       "      <th>1</th>\n",
       "      <td>bar</td>\n",
       "      <td>2</td>\n",
       "      <td>5</td>\n",
       "    </tr>\n",
       "  </tbody>\n",
       "</table>\n",
       "</div>"
      ],
      "text/plain": [
       "   key  lval  rval\n",
       "0  foo     1     4\n",
       "1  bar     2     5"
      ]
     },
     "execution_count": 86,
     "metadata": {},
     "output_type": "execute_result"
    }
   ],
   "source": [
    "pd.merge(left, right, on= 'key')"
   ]
  },
  {
   "cell_type": "markdown",
   "metadata": {
    "colab_type": "text",
    "id": "9-CsJ6kHLNjc"
   },
   "source": [
    "### Append (추가)"
   ]
  },
  {
   "cell_type": "markdown",
   "metadata": {
    "colab_type": "text",
    "id": "CQoQZg9aLNjc"
   },
   "source": [
    "데이터프레임에 행을 추가합니다. [Appending](https://pandas.pydata.org/pandas-docs/stable/merging.html#merging-concatenation) 부분을 참조하세요."
   ]
  },
  {
   "cell_type": "code",
   "execution_count": 87,
   "metadata": {
    "colab": {
     "autoexec": {
      "startup": false,
      "wait_interval": 0
     }
    },
    "colab_type": "code",
    "id": "DniPx4zTLNjc"
   },
   "outputs": [],
   "source": [
    "df = pd.DataFrame(np.random.randn(8, 4), columns=['A', 'B', 'C', 'D'])"
   ]
  },
  {
   "cell_type": "code",
   "execution_count": 88,
   "metadata": {
    "colab": {
     "autoexec": {
      "startup": false,
      "wait_interval": 0
     }
    },
    "colab_type": "code",
    "id": "Z83pFze46h4h",
    "outputId": "2fc915be-271f-4bf5-f4ca-4ff8c5ad6f17"
   },
   "outputs": [
    {
     "data": {
      "text/html": [
       "<div>\n",
       "<style scoped>\n",
       "    .dataframe tbody tr th:only-of-type {\n",
       "        vertical-align: middle;\n",
       "    }\n",
       "\n",
       "    .dataframe tbody tr th {\n",
       "        vertical-align: top;\n",
       "    }\n",
       "\n",
       "    .dataframe thead th {\n",
       "        text-align: right;\n",
       "    }\n",
       "</style>\n",
       "<table border=\"1\" class=\"dataframe\">\n",
       "  <thead>\n",
       "    <tr style=\"text-align: right;\">\n",
       "      <th></th>\n",
       "      <th>A</th>\n",
       "      <th>B</th>\n",
       "      <th>C</th>\n",
       "      <th>D</th>\n",
       "    </tr>\n",
       "  </thead>\n",
       "  <tbody>\n",
       "    <tr>\n",
       "      <th>0</th>\n",
       "      <td>-0.789914</td>\n",
       "      <td>1.278723</td>\n",
       "      <td>1.038071</td>\n",
       "      <td>1.670630</td>\n",
       "    </tr>\n",
       "    <tr>\n",
       "      <th>1</th>\n",
       "      <td>2.243766</td>\n",
       "      <td>-0.311935</td>\n",
       "      <td>-0.679068</td>\n",
       "      <td>0.283738</td>\n",
       "    </tr>\n",
       "    <tr>\n",
       "      <th>2</th>\n",
       "      <td>-1.141781</td>\n",
       "      <td>-0.074785</td>\n",
       "      <td>-1.709231</td>\n",
       "      <td>-0.908113</td>\n",
       "    </tr>\n",
       "    <tr>\n",
       "      <th>3</th>\n",
       "      <td>-1.566162</td>\n",
       "      <td>0.821652</td>\n",
       "      <td>-0.196202</td>\n",
       "      <td>1.366636</td>\n",
       "    </tr>\n",
       "    <tr>\n",
       "      <th>4</th>\n",
       "      <td>-0.419881</td>\n",
       "      <td>-1.120399</td>\n",
       "      <td>-0.738392</td>\n",
       "      <td>1.113420</td>\n",
       "    </tr>\n",
       "    <tr>\n",
       "      <th>5</th>\n",
       "      <td>-0.032739</td>\n",
       "      <td>-2.330941</td>\n",
       "      <td>1.266470</td>\n",
       "      <td>0.623114</td>\n",
       "    </tr>\n",
       "    <tr>\n",
       "      <th>6</th>\n",
       "      <td>0.215986</td>\n",
       "      <td>2.463010</td>\n",
       "      <td>0.312977</td>\n",
       "      <td>-0.174133</td>\n",
       "    </tr>\n",
       "    <tr>\n",
       "      <th>7</th>\n",
       "      <td>0.903627</td>\n",
       "      <td>-0.925321</td>\n",
       "      <td>0.061968</td>\n",
       "      <td>-0.942534</td>\n",
       "    </tr>\n",
       "  </tbody>\n",
       "</table>\n",
       "</div>"
      ],
      "text/plain": [
       "          A         B         C         D\n",
       "0 -0.789914  1.278723  1.038071  1.670630\n",
       "1  2.243766 -0.311935 -0.679068  0.283738\n",
       "2 -1.141781 -0.074785 -1.709231 -0.908113\n",
       "3 -1.566162  0.821652 -0.196202  1.366636\n",
       "4 -0.419881 -1.120399 -0.738392  1.113420\n",
       "5 -0.032739 -2.330941  1.266470  0.623114\n",
       "6  0.215986  2.463010  0.312977 -0.174133\n",
       "7  0.903627 -0.925321  0.061968 -0.942534"
      ]
     },
     "execution_count": 88,
     "metadata": {},
     "output_type": "execute_result"
    }
   ],
   "source": [
    "df"
   ]
  },
  {
   "cell_type": "code",
   "execution_count": 89,
   "metadata": {
    "colab": {
     "autoexec": {
      "startup": false,
      "wait_interval": 0
     }
    },
    "colab_type": "code",
    "id": "Bqm6NMtW6j12"
   },
   "outputs": [],
   "source": [
    "s = df.iloc[3]"
   ]
  },
  {
   "cell_type": "code",
   "execution_count": 90,
   "metadata": {
    "colab": {
     "autoexec": {
      "startup": false,
      "wait_interval": 0
     }
    },
    "colab_type": "code",
    "id": "I3PtsAkF6lpI",
    "outputId": "656040ef-14ee-4452-d157-5482763e94d5"
   },
   "outputs": [
    {
     "data": {
      "text/html": [
       "<div>\n",
       "<style scoped>\n",
       "    .dataframe tbody tr th:only-of-type {\n",
       "        vertical-align: middle;\n",
       "    }\n",
       "\n",
       "    .dataframe tbody tr th {\n",
       "        vertical-align: top;\n",
       "    }\n",
       "\n",
       "    .dataframe thead th {\n",
       "        text-align: right;\n",
       "    }\n",
       "</style>\n",
       "<table border=\"1\" class=\"dataframe\">\n",
       "  <thead>\n",
       "    <tr style=\"text-align: right;\">\n",
       "      <th></th>\n",
       "      <th>A</th>\n",
       "      <th>B</th>\n",
       "      <th>C</th>\n",
       "      <th>D</th>\n",
       "    </tr>\n",
       "  </thead>\n",
       "  <tbody>\n",
       "    <tr>\n",
       "      <th>0</th>\n",
       "      <td>-0.789914</td>\n",
       "      <td>1.278723</td>\n",
       "      <td>1.038071</td>\n",
       "      <td>1.670630</td>\n",
       "    </tr>\n",
       "    <tr>\n",
       "      <th>1</th>\n",
       "      <td>2.243766</td>\n",
       "      <td>-0.311935</td>\n",
       "      <td>-0.679068</td>\n",
       "      <td>0.283738</td>\n",
       "    </tr>\n",
       "    <tr>\n",
       "      <th>2</th>\n",
       "      <td>-1.141781</td>\n",
       "      <td>-0.074785</td>\n",
       "      <td>-1.709231</td>\n",
       "      <td>-0.908113</td>\n",
       "    </tr>\n",
       "    <tr>\n",
       "      <th>3</th>\n",
       "      <td>-1.566162</td>\n",
       "      <td>0.821652</td>\n",
       "      <td>-0.196202</td>\n",
       "      <td>1.366636</td>\n",
       "    </tr>\n",
       "    <tr>\n",
       "      <th>4</th>\n",
       "      <td>-0.419881</td>\n",
       "      <td>-1.120399</td>\n",
       "      <td>-0.738392</td>\n",
       "      <td>1.113420</td>\n",
       "    </tr>\n",
       "    <tr>\n",
       "      <th>5</th>\n",
       "      <td>-0.032739</td>\n",
       "      <td>-2.330941</td>\n",
       "      <td>1.266470</td>\n",
       "      <td>0.623114</td>\n",
       "    </tr>\n",
       "    <tr>\n",
       "      <th>6</th>\n",
       "      <td>0.215986</td>\n",
       "      <td>2.463010</td>\n",
       "      <td>0.312977</td>\n",
       "      <td>-0.174133</td>\n",
       "    </tr>\n",
       "    <tr>\n",
       "      <th>7</th>\n",
       "      <td>0.903627</td>\n",
       "      <td>-0.925321</td>\n",
       "      <td>0.061968</td>\n",
       "      <td>-0.942534</td>\n",
       "    </tr>\n",
       "    <tr>\n",
       "      <th>8</th>\n",
       "      <td>-1.566162</td>\n",
       "      <td>0.821652</td>\n",
       "      <td>-0.196202</td>\n",
       "      <td>1.366636</td>\n",
       "    </tr>\n",
       "  </tbody>\n",
       "</table>\n",
       "</div>"
      ],
      "text/plain": [
       "          A         B         C         D\n",
       "0 -0.789914  1.278723  1.038071  1.670630\n",
       "1  2.243766 -0.311935 -0.679068  0.283738\n",
       "2 -1.141781 -0.074785 -1.709231 -0.908113\n",
       "3 -1.566162  0.821652 -0.196202  1.366636\n",
       "4 -0.419881 -1.120399 -0.738392  1.113420\n",
       "5 -0.032739 -2.330941  1.266470  0.623114\n",
       "6  0.215986  2.463010  0.312977 -0.174133\n",
       "7  0.903627 -0.925321  0.061968 -0.942534\n",
       "8 -1.566162  0.821652 -0.196202  1.366636"
      ]
     },
     "execution_count": 90,
     "metadata": {},
     "output_type": "execute_result"
    }
   ],
   "source": [
    "df.append(s, ignore_index=True)"
   ]
  },
  {
   "cell_type": "markdown",
   "metadata": {
    "colab_type": "text",
    "id": "6VaJ6ty_3v09"
   },
   "source": [
    "## Grouping (그룹화)"
   ]
  },
  {
   "cell_type": "markdown",
   "metadata": {
    "colab_type": "text",
    "id": "SwXynO524KcN"
   },
   "source": [
    "**그룹화**는 다음 단계 중 하나 이상을 포함하는 과정을 가리킵니다.\n",
    "\n",
    "- 몇몇 기준에 따라 여러 그룹으로 데이터를 **분할(Splitting)**\n",
    "- 각 그룹에 독립적으로 함수를 **적용(Applying)**\n",
    "- 결과물들을 하나의 데이터 구조로  **결합(Combining)**\n",
    "\n",
    "자세한 내용은 [그룹화](https://pandas.pydata.org/pandas-docs/stable/groupby.html#groupby) 부분을 참조하세요."
   ]
  },
  {
   "cell_type": "code",
   "execution_count": 91,
   "metadata": {
    "colab": {
     "autoexec": {
      "startup": false,
      "wait_interval": 0
     }
    },
    "colab_type": "code",
    "id": "pO0cOZtU4Mvl"
   },
   "outputs": [],
   "source": [
    "df = pd.DataFrame(\n",
    "    {\n",
    "        'A' : ['foo', 'bar', 'foo', 'bar', 'foo', 'bar', 'foo', 'foo'],\n",
    "        'B' : ['one', 'one', 'two', 'three', 'two', 'two', 'one', 'three'],\n",
    "        'C' : np.random.randn(8),\n",
    "        'D' : np.random.randn(8)\n",
    "    })"
   ]
  },
  {
   "cell_type": "code",
   "execution_count": 92,
   "metadata": {
    "colab": {
     "autoexec": {
      "startup": false,
      "wait_interval": 0
     },
     "base_uri": "https://localhost:8080/",
     "height": 297
    },
    "colab_type": "code",
    "executionInfo": {
     "elapsed": 728,
     "status": "ok",
     "timestamp": 1531793428182,
     "user": {
      "displayName": "김소령",
      "photoUrl": "https://lh3.googleusercontent.com/a/default-user=s128",
      "userId": "115519869961267992265"
     },
     "user_tz": -540
    },
    "id": "H1aI7vJB4P72",
    "outputId": "03349475-d4ad-4728-9ffd-ebe9afa53d6d"
   },
   "outputs": [
    {
     "data": {
      "text/html": [
       "<div>\n",
       "<style scoped>\n",
       "    .dataframe tbody tr th:only-of-type {\n",
       "        vertical-align: middle;\n",
       "    }\n",
       "\n",
       "    .dataframe tbody tr th {\n",
       "        vertical-align: top;\n",
       "    }\n",
       "\n",
       "    .dataframe thead th {\n",
       "        text-align: right;\n",
       "    }\n",
       "</style>\n",
       "<table border=\"1\" class=\"dataframe\">\n",
       "  <thead>\n",
       "    <tr style=\"text-align: right;\">\n",
       "      <th></th>\n",
       "      <th>A</th>\n",
       "      <th>B</th>\n",
       "      <th>C</th>\n",
       "      <th>D</th>\n",
       "    </tr>\n",
       "  </thead>\n",
       "  <tbody>\n",
       "    <tr>\n",
       "      <th>0</th>\n",
       "      <td>foo</td>\n",
       "      <td>one</td>\n",
       "      <td>-1.010580</td>\n",
       "      <td>0.158798</td>\n",
       "    </tr>\n",
       "    <tr>\n",
       "      <th>1</th>\n",
       "      <td>bar</td>\n",
       "      <td>one</td>\n",
       "      <td>-0.511787</td>\n",
       "      <td>-0.558484</td>\n",
       "    </tr>\n",
       "    <tr>\n",
       "      <th>2</th>\n",
       "      <td>foo</td>\n",
       "      <td>two</td>\n",
       "      <td>-0.633765</td>\n",
       "      <td>-1.389369</td>\n",
       "    </tr>\n",
       "    <tr>\n",
       "      <th>3</th>\n",
       "      <td>bar</td>\n",
       "      <td>three</td>\n",
       "      <td>-1.114206</td>\n",
       "      <td>-0.871100</td>\n",
       "    </tr>\n",
       "    <tr>\n",
       "      <th>4</th>\n",
       "      <td>foo</td>\n",
       "      <td>two</td>\n",
       "      <td>0.325719</td>\n",
       "      <td>0.719644</td>\n",
       "    </tr>\n",
       "    <tr>\n",
       "      <th>5</th>\n",
       "      <td>bar</td>\n",
       "      <td>two</td>\n",
       "      <td>-0.530995</td>\n",
       "      <td>-0.845887</td>\n",
       "    </tr>\n",
       "    <tr>\n",
       "      <th>6</th>\n",
       "      <td>foo</td>\n",
       "      <td>one</td>\n",
       "      <td>0.470300</td>\n",
       "      <td>-2.990814</td>\n",
       "    </tr>\n",
       "    <tr>\n",
       "      <th>7</th>\n",
       "      <td>foo</td>\n",
       "      <td>three</td>\n",
       "      <td>0.805913</td>\n",
       "      <td>1.592019</td>\n",
       "    </tr>\n",
       "  </tbody>\n",
       "</table>\n",
       "</div>"
      ],
      "text/plain": [
       "     A      B         C         D\n",
       "0  foo    one -1.010580  0.158798\n",
       "1  bar    one -0.511787 -0.558484\n",
       "2  foo    two -0.633765 -1.389369\n",
       "3  bar  three -1.114206 -0.871100\n",
       "4  foo    two  0.325719  0.719644\n",
       "5  bar    two -0.530995 -0.845887\n",
       "6  foo    one  0.470300 -2.990814\n",
       "7  foo  three  0.805913  1.592019"
      ]
     },
     "execution_count": 92,
     "metadata": {},
     "output_type": "execute_result"
    }
   ],
   "source": [
    "df"
   ]
  },
  {
   "cell_type": "markdown",
   "metadata": {
    "colab_type": "text",
    "id": "71rM8bizCRRB"
   },
   "source": [
    "(생성된 데이터프레임을) 그룹화한 후 각 그룹에 [sum()](https://pandas.pydata.org/pandas-docs/stable/generated/pandas.DataFrame.sum.html#pandas.DataFrame.sum) 함수를 적용합니다."
   ]
  },
  {
   "cell_type": "code",
   "execution_count": 93,
   "metadata": {
    "colab": {
     "autoexec": {
      "startup": false,
      "wait_interval": 0
     },
     "base_uri": "https://localhost:8080/",
     "height": 142
    },
    "colab_type": "code",
    "executionInfo": {
     "elapsed": 789,
     "status": "ok",
     "timestamp": 1531793430488,
     "user": {
      "displayName": "김소령",
      "photoUrl": "https://lh3.googleusercontent.com/a/default-user=s128",
      "userId": "115519869961267992265"
     },
     "user_tz": -540
    },
    "id": "dJ4kqsJe4RfY",
    "outputId": "e5f3a626-a1cd-49c7-e740-3730cd4a2317"
   },
   "outputs": [
    {
     "data": {
      "text/html": [
       "<div>\n",
       "<style scoped>\n",
       "    .dataframe tbody tr th:only-of-type {\n",
       "        vertical-align: middle;\n",
       "    }\n",
       "\n",
       "    .dataframe tbody tr th {\n",
       "        vertical-align: top;\n",
       "    }\n",
       "\n",
       "    .dataframe thead th {\n",
       "        text-align: right;\n",
       "    }\n",
       "</style>\n",
       "<table border=\"1\" class=\"dataframe\">\n",
       "  <thead>\n",
       "    <tr style=\"text-align: right;\">\n",
       "      <th></th>\n",
       "      <th>C</th>\n",
       "      <th>D</th>\n",
       "    </tr>\n",
       "    <tr>\n",
       "      <th>A</th>\n",
       "      <th></th>\n",
       "      <th></th>\n",
       "    </tr>\n",
       "  </thead>\n",
       "  <tbody>\n",
       "    <tr>\n",
       "      <th>bar</th>\n",
       "      <td>-2.156987</td>\n",
       "      <td>-2.275470</td>\n",
       "    </tr>\n",
       "    <tr>\n",
       "      <th>foo</th>\n",
       "      <td>-0.042413</td>\n",
       "      <td>-1.909721</td>\n",
       "    </tr>\n",
       "  </tbody>\n",
       "</table>\n",
       "</div>"
      ],
      "text/plain": [
       "            C         D\n",
       "A                      \n",
       "bar -2.156987 -2.275470\n",
       "foo -0.042413 -1.909721"
      ]
     },
     "execution_count": 93,
     "metadata": {},
     "output_type": "execute_result"
    }
   ],
   "source": [
    "df.groupby('A').sum()"
   ]
  },
  {
   "cell_type": "markdown",
   "metadata": {
    "colab_type": "text",
    "id": "jap0wSpO4Sn4"
   },
   "source": [
    "여러 열을 기준으로 그룹화하면 계층적 인덱스가 형성됩니다. 여기에도 sum 함수를 적용할 수 있습니다."
   ]
  },
  {
   "cell_type": "code",
   "execution_count": 94,
   "metadata": {
    "colab": {
     "autoexec": {
      "startup": false,
      "wait_interval": 0
     },
     "base_uri": "https://localhost:8080/",
     "height": 266
    },
    "colab_type": "code",
    "executionInfo": {
     "elapsed": 734,
     "status": "ok",
     "timestamp": 1531793434975,
     "user": {
      "displayName": "김소령",
      "photoUrl": "https://lh3.googleusercontent.com/a/default-user=s128",
      "userId": "115519869961267992265"
     },
     "user_tz": -540
    },
    "id": "iRZP8UKC4TvZ",
    "outputId": "c18a598b-2e53-4b27-fa50-4da2108e409a"
   },
   "outputs": [
    {
     "data": {
      "text/html": [
       "<div>\n",
       "<style scoped>\n",
       "    .dataframe tbody tr th:only-of-type {\n",
       "        vertical-align: middle;\n",
       "    }\n",
       "\n",
       "    .dataframe tbody tr th {\n",
       "        vertical-align: top;\n",
       "    }\n",
       "\n",
       "    .dataframe thead th {\n",
       "        text-align: right;\n",
       "    }\n",
       "</style>\n",
       "<table border=\"1\" class=\"dataframe\">\n",
       "  <thead>\n",
       "    <tr style=\"text-align: right;\">\n",
       "      <th></th>\n",
       "      <th></th>\n",
       "      <th>C</th>\n",
       "      <th>D</th>\n",
       "    </tr>\n",
       "    <tr>\n",
       "      <th>A</th>\n",
       "      <th>B</th>\n",
       "      <th></th>\n",
       "      <th></th>\n",
       "    </tr>\n",
       "  </thead>\n",
       "  <tbody>\n",
       "    <tr>\n",
       "      <th rowspan=\"3\" valign=\"top\">bar</th>\n",
       "      <th>one</th>\n",
       "      <td>-0.511787</td>\n",
       "      <td>-0.558484</td>\n",
       "    </tr>\n",
       "    <tr>\n",
       "      <th>three</th>\n",
       "      <td>-1.114206</td>\n",
       "      <td>-0.871100</td>\n",
       "    </tr>\n",
       "    <tr>\n",
       "      <th>two</th>\n",
       "      <td>-0.530995</td>\n",
       "      <td>-0.845887</td>\n",
       "    </tr>\n",
       "    <tr>\n",
       "      <th rowspan=\"3\" valign=\"top\">foo</th>\n",
       "      <th>one</th>\n",
       "      <td>-0.540280</td>\n",
       "      <td>-2.832016</td>\n",
       "    </tr>\n",
       "    <tr>\n",
       "      <th>three</th>\n",
       "      <td>0.805913</td>\n",
       "      <td>1.592019</td>\n",
       "    </tr>\n",
       "    <tr>\n",
       "      <th>two</th>\n",
       "      <td>-0.308046</td>\n",
       "      <td>-0.669725</td>\n",
       "    </tr>\n",
       "  </tbody>\n",
       "</table>\n",
       "</div>"
      ],
      "text/plain": [
       "                  C         D\n",
       "A   B                        \n",
       "bar one   -0.511787 -0.558484\n",
       "    three -1.114206 -0.871100\n",
       "    two   -0.530995 -0.845887\n",
       "foo one   -0.540280 -2.832016\n",
       "    three  0.805913  1.592019\n",
       "    two   -0.308046 -0.669725"
      ]
     },
     "execution_count": 94,
     "metadata": {},
     "output_type": "execute_result"
    }
   ],
   "source": [
    "df.groupby(['A','B']).sum()"
   ]
  },
  {
   "cell_type": "markdown",
   "metadata": {
    "colab_type": "text",
    "id": "7tWQKNsJ3JeY"
   },
   "source": [
    "## Reshaping (변형)"
   ]
  },
  {
   "cell_type": "markdown",
   "metadata": {
    "colab_type": "text",
    "id": "ulRzrXGK3Ndc"
   },
   "source": [
    "[계층적 인덱싱](https://pandas.pydata.org/pandas-docs/stable/advanced.html#advanced-hierarchical) 및 [변형](https://pandas.pydata.org/pandas-docs/stable/reshaping.html#reshaping-stacking) 부분을 참조하세요."
   ]
  },
  {
   "cell_type": "markdown",
   "metadata": {
    "colab_type": "text",
    "id": "gZJGxemv3WWA"
   },
   "source": [
    "### Stack (스택)"
   ]
  },
  {
   "cell_type": "code",
   "execution_count": 95,
   "metadata": {
    "colab": {
     "autoexec": {
      "startup": false,
      "wait_interval": 0
     }
    },
    "colab_type": "code",
    "id": "Yd5vPwOV3arp"
   },
   "outputs": [],
   "source": [
    "tuples = list(zip(*[['bar', 'bar', 'baz', 'baz',\n",
    "                     'foo', 'foo', 'qux', 'qux'],\n",
    "                    ['one', 'two', 'one', 'two',\n",
    "                     'one', 'two', 'one', 'two']]))"
   ]
  },
  {
   "cell_type": "code",
   "execution_count": 96,
   "metadata": {
    "colab": {
     "autoexec": {
      "startup": false,
      "wait_interval": 0
     }
    },
    "colab_type": "code",
    "id": "cyRpaTGe3hJ-"
   },
   "outputs": [],
   "source": [
    "index = pd.MultiIndex.from_tuples(tuples, names=['first', 'second'])"
   ]
  },
  {
   "cell_type": "code",
   "execution_count": 97,
   "metadata": {
    "colab": {
     "autoexec": {
      "startup": false,
      "wait_interval": 0
     }
    },
    "colab_type": "code",
    "id": "Jj2RjG8r3h1B"
   },
   "outputs": [],
   "source": [
    "df = pd.DataFrame(np.random.randn(8, 2), index=index, columns=['A', 'B'])"
   ]
  },
  {
   "cell_type": "code",
   "execution_count": 98,
   "metadata": {
    "colab": {
     "autoexec": {
      "startup": false,
      "wait_interval": 0
     }
    },
    "colab_type": "code",
    "id": "I0H5P5Al3hxB"
   },
   "outputs": [],
   "source": [
    "df2  =  df[:4]"
   ]
  },
  {
   "cell_type": "code",
   "execution_count": 99,
   "metadata": {
    "colab": {
     "autoexec": {
      "startup": false,
      "wait_interval": 0
     },
     "base_uri": "https://localhost:8080/",
     "height": 204
    },
    "colab_type": "code",
    "executionInfo": {
     "elapsed": 731,
     "status": "ok",
     "timestamp": 1531794011058,
     "user": {
      "displayName": "김소령",
      "photoUrl": "https://lh3.googleusercontent.com/a/default-user=s128",
      "userId": "115519869961267992265"
     },
     "user_tz": -540
    },
    "id": "YlRK8VoH3htI",
    "outputId": "11cbb1b4-95b5-4810-d808-6a567f1cc746"
   },
   "outputs": [
    {
     "data": {
      "text/html": [
       "<div>\n",
       "<style scoped>\n",
       "    .dataframe tbody tr th:only-of-type {\n",
       "        vertical-align: middle;\n",
       "    }\n",
       "\n",
       "    .dataframe tbody tr th {\n",
       "        vertical-align: top;\n",
       "    }\n",
       "\n",
       "    .dataframe thead th {\n",
       "        text-align: right;\n",
       "    }\n",
       "</style>\n",
       "<table border=\"1\" class=\"dataframe\">\n",
       "  <thead>\n",
       "    <tr style=\"text-align: right;\">\n",
       "      <th></th>\n",
       "      <th></th>\n",
       "      <th>A</th>\n",
       "      <th>B</th>\n",
       "    </tr>\n",
       "    <tr>\n",
       "      <th>first</th>\n",
       "      <th>second</th>\n",
       "      <th></th>\n",
       "      <th></th>\n",
       "    </tr>\n",
       "  </thead>\n",
       "  <tbody>\n",
       "    <tr>\n",
       "      <th rowspan=\"2\" valign=\"top\">bar</th>\n",
       "      <th>one</th>\n",
       "      <td>0.376256</td>\n",
       "      <td>0.127798</td>\n",
       "    </tr>\n",
       "    <tr>\n",
       "      <th>two</th>\n",
       "      <td>-0.847776</td>\n",
       "      <td>1.186748</td>\n",
       "    </tr>\n",
       "    <tr>\n",
       "      <th rowspan=\"2\" valign=\"top\">baz</th>\n",
       "      <th>one</th>\n",
       "      <td>0.280129</td>\n",
       "      <td>-0.060967</td>\n",
       "    </tr>\n",
       "    <tr>\n",
       "      <th>two</th>\n",
       "      <td>0.428598</td>\n",
       "      <td>-1.203600</td>\n",
       "    </tr>\n",
       "  </tbody>\n",
       "</table>\n",
       "</div>"
      ],
      "text/plain": [
       "                     A         B\n",
       "first second                    \n",
       "bar   one     0.376256  0.127798\n",
       "      two    -0.847776  1.186748\n",
       "baz   one     0.280129 -0.060967\n",
       "      two     0.428598 -1.203600"
      ]
     },
     "execution_count": 99,
     "metadata": {},
     "output_type": "execute_result"
    }
   ],
   "source": [
    "df2"
   ]
  },
  {
   "cell_type": "markdown",
   "metadata": {
    "colab_type": "text",
    "id": "EdPsLy7B3o53"
   },
   "source": [
    "[stack()](https://pandas.pydata.org/pandas-docs/stable/generated/pandas.DataFrame.stack.html#pandas.DataFrame.stack) 메소드는 데이터프레임 열들의 계층을 \"압축\"합니다."
   ]
  },
  {
   "cell_type": "code",
   "execution_count": 100,
   "metadata": {
    "colab": {
     "autoexec": {
      "startup": false,
      "wait_interval": 0
     }
    },
    "colab_type": "code",
    "id": "yFIcJ4HE3r0A"
   },
   "outputs": [],
   "source": [
    "stacked = df2.stack()"
   ]
  },
  {
   "cell_type": "code",
   "execution_count": 101,
   "metadata": {
    "colab": {
     "autoexec": {
      "startup": false,
      "wait_interval": 0
     },
     "base_uri": "https://localhost:8080/",
     "height": 192
    },
    "colab_type": "code",
    "executionInfo": {
     "elapsed": 814,
     "status": "ok",
     "timestamp": 1531794021160,
     "user": {
      "displayName": "김소령",
      "photoUrl": "https://lh3.googleusercontent.com/a/default-user=s128",
      "userId": "115519869961267992265"
     },
     "user_tz": -540
    },
    "id": "4HZDs9pX3sEo",
    "outputId": "368118d3-2046-4654-8032-3efdb260e4fa"
   },
   "outputs": [
    {
     "data": {
      "text/plain": [
       "first  second   \n",
       "bar    one     A    0.376256\n",
       "               B    0.127798\n",
       "       two     A   -0.847776\n",
       "               B    1.186748\n",
       "baz    one     A    0.280129\n",
       "               B   -0.060967\n",
       "       two     A    0.428598\n",
       "               B   -1.203600\n",
       "dtype: float64"
      ]
     },
     "execution_count": 101,
     "metadata": {},
     "output_type": "execute_result"
    }
   ],
   "source": [
    "stacked"
   ]
  },
  {
   "cell_type": "markdown",
   "metadata": {
    "colab_type": "text",
    "id": "AEuI6yvK3wXA"
   },
   "source": [
    "\"Stack된\" 데이터프레임 또는 (MultiIndex를 인덱스로 사용하는) Series인 경우, [stack()](https://pandas.pydata.org/pandas-docs/stable/generated/pandas.DataFrame.stack.html#pandas.DataFrame.stack)의 역 연산은 [unstack()](https://pandas.pydata.org/pandas-docs/stable/generated/pandas.DataFrame.unstack.html#pandas.DataFrame.unstack)이며, 기본적으로 **마지막 계층**을 unstack합니다."
   ]
  },
  {
   "cell_type": "code",
   "execution_count": 102,
   "metadata": {
    "colab": {
     "autoexec": {
      "startup": false,
      "wait_interval": 0
     },
     "base_uri": "https://localhost:8080/",
     "height": 204
    },
    "colab_type": "code",
    "executionInfo": {
     "elapsed": 694,
     "status": "ok",
     "timestamp": 1531794027391,
     "user": {
      "displayName": "김소령",
      "photoUrl": "https://lh3.googleusercontent.com/a/default-user=s128",
      "userId": "115519869961267992265"
     },
     "user_tz": -540
    },
    "id": "RlD00KLE3rvm",
    "outputId": "1ae1686c-4bdc-4724-b23a-4b851fd69c7d"
   },
   "outputs": [
    {
     "data": {
      "text/html": [
       "<div>\n",
       "<style scoped>\n",
       "    .dataframe tbody tr th:only-of-type {\n",
       "        vertical-align: middle;\n",
       "    }\n",
       "\n",
       "    .dataframe tbody tr th {\n",
       "        vertical-align: top;\n",
       "    }\n",
       "\n",
       "    .dataframe thead th {\n",
       "        text-align: right;\n",
       "    }\n",
       "</style>\n",
       "<table border=\"1\" class=\"dataframe\">\n",
       "  <thead>\n",
       "    <tr style=\"text-align: right;\">\n",
       "      <th></th>\n",
       "      <th></th>\n",
       "      <th>A</th>\n",
       "      <th>B</th>\n",
       "    </tr>\n",
       "    <tr>\n",
       "      <th>first</th>\n",
       "      <th>second</th>\n",
       "      <th></th>\n",
       "      <th></th>\n",
       "    </tr>\n",
       "  </thead>\n",
       "  <tbody>\n",
       "    <tr>\n",
       "      <th rowspan=\"2\" valign=\"top\">bar</th>\n",
       "      <th>one</th>\n",
       "      <td>0.376256</td>\n",
       "      <td>0.127798</td>\n",
       "    </tr>\n",
       "    <tr>\n",
       "      <th>two</th>\n",
       "      <td>-0.847776</td>\n",
       "      <td>1.186748</td>\n",
       "    </tr>\n",
       "    <tr>\n",
       "      <th rowspan=\"2\" valign=\"top\">baz</th>\n",
       "      <th>one</th>\n",
       "      <td>0.280129</td>\n",
       "      <td>-0.060967</td>\n",
       "    </tr>\n",
       "    <tr>\n",
       "      <th>two</th>\n",
       "      <td>0.428598</td>\n",
       "      <td>-1.203600</td>\n",
       "    </tr>\n",
       "  </tbody>\n",
       "</table>\n",
       "</div>"
      ],
      "text/plain": [
       "                     A         B\n",
       "first second                    \n",
       "bar   one     0.376256  0.127798\n",
       "      two    -0.847776  1.186748\n",
       "baz   one     0.280129 -0.060967\n",
       "      two     0.428598 -1.203600"
      ]
     },
     "execution_count": 102,
     "metadata": {},
     "output_type": "execute_result"
    }
   ],
   "source": [
    "stacked.unstack()"
   ]
  },
  {
   "cell_type": "code",
   "execution_count": 103,
   "metadata": {
    "colab": {
     "autoexec": {
      "startup": false,
      "wait_interval": 0
     },
     "base_uri": "https://localhost:8080/",
     "height": 328
    },
    "colab_type": "code",
    "executionInfo": {
     "elapsed": 697,
     "status": "ok",
     "timestamp": 1531793697811,
     "user": {
      "displayName": "김소령",
      "photoUrl": "https://lh3.googleusercontent.com/a/default-user=s128",
      "userId": "115519869961267992265"
     },
     "user_tz": -540
    },
    "id": "kq8C75gl30xL",
    "outputId": "ce659c7a-ff97-414a-bfde-7d5a662e80ce"
   },
   "outputs": [
    {
     "data": {
      "text/html": [
       "<div>\n",
       "<style scoped>\n",
       "    .dataframe tbody tr th:only-of-type {\n",
       "        vertical-align: middle;\n",
       "    }\n",
       "\n",
       "    .dataframe tbody tr th {\n",
       "        vertical-align: top;\n",
       "    }\n",
       "\n",
       "    .dataframe thead th {\n",
       "        text-align: right;\n",
       "    }\n",
       "</style>\n",
       "<table border=\"1\" class=\"dataframe\">\n",
       "  <thead>\n",
       "    <tr style=\"text-align: right;\">\n",
       "      <th></th>\n",
       "      <th>second</th>\n",
       "      <th>one</th>\n",
       "      <th>two</th>\n",
       "    </tr>\n",
       "    <tr>\n",
       "      <th>first</th>\n",
       "      <th></th>\n",
       "      <th></th>\n",
       "      <th></th>\n",
       "    </tr>\n",
       "  </thead>\n",
       "  <tbody>\n",
       "    <tr>\n",
       "      <th rowspan=\"2\" valign=\"top\">bar</th>\n",
       "      <th>A</th>\n",
       "      <td>0.376256</td>\n",
       "      <td>-0.847776</td>\n",
       "    </tr>\n",
       "    <tr>\n",
       "      <th>B</th>\n",
       "      <td>0.127798</td>\n",
       "      <td>1.186748</td>\n",
       "    </tr>\n",
       "    <tr>\n",
       "      <th rowspan=\"2\" valign=\"top\">baz</th>\n",
       "      <th>A</th>\n",
       "      <td>0.280129</td>\n",
       "      <td>0.428598</td>\n",
       "    </tr>\n",
       "    <tr>\n",
       "      <th>B</th>\n",
       "      <td>-0.060967</td>\n",
       "      <td>-1.203600</td>\n",
       "    </tr>\n",
       "  </tbody>\n",
       "</table>\n",
       "</div>"
      ],
      "text/plain": [
       "second        one       two\n",
       "first                      \n",
       "bar   A  0.376256 -0.847776\n",
       "      B  0.127798  1.186748\n",
       "baz   A  0.280129  0.428598\n",
       "      B -0.060967 -1.203600"
      ]
     },
     "execution_count": 103,
     "metadata": {},
     "output_type": "execute_result"
    }
   ],
   "source": [
    "stacked.unstack(1)"
   ]
  },
  {
   "cell_type": "code",
   "execution_count": 104,
   "metadata": {
    "colab": {
     "autoexec": {
      "startup": false,
      "wait_interval": 0
     },
     "base_uri": "https://localhost:8080/",
     "height": 204
    },
    "colab_type": "code",
    "executionInfo": {
     "elapsed": 739,
     "status": "ok",
     "timestamp": 1531794032461,
     "user": {
      "displayName": "김소령",
      "photoUrl": "https://lh3.googleusercontent.com/a/default-user=s128",
      "userId": "115519869961267992265"
     },
     "user_tz": -540
    },
    "id": "SVz51y-F30tT",
    "outputId": "7d3db09c-6c21-43cc-9ff2-bd17a1bc7e7d"
   },
   "outputs": [
    {
     "data": {
      "text/html": [
       "<div>\n",
       "<style scoped>\n",
       "    .dataframe tbody tr th:only-of-type {\n",
       "        vertical-align: middle;\n",
       "    }\n",
       "\n",
       "    .dataframe tbody tr th {\n",
       "        vertical-align: top;\n",
       "    }\n",
       "\n",
       "    .dataframe thead th {\n",
       "        text-align: right;\n",
       "    }\n",
       "</style>\n",
       "<table border=\"1\" class=\"dataframe\">\n",
       "  <thead>\n",
       "    <tr style=\"text-align: right;\">\n",
       "      <th></th>\n",
       "      <th>first</th>\n",
       "      <th>bar</th>\n",
       "      <th>baz</th>\n",
       "    </tr>\n",
       "    <tr>\n",
       "      <th>second</th>\n",
       "      <th></th>\n",
       "      <th></th>\n",
       "      <th></th>\n",
       "    </tr>\n",
       "  </thead>\n",
       "  <tbody>\n",
       "    <tr>\n",
       "      <th rowspan=\"2\" valign=\"top\">one</th>\n",
       "      <th>A</th>\n",
       "      <td>0.376256</td>\n",
       "      <td>0.280129</td>\n",
       "    </tr>\n",
       "    <tr>\n",
       "      <th>B</th>\n",
       "      <td>0.127798</td>\n",
       "      <td>-0.060967</td>\n",
       "    </tr>\n",
       "    <tr>\n",
       "      <th rowspan=\"2\" valign=\"top\">two</th>\n",
       "      <th>A</th>\n",
       "      <td>-0.847776</td>\n",
       "      <td>0.428598</td>\n",
       "    </tr>\n",
       "    <tr>\n",
       "      <th>B</th>\n",
       "      <td>1.186748</td>\n",
       "      <td>-1.203600</td>\n",
       "    </tr>\n",
       "  </tbody>\n",
       "</table>\n",
       "</div>"
      ],
      "text/plain": [
       "first          bar       baz\n",
       "second                      \n",
       "one    A  0.376256  0.280129\n",
       "       B  0.127798 -0.060967\n",
       "two    A -0.847776  0.428598\n",
       "       B  1.186748 -1.203600"
      ]
     },
     "execution_count": 104,
     "metadata": {},
     "output_type": "execute_result"
    }
   ],
   "source": [
    "stacked.unstack(0)"
   ]
  },
  {
   "cell_type": "markdown",
   "metadata": {
    "colab_type": "text",
    "id": "RZ_-viV34FE-"
   },
   "source": [
    "### Pivot Tables (피벗 테이블)"
   ]
  },
  {
   "cell_type": "markdown",
   "metadata": {
    "colab_type": "text",
    "id": "zWjNYxfD4Fhb"
   },
   "source": [
    "[피벗 테이블](https://pandas.pydata.org/pandas-docs/stable/reshaping.html#reshaping-pivot) 부분을 참조하세요."
   ]
  },
  {
   "cell_type": "code",
   "execution_count": 105,
   "metadata": {
    "colab": {
     "autoexec": {
      "startup": false,
      "wait_interval": 0
     }
    },
    "colab_type": "code",
    "id": "VBSzYL-R4MlI"
   },
   "outputs": [],
   "source": [
    "df = pd.DataFrame({'A' : ['one', 'one', 'two', 'three'] * 3,\n",
    "                   'B' : ['A', 'B', 'C'] * 4,\n",
    "                   'C' : ['foo', 'foo', 'foo', 'bar', 'bar', 'bar'] * 2,\n",
    "                   'D' : np.random.randn(12),\n",
    "                   'E' : np.random.randn(12)})"
   ]
  },
  {
   "cell_type": "code",
   "execution_count": 106,
   "metadata": {
    "colab": {
     "autoexec": {
      "startup": false,
      "wait_interval": 0
     },
     "base_uri": "https://localhost:8080/",
     "height": 421
    },
    "colab_type": "code",
    "executionInfo": {
     "elapsed": 986,
     "status": "ok",
     "timestamp": 1531794052424,
     "user": {
      "displayName": "김소령",
      "photoUrl": "https://lh3.googleusercontent.com/a/default-user=s128",
      "userId": "115519869961267992265"
     },
     "user_tz": -540
    },
    "id": "wRwnIrMC4MhQ",
    "outputId": "4765d3e3-e4d7-498e-9813-e0bea853cdb0"
   },
   "outputs": [
    {
     "data": {
      "text/html": [
       "<div>\n",
       "<style scoped>\n",
       "    .dataframe tbody tr th:only-of-type {\n",
       "        vertical-align: middle;\n",
       "    }\n",
       "\n",
       "    .dataframe tbody tr th {\n",
       "        vertical-align: top;\n",
       "    }\n",
       "\n",
       "    .dataframe thead th {\n",
       "        text-align: right;\n",
       "    }\n",
       "</style>\n",
       "<table border=\"1\" class=\"dataframe\">\n",
       "  <thead>\n",
       "    <tr style=\"text-align: right;\">\n",
       "      <th></th>\n",
       "      <th>A</th>\n",
       "      <th>B</th>\n",
       "      <th>C</th>\n",
       "      <th>D</th>\n",
       "      <th>E</th>\n",
       "    </tr>\n",
       "  </thead>\n",
       "  <tbody>\n",
       "    <tr>\n",
       "      <th>0</th>\n",
       "      <td>one</td>\n",
       "      <td>A</td>\n",
       "      <td>foo</td>\n",
       "      <td>1.000355</td>\n",
       "      <td>-0.370895</td>\n",
       "    </tr>\n",
       "    <tr>\n",
       "      <th>1</th>\n",
       "      <td>one</td>\n",
       "      <td>B</td>\n",
       "      <td>foo</td>\n",
       "      <td>-0.456949</td>\n",
       "      <td>-0.712004</td>\n",
       "    </tr>\n",
       "    <tr>\n",
       "      <th>2</th>\n",
       "      <td>two</td>\n",
       "      <td>C</td>\n",
       "      <td>foo</td>\n",
       "      <td>0.044081</td>\n",
       "      <td>-2.163655</td>\n",
       "    </tr>\n",
       "    <tr>\n",
       "      <th>3</th>\n",
       "      <td>three</td>\n",
       "      <td>A</td>\n",
       "      <td>bar</td>\n",
       "      <td>-0.429198</td>\n",
       "      <td>-1.754877</td>\n",
       "    </tr>\n",
       "    <tr>\n",
       "      <th>4</th>\n",
       "      <td>one</td>\n",
       "      <td>B</td>\n",
       "      <td>bar</td>\n",
       "      <td>-2.628718</td>\n",
       "      <td>2.172661</td>\n",
       "    </tr>\n",
       "    <tr>\n",
       "      <th>5</th>\n",
       "      <td>one</td>\n",
       "      <td>C</td>\n",
       "      <td>bar</td>\n",
       "      <td>0.359570</td>\n",
       "      <td>-0.108175</td>\n",
       "    </tr>\n",
       "    <tr>\n",
       "      <th>6</th>\n",
       "      <td>two</td>\n",
       "      <td>A</td>\n",
       "      <td>foo</td>\n",
       "      <td>-2.234256</td>\n",
       "      <td>2.008960</td>\n",
       "    </tr>\n",
       "    <tr>\n",
       "      <th>7</th>\n",
       "      <td>three</td>\n",
       "      <td>B</td>\n",
       "      <td>foo</td>\n",
       "      <td>0.361596</td>\n",
       "      <td>-0.415309</td>\n",
       "    </tr>\n",
       "    <tr>\n",
       "      <th>8</th>\n",
       "      <td>one</td>\n",
       "      <td>C</td>\n",
       "      <td>foo</td>\n",
       "      <td>-1.343173</td>\n",
       "      <td>0.884657</td>\n",
       "    </tr>\n",
       "    <tr>\n",
       "      <th>9</th>\n",
       "      <td>one</td>\n",
       "      <td>A</td>\n",
       "      <td>bar</td>\n",
       "      <td>-0.222807</td>\n",
       "      <td>0.799391</td>\n",
       "    </tr>\n",
       "    <tr>\n",
       "      <th>10</th>\n",
       "      <td>two</td>\n",
       "      <td>B</td>\n",
       "      <td>bar</td>\n",
       "      <td>1.163489</td>\n",
       "      <td>-0.570858</td>\n",
       "    </tr>\n",
       "    <tr>\n",
       "      <th>11</th>\n",
       "      <td>three</td>\n",
       "      <td>C</td>\n",
       "      <td>bar</td>\n",
       "      <td>1.415912</td>\n",
       "      <td>-1.084262</td>\n",
       "    </tr>\n",
       "  </tbody>\n",
       "</table>\n",
       "</div>"
      ],
      "text/plain": [
       "        A  B    C         D         E\n",
       "0     one  A  foo  1.000355 -0.370895\n",
       "1     one  B  foo -0.456949 -0.712004\n",
       "2     two  C  foo  0.044081 -2.163655\n",
       "3   three  A  bar -0.429198 -1.754877\n",
       "4     one  B  bar -2.628718  2.172661\n",
       "5     one  C  bar  0.359570 -0.108175\n",
       "6     two  A  foo -2.234256  2.008960\n",
       "7   three  B  foo  0.361596 -0.415309\n",
       "8     one  C  foo -1.343173  0.884657\n",
       "9     one  A  bar -0.222807  0.799391\n",
       "10    two  B  bar  1.163489 -0.570858\n",
       "11  three  C  bar  1.415912 -1.084262"
      ]
     },
     "execution_count": 106,
     "metadata": {},
     "output_type": "execute_result"
    }
   ],
   "source": [
    "df"
   ]
  },
  {
   "cell_type": "markdown",
   "metadata": {
    "colab_type": "text",
    "id": "d37WGaOO4Qjl"
   },
   "source": [
    "이 데이터로부터 피벗 테이블을 매우 쉽게 생성할 수 있습니다."
   ]
  },
  {
   "cell_type": "code",
   "execution_count": 107,
   "metadata": {
    "colab": {
     "autoexec": {
      "startup": false,
      "wait_interval": 0
     },
     "base_uri": "https://localhost:8080/",
     "height": 359
    },
    "colab_type": "code",
    "executionInfo": {
     "elapsed": 678,
     "status": "ok",
     "timestamp": 1531794059406,
     "user": {
      "displayName": "김소령",
      "photoUrl": "https://lh3.googleusercontent.com/a/default-user=s128",
      "userId": "115519869961267992265"
     },
     "user_tz": -540
    },
    "id": "x55H1koG4RSB",
    "outputId": "c8edb548-04c8-4a9c-c4d9-40ca922d74ee"
   },
   "outputs": [
    {
     "data": {
      "text/html": [
       "<div>\n",
       "<style scoped>\n",
       "    .dataframe tbody tr th:only-of-type {\n",
       "        vertical-align: middle;\n",
       "    }\n",
       "\n",
       "    .dataframe tbody tr th {\n",
       "        vertical-align: top;\n",
       "    }\n",
       "\n",
       "    .dataframe thead th {\n",
       "        text-align: right;\n",
       "    }\n",
       "</style>\n",
       "<table border=\"1\" class=\"dataframe\">\n",
       "  <thead>\n",
       "    <tr style=\"text-align: right;\">\n",
       "      <th></th>\n",
       "      <th>C</th>\n",
       "      <th>bar</th>\n",
       "      <th>foo</th>\n",
       "    </tr>\n",
       "    <tr>\n",
       "      <th>A</th>\n",
       "      <th>B</th>\n",
       "      <th></th>\n",
       "      <th></th>\n",
       "    </tr>\n",
       "  </thead>\n",
       "  <tbody>\n",
       "    <tr>\n",
       "      <th rowspan=\"3\" valign=\"top\">one</th>\n",
       "      <th>A</th>\n",
       "      <td>-0.222807</td>\n",
       "      <td>1.000355</td>\n",
       "    </tr>\n",
       "    <tr>\n",
       "      <th>B</th>\n",
       "      <td>-2.628718</td>\n",
       "      <td>-0.456949</td>\n",
       "    </tr>\n",
       "    <tr>\n",
       "      <th>C</th>\n",
       "      <td>0.359570</td>\n",
       "      <td>-1.343173</td>\n",
       "    </tr>\n",
       "    <tr>\n",
       "      <th rowspan=\"3\" valign=\"top\">three</th>\n",
       "      <th>A</th>\n",
       "      <td>-0.429198</td>\n",
       "      <td>NaN</td>\n",
       "    </tr>\n",
       "    <tr>\n",
       "      <th>B</th>\n",
       "      <td>NaN</td>\n",
       "      <td>0.361596</td>\n",
       "    </tr>\n",
       "    <tr>\n",
       "      <th>C</th>\n",
       "      <td>1.415912</td>\n",
       "      <td>NaN</td>\n",
       "    </tr>\n",
       "    <tr>\n",
       "      <th rowspan=\"3\" valign=\"top\">two</th>\n",
       "      <th>A</th>\n",
       "      <td>NaN</td>\n",
       "      <td>-2.234256</td>\n",
       "    </tr>\n",
       "    <tr>\n",
       "      <th>B</th>\n",
       "      <td>1.163489</td>\n",
       "      <td>NaN</td>\n",
       "    </tr>\n",
       "    <tr>\n",
       "      <th>C</th>\n",
       "      <td>NaN</td>\n",
       "      <td>0.044081</td>\n",
       "    </tr>\n",
       "  </tbody>\n",
       "</table>\n",
       "</div>"
      ],
      "text/plain": [
       "C             bar       foo\n",
       "A     B                    \n",
       "one   A -0.222807  1.000355\n",
       "      B -2.628718 -0.456949\n",
       "      C  0.359570 -1.343173\n",
       "three A -0.429198       NaN\n",
       "      B       NaN  0.361596\n",
       "      C  1.415912       NaN\n",
       "two   A       NaN -2.234256\n",
       "      B  1.163489       NaN\n",
       "      C       NaN  0.044081"
      ]
     },
     "execution_count": 107,
     "metadata": {},
     "output_type": "execute_result"
    }
   ],
   "source": [
    "pd.pivot_table(df, values='D', index=['A', 'B'], columns=['C'])"
   ]
  },
  {
   "cell_type": "markdown",
   "metadata": {
    "colab_type": "text",
    "id": "ZYenx0CU2Lvc"
   },
   "source": [
    "## Time Series (시계열)"
   ]
  },
  {
   "cell_type": "markdown",
   "metadata": {
    "colab_type": "text",
    "id": "y-awduy52QAH"
   },
   "source": [
    "pandas는 자주 일어나는 변환(예시 : 5분마다 일어나는 데이터에 대한 2차 데이터 변환) 사이에 수행하는 리샘플링 연산을 위한 간단하고, 강력하며, 효율적인 함수를 제공합니다. 이는 재무(금융) 응용에서 매우 일반적이지만 이에 국한되지 않습니다. [시계열](https://pandas.pydata.org/pandas-docs/stable/timeseries.html#timeseries) 부분을 참고하세요."
   ]
  },
  {
   "cell_type": "code",
   "execution_count": 108,
   "metadata": {
    "colab": {
     "autoexec": {
      "startup": false,
      "wait_interval": 0
     }
    },
    "colab_type": "code",
    "id": "Y9eFwVdS2VP_"
   },
   "outputs": [],
   "source": [
    "rng = pd.date_range('1/1/2012', periods=100, freq='S')"
   ]
  },
  {
   "cell_type": "code",
   "execution_count": 109,
   "metadata": {
    "colab": {
     "autoexec": {
      "startup": false,
      "wait_interval": 0
     }
    },
    "colab_type": "code",
    "id": "Cyqthy0N2WlK"
   },
   "outputs": [],
   "source": [
    "ts = pd.Series(np.random.randint(0, 500, len(rng)), index=rng)"
   ]
  },
  {
   "cell_type": "code",
   "execution_count": 110,
   "metadata": {
    "colab": {
     "autoexec": {
      "startup": false,
      "wait_interval": 0
     },
     "base_uri": "https://localhost:8080/",
     "height": 52
    },
    "colab_type": "code",
    "executionInfo": {
     "elapsed": 681,
     "status": "ok",
     "timestamp": 1531794120502,
     "user": {
      "displayName": "김소령",
      "photoUrl": "https://lh3.googleusercontent.com/a/default-user=s128",
      "userId": "115519869961267992265"
     },
     "user_tz": -540
    },
    "id": "ZISF14wx2WpQ",
    "outputId": "a9379f99-9e6c-4ded-9f25-c7fe2685feaa"
   },
   "outputs": [
    {
     "data": {
      "text/plain": [
       "2012-01-01    25546\n",
       "Freq: 5T, dtype: int32"
      ]
     },
     "execution_count": 110,
     "metadata": {},
     "output_type": "execute_result"
    }
   ],
   "source": [
    "ts.resample('5Min').sum()"
   ]
  },
  {
   "cell_type": "markdown",
   "metadata": {
    "colab_type": "text",
    "id": "3LcQGxvr2aBM"
   },
   "source": [
    "시간대를 표현합니다."
   ]
  },
  {
   "cell_type": "code",
   "execution_count": 111,
   "metadata": {
    "colab": {
     "autoexec": {
      "startup": false,
      "wait_interval": 0
     }
    },
    "colab_type": "code",
    "id": "N6uN3VkD2WyK"
   },
   "outputs": [],
   "source": [
    "rng = pd.date_range('3/6/2012 00:00', periods=5, freq='D')"
   ]
  },
  {
   "cell_type": "code",
   "execution_count": 112,
   "metadata": {
    "colab": {
     "autoexec": {
      "startup": false,
      "wait_interval": 0
     }
    },
    "colab_type": "code",
    "id": "zIMrP5Te2cht"
   },
   "outputs": [],
   "source": [
    "ts = pd.Series(np.random.randn(len(rng)), rng)"
   ]
  },
  {
   "cell_type": "code",
   "execution_count": 113,
   "metadata": {
    "colab": {
     "autoexec": {
      "startup": false,
      "wait_interval": 0
     },
     "base_uri": "https://localhost:8080/",
     "height": 122
    },
    "colab_type": "code",
    "executionInfo": {
     "elapsed": 894,
     "status": "ok",
     "timestamp": 1531794168800,
     "user": {
      "displayName": "김소령",
      "photoUrl": "https://lh3.googleusercontent.com/a/default-user=s128",
      "userId": "115519869961267992265"
     },
     "user_tz": -540
    },
    "id": "SmAOR9oR2Wtw",
    "outputId": "d800085a-e5f1-43ae-9f73-8e08add09d5e"
   },
   "outputs": [
    {
     "data": {
      "text/plain": [
       "2012-03-06    0.968236\n",
       "2012-03-07    1.583852\n",
       "2012-03-08    0.086275\n",
       "2012-03-09    0.395204\n",
       "2012-03-10   -2.005086\n",
       "Freq: D, dtype: float64"
      ]
     },
     "execution_count": 113,
     "metadata": {},
     "output_type": "execute_result"
    }
   ],
   "source": [
    "ts"
   ]
  },
  {
   "cell_type": "code",
   "execution_count": 114,
   "metadata": {
    "colab": {
     "autoexec": {
      "startup": false,
      "wait_interval": 0
     }
    },
    "colab_type": "code",
    "id": "tSHoco6N2ezX"
   },
   "outputs": [],
   "source": [
    "ts_utc = ts.tz_localize('UTC')"
   ]
  },
  {
   "cell_type": "code",
   "execution_count": 115,
   "metadata": {
    "colab": {
     "autoexec": {
      "startup": false,
      "wait_interval": 0
     },
     "base_uri": "https://localhost:8080/",
     "height": 122
    },
    "colab_type": "code",
    "executionInfo": {
     "elapsed": 697,
     "status": "ok",
     "timestamp": 1531794133189,
     "user": {
      "displayName": "김소령",
      "photoUrl": "https://lh3.googleusercontent.com/a/default-user=s128",
      "userId": "115519869961267992265"
     },
     "user_tz": -540
    },
    "id": "YA5wOamF2e3c",
    "outputId": "7fad2ece-56fd-4f87-b69e-55757c490ae1"
   },
   "outputs": [
    {
     "data": {
      "text/plain": [
       "2012-03-06 00:00:00+00:00    0.968236\n",
       "2012-03-07 00:00:00+00:00    1.583852\n",
       "2012-03-08 00:00:00+00:00    0.086275\n",
       "2012-03-09 00:00:00+00:00    0.395204\n",
       "2012-03-10 00:00:00+00:00   -2.005086\n",
       "Freq: D, dtype: float64"
      ]
     },
     "execution_count": 115,
     "metadata": {},
     "output_type": "execute_result"
    }
   ],
   "source": [
    "ts_utc"
   ]
  },
  {
   "cell_type": "markdown",
   "metadata": {
    "colab_type": "text",
    "id": "3vrPJFj12hUk"
   },
   "source": [
    "다른 시간대로 변환합니다."
   ]
  },
  {
   "cell_type": "code",
   "execution_count": 116,
   "metadata": {
    "colab": {
     "autoexec": {
      "startup": false,
      "wait_interval": 0
     },
     "base_uri": "https://localhost:8080/",
     "height": 122
    },
    "colab_type": "code",
    "executionInfo": {
     "elapsed": 706,
     "status": "ok",
     "timestamp": 1531794137312,
     "user": {
      "displayName": "김소령",
      "photoUrl": "https://lh3.googleusercontent.com/a/default-user=s128",
      "userId": "115519869961267992265"
     },
     "user_tz": -540
    },
    "id": "OQWgvsVo2e76",
    "outputId": "00b33d85-4cb9-4b39-f9df-8cae3402dcf6"
   },
   "outputs": [
    {
     "data": {
      "text/plain": [
       "2012-03-05 19:00:00-05:00    0.968236\n",
       "2012-03-06 19:00:00-05:00    1.583852\n",
       "2012-03-07 19:00:00-05:00    0.086275\n",
       "2012-03-08 19:00:00-05:00    0.395204\n",
       "2012-03-09 19:00:00-05:00   -2.005086\n",
       "Freq: D, dtype: float64"
      ]
     },
     "execution_count": 116,
     "metadata": {},
     "output_type": "execute_result"
    }
   ],
   "source": [
    "ts_utc.tz_convert('US/Eastern')"
   ]
  },
  {
   "cell_type": "markdown",
   "metadata": {
    "colab_type": "text",
    "id": "THfGaHND2kli"
   },
   "source": [
    "시간 표현 ↔ 기간 표현으로 변환합니다."
   ]
  },
  {
   "cell_type": "code",
   "execution_count": 117,
   "metadata": {
    "colab": {
     "autoexec": {
      "startup": false,
      "wait_interval": 0
     }
    },
    "colab_type": "code",
    "id": "bZPXGpSZ2lLt"
   },
   "outputs": [],
   "source": [
    "rng = pd.date_range('1/1/2012', periods=5, freq='M')"
   ]
  },
  {
   "cell_type": "code",
   "execution_count": 118,
   "metadata": {
    "colab": {
     "autoexec": {
      "startup": false,
      "wait_interval": 0
     }
    },
    "colab_type": "code",
    "id": "NCpFTZCz2e_7"
   },
   "outputs": [],
   "source": [
    "ts = pd.Series(np.random.randn(len(rng)), index=rng)"
   ]
  },
  {
   "cell_type": "code",
   "execution_count": 119,
   "metadata": {
    "colab": {
     "autoexec": {
      "startup": false,
      "wait_interval": 0
     },
     "base_uri": "https://localhost:8080/",
     "height": 122
    },
    "colab_type": "code",
    "executionInfo": {
     "elapsed": 815,
     "status": "ok",
     "timestamp": 1531793824888,
     "user": {
      "displayName": "김소령",
      "photoUrl": "https://lh3.googleusercontent.com/a/default-user=s128",
      "userId": "115519869961267992265"
     },
     "user_tz": -540
    },
    "id": "TFbL7np62obz",
    "outputId": "ebbc654b-c785-49b8-8761-4c93eb867c42"
   },
   "outputs": [
    {
     "data": {
      "text/plain": [
       "2012-01-31    1.869281\n",
       "2012-02-29   -1.532504\n",
       "2012-03-31    0.112991\n",
       "2012-04-30    0.354387\n",
       "2012-05-31    1.115401\n",
       "Freq: M, dtype: float64"
      ]
     },
     "execution_count": 119,
     "metadata": {},
     "output_type": "execute_result"
    }
   ],
   "source": [
    "ts"
   ]
  },
  {
   "cell_type": "code",
   "execution_count": 120,
   "metadata": {
    "colab": {
     "autoexec": {
      "startup": false,
      "wait_interval": 0
     }
    },
    "colab_type": "code",
    "id": "I30_LkrG2o_g"
   },
   "outputs": [],
   "source": [
    "ps = ts.to_period()"
   ]
  },
  {
   "cell_type": "code",
   "execution_count": 121,
   "metadata": {
    "colab": {
     "autoexec": {
      "startup": false,
      "wait_interval": 0
     },
     "base_uri": "https://localhost:8080/",
     "height": 122
    },
    "colab_type": "code",
    "executionInfo": {
     "elapsed": 1353,
     "status": "ok",
     "timestamp": 1531793830523,
     "user": {
      "displayName": "김소령",
      "photoUrl": "https://lh3.googleusercontent.com/a/default-user=s128",
      "userId": "115519869961267992265"
     },
     "user_tz": -540
    },
    "id": "Ue18d1fv2pHh",
    "outputId": "95180de3-204e-4bbd-ca04-5104a703ac7d"
   },
   "outputs": [
    {
     "data": {
      "text/plain": [
       "2012-01    1.869281\n",
       "2012-02   -1.532504\n",
       "2012-03    0.112991\n",
       "2012-04    0.354387\n",
       "2012-05    1.115401\n",
       "Freq: M, dtype: float64"
      ]
     },
     "execution_count": 121,
     "metadata": {},
     "output_type": "execute_result"
    }
   ],
   "source": [
    "ps"
   ]
  },
  {
   "cell_type": "code",
   "execution_count": 122,
   "metadata": {
    "colab": {
     "autoexec": {
      "startup": false,
      "wait_interval": 0
     },
     "base_uri": "https://localhost:8080/",
     "height": 122
    },
    "colab_type": "code",
    "executionInfo": {
     "elapsed": 1022,
     "status": "ok",
     "timestamp": 1531793832723,
     "user": {
      "displayName": "김소령",
      "photoUrl": "https://lh3.googleusercontent.com/a/default-user=s128",
      "userId": "115519869961267992265"
     },
     "user_tz": -540
    },
    "id": "YgdyzQNW2pQp",
    "outputId": "6059235d-d536-4328-f4f1-55b3a270f206"
   },
   "outputs": [
    {
     "data": {
      "text/plain": [
       "2012-01-01    1.869281\n",
       "2012-02-01   -1.532504\n",
       "2012-03-01    0.112991\n",
       "2012-04-01    0.354387\n",
       "2012-05-01    1.115401\n",
       "Freq: MS, dtype: float64"
      ]
     },
     "execution_count": 122,
     "metadata": {},
     "output_type": "execute_result"
    }
   ],
   "source": [
    "ps.to_timestamp()"
   ]
  },
  {
   "cell_type": "markdown",
   "metadata": {
    "colab_type": "text",
    "id": "mxuEnG7R2twf"
   },
   "source": [
    "기간 - 시간 변환은 편리한 산술 기능들을 사용할 수 있도록 만들어줍니다. 다음 예제에서, 우리는 11월에 끝나는 연말 결산의 분기별 빈도를 분기말 익월의 월말일 오전 9시로 변환합니다."
   ]
  },
  {
   "cell_type": "code",
   "execution_count": 123,
   "metadata": {
    "colab": {
     "autoexec": {
      "startup": false,
      "wait_interval": 0
     }
    },
    "colab_type": "code",
    "id": "tPlpI7I02wU2"
   },
   "outputs": [],
   "source": [
    "prng = pd.period_range('1990Q1', '2000Q4', freq='Q-NOV')"
   ]
  },
  {
   "cell_type": "code",
   "execution_count": 124,
   "metadata": {
    "colab": {
     "autoexec": {
      "startup": false,
      "wait_interval": 0
     }
    },
    "colab_type": "code",
    "id": "HJrVQIbf2xnO"
   },
   "outputs": [],
   "source": [
    "ts = pd.Series(np.random.randn(len(prng)), prng)"
   ]
  },
  {
   "cell_type": "code",
   "execution_count": 125,
   "metadata": {
    "colab": {
     "autoexec": {
      "startup": false,
      "wait_interval": 0
     }
    },
    "colab_type": "code",
    "id": "0e5Bd6Nq23QY"
   },
   "outputs": [],
   "source": [
    "ts.index = (prng.asfreq('M', 'e') + 1).asfreq('H', 's') + 9"
   ]
  },
  {
   "cell_type": "code",
   "execution_count": 126,
   "metadata": {
    "colab": {
     "autoexec": {
      "startup": false,
      "wait_interval": 0
     },
     "base_uri": "https://localhost:8080/",
     "height": 122
    },
    "colab_type": "code",
    "executionInfo": {
     "elapsed": 651,
     "status": "ok",
     "timestamp": 1531793942445,
     "user": {
      "displayName": "김소령",
      "photoUrl": "https://lh3.googleusercontent.com/a/default-user=s128",
      "userId": "115519869961267992265"
     },
     "user_tz": -540
    },
    "id": "RecuXufR26SS",
    "outputId": "1a7cbbe9-1966-4907-fc77-71e446d31040"
   },
   "outputs": [
    {
     "data": {
      "text/plain": [
       "1990-03-01 09:00    1.369555\n",
       "1990-06-01 09:00    0.337276\n",
       "1990-09-01 09:00    1.397941\n",
       "1990-12-01 09:00   -0.230863\n",
       "1991-03-01 09:00   -0.385278\n",
       "Freq: H, dtype: float64"
      ]
     },
     "execution_count": 126,
     "metadata": {},
     "output_type": "execute_result"
    }
   ],
   "source": [
    "ts.head()"
   ]
  },
  {
   "cell_type": "markdown",
   "metadata": {
    "colab_type": "text",
    "id": "8OfzvbgW28Hc"
   },
   "source": [
    "## Categoricals (범주화)"
   ]
  },
  {
   "cell_type": "markdown",
   "metadata": {
    "colab_type": "text",
    "id": "e3UtUKXU_P2R"
   },
   "source": [
    "pandas는 데이터프레임 내에 범주형 데이터를 포함할 수 있습니다. [범주형 소개](https://pandas.pydata.org/pandas-docs/stable/categorical.html#categorical) 와 [API 문서](https://pandas.pydata.org/pandas-docs/stable/api.html#api-categorical) 부분을 참조하세요."
   ]
  },
  {
   "cell_type": "code",
   "execution_count": 127,
   "metadata": {
    "colab": {
     "autoexec": {
      "startup": false,
      "wait_interval": 0
     }
    },
    "colab_type": "code",
    "id": "06N2dtiG_Syu"
   },
   "outputs": [],
   "source": [
    "df = pd.DataFrame({\"id\":[1,2,3,4,5,6], \"raw_grade\":['a', 'b', 'b', 'a', 'a', 'e']})"
   ]
  },
  {
   "cell_type": "markdown",
   "metadata": {
    "colab_type": "text",
    "id": "gDRaVjoD_j_o"
   },
   "source": [
    "가공하지 않은 성적을 범주형 데이터로 변환합니다."
   ]
  },
  {
   "cell_type": "code",
   "execution_count": 128,
   "metadata": {
    "colab": {
     "autoexec": {
      "startup": false,
      "wait_interval": 0
     }
    },
    "colab_type": "code",
    "id": "1SYkcjem_sGv"
   },
   "outputs": [],
   "source": [
    "df[\"grade\"] = df[\"raw_grade\"].astype(\"category\")"
   ]
  },
  {
   "cell_type": "code",
   "execution_count": 129,
   "metadata": {
    "colab": {
     "autoexec": {
      "startup": false,
      "wait_interval": 0
     }
    },
    "colab_type": "code",
    "id": "jydcy-_m_uzu",
    "outputId": "8ef881b3-12ed-4b62-a7f8-81d5f01d2b7f"
   },
   "outputs": [
    {
     "data": {
      "text/plain": [
       "0    a\n",
       "1    b\n",
       "2    b\n",
       "3    a\n",
       "4    a\n",
       "5    e\n",
       "Name: grade, dtype: category\n",
       "Categories (3, object): [a, b, e]"
      ]
     },
     "execution_count": 129,
     "metadata": {},
     "output_type": "execute_result"
    }
   ],
   "source": [
    "df[\"grade\"]"
   ]
  },
  {
   "cell_type": "markdown",
   "metadata": {
    "colab_type": "text",
    "id": "42GBAJv5Bt1I"
   },
   "source": [
    "범주에 더 의미 있는 이름을 붙여주세요. (Series.cat.categories로 할당하는 것이 적합합니다!)"
   ]
  },
  {
   "cell_type": "code",
   "execution_count": 130,
   "metadata": {
    "colab": {
     "autoexec": {
      "startup": false,
      "wait_interval": 0
     }
    },
    "colab_type": "code",
    "id": "doobrAvYBudq"
   },
   "outputs": [],
   "source": [
    "df[\"grade\"].cat.categories = [\"very good\", \"good\", \"very bad\"]"
   ]
  },
  {
   "cell_type": "markdown",
   "metadata": {
    "colab_type": "text",
    "id": "vhhGHW7LBwYW"
   },
   "source": [
    "범주의 순서를 바꾸고 동시에 누락된 범주를 추가합니다. (Series.cat에 속하는 메소드는 기본적으로 새로운 Series를 반환합니다.)"
   ]
  },
  {
   "cell_type": "code",
   "execution_count": 131,
   "metadata": {
    "colab": {
     "autoexec": {
      "startup": false,
      "wait_interval": 0
     }
    },
    "colab_type": "code",
    "id": "lUcARnDbBw9g"
   },
   "outputs": [],
   "source": [
    "df[\"grade\"] = df[\"grade\"].cat.set_categories([\"very bad\", \"bad\", \"medium\", \"good\", \"very good\"])"
   ]
  },
  {
   "cell_type": "code",
   "execution_count": 132,
   "metadata": {
    "colab": {
     "autoexec": {
      "startup": false,
      "wait_interval": 0
     }
    },
    "colab_type": "code",
    "id": "RA_znfuKBy8q",
    "outputId": "f91bf6b0-7d04-484d-f193-458c1702fbb2"
   },
   "outputs": [
    {
     "data": {
      "text/plain": [
       "0    very good\n",
       "1         good\n",
       "2         good\n",
       "3    very good\n",
       "4    very good\n",
       "5     very bad\n",
       "Name: grade, dtype: category\n",
       "Categories (5, object): [very bad, bad, medium, good, very good]"
      ]
     },
     "execution_count": 132,
     "metadata": {},
     "output_type": "execute_result"
    }
   ],
   "source": [
    "df[\"grade\"]"
   ]
  },
  {
   "cell_type": "markdown",
   "metadata": {
    "colab_type": "text",
    "id": "SPNrY_SE3Evr"
   },
   "source": [
    "정렬은 사전 순서가 아닌, 해당 범주에서 지정된 순서대로 배열합니다.\n",
    "\n",
    "*역자 주 : 131번에서 very bad, bad, medium, good, very good 의 순서로 기재되어 있기 때문에 정렬 결과도 해당 순서대로 배열됩니다.*"
   ]
  },
  {
   "cell_type": "code",
   "execution_count": 133,
   "metadata": {
    "colab": {
     "autoexec": {
      "startup": false,
      "wait_interval": 0
     }
    },
    "colab_type": "code",
    "id": "FuGS1e023A8g",
    "outputId": "53c5b797-c7f6-41f1-bb9c-b122038d23e4"
   },
   "outputs": [
    {
     "data": {
      "text/html": [
       "<div>\n",
       "<style scoped>\n",
       "    .dataframe tbody tr th:only-of-type {\n",
       "        vertical-align: middle;\n",
       "    }\n",
       "\n",
       "    .dataframe tbody tr th {\n",
       "        vertical-align: top;\n",
       "    }\n",
       "\n",
       "    .dataframe thead th {\n",
       "        text-align: right;\n",
       "    }\n",
       "</style>\n",
       "<table border=\"1\" class=\"dataframe\">\n",
       "  <thead>\n",
       "    <tr style=\"text-align: right;\">\n",
       "      <th></th>\n",
       "      <th>id</th>\n",
       "      <th>raw_grade</th>\n",
       "      <th>grade</th>\n",
       "    </tr>\n",
       "  </thead>\n",
       "  <tbody>\n",
       "    <tr>\n",
       "      <th>5</th>\n",
       "      <td>6</td>\n",
       "      <td>e</td>\n",
       "      <td>very bad</td>\n",
       "    </tr>\n",
       "    <tr>\n",
       "      <th>1</th>\n",
       "      <td>2</td>\n",
       "      <td>b</td>\n",
       "      <td>good</td>\n",
       "    </tr>\n",
       "    <tr>\n",
       "      <th>2</th>\n",
       "      <td>3</td>\n",
       "      <td>b</td>\n",
       "      <td>good</td>\n",
       "    </tr>\n",
       "    <tr>\n",
       "      <th>0</th>\n",
       "      <td>1</td>\n",
       "      <td>a</td>\n",
       "      <td>very good</td>\n",
       "    </tr>\n",
       "    <tr>\n",
       "      <th>3</th>\n",
       "      <td>4</td>\n",
       "      <td>a</td>\n",
       "      <td>very good</td>\n",
       "    </tr>\n",
       "    <tr>\n",
       "      <th>4</th>\n",
       "      <td>5</td>\n",
       "      <td>a</td>\n",
       "      <td>very good</td>\n",
       "    </tr>\n",
       "  </tbody>\n",
       "</table>\n",
       "</div>"
      ],
      "text/plain": [
       "   id raw_grade      grade\n",
       "5   6         e   very bad\n",
       "1   2         b       good\n",
       "2   3         b       good\n",
       "0   1         a  very good\n",
       "3   4         a  very good\n",
       "4   5         a  very good"
      ]
     },
     "execution_count": 133,
     "metadata": {},
     "output_type": "execute_result"
    }
   ],
   "source": [
    "df.sort_values(by=\"grade\")"
   ]
  },
  {
   "cell_type": "markdown",
   "metadata": {
    "colab_type": "text",
    "id": "tl3VskO43Hd9"
   },
   "source": [
    "범주의 열을 기준으로 그룹화하면 빈 범주도 표시됩니다."
   ]
  },
  {
   "cell_type": "code",
   "execution_count": 134,
   "metadata": {
    "colab": {
     "autoexec": {
      "startup": false,
      "wait_interval": 0
     }
    },
    "colab_type": "code",
    "id": "pD-EDBKN3KNk",
    "outputId": "e238f08f-2950-414c-dfa2-8494ddc3e50f"
   },
   "outputs": [
    {
     "data": {
      "text/plain": [
       "grade\n",
       "very bad     1\n",
       "bad          0\n",
       "medium       0\n",
       "good         2\n",
       "very good    3\n",
       "dtype: int64"
      ]
     },
     "execution_count": 134,
     "metadata": {},
     "output_type": "execute_result"
    }
   ],
   "source": [
    "df.groupby(\"grade\").size()"
   ]
  },
  {
   "cell_type": "markdown",
   "metadata": {
    "colab_type": "text",
    "id": "LDarUbRI1K9c"
   },
   "source": [
    "## Plotting"
   ]
  },
  {
   "cell_type": "markdown",
   "metadata": {
    "colab_type": "text",
    "id": "pi9t1o4-1X2Q"
   },
   "source": [
    "[Plotting](https://pandas.pydata.org/pandas-docs/stable/visualization.html#visualization) 부분을 참조하세요."
   ]
  },
  {
   "cell_type": "code",
   "execution_count": 135,
   "metadata": {
    "colab": {
     "autoexec": {
      "startup": false,
      "wait_interval": 0
     }
    },
    "colab_type": "code",
    "id": "ypfwa2Zy1WrL"
   },
   "outputs": [],
   "source": [
    "ts = pd.Series(np.random.randn(1000), index=pd.date_range('1/1/2000', periods=1000))"
   ]
  },
  {
   "cell_type": "code",
   "execution_count": 136,
   "metadata": {
    "colab": {
     "autoexec": {
      "startup": false,
      "wait_interval": 0
     }
    },
    "colab_type": "code",
    "id": "Ai8kXvor1cSZ"
   },
   "outputs": [],
   "source": [
    "ts = ts.cumsum()"
   ]
  },
  {
   "cell_type": "code",
   "execution_count": 137,
   "metadata": {
    "colab": {
     "autoexec": {
      "startup": false,
      "wait_interval": 0
     },
     "base_uri": "https://localhost:8080/",
     "height": 377
    },
    "colab_type": "code",
    "executionInfo": {
     "elapsed": 1626,
     "status": "ok",
     "timestamp": 1531794568483,
     "user": {
      "displayName": "정다현",
      "photoUrl": "https://lh3.googleusercontent.com/a/default-user=s128",
      "userId": "108793786663813438778"
     },
     "user_tz": -540
    },
    "id": "sfICp0cs1gXu",
    "outputId": "c6009633-5e9a-47b6-e94d-217c6a93c646"
   },
   "outputs": [
    {
     "data": {
      "text/plain": [
       "<matplotlib.axes._subplots.AxesSubplot at 0x1fa087ddac8>"
      ]
     },
     "execution_count": 137,
     "metadata": {},
     "output_type": "execute_result"
    },
    {
     "data": {
      "image/png": "[encoded data removed]",
      "text/plain": [
       "<Figure size 432x288 with 1 Axes>"
      ]
     },
     "metadata": {},
     "output_type": "display_data"
    }
   ],
   "source": [
    "ts.plot()"
   ]
  },
  {
   "cell_type": "markdown",
   "metadata": {
    "colab_type": "text",
    "id": "iOsgd7LK1kXK"
   },
   "source": [
    "데이터프레임에서 [plot()](https://pandas.pydata.org/pandas-docs/stable/generated/pandas.DataFrame.plot.html#pandas.DataFrame.plot) 메소드는 라벨이 존재하는 모든 열을 그릴 때 편리합니다."
   ]
  },
  {
   "cell_type": "code",
   "execution_count": 138,
   "metadata": {
    "colab": {
     "autoexec": {
      "startup": false,
      "wait_interval": 0
     }
    },
    "colab_type": "code",
    "id": "LHvapoGC1pPT"
   },
   "outputs": [],
   "source": [
    "df = pd.DataFrame(np.random.randn(1000, 4), index=ts.index,\n",
    "                  columns=['A', 'B', 'C', 'D'])  "
   ]
  },
  {
   "cell_type": "code",
   "execution_count": 139,
   "metadata": {
    "colab": {
     "autoexec": {
      "startup": false,
      "wait_interval": 0
     }
    },
    "colab_type": "code",
    "id": "g6ebCUZa1rKu"
   },
   "outputs": [],
   "source": [
    "df = df.cumsum()"
   ]
  },
  {
   "cell_type": "code",
   "execution_count": 140,
   "metadata": {
    "colab": {
     "autoexec": {
      "startup": false,
      "wait_interval": 0
     },
     "base_uri": "https://localhost:8080/",
     "height": 396
    },
    "colab_type": "code",
    "executionInfo": {
     "elapsed": 1794,
     "status": "ok",
     "timestamp": 1531794585672,
     "user": {
      "displayName": "정다현",
      "photoUrl": "https://lh3.googleusercontent.com/a/default-user=s128",
      "userId": "108793786663813438778"
     },
     "user_tz": -540
    },
    "id": "Qfil41-P1uMu",
    "outputId": "941e5874-1699-4f75-c209-ac22d06accd9"
   },
   "outputs": [
    {
     "data": {
      "text/plain": [
       "<matplotlib.legend.Legend at 0x1fa08fc1da0>"
      ]
     },
     "execution_count": 140,
     "metadata": {},
     "output_type": "execute_result"
    },
    {
     "data": {
      "text/plain": [
       "<Figure size 432x288 with 0 Axes>"
      ]
     },
     "metadata": {},
     "output_type": "display_data"
    },
    {
     "data": {
      "image/png": "[encoded data removed]",
      "text/plain": [
       "<Figure size 432x288 with 1 Axes>"
      ]
     },
     "metadata": {},
     "output_type": "display_data"
    }
   ],
   "source": [
    "plt.figure(); df.plot(); plt.legend(loc='best')"
   ]
  },
  {
   "cell_type": "markdown",
   "metadata": {
    "colab_type": "text",
    "id": "6orrhxzC2vJh"
   },
   "source": [
    "## Getting Data In/Out (데이터 입/출력)"
   ]
  },
  {
   "cell_type": "markdown",
   "metadata": {
    "colab_type": "text",
    "id": "bYZJgW252vq2"
   },
   "source": [
    "### CSV"
   ]
  },
  {
   "cell_type": "markdown",
   "metadata": {
    "colab_type": "text",
    "id": "Z7q2-xWD_YkP"
   },
   "source": [
    "[csv 파일에 씁니다.](https://pandas.pydata.org/pandas-docs/stable/io.html#io-store-in-csv)"
   ]
  },
  {
   "cell_type": "code",
   "execution_count": 141,
   "metadata": {
    "colab": {
     "autoexec": {
      "startup": false,
      "wait_interval": 0
     }
    },
    "colab_type": "code",
    "id": "1iet_DHP_XSk"
   },
   "outputs": [],
   "source": [
    "df.to_csv('foo.csv')"
   ]
  },
  {
   "cell_type": "markdown",
   "metadata": {
    "colab_type": "text",
    "id": "7luq7S6OANk_"
   },
   "source": [
    "[csv 파일을 읽습니다.](https://pandas.pydata.org/pandas-docs/stable/io.html#io-read-csv-table)"
   ]
  },
  {
   "cell_type": "code",
   "execution_count": 142,
   "metadata": {
    "colab": {
     "autoexec": {
      "startup": false,
      "wait_interval": 0
     },
     "base_uri": "https://localhost:8080/",
     "height": 1949
    },
    "colab_type": "code",
    "executionInfo": {
     "elapsed": 990,
     "status": "ok",
     "timestamp": 1531794606920,
     "user": {
      "displayName": "정다현",
      "photoUrl": "https://lh3.googleusercontent.com/a/default-user=s128",
      "userId": "108793786663813438778"
     },
     "user_tz": -540
    },
    "id": "NE2Xhx-MAW45",
    "outputId": "8c7a769b-d1d5-4c30-99b1-2338036e5e8f"
   },
   "outputs": [
    {
     "data": {
      "text/html": [
       "<div>\n",
       "<style scoped>\n",
       "    .dataframe tbody tr th:only-of-type {\n",
       "        vertical-align: middle;\n",
       "    }\n",
       "\n",
       "    .dataframe tbody tr th {\n",
       "        vertical-align: top;\n",
       "    }\n",
       "\n",
       "    .dataframe thead th {\n",
       "        text-align: right;\n",
       "    }\n",
       "</style>\n",
       "<table border=\"1\" class=\"dataframe\">\n",
       "  <thead>\n",
       "    <tr style=\"text-align: right;\">\n",
       "      <th></th>\n",
       "      <th>Unnamed: 0</th>\n",
       "      <th>A</th>\n",
       "      <th>B</th>\n",
       "      <th>C</th>\n",
       "      <th>D</th>\n",
       "    </tr>\n",
       "  </thead>\n",
       "  <tbody>\n",
       "    <tr>\n",
       "      <th>0</th>\n",
       "      <td>2000-01-01</td>\n",
       "      <td>-0.504053</td>\n",
       "      <td>-1.077338</td>\n",
       "      <td>-0.053139</td>\n",
       "      <td>-1.051069</td>\n",
       "    </tr>\n",
       "    <tr>\n",
       "      <th>1</th>\n",
       "      <td>2000-01-02</td>\n",
       "      <td>-0.846991</td>\n",
       "      <td>-2.918339</td>\n",
       "      <td>-0.077271</td>\n",
       "      <td>-0.196869</td>\n",
       "    </tr>\n",
       "    <tr>\n",
       "      <th>2</th>\n",
       "      <td>2000-01-03</td>\n",
       "      <td>-1.342438</td>\n",
       "      <td>-1.860746</td>\n",
       "      <td>-1.860193</td>\n",
       "      <td>-1.511270</td>\n",
       "    </tr>\n",
       "    <tr>\n",
       "      <th>3</th>\n",
       "      <td>2000-01-04</td>\n",
       "      <td>-1.156047</td>\n",
       "      <td>-1.856299</td>\n",
       "      <td>-1.988300</td>\n",
       "      <td>-2.606590</td>\n",
       "    </tr>\n",
       "    <tr>\n",
       "      <th>4</th>\n",
       "      <td>2000-01-05</td>\n",
       "      <td>-2.391375</td>\n",
       "      <td>-3.182648</td>\n",
       "      <td>-2.136922</td>\n",
       "      <td>-2.149765</td>\n",
       "    </tr>\n",
       "    <tr>\n",
       "      <th>5</th>\n",
       "      <td>2000-01-06</td>\n",
       "      <td>-2.042776</td>\n",
       "      <td>-3.940620</td>\n",
       "      <td>-1.079761</td>\n",
       "      <td>-1.890576</td>\n",
       "    </tr>\n",
       "    <tr>\n",
       "      <th>6</th>\n",
       "      <td>2000-01-07</td>\n",
       "      <td>-0.095328</td>\n",
       "      <td>-3.517690</td>\n",
       "      <td>-2.456351</td>\n",
       "      <td>-0.764731</td>\n",
       "    </tr>\n",
       "    <tr>\n",
       "      <th>7</th>\n",
       "      <td>2000-01-08</td>\n",
       "      <td>1.273206</td>\n",
       "      <td>-2.770742</td>\n",
       "      <td>-1.817641</td>\n",
       "      <td>0.940298</td>\n",
       "    </tr>\n",
       "    <tr>\n",
       "      <th>8</th>\n",
       "      <td>2000-01-09</td>\n",
       "      <td>1.775630</td>\n",
       "      <td>-2.020936</td>\n",
       "      <td>-1.799190</td>\n",
       "      <td>2.872706</td>\n",
       "    </tr>\n",
       "    <tr>\n",
       "      <th>9</th>\n",
       "      <td>2000-01-10</td>\n",
       "      <td>1.276832</td>\n",
       "      <td>-3.412842</td>\n",
       "      <td>-1.475195</td>\n",
       "      <td>5.840642</td>\n",
       "    </tr>\n",
       "    <tr>\n",
       "      <th>10</th>\n",
       "      <td>2000-01-11</td>\n",
       "      <td>1.617100</td>\n",
       "      <td>-2.793988</td>\n",
       "      <td>-1.364777</td>\n",
       "      <td>6.543445</td>\n",
       "    </tr>\n",
       "    <tr>\n",
       "      <th>11</th>\n",
       "      <td>2000-01-12</td>\n",
       "      <td>1.044726</td>\n",
       "      <td>-2.668738</td>\n",
       "      <td>-0.851270</td>\n",
       "      <td>5.707580</td>\n",
       "    </tr>\n",
       "    <tr>\n",
       "      <th>12</th>\n",
       "      <td>2000-01-13</td>\n",
       "      <td>1.138526</td>\n",
       "      <td>-4.138288</td>\n",
       "      <td>1.181392</td>\n",
       "      <td>5.087936</td>\n",
       "    </tr>\n",
       "    <tr>\n",
       "      <th>13</th>\n",
       "      <td>2000-01-14</td>\n",
       "      <td>1.795503</td>\n",
       "      <td>-3.755181</td>\n",
       "      <td>1.275505</td>\n",
       "      <td>5.675147</td>\n",
       "    </tr>\n",
       "    <tr>\n",
       "      <th>14</th>\n",
       "      <td>2000-01-15</td>\n",
       "      <td>4.188119</td>\n",
       "      <td>-5.882114</td>\n",
       "      <td>-1.254115</td>\n",
       "      <td>5.595347</td>\n",
       "    </tr>\n",
       "    <tr>\n",
       "      <th>15</th>\n",
       "      <td>2000-01-16</td>\n",
       "      <td>3.672430</td>\n",
       "      <td>-7.998925</td>\n",
       "      <td>-0.948646</td>\n",
       "      <td>5.568939</td>\n",
       "    </tr>\n",
       "    <tr>\n",
       "      <th>16</th>\n",
       "      <td>2000-01-17</td>\n",
       "      <td>3.264198</td>\n",
       "      <td>-6.358956</td>\n",
       "      <td>0.758688</td>\n",
       "      <td>7.143664</td>\n",
       "    </tr>\n",
       "    <tr>\n",
       "      <th>17</th>\n",
       "      <td>2000-01-18</td>\n",
       "      <td>4.142843</td>\n",
       "      <td>-5.190532</td>\n",
       "      <td>-0.401176</td>\n",
       "      <td>8.754317</td>\n",
       "    </tr>\n",
       "    <tr>\n",
       "      <th>18</th>\n",
       "      <td>2000-01-19</td>\n",
       "      <td>5.360193</td>\n",
       "      <td>-4.996969</td>\n",
       "      <td>-0.183363</td>\n",
       "      <td>7.602998</td>\n",
       "    </tr>\n",
       "    <tr>\n",
       "      <th>19</th>\n",
       "      <td>2000-01-20</td>\n",
       "      <td>7.129896</td>\n",
       "      <td>-3.874000</td>\n",
       "      <td>-2.038804</td>\n",
       "      <td>7.492083</td>\n",
       "    </tr>\n",
       "    <tr>\n",
       "      <th>20</th>\n",
       "      <td>2000-01-21</td>\n",
       "      <td>6.721810</td>\n",
       "      <td>-3.618068</td>\n",
       "      <td>-2.875339</td>\n",
       "      <td>7.043574</td>\n",
       "    </tr>\n",
       "    <tr>\n",
       "      <th>21</th>\n",
       "      <td>2000-01-22</td>\n",
       "      <td>8.460928</td>\n",
       "      <td>-4.833476</td>\n",
       "      <td>-1.561800</td>\n",
       "      <td>6.100060</td>\n",
       "    </tr>\n",
       "    <tr>\n",
       "      <th>22</th>\n",
       "      <td>2000-01-23</td>\n",
       "      <td>7.326272</td>\n",
       "      <td>-5.742897</td>\n",
       "      <td>-1.867441</td>\n",
       "      <td>6.671807</td>\n",
       "    </tr>\n",
       "    <tr>\n",
       "      <th>23</th>\n",
       "      <td>2000-01-24</td>\n",
       "      <td>7.547501</td>\n",
       "      <td>-4.809146</td>\n",
       "      <td>-3.400991</td>\n",
       "      <td>7.349724</td>\n",
       "    </tr>\n",
       "    <tr>\n",
       "      <th>24</th>\n",
       "      <td>2000-01-25</td>\n",
       "      <td>7.474599</td>\n",
       "      <td>-4.602331</td>\n",
       "      <td>-3.451116</td>\n",
       "      <td>8.476173</td>\n",
       "    </tr>\n",
       "    <tr>\n",
       "      <th>25</th>\n",
       "      <td>2000-01-26</td>\n",
       "      <td>9.091033</td>\n",
       "      <td>-6.131233</td>\n",
       "      <td>-2.017766</td>\n",
       "      <td>9.449509</td>\n",
       "    </tr>\n",
       "    <tr>\n",
       "      <th>26</th>\n",
       "      <td>2000-01-27</td>\n",
       "      <td>7.476169</td>\n",
       "      <td>-5.214970</td>\n",
       "      <td>-1.440333</td>\n",
       "      <td>8.690732</td>\n",
       "    </tr>\n",
       "    <tr>\n",
       "      <th>27</th>\n",
       "      <td>2000-01-28</td>\n",
       "      <td>8.654651</td>\n",
       "      <td>-5.025932</td>\n",
       "      <td>-1.429212</td>\n",
       "      <td>9.197669</td>\n",
       "    </tr>\n",
       "    <tr>\n",
       "      <th>28</th>\n",
       "      <td>2000-01-29</td>\n",
       "      <td>9.383482</td>\n",
       "      <td>-4.020080</td>\n",
       "      <td>-2.045289</td>\n",
       "      <td>7.427789</td>\n",
       "    </tr>\n",
       "    <tr>\n",
       "      <th>29</th>\n",
       "      <td>2000-01-30</td>\n",
       "      <td>7.978445</td>\n",
       "      <td>-4.150205</td>\n",
       "      <td>-1.472639</td>\n",
       "      <td>5.841251</td>\n",
       "    </tr>\n",
       "    <tr>\n",
       "      <th>...</th>\n",
       "      <td>...</td>\n",
       "      <td>...</td>\n",
       "      <td>...</td>\n",
       "      <td>...</td>\n",
       "      <td>...</td>\n",
       "    </tr>\n",
       "    <tr>\n",
       "      <th>970</th>\n",
       "      <td>2002-08-28</td>\n",
       "      <td>-35.170216</td>\n",
       "      <td>15.389926</td>\n",
       "      <td>63.636222</td>\n",
       "      <td>25.719880</td>\n",
       "    </tr>\n",
       "    <tr>\n",
       "      <th>971</th>\n",
       "      <td>2002-08-29</td>\n",
       "      <td>-35.359585</td>\n",
       "      <td>17.248281</td>\n",
       "      <td>63.141259</td>\n",
       "      <td>24.929091</td>\n",
       "    </tr>\n",
       "    <tr>\n",
       "      <th>972</th>\n",
       "      <td>2002-08-30</td>\n",
       "      <td>-34.742941</td>\n",
       "      <td>19.369163</td>\n",
       "      <td>62.939781</td>\n",
       "      <td>25.248624</td>\n",
       "    </tr>\n",
       "    <tr>\n",
       "      <th>973</th>\n",
       "      <td>2002-08-31</td>\n",
       "      <td>-34.774136</td>\n",
       "      <td>19.401633</td>\n",
       "      <td>64.076971</td>\n",
       "      <td>23.741958</td>\n",
       "    </tr>\n",
       "    <tr>\n",
       "      <th>974</th>\n",
       "      <td>2002-09-01</td>\n",
       "      <td>-35.301150</td>\n",
       "      <td>20.961967</td>\n",
       "      <td>61.523110</td>\n",
       "      <td>22.764849</td>\n",
       "    </tr>\n",
       "    <tr>\n",
       "      <th>975</th>\n",
       "      <td>2002-09-02</td>\n",
       "      <td>-35.727280</td>\n",
       "      <td>20.344433</td>\n",
       "      <td>60.964601</td>\n",
       "      <td>24.103049</td>\n",
       "    </tr>\n",
       "    <tr>\n",
       "      <th>976</th>\n",
       "      <td>2002-09-03</td>\n",
       "      <td>-34.179776</td>\n",
       "      <td>17.955248</td>\n",
       "      <td>60.221282</td>\n",
       "      <td>22.529231</td>\n",
       "    </tr>\n",
       "    <tr>\n",
       "      <th>977</th>\n",
       "      <td>2002-09-04</td>\n",
       "      <td>-33.922321</td>\n",
       "      <td>18.576401</td>\n",
       "      <td>61.245723</td>\n",
       "      <td>23.928655</td>\n",
       "    </tr>\n",
       "    <tr>\n",
       "      <th>978</th>\n",
       "      <td>2002-09-05</td>\n",
       "      <td>-33.635706</td>\n",
       "      <td>17.562774</td>\n",
       "      <td>61.430697</td>\n",
       "      <td>25.019877</td>\n",
       "    </tr>\n",
       "    <tr>\n",
       "      <th>979</th>\n",
       "      <td>2002-09-06</td>\n",
       "      <td>-33.633814</td>\n",
       "      <td>17.868397</td>\n",
       "      <td>61.436187</td>\n",
       "      <td>23.081189</td>\n",
       "    </tr>\n",
       "    <tr>\n",
       "      <th>980</th>\n",
       "      <td>2002-09-07</td>\n",
       "      <td>-32.781735</td>\n",
       "      <td>18.122043</td>\n",
       "      <td>62.487123</td>\n",
       "      <td>24.089181</td>\n",
       "    </tr>\n",
       "    <tr>\n",
       "      <th>981</th>\n",
       "      <td>2002-09-08</td>\n",
       "      <td>-32.008121</td>\n",
       "      <td>17.715692</td>\n",
       "      <td>64.610007</td>\n",
       "      <td>25.022813</td>\n",
       "    </tr>\n",
       "    <tr>\n",
       "      <th>982</th>\n",
       "      <td>2002-09-09</td>\n",
       "      <td>-32.669705</td>\n",
       "      <td>17.726810</td>\n",
       "      <td>65.418384</td>\n",
       "      <td>26.162207</td>\n",
       "    </tr>\n",
       "    <tr>\n",
       "      <th>983</th>\n",
       "      <td>2002-09-10</td>\n",
       "      <td>-32.007532</td>\n",
       "      <td>18.047346</td>\n",
       "      <td>66.342338</td>\n",
       "      <td>25.862459</td>\n",
       "    </tr>\n",
       "    <tr>\n",
       "      <th>984</th>\n",
       "      <td>2002-09-11</td>\n",
       "      <td>-31.420401</td>\n",
       "      <td>19.173928</td>\n",
       "      <td>65.455559</td>\n",
       "      <td>26.270779</td>\n",
       "    </tr>\n",
       "    <tr>\n",
       "      <th>985</th>\n",
       "      <td>2002-09-12</td>\n",
       "      <td>-31.817816</td>\n",
       "      <td>18.338851</td>\n",
       "      <td>65.763364</td>\n",
       "      <td>27.250988</td>\n",
       "    </tr>\n",
       "    <tr>\n",
       "      <th>986</th>\n",
       "      <td>2002-09-13</td>\n",
       "      <td>-32.883287</td>\n",
       "      <td>17.867410</td>\n",
       "      <td>65.316803</td>\n",
       "      <td>27.626015</td>\n",
       "    </tr>\n",
       "    <tr>\n",
       "      <th>987</th>\n",
       "      <td>2002-09-14</td>\n",
       "      <td>-30.810209</td>\n",
       "      <td>17.793577</td>\n",
       "      <td>64.679719</td>\n",
       "      <td>26.330117</td>\n",
       "    </tr>\n",
       "    <tr>\n",
       "      <th>988</th>\n",
       "      <td>2002-09-15</td>\n",
       "      <td>-31.473208</td>\n",
       "      <td>17.214490</td>\n",
       "      <td>63.925052</td>\n",
       "      <td>25.028562</td>\n",
       "    </tr>\n",
       "    <tr>\n",
       "      <th>989</th>\n",
       "      <td>2002-09-16</td>\n",
       "      <td>-30.493173</td>\n",
       "      <td>17.794436</td>\n",
       "      <td>64.428776</td>\n",
       "      <td>24.698944</td>\n",
       "    </tr>\n",
       "    <tr>\n",
       "      <th>990</th>\n",
       "      <td>2002-09-17</td>\n",
       "      <td>-31.541775</td>\n",
       "      <td>17.236002</td>\n",
       "      <td>64.843257</td>\n",
       "      <td>24.740396</td>\n",
       "    </tr>\n",
       "    <tr>\n",
       "      <th>991</th>\n",
       "      <td>2002-09-18</td>\n",
       "      <td>-33.455671</td>\n",
       "      <td>19.248170</td>\n",
       "      <td>65.036755</td>\n",
       "      <td>23.808238</td>\n",
       "    </tr>\n",
       "    <tr>\n",
       "      <th>992</th>\n",
       "      <td>2002-09-19</td>\n",
       "      <td>-35.281081</td>\n",
       "      <td>19.070414</td>\n",
       "      <td>64.406978</td>\n",
       "      <td>23.741655</td>\n",
       "    </tr>\n",
       "    <tr>\n",
       "      <th>993</th>\n",
       "      <td>2002-09-20</td>\n",
       "      <td>-36.529812</td>\n",
       "      <td>20.091394</td>\n",
       "      <td>65.902083</td>\n",
       "      <td>24.321778</td>\n",
       "    </tr>\n",
       "    <tr>\n",
       "      <th>994</th>\n",
       "      <td>2002-09-21</td>\n",
       "      <td>-35.411983</td>\n",
       "      <td>20.375372</td>\n",
       "      <td>64.801937</td>\n",
       "      <td>25.713126</td>\n",
       "    </tr>\n",
       "    <tr>\n",
       "      <th>995</th>\n",
       "      <td>2002-09-22</td>\n",
       "      <td>-33.983026</td>\n",
       "      <td>20.359048</td>\n",
       "      <td>64.160456</td>\n",
       "      <td>25.176090</td>\n",
       "    </tr>\n",
       "    <tr>\n",
       "      <th>996</th>\n",
       "      <td>2002-09-23</td>\n",
       "      <td>-34.370282</td>\n",
       "      <td>18.839689</td>\n",
       "      <td>65.101812</td>\n",
       "      <td>24.225397</td>\n",
       "    </tr>\n",
       "    <tr>\n",
       "      <th>997</th>\n",
       "      <td>2002-09-24</td>\n",
       "      <td>-36.023590</td>\n",
       "      <td>20.681170</td>\n",
       "      <td>64.849820</td>\n",
       "      <td>23.371826</td>\n",
       "    </tr>\n",
       "    <tr>\n",
       "      <th>998</th>\n",
       "      <td>2002-09-25</td>\n",
       "      <td>-34.714326</td>\n",
       "      <td>20.481727</td>\n",
       "      <td>65.599504</td>\n",
       "      <td>21.910573</td>\n",
       "    </tr>\n",
       "    <tr>\n",
       "      <th>999</th>\n",
       "      <td>2002-09-26</td>\n",
       "      <td>-36.042279</td>\n",
       "      <td>22.062980</td>\n",
       "      <td>64.908051</td>\n",
       "      <td>23.026174</td>\n",
       "    </tr>\n",
       "  </tbody>\n",
       "</table>\n",
       "<p>1000 rows × 5 columns</p>\n",
       "</div>"
      ],
      "text/plain": [
       "     Unnamed: 0          A          B          C          D\n",
       "0    2000-01-01  -0.504053  -1.077338  -0.053139  -1.051069\n",
       "1    2000-01-02  -0.846991  -2.918339  -0.077271  -0.196869\n",
       "2    2000-01-03  -1.342438  -1.860746  -1.860193  -1.511270\n",
       "3    2000-01-04  -1.156047  -1.856299  -1.988300  -2.606590\n",
       "4    2000-01-05  -2.391375  -3.182648  -2.136922  -2.149765\n",
       "5    2000-01-06  -2.042776  -3.940620  -1.079761  -1.890576\n",
       "6    2000-01-07  -0.095328  -3.517690  -2.456351  -0.764731\n",
       "7    2000-01-08   1.273206  -2.770742  -1.817641   0.940298\n",
       "8    2000-01-09   1.775630  -2.020936  -1.799190   2.872706\n",
       "9    2000-01-10   1.276832  -3.412842  -1.475195   5.840642\n",
       "10   2000-01-11   1.617100  -2.793988  -1.364777   6.543445\n",
       "11   2000-01-12   1.044726  -2.668738  -0.851270   5.707580\n",
       "12   2000-01-13   1.138526  -4.138288   1.181392   5.087936\n",
       "13   2000-01-14   1.795503  -3.755181   1.275505   5.675147\n",
       "14   2000-01-15   4.188119  -5.882114  -1.254115   5.595347\n",
       "15   2000-01-16   3.672430  -7.998925  -0.948646   5.568939\n",
       "16   2000-01-17   3.264198  -6.358956   0.758688   7.143664\n",
       "17   2000-01-18   4.142843  -5.190532  -0.401176   8.754317\n",
       "18   2000-01-19   5.360193  -4.996969  -0.183363   7.602998\n",
       "19   2000-01-20   7.129896  -3.874000  -2.038804   7.492083\n",
       "20   2000-01-21   6.721810  -3.618068  -2.875339   7.043574\n",
       "21   2000-01-22   8.460928  -4.833476  -1.561800   6.100060\n",
       "22   2000-01-23   7.326272  -5.742897  -1.867441   6.671807\n",
       "23   2000-01-24   7.547501  -4.809146  -3.400991   7.349724\n",
       "24   2000-01-25   7.474599  -4.602331  -3.451116   8.476173\n",
       "25   2000-01-26   9.091033  -6.131233  -2.017766   9.449509\n",
       "26   2000-01-27   7.476169  -5.214970  -1.440333   8.690732\n",
       "27   2000-01-28   8.654651  -5.025932  -1.429212   9.197669\n",
       "28   2000-01-29   9.383482  -4.020080  -2.045289   7.427789\n",
       "29   2000-01-30   7.978445  -4.150205  -1.472639   5.841251\n",
       "..          ...        ...        ...        ...        ...\n",
       "970  2002-08-28 -35.170216  15.389926  63.636222  25.719880\n",
       "971  2002-08-29 -35.359585  17.248281  63.141259  24.929091\n",
       "972  2002-08-30 -34.742941  19.369163  62.939781  25.248624\n",
       "973  2002-08-31 -34.774136  19.401633  64.076971  23.741958\n",
       "974  2002-09-01 -35.301150  20.961967  61.523110  22.764849\n",
       "975  2002-09-02 -35.727280  20.344433  60.964601  24.103049\n",
       "976  2002-09-03 -34.179776  17.955248  60.221282  22.529231\n",
       "977  2002-09-04 -33.922321  18.576401  61.245723  23.928655\n",
       "978  2002-09-05 -33.635706  17.562774  61.430697  25.019877\n",
       "979  2002-09-06 -33.633814  17.868397  61.436187  23.081189\n",
       "980  2002-09-07 -32.781735  18.122043  62.487123  24.089181\n",
       "981  2002-09-08 -32.008121  17.715692  64.610007  25.022813\n",
       "982  2002-09-09 -32.669705  17.726810  65.418384  26.162207\n",
       "983  2002-09-10 -32.007532  18.047346  66.342338  25.862459\n",
       "984  2002-09-11 -31.420401  19.173928  65.455559  26.270779\n",
       "985  2002-09-12 -31.817816  18.338851  65.763364  27.250988\n",
       "986  2002-09-13 -32.883287  17.867410  65.316803  27.626015\n",
       "987  2002-09-14 -30.810209  17.793577  64.679719  26.330117\n",
       "988  2002-09-15 -31.473208  17.214490  63.925052  25.028562\n",
       "989  2002-09-16 -30.493173  17.794436  64.428776  24.698944\n",
       "990  2002-09-17 -31.541775  17.236002  64.843257  24.740396\n",
       "991  2002-09-18 -33.455671  19.248170  65.036755  23.808238\n",
       "992  2002-09-19 -35.281081  19.070414  64.406978  23.741655\n",
       "993  2002-09-20 -36.529812  20.091394  65.902083  24.321778\n",
       "994  2002-09-21 -35.411983  20.375372  64.801937  25.713126\n",
       "995  2002-09-22 -33.983026  20.359048  64.160456  25.176090\n",
       "996  2002-09-23 -34.370282  18.839689  65.101812  24.225397\n",
       "997  2002-09-24 -36.023590  20.681170  64.849820  23.371826\n",
       "998  2002-09-25 -34.714326  20.481727  65.599504  21.910573\n",
       "999  2002-09-26 -36.042279  22.062980  64.908051  23.026174\n",
       "\n",
       "[1000 rows x 5 columns]"
      ]
     },
     "execution_count": 142,
     "metadata": {},
     "output_type": "execute_result"
    }
   ],
   "source": [
    "pd.read_csv('foo.csv')"
   ]
  },
  {
   "cell_type": "markdown",
   "metadata": {
    "colab_type": "text",
    "id": "P9knaZtu24Nj"
   },
   "source": [
    "### HDF5"
   ]
  },
  {
   "cell_type": "markdown",
   "metadata": {
    "colab_type": "text",
    "id": "tHW2rtWWkHNd"
   },
   "source": [
    "[HDFStores](https://pandas.pydata.org/pandas-docs/stable/io.html#io-hdf5)에 읽고 씁니다."
   ]
  },
  {
   "cell_type": "markdown",
   "metadata": {
    "colab_type": "text",
    "id": "Mzz9k4TQkHNe"
   },
   "source": [
    "HDF5 Store에 씁니다."
   ]
  },
  {
   "cell_type": "code",
   "execution_count": 143,
   "metadata": {
    "colab": {
     "autoexec": {
      "startup": false,
      "wait_interval": 0
     }
    },
    "colab_type": "code",
    "id": "R0VSHXW30H9a"
   },
   "outputs": [],
   "source": [
    "df.to_hdf('foo.h5','df')"
   ]
  },
  {
   "cell_type": "markdown",
   "metadata": {
    "colab_type": "text",
    "id": "tw3vxS450MpB"
   },
   "source": [
    "HDF5 Store에서 읽어옵니다."
   ]
  },
  {
   "cell_type": "code",
   "execution_count": 144,
   "metadata": {
    "colab": {
     "autoexec": {
      "startup": false,
      "wait_interval": 0
     },
     "base_uri": "https://localhost:8080/",
     "height": 278
    },
    "colab_type": "code",
    "executionInfo": {
     "elapsed": 1073,
     "status": "error",
     "timestamp": 1531794695469,
     "user": {
      "displayName": "최지영",
      "photoUrl": "https://lh3.googleusercontent.com/a/default-user=s128",
      "userId": "106128527749636650173"
     },
     "user_tz": -540
    },
    "id": "QXqtNXK8zx0f",
    "outputId": "b2651a35-a12b-44b8-93cd-ecd14ae968cf"
   },
   "outputs": [
    {
     "data": {
      "text/html": [
       "<div>\n",
       "<style scoped>\n",
       "    .dataframe tbody tr th:only-of-type {\n",
       "        vertical-align: middle;\n",
       "    }\n",
       "\n",
       "    .dataframe tbody tr th {\n",
       "        vertical-align: top;\n",
       "    }\n",
       "\n",
       "    .dataframe thead th {\n",
       "        text-align: right;\n",
       "    }\n",
       "</style>\n",
       "<table border=\"1\" class=\"dataframe\">\n",
       "  <thead>\n",
       "    <tr style=\"text-align: right;\">\n",
       "      <th></th>\n",
       "      <th>A</th>\n",
       "      <th>B</th>\n",
       "      <th>C</th>\n",
       "      <th>D</th>\n",
       "    </tr>\n",
       "  </thead>\n",
       "  <tbody>\n",
       "    <tr>\n",
       "      <th>2000-01-01</th>\n",
       "      <td>-0.504053</td>\n",
       "      <td>-1.077338</td>\n",
       "      <td>-0.053139</td>\n",
       "      <td>-1.051069</td>\n",
       "    </tr>\n",
       "    <tr>\n",
       "      <th>2000-01-02</th>\n",
       "      <td>-0.846991</td>\n",
       "      <td>-2.918339</td>\n",
       "      <td>-0.077271</td>\n",
       "      <td>-0.196869</td>\n",
       "    </tr>\n",
       "    <tr>\n",
       "      <th>2000-01-03</th>\n",
       "      <td>-1.342438</td>\n",
       "      <td>-1.860746</td>\n",
       "      <td>-1.860193</td>\n",
       "      <td>-1.511270</td>\n",
       "    </tr>\n",
       "    <tr>\n",
       "      <th>2000-01-04</th>\n",
       "      <td>-1.156047</td>\n",
       "      <td>-1.856299</td>\n",
       "      <td>-1.988300</td>\n",
       "      <td>-2.606590</td>\n",
       "    </tr>\n",
       "    <tr>\n",
       "      <th>2000-01-05</th>\n",
       "      <td>-2.391375</td>\n",
       "      <td>-3.182648</td>\n",
       "      <td>-2.136922</td>\n",
       "      <td>-2.149765</td>\n",
       "    </tr>\n",
       "    <tr>\n",
       "      <th>2000-01-06</th>\n",
       "      <td>-2.042776</td>\n",
       "      <td>-3.940620</td>\n",
       "      <td>-1.079761</td>\n",
       "      <td>-1.890576</td>\n",
       "    </tr>\n",
       "    <tr>\n",
       "      <th>2000-01-07</th>\n",
       "      <td>-0.095328</td>\n",
       "      <td>-3.517690</td>\n",
       "      <td>-2.456351</td>\n",
       "      <td>-0.764731</td>\n",
       "    </tr>\n",
       "    <tr>\n",
       "      <th>2000-01-08</th>\n",
       "      <td>1.273206</td>\n",
       "      <td>-2.770742</td>\n",
       "      <td>-1.817641</td>\n",
       "      <td>0.940298</td>\n",
       "    </tr>\n",
       "    <tr>\n",
       "      <th>2000-01-09</th>\n",
       "      <td>1.775630</td>\n",
       "      <td>-2.020936</td>\n",
       "      <td>-1.799190</td>\n",
       "      <td>2.872706</td>\n",
       "    </tr>\n",
       "    <tr>\n",
       "      <th>2000-01-10</th>\n",
       "      <td>1.276832</td>\n",
       "      <td>-3.412842</td>\n",
       "      <td>-1.475195</td>\n",
       "      <td>5.840642</td>\n",
       "    </tr>\n",
       "    <tr>\n",
       "      <th>2000-01-11</th>\n",
       "      <td>1.617100</td>\n",
       "      <td>-2.793988</td>\n",
       "      <td>-1.364777</td>\n",
       "      <td>6.543445</td>\n",
       "    </tr>\n",
       "    <tr>\n",
       "      <th>2000-01-12</th>\n",
       "      <td>1.044726</td>\n",
       "      <td>-2.668738</td>\n",
       "      <td>-0.851270</td>\n",
       "      <td>5.707580</td>\n",
       "    </tr>\n",
       "    <tr>\n",
       "      <th>2000-01-13</th>\n",
       "      <td>1.138526</td>\n",
       "      <td>-4.138288</td>\n",
       "      <td>1.181392</td>\n",
       "      <td>5.087936</td>\n",
       "    </tr>\n",
       "    <tr>\n",
       "      <th>2000-01-14</th>\n",
       "      <td>1.795503</td>\n",
       "      <td>-3.755181</td>\n",
       "      <td>1.275505</td>\n",
       "      <td>5.675147</td>\n",
       "    </tr>\n",
       "    <tr>\n",
       "      <th>2000-01-15</th>\n",
       "      <td>4.188119</td>\n",
       "      <td>-5.882114</td>\n",
       "      <td>-1.254115</td>\n",
       "      <td>5.595347</td>\n",
       "    </tr>\n",
       "    <tr>\n",
       "      <th>2000-01-16</th>\n",
       "      <td>3.672430</td>\n",
       "      <td>-7.998925</td>\n",
       "      <td>-0.948646</td>\n",
       "      <td>5.568939</td>\n",
       "    </tr>\n",
       "    <tr>\n",
       "      <th>2000-01-17</th>\n",
       "      <td>3.264198</td>\n",
       "      <td>-6.358956</td>\n",
       "      <td>0.758688</td>\n",
       "      <td>7.143664</td>\n",
       "    </tr>\n",
       "    <tr>\n",
       "      <th>2000-01-18</th>\n",
       "      <td>4.142843</td>\n",
       "      <td>-5.190532</td>\n",
       "      <td>-0.401176</td>\n",
       "      <td>8.754317</td>\n",
       "    </tr>\n",
       "    <tr>\n",
       "      <th>2000-01-19</th>\n",
       "      <td>5.360193</td>\n",
       "      <td>-4.996969</td>\n",
       "      <td>-0.183363</td>\n",
       "      <td>7.602998</td>\n",
       "    </tr>\n",
       "    <tr>\n",
       "      <th>2000-01-20</th>\n",
       "      <td>7.129896</td>\n",
       "      <td>-3.874000</td>\n",
       "      <td>-2.038804</td>\n",
       "      <td>7.492083</td>\n",
       "    </tr>\n",
       "    <tr>\n",
       "      <th>2000-01-21</th>\n",
       "      <td>6.721810</td>\n",
       "      <td>-3.618068</td>\n",
       "      <td>-2.875339</td>\n",
       "      <td>7.043574</td>\n",
       "    </tr>\n",
       "    <tr>\n",
       "      <th>2000-01-22</th>\n",
       "      <td>8.460928</td>\n",
       "      <td>-4.833476</td>\n",
       "      <td>-1.561800</td>\n",
       "      <td>6.100060</td>\n",
       "    </tr>\n",
       "    <tr>\n",
       "      <th>2000-01-23</th>\n",
       "      <td>7.326272</td>\n",
       "      <td>-5.742897</td>\n",
       "      <td>-1.867441</td>\n",
       "      <td>6.671807</td>\n",
       "    </tr>\n",
       "    <tr>\n",
       "      <th>2000-01-24</th>\n",
       "      <td>7.547501</td>\n",
       "      <td>-4.809146</td>\n",
       "      <td>-3.400991</td>\n",
       "      <td>7.349724</td>\n",
       "    </tr>\n",
       "    <tr>\n",
       "      <th>2000-01-25</th>\n",
       "      <td>7.474599</td>\n",
       "      <td>-4.602331</td>\n",
       "      <td>-3.451116</td>\n",
       "      <td>8.476173</td>\n",
       "    </tr>\n",
       "    <tr>\n",
       "      <th>2000-01-26</th>\n",
       "      <td>9.091033</td>\n",
       "      <td>-6.131233</td>\n",
       "      <td>-2.017766</td>\n",
       "      <td>9.449509</td>\n",
       "    </tr>\n",
       "    <tr>\n",
       "      <th>2000-01-27</th>\n",
       "      <td>7.476169</td>\n",
       "      <td>-5.214970</td>\n",
       "      <td>-1.440333</td>\n",
       "      <td>8.690732</td>\n",
       "    </tr>\n",
       "    <tr>\n",
       "      <th>2000-01-28</th>\n",
       "      <td>8.654651</td>\n",
       "      <td>-5.025932</td>\n",
       "      <td>-1.429212</td>\n",
       "      <td>9.197669</td>\n",
       "    </tr>\n",
       "    <tr>\n",
       "      <th>2000-01-29</th>\n",
       "      <td>9.383482</td>\n",
       "      <td>-4.020080</td>\n",
       "      <td>-2.045289</td>\n",
       "      <td>7.427789</td>\n",
       "    </tr>\n",
       "    <tr>\n",
       "      <th>2000-01-30</th>\n",
       "      <td>7.978445</td>\n",
       "      <td>-4.150205</td>\n",
       "      <td>-1.472639</td>\n",
       "      <td>5.841251</td>\n",
       "    </tr>\n",
       "    <tr>\n",
       "      <th>...</th>\n",
       "      <td>...</td>\n",
       "      <td>...</td>\n",
       "      <td>...</td>\n",
       "      <td>...</td>\n",
       "    </tr>\n",
       "    <tr>\n",
       "      <th>2002-08-28</th>\n",
       "      <td>-35.170216</td>\n",
       "      <td>15.389926</td>\n",
       "      <td>63.636222</td>\n",
       "      <td>25.719880</td>\n",
       "    </tr>\n",
       "    <tr>\n",
       "      <th>2002-08-29</th>\n",
       "      <td>-35.359585</td>\n",
       "      <td>17.248281</td>\n",
       "      <td>63.141259</td>\n",
       "      <td>24.929091</td>\n",
       "    </tr>\n",
       "    <tr>\n",
       "      <th>2002-08-30</th>\n",
       "      <td>-34.742941</td>\n",
       "      <td>19.369163</td>\n",
       "      <td>62.939781</td>\n",
       "      <td>25.248624</td>\n",
       "    </tr>\n",
       "    <tr>\n",
       "      <th>2002-08-31</th>\n",
       "      <td>-34.774136</td>\n",
       "      <td>19.401633</td>\n",
       "      <td>64.076971</td>\n",
       "      <td>23.741958</td>\n",
       "    </tr>\n",
       "    <tr>\n",
       "      <th>2002-09-01</th>\n",
       "      <td>-35.301150</td>\n",
       "      <td>20.961967</td>\n",
       "      <td>61.523110</td>\n",
       "      <td>22.764849</td>\n",
       "    </tr>\n",
       "    <tr>\n",
       "      <th>2002-09-02</th>\n",
       "      <td>-35.727280</td>\n",
       "      <td>20.344433</td>\n",
       "      <td>60.964601</td>\n",
       "      <td>24.103049</td>\n",
       "    </tr>\n",
       "    <tr>\n",
       "      <th>2002-09-03</th>\n",
       "      <td>-34.179776</td>\n",
       "      <td>17.955248</td>\n",
       "      <td>60.221282</td>\n",
       "      <td>22.529231</td>\n",
       "    </tr>\n",
       "    <tr>\n",
       "      <th>2002-09-04</th>\n",
       "      <td>-33.922321</td>\n",
       "      <td>18.576401</td>\n",
       "      <td>61.245723</td>\n",
       "      <td>23.928655</td>\n",
       "    </tr>\n",
       "    <tr>\n",
       "      <th>2002-09-05</th>\n",
       "      <td>-33.635706</td>\n",
       "      <td>17.562774</td>\n",
       "      <td>61.430697</td>\n",
       "      <td>25.019877</td>\n",
       "    </tr>\n",
       "    <tr>\n",
       "      <th>2002-09-06</th>\n",
       "      <td>-33.633814</td>\n",
       "      <td>17.868397</td>\n",
       "      <td>61.436187</td>\n",
       "      <td>23.081189</td>\n",
       "    </tr>\n",
       "    <tr>\n",
       "      <th>2002-09-07</th>\n",
       "      <td>-32.781735</td>\n",
       "      <td>18.122043</td>\n",
       "      <td>62.487123</td>\n",
       "      <td>24.089181</td>\n",
       "    </tr>\n",
       "    <tr>\n",
       "      <th>2002-09-08</th>\n",
       "      <td>-32.008121</td>\n",
       "      <td>17.715692</td>\n",
       "      <td>64.610007</td>\n",
       "      <td>25.022813</td>\n",
       "    </tr>\n",
       "    <tr>\n",
       "      <th>2002-09-09</th>\n",
       "      <td>-32.669705</td>\n",
       "      <td>17.726810</td>\n",
       "      <td>65.418384</td>\n",
       "      <td>26.162207</td>\n",
       "    </tr>\n",
       "    <tr>\n",
       "      <th>2002-09-10</th>\n",
       "      <td>-32.007532</td>\n",
       "      <td>18.047346</td>\n",
       "      <td>66.342338</td>\n",
       "      <td>25.862459</td>\n",
       "    </tr>\n",
       "    <tr>\n",
       "      <th>2002-09-11</th>\n",
       "      <td>-31.420401</td>\n",
       "      <td>19.173928</td>\n",
       "      <td>65.455559</td>\n",
       "      <td>26.270779</td>\n",
       "    </tr>\n",
       "    <tr>\n",
       "      <th>2002-09-12</th>\n",
       "      <td>-31.817816</td>\n",
       "      <td>18.338851</td>\n",
       "      <td>65.763364</td>\n",
       "      <td>27.250988</td>\n",
       "    </tr>\n",
       "    <tr>\n",
       "      <th>2002-09-13</th>\n",
       "      <td>-32.883287</td>\n",
       "      <td>17.867410</td>\n",
       "      <td>65.316803</td>\n",
       "      <td>27.626015</td>\n",
       "    </tr>\n",
       "    <tr>\n",
       "      <th>2002-09-14</th>\n",
       "      <td>-30.810209</td>\n",
       "      <td>17.793577</td>\n",
       "      <td>64.679719</td>\n",
       "      <td>26.330117</td>\n",
       "    </tr>\n",
       "    <tr>\n",
       "      <th>2002-09-15</th>\n",
       "      <td>-31.473208</td>\n",
       "      <td>17.214490</td>\n",
       "      <td>63.925052</td>\n",
       "      <td>25.028562</td>\n",
       "    </tr>\n",
       "    <tr>\n",
       "      <th>2002-09-16</th>\n",
       "      <td>-30.493173</td>\n",
       "      <td>17.794436</td>\n",
       "      <td>64.428776</td>\n",
       "      <td>24.698944</td>\n",
       "    </tr>\n",
       "    <tr>\n",
       "      <th>2002-09-17</th>\n",
       "      <td>-31.541775</td>\n",
       "      <td>17.236002</td>\n",
       "      <td>64.843257</td>\n",
       "      <td>24.740396</td>\n",
       "    </tr>\n",
       "    <tr>\n",
       "      <th>2002-09-18</th>\n",
       "      <td>-33.455671</td>\n",
       "      <td>19.248170</td>\n",
       "      <td>65.036755</td>\n",
       "      <td>23.808238</td>\n",
       "    </tr>\n",
       "    <tr>\n",
       "      <th>2002-09-19</th>\n",
       "      <td>-35.281081</td>\n",
       "      <td>19.070414</td>\n",
       "      <td>64.406978</td>\n",
       "      <td>23.741655</td>\n",
       "    </tr>\n",
       "    <tr>\n",
       "      <th>2002-09-20</th>\n",
       "      <td>-36.529812</td>\n",
       "      <td>20.091394</td>\n",
       "      <td>65.902083</td>\n",
       "      <td>24.321778</td>\n",
       "    </tr>\n",
       "    <tr>\n",
       "      <th>2002-09-21</th>\n",
       "      <td>-35.411983</td>\n",
       "      <td>20.375372</td>\n",
       "      <td>64.801937</td>\n",
       "      <td>25.713126</td>\n",
       "    </tr>\n",
       "    <tr>\n",
       "      <th>2002-09-22</th>\n",
       "      <td>-33.983026</td>\n",
       "      <td>20.359048</td>\n",
       "      <td>64.160456</td>\n",
       "      <td>25.176090</td>\n",
       "    </tr>\n",
       "    <tr>\n",
       "      <th>2002-09-23</th>\n",
       "      <td>-34.370282</td>\n",
       "      <td>18.839689</td>\n",
       "      <td>65.101812</td>\n",
       "      <td>24.225397</td>\n",
       "    </tr>\n",
       "    <tr>\n",
       "      <th>2002-09-24</th>\n",
       "      <td>-36.023590</td>\n",
       "      <td>20.681170</td>\n",
       "      <td>64.849820</td>\n",
       "      <td>23.371826</td>\n",
       "    </tr>\n",
       "    <tr>\n",
       "      <th>2002-09-25</th>\n",
       "      <td>-34.714326</td>\n",
       "      <td>20.481727</td>\n",
       "      <td>65.599504</td>\n",
       "      <td>21.910573</td>\n",
       "    </tr>\n",
       "    <tr>\n",
       "      <th>2002-09-26</th>\n",
       "      <td>-36.042279</td>\n",
       "      <td>22.062980</td>\n",
       "      <td>64.908051</td>\n",
       "      <td>23.026174</td>\n",
       "    </tr>\n",
       "  </tbody>\n",
       "</table>\n",
       "<p>1000 rows × 4 columns</p>\n",
       "</div>"
      ],
      "text/plain": [
       "                    A          B          C          D\n",
       "2000-01-01  -0.504053  -1.077338  -0.053139  -1.051069\n",
       "2000-01-02  -0.846991  -2.918339  -0.077271  -0.196869\n",
       "2000-01-03  -1.342438  -1.860746  -1.860193  -1.511270\n",
       "2000-01-04  -1.156047  -1.856299  -1.988300  -2.606590\n",
       "2000-01-05  -2.391375  -3.182648  -2.136922  -2.149765\n",
       "2000-01-06  -2.042776  -3.940620  -1.079761  -1.890576\n",
       "2000-01-07  -0.095328  -3.517690  -2.456351  -0.764731\n",
       "2000-01-08   1.273206  -2.770742  -1.817641   0.940298\n",
       "2000-01-09   1.775630  -2.020936  -1.799190   2.872706\n",
       "2000-01-10   1.276832  -3.412842  -1.475195   5.840642\n",
       "2000-01-11   1.617100  -2.793988  -1.364777   6.543445\n",
       "2000-01-12   1.044726  -2.668738  -0.851270   5.707580\n",
       "2000-01-13   1.138526  -4.138288   1.181392   5.087936\n",
       "2000-01-14   1.795503  -3.755181   1.275505   5.675147\n",
       "2000-01-15   4.188119  -5.882114  -1.254115   5.595347\n",
       "2000-01-16   3.672430  -7.998925  -0.948646   5.568939\n",
       "2000-01-17   3.264198  -6.358956   0.758688   7.143664\n",
       "2000-01-18   4.142843  -5.190532  -0.401176   8.754317\n",
       "2000-01-19   5.360193  -4.996969  -0.183363   7.602998\n",
       "2000-01-20   7.129896  -3.874000  -2.038804   7.492083\n",
       "2000-01-21   6.721810  -3.618068  -2.875339   7.043574\n",
       "2000-01-22   8.460928  -4.833476  -1.561800   6.100060\n",
       "2000-01-23   7.326272  -5.742897  -1.867441   6.671807\n",
       "2000-01-24   7.547501  -4.809146  -3.400991   7.349724\n",
       "2000-01-25   7.474599  -4.602331  -3.451116   8.476173\n",
       "2000-01-26   9.091033  -6.131233  -2.017766   9.449509\n",
       "2000-01-27   7.476169  -5.214970  -1.440333   8.690732\n",
       "2000-01-28   8.654651  -5.025932  -1.429212   9.197669\n",
       "2000-01-29   9.383482  -4.020080  -2.045289   7.427789\n",
       "2000-01-30   7.978445  -4.150205  -1.472639   5.841251\n",
       "...               ...        ...        ...        ...\n",
       "2002-08-28 -35.170216  15.389926  63.636222  25.719880\n",
       "2002-08-29 -35.359585  17.248281  63.141259  24.929091\n",
       "2002-08-30 -34.742941  19.369163  62.939781  25.248624\n",
       "2002-08-31 -34.774136  19.401633  64.076971  23.741958\n",
       "2002-09-01 -35.301150  20.961967  61.523110  22.764849\n",
       "2002-09-02 -35.727280  20.344433  60.964601  24.103049\n",
       "2002-09-03 -34.179776  17.955248  60.221282  22.529231\n",
       "2002-09-04 -33.922321  18.576401  61.245723  23.928655\n",
       "2002-09-05 -33.635706  17.562774  61.430697  25.019877\n",
       "2002-09-06 -33.633814  17.868397  61.436187  23.081189\n",
       "2002-09-07 -32.781735  18.122043  62.487123  24.089181\n",
       "2002-09-08 -32.008121  17.715692  64.610007  25.022813\n",
       "2002-09-09 -32.669705  17.726810  65.418384  26.162207\n",
       "2002-09-10 -32.007532  18.047346  66.342338  25.862459\n",
       "2002-09-11 -31.420401  19.173928  65.455559  26.270779\n",
       "2002-09-12 -31.817816  18.338851  65.763364  27.250988\n",
       "2002-09-13 -32.883287  17.867410  65.316803  27.626015\n",
       "2002-09-14 -30.810209  17.793577  64.679719  26.330117\n",
       "2002-09-15 -31.473208  17.214490  63.925052  25.028562\n",
       "2002-09-16 -30.493173  17.794436  64.428776  24.698944\n",
       "2002-09-17 -31.541775  17.236002  64.843257  24.740396\n",
       "2002-09-18 -33.455671  19.248170  65.036755  23.808238\n",
       "2002-09-19 -35.281081  19.070414  64.406978  23.741655\n",
       "2002-09-20 -36.529812  20.091394  65.902083  24.321778\n",
       "2002-09-21 -35.411983  20.375372  64.801937  25.713126\n",
       "2002-09-22 -33.983026  20.359048  64.160456  25.176090\n",
       "2002-09-23 -34.370282  18.839689  65.101812  24.225397\n",
       "2002-09-24 -36.023590  20.681170  64.849820  23.371826\n",
       "2002-09-25 -34.714326  20.481727  65.599504  21.910573\n",
       "2002-09-26 -36.042279  22.062980  64.908051  23.026174\n",
       "\n",
       "[1000 rows x 4 columns]"
      ]
     },
     "execution_count": 144,
     "metadata": {},
     "output_type": "execute_result"
    }
   ],
   "source": [
    "pd.read_hdf('foo.h5','df')"
   ]
  },
  {
   "cell_type": "markdown",
   "metadata": {
    "colab_type": "text",
    "id": "PPEdwZcg3AHk"
   },
   "source": [
    "### Excel\n",
    "[MS Excel](https://pandas.pydata.org/pandas-docs/stable/io.html#io-excel)에 읽고 씁니다. \n",
    "\n",
    "엑셀 파일에 씁니다. \n"
   ]
  },
  {
   "cell_type": "code",
   "execution_count": 145,
   "metadata": {
    "colab": {
     "autoexec": {
      "startup": false,
      "wait_interval": 0
     }
    },
    "colab_type": "code",
    "id": "TcFx1mGk3tdT"
   },
   "outputs": [],
   "source": [
    "df.to_excel('foo.xlsx', sheet_name='Sheet1')"
   ]
  },
  {
   "cell_type": "markdown",
   "metadata": {
    "colab_type": "text",
    "id": "Eqr2I0bk3yDg"
   },
   "source": [
    "엑셀 파일을 읽어옵니다."
   ]
  },
  {
   "cell_type": "code",
   "execution_count": 146,
   "metadata": {
    "colab": {
     "autoexec": {
      "startup": false,
      "wait_interval": 0
     },
     "base_uri": "https://localhost:8080/",
     "height": 1949
    },
    "colab_type": "code",
    "executionInfo": {
     "elapsed": 848,
     "status": "ok",
     "timestamp": 1531794912508,
     "user": {
      "displayName": "정다현",
      "photoUrl": "https://lh3.googleusercontent.com/a/default-user=s128",
      "userId": "108793786663813438778"
     },
     "user_tz": -540
    },
    "id": "znXQzTWX31-1",
    "outputId": "cc3eee2d-545a-4725-b41e-69fdd4832bf3"
   },
   "outputs": [
    {
     "data": {
      "text/html": [
       "<div>\n",
       "<style scoped>\n",
       "    .dataframe tbody tr th:only-of-type {\n",
       "        vertical-align: middle;\n",
       "    }\n",
       "\n",
       "    .dataframe tbody tr th {\n",
       "        vertical-align: top;\n",
       "    }\n",
       "\n",
       "    .dataframe thead th {\n",
       "        text-align: right;\n",
       "    }\n",
       "</style>\n",
       "<table border=\"1\" class=\"dataframe\">\n",
       "  <thead>\n",
       "    <tr style=\"text-align: right;\">\n",
       "      <th></th>\n",
       "      <th>A</th>\n",
       "      <th>B</th>\n",
       "      <th>C</th>\n",
       "      <th>D</th>\n",
       "    </tr>\n",
       "  </thead>\n",
       "  <tbody>\n",
       "    <tr>\n",
       "      <th>2000-01-01</th>\n",
       "      <td>-0.504053</td>\n",
       "      <td>-1.077338</td>\n",
       "      <td>-0.053139</td>\n",
       "      <td>-1.051069</td>\n",
       "    </tr>\n",
       "    <tr>\n",
       "      <th>2000-01-02</th>\n",
       "      <td>-0.846991</td>\n",
       "      <td>-2.918339</td>\n",
       "      <td>-0.077271</td>\n",
       "      <td>-0.196869</td>\n",
       "    </tr>\n",
       "    <tr>\n",
       "      <th>2000-01-03</th>\n",
       "      <td>-1.342438</td>\n",
       "      <td>-1.860746</td>\n",
       "      <td>-1.860193</td>\n",
       "      <td>-1.511270</td>\n",
       "    </tr>\n",
       "    <tr>\n",
       "      <th>2000-01-04</th>\n",
       "      <td>-1.156047</td>\n",
       "      <td>-1.856299</td>\n",
       "      <td>-1.988300</td>\n",
       "      <td>-2.606590</td>\n",
       "    </tr>\n",
       "    <tr>\n",
       "      <th>2000-01-05</th>\n",
       "      <td>-2.391375</td>\n",
       "      <td>-3.182648</td>\n",
       "      <td>-2.136922</td>\n",
       "      <td>-2.149765</td>\n",
       "    </tr>\n",
       "    <tr>\n",
       "      <th>2000-01-06</th>\n",
       "      <td>-2.042776</td>\n",
       "      <td>-3.940620</td>\n",
       "      <td>-1.079761</td>\n",
       "      <td>-1.890576</td>\n",
       "    </tr>\n",
       "    <tr>\n",
       "      <th>2000-01-07</th>\n",
       "      <td>-0.095328</td>\n",
       "      <td>-3.517690</td>\n",
       "      <td>-2.456351</td>\n",
       "      <td>-0.764731</td>\n",
       "    </tr>\n",
       "    <tr>\n",
       "      <th>2000-01-08</th>\n",
       "      <td>1.273206</td>\n",
       "      <td>-2.770742</td>\n",
       "      <td>-1.817641</td>\n",
       "      <td>0.940298</td>\n",
       "    </tr>\n",
       "    <tr>\n",
       "      <th>2000-01-09</th>\n",
       "      <td>1.775630</td>\n",
       "      <td>-2.020936</td>\n",
       "      <td>-1.799190</td>\n",
       "      <td>2.872706</td>\n",
       "    </tr>\n",
       "    <tr>\n",
       "      <th>2000-01-10</th>\n",
       "      <td>1.276832</td>\n",
       "      <td>-3.412842</td>\n",
       "      <td>-1.475195</td>\n",
       "      <td>5.840642</td>\n",
       "    </tr>\n",
       "    <tr>\n",
       "      <th>2000-01-11</th>\n",
       "      <td>1.617100</td>\n",
       "      <td>-2.793988</td>\n",
       "      <td>-1.364777</td>\n",
       "      <td>6.543445</td>\n",
       "    </tr>\n",
       "    <tr>\n",
       "      <th>2000-01-12</th>\n",
       "      <td>1.044726</td>\n",
       "      <td>-2.668738</td>\n",
       "      <td>-0.851270</td>\n",
       "      <td>5.707580</td>\n",
       "    </tr>\n",
       "    <tr>\n",
       "      <th>2000-01-13</th>\n",
       "      <td>1.138526</td>\n",
       "      <td>-4.138288</td>\n",
       "      <td>1.181392</td>\n",
       "      <td>5.087936</td>\n",
       "    </tr>\n",
       "    <tr>\n",
       "      <th>2000-01-14</th>\n",
       "      <td>1.795503</td>\n",
       "      <td>-3.755181</td>\n",
       "      <td>1.275505</td>\n",
       "      <td>5.675147</td>\n",
       "    </tr>\n",
       "    <tr>\n",
       "      <th>2000-01-15</th>\n",
       "      <td>4.188119</td>\n",
       "      <td>-5.882114</td>\n",
       "      <td>-1.254115</td>\n",
       "      <td>5.595347</td>\n",
       "    </tr>\n",
       "    <tr>\n",
       "      <th>2000-01-16</th>\n",
       "      <td>3.672430</td>\n",
       "      <td>-7.998925</td>\n",
       "      <td>-0.948646</td>\n",
       "      <td>5.568939</td>\n",
       "    </tr>\n",
       "    <tr>\n",
       "      <th>2000-01-17</th>\n",
       "      <td>3.264198</td>\n",
       "      <td>-6.358956</td>\n",
       "      <td>0.758688</td>\n",
       "      <td>7.143664</td>\n",
       "    </tr>\n",
       "    <tr>\n",
       "      <th>2000-01-18</th>\n",
       "      <td>4.142843</td>\n",
       "      <td>-5.190532</td>\n",
       "      <td>-0.401176</td>\n",
       "      <td>8.754317</td>\n",
       "    </tr>\n",
       "    <tr>\n",
       "      <th>2000-01-19</th>\n",
       "      <td>5.360193</td>\n",
       "      <td>-4.996969</td>\n",
       "      <td>-0.183363</td>\n",
       "      <td>7.602998</td>\n",
       "    </tr>\n",
       "    <tr>\n",
       "      <th>2000-01-20</th>\n",
       "      <td>7.129896</td>\n",
       "      <td>-3.874000</td>\n",
       "      <td>-2.038804</td>\n",
       "      <td>7.492083</td>\n",
       "    </tr>\n",
       "    <tr>\n",
       "      <th>2000-01-21</th>\n",
       "      <td>6.721810</td>\n",
       "      <td>-3.618068</td>\n",
       "      <td>-2.875339</td>\n",
       "      <td>7.043574</td>\n",
       "    </tr>\n",
       "    <tr>\n",
       "      <th>2000-01-22</th>\n",
       "      <td>8.460928</td>\n",
       "      <td>-4.833476</td>\n",
       "      <td>-1.561800</td>\n",
       "      <td>6.100060</td>\n",
       "    </tr>\n",
       "    <tr>\n",
       "      <th>2000-01-23</th>\n",
       "      <td>7.326272</td>\n",
       "      <td>-5.742897</td>\n",
       "      <td>-1.867441</td>\n",
       "      <td>6.671807</td>\n",
       "    </tr>\n",
       "    <tr>\n",
       "      <th>2000-01-24</th>\n",
       "      <td>7.547501</td>\n",
       "      <td>-4.809146</td>\n",
       "      <td>-3.400991</td>\n",
       "      <td>7.349724</td>\n",
       "    </tr>\n",
       "    <tr>\n",
       "      <th>2000-01-25</th>\n",
       "      <td>7.474599</td>\n",
       "      <td>-4.602331</td>\n",
       "      <td>-3.451116</td>\n",
       "      <td>8.476173</td>\n",
       "    </tr>\n",
       "    <tr>\n",
       "      <th>2000-01-26</th>\n",
       "      <td>9.091033</td>\n",
       "      <td>-6.131233</td>\n",
       "      <td>-2.017766</td>\n",
       "      <td>9.449509</td>\n",
       "    </tr>\n",
       "    <tr>\n",
       "      <th>2000-01-27</th>\n",
       "      <td>7.476169</td>\n",
       "      <td>-5.214970</td>\n",
       "      <td>-1.440333</td>\n",
       "      <td>8.690732</td>\n",
       "    </tr>\n",
       "    <tr>\n",
       "      <th>2000-01-28</th>\n",
       "      <td>8.654651</td>\n",
       "      <td>-5.025932</td>\n",
       "      <td>-1.429212</td>\n",
       "      <td>9.197669</td>\n",
       "    </tr>\n",
       "    <tr>\n",
       "      <th>2000-01-29</th>\n",
       "      <td>9.383482</td>\n",
       "      <td>-4.020080</td>\n",
       "      <td>-2.045289</td>\n",
       "      <td>7.427789</td>\n",
       "    </tr>\n",
       "    <tr>\n",
       "      <th>2000-01-30</th>\n",
       "      <td>7.978445</td>\n",
       "      <td>-4.150205</td>\n",
       "      <td>-1.472639</td>\n",
       "      <td>5.841251</td>\n",
       "    </tr>\n",
       "    <tr>\n",
       "      <th>...</th>\n",
       "      <td>...</td>\n",
       "      <td>...</td>\n",
       "      <td>...</td>\n",
       "      <td>...</td>\n",
       "    </tr>\n",
       "    <tr>\n",
       "      <th>2002-08-28</th>\n",
       "      <td>-35.170216</td>\n",
       "      <td>15.389926</td>\n",
       "      <td>63.636222</td>\n",
       "      <td>25.719880</td>\n",
       "    </tr>\n",
       "    <tr>\n",
       "      <th>2002-08-29</th>\n",
       "      <td>-35.359585</td>\n",
       "      <td>17.248281</td>\n",
       "      <td>63.141259</td>\n",
       "      <td>24.929091</td>\n",
       "    </tr>\n",
       "    <tr>\n",
       "      <th>2002-08-30</th>\n",
       "      <td>-34.742941</td>\n",
       "      <td>19.369163</td>\n",
       "      <td>62.939781</td>\n",
       "      <td>25.248624</td>\n",
       "    </tr>\n",
       "    <tr>\n",
       "      <th>2002-08-31</th>\n",
       "      <td>-34.774136</td>\n",
       "      <td>19.401633</td>\n",
       "      <td>64.076971</td>\n",
       "      <td>23.741958</td>\n",
       "    </tr>\n",
       "    <tr>\n",
       "      <th>2002-09-01</th>\n",
       "      <td>-35.301150</td>\n",
       "      <td>20.961967</td>\n",
       "      <td>61.523110</td>\n",
       "      <td>22.764849</td>\n",
       "    </tr>\n",
       "    <tr>\n",
       "      <th>2002-09-02</th>\n",
       "      <td>-35.727280</td>\n",
       "      <td>20.344433</td>\n",
       "      <td>60.964601</td>\n",
       "      <td>24.103049</td>\n",
       "    </tr>\n",
       "    <tr>\n",
       "      <th>2002-09-03</th>\n",
       "      <td>-34.179776</td>\n",
       "      <td>17.955248</td>\n",
       "      <td>60.221282</td>\n",
       "      <td>22.529231</td>\n",
       "    </tr>\n",
       "    <tr>\n",
       "      <th>2002-09-04</th>\n",
       "      <td>-33.922321</td>\n",
       "      <td>18.576401</td>\n",
       "      <td>61.245723</td>\n",
       "      <td>23.928655</td>\n",
       "    </tr>\n",
       "    <tr>\n",
       "      <th>2002-09-05</th>\n",
       "      <td>-33.635706</td>\n",
       "      <td>17.562774</td>\n",
       "      <td>61.430697</td>\n",
       "      <td>25.019877</td>\n",
       "    </tr>\n",
       "    <tr>\n",
       "      <th>2002-09-06</th>\n",
       "      <td>-33.633814</td>\n",
       "      <td>17.868397</td>\n",
       "      <td>61.436187</td>\n",
       "      <td>23.081189</td>\n",
       "    </tr>\n",
       "    <tr>\n",
       "      <th>2002-09-07</th>\n",
       "      <td>-32.781735</td>\n",
       "      <td>18.122043</td>\n",
       "      <td>62.487123</td>\n",
       "      <td>24.089181</td>\n",
       "    </tr>\n",
       "    <tr>\n",
       "      <th>2002-09-08</th>\n",
       "      <td>-32.008121</td>\n",
       "      <td>17.715692</td>\n",
       "      <td>64.610007</td>\n",
       "      <td>25.022813</td>\n",
       "    </tr>\n",
       "    <tr>\n",
       "      <th>2002-09-09</th>\n",
       "      <td>-32.669705</td>\n",
       "      <td>17.726810</td>\n",
       "      <td>65.418384</td>\n",
       "      <td>26.162207</td>\n",
       "    </tr>\n",
       "    <tr>\n",
       "      <th>2002-09-10</th>\n",
       "      <td>-32.007532</td>\n",
       "      <td>18.047346</td>\n",
       "      <td>66.342338</td>\n",
       "      <td>25.862459</td>\n",
       "    </tr>\n",
       "    <tr>\n",
       "      <th>2002-09-11</th>\n",
       "      <td>-31.420401</td>\n",
       "      <td>19.173928</td>\n",
       "      <td>65.455559</td>\n",
       "      <td>26.270779</td>\n",
       "    </tr>\n",
       "    <tr>\n",
       "      <th>2002-09-12</th>\n",
       "      <td>-31.817816</td>\n",
       "      <td>18.338851</td>\n",
       "      <td>65.763364</td>\n",
       "      <td>27.250988</td>\n",
       "    </tr>\n",
       "    <tr>\n",
       "      <th>2002-09-13</th>\n",
       "      <td>-32.883287</td>\n",
       "      <td>17.867410</td>\n",
       "      <td>65.316803</td>\n",
       "      <td>27.626015</td>\n",
       "    </tr>\n",
       "    <tr>\n",
       "      <th>2002-09-14</th>\n",
       "      <td>-30.810209</td>\n",
       "      <td>17.793577</td>\n",
       "      <td>64.679719</td>\n",
       "      <td>26.330117</td>\n",
       "    </tr>\n",
       "    <tr>\n",
       "      <th>2002-09-15</th>\n",
       "      <td>-31.473208</td>\n",
       "      <td>17.214490</td>\n",
       "      <td>63.925052</td>\n",
       "      <td>25.028562</td>\n",
       "    </tr>\n",
       "    <tr>\n",
       "      <th>2002-09-16</th>\n",
       "      <td>-30.493173</td>\n",
       "      <td>17.794436</td>\n",
       "      <td>64.428776</td>\n",
       "      <td>24.698944</td>\n",
       "    </tr>\n",
       "    <tr>\n",
       "      <th>2002-09-17</th>\n",
       "      <td>-31.541775</td>\n",
       "      <td>17.236002</td>\n",
       "      <td>64.843257</td>\n",
       "      <td>24.740396</td>\n",
       "    </tr>\n",
       "    <tr>\n",
       "      <th>2002-09-18</th>\n",
       "      <td>-33.455671</td>\n",
       "      <td>19.248170</td>\n",
       "      <td>65.036755</td>\n",
       "      <td>23.808238</td>\n",
       "    </tr>\n",
       "    <tr>\n",
       "      <th>2002-09-19</th>\n",
       "      <td>-35.281081</td>\n",
       "      <td>19.070414</td>\n",
       "      <td>64.406978</td>\n",
       "      <td>23.741655</td>\n",
       "    </tr>\n",
       "    <tr>\n",
       "      <th>2002-09-20</th>\n",
       "      <td>-36.529812</td>\n",
       "      <td>20.091394</td>\n",
       "      <td>65.902083</td>\n",
       "      <td>24.321778</td>\n",
       "    </tr>\n",
       "    <tr>\n",
       "      <th>2002-09-21</th>\n",
       "      <td>-35.411983</td>\n",
       "      <td>20.375372</td>\n",
       "      <td>64.801937</td>\n",
       "      <td>25.713126</td>\n",
       "    </tr>\n",
       "    <tr>\n",
       "      <th>2002-09-22</th>\n",
       "      <td>-33.983026</td>\n",
       "      <td>20.359048</td>\n",
       "      <td>64.160456</td>\n",
       "      <td>25.176090</td>\n",
       "    </tr>\n",
       "    <tr>\n",
       "      <th>2002-09-23</th>\n",
       "      <td>-34.370282</td>\n",
       "      <td>18.839689</td>\n",
       "      <td>65.101812</td>\n",
       "      <td>24.225397</td>\n",
       "    </tr>\n",
       "    <tr>\n",
       "      <th>2002-09-24</th>\n",
       "      <td>-36.023590</td>\n",
       "      <td>20.681170</td>\n",
       "      <td>64.849820</td>\n",
       "      <td>23.371826</td>\n",
       "    </tr>\n",
       "    <tr>\n",
       "      <th>2002-09-25</th>\n",
       "      <td>-34.714326</td>\n",
       "      <td>20.481727</td>\n",
       "      <td>65.599504</td>\n",
       "      <td>21.910573</td>\n",
       "    </tr>\n",
       "    <tr>\n",
       "      <th>2002-09-26</th>\n",
       "      <td>-36.042279</td>\n",
       "      <td>22.062980</td>\n",
       "      <td>64.908051</td>\n",
       "      <td>23.026174</td>\n",
       "    </tr>\n",
       "  </tbody>\n",
       "</table>\n",
       "<p>1000 rows × 4 columns</p>\n",
       "</div>"
      ],
      "text/plain": [
       "                    A          B          C          D\n",
       "2000-01-01  -0.504053  -1.077338  -0.053139  -1.051069\n",
       "2000-01-02  -0.846991  -2.918339  -0.077271  -0.196869\n",
       "2000-01-03  -1.342438  -1.860746  -1.860193  -1.511270\n",
       "2000-01-04  -1.156047  -1.856299  -1.988300  -2.606590\n",
       "2000-01-05  -2.391375  -3.182648  -2.136922  -2.149765\n",
       "2000-01-06  -2.042776  -3.940620  -1.079761  -1.890576\n",
       "2000-01-07  -0.095328  -3.517690  -2.456351  -0.764731\n",
       "2000-01-08   1.273206  -2.770742  -1.817641   0.940298\n",
       "2000-01-09   1.775630  -2.020936  -1.799190   2.872706\n",
       "2000-01-10   1.276832  -3.412842  -1.475195   5.840642\n",
       "2000-01-11   1.617100  -2.793988  -1.364777   6.543445\n",
       "2000-01-12   1.044726  -2.668738  -0.851270   5.707580\n",
       "2000-01-13   1.138526  -4.138288   1.181392   5.087936\n",
       "2000-01-14   1.795503  -3.755181   1.275505   5.675147\n",
       "2000-01-15   4.188119  -5.882114  -1.254115   5.595347\n",
       "2000-01-16   3.672430  -7.998925  -0.948646   5.568939\n",
       "2000-01-17   3.264198  -6.358956   0.758688   7.143664\n",
       "2000-01-18   4.142843  -5.190532  -0.401176   8.754317\n",
       "2000-01-19   5.360193  -4.996969  -0.183363   7.602998\n",
       "2000-01-20   7.129896  -3.874000  -2.038804   7.492083\n",
       "2000-01-21   6.721810  -3.618068  -2.875339   7.043574\n",
       "2000-01-22   8.460928  -4.833476  -1.561800   6.100060\n",
       "2000-01-23   7.326272  -5.742897  -1.867441   6.671807\n",
       "2000-01-24   7.547501  -4.809146  -3.400991   7.349724\n",
       "2000-01-25   7.474599  -4.602331  -3.451116   8.476173\n",
       "2000-01-26   9.091033  -6.131233  -2.017766   9.449509\n",
       "2000-01-27   7.476169  -5.214970  -1.440333   8.690732\n",
       "2000-01-28   8.654651  -5.025932  -1.429212   9.197669\n",
       "2000-01-29   9.383482  -4.020080  -2.045289   7.427789\n",
       "2000-01-30   7.978445  -4.150205  -1.472639   5.841251\n",
       "...               ...        ...        ...        ...\n",
       "2002-08-28 -35.170216  15.389926  63.636222  25.719880\n",
       "2002-08-29 -35.359585  17.248281  63.141259  24.929091\n",
       "2002-08-30 -34.742941  19.369163  62.939781  25.248624\n",
       "2002-08-31 -34.774136  19.401633  64.076971  23.741958\n",
       "2002-09-01 -35.301150  20.961967  61.523110  22.764849\n",
       "2002-09-02 -35.727280  20.344433  60.964601  24.103049\n",
       "2002-09-03 -34.179776  17.955248  60.221282  22.529231\n",
       "2002-09-04 -33.922321  18.576401  61.245723  23.928655\n",
       "2002-09-05 -33.635706  17.562774  61.430697  25.019877\n",
       "2002-09-06 -33.633814  17.868397  61.436187  23.081189\n",
       "2002-09-07 -32.781735  18.122043  62.487123  24.089181\n",
       "2002-09-08 -32.008121  17.715692  64.610007  25.022813\n",
       "2002-09-09 -32.669705  17.726810  65.418384  26.162207\n",
       "2002-09-10 -32.007532  18.047346  66.342338  25.862459\n",
       "2002-09-11 -31.420401  19.173928  65.455559  26.270779\n",
       "2002-09-12 -31.817816  18.338851  65.763364  27.250988\n",
       "2002-09-13 -32.883287  17.867410  65.316803  27.626015\n",
       "2002-09-14 -30.810209  17.793577  64.679719  26.330117\n",
       "2002-09-15 -31.473208  17.214490  63.925052  25.028562\n",
       "2002-09-16 -30.493173  17.794436  64.428776  24.698944\n",
       "2002-09-17 -31.541775  17.236002  64.843257  24.740396\n",
       "2002-09-18 -33.455671  19.248170  65.036755  23.808238\n",
       "2002-09-19 -35.281081  19.070414  64.406978  23.741655\n",
       "2002-09-20 -36.529812  20.091394  65.902083  24.321778\n",
       "2002-09-21 -35.411983  20.375372  64.801937  25.713126\n",
       "2002-09-22 -33.983026  20.359048  64.160456  25.176090\n",
       "2002-09-23 -34.370282  18.839689  65.101812  24.225397\n",
       "2002-09-24 -36.023590  20.681170  64.849820  23.371826\n",
       "2002-09-25 -34.714326  20.481727  65.599504  21.910573\n",
       "2002-09-26 -36.042279  22.062980  64.908051  23.026174\n",
       "\n",
       "[1000 rows x 4 columns]"
      ]
     },
     "execution_count": 146,
     "metadata": {},
     "output_type": "execute_result"
    }
   ],
   "source": [
    "pd.read_excel('foo.xlsx', 'Sheet1', index_col=None, na_values=['NA'])"
   ]
  },
  {
   "cell_type": "markdown",
   "metadata": {
    "colab_type": "text",
    "id": "fBibp76_3IjV"
   },
   "source": [
    "## Gotchas (들켰지!)"
   ]
  },
  {
   "cell_type": "markdown",
   "metadata": {
    "colab_type": "text",
    "id": "IwTGemuB31es"
   },
   "source": [
    "연산을 수행하기 위해 시도하면 다음과 같은 예외 상황을 볼 수도 있습니다."
   ]
  },
  {
   "cell_type": "code",
   "execution_count": 147,
   "metadata": {
    "colab": {
     "autoexec": {
      "startup": false,
      "wait_interval": 0
     }
    },
    "colab_type": "code",
    "id": "7Pl6ilbuLNju",
    "outputId": "bacf7033-4d39-418f-d128-a25eb517b02a"
   },
   "outputs": [
    {
     "ename": "ValueError",
     "evalue": "The truth value of a Series is ambiguous. Use a.empty, a.bool(), a.item(), a.any() or a.all().",
     "output_type": "error",
     "traceback": [
      "\u001b[1;31m---------------------------------------------------------------------------\u001b[0m",
      "\u001b[1;31mValueError\u001b[0m                                Traceback (most recent call last)",
      "\u001b[1;32m<ipython-input-147-5c782b38cd2f>\u001b[0m in \u001b[0;36m<module>\u001b[1;34m()\u001b[0m\n\u001b[1;32m----> 1\u001b[1;33m \u001b[1;32mif\u001b[0m \u001b[0mpd\u001b[0m\u001b[1;33m.\u001b[0m\u001b[0mSeries\u001b[0m\u001b[1;33m(\u001b[0m\u001b[1;33m[\u001b[0m\u001b[1;32mFalse\u001b[0m\u001b[1;33m,\u001b[0m \u001b[1;32mTrue\u001b[0m\u001b[1;33m,\u001b[0m \u001b[1;32mFalse\u001b[0m\u001b[1;33m]\u001b[0m\u001b[1;33m)\u001b[0m\u001b[1;33m:\u001b[0m\u001b[1;33m\u001b[0m\u001b[0m\n\u001b[0m\u001b[0;32m      2\u001b[0m     \u001b[0mprint\u001b[0m\u001b[1;33m(\u001b[0m\u001b[1;34m\"I was true\"\u001b[0m\u001b[1;33m)\u001b[0m\u001b[1;33m\u001b[0m\u001b[0m\n",
      "\u001b[1;32mC:\\ProgramData\\Anaconda3\\lib\\site-packages\\pandas\\core\\generic.py\u001b[0m in \u001b[0;36m__nonzero__\u001b[1;34m(self)\u001b[0m\n\u001b[0;32m   1571\u001b[0m         raise ValueError(\"The truth value of a {0} is ambiguous. \"\n\u001b[0;32m   1572\u001b[0m                          \u001b[1;34m\"Use a.empty, a.bool(), a.item(), a.any() or a.all().\"\u001b[0m\u001b[1;33m\u001b[0m\u001b[0m\n\u001b[1;32m-> 1573\u001b[1;33m                          .format(self.__class__.__name__))\n\u001b[0m\u001b[0;32m   1574\u001b[0m \u001b[1;33m\u001b[0m\u001b[0m\n\u001b[0;32m   1575\u001b[0m     \u001b[0m__bool__\u001b[0m \u001b[1;33m=\u001b[0m \u001b[0m__nonzero__\u001b[0m\u001b[1;33m\u001b[0m\u001b[0m\n",
      "\u001b[1;31mValueError\u001b[0m: The truth value of a Series is ambiguous. Use a.empty, a.bool(), a.item(), a.any() or a.all()."
     ]
    }
   ],
   "source": [
    "if pd.Series([False, True, False]):\n",
    "    print(\"I was true\")"
   ]
  },
  {
   "cell_type": "markdown",
   "metadata": {
    "colab_type": "text",
    "id": "8wpBt_ePLNjy"
   },
   "source": [
    "설명과 무엇을 해야하는지에 대해서는 [비교](https://pandas.pydata.org/pandas-docs/stable/basics.html#basics-compare) 부분을 참조하세요.\n",
    "\n",
    "[Gotchas](https://pandas.pydata.org/pandas-docs/stable/gotchas.html#gotchas) 부분도 참조하세요.\n",
    "\n",
    "*역자 주 : [판다스 개발자인 웨스 매키니가 PyCon Korea 2016에서 발표했던 Keynote](https://www.youtube.com/watch?v=O5uFF1H0R0M)도 참조하세요.*"
   ]
  }
 ],
 "metadata": {
  "accelerator": "GPU",
  "colab": {
   "collapsed_sections": [
    "3Gqmfx7oox22",
    "DeXaTXAdp6ne",
    "izNpv79bsGV7",
    "v7BFmgcRLNif",
    "qTihaKMQLNjE",
    "ZYenx0CU2Lvc"
   ],
   "default_view": {},
   "name": "index.ipynb",
   "provenance": [
    {
     "file_id": "1mTikbQ3t91wuldPLPiSTo5hPiH3DfV2j",
     "timestamp": 1531746201600
    }
   ],
   "version": "0.3.2",
   "views": {}
  },
  "kernelspec": {
   "display_name": "Python 3",
   "language": "python",
   "name": "python3"
  },
  "language_info": {
   "codemirror_mode": {
    "name": "ipython",
    "version": 3
   },
   "file_extension": ".py",
   "mimetype": "text/x-python",
   "name": "python",
   "nbconvert_exporter": "python",
   "pygments_lexer": "ipython3",
   "version": "3.6.5"
  }
 },
 "nbformat": 4,
 "nbformat_minor": 1
}
