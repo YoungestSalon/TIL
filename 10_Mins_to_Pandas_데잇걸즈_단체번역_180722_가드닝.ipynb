{
  "nbformat": 4,
  "nbformat_minor": 0,
  "metadata": {
    "colab": {
      "name": "10 Mins to Pandas_데잇걸즈 단체번역_180722 가드닝.ipynb",
      "version": "0.3.2",
      "provenance": [],
      "collapsed_sections": [
        "3Gqmfx7oox22",
        "DeXaTXAdp6ne",
        "izNpv79bsGV7",
        "v7BFmgcRLNif",
        "qTihaKMQLNjE",
        "ZYenx0CU2Lvc"
      ],
      "include_colab_link": true
    },
    "kernelspec": {
      "display_name": "Python 3",
      "language": "python",
      "name": "python3"
    },
    "accelerator": "GPU"
  },
  "cells": [
    {
      "cell_type": "markdown",
      "metadata": {
        "id": "view-in-github",
        "colab_type": "text"
      },
      "source": [
        "[View in Colaboratory](https://colab.research.google.com/github/YoungestSalon/TIL/blob/master/10_Mins_to_Pandas_%EB%8D%B0%EC%9E%87%EA%B1%B8%EC%A6%88_%EB%8B%A8%EC%B2%B4%EB%B2%88%EC%97%AD_180722_%EA%B0%80%EB%93%9C%EB%8B%9D.ipynb)"
      ]
    },
    {
      "metadata": {
        "id": "_SA4MsmkCMEL",
        "colab_type": "text"
      },
      "cell_type": "markdown",
      "source": [
        "# Pandas 10분 완성"
      ]
    },
    {
      "metadata": {
        "id": "q3iuQdonkHB5",
        "colab_type": "text"
      },
      "cell_type": "markdown",
      "source": [
        "*역자 주 : 원문은 [링크](https://pandas.pydata.org/pandas-docs/stable/10min.html)를 참조하세요.*"
      ]
    },
    {
      "metadata": {
        "id": "6vTEdOiaLNf5",
        "colab_type": "text"
      },
      "cell_type": "markdown",
      "source": [
        "이 소개서는 주로 신규 사용자를 대상으로 한 판다스에 대한 간략한 소개입니다. 더 복잡한 방법은 [Cookbook](https://pandas.pydata.org/pandas-docs/stable/cookbook.html#cookbook) 에서 볼 수 있습니다.\n",
        "\n",
        "\n",
        "일반적으로 다음과 같이 불러옵니다."
      ]
    },
    {
      "metadata": {
        "id": "u8AvydKWLNf6",
        "colab_type": "code",
        "colab": {}
      },
      "cell_type": "code",
      "source": [
        "import pandas as pd"
      ],
      "execution_count": 0,
      "outputs": []
    },
    {
      "metadata": {
        "id": "gt_2tMD2LNf9",
        "colab_type": "code",
        "colab": {}
      },
      "cell_type": "code",
      "source": [
        "import numpy as np"
      ],
      "execution_count": 0,
      "outputs": []
    },
    {
      "metadata": {
        "id": "y6Eq4MTnLNf_",
        "colab_type": "code",
        "colab": {}
      },
      "cell_type": "code",
      "source": [
        "import matplotlib.pyplot as plt"
      ],
      "execution_count": 0,
      "outputs": []
    },
    {
      "metadata": {
        "id": "X9rrAHzu2Vab",
        "colab_type": "text"
      },
      "cell_type": "markdown",
      "source": [
        "## Object Creation (객체 생성)"
      ]
    },
    {
      "metadata": {
        "id": "5hgd3fkZ3DKl",
        "colab_type": "text"
      },
      "cell_type": "markdown",
      "source": [
        "[데이터 구조 소개 섹션](https://pandas.pydata.org/pandas-docs/stable/dsintro.html#dsintro)을 참조하세요.\n",
        "\n",
        "pandas는 값을 가지고 있는 리스트를 통해 [시리즈](https://pandas.pydata.org/pandas-docs/stable/generated/pandas.Series.html#pandas.Series)를 만들고, 정수로 만들어진 인덱스를 기본값으로 불러올 것입니다."
      ]
    },
    {
      "metadata": {
        "id": "qg9Rcvn83IIA",
        "colab_type": "code",
        "colab": {}
      },
      "cell_type": "code",
      "source": [
        "s = pd.Series([1,3,5,np.nan,6,8])"
      ],
      "execution_count": 0,
      "outputs": []
    },
    {
      "metadata": {
        "id": "ulVQdi2w3J98",
        "colab_type": "code",
        "colab": {
          "base_uri": "https://localhost:8080/",
          "height": 143
        },
        "outputId": "c80a4d58-75df-471f-88bb-924d3ff39621"
      },
      "cell_type": "code",
      "source": [
        "s"
      ],
      "execution_count": 5,
      "outputs": [
        {
          "output_type": "execute_result",
          "data": {
            "text/plain": [
              "0    1.0\n",
              "1    3.0\n",
              "2    5.0\n",
              "3    NaN\n",
              "4    6.0\n",
              "5    8.0\n",
              "dtype: float64"
            ]
          },
          "metadata": {
            "tags": []
          },
          "execution_count": 5
        }
      ]
    },
    {
      "metadata": {
        "id": "lea8Y7Rq3tWL",
        "colab_type": "text"
      },
      "cell_type": "markdown",
      "source": [
        "datetime 인덱스와 레이블이 있는 열을 가지고 있는 NumPy 배열을 전달하여 데이터프레임을 만듭니다."
      ]
    },
    {
      "metadata": {
        "id": "Cj4sCmrH3R71",
        "colab_type": "code",
        "colab": {}
      },
      "cell_type": "code",
      "source": [
        "dates = pd.date_range('20130101', periods=6)"
      ],
      "execution_count": 0,
      "outputs": []
    },
    {
      "metadata": {
        "id": "yM54opp63Sfg",
        "colab_type": "code",
        "colab": {
          "base_uri": "https://localhost:8080/",
          "height": 71
        },
        "outputId": "1b4bc193-6769-4e47-ef04-ea7a4f9dad53"
      },
      "cell_type": "code",
      "source": [
        "dates"
      ],
      "execution_count": 7,
      "outputs": [
        {
          "output_type": "execute_result",
          "data": {
            "text/plain": [
              "DatetimeIndex(['2013-01-01', '2013-01-02', '2013-01-03', '2013-01-04',\n",
              "               '2013-01-05', '2013-01-06'],\n",
              "              dtype='datetime64[ns]', freq='D')"
            ]
          },
          "metadata": {
            "tags": []
          },
          "execution_count": 7
        }
      ]
    },
    {
      "metadata": {
        "id": "YQCGP5R43XVT",
        "colab_type": "code",
        "colab": {}
      },
      "cell_type": "code",
      "source": [
        "df = pd.DataFrame(np.random.randn(6,4), index=dates, columns=list('ABCD'))"
      ],
      "execution_count": 0,
      "outputs": []
    },
    {
      "metadata": {
        "id": "fkU_8Hwg3ZTg",
        "colab_type": "code",
        "colab": {
          "base_uri": "https://localhost:8080/",
          "height": 235
        },
        "outputId": "456ffa6a-06ca-427a-f6ae-412f18f2feab"
      },
      "cell_type": "code",
      "source": [
        "df"
      ],
      "execution_count": 9,
      "outputs": [
        {
          "output_type": "execute_result",
          "data": {
            "text/html": [
              "<div>\n",
              "<style scoped>\n",
              "    .dataframe tbody tr th:only-of-type {\n",
              "        vertical-align: middle;\n",
              "    }\n",
              "\n",
              "    .dataframe tbody tr th {\n",
              "        vertical-align: top;\n",
              "    }\n",
              "\n",
              "    .dataframe thead th {\n",
              "        text-align: right;\n",
              "    }\n",
              "</style>\n",
              "<table border=\"1\" class=\"dataframe\">\n",
              "  <thead>\n",
              "    <tr style=\"text-align: right;\">\n",
              "      <th></th>\n",
              "      <th>A</th>\n",
              "      <th>B</th>\n",
              "      <th>C</th>\n",
              "      <th>D</th>\n",
              "    </tr>\n",
              "  </thead>\n",
              "  <tbody>\n",
              "    <tr>\n",
              "      <th>2013-01-01</th>\n",
              "      <td>-3.059903</td>\n",
              "      <td>-0.749902</td>\n",
              "      <td>0.884566</td>\n",
              "      <td>-1.598847</td>\n",
              "    </tr>\n",
              "    <tr>\n",
              "      <th>2013-01-02</th>\n",
              "      <td>1.693356</td>\n",
              "      <td>0.465537</td>\n",
              "      <td>-1.061198</td>\n",
              "      <td>1.472685</td>\n",
              "    </tr>\n",
              "    <tr>\n",
              "      <th>2013-01-03</th>\n",
              "      <td>-0.138560</td>\n",
              "      <td>-0.106861</td>\n",
              "      <td>1.919986</td>\n",
              "      <td>-0.299081</td>\n",
              "    </tr>\n",
              "    <tr>\n",
              "      <th>2013-01-04</th>\n",
              "      <td>0.492017</td>\n",
              "      <td>0.443992</td>\n",
              "      <td>1.233379</td>\n",
              "      <td>1.030488</td>\n",
              "    </tr>\n",
              "    <tr>\n",
              "      <th>2013-01-05</th>\n",
              "      <td>0.461682</td>\n",
              "      <td>0.507397</td>\n",
              "      <td>-0.095607</td>\n",
              "      <td>-0.170903</td>\n",
              "    </tr>\n",
              "    <tr>\n",
              "      <th>2013-01-06</th>\n",
              "      <td>1.092195</td>\n",
              "      <td>0.105868</td>\n",
              "      <td>-1.812553</td>\n",
              "      <td>0.557987</td>\n",
              "    </tr>\n",
              "  </tbody>\n",
              "</table>\n",
              "</div>"
            ],
            "text/plain": [
              "                   A         B         C         D\n",
              "2013-01-01 -3.059903 -0.749902  0.884566 -1.598847\n",
              "2013-01-02  1.693356  0.465537 -1.061198  1.472685\n",
              "2013-01-03 -0.138560 -0.106861  1.919986 -0.299081\n",
              "2013-01-04  0.492017  0.443992  1.233379  1.030488\n",
              "2013-01-05  0.461682  0.507397 -0.095607 -0.170903\n",
              "2013-01-06  1.092195  0.105868 -1.812553  0.557987"
            ]
          },
          "metadata": {
            "tags": []
          },
          "execution_count": 9
        }
      ]
    },
    {
      "metadata": {
        "id": "rYnipdkELNgC",
        "colab_type": "text"
      },
      "cell_type": "markdown",
      "source": [
        "시리즈와 같은 것으로 변환될 수 있는 객체들의 dict로 구성된 데이터프레임을 만듭니다."
      ]
    },
    {
      "metadata": {
        "id": "cKpPtOIVLNgC",
        "colab_type": "code",
        "colab": {}
      },
      "cell_type": "code",
      "source": [
        "df2 = pd.DataFrame({'A' : 1.,\n",
        "                    'B' : pd.Timestamp('20130102'),\n",
        "                    'C' : pd.Series(1,index=list(range(4)),dtype='float32'),\n",
        "                    'D' : np.array([3] * 4,dtype='int32'),\n",
        "                    'E' : pd.Categorical([\"test\",\"train\",\"test\",\"train\"]),\n",
        "                    'F' : 'foo' })"
      ],
      "execution_count": 0,
      "outputs": []
    },
    {
      "metadata": {
        "id": "QDm61ULjLNgE",
        "colab_type": "code",
        "colab": {
          "base_uri": "https://localhost:8080/",
          "height": 173
        },
        "outputId": "5415e667-1330-4f3f-d60f-29a99585888c"
      },
      "cell_type": "code",
      "source": [
        "df2"
      ],
      "execution_count": 11,
      "outputs": [
        {
          "output_type": "execute_result",
          "data": {
            "text/html": [
              "<div>\n",
              "<style scoped>\n",
              "    .dataframe tbody tr th:only-of-type {\n",
              "        vertical-align: middle;\n",
              "    }\n",
              "\n",
              "    .dataframe tbody tr th {\n",
              "        vertical-align: top;\n",
              "    }\n",
              "\n",
              "    .dataframe thead th {\n",
              "        text-align: right;\n",
              "    }\n",
              "</style>\n",
              "<table border=\"1\" class=\"dataframe\">\n",
              "  <thead>\n",
              "    <tr style=\"text-align: right;\">\n",
              "      <th></th>\n",
              "      <th>A</th>\n",
              "      <th>B</th>\n",
              "      <th>C</th>\n",
              "      <th>D</th>\n",
              "      <th>E</th>\n",
              "      <th>F</th>\n",
              "    </tr>\n",
              "  </thead>\n",
              "  <tbody>\n",
              "    <tr>\n",
              "      <th>0</th>\n",
              "      <td>1.0</td>\n",
              "      <td>2013-01-02</td>\n",
              "      <td>1.0</td>\n",
              "      <td>3</td>\n",
              "      <td>test</td>\n",
              "      <td>foo</td>\n",
              "    </tr>\n",
              "    <tr>\n",
              "      <th>1</th>\n",
              "      <td>1.0</td>\n",
              "      <td>2013-01-02</td>\n",
              "      <td>1.0</td>\n",
              "      <td>3</td>\n",
              "      <td>train</td>\n",
              "      <td>foo</td>\n",
              "    </tr>\n",
              "    <tr>\n",
              "      <th>2</th>\n",
              "      <td>1.0</td>\n",
              "      <td>2013-01-02</td>\n",
              "      <td>1.0</td>\n",
              "      <td>3</td>\n",
              "      <td>test</td>\n",
              "      <td>foo</td>\n",
              "    </tr>\n",
              "    <tr>\n",
              "      <th>3</th>\n",
              "      <td>1.0</td>\n",
              "      <td>2013-01-02</td>\n",
              "      <td>1.0</td>\n",
              "      <td>3</td>\n",
              "      <td>train</td>\n",
              "      <td>foo</td>\n",
              "    </tr>\n",
              "  </tbody>\n",
              "</table>\n",
              "</div>"
            ],
            "text/plain": [
              "     A          B    C  D      E    F\n",
              "0  1.0 2013-01-02  1.0  3   test  foo\n",
              "1  1.0 2013-01-02  1.0  3  train  foo\n",
              "2  1.0 2013-01-02  1.0  3   test  foo\n",
              "3  1.0 2013-01-02  1.0  3  train  foo"
            ]
          },
          "metadata": {
            "tags": []
          },
          "execution_count": 11
        }
      ]
    },
    {
      "metadata": {
        "id": "Hlagj-SMLNgI",
        "colab_type": "text"
      },
      "cell_type": "markdown",
      "source": [
        "데이터프레임 결과물의 열은 다양한 데이터 타입(dtypes)으로 구성됩니다."
      ]
    },
    {
      "metadata": {
        "id": "eFzVncepLNgJ",
        "colab_type": "code",
        "colab": {
          "base_uri": "https://localhost:8080/",
          "height": 143
        },
        "outputId": "a045d6d4-4d74-47a1-f9ee-7b4318abb9de"
      },
      "cell_type": "code",
      "source": [
        "df2.dtypes"
      ],
      "execution_count": 12,
      "outputs": [
        {
          "output_type": "execute_result",
          "data": {
            "text/plain": [
              "A           float64\n",
              "B    datetime64[ns]\n",
              "C           float32\n",
              "D             int32\n",
              "E          category\n",
              "F            object\n",
              "dtype: object"
            ]
          },
          "metadata": {
            "tags": []
          },
          "execution_count": 12
        }
      ]
    },
    {
      "metadata": {
        "id": "oOt1V164LNgN",
        "colab_type": "text"
      },
      "cell_type": "markdown",
      "source": [
        "IPython을 이용하고 계시다면, (공용 속성을 포함한) 열 이름에 대한 Tap 자동완성 기능이 자동으로 활성화됩니다. <br>\n",
        "다음은 완성될 속성에 대한 부분집합(subset)입니다. \n",
        "\n",
        "*역자 주 : 하기 코드의 경우, IPython이 아닌 환경(Google Colaboratory, Jupyter 등)에서는 사용이 불가능한 코드인 점에 주의하세요.*"
      ]
    },
    {
      "metadata": {
        "id": "Me53oH4ZkZHt",
        "colab_type": "code",
        "colab": {}
      },
      "cell_type": "code",
      "source": [
        "# df2.<TAB>"
      ],
      "execution_count": 0,
      "outputs": []
    },
    {
      "metadata": {
        "id": "Itt3P3rQ5DV-",
        "colab_type": "text"
      },
      "cell_type": "markdown",
      "source": [
        "*역자 주 : IPython에서 실행하면 다음과 같은 결과값이 나옵니다.*\n",
        "\n",
        "```\n",
        "df2.A                  df2.bool\n",
        "df2.abs                df2.boxplot\n",
        "df2.add                df2.C\n",
        "df2.add_prefix         df2.clip\n",
        "df2.add_suffix         df2.clip_lower\n",
        "df2.align              df2.clip_upper\n",
        "df2.all                df2.columns\n",
        "df2.any                df2.combine\n",
        "df2.append             df2.combine_first\n",
        "df2.apply              df2.compound\n",
        "df2.applymap           df2.consolidate\n",
        "df2.D\n",
        "```"
      ]
    },
    {
      "metadata": {
        "id": "YHLdSINuLNgS",
        "colab_type": "text"
      },
      "cell_type": "markdown",
      "source": [
        "보시다시피, A, B, C 그리고 D 열이 Tab 자동완성 기능으로 실행됩니다. 물론 E도 있습니다. 나머지 속성들은 간결하게 잘라버렸습니다. "
      ]
    },
    {
      "metadata": {
        "id": "lkJcyM0ILNgT",
        "colab_type": "text"
      },
      "cell_type": "markdown",
      "source": [
        "## Viewing Data(데이터 확인하기)"
      ]
    },
    {
      "metadata": {
        "id": "2108prOVLNgY",
        "colab_type": "text"
      },
      "cell_type": "markdown",
      "source": [
        "[Basic Section](https://pandas.pydata.org/pandas-docs/stable/basics.html#basics)을 참조하세요.\n",
        "\n",
        "데이터프레임의 가장 윗 줄과 마지막 줄을 확인하고 싶을 때에 사용하는 방법은 다음과 같습니다. <br>\n",
        "\n",
        "*역자 주 <br>\n",
        "괄호()안에는 숫자가 들어갈 수도 있고 안 들어갈 수도 있습니다. <br>\n",
        "숫자가 들어간다면, 윗/마지막 줄의 특정 줄을 불러올 수 있습니다. <br>\n",
        "숫자가 들어가지 않다면, 기본값인 5로 처리됩니다.*\n",
        "\n",
        "*예시 <br>\n",
        "df.tail(3) - 끝에서 마지막 3줄을 불러옴 <br>\n",
        "df.tail() - 끝에서 마지막 5줄 불러옴*"
      ]
    },
    {
      "metadata": {
        "id": "bW82qnwBLNga",
        "colab_type": "code",
        "colab": {
          "base_uri": "https://localhost:8080/",
          "height": 204
        },
        "outputId": "fc91d05a-3894-48c7-fcb7-b2a7e6298580"
      },
      "cell_type": "code",
      "source": [
        "df.head()"
      ],
      "execution_count": 14,
      "outputs": [
        {
          "output_type": "execute_result",
          "data": {
            "text/html": [
              "<div>\n",
              "<style scoped>\n",
              "    .dataframe tbody tr th:only-of-type {\n",
              "        vertical-align: middle;\n",
              "    }\n",
              "\n",
              "    .dataframe tbody tr th {\n",
              "        vertical-align: top;\n",
              "    }\n",
              "\n",
              "    .dataframe thead th {\n",
              "        text-align: right;\n",
              "    }\n",
              "</style>\n",
              "<table border=\"1\" class=\"dataframe\">\n",
              "  <thead>\n",
              "    <tr style=\"text-align: right;\">\n",
              "      <th></th>\n",
              "      <th>A</th>\n",
              "      <th>B</th>\n",
              "      <th>C</th>\n",
              "      <th>D</th>\n",
              "    </tr>\n",
              "  </thead>\n",
              "  <tbody>\n",
              "    <tr>\n",
              "      <th>2013-01-01</th>\n",
              "      <td>-3.059903</td>\n",
              "      <td>-0.749902</td>\n",
              "      <td>0.884566</td>\n",
              "      <td>-1.598847</td>\n",
              "    </tr>\n",
              "    <tr>\n",
              "      <th>2013-01-02</th>\n",
              "      <td>1.693356</td>\n",
              "      <td>0.465537</td>\n",
              "      <td>-1.061198</td>\n",
              "      <td>1.472685</td>\n",
              "    </tr>\n",
              "    <tr>\n",
              "      <th>2013-01-03</th>\n",
              "      <td>-0.138560</td>\n",
              "      <td>-0.106861</td>\n",
              "      <td>1.919986</td>\n",
              "      <td>-0.299081</td>\n",
              "    </tr>\n",
              "    <tr>\n",
              "      <th>2013-01-04</th>\n",
              "      <td>0.492017</td>\n",
              "      <td>0.443992</td>\n",
              "      <td>1.233379</td>\n",
              "      <td>1.030488</td>\n",
              "    </tr>\n",
              "    <tr>\n",
              "      <th>2013-01-05</th>\n",
              "      <td>0.461682</td>\n",
              "      <td>0.507397</td>\n",
              "      <td>-0.095607</td>\n",
              "      <td>-0.170903</td>\n",
              "    </tr>\n",
              "  </tbody>\n",
              "</table>\n",
              "</div>"
            ],
            "text/plain": [
              "                   A         B         C         D\n",
              "2013-01-01 -3.059903 -0.749902  0.884566 -1.598847\n",
              "2013-01-02  1.693356  0.465537 -1.061198  1.472685\n",
              "2013-01-03 -0.138560 -0.106861  1.919986 -0.299081\n",
              "2013-01-04  0.492017  0.443992  1.233379  1.030488\n",
              "2013-01-05  0.461682  0.507397 -0.095607 -0.170903"
            ]
          },
          "metadata": {
            "tags": []
          },
          "execution_count": 14
        }
      ]
    },
    {
      "metadata": {
        "id": "mDFQ0TnFLNgg",
        "colab_type": "code",
        "colab": {
          "base_uri": "https://localhost:8080/",
          "height": 142
        },
        "outputId": "2f9c9eac-68dd-4d1a-b92b-19bf97bc6212"
      },
      "cell_type": "code",
      "source": [
        "df.tail(3)"
      ],
      "execution_count": 15,
      "outputs": [
        {
          "output_type": "execute_result",
          "data": {
            "text/html": [
              "<div>\n",
              "<style scoped>\n",
              "    .dataframe tbody tr th:only-of-type {\n",
              "        vertical-align: middle;\n",
              "    }\n",
              "\n",
              "    .dataframe tbody tr th {\n",
              "        vertical-align: top;\n",
              "    }\n",
              "\n",
              "    .dataframe thead th {\n",
              "        text-align: right;\n",
              "    }\n",
              "</style>\n",
              "<table border=\"1\" class=\"dataframe\">\n",
              "  <thead>\n",
              "    <tr style=\"text-align: right;\">\n",
              "      <th></th>\n",
              "      <th>A</th>\n",
              "      <th>B</th>\n",
              "      <th>C</th>\n",
              "      <th>D</th>\n",
              "    </tr>\n",
              "  </thead>\n",
              "  <tbody>\n",
              "    <tr>\n",
              "      <th>2013-01-04</th>\n",
              "      <td>0.492017</td>\n",
              "      <td>0.443992</td>\n",
              "      <td>1.233379</td>\n",
              "      <td>1.030488</td>\n",
              "    </tr>\n",
              "    <tr>\n",
              "      <th>2013-01-05</th>\n",
              "      <td>0.461682</td>\n",
              "      <td>0.507397</td>\n",
              "      <td>-0.095607</td>\n",
              "      <td>-0.170903</td>\n",
              "    </tr>\n",
              "    <tr>\n",
              "      <th>2013-01-06</th>\n",
              "      <td>1.092195</td>\n",
              "      <td>0.105868</td>\n",
              "      <td>-1.812553</td>\n",
              "      <td>0.557987</td>\n",
              "    </tr>\n",
              "  </tbody>\n",
              "</table>\n",
              "</div>"
            ],
            "text/plain": [
              "                   A         B         C         D\n",
              "2013-01-04  0.492017  0.443992  1.233379  1.030488\n",
              "2013-01-05  0.461682  0.507397 -0.095607 -0.170903\n",
              "2013-01-06  1.092195  0.105868 -1.812553  0.557987"
            ]
          },
          "metadata": {
            "tags": []
          },
          "execution_count": 15
        }
      ]
    },
    {
      "metadata": {
        "id": "GAZJV4orLNgj",
        "colab_type": "text"
      },
      "cell_type": "markdown",
      "source": [
        "인덱스(Index), 열(Column) 그리고 NumPy 데이터에 대한 세부 정보를 봅니다."
      ]
    },
    {
      "metadata": {
        "id": "QjyY5q21LNgj",
        "colab_type": "code",
        "colab": {
          "base_uri": "https://localhost:8080/",
          "height": 71
        },
        "outputId": "fbd38331-6daf-4598-f892-654cb3d3c90a"
      },
      "cell_type": "code",
      "source": [
        "df.index"
      ],
      "execution_count": 16,
      "outputs": [
        {
          "output_type": "execute_result",
          "data": {
            "text/plain": [
              "DatetimeIndex(['2013-01-01', '2013-01-02', '2013-01-03', '2013-01-04',\n",
              "               '2013-01-05', '2013-01-06'],\n",
              "              dtype='datetime64[ns]', freq='D')"
            ]
          },
          "metadata": {
            "tags": []
          },
          "execution_count": 16
        }
      ]
    },
    {
      "metadata": {
        "id": "uMLtdmlTLNgm",
        "colab_type": "code",
        "colab": {
          "base_uri": "https://localhost:8080/",
          "height": 35
        },
        "outputId": "9677a10f-0e06-488f-917e-474cbc26d20a"
      },
      "cell_type": "code",
      "source": [
        "df.columns"
      ],
      "execution_count": 17,
      "outputs": [
        {
          "output_type": "execute_result",
          "data": {
            "text/plain": [
              "Index(['A', 'B', 'C', 'D'], dtype='object')"
            ]
          },
          "metadata": {
            "tags": []
          },
          "execution_count": 17
        }
      ]
    },
    {
      "metadata": {
        "id": "nyBJBmQ6LNgq",
        "colab_type": "code",
        "colab": {
          "base_uri": "https://localhost:8080/",
          "height": 125
        },
        "outputId": "2fb20e09-f435-4663-d5b7-8f0cc4615fec"
      },
      "cell_type": "code",
      "source": [
        "df.values"
      ],
      "execution_count": 18,
      "outputs": [
        {
          "output_type": "execute_result",
          "data": {
            "text/plain": [
              "array([[-3.05990333, -0.74990248,  0.88456628, -1.59884747],\n",
              "       [ 1.69335583,  0.46553668, -1.06119833,  1.47268506],\n",
              "       [-0.13855952, -0.10686097,  1.91998553, -0.29908073],\n",
              "       [ 0.49201661,  0.44399221,  1.23337908,  1.03048804],\n",
              "       [ 0.46168153,  0.50739715, -0.09560691, -0.17090314],\n",
              "       [ 1.09219466,  0.10586784, -1.81255287,  0.55798677]])"
            ]
          },
          "metadata": {
            "tags": []
          },
          "execution_count": 18
        }
      ]
    },
    {
      "metadata": {
        "id": "_ZTvIW8iLNgt",
        "colab_type": "text"
      },
      "cell_type": "markdown",
      "source": [
        "[describe()](https://pandas.pydata.org/pandas-docs/stable/generated/pandas.DataFrame.describe.html#pandas.DataFrame.describe)는 데이터의 대략적인 통계적 정보 요약을 보여줍니다."
      ]
    },
    {
      "metadata": {
        "id": "xZngU-19LNgt",
        "colab_type": "code",
        "colab": {
          "base_uri": "https://localhost:8080/",
          "height": 297
        },
        "outputId": "37419a0f-11c9-47ee-af31-bce154215fdc"
      },
      "cell_type": "code",
      "source": [
        "df.describe()"
      ],
      "execution_count": 19,
      "outputs": [
        {
          "output_type": "execute_result",
          "data": {
            "text/html": [
              "<div>\n",
              "<style scoped>\n",
              "    .dataframe tbody tr th:only-of-type {\n",
              "        vertical-align: middle;\n",
              "    }\n",
              "\n",
              "    .dataframe tbody tr th {\n",
              "        vertical-align: top;\n",
              "    }\n",
              "\n",
              "    .dataframe thead th {\n",
              "        text-align: right;\n",
              "    }\n",
              "</style>\n",
              "<table border=\"1\" class=\"dataframe\">\n",
              "  <thead>\n",
              "    <tr style=\"text-align: right;\">\n",
              "      <th></th>\n",
              "      <th>A</th>\n",
              "      <th>B</th>\n",
              "      <th>C</th>\n",
              "      <th>D</th>\n",
              "    </tr>\n",
              "  </thead>\n",
              "  <tbody>\n",
              "    <tr>\n",
              "      <th>count</th>\n",
              "      <td>6.000000</td>\n",
              "      <td>6.000000</td>\n",
              "      <td>6.000000</td>\n",
              "      <td>6.000000</td>\n",
              "    </tr>\n",
              "    <tr>\n",
              "      <th>mean</th>\n",
              "      <td>0.090131</td>\n",
              "      <td>0.111005</td>\n",
              "      <td>0.178095</td>\n",
              "      <td>0.165388</td>\n",
              "    </tr>\n",
              "    <tr>\n",
              "      <th>std</th>\n",
              "      <td>1.664274</td>\n",
              "      <td>0.486283</td>\n",
              "      <td>1.429710</td>\n",
              "      <td>1.100264</td>\n",
              "    </tr>\n",
              "    <tr>\n",
              "      <th>min</th>\n",
              "      <td>-3.059903</td>\n",
              "      <td>-0.749902</td>\n",
              "      <td>-1.812553</td>\n",
              "      <td>-1.598847</td>\n",
              "    </tr>\n",
              "    <tr>\n",
              "      <th>25%</th>\n",
              "      <td>0.011501</td>\n",
              "      <td>-0.053679</td>\n",
              "      <td>-0.819800</td>\n",
              "      <td>-0.267036</td>\n",
              "    </tr>\n",
              "    <tr>\n",
              "      <th>50%</th>\n",
              "      <td>0.476849</td>\n",
              "      <td>0.274930</td>\n",
              "      <td>0.394480</td>\n",
              "      <td>0.193542</td>\n",
              "    </tr>\n",
              "    <tr>\n",
              "      <th>75%</th>\n",
              "      <td>0.942150</td>\n",
              "      <td>0.460151</td>\n",
              "      <td>1.146176</td>\n",
              "      <td>0.912363</td>\n",
              "    </tr>\n",
              "    <tr>\n",
              "      <th>max</th>\n",
              "      <td>1.693356</td>\n",
              "      <td>0.507397</td>\n",
              "      <td>1.919986</td>\n",
              "      <td>1.472685</td>\n",
              "    </tr>\n",
              "  </tbody>\n",
              "</table>\n",
              "</div>"
            ],
            "text/plain": [
              "              A         B         C         D\n",
              "count  6.000000  6.000000  6.000000  6.000000\n",
              "mean   0.090131  0.111005  0.178095  0.165388\n",
              "std    1.664274  0.486283  1.429710  1.100264\n",
              "min   -3.059903 -0.749902 -1.812553 -1.598847\n",
              "25%    0.011501 -0.053679 -0.819800 -0.267036\n",
              "50%    0.476849  0.274930  0.394480  0.193542\n",
              "75%    0.942150  0.460151  1.146176  0.912363\n",
              "max    1.693356  0.507397  1.919986  1.472685"
            ]
          },
          "metadata": {
            "tags": []
          },
          "execution_count": 19
        }
      ]
    },
    {
      "metadata": {
        "id": "nJd6ga6NA6E1",
        "colab_type": "text"
      },
      "cell_type": "markdown",
      "source": [
        "데이터를 전치합니다."
      ]
    },
    {
      "metadata": {
        "id": "_YcshrJjAsM4",
        "colab_type": "code",
        "colab": {
          "base_uri": "https://localhost:8080/",
          "height": 173
        },
        "outputId": "e66a6676-f539-4315-a8b8-91b0b67156fd"
      },
      "cell_type": "code",
      "source": [
        "df.T"
      ],
      "execution_count": 20,
      "outputs": [
        {
          "output_type": "execute_result",
          "data": {
            "text/html": [
              "<div>\n",
              "<style scoped>\n",
              "    .dataframe tbody tr th:only-of-type {\n",
              "        vertical-align: middle;\n",
              "    }\n",
              "\n",
              "    .dataframe tbody tr th {\n",
              "        vertical-align: top;\n",
              "    }\n",
              "\n",
              "    .dataframe thead th {\n",
              "        text-align: right;\n",
              "    }\n",
              "</style>\n",
              "<table border=\"1\" class=\"dataframe\">\n",
              "  <thead>\n",
              "    <tr style=\"text-align: right;\">\n",
              "      <th></th>\n",
              "      <th>2013-01-01 00:00:00</th>\n",
              "      <th>2013-01-02 00:00:00</th>\n",
              "      <th>2013-01-03 00:00:00</th>\n",
              "      <th>2013-01-04 00:00:00</th>\n",
              "      <th>2013-01-05 00:00:00</th>\n",
              "      <th>2013-01-06 00:00:00</th>\n",
              "    </tr>\n",
              "  </thead>\n",
              "  <tbody>\n",
              "    <tr>\n",
              "      <th>A</th>\n",
              "      <td>-3.059903</td>\n",
              "      <td>1.693356</td>\n",
              "      <td>-0.138560</td>\n",
              "      <td>0.492017</td>\n",
              "      <td>0.461682</td>\n",
              "      <td>1.092195</td>\n",
              "    </tr>\n",
              "    <tr>\n",
              "      <th>B</th>\n",
              "      <td>-0.749902</td>\n",
              "      <td>0.465537</td>\n",
              "      <td>-0.106861</td>\n",
              "      <td>0.443992</td>\n",
              "      <td>0.507397</td>\n",
              "      <td>0.105868</td>\n",
              "    </tr>\n",
              "    <tr>\n",
              "      <th>C</th>\n",
              "      <td>0.884566</td>\n",
              "      <td>-1.061198</td>\n",
              "      <td>1.919986</td>\n",
              "      <td>1.233379</td>\n",
              "      <td>-0.095607</td>\n",
              "      <td>-1.812553</td>\n",
              "    </tr>\n",
              "    <tr>\n",
              "      <th>D</th>\n",
              "      <td>-1.598847</td>\n",
              "      <td>1.472685</td>\n",
              "      <td>-0.299081</td>\n",
              "      <td>1.030488</td>\n",
              "      <td>-0.170903</td>\n",
              "      <td>0.557987</td>\n",
              "    </tr>\n",
              "  </tbody>\n",
              "</table>\n",
              "</div>"
            ],
            "text/plain": [
              "   2013-01-01  2013-01-02  2013-01-03  2013-01-04  2013-01-05  2013-01-06\n",
              "A   -3.059903    1.693356   -0.138560    0.492017    0.461682    1.092195\n",
              "B   -0.749902    0.465537   -0.106861    0.443992    0.507397    0.105868\n",
              "C    0.884566   -1.061198    1.919986    1.233379   -0.095607   -1.812553\n",
              "D   -1.598847    1.472685   -0.299081    1.030488   -0.170903    0.557987"
            ]
          },
          "metadata": {
            "tags": []
          },
          "execution_count": 20
        }
      ]
    },
    {
      "metadata": {
        "id": "qgDNXgvsA_MB",
        "colab_type": "text"
      },
      "cell_type": "markdown",
      "source": [
        "축 별로 정렬합니다."
      ]
    },
    {
      "metadata": {
        "id": "Sd5qldouAuWG",
        "colab_type": "code",
        "colab": {
          "base_uri": "https://localhost:8080/",
          "height": 235
        },
        "outputId": "b025209b-9f46-4325-a33f-59f3cdd6d46e"
      },
      "cell_type": "code",
      "source": [
        "df.sort_index(axis=1, ascending=False)"
      ],
      "execution_count": 21,
      "outputs": [
        {
          "output_type": "execute_result",
          "data": {
            "text/html": [
              "<div>\n",
              "<style scoped>\n",
              "    .dataframe tbody tr th:only-of-type {\n",
              "        vertical-align: middle;\n",
              "    }\n",
              "\n",
              "    .dataframe tbody tr th {\n",
              "        vertical-align: top;\n",
              "    }\n",
              "\n",
              "    .dataframe thead th {\n",
              "        text-align: right;\n",
              "    }\n",
              "</style>\n",
              "<table border=\"1\" class=\"dataframe\">\n",
              "  <thead>\n",
              "    <tr style=\"text-align: right;\">\n",
              "      <th></th>\n",
              "      <th>D</th>\n",
              "      <th>C</th>\n",
              "      <th>B</th>\n",
              "      <th>A</th>\n",
              "    </tr>\n",
              "  </thead>\n",
              "  <tbody>\n",
              "    <tr>\n",
              "      <th>2013-01-01</th>\n",
              "      <td>-1.598847</td>\n",
              "      <td>0.884566</td>\n",
              "      <td>-0.749902</td>\n",
              "      <td>-3.059903</td>\n",
              "    </tr>\n",
              "    <tr>\n",
              "      <th>2013-01-02</th>\n",
              "      <td>1.472685</td>\n",
              "      <td>-1.061198</td>\n",
              "      <td>0.465537</td>\n",
              "      <td>1.693356</td>\n",
              "    </tr>\n",
              "    <tr>\n",
              "      <th>2013-01-03</th>\n",
              "      <td>-0.299081</td>\n",
              "      <td>1.919986</td>\n",
              "      <td>-0.106861</td>\n",
              "      <td>-0.138560</td>\n",
              "    </tr>\n",
              "    <tr>\n",
              "      <th>2013-01-04</th>\n",
              "      <td>1.030488</td>\n",
              "      <td>1.233379</td>\n",
              "      <td>0.443992</td>\n",
              "      <td>0.492017</td>\n",
              "    </tr>\n",
              "    <tr>\n",
              "      <th>2013-01-05</th>\n",
              "      <td>-0.170903</td>\n",
              "      <td>-0.095607</td>\n",
              "      <td>0.507397</td>\n",
              "      <td>0.461682</td>\n",
              "    </tr>\n",
              "    <tr>\n",
              "      <th>2013-01-06</th>\n",
              "      <td>0.557987</td>\n",
              "      <td>-1.812553</td>\n",
              "      <td>0.105868</td>\n",
              "      <td>1.092195</td>\n",
              "    </tr>\n",
              "  </tbody>\n",
              "</table>\n",
              "</div>"
            ],
            "text/plain": [
              "                   D         C         B         A\n",
              "2013-01-01 -1.598847  0.884566 -0.749902 -3.059903\n",
              "2013-01-02  1.472685 -1.061198  0.465537  1.693356\n",
              "2013-01-03 -0.299081  1.919986 -0.106861 -0.138560\n",
              "2013-01-04  1.030488  1.233379  0.443992  0.492017\n",
              "2013-01-05 -0.170903 -0.095607  0.507397  0.461682\n",
              "2013-01-06  0.557987 -1.812553  0.105868  1.092195"
            ]
          },
          "metadata": {
            "tags": []
          },
          "execution_count": 21
        }
      ]
    },
    {
      "metadata": {
        "id": "F88TTYh9BGZ5",
        "colab_type": "text"
      },
      "cell_type": "markdown",
      "source": [
        "값 별로 정렬합니다."
      ]
    },
    {
      "metadata": {
        "id": "9f7MLCxpAv67",
        "colab_type": "code",
        "colab": {
          "base_uri": "https://localhost:8080/",
          "height": 235
        },
        "outputId": "38f801a5-ae89-416e-b4f9-39657b6ab99f"
      },
      "cell_type": "code",
      "source": [
        "df.sort_values(by='B')"
      ],
      "execution_count": 22,
      "outputs": [
        {
          "output_type": "execute_result",
          "data": {
            "text/html": [
              "<div>\n",
              "<style scoped>\n",
              "    .dataframe tbody tr th:only-of-type {\n",
              "        vertical-align: middle;\n",
              "    }\n",
              "\n",
              "    .dataframe tbody tr th {\n",
              "        vertical-align: top;\n",
              "    }\n",
              "\n",
              "    .dataframe thead th {\n",
              "        text-align: right;\n",
              "    }\n",
              "</style>\n",
              "<table border=\"1\" class=\"dataframe\">\n",
              "  <thead>\n",
              "    <tr style=\"text-align: right;\">\n",
              "      <th></th>\n",
              "      <th>A</th>\n",
              "      <th>B</th>\n",
              "      <th>C</th>\n",
              "      <th>D</th>\n",
              "    </tr>\n",
              "  </thead>\n",
              "  <tbody>\n",
              "    <tr>\n",
              "      <th>2013-01-01</th>\n",
              "      <td>-3.059903</td>\n",
              "      <td>-0.749902</td>\n",
              "      <td>0.884566</td>\n",
              "      <td>-1.598847</td>\n",
              "    </tr>\n",
              "    <tr>\n",
              "      <th>2013-01-03</th>\n",
              "      <td>-0.138560</td>\n",
              "      <td>-0.106861</td>\n",
              "      <td>1.919986</td>\n",
              "      <td>-0.299081</td>\n",
              "    </tr>\n",
              "    <tr>\n",
              "      <th>2013-01-06</th>\n",
              "      <td>1.092195</td>\n",
              "      <td>0.105868</td>\n",
              "      <td>-1.812553</td>\n",
              "      <td>0.557987</td>\n",
              "    </tr>\n",
              "    <tr>\n",
              "      <th>2013-01-04</th>\n",
              "      <td>0.492017</td>\n",
              "      <td>0.443992</td>\n",
              "      <td>1.233379</td>\n",
              "      <td>1.030488</td>\n",
              "    </tr>\n",
              "    <tr>\n",
              "      <th>2013-01-02</th>\n",
              "      <td>1.693356</td>\n",
              "      <td>0.465537</td>\n",
              "      <td>-1.061198</td>\n",
              "      <td>1.472685</td>\n",
              "    </tr>\n",
              "    <tr>\n",
              "      <th>2013-01-05</th>\n",
              "      <td>0.461682</td>\n",
              "      <td>0.507397</td>\n",
              "      <td>-0.095607</td>\n",
              "      <td>-0.170903</td>\n",
              "    </tr>\n",
              "  </tbody>\n",
              "</table>\n",
              "</div>"
            ],
            "text/plain": [
              "                   A         B         C         D\n",
              "2013-01-01 -3.059903 -0.749902  0.884566 -1.598847\n",
              "2013-01-03 -0.138560 -0.106861  1.919986 -0.299081\n",
              "2013-01-06  1.092195  0.105868 -1.812553  0.557987\n",
              "2013-01-04  0.492017  0.443992  1.233379  1.030488\n",
              "2013-01-02  1.693356  0.465537 -1.061198  1.472685\n",
              "2013-01-05  0.461682  0.507397 -0.095607 -0.170903"
            ]
          },
          "metadata": {
            "tags": []
          },
          "execution_count": 22
        }
      ]
    },
    {
      "metadata": {
        "id": "3Gqmfx7oox22",
        "colab_type": "text"
      },
      "cell_type": "markdown",
      "source": [
        "## Selection (선택)"
      ]
    },
    {
      "metadata": {
        "id": "MJaeG531pyqQ",
        "colab_type": "text"
      },
      "cell_type": "markdown",
      "source": [
        "주석(Note) : 선택과 설정을 위한 Python / Numpy의 표준화된 표현들이 직관적이며, 코드 작성을 위한 양방향 작업에 유용하지만 우리는 Pandas에 최적화된 데이터 접근 방법인 .at, .iat, .loc 및 .iloc 을 추천합니다. "
      ]
    },
    {
      "metadata": {
        "id": "zwO_Qdc3kHES",
        "colab_type": "text"
      },
      "cell_type": "markdown",
      "source": [
        "[데이터 인덱싱 및 선택](https://pandas.pydata.org/pandas-docs/stable/indexing.html#indexing) 문서와 [다중 인덱싱 / 심화 인덱싱](https://pandas.pydata.org/pandas-docs/stable/advanced.html#advanced) 문서를 참조하세요."
      ]
    },
    {
      "metadata": {
        "id": "DeXaTXAdp6ne",
        "colab_type": "text"
      },
      "cell_type": "markdown",
      "source": [
        "### Getting (데이터 얻기)"
      ]
    },
    {
      "metadata": {
        "id": "VnTSMq2XkHEU",
        "colab_type": "text"
      },
      "cell_type": "markdown",
      "source": [
        "df.A 와 동일한 Series를 생성하는 단일 열을 선택합니다."
      ]
    },
    {
      "metadata": {
        "id": "2i6jOXNMox26",
        "colab_type": "code",
        "colab": {
          "base_uri": "https://localhost:8080/",
          "height": 143
        },
        "outputId": "c4e9eb2f-829e-44ef-e62c-26d14d171224"
      },
      "cell_type": "code",
      "source": [
        "df['A']"
      ],
      "execution_count": 23,
      "outputs": [
        {
          "output_type": "execute_result",
          "data": {
            "text/plain": [
              "2013-01-01   -3.059903\n",
              "2013-01-02    1.693356\n",
              "2013-01-03   -0.138560\n",
              "2013-01-04    0.492017\n",
              "2013-01-05    0.461682\n",
              "2013-01-06    1.092195\n",
              "Freq: D, Name: A, dtype: float64"
            ]
          },
          "metadata": {
            "tags": []
          },
          "execution_count": 23
        }
      ]
    },
    {
      "metadata": {
        "id": "HVumS0kMr2pH",
        "colab_type": "text"
      },
      "cell_type": "markdown",
      "source": [
        "행을 분할하는 []를 통해 선택합니다."
      ]
    },
    {
      "metadata": {
        "id": "CN4_iAoCr-hd",
        "colab_type": "code",
        "colab": {
          "base_uri": "https://localhost:8080/",
          "height": 142
        },
        "outputId": "412869e6-bd72-45d4-87b3-836d8b3b331e"
      },
      "cell_type": "code",
      "source": [
        "df[0:3]"
      ],
      "execution_count": 24,
      "outputs": [
        {
          "output_type": "execute_result",
          "data": {
            "text/html": [
              "<div>\n",
              "<style scoped>\n",
              "    .dataframe tbody tr th:only-of-type {\n",
              "        vertical-align: middle;\n",
              "    }\n",
              "\n",
              "    .dataframe tbody tr th {\n",
              "        vertical-align: top;\n",
              "    }\n",
              "\n",
              "    .dataframe thead th {\n",
              "        text-align: right;\n",
              "    }\n",
              "</style>\n",
              "<table border=\"1\" class=\"dataframe\">\n",
              "  <thead>\n",
              "    <tr style=\"text-align: right;\">\n",
              "      <th></th>\n",
              "      <th>A</th>\n",
              "      <th>B</th>\n",
              "      <th>C</th>\n",
              "      <th>D</th>\n",
              "    </tr>\n",
              "  </thead>\n",
              "  <tbody>\n",
              "    <tr>\n",
              "      <th>2013-01-01</th>\n",
              "      <td>-3.059903</td>\n",
              "      <td>-0.749902</td>\n",
              "      <td>0.884566</td>\n",
              "      <td>-1.598847</td>\n",
              "    </tr>\n",
              "    <tr>\n",
              "      <th>2013-01-02</th>\n",
              "      <td>1.693356</td>\n",
              "      <td>0.465537</td>\n",
              "      <td>-1.061198</td>\n",
              "      <td>1.472685</td>\n",
              "    </tr>\n",
              "    <tr>\n",
              "      <th>2013-01-03</th>\n",
              "      <td>-0.138560</td>\n",
              "      <td>-0.106861</td>\n",
              "      <td>1.919986</td>\n",
              "      <td>-0.299081</td>\n",
              "    </tr>\n",
              "  </tbody>\n",
              "</table>\n",
              "</div>"
            ],
            "text/plain": [
              "                   A         B         C         D\n",
              "2013-01-01 -3.059903 -0.749902  0.884566 -1.598847\n",
              "2013-01-02  1.693356  0.465537 -1.061198  1.472685\n",
              "2013-01-03 -0.138560 -0.106861  1.919986 -0.299081"
            ]
          },
          "metadata": {
            "tags": []
          },
          "execution_count": 24
        }
      ]
    },
    {
      "metadata": {
        "id": "rfj3fFBSsQyB",
        "colab_type": "code",
        "colab": {
          "base_uri": "https://localhost:8080/",
          "height": 142
        },
        "outputId": "279e4176-5c5f-4ea5-8181-74980f8d2464"
      },
      "cell_type": "code",
      "source": [
        "df['20130102':'20130104']"
      ],
      "execution_count": 25,
      "outputs": [
        {
          "output_type": "execute_result",
          "data": {
            "text/html": [
              "<div>\n",
              "<style scoped>\n",
              "    .dataframe tbody tr th:only-of-type {\n",
              "        vertical-align: middle;\n",
              "    }\n",
              "\n",
              "    .dataframe tbody tr th {\n",
              "        vertical-align: top;\n",
              "    }\n",
              "\n",
              "    .dataframe thead th {\n",
              "        text-align: right;\n",
              "    }\n",
              "</style>\n",
              "<table border=\"1\" class=\"dataframe\">\n",
              "  <thead>\n",
              "    <tr style=\"text-align: right;\">\n",
              "      <th></th>\n",
              "      <th>A</th>\n",
              "      <th>B</th>\n",
              "      <th>C</th>\n",
              "      <th>D</th>\n",
              "    </tr>\n",
              "  </thead>\n",
              "  <tbody>\n",
              "    <tr>\n",
              "      <th>2013-01-02</th>\n",
              "      <td>1.693356</td>\n",
              "      <td>0.465537</td>\n",
              "      <td>-1.061198</td>\n",
              "      <td>1.472685</td>\n",
              "    </tr>\n",
              "    <tr>\n",
              "      <th>2013-01-03</th>\n",
              "      <td>-0.138560</td>\n",
              "      <td>-0.106861</td>\n",
              "      <td>1.919986</td>\n",
              "      <td>-0.299081</td>\n",
              "    </tr>\n",
              "    <tr>\n",
              "      <th>2013-01-04</th>\n",
              "      <td>0.492017</td>\n",
              "      <td>0.443992</td>\n",
              "      <td>1.233379</td>\n",
              "      <td>1.030488</td>\n",
              "    </tr>\n",
              "  </tbody>\n",
              "</table>\n",
              "</div>"
            ],
            "text/plain": [
              "                   A         B         C         D\n",
              "2013-01-02  1.693356  0.465537 -1.061198  1.472685\n",
              "2013-01-03 -0.138560 -0.106861  1.919986 -0.299081\n",
              "2013-01-04  0.492017  0.443992  1.233379  1.030488"
            ]
          },
          "metadata": {
            "tags": []
          },
          "execution_count": 25
        }
      ]
    },
    {
      "metadata": {
        "id": "izNpv79bsGV7",
        "colab_type": "text"
      },
      "cell_type": "markdown",
      "source": [
        "### Selection by Label (Label 을 통한 선택)"
      ]
    },
    {
      "metadata": {
        "id": "MevvK6S4kHEq",
        "colab_type": "text"
      },
      "cell_type": "markdown",
      "source": [
        "[Label을 통한 선택](https://pandas.pydata.org/pandas-docs/stable/indexing.html#indexing-label)에서 더 많은 내용을 확인하세요.\n",
        "\n",
        "라벨을 사용하여 횡단면을 얻습니다."
      ]
    },
    {
      "metadata": {
        "id": "SiL6JlaRs7DM",
        "colab_type": "code",
        "colab": {
          "base_uri": "https://localhost:8080/",
          "height": 107
        },
        "outputId": "d9f851e8-965f-4fbd-a0b5-034120784e04"
      },
      "cell_type": "code",
      "source": [
        "df.loc[dates[0]]"
      ],
      "execution_count": 26,
      "outputs": [
        {
          "output_type": "execute_result",
          "data": {
            "text/plain": [
              "A   -3.059903\n",
              "B   -0.749902\n",
              "C    0.884566\n",
              "D   -1.598847\n",
              "Name: 2013-01-01 00:00:00, dtype: float64"
            ]
          },
          "metadata": {
            "tags": []
          },
          "execution_count": 26
        }
      ]
    },
    {
      "metadata": {
        "id": "wqEiM9ZKsVDW",
        "colab_type": "text"
      },
      "cell_type": "markdown",
      "source": [
        "라벨을 사용하여 여러 축(의 데이터)을 얻습니다."
      ]
    },
    {
      "metadata": {
        "id": "ujryWjpRtV9f",
        "colab_type": "code",
        "colab": {
          "base_uri": "https://localhost:8080/",
          "height": 235
        },
        "outputId": "0c636d4d-b104-4032-c26f-7c3cd255e80c"
      },
      "cell_type": "code",
      "source": [
        "df.loc[:,['A','B']]"
      ],
      "execution_count": 27,
      "outputs": [
        {
          "output_type": "execute_result",
          "data": {
            "text/html": [
              "<div>\n",
              "<style scoped>\n",
              "    .dataframe tbody tr th:only-of-type {\n",
              "        vertical-align: middle;\n",
              "    }\n",
              "\n",
              "    .dataframe tbody tr th {\n",
              "        vertical-align: top;\n",
              "    }\n",
              "\n",
              "    .dataframe thead th {\n",
              "        text-align: right;\n",
              "    }\n",
              "</style>\n",
              "<table border=\"1\" class=\"dataframe\">\n",
              "  <thead>\n",
              "    <tr style=\"text-align: right;\">\n",
              "      <th></th>\n",
              "      <th>A</th>\n",
              "      <th>B</th>\n",
              "    </tr>\n",
              "  </thead>\n",
              "  <tbody>\n",
              "    <tr>\n",
              "      <th>2013-01-01</th>\n",
              "      <td>-3.059903</td>\n",
              "      <td>-0.749902</td>\n",
              "    </tr>\n",
              "    <tr>\n",
              "      <th>2013-01-02</th>\n",
              "      <td>1.693356</td>\n",
              "      <td>0.465537</td>\n",
              "    </tr>\n",
              "    <tr>\n",
              "      <th>2013-01-03</th>\n",
              "      <td>-0.138560</td>\n",
              "      <td>-0.106861</td>\n",
              "    </tr>\n",
              "    <tr>\n",
              "      <th>2013-01-04</th>\n",
              "      <td>0.492017</td>\n",
              "      <td>0.443992</td>\n",
              "    </tr>\n",
              "    <tr>\n",
              "      <th>2013-01-05</th>\n",
              "      <td>0.461682</td>\n",
              "      <td>0.507397</td>\n",
              "    </tr>\n",
              "    <tr>\n",
              "      <th>2013-01-06</th>\n",
              "      <td>1.092195</td>\n",
              "      <td>0.105868</td>\n",
              "    </tr>\n",
              "  </tbody>\n",
              "</table>\n",
              "</div>"
            ],
            "text/plain": [
              "                   A         B\n",
              "2013-01-01 -3.059903 -0.749902\n",
              "2013-01-02  1.693356  0.465537\n",
              "2013-01-03 -0.138560 -0.106861\n",
              "2013-01-04  0.492017  0.443992\n",
              "2013-01-05  0.461682  0.507397\n",
              "2013-01-06  1.092195  0.105868"
            ]
          },
          "metadata": {
            "tags": []
          },
          "execution_count": 27
        }
      ]
    },
    {
      "metadata": {
        "id": "SuyHx40itars",
        "colab_type": "text"
      },
      "cell_type": "markdown",
      "source": [
        "양쪽 종단점을 포함한 라벨 슬라이싱을 봅니다."
      ]
    },
    {
      "metadata": {
        "id": "Dxq_ixT7tgMB",
        "colab_type": "code",
        "colab": {
          "base_uri": "https://localhost:8080/",
          "height": 142
        },
        "outputId": "d0e172c1-296e-4476-d2b7-4ad565d8373a"
      },
      "cell_type": "code",
      "source": [
        "df.loc['20130102':'20130104', ['A','B']]"
      ],
      "execution_count": 28,
      "outputs": [
        {
          "output_type": "execute_result",
          "data": {
            "text/html": [
              "<div>\n",
              "<style scoped>\n",
              "    .dataframe tbody tr th:only-of-type {\n",
              "        vertical-align: middle;\n",
              "    }\n",
              "\n",
              "    .dataframe tbody tr th {\n",
              "        vertical-align: top;\n",
              "    }\n",
              "\n",
              "    .dataframe thead th {\n",
              "        text-align: right;\n",
              "    }\n",
              "</style>\n",
              "<table border=\"1\" class=\"dataframe\">\n",
              "  <thead>\n",
              "    <tr style=\"text-align: right;\">\n",
              "      <th></th>\n",
              "      <th>A</th>\n",
              "      <th>B</th>\n",
              "    </tr>\n",
              "  </thead>\n",
              "  <tbody>\n",
              "    <tr>\n",
              "      <th>2013-01-02</th>\n",
              "      <td>1.693356</td>\n",
              "      <td>0.465537</td>\n",
              "    </tr>\n",
              "    <tr>\n",
              "      <th>2013-01-03</th>\n",
              "      <td>-0.138560</td>\n",
              "      <td>-0.106861</td>\n",
              "    </tr>\n",
              "    <tr>\n",
              "      <th>2013-01-04</th>\n",
              "      <td>0.492017</td>\n",
              "      <td>0.443992</td>\n",
              "    </tr>\n",
              "  </tbody>\n",
              "</table>\n",
              "</div>"
            ],
            "text/plain": [
              "                   A         B\n",
              "2013-01-02  1.693356  0.465537\n",
              "2013-01-03 -0.138560 -0.106861\n",
              "2013-01-04  0.492017  0.443992"
            ]
          },
          "metadata": {
            "tags": []
          },
          "execution_count": 28
        }
      ]
    },
    {
      "metadata": {
        "id": "NByKKdFXtsnP",
        "colab_type": "text"
      },
      "cell_type": "markdown",
      "source": [
        "반환되는 객체의 크기를 줄입니다."
      ]
    },
    {
      "metadata": {
        "id": "ih2FqQaStyEv",
        "colab_type": "code",
        "colab": {
          "base_uri": "https://localhost:8080/",
          "height": 71
        },
        "outputId": "798e84d7-f93b-4a73-bafd-a816a7f947f4"
      },
      "cell_type": "code",
      "source": [
        "df.loc['20130102',['A','B']]"
      ],
      "execution_count": 29,
      "outputs": [
        {
          "output_type": "execute_result",
          "data": {
            "text/plain": [
              "A    1.693356\n",
              "B    0.465537\n",
              "Name: 2013-01-02 00:00:00, dtype: float64"
            ]
          },
          "metadata": {
            "tags": []
          },
          "execution_count": 29
        }
      ]
    },
    {
      "metadata": {
        "id": "Mgdkhb3at1wM",
        "colab_type": "text"
      },
      "cell_type": "markdown",
      "source": [
        "스칼라 값을 얻습니다."
      ]
    },
    {
      "metadata": {
        "id": "umW1SZZQt5Q0",
        "colab_type": "code",
        "colab": {
          "base_uri": "https://localhost:8080/",
          "height": 35
        },
        "outputId": "d30c0492-617e-4599-c583-1a5dba4167c9"
      },
      "cell_type": "code",
      "source": [
        "df.loc[dates[0],'A']"
      ],
      "execution_count": 30,
      "outputs": [
        {
          "output_type": "execute_result",
          "data": {
            "text/plain": [
              "-3.059903330827347"
            ]
          },
          "metadata": {
            "tags": []
          },
          "execution_count": 30
        }
      ]
    },
    {
      "metadata": {
        "id": "8DN1MLxHt9Xb",
        "colab_type": "text"
      },
      "cell_type": "markdown",
      "source": [
        "스칼라 값을 더 빠르게 구하는 방법입니다. (앞선 메소드와 동일합니다.)"
      ]
    },
    {
      "metadata": {
        "id": "FxxN4hauuDLB",
        "colab_type": "code",
        "colab": {
          "base_uri": "https://localhost:8080/",
          "height": 35
        },
        "outputId": "052c8e6b-7c4c-4063-9ff2-8fef23971a29"
      },
      "cell_type": "code",
      "source": [
        "df.at[dates[0],'A']"
      ],
      "execution_count": 31,
      "outputs": [
        {
          "output_type": "execute_result",
          "data": {
            "text/plain": [
              "-3.059903330827347"
            ]
          },
          "metadata": {
            "tags": []
          },
          "execution_count": 31
        }
      ]
    },
    {
      "metadata": {
        "id": "v7BFmgcRLNif",
        "colab_type": "text"
      },
      "cell_type": "markdown",
      "source": [
        "### Selection by Position (위치로 선택하기)"
      ]
    },
    {
      "metadata": {
        "id": "HdUlCKcMLNig",
        "colab_type": "text"
      },
      "cell_type": "markdown",
      "source": [
        "자세한 내용은 [위치로 선택하기](https://pandas.pydata.org/pandas-docs/stable/indexing.html#indexing-integer)를 참고해주세요.\n",
        "\n",
        "넘겨받은 정수의 위치를 기준으로 선택합니다."
      ]
    },
    {
      "metadata": {
        "id": "CI_RX7HL2dbm",
        "colab_type": "code",
        "colab": {
          "base_uri": "https://localhost:8080/",
          "height": 107
        },
        "outputId": "bcc39739-ff66-4cad-9b2a-064e4fc5dbd2"
      },
      "cell_type": "code",
      "source": [
        "df.iloc[3]"
      ],
      "execution_count": 32,
      "outputs": [
        {
          "output_type": "execute_result",
          "data": {
            "text/plain": [
              "A    0.492017\n",
              "B    0.443992\n",
              "C    1.233379\n",
              "D    1.030488\n",
              "Name: 2013-01-04 00:00:00, dtype: float64"
            ]
          },
          "metadata": {
            "tags": []
          },
          "execution_count": 32
        }
      ]
    },
    {
      "metadata": {
        "id": "oARGkVI-23ZC",
        "colab_type": "text"
      },
      "cell_type": "markdown",
      "source": [
        "정수(로 표기된) 슬라이스들을 통해, numpy/python과 유사하게 작동합니다."
      ]
    },
    {
      "metadata": {
        "id": "ZVV94o9-24yW",
        "colab_type": "code",
        "colab": {
          "base_uri": "https://localhost:8080/",
          "height": 111
        },
        "outputId": "1d9e7c48-4c49-45a8-c427-2f03e6ab6ed2"
      },
      "cell_type": "code",
      "source": [
        "df.iloc[3:5,0:2]"
      ],
      "execution_count": 33,
      "outputs": [
        {
          "output_type": "execute_result",
          "data": {
            "text/html": [
              "<div>\n",
              "<style scoped>\n",
              "    .dataframe tbody tr th:only-of-type {\n",
              "        vertical-align: middle;\n",
              "    }\n",
              "\n",
              "    .dataframe tbody tr th {\n",
              "        vertical-align: top;\n",
              "    }\n",
              "\n",
              "    .dataframe thead th {\n",
              "        text-align: right;\n",
              "    }\n",
              "</style>\n",
              "<table border=\"1\" class=\"dataframe\">\n",
              "  <thead>\n",
              "    <tr style=\"text-align: right;\">\n",
              "      <th></th>\n",
              "      <th>A</th>\n",
              "      <th>B</th>\n",
              "    </tr>\n",
              "  </thead>\n",
              "  <tbody>\n",
              "    <tr>\n",
              "      <th>2013-01-04</th>\n",
              "      <td>0.492017</td>\n",
              "      <td>0.443992</td>\n",
              "    </tr>\n",
              "    <tr>\n",
              "      <th>2013-01-05</th>\n",
              "      <td>0.461682</td>\n",
              "      <td>0.507397</td>\n",
              "    </tr>\n",
              "  </tbody>\n",
              "</table>\n",
              "</div>"
            ],
            "text/plain": [
              "                   A         B\n",
              "2013-01-04  0.492017  0.443992\n",
              "2013-01-05  0.461682  0.507397"
            ]
          },
          "metadata": {
            "tags": []
          },
          "execution_count": 33
        }
      ]
    },
    {
      "metadata": {
        "id": "Y2gjiEGT27yA",
        "colab_type": "text"
      },
      "cell_type": "markdown",
      "source": [
        "정수(로 표기된) 위치값의 리스트들을 통해, numpy/python의 스타일과 유사해집니다."
      ]
    },
    {
      "metadata": {
        "id": "u3AnE1li2-sH",
        "colab_type": "code",
        "colab": {
          "base_uri": "https://localhost:8080/",
          "height": 142
        },
        "outputId": "997d14c1-66b9-414c-f65e-de4bfff193a3"
      },
      "cell_type": "code",
      "source": [
        "df.iloc[[1,2,4],[0,2]]"
      ],
      "execution_count": 34,
      "outputs": [
        {
          "output_type": "execute_result",
          "data": {
            "text/html": [
              "<div>\n",
              "<style scoped>\n",
              "    .dataframe tbody tr th:only-of-type {\n",
              "        vertical-align: middle;\n",
              "    }\n",
              "\n",
              "    .dataframe tbody tr th {\n",
              "        vertical-align: top;\n",
              "    }\n",
              "\n",
              "    .dataframe thead th {\n",
              "        text-align: right;\n",
              "    }\n",
              "</style>\n",
              "<table border=\"1\" class=\"dataframe\">\n",
              "  <thead>\n",
              "    <tr style=\"text-align: right;\">\n",
              "      <th></th>\n",
              "      <th>A</th>\n",
              "      <th>C</th>\n",
              "    </tr>\n",
              "  </thead>\n",
              "  <tbody>\n",
              "    <tr>\n",
              "      <th>2013-01-02</th>\n",
              "      <td>1.693356</td>\n",
              "      <td>-1.061198</td>\n",
              "    </tr>\n",
              "    <tr>\n",
              "      <th>2013-01-03</th>\n",
              "      <td>-0.138560</td>\n",
              "      <td>1.919986</td>\n",
              "    </tr>\n",
              "    <tr>\n",
              "      <th>2013-01-05</th>\n",
              "      <td>0.461682</td>\n",
              "      <td>-0.095607</td>\n",
              "    </tr>\n",
              "  </tbody>\n",
              "</table>\n",
              "</div>"
            ],
            "text/plain": [
              "                   A         C\n",
              "2013-01-02  1.693356 -1.061198\n",
              "2013-01-03 -0.138560  1.919986\n",
              "2013-01-05  0.461682 -0.095607"
            ]
          },
          "metadata": {
            "tags": []
          },
          "execution_count": 34
        }
      ]
    },
    {
      "metadata": {
        "id": "h5yyrWSQ3AmB",
        "colab_type": "text"
      },
      "cell_type": "markdown",
      "source": [
        "명시적으로 행을 나누고자 하는 경우입니다."
      ]
    },
    {
      "metadata": {
        "id": "aeiKSATs3CwL",
        "colab_type": "code",
        "colab": {
          "base_uri": "https://localhost:8080/",
          "height": 111
        },
        "outputId": "84e6afbe-3857-4536-a2f0-ab8c3aff8d3e"
      },
      "cell_type": "code",
      "source": [
        "df.iloc[1:3,:]"
      ],
      "execution_count": 35,
      "outputs": [
        {
          "output_type": "execute_result",
          "data": {
            "text/html": [
              "<div>\n",
              "<style scoped>\n",
              "    .dataframe tbody tr th:only-of-type {\n",
              "        vertical-align: middle;\n",
              "    }\n",
              "\n",
              "    .dataframe tbody tr th {\n",
              "        vertical-align: top;\n",
              "    }\n",
              "\n",
              "    .dataframe thead th {\n",
              "        text-align: right;\n",
              "    }\n",
              "</style>\n",
              "<table border=\"1\" class=\"dataframe\">\n",
              "  <thead>\n",
              "    <tr style=\"text-align: right;\">\n",
              "      <th></th>\n",
              "      <th>A</th>\n",
              "      <th>B</th>\n",
              "      <th>C</th>\n",
              "      <th>D</th>\n",
              "    </tr>\n",
              "  </thead>\n",
              "  <tbody>\n",
              "    <tr>\n",
              "      <th>2013-01-02</th>\n",
              "      <td>1.693356</td>\n",
              "      <td>0.465537</td>\n",
              "      <td>-1.061198</td>\n",
              "      <td>1.472685</td>\n",
              "    </tr>\n",
              "    <tr>\n",
              "      <th>2013-01-03</th>\n",
              "      <td>-0.138560</td>\n",
              "      <td>-0.106861</td>\n",
              "      <td>1.919986</td>\n",
              "      <td>-0.299081</td>\n",
              "    </tr>\n",
              "  </tbody>\n",
              "</table>\n",
              "</div>"
            ],
            "text/plain": [
              "                   A         B         C         D\n",
              "2013-01-02  1.693356  0.465537 -1.061198  1.472685\n",
              "2013-01-03 -0.138560 -0.106861  1.919986 -0.299081"
            ]
          },
          "metadata": {
            "tags": []
          },
          "execution_count": 35
        }
      ]
    },
    {
      "metadata": {
        "id": "DLvxy1xF3GhR",
        "colab_type": "text"
      },
      "cell_type": "markdown",
      "source": [
        "명시적으로 열을 나누고자 하는 경우입니다."
      ]
    },
    {
      "metadata": {
        "id": "wAS-Ezax3IZC",
        "colab_type": "code",
        "colab": {
          "base_uri": "https://localhost:8080/",
          "height": 235
        },
        "outputId": "b6a54022-5605-45e6-e184-67c9aac464e2"
      },
      "cell_type": "code",
      "source": [
        "df.iloc[:,1:3]"
      ],
      "execution_count": 36,
      "outputs": [
        {
          "output_type": "execute_result",
          "data": {
            "text/html": [
              "<div>\n",
              "<style scoped>\n",
              "    .dataframe tbody tr th:only-of-type {\n",
              "        vertical-align: middle;\n",
              "    }\n",
              "\n",
              "    .dataframe tbody tr th {\n",
              "        vertical-align: top;\n",
              "    }\n",
              "\n",
              "    .dataframe thead th {\n",
              "        text-align: right;\n",
              "    }\n",
              "</style>\n",
              "<table border=\"1\" class=\"dataframe\">\n",
              "  <thead>\n",
              "    <tr style=\"text-align: right;\">\n",
              "      <th></th>\n",
              "      <th>B</th>\n",
              "      <th>C</th>\n",
              "    </tr>\n",
              "  </thead>\n",
              "  <tbody>\n",
              "    <tr>\n",
              "      <th>2013-01-01</th>\n",
              "      <td>-0.749902</td>\n",
              "      <td>0.884566</td>\n",
              "    </tr>\n",
              "    <tr>\n",
              "      <th>2013-01-02</th>\n",
              "      <td>0.465537</td>\n",
              "      <td>-1.061198</td>\n",
              "    </tr>\n",
              "    <tr>\n",
              "      <th>2013-01-03</th>\n",
              "      <td>-0.106861</td>\n",
              "      <td>1.919986</td>\n",
              "    </tr>\n",
              "    <tr>\n",
              "      <th>2013-01-04</th>\n",
              "      <td>0.443992</td>\n",
              "      <td>1.233379</td>\n",
              "    </tr>\n",
              "    <tr>\n",
              "      <th>2013-01-05</th>\n",
              "      <td>0.507397</td>\n",
              "      <td>-0.095607</td>\n",
              "    </tr>\n",
              "    <tr>\n",
              "      <th>2013-01-06</th>\n",
              "      <td>0.105868</td>\n",
              "      <td>-1.812553</td>\n",
              "    </tr>\n",
              "  </tbody>\n",
              "</table>\n",
              "</div>"
            ],
            "text/plain": [
              "                   B         C\n",
              "2013-01-01 -0.749902  0.884566\n",
              "2013-01-02  0.465537 -1.061198\n",
              "2013-01-03 -0.106861  1.919986\n",
              "2013-01-04  0.443992  1.233379\n",
              "2013-01-05  0.507397 -0.095607\n",
              "2013-01-06  0.105868 -1.812553"
            ]
          },
          "metadata": {
            "tags": []
          },
          "execution_count": 36
        }
      ]
    },
    {
      "metadata": {
        "id": "QH-roZC_3Jvj",
        "colab_type": "text"
      },
      "cell_type": "markdown",
      "source": [
        "명시적으로 (특정한) 값을 얻고자 하는 경우입니다."
      ]
    },
    {
      "metadata": {
        "id": "YM9Q-Ami3LeF",
        "colab_type": "code",
        "colab": {
          "base_uri": "https://localhost:8080/",
          "height": 35
        },
        "outputId": "8a28a260-5cc0-43a4-a615-a54ed0bba36d"
      },
      "cell_type": "code",
      "source": [
        "df.iloc[1,1]"
      ],
      "execution_count": 37,
      "outputs": [
        {
          "output_type": "execute_result",
          "data": {
            "text/plain": [
              "0.46553668319894514"
            ]
          },
          "metadata": {
            "tags": []
          },
          "execution_count": 37
        }
      ]
    },
    {
      "metadata": {
        "id": "R_2xOsp13O13",
        "colab_type": "text"
      },
      "cell_type": "markdown",
      "source": [
        "스칼라 값을 빠르게 얻는 방법입니다. (위의 방식과 동일합니다.)"
      ]
    },
    {
      "metadata": {
        "id": "asy0eDSB3PO6",
        "colab_type": "code",
        "colab": {
          "base_uri": "https://localhost:8080/",
          "height": 35
        },
        "outputId": "bab0e5de-fa0a-4454-f9af-c527abc50fcb"
      },
      "cell_type": "code",
      "source": [
        "df.iat[1,1]"
      ],
      "execution_count": 38,
      "outputs": [
        {
          "output_type": "execute_result",
          "data": {
            "text/plain": [
              "0.46553668319894514"
            ]
          },
          "metadata": {
            "tags": []
          },
          "execution_count": 38
        }
      ]
    },
    {
      "metadata": {
        "id": "FTKvfT0oDv3x",
        "colab_type": "text"
      },
      "cell_type": "markdown",
      "source": [
        "### Boolean Indexing"
      ]
    },
    {
      "metadata": {
        "id": "J0pm13XREbg6",
        "colab_type": "text"
      },
      "cell_type": "markdown",
      "source": [
        "데이터를 선택하기 위해 단일 열의 값을 사용합니다."
      ]
    },
    {
      "metadata": {
        "id": "gFiUEOadDlBY",
        "colab_type": "code",
        "colab": {
          "base_uri": "https://localhost:8080/",
          "height": 173
        },
        "outputId": "242aa54f-c441-44aa-98c6-32751e865ac0"
      },
      "cell_type": "code",
      "source": [
        "df[df.A > 0]"
      ],
      "execution_count": 39,
      "outputs": [
        {
          "output_type": "execute_result",
          "data": {
            "text/html": [
              "<div>\n",
              "<style scoped>\n",
              "    .dataframe tbody tr th:only-of-type {\n",
              "        vertical-align: middle;\n",
              "    }\n",
              "\n",
              "    .dataframe tbody tr th {\n",
              "        vertical-align: top;\n",
              "    }\n",
              "\n",
              "    .dataframe thead th {\n",
              "        text-align: right;\n",
              "    }\n",
              "</style>\n",
              "<table border=\"1\" class=\"dataframe\">\n",
              "  <thead>\n",
              "    <tr style=\"text-align: right;\">\n",
              "      <th></th>\n",
              "      <th>A</th>\n",
              "      <th>B</th>\n",
              "      <th>C</th>\n",
              "      <th>D</th>\n",
              "    </tr>\n",
              "  </thead>\n",
              "  <tbody>\n",
              "    <tr>\n",
              "      <th>2013-01-02</th>\n",
              "      <td>1.693356</td>\n",
              "      <td>0.465537</td>\n",
              "      <td>-1.061198</td>\n",
              "      <td>1.472685</td>\n",
              "    </tr>\n",
              "    <tr>\n",
              "      <th>2013-01-04</th>\n",
              "      <td>0.492017</td>\n",
              "      <td>0.443992</td>\n",
              "      <td>1.233379</td>\n",
              "      <td>1.030488</td>\n",
              "    </tr>\n",
              "    <tr>\n",
              "      <th>2013-01-05</th>\n",
              "      <td>0.461682</td>\n",
              "      <td>0.507397</td>\n",
              "      <td>-0.095607</td>\n",
              "      <td>-0.170903</td>\n",
              "    </tr>\n",
              "    <tr>\n",
              "      <th>2013-01-06</th>\n",
              "      <td>1.092195</td>\n",
              "      <td>0.105868</td>\n",
              "      <td>-1.812553</td>\n",
              "      <td>0.557987</td>\n",
              "    </tr>\n",
              "  </tbody>\n",
              "</table>\n",
              "</div>"
            ],
            "text/plain": [
              "                   A         B         C         D\n",
              "2013-01-02  1.693356  0.465537 -1.061198  1.472685\n",
              "2013-01-04  0.492017  0.443992  1.233379  1.030488\n",
              "2013-01-05  0.461682  0.507397 -0.095607 -0.170903\n",
              "2013-01-06  1.092195  0.105868 -1.812553  0.557987"
            ]
          },
          "metadata": {
            "tags": []
          },
          "execution_count": 39
        }
      ]
    },
    {
      "metadata": {
        "id": "3sGsFS1sEqT6",
        "colab_type": "text"
      },
      "cell_type": "markdown",
      "source": [
        "Boolean 조건을 충족하는 데이터프레임에서 값을 선택합니다."
      ]
    },
    {
      "metadata": {
        "id": "tZhjIBa2Eqou",
        "colab_type": "code",
        "colab": {
          "base_uri": "https://localhost:8080/",
          "height": 235
        },
        "outputId": "b65eeab5-a409-40f3-dbb0-0f941765e708"
      },
      "cell_type": "code",
      "source": [
        "df[df > 0]"
      ],
      "execution_count": 40,
      "outputs": [
        {
          "output_type": "execute_result",
          "data": {
            "text/html": [
              "<div>\n",
              "<style scoped>\n",
              "    .dataframe tbody tr th:only-of-type {\n",
              "        vertical-align: middle;\n",
              "    }\n",
              "\n",
              "    .dataframe tbody tr th {\n",
              "        vertical-align: top;\n",
              "    }\n",
              "\n",
              "    .dataframe thead th {\n",
              "        text-align: right;\n",
              "    }\n",
              "</style>\n",
              "<table border=\"1\" class=\"dataframe\">\n",
              "  <thead>\n",
              "    <tr style=\"text-align: right;\">\n",
              "      <th></th>\n",
              "      <th>A</th>\n",
              "      <th>B</th>\n",
              "      <th>C</th>\n",
              "      <th>D</th>\n",
              "    </tr>\n",
              "  </thead>\n",
              "  <tbody>\n",
              "    <tr>\n",
              "      <th>2013-01-01</th>\n",
              "      <td>NaN</td>\n",
              "      <td>NaN</td>\n",
              "      <td>0.884566</td>\n",
              "      <td>NaN</td>\n",
              "    </tr>\n",
              "    <tr>\n",
              "      <th>2013-01-02</th>\n",
              "      <td>1.693356</td>\n",
              "      <td>0.465537</td>\n",
              "      <td>NaN</td>\n",
              "      <td>1.472685</td>\n",
              "    </tr>\n",
              "    <tr>\n",
              "      <th>2013-01-03</th>\n",
              "      <td>NaN</td>\n",
              "      <td>NaN</td>\n",
              "      <td>1.919986</td>\n",
              "      <td>NaN</td>\n",
              "    </tr>\n",
              "    <tr>\n",
              "      <th>2013-01-04</th>\n",
              "      <td>0.492017</td>\n",
              "      <td>0.443992</td>\n",
              "      <td>1.233379</td>\n",
              "      <td>1.030488</td>\n",
              "    </tr>\n",
              "    <tr>\n",
              "      <th>2013-01-05</th>\n",
              "      <td>0.461682</td>\n",
              "      <td>0.507397</td>\n",
              "      <td>NaN</td>\n",
              "      <td>NaN</td>\n",
              "    </tr>\n",
              "    <tr>\n",
              "      <th>2013-01-06</th>\n",
              "      <td>1.092195</td>\n",
              "      <td>0.105868</td>\n",
              "      <td>NaN</td>\n",
              "      <td>0.557987</td>\n",
              "    </tr>\n",
              "  </tbody>\n",
              "</table>\n",
              "</div>"
            ],
            "text/plain": [
              "                   A         B         C         D\n",
              "2013-01-01       NaN       NaN  0.884566       NaN\n",
              "2013-01-02  1.693356  0.465537       NaN  1.472685\n",
              "2013-01-03       NaN       NaN  1.919986       NaN\n",
              "2013-01-04  0.492017  0.443992  1.233379  1.030488\n",
              "2013-01-05  0.461682  0.507397       NaN       NaN\n",
              "2013-01-06  1.092195  0.105868       NaN  0.557987"
            ]
          },
          "metadata": {
            "tags": []
          },
          "execution_count": 40
        }
      ]
    },
    {
      "metadata": {
        "id": "vzBroT61Eu78",
        "colab_type": "text"
      },
      "cell_type": "markdown",
      "source": [
        "필터링을 위한 메소드 [isin()](https://pandas.pydata.org/pandas-docs/stable/generated/pandas.Series.isin.html#pandas.Series.isin)을 사용합니다."
      ]
    },
    {
      "metadata": {
        "id": "aMskyf_-E4MI",
        "colab_type": "code",
        "colab": {}
      },
      "cell_type": "code",
      "source": [
        "df2 = df.copy()"
      ],
      "execution_count": 0,
      "outputs": []
    },
    {
      "metadata": {
        "id": "513jhj4ZE4eW",
        "colab_type": "code",
        "colab": {}
      },
      "cell_type": "code",
      "source": [
        "df2['E'] = ['one', 'one', 'two', 'three', 'four', 'three']"
      ],
      "execution_count": 0,
      "outputs": []
    },
    {
      "metadata": {
        "id": "oJyqTZ08E4ml",
        "colab_type": "code",
        "colab": {
          "base_uri": "https://localhost:8080/",
          "height": 235
        },
        "outputId": "883b96fc-bc44-48a4-b95b-9e461ec6380c"
      },
      "cell_type": "code",
      "source": [
        "df2"
      ],
      "execution_count": 43,
      "outputs": [
        {
          "output_type": "execute_result",
          "data": {
            "text/html": [
              "<div>\n",
              "<style scoped>\n",
              "    .dataframe tbody tr th:only-of-type {\n",
              "        vertical-align: middle;\n",
              "    }\n",
              "\n",
              "    .dataframe tbody tr th {\n",
              "        vertical-align: top;\n",
              "    }\n",
              "\n",
              "    .dataframe thead th {\n",
              "        text-align: right;\n",
              "    }\n",
              "</style>\n",
              "<table border=\"1\" class=\"dataframe\">\n",
              "  <thead>\n",
              "    <tr style=\"text-align: right;\">\n",
              "      <th></th>\n",
              "      <th>A</th>\n",
              "      <th>B</th>\n",
              "      <th>C</th>\n",
              "      <th>D</th>\n",
              "      <th>E</th>\n",
              "    </tr>\n",
              "  </thead>\n",
              "  <tbody>\n",
              "    <tr>\n",
              "      <th>2013-01-01</th>\n",
              "      <td>-3.059903</td>\n",
              "      <td>-0.749902</td>\n",
              "      <td>0.884566</td>\n",
              "      <td>-1.598847</td>\n",
              "      <td>one</td>\n",
              "    </tr>\n",
              "    <tr>\n",
              "      <th>2013-01-02</th>\n",
              "      <td>1.693356</td>\n",
              "      <td>0.465537</td>\n",
              "      <td>-1.061198</td>\n",
              "      <td>1.472685</td>\n",
              "      <td>one</td>\n",
              "    </tr>\n",
              "    <tr>\n",
              "      <th>2013-01-03</th>\n",
              "      <td>-0.138560</td>\n",
              "      <td>-0.106861</td>\n",
              "      <td>1.919986</td>\n",
              "      <td>-0.299081</td>\n",
              "      <td>two</td>\n",
              "    </tr>\n",
              "    <tr>\n",
              "      <th>2013-01-04</th>\n",
              "      <td>0.492017</td>\n",
              "      <td>0.443992</td>\n",
              "      <td>1.233379</td>\n",
              "      <td>1.030488</td>\n",
              "      <td>three</td>\n",
              "    </tr>\n",
              "    <tr>\n",
              "      <th>2013-01-05</th>\n",
              "      <td>0.461682</td>\n",
              "      <td>0.507397</td>\n",
              "      <td>-0.095607</td>\n",
              "      <td>-0.170903</td>\n",
              "      <td>four</td>\n",
              "    </tr>\n",
              "    <tr>\n",
              "      <th>2013-01-06</th>\n",
              "      <td>1.092195</td>\n",
              "      <td>0.105868</td>\n",
              "      <td>-1.812553</td>\n",
              "      <td>0.557987</td>\n",
              "      <td>three</td>\n",
              "    </tr>\n",
              "  </tbody>\n",
              "</table>\n",
              "</div>"
            ],
            "text/plain": [
              "                   A         B         C         D      E\n",
              "2013-01-01 -3.059903 -0.749902  0.884566 -1.598847    one\n",
              "2013-01-02  1.693356  0.465537 -1.061198  1.472685    one\n",
              "2013-01-03 -0.138560 -0.106861  1.919986 -0.299081    two\n",
              "2013-01-04  0.492017  0.443992  1.233379  1.030488  three\n",
              "2013-01-05  0.461682  0.507397 -0.095607 -0.170903   four\n",
              "2013-01-06  1.092195  0.105868 -1.812553  0.557987  three"
            ]
          },
          "metadata": {
            "tags": []
          },
          "execution_count": 43
        }
      ]
    },
    {
      "metadata": {
        "id": "VgrLcC_5FCEC",
        "colab_type": "code",
        "colab": {
          "base_uri": "https://localhost:8080/",
          "height": 111
        },
        "outputId": "65a5fef7-38d9-4f64-82ea-99da1347fdfd"
      },
      "cell_type": "code",
      "source": [
        "df2[df2['E'].isin(['two','four'])]"
      ],
      "execution_count": 44,
      "outputs": [
        {
          "output_type": "execute_result",
          "data": {
            "text/html": [
              "<div>\n",
              "<style scoped>\n",
              "    .dataframe tbody tr th:only-of-type {\n",
              "        vertical-align: middle;\n",
              "    }\n",
              "\n",
              "    .dataframe tbody tr th {\n",
              "        vertical-align: top;\n",
              "    }\n",
              "\n",
              "    .dataframe thead th {\n",
              "        text-align: right;\n",
              "    }\n",
              "</style>\n",
              "<table border=\"1\" class=\"dataframe\">\n",
              "  <thead>\n",
              "    <tr style=\"text-align: right;\">\n",
              "      <th></th>\n",
              "      <th>A</th>\n",
              "      <th>B</th>\n",
              "      <th>C</th>\n",
              "      <th>D</th>\n",
              "      <th>E</th>\n",
              "    </tr>\n",
              "  </thead>\n",
              "  <tbody>\n",
              "    <tr>\n",
              "      <th>2013-01-03</th>\n",
              "      <td>-0.138560</td>\n",
              "      <td>-0.106861</td>\n",
              "      <td>1.919986</td>\n",
              "      <td>-0.299081</td>\n",
              "      <td>two</td>\n",
              "    </tr>\n",
              "    <tr>\n",
              "      <th>2013-01-05</th>\n",
              "      <td>0.461682</td>\n",
              "      <td>0.507397</td>\n",
              "      <td>-0.095607</td>\n",
              "      <td>-0.170903</td>\n",
              "      <td>four</td>\n",
              "    </tr>\n",
              "  </tbody>\n",
              "</table>\n",
              "</div>"
            ],
            "text/plain": [
              "                   A         B         C         D     E\n",
              "2013-01-03 -0.138560 -0.106861  1.919986 -0.299081   two\n",
              "2013-01-05  0.461682  0.507397 -0.095607 -0.170903  four"
            ]
          },
          "metadata": {
            "tags": []
          },
          "execution_count": 44
        }
      ]
    },
    {
      "metadata": {
        "id": "qTihaKMQLNjE",
        "colab_type": "text"
      },
      "cell_type": "markdown",
      "source": [
        "### Setting (설정)"
      ]
    },
    {
      "metadata": {
        "id": "R2K2Oay2kHHP",
        "colab_type": "text"
      },
      "cell_type": "markdown",
      "source": [
        "인덱스에 의해 (생성된) 데이터가 새로운 열에서 자동으로 정렬되도록 설정합니다."
      ]
    },
    {
      "metadata": {
        "id": "fvQJ2s5SLNjE",
        "colab_type": "code",
        "colab": {}
      },
      "cell_type": "code",
      "source": [
        "s1 = pd.Series([1,2,3,4,5,6], index=pd.date_range('20130102', periods=6))"
      ],
      "execution_count": 0,
      "outputs": []
    },
    {
      "metadata": {
        "id": "PQDBCDXh7TKl",
        "colab_type": "code",
        "colab": {
          "base_uri": "https://localhost:8080/",
          "height": 143
        },
        "outputId": "3d5ee896-aa13-4ec0-988f-bcdf646aca8b"
      },
      "cell_type": "code",
      "source": [
        "s1"
      ],
      "execution_count": 46,
      "outputs": [
        {
          "output_type": "execute_result",
          "data": {
            "text/plain": [
              "2013-01-02    1\n",
              "2013-01-03    2\n",
              "2013-01-04    3\n",
              "2013-01-05    4\n",
              "2013-01-06    5\n",
              "2013-01-07    6\n",
              "Freq: D, dtype: int64"
            ]
          },
          "metadata": {
            "tags": []
          },
          "execution_count": 46
        }
      ]
    },
    {
      "metadata": {
        "id": "Rby6vIlw7ZBZ",
        "colab_type": "code",
        "colab": {}
      },
      "cell_type": "code",
      "source": [
        "df['F'] = s1"
      ],
      "execution_count": 0,
      "outputs": []
    },
    {
      "metadata": {
        "id": "uzRnbME87d3c",
        "colab_type": "text"
      },
      "cell_type": "markdown",
      "source": [
        "라벨에 의해 값을 설정합니다."
      ]
    },
    {
      "metadata": {
        "id": "y7IBkcwrLNjG",
        "colab_type": "code",
        "colab": {}
      },
      "cell_type": "code",
      "source": [
        "df.at[dates[0],'A'] = 0"
      ],
      "execution_count": 0,
      "outputs": []
    },
    {
      "metadata": {
        "id": "sMtaX7Ac8cH_",
        "colab_type": "text"
      },
      "cell_type": "markdown",
      "source": [
        "위치에 의해 값을 설정합니다."
      ]
    },
    {
      "metadata": {
        "id": "-gJFmCz47iSS",
        "colab_type": "code",
        "colab": {}
      },
      "cell_type": "code",
      "source": [
        "df.iat[0,1] = 0"
      ],
      "execution_count": 0,
      "outputs": []
    },
    {
      "metadata": {
        "id": "ogxVud9A81yE",
        "colab_type": "text"
      },
      "cell_type": "markdown",
      "source": [
        "NumPy 배열을 사용한 할당에 의해 값을 설정합니다."
      ]
    },
    {
      "metadata": {
        "id": "oP7RrCLm8zAT",
        "colab_type": "code",
        "colab": {}
      },
      "cell_type": "code",
      "source": [
        "df.loc[:,'D'] = np.array([5] * len(df))"
      ],
      "execution_count": 0,
      "outputs": []
    },
    {
      "metadata": {
        "id": "tGHZXR-K9IBc",
        "colab_type": "text"
      },
      "cell_type": "markdown",
      "source": [
        "위 설정대로 작동한 결과입니다."
      ]
    },
    {
      "metadata": {
        "id": "TH7YbAYFLNjM",
        "colab_type": "code",
        "colab": {
          "base_uri": "https://localhost:8080/",
          "height": 235
        },
        "outputId": "f85a2c8c-410a-4593-9817-0abf403ea8fe"
      },
      "cell_type": "code",
      "source": [
        "df"
      ],
      "execution_count": 52,
      "outputs": [
        {
          "output_type": "execute_result",
          "data": {
            "text/html": [
              "<div>\n",
              "<style scoped>\n",
              "    .dataframe tbody tr th:only-of-type {\n",
              "        vertical-align: middle;\n",
              "    }\n",
              "\n",
              "    .dataframe tbody tr th {\n",
              "        vertical-align: top;\n",
              "    }\n",
              "\n",
              "    .dataframe thead th {\n",
              "        text-align: right;\n",
              "    }\n",
              "</style>\n",
              "<table border=\"1\" class=\"dataframe\">\n",
              "  <thead>\n",
              "    <tr style=\"text-align: right;\">\n",
              "      <th></th>\n",
              "      <th>A</th>\n",
              "      <th>B</th>\n",
              "      <th>C</th>\n",
              "      <th>D</th>\n",
              "      <th>F</th>\n",
              "    </tr>\n",
              "  </thead>\n",
              "  <tbody>\n",
              "    <tr>\n",
              "      <th>2013-01-01</th>\n",
              "      <td>0.000000</td>\n",
              "      <td>0.000000</td>\n",
              "      <td>0.884566</td>\n",
              "      <td>5</td>\n",
              "      <td>NaN</td>\n",
              "    </tr>\n",
              "    <tr>\n",
              "      <th>2013-01-02</th>\n",
              "      <td>1.693356</td>\n",
              "      <td>0.465537</td>\n",
              "      <td>-1.061198</td>\n",
              "      <td>5</td>\n",
              "      <td>1.0</td>\n",
              "    </tr>\n",
              "    <tr>\n",
              "      <th>2013-01-03</th>\n",
              "      <td>-0.138560</td>\n",
              "      <td>-0.106861</td>\n",
              "      <td>1.919986</td>\n",
              "      <td>5</td>\n",
              "      <td>2.0</td>\n",
              "    </tr>\n",
              "    <tr>\n",
              "      <th>2013-01-04</th>\n",
              "      <td>0.492017</td>\n",
              "      <td>0.443992</td>\n",
              "      <td>1.233379</td>\n",
              "      <td>5</td>\n",
              "      <td>3.0</td>\n",
              "    </tr>\n",
              "    <tr>\n",
              "      <th>2013-01-05</th>\n",
              "      <td>0.461682</td>\n",
              "      <td>0.507397</td>\n",
              "      <td>-0.095607</td>\n",
              "      <td>5</td>\n",
              "      <td>4.0</td>\n",
              "    </tr>\n",
              "    <tr>\n",
              "      <th>2013-01-06</th>\n",
              "      <td>1.092195</td>\n",
              "      <td>0.105868</td>\n",
              "      <td>-1.812553</td>\n",
              "      <td>5</td>\n",
              "      <td>5.0</td>\n",
              "    </tr>\n",
              "  </tbody>\n",
              "</table>\n",
              "</div>"
            ],
            "text/plain": [
              "                   A         B         C  D    F\n",
              "2013-01-01  0.000000  0.000000  0.884566  5  NaN\n",
              "2013-01-02  1.693356  0.465537 -1.061198  5  1.0\n",
              "2013-01-03 -0.138560 -0.106861  1.919986  5  2.0\n",
              "2013-01-04  0.492017  0.443992  1.233379  5  3.0\n",
              "2013-01-05  0.461682  0.507397 -0.095607  5  4.0\n",
              "2013-01-06  1.092195  0.105868 -1.812553  5  5.0"
            ]
          },
          "metadata": {
            "tags": []
          },
          "execution_count": 52
        }
      ]
    },
    {
      "metadata": {
        "id": "ATHUfgEp-afg",
        "colab_type": "text"
      },
      "cell_type": "markdown",
      "source": [
        "상기의 설정을 적용한 연산입니다."
      ]
    },
    {
      "metadata": {
        "id": "CYGS8DZeLNjN",
        "colab_type": "code",
        "colab": {}
      },
      "cell_type": "code",
      "source": [
        "df2 = df.copy()"
      ],
      "execution_count": 0,
      "outputs": []
    },
    {
      "metadata": {
        "id": "ENx6j5B3-T4P",
        "colab_type": "code",
        "colab": {}
      },
      "cell_type": "code",
      "source": [
        "df2[df2 > 0] = -df2"
      ],
      "execution_count": 0,
      "outputs": []
    },
    {
      "metadata": {
        "id": "C-4V1gy8-YME",
        "colab_type": "code",
        "colab": {
          "base_uri": "https://localhost:8080/",
          "height": 235
        },
        "outputId": "d69594d0-8fae-4717-e308-c4f6ce9c1061"
      },
      "cell_type": "code",
      "source": [
        "df2"
      ],
      "execution_count": 55,
      "outputs": [
        {
          "output_type": "execute_result",
          "data": {
            "text/html": [
              "<div>\n",
              "<style scoped>\n",
              "    .dataframe tbody tr th:only-of-type {\n",
              "        vertical-align: middle;\n",
              "    }\n",
              "\n",
              "    .dataframe tbody tr th {\n",
              "        vertical-align: top;\n",
              "    }\n",
              "\n",
              "    .dataframe thead th {\n",
              "        text-align: right;\n",
              "    }\n",
              "</style>\n",
              "<table border=\"1\" class=\"dataframe\">\n",
              "  <thead>\n",
              "    <tr style=\"text-align: right;\">\n",
              "      <th></th>\n",
              "      <th>A</th>\n",
              "      <th>B</th>\n",
              "      <th>C</th>\n",
              "      <th>D</th>\n",
              "      <th>F</th>\n",
              "    </tr>\n",
              "  </thead>\n",
              "  <tbody>\n",
              "    <tr>\n",
              "      <th>2013-01-01</th>\n",
              "      <td>0.000000</td>\n",
              "      <td>0.000000</td>\n",
              "      <td>-0.884566</td>\n",
              "      <td>-5</td>\n",
              "      <td>NaN</td>\n",
              "    </tr>\n",
              "    <tr>\n",
              "      <th>2013-01-02</th>\n",
              "      <td>-1.693356</td>\n",
              "      <td>-0.465537</td>\n",
              "      <td>-1.061198</td>\n",
              "      <td>-5</td>\n",
              "      <td>-1.0</td>\n",
              "    </tr>\n",
              "    <tr>\n",
              "      <th>2013-01-03</th>\n",
              "      <td>-0.138560</td>\n",
              "      <td>-0.106861</td>\n",
              "      <td>-1.919986</td>\n",
              "      <td>-5</td>\n",
              "      <td>-2.0</td>\n",
              "    </tr>\n",
              "    <tr>\n",
              "      <th>2013-01-04</th>\n",
              "      <td>-0.492017</td>\n",
              "      <td>-0.443992</td>\n",
              "      <td>-1.233379</td>\n",
              "      <td>-5</td>\n",
              "      <td>-3.0</td>\n",
              "    </tr>\n",
              "    <tr>\n",
              "      <th>2013-01-05</th>\n",
              "      <td>-0.461682</td>\n",
              "      <td>-0.507397</td>\n",
              "      <td>-0.095607</td>\n",
              "      <td>-5</td>\n",
              "      <td>-4.0</td>\n",
              "    </tr>\n",
              "    <tr>\n",
              "      <th>2013-01-06</th>\n",
              "      <td>-1.092195</td>\n",
              "      <td>-0.105868</td>\n",
              "      <td>-1.812553</td>\n",
              "      <td>-5</td>\n",
              "      <td>-5.0</td>\n",
              "    </tr>\n",
              "  </tbody>\n",
              "</table>\n",
              "</div>"
            ],
            "text/plain": [
              "                   A         B         C  D    F\n",
              "2013-01-01  0.000000  0.000000 -0.884566 -5  NaN\n",
              "2013-01-02 -1.693356 -0.465537 -1.061198 -5 -1.0\n",
              "2013-01-03 -0.138560 -0.106861 -1.919986 -5 -2.0\n",
              "2013-01-04 -0.492017 -0.443992 -1.233379 -5 -3.0\n",
              "2013-01-05 -0.461682 -0.507397 -0.095607 -5 -4.0\n",
              "2013-01-06 -1.092195 -0.105868 -1.812553 -5 -5.0"
            ]
          },
          "metadata": {
            "tags": []
          },
          "execution_count": 55
        }
      ]
    },
    {
      "metadata": {
        "id": "f7mkUirR5hit",
        "colab_type": "text"
      },
      "cell_type": "markdown",
      "source": [
        "## Missing Data (결측치)"
      ]
    },
    {
      "metadata": {
        "id": "p1uohebm9Emf",
        "colab_type": "text"
      },
      "cell_type": "markdown",
      "source": [
        "pandas는 결측치를 표현하기 위해 주로 np.nan 값을 사용합니다. 이 방법은 기본 설정값이지만 계산에는 포함되지 않습니다. <br>\n",
        "[Missing Data section](https://pandas.pydata.org/pandas-docs/stable/missing_data.html#missing-data)를 참조하세요."
      ]
    },
    {
      "metadata": {
        "id": "xAVZmDGC96Nn",
        "colab_type": "text"
      },
      "cell_type": "markdown",
      "source": [
        "Reindexing으로 지정된 축 상의 인덱스를 변경/추가/삭제할 수 있습니다. Reindexing은 데이터의 복사본을 반환합니다."
      ]
    },
    {
      "metadata": {
        "id": "zCxw1r4M-Pmt",
        "colab_type": "code",
        "colab": {}
      },
      "cell_type": "code",
      "source": [
        "df1 = df.reindex(index=dates[0:4], columns=list(df.columns) + ['E'])"
      ],
      "execution_count": 0,
      "outputs": []
    },
    {
      "metadata": {
        "id": "Oi_hYCsu-hfJ",
        "colab_type": "code",
        "colab": {}
      },
      "cell_type": "code",
      "source": [
        "df1.loc[dates[0]:dates[1],'E'] = 1"
      ],
      "execution_count": 0,
      "outputs": []
    },
    {
      "metadata": {
        "id": "w6yiTzDK-jwg",
        "colab_type": "code",
        "colab": {
          "base_uri": "https://localhost:8080/",
          "height": 173
        },
        "outputId": "cf69a1d1-e244-4347-971f-2560800121c8"
      },
      "cell_type": "code",
      "source": [
        "df1"
      ],
      "execution_count": 58,
      "outputs": [
        {
          "output_type": "execute_result",
          "data": {
            "text/html": [
              "<div>\n",
              "<style scoped>\n",
              "    .dataframe tbody tr th:only-of-type {\n",
              "        vertical-align: middle;\n",
              "    }\n",
              "\n",
              "    .dataframe tbody tr th {\n",
              "        vertical-align: top;\n",
              "    }\n",
              "\n",
              "    .dataframe thead th {\n",
              "        text-align: right;\n",
              "    }\n",
              "</style>\n",
              "<table border=\"1\" class=\"dataframe\">\n",
              "  <thead>\n",
              "    <tr style=\"text-align: right;\">\n",
              "      <th></th>\n",
              "      <th>A</th>\n",
              "      <th>B</th>\n",
              "      <th>C</th>\n",
              "      <th>D</th>\n",
              "      <th>F</th>\n",
              "      <th>E</th>\n",
              "    </tr>\n",
              "  </thead>\n",
              "  <tbody>\n",
              "    <tr>\n",
              "      <th>2013-01-01</th>\n",
              "      <td>0.000000</td>\n",
              "      <td>0.000000</td>\n",
              "      <td>0.884566</td>\n",
              "      <td>5</td>\n",
              "      <td>NaN</td>\n",
              "      <td>1.0</td>\n",
              "    </tr>\n",
              "    <tr>\n",
              "      <th>2013-01-02</th>\n",
              "      <td>1.693356</td>\n",
              "      <td>0.465537</td>\n",
              "      <td>-1.061198</td>\n",
              "      <td>5</td>\n",
              "      <td>1.0</td>\n",
              "      <td>1.0</td>\n",
              "    </tr>\n",
              "    <tr>\n",
              "      <th>2013-01-03</th>\n",
              "      <td>-0.138560</td>\n",
              "      <td>-0.106861</td>\n",
              "      <td>1.919986</td>\n",
              "      <td>5</td>\n",
              "      <td>2.0</td>\n",
              "      <td>NaN</td>\n",
              "    </tr>\n",
              "    <tr>\n",
              "      <th>2013-01-04</th>\n",
              "      <td>0.492017</td>\n",
              "      <td>0.443992</td>\n",
              "      <td>1.233379</td>\n",
              "      <td>5</td>\n",
              "      <td>3.0</td>\n",
              "      <td>NaN</td>\n",
              "    </tr>\n",
              "  </tbody>\n",
              "</table>\n",
              "</div>"
            ],
            "text/plain": [
              "                   A         B         C  D    F    E\n",
              "2013-01-01  0.000000  0.000000  0.884566  5  NaN  1.0\n",
              "2013-01-02  1.693356  0.465537 -1.061198  5  1.0  1.0\n",
              "2013-01-03 -0.138560 -0.106861  1.919986  5  2.0  NaN\n",
              "2013-01-04  0.492017  0.443992  1.233379  5  3.0  NaN"
            ]
          },
          "metadata": {
            "tags": []
          },
          "execution_count": 58
        }
      ]
    },
    {
      "metadata": {
        "id": "nzGUIHyfAW3Y",
        "colab_type": "text"
      },
      "cell_type": "markdown",
      "source": [
        "결측치를 가지고 있는 행들을 지웁니다."
      ]
    },
    {
      "metadata": {
        "id": "S-zlTo0pAeyf",
        "colab_type": "code",
        "colab": {
          "base_uri": "https://localhost:8080/",
          "height": 80
        },
        "outputId": "a2ff93ba-775f-4c41-b611-eb37631fabaf"
      },
      "cell_type": "code",
      "source": [
        "df1.dropna(how='any')"
      ],
      "execution_count": 59,
      "outputs": [
        {
          "output_type": "execute_result",
          "data": {
            "text/html": [
              "<div>\n",
              "<style scoped>\n",
              "    .dataframe tbody tr th:only-of-type {\n",
              "        vertical-align: middle;\n",
              "    }\n",
              "\n",
              "    .dataframe tbody tr th {\n",
              "        vertical-align: top;\n",
              "    }\n",
              "\n",
              "    .dataframe thead th {\n",
              "        text-align: right;\n",
              "    }\n",
              "</style>\n",
              "<table border=\"1\" class=\"dataframe\">\n",
              "  <thead>\n",
              "    <tr style=\"text-align: right;\">\n",
              "      <th></th>\n",
              "      <th>A</th>\n",
              "      <th>B</th>\n",
              "      <th>C</th>\n",
              "      <th>D</th>\n",
              "      <th>F</th>\n",
              "      <th>E</th>\n",
              "    </tr>\n",
              "  </thead>\n",
              "  <tbody>\n",
              "    <tr>\n",
              "      <th>2013-01-02</th>\n",
              "      <td>1.693356</td>\n",
              "      <td>0.465537</td>\n",
              "      <td>-1.061198</td>\n",
              "      <td>5</td>\n",
              "      <td>1.0</td>\n",
              "      <td>1.0</td>\n",
              "    </tr>\n",
              "  </tbody>\n",
              "</table>\n",
              "</div>"
            ],
            "text/plain": [
              "                   A         B         C  D    F    E\n",
              "2013-01-02  1.693356  0.465537 -1.061198  5  1.0  1.0"
            ]
          },
          "metadata": {
            "tags": []
          },
          "execution_count": 59
        }
      ]
    },
    {
      "metadata": {
        "id": "vrgy7BjkAfCF",
        "colab_type": "text"
      },
      "cell_type": "markdown",
      "source": [
        "결측치를 채워 넣습니다."
      ]
    },
    {
      "metadata": {
        "id": "h4nTFHr6AfUt",
        "colab_type": "code",
        "colab": {
          "base_uri": "https://localhost:8080/",
          "height": 173
        },
        "outputId": "6aee6801-ee89-4287-9208-1448bec17586"
      },
      "cell_type": "code",
      "source": [
        "df1.fillna(value=5)"
      ],
      "execution_count": 60,
      "outputs": [
        {
          "output_type": "execute_result",
          "data": {
            "text/html": [
              "<div>\n",
              "<style scoped>\n",
              "    .dataframe tbody tr th:only-of-type {\n",
              "        vertical-align: middle;\n",
              "    }\n",
              "\n",
              "    .dataframe tbody tr th {\n",
              "        vertical-align: top;\n",
              "    }\n",
              "\n",
              "    .dataframe thead th {\n",
              "        text-align: right;\n",
              "    }\n",
              "</style>\n",
              "<table border=\"1\" class=\"dataframe\">\n",
              "  <thead>\n",
              "    <tr style=\"text-align: right;\">\n",
              "      <th></th>\n",
              "      <th>A</th>\n",
              "      <th>B</th>\n",
              "      <th>C</th>\n",
              "      <th>D</th>\n",
              "      <th>F</th>\n",
              "      <th>E</th>\n",
              "    </tr>\n",
              "  </thead>\n",
              "  <tbody>\n",
              "    <tr>\n",
              "      <th>2013-01-01</th>\n",
              "      <td>0.000000</td>\n",
              "      <td>0.000000</td>\n",
              "      <td>0.884566</td>\n",
              "      <td>5</td>\n",
              "      <td>5.0</td>\n",
              "      <td>1.0</td>\n",
              "    </tr>\n",
              "    <tr>\n",
              "      <th>2013-01-02</th>\n",
              "      <td>1.693356</td>\n",
              "      <td>0.465537</td>\n",
              "      <td>-1.061198</td>\n",
              "      <td>5</td>\n",
              "      <td>1.0</td>\n",
              "      <td>1.0</td>\n",
              "    </tr>\n",
              "    <tr>\n",
              "      <th>2013-01-03</th>\n",
              "      <td>-0.138560</td>\n",
              "      <td>-0.106861</td>\n",
              "      <td>1.919986</td>\n",
              "      <td>5</td>\n",
              "      <td>2.0</td>\n",
              "      <td>5.0</td>\n",
              "    </tr>\n",
              "    <tr>\n",
              "      <th>2013-01-04</th>\n",
              "      <td>0.492017</td>\n",
              "      <td>0.443992</td>\n",
              "      <td>1.233379</td>\n",
              "      <td>5</td>\n",
              "      <td>3.0</td>\n",
              "      <td>5.0</td>\n",
              "    </tr>\n",
              "  </tbody>\n",
              "</table>\n",
              "</div>"
            ],
            "text/plain": [
              "                   A         B         C  D    F    E\n",
              "2013-01-01  0.000000  0.000000  0.884566  5  5.0  1.0\n",
              "2013-01-02  1.693356  0.465537 -1.061198  5  1.0  1.0\n",
              "2013-01-03 -0.138560 -0.106861  1.919986  5  2.0  5.0\n",
              "2013-01-04  0.492017  0.443992  1.233379  5  3.0  5.0"
            ]
          },
          "metadata": {
            "tags": []
          },
          "execution_count": 60
        }
      ]
    },
    {
      "metadata": {
        "id": "rWuLWklCAkWB",
        "colab_type": "text"
      },
      "cell_type": "markdown",
      "source": [
        "nan인 값에 Boolean(을 통한) 표식을 얻습니다.\n",
        "\n",
        "*역자 주 : 데이터프레임의 모든 값이 Boolean 형태로 표시되도록 하며, nan인 값에만 True가 표시되게 하는 함수입니다.*"
      ]
    },
    {
      "metadata": {
        "id": "tcWqhC4IBAgI",
        "colab_type": "code",
        "colab": {
          "base_uri": "https://localhost:8080/",
          "height": 173
        },
        "outputId": "cbef07f8-0c36-48de-cc3c-cec8bd1ee71b"
      },
      "cell_type": "code",
      "source": [
        "pd.isna(df1)"
      ],
      "execution_count": 61,
      "outputs": [
        {
          "output_type": "execute_result",
          "data": {
            "text/html": [
              "<div>\n",
              "<style scoped>\n",
              "    .dataframe tbody tr th:only-of-type {\n",
              "        vertical-align: middle;\n",
              "    }\n",
              "\n",
              "    .dataframe tbody tr th {\n",
              "        vertical-align: top;\n",
              "    }\n",
              "\n",
              "    .dataframe thead th {\n",
              "        text-align: right;\n",
              "    }\n",
              "</style>\n",
              "<table border=\"1\" class=\"dataframe\">\n",
              "  <thead>\n",
              "    <tr style=\"text-align: right;\">\n",
              "      <th></th>\n",
              "      <th>A</th>\n",
              "      <th>B</th>\n",
              "      <th>C</th>\n",
              "      <th>D</th>\n",
              "      <th>F</th>\n",
              "      <th>E</th>\n",
              "    </tr>\n",
              "  </thead>\n",
              "  <tbody>\n",
              "    <tr>\n",
              "      <th>2013-01-01</th>\n",
              "      <td>False</td>\n",
              "      <td>False</td>\n",
              "      <td>False</td>\n",
              "      <td>False</td>\n",
              "      <td>True</td>\n",
              "      <td>False</td>\n",
              "    </tr>\n",
              "    <tr>\n",
              "      <th>2013-01-02</th>\n",
              "      <td>False</td>\n",
              "      <td>False</td>\n",
              "      <td>False</td>\n",
              "      <td>False</td>\n",
              "      <td>False</td>\n",
              "      <td>False</td>\n",
              "    </tr>\n",
              "    <tr>\n",
              "      <th>2013-01-03</th>\n",
              "      <td>False</td>\n",
              "      <td>False</td>\n",
              "      <td>False</td>\n",
              "      <td>False</td>\n",
              "      <td>False</td>\n",
              "      <td>True</td>\n",
              "    </tr>\n",
              "    <tr>\n",
              "      <th>2013-01-04</th>\n",
              "      <td>False</td>\n",
              "      <td>False</td>\n",
              "      <td>False</td>\n",
              "      <td>False</td>\n",
              "      <td>False</td>\n",
              "      <td>True</td>\n",
              "    </tr>\n",
              "  </tbody>\n",
              "</table>\n",
              "</div>"
            ],
            "text/plain": [
              "                A      B      C      D      F      E\n",
              "2013-01-01  False  False  False  False   True  False\n",
              "2013-01-02  False  False  False  False  False  False\n",
              "2013-01-03  False  False  False  False  False   True\n",
              "2013-01-04  False  False  False  False  False   True"
            ]
          },
          "metadata": {
            "tags": []
          },
          "execution_count": 61
        }
      ]
    },
    {
      "metadata": {
        "id": "_Vtbv3Am59wL",
        "colab_type": "text"
      },
      "cell_type": "markdown",
      "source": [
        "## Operation (연산)"
      ]
    },
    {
      "metadata": {
        "id": "rX4XUGEG6gR4",
        "colab_type": "text"
      },
      "cell_type": "markdown",
      "source": [
        "[바이너리 연산의 기본 섹션](https://pandas.pydata.org/pandas-docs/stable/basics.html#basics-binop)을 참조하세요."
      ]
    },
    {
      "metadata": {
        "id": "mcVNuuy_5_wW",
        "colab_type": "text"
      },
      "cell_type": "markdown",
      "source": [
        "### Stats (통계)"
      ]
    },
    {
      "metadata": {
        "id": "iPX_nN0vBiMb",
        "colab_type": "text"
      },
      "cell_type": "markdown",
      "source": [
        "일반적으로 결측치를 제외한 후 연산됩니다.\n",
        "\n",
        "서술적인 통계를 수행합니다."
      ]
    },
    {
      "metadata": {
        "id": "6W54szbp68LC",
        "colab_type": "code",
        "colab": {},
        "outputId": "af1fd902-c926-485d-a1b6-a75e2691674c"
      },
      "cell_type": "code",
      "source": [
        "df.mean()"
      ],
      "execution_count": 0,
      "outputs": [
        {
          "output_type": "execute_result",
          "data": {
            "text/plain": [
              "A   -0.467911\n",
              "B   -0.244368\n",
              "C   -0.439973\n",
              "D    5.000000\n",
              "F    3.000000\n",
              "dtype: float64"
            ]
          },
          "metadata": {
            "tags": []
          },
          "execution_count": 61
        }
      ]
    },
    {
      "metadata": {
        "id": "UdhVHC9A6996",
        "colab_type": "text"
      },
      "cell_type": "markdown",
      "source": [
        "다른 축에서 동일한 연산을 수행합니다."
      ]
    },
    {
      "metadata": {
        "id": "XC1HZGxN6-MI",
        "colab_type": "code",
        "colab": {},
        "outputId": "094acede-e11e-425d-b041-d132eb568f90"
      },
      "cell_type": "code",
      "source": [
        "df.mean(1)"
      ],
      "execution_count": 0,
      "outputs": [
        {
          "output_type": "execute_result",
          "data": {
            "text/plain": [
              "2013-01-01    0.771020\n",
              "2013-01-02    1.010654\n",
              "2013-01-03    1.346247\n",
              "2013-01-04    1.385675\n",
              "2013-01-05    1.690268\n",
              "2013-01-06    1.567638\n",
              "Freq: D, dtype: float64"
            ]
          },
          "metadata": {
            "tags": []
          },
          "execution_count": 62
        }
      ]
    },
    {
      "metadata": {
        "id": "jiGhkFo-7HZf",
        "colab_type": "text"
      },
      "cell_type": "markdown",
      "source": [
        "정렬이 필요하며, 차원이 다른 객체로 연산해보겠습니다. 또한, pandas는 지정된 차원을 따라 자동으로 브로드 캐스팅됩니다.\n",
        "\n",
        "*역자 주 : broadcast란 numpy에서 유래한 용어로, n차원이나 스칼라 값으로 연산을 수행할 때 도출되는 결과의 규칙을 설명하는 것을 의미합니다.*"
      ]
    },
    {
      "metadata": {
        "id": "h3RUr6U_7Utf",
        "colab_type": "code",
        "colab": {}
      },
      "cell_type": "code",
      "source": [
        "s = pd.Series([1,3,5,np.nan,6,8], index=dates).shift(2)"
      ],
      "execution_count": 0,
      "outputs": []
    },
    {
      "metadata": {
        "id": "e-qo9CjL7XUD",
        "colab_type": "code",
        "colab": {},
        "outputId": "7d7b1027-e101-4e63-c7d4-660d4b23abb8"
      },
      "cell_type": "code",
      "source": [
        "s"
      ],
      "execution_count": 0,
      "outputs": [
        {
          "output_type": "execute_result",
          "data": {
            "text/plain": [
              "2013-01-01    NaN\n",
              "2013-01-02    NaN\n",
              "2013-01-03    1.0\n",
              "2013-01-04    3.0\n",
              "2013-01-05    5.0\n",
              "2013-01-06    NaN\n",
              "Freq: D, dtype: float64"
            ]
          },
          "metadata": {
            "tags": []
          },
          "execution_count": 64
        }
      ]
    },
    {
      "metadata": {
        "id": "GowqZoeb7ZZo",
        "colab_type": "code",
        "colab": {},
        "outputId": "5448cd31-75a5-42e7-a7fe-b7be75f2964d"
      },
      "cell_type": "code",
      "source": [
        "df.sub(s, axis='index')"
      ],
      "execution_count": 0,
      "outputs": [
        {
          "output_type": "execute_result",
          "data": {
            "text/html": [
              "<div>\n",
              "<style>\n",
              "    .dataframe thead tr:only-child th {\n",
              "        text-align: right;\n",
              "    }\n",
              "\n",
              "    .dataframe thead th {\n",
              "        text-align: left;\n",
              "    }\n",
              "\n",
              "    .dataframe tbody tr th {\n",
              "        vertical-align: top;\n",
              "    }\n",
              "</style>\n",
              "<table border=\"1\" class=\"dataframe\">\n",
              "  <thead>\n",
              "    <tr style=\"text-align: right;\">\n",
              "      <th></th>\n",
              "      <th>A</th>\n",
              "      <th>B</th>\n",
              "      <th>C</th>\n",
              "      <th>D</th>\n",
              "      <th>F</th>\n",
              "    </tr>\n",
              "  </thead>\n",
              "  <tbody>\n",
              "    <tr>\n",
              "      <th>2013-01-01</th>\n",
              "      <td>NaN</td>\n",
              "      <td>NaN</td>\n",
              "      <td>NaN</td>\n",
              "      <td>NaN</td>\n",
              "      <td>NaN</td>\n",
              "    </tr>\n",
              "    <tr>\n",
              "      <th>2013-01-02</th>\n",
              "      <td>NaN</td>\n",
              "      <td>NaN</td>\n",
              "      <td>NaN</td>\n",
              "      <td>NaN</td>\n",
              "      <td>NaN</td>\n",
              "    </tr>\n",
              "    <tr>\n",
              "      <th>2013-01-03</th>\n",
              "      <td>-2.938743</td>\n",
              "      <td>-0.388433</td>\n",
              "      <td>0.058411</td>\n",
              "      <td>4.0</td>\n",
              "      <td>1.0</td>\n",
              "    </tr>\n",
              "    <tr>\n",
              "      <th>2013-01-04</th>\n",
              "      <td>-4.394674</td>\n",
              "      <td>-2.837290</td>\n",
              "      <td>-2.839663</td>\n",
              "      <td>2.0</td>\n",
              "      <td>0.0</td>\n",
              "    </tr>\n",
              "    <tr>\n",
              "      <th>2013-01-05</th>\n",
              "      <td>-4.672071</td>\n",
              "      <td>-5.420072</td>\n",
              "      <td>-5.456519</td>\n",
              "      <td>0.0</td>\n",
              "      <td>-1.0</td>\n",
              "    </tr>\n",
              "    <tr>\n",
              "      <th>2013-01-06</th>\n",
              "      <td>NaN</td>\n",
              "      <td>NaN</td>\n",
              "      <td>NaN</td>\n",
              "      <td>NaN</td>\n",
              "      <td>NaN</td>\n",
              "    </tr>\n",
              "  </tbody>\n",
              "</table>\n",
              "</div>"
            ],
            "text/plain": [
              "                   A         B         C    D    F\n",
              "2013-01-01       NaN       NaN       NaN  NaN  NaN\n",
              "2013-01-02       NaN       NaN       NaN  NaN  NaN\n",
              "2013-01-03 -2.938743 -0.388433  0.058411  4.0  1.0\n",
              "2013-01-04 -4.394674 -2.837290 -2.839663  2.0  0.0\n",
              "2013-01-05 -4.672071 -5.420072 -5.456519  0.0 -1.0\n",
              "2013-01-06       NaN       NaN       NaN  NaN  NaN"
            ]
          },
          "metadata": {
            "tags": []
          },
          "execution_count": 65
        }
      ]
    },
    {
      "metadata": {
        "id": "R7jzj-cH6Ahc",
        "colab_type": "text"
      },
      "cell_type": "markdown",
      "source": [
        "### Apply (적용)"
      ]
    },
    {
      "metadata": {
        "id": "gkSA3r_R7Ea6",
        "colab_type": "text"
      },
      "cell_type": "markdown",
      "source": [
        "데이터에 함수를 적용합니다."
      ]
    },
    {
      "metadata": {
        "id": "kPNfiNAy7IQZ",
        "colab_type": "code",
        "colab": {},
        "outputId": "3946d67a-ee03-4d0c-e56a-c73efbb32b67"
      },
      "cell_type": "code",
      "source": [
        "df.apply(np.cumsum)"
      ],
      "execution_count": 0,
      "outputs": [
        {
          "output_type": "execute_result",
          "data": {
            "text/html": [
              "<div>\n",
              "<style>\n",
              "    .dataframe thead tr:only-child th {\n",
              "        text-align: right;\n",
              "    }\n",
              "\n",
              "    .dataframe thead th {\n",
              "        text-align: left;\n",
              "    }\n",
              "\n",
              "    .dataframe tbody tr th {\n",
              "        vertical-align: top;\n",
              "    }\n",
              "</style>\n",
              "<table border=\"1\" class=\"dataframe\">\n",
              "  <thead>\n",
              "    <tr style=\"text-align: right;\">\n",
              "      <th></th>\n",
              "      <th>A</th>\n",
              "      <th>B</th>\n",
              "      <th>C</th>\n",
              "      <th>D</th>\n",
              "      <th>F</th>\n",
              "    </tr>\n",
              "  </thead>\n",
              "  <tbody>\n",
              "    <tr>\n",
              "      <th>2013-01-01</th>\n",
              "      <td>0.000000</td>\n",
              "      <td>0.000000</td>\n",
              "      <td>-1.915918</td>\n",
              "      <td>5</td>\n",
              "      <td>NaN</td>\n",
              "    </tr>\n",
              "    <tr>\n",
              "      <th>2013-01-02</th>\n",
              "      <td>0.739140</td>\n",
              "      <td>-0.536030</td>\n",
              "      <td>-3.065756</td>\n",
              "      <td>10</td>\n",
              "      <td>1.0</td>\n",
              "    </tr>\n",
              "    <tr>\n",
              "      <th>2013-01-03</th>\n",
              "      <td>-1.199603</td>\n",
              "      <td>0.075536</td>\n",
              "      <td>-2.007344</td>\n",
              "      <td>15</td>\n",
              "      <td>3.0</td>\n",
              "    </tr>\n",
              "    <tr>\n",
              "      <th>2013-01-04</th>\n",
              "      <td>-2.594277</td>\n",
              "      <td>0.238247</td>\n",
              "      <td>-1.847008</td>\n",
              "      <td>20</td>\n",
              "      <td>6.0</td>\n",
              "    </tr>\n",
              "    <tr>\n",
              "      <th>2013-01-05</th>\n",
              "      <td>-2.266348</td>\n",
              "      <td>-0.181825</td>\n",
              "      <td>-2.303526</td>\n",
              "      <td>25</td>\n",
              "      <td>10.0</td>\n",
              "    </tr>\n",
              "    <tr>\n",
              "      <th>2013-01-06</th>\n",
              "      <td>-2.807464</td>\n",
              "      <td>-1.466208</td>\n",
              "      <td>-2.639837</td>\n",
              "      <td>30</td>\n",
              "      <td>15.0</td>\n",
              "    </tr>\n",
              "  </tbody>\n",
              "</table>\n",
              "</div>"
            ],
            "text/plain": [
              "                   A         B         C   D     F\n",
              "2013-01-01  0.000000  0.000000 -1.915918   5   NaN\n",
              "2013-01-02  0.739140 -0.536030 -3.065756  10   1.0\n",
              "2013-01-03 -1.199603  0.075536 -2.007344  15   3.0\n",
              "2013-01-04 -2.594277  0.238247 -1.847008  20   6.0\n",
              "2013-01-05 -2.266348 -0.181825 -2.303526  25  10.0\n",
              "2013-01-06 -2.807464 -1.466208 -2.639837  30  15.0"
            ]
          },
          "metadata": {
            "tags": []
          },
          "execution_count": 66
        }
      ]
    },
    {
      "metadata": {
        "id": "y02IO2qi7QPj",
        "colab_type": "code",
        "colab": {},
        "outputId": "cb3acd93-6aa1-4242-bd32-8237981133ac"
      },
      "cell_type": "code",
      "source": [
        "df.apply(lambda x: x.max() - x.min())"
      ],
      "execution_count": 0,
      "outputs": [
        {
          "output_type": "execute_result",
          "data": {
            "text/plain": [
              "A    2.677882\n",
              "B    1.895950\n",
              "C    2.974330\n",
              "D    0.000000\n",
              "F    4.000000\n",
              "dtype: float64"
            ]
          },
          "metadata": {
            "tags": []
          },
          "execution_count": 67
        }
      ]
    },
    {
      "metadata": {
        "id": "UyvQC_nC6S6g",
        "colab_type": "text"
      },
      "cell_type": "markdown",
      "source": [
        "### Histogramming (히스토그래밍)"
      ]
    },
    {
      "metadata": {
        "id": "lKd5leGq7KDd",
        "colab_type": "text"
      },
      "cell_type": "markdown",
      "source": [
        "더 많은 내용은 [Histogramming and Discretization (히스토그래밍과 이산화)](https://pandas.pydata.org/pandas-docs/stable/basics.html#basics-discretization) 항목을 참조하세요."
      ]
    },
    {
      "metadata": {
        "id": "TL4MDK3o7I6X",
        "colab_type": "code",
        "colab": {}
      },
      "cell_type": "code",
      "source": [
        "s = pd.Series(np.random.randint(0, 7, size=10))"
      ],
      "execution_count": 0,
      "outputs": []
    },
    {
      "metadata": {
        "id": "1Aa6PhyU7TD0",
        "colab_type": "code",
        "colab": {},
        "outputId": "fd3a95f5-87a5-45f3-fccf-b7625f1b6173"
      },
      "cell_type": "code",
      "source": [
        "s"
      ],
      "execution_count": 0,
      "outputs": [
        {
          "output_type": "execute_result",
          "data": {
            "text/plain": [
              "0    3\n",
              "1    0\n",
              "2    5\n",
              "3    3\n",
              "4    0\n",
              "5    3\n",
              "6    5\n",
              "7    1\n",
              "8    4\n",
              "9    4\n",
              "dtype: int32"
            ]
          },
          "metadata": {
            "tags": []
          },
          "execution_count": 69
        }
      ]
    },
    {
      "metadata": {
        "id": "Jft1Ma0v7VLn",
        "colab_type": "code",
        "colab": {
          "base_uri": "https://localhost:8080/",
          "height": 124
        },
        "outputId": "5b58fe9b-e21b-4044-833f-abbae60ce26b"
      },
      "cell_type": "code",
      "source": [
        "s.value_counts()"
      ],
      "execution_count": 0,
      "outputs": [
        {
          "output_type": "execute_result",
          "data": {
            "text/plain": [
              "3    3\n",
              "5    2\n",
              "4    2\n",
              "0    2\n",
              "1    1\n",
              "dtype: int64"
            ]
          },
          "metadata": {
            "tags": []
          },
          "execution_count": 70
        }
      ]
    },
    {
      "metadata": {
        "id": "WsQyIOdF6aPw",
        "colab_type": "text"
      },
      "cell_type": "markdown",
      "source": [
        "### String Methods (문자열 메소드)"
      ]
    },
    {
      "metadata": {
        "id": "ap_qOc_x7dwT",
        "colab_type": "text"
      },
      "cell_type": "markdown",
      "source": [
        "Series는 다음의 코드와 같이 문자열 처리 메소드 모음(set)을 가지고 있습니다. <br>\n",
        "이 모음은 배열의 각 요소를 쉽게 조작할 수 있도록 만들어주는 문자열의 속성에 포함되어 있습니다.\n",
        "\n",
        "문자열의 패턴 일치 확인은 기본적으로 정규 표현식을 사용하며, 몇몇 경우에는 항상 정규 표현식을 사용함에 유의하십시오.\n",
        "\n",
        "좀 더 자세한 내용은 [벡터화된 문자열 메소드](https://pandas.pydata.org/pandas-docs/stable/text.html#text-string-methods) 부분에서 확인할 수 있습니다."
      ]
    },
    {
      "metadata": {
        "id": "jn5Yl6Md7cqb",
        "colab_type": "code",
        "colab": {}
      },
      "cell_type": "code",
      "source": [
        "s = pd.Series(['A', 'B', 'C', 'Aaba', 'Baca', np.nan, 'CABA', 'dog', 'cat'])"
      ],
      "execution_count": 0,
      "outputs": []
    },
    {
      "metadata": {
        "id": "ZL7RxX4k8HHP",
        "colab_type": "code",
        "colab": {},
        "outputId": "a72976c0-b81b-4c94-e64b-db88ac9a75a7"
      },
      "cell_type": "code",
      "source": [
        "s.str.lower()"
      ],
      "execution_count": 0,
      "outputs": [
        {
          "output_type": "execute_result",
          "data": {
            "text/plain": [
              "0       a\n",
              "1       b\n",
              "2       c\n",
              "3    aaba\n",
              "4    baca\n",
              "5     NaN\n",
              "6    caba\n",
              "7     dog\n",
              "8     cat\n",
              "dtype: object"
            ]
          },
          "metadata": {
            "tags": []
          },
          "execution_count": 72
        }
      ]
    },
    {
      "metadata": {
        "id": "-NpTTJzF34oe",
        "colab_type": "text"
      },
      "cell_type": "markdown",
      "source": [
        "## Merge (병합)"
      ]
    },
    {
      "metadata": {
        "id": "fZWj-N4CLNig",
        "colab_type": "text"
      },
      "cell_type": "markdown",
      "source": [
        "### Concat (연결)"
      ]
    },
    {
      "metadata": {
        "id": "2XQbTp_-LNii",
        "colab_type": "text"
      },
      "cell_type": "markdown",
      "source": [
        "결합(join) / 병합(merge) 형태의 연산에 대한 인덱스, 관계 대수 기능을 위한 다양한 형태의 논리를 포함한 Series, 데이터프레임, Panel 객체를 손쉽게 결합할 수 있도록 하는 다양한 기능을 pandas 에서 제공합니다. "
      ]
    },
    {
      "metadata": {
        "id": "yFuabtnHLNii",
        "colab_type": "text"
      },
      "cell_type": "markdown",
      "source": [
        "[Merging](https://pandas.pydata.org/pandas-docs/stable/merging.html#merging) 부분을 참조하세요. "
      ]
    },
    {
      "metadata": {
        "id": "QcnDHOtILNii",
        "colab_type": "text"
      },
      "cell_type": "markdown",
      "source": [
        "[concat()](https://pandas.pydata.org/pandas-docs/stable/generated/pandas.concat.html#pandas.concat)으로 pandas 객체를 연결합니다. "
      ]
    },
    {
      "metadata": {
        "id": "TCrlCvfu_IKR",
        "colab_type": "code",
        "colab": {}
      },
      "cell_type": "code",
      "source": [
        "df = pd.DataFrame(np.random.randn(10, 4))"
      ],
      "execution_count": 0,
      "outputs": []
    },
    {
      "metadata": {
        "id": "mdOlcCIKAVri",
        "colab_type": "code",
        "colab": {
          "base_uri": "https://localhost:8080/",
          "height": 348
        },
        "outputId": "5d5650af-530b-403f-b400-583fcadea7b0"
      },
      "cell_type": "code",
      "source": [
        "df"
      ],
      "execution_count": 0,
      "outputs": [
        {
          "output_type": "execute_result",
          "data": {
            "text/html": [
              "<div>\n",
              "<style>\n",
              "    .dataframe thead tr:only-child th {\n",
              "        text-align: right;\n",
              "    }\n",
              "\n",
              "    .dataframe thead th {\n",
              "        text-align: left;\n",
              "    }\n",
              "\n",
              "    .dataframe tbody tr th {\n",
              "        vertical-align: top;\n",
              "    }\n",
              "</style>\n",
              "<table border=\"1\" class=\"dataframe\">\n",
              "  <thead>\n",
              "    <tr style=\"text-align: right;\">\n",
              "      <th></th>\n",
              "      <th>0</th>\n",
              "      <th>1</th>\n",
              "      <th>2</th>\n",
              "      <th>3</th>\n",
              "    </tr>\n",
              "  </thead>\n",
              "  <tbody>\n",
              "    <tr>\n",
              "      <th>0</th>\n",
              "      <td>0.465930</td>\n",
              "      <td>-0.294568</td>\n",
              "      <td>-0.969746</td>\n",
              "      <td>-0.942637</td>\n",
              "    </tr>\n",
              "    <tr>\n",
              "      <th>1</th>\n",
              "      <td>-0.507939</td>\n",
              "      <td>0.204360</td>\n",
              "      <td>-0.726540</td>\n",
              "      <td>-0.603563</td>\n",
              "    </tr>\n",
              "    <tr>\n",
              "      <th>2</th>\n",
              "      <td>-2.484222</td>\n",
              "      <td>0.429651</td>\n",
              "      <td>1.173268</td>\n",
              "      <td>0.982490</td>\n",
              "    </tr>\n",
              "    <tr>\n",
              "      <th>3</th>\n",
              "      <td>0.220123</td>\n",
              "      <td>-1.764940</td>\n",
              "      <td>0.561541</td>\n",
              "      <td>0.449386</td>\n",
              "    </tr>\n",
              "    <tr>\n",
              "      <th>4</th>\n",
              "      <td>0.062582</td>\n",
              "      <td>-0.661916</td>\n",
              "      <td>-0.623574</td>\n",
              "      <td>-0.070363</td>\n",
              "    </tr>\n",
              "    <tr>\n",
              "      <th>5</th>\n",
              "      <td>1.205013</td>\n",
              "      <td>0.576428</td>\n",
              "      <td>-0.928228</td>\n",
              "      <td>1.180106</td>\n",
              "    </tr>\n",
              "    <tr>\n",
              "      <th>6</th>\n",
              "      <td>0.099342</td>\n",
              "      <td>0.309656</td>\n",
              "      <td>-0.016077</td>\n",
              "      <td>-0.626761</td>\n",
              "    </tr>\n",
              "    <tr>\n",
              "      <th>7</th>\n",
              "      <td>-0.551134</td>\n",
              "      <td>0.137990</td>\n",
              "      <td>0.618834</td>\n",
              "      <td>0.526196</td>\n",
              "    </tr>\n",
              "    <tr>\n",
              "      <th>8</th>\n",
              "      <td>-1.082376</td>\n",
              "      <td>-0.521040</td>\n",
              "      <td>0.063525</td>\n",
              "      <td>-0.121236</td>\n",
              "    </tr>\n",
              "    <tr>\n",
              "      <th>9</th>\n",
              "      <td>-0.741910</td>\n",
              "      <td>1.272558</td>\n",
              "      <td>-0.966056</td>\n",
              "      <td>0.447806</td>\n",
              "    </tr>\n",
              "  </tbody>\n",
              "</table>\n",
              "</div>"
            ],
            "text/plain": [
              "          0         1         2         3\n",
              "0  0.465930 -0.294568 -0.969746 -0.942637\n",
              "1 -0.507939  0.204360 -0.726540 -0.603563\n",
              "2 -2.484222  0.429651  1.173268  0.982490\n",
              "3  0.220123 -1.764940  0.561541  0.449386\n",
              "4  0.062582 -0.661916 -0.623574 -0.070363\n",
              "5  1.205013  0.576428 -0.928228  1.180106\n",
              "6  0.099342  0.309656 -0.016077 -0.626761\n",
              "7 -0.551134  0.137990  0.618834  0.526196\n",
              "8 -1.082376 -0.521040  0.063525 -0.121236\n",
              "9 -0.741910  1.272558 -0.966056  0.447806"
            ]
          },
          "metadata": {
            "tags": []
          },
          "execution_count": 74
        }
      ]
    },
    {
      "metadata": {
        "id": "eJgLcGzLAYU-",
        "colab_type": "code",
        "colab": {}
      },
      "cell_type": "code",
      "source": [
        "# break it into pieces\n",
        "pieces = [df[:3], df[3:7], df[7:]]"
      ],
      "execution_count": 0,
      "outputs": []
    },
    {
      "metadata": {
        "id": "JQE1qIJaxBWK",
        "colab_type": "code",
        "colab": {},
        "outputId": "290e3107-c385-4e12-c231-22c2cdc92eea"
      },
      "cell_type": "code",
      "source": [
        "pd.concat(pieces)"
      ],
      "execution_count": 0,
      "outputs": [
        {
          "output_type": "execute_result",
          "data": {
            "text/html": [
              "<div>\n",
              "<style>\n",
              "    .dataframe thead tr:only-child th {\n",
              "        text-align: right;\n",
              "    }\n",
              "\n",
              "    .dataframe thead th {\n",
              "        text-align: left;\n",
              "    }\n",
              "\n",
              "    .dataframe tbody tr th {\n",
              "        vertical-align: top;\n",
              "    }\n",
              "</style>\n",
              "<table border=\"1\" class=\"dataframe\">\n",
              "  <thead>\n",
              "    <tr style=\"text-align: right;\">\n",
              "      <th></th>\n",
              "      <th>0</th>\n",
              "      <th>1</th>\n",
              "      <th>2</th>\n",
              "      <th>3</th>\n",
              "    </tr>\n",
              "  </thead>\n",
              "  <tbody>\n",
              "    <tr>\n",
              "      <th>0</th>\n",
              "      <td>0.465930</td>\n",
              "      <td>-0.294568</td>\n",
              "      <td>-0.969746</td>\n",
              "      <td>-0.942637</td>\n",
              "    </tr>\n",
              "    <tr>\n",
              "      <th>1</th>\n",
              "      <td>-0.507939</td>\n",
              "      <td>0.204360</td>\n",
              "      <td>-0.726540</td>\n",
              "      <td>-0.603563</td>\n",
              "    </tr>\n",
              "    <tr>\n",
              "      <th>2</th>\n",
              "      <td>-2.484222</td>\n",
              "      <td>0.429651</td>\n",
              "      <td>1.173268</td>\n",
              "      <td>0.982490</td>\n",
              "    </tr>\n",
              "    <tr>\n",
              "      <th>3</th>\n",
              "      <td>0.220123</td>\n",
              "      <td>-1.764940</td>\n",
              "      <td>0.561541</td>\n",
              "      <td>0.449386</td>\n",
              "    </tr>\n",
              "    <tr>\n",
              "      <th>4</th>\n",
              "      <td>0.062582</td>\n",
              "      <td>-0.661916</td>\n",
              "      <td>-0.623574</td>\n",
              "      <td>-0.070363</td>\n",
              "    </tr>\n",
              "    <tr>\n",
              "      <th>5</th>\n",
              "      <td>1.205013</td>\n",
              "      <td>0.576428</td>\n",
              "      <td>-0.928228</td>\n",
              "      <td>1.180106</td>\n",
              "    </tr>\n",
              "    <tr>\n",
              "      <th>6</th>\n",
              "      <td>0.099342</td>\n",
              "      <td>0.309656</td>\n",
              "      <td>-0.016077</td>\n",
              "      <td>-0.626761</td>\n",
              "    </tr>\n",
              "    <tr>\n",
              "      <th>7</th>\n",
              "      <td>-0.551134</td>\n",
              "      <td>0.137990</td>\n",
              "      <td>0.618834</td>\n",
              "      <td>0.526196</td>\n",
              "    </tr>\n",
              "    <tr>\n",
              "      <th>8</th>\n",
              "      <td>-1.082376</td>\n",
              "      <td>-0.521040</td>\n",
              "      <td>0.063525</td>\n",
              "      <td>-0.121236</td>\n",
              "    </tr>\n",
              "    <tr>\n",
              "      <th>9</th>\n",
              "      <td>-0.741910</td>\n",
              "      <td>1.272558</td>\n",
              "      <td>-0.966056</td>\n",
              "      <td>0.447806</td>\n",
              "    </tr>\n",
              "  </tbody>\n",
              "</table>\n",
              "</div>"
            ],
            "text/plain": [
              "          0         1         2         3\n",
              "0  0.465930 -0.294568 -0.969746 -0.942637\n",
              "1 -0.507939  0.204360 -0.726540 -0.603563\n",
              "2 -2.484222  0.429651  1.173268  0.982490\n",
              "3  0.220123 -1.764940  0.561541  0.449386\n",
              "4  0.062582 -0.661916 -0.623574 -0.070363\n",
              "5  1.205013  0.576428 -0.928228  1.180106\n",
              "6  0.099342  0.309656 -0.016077 -0.626761\n",
              "7 -0.551134  0.137990  0.618834  0.526196\n",
              "8 -1.082376 -0.521040  0.063525 -0.121236\n",
              "9 -0.741910  1.272558 -0.966056  0.447806"
            ]
          },
          "metadata": {
            "tags": []
          },
          "execution_count": 76
        }
      ]
    },
    {
      "metadata": {
        "id": "7IBM0m8GLNjX",
        "colab_type": "text"
      },
      "cell_type": "markdown",
      "source": [
        "### Join (결합)"
      ]
    },
    {
      "metadata": {
        "id": "AxRyEICVkHJb",
        "colab_type": "text"
      },
      "cell_type": "markdown",
      "source": [
        "SQL 방식으로 병합합니다. [데이터베이스 스타일 결합](https://pandas.pydata.org/pandas-docs/stable/merging.html#merging-join) 부분을 참고하세요."
      ]
    },
    {
      "metadata": {
        "id": "e-srIyoILNjX",
        "colab_type": "code",
        "colab": {}
      },
      "cell_type": "code",
      "source": [
        "left = pd.DataFrame({'key': ['foo', 'foo'], 'lval': [1, 2]})"
      ],
      "execution_count": 0,
      "outputs": []
    },
    {
      "metadata": {
        "id": "v5bAleqrLNjZ",
        "colab_type": "code",
        "colab": {}
      },
      "cell_type": "code",
      "source": [
        "right = pd.DataFrame({'key': ['foo', 'foo'], 'rval': [4, 5]})"
      ],
      "execution_count": 0,
      "outputs": []
    },
    {
      "metadata": {
        "id": "wFKpjvEWLNja",
        "colab_type": "code",
        "colab": {
          "base_uri": "https://localhost:8080/",
          "height": 108
        },
        "outputId": "eaecef75-6d58-47d5-ea50-09bce9c74fc4"
      },
      "cell_type": "code",
      "source": [
        "left"
      ],
      "execution_count": 0,
      "outputs": [
        {
          "output_type": "execute_result",
          "data": {
            "text/html": [
              "<div>\n",
              "<style>\n",
              "    .dataframe thead tr:only-child th {\n",
              "        text-align: right;\n",
              "    }\n",
              "\n",
              "    .dataframe thead th {\n",
              "        text-align: left;\n",
              "    }\n",
              "\n",
              "    .dataframe tbody tr th {\n",
              "        vertical-align: top;\n",
              "    }\n",
              "</style>\n",
              "<table border=\"1\" class=\"dataframe\">\n",
              "  <thead>\n",
              "    <tr style=\"text-align: right;\">\n",
              "      <th></th>\n",
              "      <th>key</th>\n",
              "      <th>lval</th>\n",
              "    </tr>\n",
              "  </thead>\n",
              "  <tbody>\n",
              "    <tr>\n",
              "      <th>0</th>\n",
              "      <td>foo</td>\n",
              "      <td>1</td>\n",
              "    </tr>\n",
              "    <tr>\n",
              "      <th>1</th>\n",
              "      <td>foo</td>\n",
              "      <td>2</td>\n",
              "    </tr>\n",
              "  </tbody>\n",
              "</table>\n",
              "</div>"
            ],
            "text/plain": [
              "   key  lval\n",
              "0  foo     1\n",
              "1  foo     2"
            ]
          },
          "metadata": {
            "tags": []
          },
          "execution_count": 79
        }
      ]
    },
    {
      "metadata": {
        "id": "yg9oRrTA4ntI",
        "colab_type": "code",
        "colab": {
          "base_uri": "https://localhost:8080/",
          "height": 108
        },
        "outputId": "8d8143a5-9fc8-4a82-d8c4-291d7850be44"
      },
      "cell_type": "code",
      "source": [
        "right"
      ],
      "execution_count": 0,
      "outputs": [
        {
          "output_type": "execute_result",
          "data": {
            "text/html": [
              "<div>\n",
              "<style>\n",
              "    .dataframe thead tr:only-child th {\n",
              "        text-align: right;\n",
              "    }\n",
              "\n",
              "    .dataframe thead th {\n",
              "        text-align: left;\n",
              "    }\n",
              "\n",
              "    .dataframe tbody tr th {\n",
              "        vertical-align: top;\n",
              "    }\n",
              "</style>\n",
              "<table border=\"1\" class=\"dataframe\">\n",
              "  <thead>\n",
              "    <tr style=\"text-align: right;\">\n",
              "      <th></th>\n",
              "      <th>key</th>\n",
              "      <th>rval</th>\n",
              "    </tr>\n",
              "  </thead>\n",
              "  <tbody>\n",
              "    <tr>\n",
              "      <th>0</th>\n",
              "      <td>foo</td>\n",
              "      <td>4</td>\n",
              "    </tr>\n",
              "    <tr>\n",
              "      <th>1</th>\n",
              "      <td>foo</td>\n",
              "      <td>5</td>\n",
              "    </tr>\n",
              "  </tbody>\n",
              "</table>\n",
              "</div>"
            ],
            "text/plain": [
              "   key  rval\n",
              "0  foo     4\n",
              "1  foo     5"
            ]
          },
          "metadata": {
            "tags": []
          },
          "execution_count": 80
        }
      ]
    },
    {
      "metadata": {
        "id": "5fN8wCZl5qVv",
        "colab_type": "code",
        "colab": {
          "base_uri": "https://localhost:8080/",
          "height": 169
        },
        "outputId": "f124412e-daf4-4635-92b6-35a2137496bd"
      },
      "cell_type": "code",
      "source": [
        "pd.merge(left, right, on= 'key')"
      ],
      "execution_count": 0,
      "outputs": [
        {
          "output_type": "execute_result",
          "data": {
            "text/html": [
              "<div>\n",
              "<style>\n",
              "    .dataframe thead tr:only-child th {\n",
              "        text-align: right;\n",
              "    }\n",
              "\n",
              "    .dataframe thead th {\n",
              "        text-align: left;\n",
              "    }\n",
              "\n",
              "    .dataframe tbody tr th {\n",
              "        vertical-align: top;\n",
              "    }\n",
              "</style>\n",
              "<table border=\"1\" class=\"dataframe\">\n",
              "  <thead>\n",
              "    <tr style=\"text-align: right;\">\n",
              "      <th></th>\n",
              "      <th>key</th>\n",
              "      <th>lval</th>\n",
              "      <th>rval</th>\n",
              "    </tr>\n",
              "  </thead>\n",
              "  <tbody>\n",
              "    <tr>\n",
              "      <th>0</th>\n",
              "      <td>foo</td>\n",
              "      <td>1</td>\n",
              "      <td>4</td>\n",
              "    </tr>\n",
              "    <tr>\n",
              "      <th>1</th>\n",
              "      <td>foo</td>\n",
              "      <td>1</td>\n",
              "      <td>5</td>\n",
              "    </tr>\n",
              "    <tr>\n",
              "      <th>2</th>\n",
              "      <td>foo</td>\n",
              "      <td>2</td>\n",
              "      <td>4</td>\n",
              "    </tr>\n",
              "    <tr>\n",
              "      <th>3</th>\n",
              "      <td>foo</td>\n",
              "      <td>2</td>\n",
              "      <td>5</td>\n",
              "    </tr>\n",
              "  </tbody>\n",
              "</table>\n",
              "</div>"
            ],
            "text/plain": [
              "   key  lval  rval\n",
              "0  foo     1     4\n",
              "1  foo     1     5\n",
              "2  foo     2     4\n",
              "3  foo     2     5"
            ]
          },
          "metadata": {
            "tags": []
          },
          "execution_count": 81
        }
      ]
    },
    {
      "metadata": {
        "id": "UEBAM4h6_gid",
        "colab_type": "text"
      },
      "cell_type": "markdown",
      "source": [
        "다른 예시입니다."
      ]
    },
    {
      "metadata": {
        "id": "h2Xlgd-o6xIx",
        "colab_type": "code",
        "colab": {}
      },
      "cell_type": "code",
      "source": [
        "left = pd.DataFrame({'key' : ['foo', 'bar'], 'lval' : [1, 2]})"
      ],
      "execution_count": 0,
      "outputs": []
    },
    {
      "metadata": {
        "id": "8FnaD9XoAtnd",
        "colab_type": "code",
        "colab": {}
      },
      "cell_type": "code",
      "source": [
        "right = pd.DataFrame({'key': ['foo', 'bar'], 'rval': [4, 5]})"
      ],
      "execution_count": 0,
      "outputs": []
    },
    {
      "metadata": {
        "id": "Y15ZVKlKA--o",
        "colab_type": "code",
        "colab": {
          "base_uri": "https://localhost:8080/",
          "height": 108
        },
        "outputId": "daf289b9-e39f-4f05-b3dd-8df7442ee656"
      },
      "cell_type": "code",
      "source": [
        "left"
      ],
      "execution_count": 0,
      "outputs": [
        {
          "output_type": "execute_result",
          "data": {
            "text/html": [
              "<div>\n",
              "<style>\n",
              "    .dataframe thead tr:only-child th {\n",
              "        text-align: right;\n",
              "    }\n",
              "\n",
              "    .dataframe thead th {\n",
              "        text-align: left;\n",
              "    }\n",
              "\n",
              "    .dataframe tbody tr th {\n",
              "        vertical-align: top;\n",
              "    }\n",
              "</style>\n",
              "<table border=\"1\" class=\"dataframe\">\n",
              "  <thead>\n",
              "    <tr style=\"text-align: right;\">\n",
              "      <th></th>\n",
              "      <th>key</th>\n",
              "      <th>lval</th>\n",
              "    </tr>\n",
              "  </thead>\n",
              "  <tbody>\n",
              "    <tr>\n",
              "      <th>0</th>\n",
              "      <td>foo</td>\n",
              "      <td>1</td>\n",
              "    </tr>\n",
              "    <tr>\n",
              "      <th>1</th>\n",
              "      <td>bar</td>\n",
              "      <td>2</td>\n",
              "    </tr>\n",
              "  </tbody>\n",
              "</table>\n",
              "</div>"
            ],
            "text/plain": [
              "   key  lval\n",
              "0  foo     1\n",
              "1  bar     2"
            ]
          },
          "metadata": {
            "tags": []
          },
          "execution_count": 84
        }
      ]
    },
    {
      "metadata": {
        "id": "ZRpNjm6wBCW0",
        "colab_type": "code",
        "colab": {
          "base_uri": "https://localhost:8080/",
          "height": 108
        },
        "outputId": "ff4d9d71-6586-41c6-912c-dd54e99d451e"
      },
      "cell_type": "code",
      "source": [
        "right "
      ],
      "execution_count": 0,
      "outputs": [
        {
          "output_type": "execute_result",
          "data": {
            "text/html": [
              "<div>\n",
              "<style>\n",
              "    .dataframe thead tr:only-child th {\n",
              "        text-align: right;\n",
              "    }\n",
              "\n",
              "    .dataframe thead th {\n",
              "        text-align: left;\n",
              "    }\n",
              "\n",
              "    .dataframe tbody tr th {\n",
              "        vertical-align: top;\n",
              "    }\n",
              "</style>\n",
              "<table border=\"1\" class=\"dataframe\">\n",
              "  <thead>\n",
              "    <tr style=\"text-align: right;\">\n",
              "      <th></th>\n",
              "      <th>key</th>\n",
              "      <th>rval</th>\n",
              "    </tr>\n",
              "  </thead>\n",
              "  <tbody>\n",
              "    <tr>\n",
              "      <th>0</th>\n",
              "      <td>foo</td>\n",
              "      <td>4</td>\n",
              "    </tr>\n",
              "    <tr>\n",
              "      <th>1</th>\n",
              "      <td>bar</td>\n",
              "      <td>5</td>\n",
              "    </tr>\n",
              "  </tbody>\n",
              "</table>\n",
              "</div>"
            ],
            "text/plain": [
              "   key  rval\n",
              "0  foo     4\n",
              "1  bar     5"
            ]
          },
          "metadata": {
            "tags": []
          },
          "execution_count": 85
        }
      ]
    },
    {
      "metadata": {
        "id": "duVQRnqnBFPe",
        "colab_type": "code",
        "colab": {
          "base_uri": "https://localhost:8080/",
          "height": 108
        },
        "outputId": "665d2aa5-b50f-4288-8261-2ca2b2e07f5b"
      },
      "cell_type": "code",
      "source": [
        "pd.merge(left, right, on= 'key')"
      ],
      "execution_count": 0,
      "outputs": [
        {
          "output_type": "execute_result",
          "data": {
            "text/html": [
              "<div>\n",
              "<style>\n",
              "    .dataframe thead tr:only-child th {\n",
              "        text-align: right;\n",
              "    }\n",
              "\n",
              "    .dataframe thead th {\n",
              "        text-align: left;\n",
              "    }\n",
              "\n",
              "    .dataframe tbody tr th {\n",
              "        vertical-align: top;\n",
              "    }\n",
              "</style>\n",
              "<table border=\"1\" class=\"dataframe\">\n",
              "  <thead>\n",
              "    <tr style=\"text-align: right;\">\n",
              "      <th></th>\n",
              "      <th>key</th>\n",
              "      <th>lval</th>\n",
              "      <th>rval</th>\n",
              "    </tr>\n",
              "  </thead>\n",
              "  <tbody>\n",
              "    <tr>\n",
              "      <th>0</th>\n",
              "      <td>foo</td>\n",
              "      <td>1</td>\n",
              "      <td>4</td>\n",
              "    </tr>\n",
              "    <tr>\n",
              "      <th>1</th>\n",
              "      <td>bar</td>\n",
              "      <td>2</td>\n",
              "      <td>5</td>\n",
              "    </tr>\n",
              "  </tbody>\n",
              "</table>\n",
              "</div>"
            ],
            "text/plain": [
              "   key  lval  rval\n",
              "0  foo     1     4\n",
              "1  bar     2     5"
            ]
          },
          "metadata": {
            "tags": []
          },
          "execution_count": 86
        }
      ]
    },
    {
      "metadata": {
        "id": "9-CsJ6kHLNjc",
        "colab_type": "text"
      },
      "cell_type": "markdown",
      "source": [
        "### Append (추가)"
      ]
    },
    {
      "metadata": {
        "id": "CQoQZg9aLNjc",
        "colab_type": "text"
      },
      "cell_type": "markdown",
      "source": [
        "데이터프레임에 행을 추가합니다. [Appending](https://pandas.pydata.org/pandas-docs/stable/merging.html#merging-concatenation) 부분을 참조하세요."
      ]
    },
    {
      "metadata": {
        "id": "DniPx4zTLNjc",
        "colab_type": "code",
        "colab": {}
      },
      "cell_type": "code",
      "source": [
        "df = pd.DataFrame(np.random.randn(8, 4), columns=['A', 'B', 'C', 'D'])"
      ],
      "execution_count": 0,
      "outputs": []
    },
    {
      "metadata": {
        "id": "Z83pFze46h4h",
        "colab_type": "code",
        "colab": {},
        "outputId": "2fc915be-271f-4bf5-f4ca-4ff8c5ad6f17"
      },
      "cell_type": "code",
      "source": [
        "df"
      ],
      "execution_count": 0,
      "outputs": [
        {
          "output_type": "execute_result",
          "data": {
            "text/html": [
              "<div>\n",
              "<style>\n",
              "    .dataframe thead tr:only-child th {\n",
              "        text-align: right;\n",
              "    }\n",
              "\n",
              "    .dataframe thead th {\n",
              "        text-align: left;\n",
              "    }\n",
              "\n",
              "    .dataframe tbody tr th {\n",
              "        vertical-align: top;\n",
              "    }\n",
              "</style>\n",
              "<table border=\"1\" class=\"dataframe\">\n",
              "  <thead>\n",
              "    <tr style=\"text-align: right;\">\n",
              "      <th></th>\n",
              "      <th>A</th>\n",
              "      <th>B</th>\n",
              "      <th>C</th>\n",
              "      <th>D</th>\n",
              "    </tr>\n",
              "  </thead>\n",
              "  <tbody>\n",
              "    <tr>\n",
              "      <th>0</th>\n",
              "      <td>-0.094256</td>\n",
              "      <td>0.113071</td>\n",
              "      <td>0.086663</td>\n",
              "      <td>-0.958684</td>\n",
              "    </tr>\n",
              "    <tr>\n",
              "      <th>1</th>\n",
              "      <td>0.514690</td>\n",
              "      <td>0.437548</td>\n",
              "      <td>1.024788</td>\n",
              "      <td>-0.443315</td>\n",
              "    </tr>\n",
              "    <tr>\n",
              "      <th>2</th>\n",
              "      <td>0.208814</td>\n",
              "      <td>-1.511254</td>\n",
              "      <td>1.137071</td>\n",
              "      <td>1.026610</td>\n",
              "    </tr>\n",
              "    <tr>\n",
              "      <th>3</th>\n",
              "      <td>-2.341156</td>\n",
              "      <td>0.964865</td>\n",
              "      <td>0.115216</td>\n",
              "      <td>-0.180246</td>\n",
              "    </tr>\n",
              "    <tr>\n",
              "      <th>4</th>\n",
              "      <td>0.907866</td>\n",
              "      <td>0.740259</td>\n",
              "      <td>-1.856794</td>\n",
              "      <td>-1.587884</td>\n",
              "    </tr>\n",
              "    <tr>\n",
              "      <th>5</th>\n",
              "      <td>0.981032</td>\n",
              "      <td>2.246777</td>\n",
              "      <td>0.005626</td>\n",
              "      <td>-0.045686</td>\n",
              "    </tr>\n",
              "    <tr>\n",
              "      <th>6</th>\n",
              "      <td>0.497254</td>\n",
              "      <td>-1.091214</td>\n",
              "      <td>-0.150982</td>\n",
              "      <td>-0.601780</td>\n",
              "    </tr>\n",
              "    <tr>\n",
              "      <th>7</th>\n",
              "      <td>-0.666543</td>\n",
              "      <td>1.901743</td>\n",
              "      <td>-0.495735</td>\n",
              "      <td>-0.343708</td>\n",
              "    </tr>\n",
              "  </tbody>\n",
              "</table>\n",
              "</div>"
            ],
            "text/plain": [
              "          A         B         C         D\n",
              "0 -0.094256  0.113071  0.086663 -0.958684\n",
              "1  0.514690  0.437548  1.024788 -0.443315\n",
              "2  0.208814 -1.511254  1.137071  1.026610\n",
              "3 -2.341156  0.964865  0.115216 -0.180246\n",
              "4  0.907866  0.740259 -1.856794 -1.587884\n",
              "5  0.981032  2.246777  0.005626 -0.045686\n",
              "6  0.497254 -1.091214 -0.150982 -0.601780\n",
              "7 -0.666543  1.901743 -0.495735 -0.343708"
            ]
          },
          "metadata": {
            "tags": []
          },
          "execution_count": 88
        }
      ]
    },
    {
      "metadata": {
        "id": "Bqm6NMtW6j12",
        "colab_type": "code",
        "colab": {}
      },
      "cell_type": "code",
      "source": [
        "s = df.iloc[3]"
      ],
      "execution_count": 0,
      "outputs": []
    },
    {
      "metadata": {
        "id": "I3PtsAkF6lpI",
        "colab_type": "code",
        "colab": {},
        "outputId": "656040ef-14ee-4452-d157-5482763e94d5"
      },
      "cell_type": "code",
      "source": [
        "df.append(s, ignore_index=True)"
      ],
      "execution_count": 0,
      "outputs": [
        {
          "output_type": "execute_result",
          "data": {
            "text/html": [
              "<div>\n",
              "<style>\n",
              "    .dataframe thead tr:only-child th {\n",
              "        text-align: right;\n",
              "    }\n",
              "\n",
              "    .dataframe thead th {\n",
              "        text-align: left;\n",
              "    }\n",
              "\n",
              "    .dataframe tbody tr th {\n",
              "        vertical-align: top;\n",
              "    }\n",
              "</style>\n",
              "<table border=\"1\" class=\"dataframe\">\n",
              "  <thead>\n",
              "    <tr style=\"text-align: right;\">\n",
              "      <th></th>\n",
              "      <th>A</th>\n",
              "      <th>B</th>\n",
              "      <th>C</th>\n",
              "      <th>D</th>\n",
              "    </tr>\n",
              "  </thead>\n",
              "  <tbody>\n",
              "    <tr>\n",
              "      <th>0</th>\n",
              "      <td>-0.094256</td>\n",
              "      <td>0.113071</td>\n",
              "      <td>0.086663</td>\n",
              "      <td>-0.958684</td>\n",
              "    </tr>\n",
              "    <tr>\n",
              "      <th>1</th>\n",
              "      <td>0.514690</td>\n",
              "      <td>0.437548</td>\n",
              "      <td>1.024788</td>\n",
              "      <td>-0.443315</td>\n",
              "    </tr>\n",
              "    <tr>\n",
              "      <th>2</th>\n",
              "      <td>0.208814</td>\n",
              "      <td>-1.511254</td>\n",
              "      <td>1.137071</td>\n",
              "      <td>1.026610</td>\n",
              "    </tr>\n",
              "    <tr>\n",
              "      <th>3</th>\n",
              "      <td>-2.341156</td>\n",
              "      <td>0.964865</td>\n",
              "      <td>0.115216</td>\n",
              "      <td>-0.180246</td>\n",
              "    </tr>\n",
              "    <tr>\n",
              "      <th>4</th>\n",
              "      <td>0.907866</td>\n",
              "      <td>0.740259</td>\n",
              "      <td>-1.856794</td>\n",
              "      <td>-1.587884</td>\n",
              "    </tr>\n",
              "    <tr>\n",
              "      <th>5</th>\n",
              "      <td>0.981032</td>\n",
              "      <td>2.246777</td>\n",
              "      <td>0.005626</td>\n",
              "      <td>-0.045686</td>\n",
              "    </tr>\n",
              "    <tr>\n",
              "      <th>6</th>\n",
              "      <td>0.497254</td>\n",
              "      <td>-1.091214</td>\n",
              "      <td>-0.150982</td>\n",
              "      <td>-0.601780</td>\n",
              "    </tr>\n",
              "    <tr>\n",
              "      <th>7</th>\n",
              "      <td>-0.666543</td>\n",
              "      <td>1.901743</td>\n",
              "      <td>-0.495735</td>\n",
              "      <td>-0.343708</td>\n",
              "    </tr>\n",
              "    <tr>\n",
              "      <th>8</th>\n",
              "      <td>-2.341156</td>\n",
              "      <td>0.964865</td>\n",
              "      <td>0.115216</td>\n",
              "      <td>-0.180246</td>\n",
              "    </tr>\n",
              "  </tbody>\n",
              "</table>\n",
              "</div>"
            ],
            "text/plain": [
              "          A         B         C         D\n",
              "0 -0.094256  0.113071  0.086663 -0.958684\n",
              "1  0.514690  0.437548  1.024788 -0.443315\n",
              "2  0.208814 -1.511254  1.137071  1.026610\n",
              "3 -2.341156  0.964865  0.115216 -0.180246\n",
              "4  0.907866  0.740259 -1.856794 -1.587884\n",
              "5  0.981032  2.246777  0.005626 -0.045686\n",
              "6  0.497254 -1.091214 -0.150982 -0.601780\n",
              "7 -0.666543  1.901743 -0.495735 -0.343708\n",
              "8 -2.341156  0.964865  0.115216 -0.180246"
            ]
          },
          "metadata": {
            "tags": []
          },
          "execution_count": 90
        }
      ]
    },
    {
      "metadata": {
        "id": "6VaJ6ty_3v09",
        "colab_type": "text"
      },
      "cell_type": "markdown",
      "source": [
        "## Grouping (그룹화)"
      ]
    },
    {
      "metadata": {
        "id": "SwXynO524KcN",
        "colab_type": "text"
      },
      "cell_type": "markdown",
      "source": [
        "**그룹화**는 다음 단계 중 하나 이상을 포함하는 과정을 가리킵니다.\n",
        "\n",
        "- 몇몇 기준에 따라 여러 그룹으로 데이터를 **분할(Splitting)**\n",
        "- 각 그룹에 독립적으로 함수를 **적용(Applying)**\n",
        "- 결과물들을 하나의 데이터 구조로  **결합(Combining)**\n",
        "\n",
        "자세한 내용은 [그룹화](https://pandas.pydata.org/pandas-docs/stable/groupby.html#groupby) 부분을 참조하세요."
      ]
    },
    {
      "metadata": {
        "id": "pO0cOZtU4Mvl",
        "colab_type": "code",
        "colab": {}
      },
      "cell_type": "code",
      "source": [
        "df = pd.DataFrame(\n",
        "    {\n",
        "        'A' : ['foo', 'bar', 'foo', 'bar', 'foo', 'bar', 'foo', 'foo'],\n",
        "        'B' : ['one', 'one', 'two', 'three', 'two', 'two', 'one', 'three'],\n",
        "        'C' : np.random.randn(8),\n",
        "        'D' : np.random.randn(8)\n",
        "    })"
      ],
      "execution_count": 0,
      "outputs": []
    },
    {
      "metadata": {
        "id": "H1aI7vJB4P72",
        "colab_type": "code",
        "colab": {
          "base_uri": "https://localhost:8080/",
          "height": 297
        },
        "outputId": "03349475-d4ad-4728-9ffd-ebe9afa53d6d"
      },
      "cell_type": "code",
      "source": [
        "df"
      ],
      "execution_count": 0,
      "outputs": [
        {
          "output_type": "execute_result",
          "data": {
            "text/html": [
              "<div>\n",
              "<style>\n",
              "    .dataframe thead tr:only-child th {\n",
              "        text-align: right;\n",
              "    }\n",
              "\n",
              "    .dataframe thead th {\n",
              "        text-align: left;\n",
              "    }\n",
              "\n",
              "    .dataframe tbody tr th {\n",
              "        vertical-align: top;\n",
              "    }\n",
              "</style>\n",
              "<table border=\"1\" class=\"dataframe\">\n",
              "  <thead>\n",
              "    <tr style=\"text-align: right;\">\n",
              "      <th></th>\n",
              "      <th>A</th>\n",
              "      <th>B</th>\n",
              "      <th>C</th>\n",
              "      <th>D</th>\n",
              "    </tr>\n",
              "  </thead>\n",
              "  <tbody>\n",
              "    <tr>\n",
              "      <th>0</th>\n",
              "      <td>foo</td>\n",
              "      <td>one</td>\n",
              "      <td>0.444967</td>\n",
              "      <td>-0.089107</td>\n",
              "    </tr>\n",
              "    <tr>\n",
              "      <th>1</th>\n",
              "      <td>bar</td>\n",
              "      <td>one</td>\n",
              "      <td>0.136576</td>\n",
              "      <td>-1.220151</td>\n",
              "    </tr>\n",
              "    <tr>\n",
              "      <th>2</th>\n",
              "      <td>foo</td>\n",
              "      <td>two</td>\n",
              "      <td>1.890122</td>\n",
              "      <td>0.540420</td>\n",
              "    </tr>\n",
              "    <tr>\n",
              "      <th>3</th>\n",
              "      <td>bar</td>\n",
              "      <td>three</td>\n",
              "      <td>-1.157980</td>\n",
              "      <td>0.858108</td>\n",
              "    </tr>\n",
              "    <tr>\n",
              "      <th>4</th>\n",
              "      <td>foo</td>\n",
              "      <td>two</td>\n",
              "      <td>1.407400</td>\n",
              "      <td>-1.007997</td>\n",
              "    </tr>\n",
              "    <tr>\n",
              "      <th>5</th>\n",
              "      <td>bar</td>\n",
              "      <td>two</td>\n",
              "      <td>-0.359187</td>\n",
              "      <td>0.762959</td>\n",
              "    </tr>\n",
              "    <tr>\n",
              "      <th>6</th>\n",
              "      <td>foo</td>\n",
              "      <td>one</td>\n",
              "      <td>0.220698</td>\n",
              "      <td>-0.043295</td>\n",
              "    </tr>\n",
              "    <tr>\n",
              "      <th>7</th>\n",
              "      <td>foo</td>\n",
              "      <td>three</td>\n",
              "      <td>-0.054296</td>\n",
              "      <td>-0.828592</td>\n",
              "    </tr>\n",
              "  </tbody>\n",
              "</table>\n",
              "</div>"
            ],
            "text/plain": [
              "     A      B         C         D\n",
              "0  foo    one  0.444967 -0.089107\n",
              "1  bar    one  0.136576 -1.220151\n",
              "2  foo    two  1.890122  0.540420\n",
              "3  bar  three -1.157980  0.858108\n",
              "4  foo    two  1.407400 -1.007997\n",
              "5  bar    two -0.359187  0.762959\n",
              "6  foo    one  0.220698 -0.043295\n",
              "7  foo  three -0.054296 -0.828592"
            ]
          },
          "metadata": {
            "tags": []
          },
          "execution_count": 92
        }
      ]
    },
    {
      "metadata": {
        "id": "71rM8bizCRRB",
        "colab_type": "text"
      },
      "cell_type": "markdown",
      "source": [
        "(생성된 데이터프레임을) 그룹화한 후 각 그룹에 [sum()](https://pandas.pydata.org/pandas-docs/stable/generated/pandas.DataFrame.sum.html#pandas.DataFrame.sum) 함수를 적용합니다."
      ]
    },
    {
      "metadata": {
        "id": "dJ4kqsJe4RfY",
        "colab_type": "code",
        "colab": {
          "base_uri": "https://localhost:8080/",
          "height": 142
        },
        "outputId": "e5f3a626-a1cd-49c7-e740-3730cd4a2317"
      },
      "cell_type": "code",
      "source": [
        "df.groupby('A').sum()"
      ],
      "execution_count": 0,
      "outputs": [
        {
          "output_type": "execute_result",
          "data": {
            "text/html": [
              "<div>\n",
              "<style>\n",
              "    .dataframe thead tr:only-child th {\n",
              "        text-align: right;\n",
              "    }\n",
              "\n",
              "    .dataframe thead th {\n",
              "        text-align: left;\n",
              "    }\n",
              "\n",
              "    .dataframe tbody tr th {\n",
              "        vertical-align: top;\n",
              "    }\n",
              "</style>\n",
              "<table border=\"1\" class=\"dataframe\">\n",
              "  <thead>\n",
              "    <tr style=\"text-align: right;\">\n",
              "      <th></th>\n",
              "      <th>C</th>\n",
              "      <th>D</th>\n",
              "    </tr>\n",
              "    <tr>\n",
              "      <th>A</th>\n",
              "      <th></th>\n",
              "      <th></th>\n",
              "    </tr>\n",
              "  </thead>\n",
              "  <tbody>\n",
              "    <tr>\n",
              "      <th>bar</th>\n",
              "      <td>-1.380590</td>\n",
              "      <td>0.400916</td>\n",
              "    </tr>\n",
              "    <tr>\n",
              "      <th>foo</th>\n",
              "      <td>3.908892</td>\n",
              "      <td>-1.428571</td>\n",
              "    </tr>\n",
              "  </tbody>\n",
              "</table>\n",
              "</div>"
            ],
            "text/plain": [
              "            C         D\n",
              "A                      \n",
              "bar -1.380590  0.400916\n",
              "foo  3.908892 -1.428571"
            ]
          },
          "metadata": {
            "tags": []
          },
          "execution_count": 93
        }
      ]
    },
    {
      "metadata": {
        "id": "jap0wSpO4Sn4",
        "colab_type": "text"
      },
      "cell_type": "markdown",
      "source": [
        "여러 열을 기준으로 그룹화하면 계층적 인덱스가 형성됩니다. 여기에도 sum 함수를 적용할 수 있습니다."
      ]
    },
    {
      "metadata": {
        "id": "iRZP8UKC4TvZ",
        "colab_type": "code",
        "colab": {
          "base_uri": "https://localhost:8080/",
          "height": 266
        },
        "outputId": "c18a598b-2e53-4b27-fa50-4da2108e409a"
      },
      "cell_type": "code",
      "source": [
        "df.groupby(['A','B']).sum()"
      ],
      "execution_count": 0,
      "outputs": [
        {
          "output_type": "execute_result",
          "data": {
            "text/html": [
              "<div>\n",
              "<style>\n",
              "    .dataframe thead tr:only-child th {\n",
              "        text-align: right;\n",
              "    }\n",
              "\n",
              "    .dataframe thead th {\n",
              "        text-align: left;\n",
              "    }\n",
              "\n",
              "    .dataframe tbody tr th {\n",
              "        vertical-align: top;\n",
              "    }\n",
              "</style>\n",
              "<table border=\"1\" class=\"dataframe\">\n",
              "  <thead>\n",
              "    <tr style=\"text-align: right;\">\n",
              "      <th></th>\n",
              "      <th></th>\n",
              "      <th>C</th>\n",
              "      <th>D</th>\n",
              "    </tr>\n",
              "    <tr>\n",
              "      <th>A</th>\n",
              "      <th>B</th>\n",
              "      <th></th>\n",
              "      <th></th>\n",
              "    </tr>\n",
              "  </thead>\n",
              "  <tbody>\n",
              "    <tr>\n",
              "      <th rowspan=\"3\" valign=\"top\">bar</th>\n",
              "      <th>one</th>\n",
              "      <td>0.136576</td>\n",
              "      <td>-1.220151</td>\n",
              "    </tr>\n",
              "    <tr>\n",
              "      <th>three</th>\n",
              "      <td>-1.157980</td>\n",
              "      <td>0.858108</td>\n",
              "    </tr>\n",
              "    <tr>\n",
              "      <th>two</th>\n",
              "      <td>-0.359187</td>\n",
              "      <td>0.762959</td>\n",
              "    </tr>\n",
              "    <tr>\n",
              "      <th rowspan=\"3\" valign=\"top\">foo</th>\n",
              "      <th>one</th>\n",
              "      <td>0.665665</td>\n",
              "      <td>-0.132401</td>\n",
              "    </tr>\n",
              "    <tr>\n",
              "      <th>three</th>\n",
              "      <td>-0.054296</td>\n",
              "      <td>-0.828592</td>\n",
              "    </tr>\n",
              "    <tr>\n",
              "      <th>two</th>\n",
              "      <td>3.297522</td>\n",
              "      <td>-0.467577</td>\n",
              "    </tr>\n",
              "  </tbody>\n",
              "</table>\n",
              "</div>"
            ],
            "text/plain": [
              "                  C         D\n",
              "A   B                        \n",
              "bar one    0.136576 -1.220151\n",
              "    three -1.157980  0.858108\n",
              "    two   -0.359187  0.762959\n",
              "foo one    0.665665 -0.132401\n",
              "    three -0.054296 -0.828592\n",
              "    two    3.297522 -0.467577"
            ]
          },
          "metadata": {
            "tags": []
          },
          "execution_count": 94
        }
      ]
    },
    {
      "metadata": {
        "id": "7tWQKNsJ3JeY",
        "colab_type": "text"
      },
      "cell_type": "markdown",
      "source": [
        "## Reshaping (변형)"
      ]
    },
    {
      "metadata": {
        "id": "ulRzrXGK3Ndc",
        "colab_type": "text"
      },
      "cell_type": "markdown",
      "source": [
        "[계층적 인덱싱](https://pandas.pydata.org/pandas-docs/stable/advanced.html#advanced-hierarchical) 및 [변형](https://pandas.pydata.org/pandas-docs/stable/reshaping.html#reshaping-stacking) 부분을 참조하세요."
      ]
    },
    {
      "metadata": {
        "id": "gZJGxemv3WWA",
        "colab_type": "text"
      },
      "cell_type": "markdown",
      "source": [
        "### Stack (스택)"
      ]
    },
    {
      "metadata": {
        "id": "Yd5vPwOV3arp",
        "colab_type": "code",
        "colab": {}
      },
      "cell_type": "code",
      "source": [
        "tuples = list(zip(*[['bar', 'bar', 'baz', 'baz',\n",
        "                     'foo', 'foo', 'qux', 'qux'],\n",
        "                    ['one', 'two', 'one', 'two',\n",
        "                     'one', 'two', 'one', 'two']]))"
      ],
      "execution_count": 0,
      "outputs": []
    },
    {
      "metadata": {
        "id": "cyRpaTGe3hJ-",
        "colab_type": "code",
        "colab": {}
      },
      "cell_type": "code",
      "source": [
        "index = pd.MultiIndex.from_tuples(tuples, names=['first', 'second'])"
      ],
      "execution_count": 0,
      "outputs": []
    },
    {
      "metadata": {
        "id": "Jj2RjG8r3h1B",
        "colab_type": "code",
        "colab": {}
      },
      "cell_type": "code",
      "source": [
        "df = pd.DataFrame(np.random.randn(8, 2), index=index, columns=['A', 'B'])"
      ],
      "execution_count": 0,
      "outputs": []
    },
    {
      "metadata": {
        "id": "I0H5P5Al3hxB",
        "colab_type": "code",
        "colab": {}
      },
      "cell_type": "code",
      "source": [
        "df2  =  df[:4]"
      ],
      "execution_count": 0,
      "outputs": []
    },
    {
      "metadata": {
        "id": "YlRK8VoH3htI",
        "colab_type": "code",
        "colab": {
          "base_uri": "https://localhost:8080/",
          "height": 204
        },
        "outputId": "11cbb1b4-95b5-4810-d808-6a567f1cc746"
      },
      "cell_type": "code",
      "source": [
        "df2"
      ],
      "execution_count": 0,
      "outputs": [
        {
          "output_type": "execute_result",
          "data": {
            "text/html": [
              "<div>\n",
              "<style>\n",
              "    .dataframe thead tr:only-child th {\n",
              "        text-align: right;\n",
              "    }\n",
              "\n",
              "    .dataframe thead th {\n",
              "        text-align: left;\n",
              "    }\n",
              "\n",
              "    .dataframe tbody tr th {\n",
              "        vertical-align: top;\n",
              "    }\n",
              "</style>\n",
              "<table border=\"1\" class=\"dataframe\">\n",
              "  <thead>\n",
              "    <tr style=\"text-align: right;\">\n",
              "      <th></th>\n",
              "      <th></th>\n",
              "      <th>A</th>\n",
              "      <th>B</th>\n",
              "    </tr>\n",
              "    <tr>\n",
              "      <th>first</th>\n",
              "      <th>second</th>\n",
              "      <th></th>\n",
              "      <th></th>\n",
              "    </tr>\n",
              "  </thead>\n",
              "  <tbody>\n",
              "    <tr>\n",
              "      <th rowspan=\"2\" valign=\"top\">bar</th>\n",
              "      <th>one</th>\n",
              "      <td>-0.070265</td>\n",
              "      <td>0.016100</td>\n",
              "    </tr>\n",
              "    <tr>\n",
              "      <th>two</th>\n",
              "      <td>-0.493484</td>\n",
              "      <td>0.493180</td>\n",
              "    </tr>\n",
              "    <tr>\n",
              "      <th rowspan=\"2\" valign=\"top\">baz</th>\n",
              "      <th>one</th>\n",
              "      <td>-1.024075</td>\n",
              "      <td>-1.810936</td>\n",
              "    </tr>\n",
              "    <tr>\n",
              "      <th>two</th>\n",
              "      <td>-0.173661</td>\n",
              "      <td>0.840513</td>\n",
              "    </tr>\n",
              "  </tbody>\n",
              "</table>\n",
              "</div>"
            ],
            "text/plain": [
              "                     A         B\n",
              "first second                    \n",
              "bar   one    -0.070265  0.016100\n",
              "      two    -0.493484  0.493180\n",
              "baz   one    -1.024075 -1.810936\n",
              "      two    -0.173661  0.840513"
            ]
          },
          "metadata": {
            "tags": []
          },
          "execution_count": 99
        }
      ]
    },
    {
      "metadata": {
        "id": "EdPsLy7B3o53",
        "colab_type": "text"
      },
      "cell_type": "markdown",
      "source": [
        "[stack()](https://pandas.pydata.org/pandas-docs/stable/generated/pandas.DataFrame.stack.html#pandas.DataFrame.stack) 메소드는 데이터프레임 열들의 계층을 \"압축\"합니다."
      ]
    },
    {
      "metadata": {
        "id": "yFIcJ4HE3r0A",
        "colab_type": "code",
        "colab": {}
      },
      "cell_type": "code",
      "source": [
        "stacked = df2.stack()"
      ],
      "execution_count": 0,
      "outputs": []
    },
    {
      "metadata": {
        "id": "4HZDs9pX3sEo",
        "colab_type": "code",
        "colab": {
          "base_uri": "https://localhost:8080/",
          "height": 192
        },
        "outputId": "368118d3-2046-4654-8032-3efdb260e4fa"
      },
      "cell_type": "code",
      "source": [
        "stacked"
      ],
      "execution_count": 0,
      "outputs": [
        {
          "output_type": "execute_result",
          "data": {
            "text/plain": [
              "first  second   \n",
              "bar    one     A   -0.070265\n",
              "               B    0.016100\n",
              "       two     A   -0.493484\n",
              "               B    0.493180\n",
              "baz    one     A   -1.024075\n",
              "               B   -1.810936\n",
              "       two     A   -0.173661\n",
              "               B    0.840513\n",
              "dtype: float64"
            ]
          },
          "metadata": {
            "tags": []
          },
          "execution_count": 101
        }
      ]
    },
    {
      "metadata": {
        "id": "AEuI6yvK3wXA",
        "colab_type": "text"
      },
      "cell_type": "markdown",
      "source": [
        "\"Stack된\" 데이터프레임 또는 (MultiIndex를 인덱스로 사용하는) Series인 경우, [stack()](https://pandas.pydata.org/pandas-docs/stable/generated/pandas.DataFrame.stack.html#pandas.DataFrame.stack)의 역 연산은 [unstack()](https://pandas.pydata.org/pandas-docs/stable/generated/pandas.DataFrame.unstack.html#pandas.DataFrame.unstack)이며, 기본적으로 **마지막 계층**을 unstack합니다."
      ]
    },
    {
      "metadata": {
        "id": "RlD00KLE3rvm",
        "colab_type": "code",
        "colab": {
          "base_uri": "https://localhost:8080/",
          "height": 204
        },
        "outputId": "1ae1686c-4bdc-4724-b23a-4b851fd69c7d"
      },
      "cell_type": "code",
      "source": [
        "stacked.unstack()"
      ],
      "execution_count": 0,
      "outputs": [
        {
          "output_type": "execute_result",
          "data": {
            "text/html": [
              "<div>\n",
              "<style>\n",
              "    .dataframe thead tr:only-child th {\n",
              "        text-align: right;\n",
              "    }\n",
              "\n",
              "    .dataframe thead th {\n",
              "        text-align: left;\n",
              "    }\n",
              "\n",
              "    .dataframe tbody tr th {\n",
              "        vertical-align: top;\n",
              "    }\n",
              "</style>\n",
              "<table border=\"1\" class=\"dataframe\">\n",
              "  <thead>\n",
              "    <tr style=\"text-align: right;\">\n",
              "      <th></th>\n",
              "      <th></th>\n",
              "      <th>A</th>\n",
              "      <th>B</th>\n",
              "    </tr>\n",
              "    <tr>\n",
              "      <th>first</th>\n",
              "      <th>second</th>\n",
              "      <th></th>\n",
              "      <th></th>\n",
              "    </tr>\n",
              "  </thead>\n",
              "  <tbody>\n",
              "    <tr>\n",
              "      <th rowspan=\"2\" valign=\"top\">bar</th>\n",
              "      <th>one</th>\n",
              "      <td>-0.070265</td>\n",
              "      <td>0.016100</td>\n",
              "    </tr>\n",
              "    <tr>\n",
              "      <th>two</th>\n",
              "      <td>-0.493484</td>\n",
              "      <td>0.493180</td>\n",
              "    </tr>\n",
              "    <tr>\n",
              "      <th rowspan=\"2\" valign=\"top\">baz</th>\n",
              "      <th>one</th>\n",
              "      <td>-1.024075</td>\n",
              "      <td>-1.810936</td>\n",
              "    </tr>\n",
              "    <tr>\n",
              "      <th>two</th>\n",
              "      <td>-0.173661</td>\n",
              "      <td>0.840513</td>\n",
              "    </tr>\n",
              "  </tbody>\n",
              "</table>\n",
              "</div>"
            ],
            "text/plain": [
              "                     A         B\n",
              "first second                    \n",
              "bar   one    -0.070265  0.016100\n",
              "      two    -0.493484  0.493180\n",
              "baz   one    -1.024075 -1.810936\n",
              "      two    -0.173661  0.840513"
            ]
          },
          "metadata": {
            "tags": []
          },
          "execution_count": 102
        }
      ]
    },
    {
      "metadata": {
        "id": "kq8C75gl30xL",
        "colab_type": "code",
        "colab": {
          "base_uri": "https://localhost:8080/",
          "height": 328
        },
        "outputId": "ce659c7a-ff97-414a-bfde-7d5a662e80ce"
      },
      "cell_type": "code",
      "source": [
        "stacked.unstack(1)"
      ],
      "execution_count": 0,
      "outputs": [
        {
          "output_type": "execute_result",
          "data": {
            "text/html": [
              "<div>\n",
              "<style>\n",
              "    .dataframe thead tr:only-child th {\n",
              "        text-align: right;\n",
              "    }\n",
              "\n",
              "    .dataframe thead th {\n",
              "        text-align: left;\n",
              "    }\n",
              "\n",
              "    .dataframe tbody tr th {\n",
              "        vertical-align: top;\n",
              "    }\n",
              "</style>\n",
              "<table border=\"1\" class=\"dataframe\">\n",
              "  <thead>\n",
              "    <tr style=\"text-align: right;\">\n",
              "      <th></th>\n",
              "      <th>second</th>\n",
              "      <th>one</th>\n",
              "      <th>two</th>\n",
              "    </tr>\n",
              "    <tr>\n",
              "      <th>first</th>\n",
              "      <th></th>\n",
              "      <th></th>\n",
              "      <th></th>\n",
              "    </tr>\n",
              "  </thead>\n",
              "  <tbody>\n",
              "    <tr>\n",
              "      <th rowspan=\"2\" valign=\"top\">bar</th>\n",
              "      <th>A</th>\n",
              "      <td>-0.070265</td>\n",
              "      <td>-0.493484</td>\n",
              "    </tr>\n",
              "    <tr>\n",
              "      <th>B</th>\n",
              "      <td>0.016100</td>\n",
              "      <td>0.493180</td>\n",
              "    </tr>\n",
              "    <tr>\n",
              "      <th rowspan=\"2\" valign=\"top\">baz</th>\n",
              "      <th>A</th>\n",
              "      <td>-1.024075</td>\n",
              "      <td>-0.173661</td>\n",
              "    </tr>\n",
              "    <tr>\n",
              "      <th>B</th>\n",
              "      <td>-1.810936</td>\n",
              "      <td>0.840513</td>\n",
              "    </tr>\n",
              "  </tbody>\n",
              "</table>\n",
              "</div>"
            ],
            "text/plain": [
              "second        one       two\n",
              "first                      \n",
              "bar   A -0.070265 -0.493484\n",
              "      B  0.016100  0.493180\n",
              "baz   A -1.024075 -0.173661\n",
              "      B -1.810936  0.840513"
            ]
          },
          "metadata": {
            "tags": []
          },
          "execution_count": 103
        }
      ]
    },
    {
      "metadata": {
        "id": "SVz51y-F30tT",
        "colab_type": "code",
        "colab": {
          "base_uri": "https://localhost:8080/",
          "height": 204
        },
        "outputId": "7d3db09c-6c21-43cc-9ff2-bd17a1bc7e7d"
      },
      "cell_type": "code",
      "source": [
        "stacked.unstack(0)"
      ],
      "execution_count": 0,
      "outputs": [
        {
          "output_type": "execute_result",
          "data": {
            "text/html": [
              "<div>\n",
              "<style>\n",
              "    .dataframe thead tr:only-child th {\n",
              "        text-align: right;\n",
              "    }\n",
              "\n",
              "    .dataframe thead th {\n",
              "        text-align: left;\n",
              "    }\n",
              "\n",
              "    .dataframe tbody tr th {\n",
              "        vertical-align: top;\n",
              "    }\n",
              "</style>\n",
              "<table border=\"1\" class=\"dataframe\">\n",
              "  <thead>\n",
              "    <tr style=\"text-align: right;\">\n",
              "      <th></th>\n",
              "      <th>first</th>\n",
              "      <th>bar</th>\n",
              "      <th>baz</th>\n",
              "    </tr>\n",
              "    <tr>\n",
              "      <th>second</th>\n",
              "      <th></th>\n",
              "      <th></th>\n",
              "      <th></th>\n",
              "    </tr>\n",
              "  </thead>\n",
              "  <tbody>\n",
              "    <tr>\n",
              "      <th rowspan=\"2\" valign=\"top\">one</th>\n",
              "      <th>A</th>\n",
              "      <td>-0.070265</td>\n",
              "      <td>-1.024075</td>\n",
              "    </tr>\n",
              "    <tr>\n",
              "      <th>B</th>\n",
              "      <td>0.016100</td>\n",
              "      <td>-1.810936</td>\n",
              "    </tr>\n",
              "    <tr>\n",
              "      <th rowspan=\"2\" valign=\"top\">two</th>\n",
              "      <th>A</th>\n",
              "      <td>-0.493484</td>\n",
              "      <td>-0.173661</td>\n",
              "    </tr>\n",
              "    <tr>\n",
              "      <th>B</th>\n",
              "      <td>0.493180</td>\n",
              "      <td>0.840513</td>\n",
              "    </tr>\n",
              "  </tbody>\n",
              "</table>\n",
              "</div>"
            ],
            "text/plain": [
              "first          bar       baz\n",
              "second                      \n",
              "one    A -0.070265 -1.024075\n",
              "       B  0.016100 -1.810936\n",
              "two    A -0.493484 -0.173661\n",
              "       B  0.493180  0.840513"
            ]
          },
          "metadata": {
            "tags": []
          },
          "execution_count": 104
        }
      ]
    },
    {
      "metadata": {
        "id": "RZ_-viV34FE-",
        "colab_type": "text"
      },
      "cell_type": "markdown",
      "source": [
        "### Pivot Tables (피벗 테이블)"
      ]
    },
    {
      "metadata": {
        "id": "zWjNYxfD4Fhb",
        "colab_type": "text"
      },
      "cell_type": "markdown",
      "source": [
        "[피벗 테이블](https://pandas.pydata.org/pandas-docs/stable/reshaping.html#reshaping-pivot) 부분을 참조하세요."
      ]
    },
    {
      "metadata": {
        "id": "VBSzYL-R4MlI",
        "colab_type": "code",
        "colab": {}
      },
      "cell_type": "code",
      "source": [
        "df = pd.DataFrame({'A' : ['one', 'one', 'two', 'three'] * 3,\n",
        "                   'B' : ['A', 'B', 'C'] * 4,\n",
        "                   'C' : ['foo', 'foo', 'foo', 'bar', 'bar', 'bar'] * 2,\n",
        "                   'D' : np.random.randn(12),\n",
        "                   'E' : np.random.randn(12)})"
      ],
      "execution_count": 0,
      "outputs": []
    },
    {
      "metadata": {
        "id": "wRwnIrMC4MhQ",
        "colab_type": "code",
        "colab": {
          "base_uri": "https://localhost:8080/",
          "height": 421
        },
        "outputId": "4765d3e3-e4d7-498e-9813-e0bea853cdb0"
      },
      "cell_type": "code",
      "source": [
        "df"
      ],
      "execution_count": 0,
      "outputs": [
        {
          "output_type": "execute_result",
          "data": {
            "text/html": [
              "<div>\n",
              "<style>\n",
              "    .dataframe thead tr:only-child th {\n",
              "        text-align: right;\n",
              "    }\n",
              "\n",
              "    .dataframe thead th {\n",
              "        text-align: left;\n",
              "    }\n",
              "\n",
              "    .dataframe tbody tr th {\n",
              "        vertical-align: top;\n",
              "    }\n",
              "</style>\n",
              "<table border=\"1\" class=\"dataframe\">\n",
              "  <thead>\n",
              "    <tr style=\"text-align: right;\">\n",
              "      <th></th>\n",
              "      <th>A</th>\n",
              "      <th>B</th>\n",
              "      <th>C</th>\n",
              "      <th>D</th>\n",
              "      <th>E</th>\n",
              "    </tr>\n",
              "  </thead>\n",
              "  <tbody>\n",
              "    <tr>\n",
              "      <th>0</th>\n",
              "      <td>one</td>\n",
              "      <td>A</td>\n",
              "      <td>foo</td>\n",
              "      <td>-0.811411</td>\n",
              "      <td>-0.466878</td>\n",
              "    </tr>\n",
              "    <tr>\n",
              "      <th>1</th>\n",
              "      <td>one</td>\n",
              "      <td>B</td>\n",
              "      <td>foo</td>\n",
              "      <td>-1.108299</td>\n",
              "      <td>0.394386</td>\n",
              "    </tr>\n",
              "    <tr>\n",
              "      <th>2</th>\n",
              "      <td>two</td>\n",
              "      <td>C</td>\n",
              "      <td>foo</td>\n",
              "      <td>1.996453</td>\n",
              "      <td>1.516456</td>\n",
              "    </tr>\n",
              "    <tr>\n",
              "      <th>3</th>\n",
              "      <td>three</td>\n",
              "      <td>A</td>\n",
              "      <td>bar</td>\n",
              "      <td>0.124191</td>\n",
              "      <td>0.249932</td>\n",
              "    </tr>\n",
              "    <tr>\n",
              "      <th>4</th>\n",
              "      <td>one</td>\n",
              "      <td>B</td>\n",
              "      <td>bar</td>\n",
              "      <td>-0.595530</td>\n",
              "      <td>-0.428961</td>\n",
              "    </tr>\n",
              "    <tr>\n",
              "      <th>5</th>\n",
              "      <td>one</td>\n",
              "      <td>C</td>\n",
              "      <td>bar</td>\n",
              "      <td>-2.249604</td>\n",
              "      <td>0.143596</td>\n",
              "    </tr>\n",
              "    <tr>\n",
              "      <th>6</th>\n",
              "      <td>two</td>\n",
              "      <td>A</td>\n",
              "      <td>foo</td>\n",
              "      <td>1.290258</td>\n",
              "      <td>0.276448</td>\n",
              "    </tr>\n",
              "    <tr>\n",
              "      <th>7</th>\n",
              "      <td>three</td>\n",
              "      <td>B</td>\n",
              "      <td>foo</td>\n",
              "      <td>-1.370169</td>\n",
              "      <td>-2.172469</td>\n",
              "    </tr>\n",
              "    <tr>\n",
              "      <th>8</th>\n",
              "      <td>one</td>\n",
              "      <td>C</td>\n",
              "      <td>foo</td>\n",
              "      <td>0.704484</td>\n",
              "      <td>-1.081937</td>\n",
              "    </tr>\n",
              "    <tr>\n",
              "      <th>9</th>\n",
              "      <td>one</td>\n",
              "      <td>A</td>\n",
              "      <td>bar</td>\n",
              "      <td>0.159092</td>\n",
              "      <td>0.006780</td>\n",
              "    </tr>\n",
              "    <tr>\n",
              "      <th>10</th>\n",
              "      <td>two</td>\n",
              "      <td>B</td>\n",
              "      <td>bar</td>\n",
              "      <td>0.159515</td>\n",
              "      <td>3.274912</td>\n",
              "    </tr>\n",
              "    <tr>\n",
              "      <th>11</th>\n",
              "      <td>three</td>\n",
              "      <td>C</td>\n",
              "      <td>bar</td>\n",
              "      <td>-0.193894</td>\n",
              "      <td>1.480647</td>\n",
              "    </tr>\n",
              "  </tbody>\n",
              "</table>\n",
              "</div>"
            ],
            "text/plain": [
              "        A  B    C         D         E\n",
              "0     one  A  foo -0.811411 -0.466878\n",
              "1     one  B  foo -1.108299  0.394386\n",
              "2     two  C  foo  1.996453  1.516456\n",
              "3   three  A  bar  0.124191  0.249932\n",
              "4     one  B  bar -0.595530 -0.428961\n",
              "5     one  C  bar -2.249604  0.143596\n",
              "6     two  A  foo  1.290258  0.276448\n",
              "7   three  B  foo -1.370169 -2.172469\n",
              "8     one  C  foo  0.704484 -1.081937\n",
              "9     one  A  bar  0.159092  0.006780\n",
              "10    two  B  bar  0.159515  3.274912\n",
              "11  three  C  bar -0.193894  1.480647"
            ]
          },
          "metadata": {
            "tags": []
          },
          "execution_count": 106
        }
      ]
    },
    {
      "metadata": {
        "id": "d37WGaOO4Qjl",
        "colab_type": "text"
      },
      "cell_type": "markdown",
      "source": [
        "이 데이터로부터 피벗 테이블을 매우 쉽게 생성할 수 있습니다."
      ]
    },
    {
      "metadata": {
        "id": "x55H1koG4RSB",
        "colab_type": "code",
        "colab": {
          "base_uri": "https://localhost:8080/",
          "height": 359
        },
        "outputId": "c8edb548-04c8-4a9c-c4d9-40ca922d74ee"
      },
      "cell_type": "code",
      "source": [
        "pd.pivot_table(df, values='D', index=['A', 'B'], columns=['C'])"
      ],
      "execution_count": 0,
      "outputs": [
        {
          "output_type": "execute_result",
          "data": {
            "text/html": [
              "<div>\n",
              "<style>\n",
              "    .dataframe thead tr:only-child th {\n",
              "        text-align: right;\n",
              "    }\n",
              "\n",
              "    .dataframe thead th {\n",
              "        text-align: left;\n",
              "    }\n",
              "\n",
              "    .dataframe tbody tr th {\n",
              "        vertical-align: top;\n",
              "    }\n",
              "</style>\n",
              "<table border=\"1\" class=\"dataframe\">\n",
              "  <thead>\n",
              "    <tr style=\"text-align: right;\">\n",
              "      <th></th>\n",
              "      <th>C</th>\n",
              "      <th>bar</th>\n",
              "      <th>foo</th>\n",
              "    </tr>\n",
              "    <tr>\n",
              "      <th>A</th>\n",
              "      <th>B</th>\n",
              "      <th></th>\n",
              "      <th></th>\n",
              "    </tr>\n",
              "  </thead>\n",
              "  <tbody>\n",
              "    <tr>\n",
              "      <th rowspan=\"3\" valign=\"top\">one</th>\n",
              "      <th>A</th>\n",
              "      <td>0.159092</td>\n",
              "      <td>-0.811411</td>\n",
              "    </tr>\n",
              "    <tr>\n",
              "      <th>B</th>\n",
              "      <td>-0.595530</td>\n",
              "      <td>-1.108299</td>\n",
              "    </tr>\n",
              "    <tr>\n",
              "      <th>C</th>\n",
              "      <td>-2.249604</td>\n",
              "      <td>0.704484</td>\n",
              "    </tr>\n",
              "    <tr>\n",
              "      <th rowspan=\"3\" valign=\"top\">three</th>\n",
              "      <th>A</th>\n",
              "      <td>0.124191</td>\n",
              "      <td>NaN</td>\n",
              "    </tr>\n",
              "    <tr>\n",
              "      <th>B</th>\n",
              "      <td>NaN</td>\n",
              "      <td>-1.370169</td>\n",
              "    </tr>\n",
              "    <tr>\n",
              "      <th>C</th>\n",
              "      <td>-0.193894</td>\n",
              "      <td>NaN</td>\n",
              "    </tr>\n",
              "    <tr>\n",
              "      <th rowspan=\"3\" valign=\"top\">two</th>\n",
              "      <th>A</th>\n",
              "      <td>NaN</td>\n",
              "      <td>1.290258</td>\n",
              "    </tr>\n",
              "    <tr>\n",
              "      <th>B</th>\n",
              "      <td>0.159515</td>\n",
              "      <td>NaN</td>\n",
              "    </tr>\n",
              "    <tr>\n",
              "      <th>C</th>\n",
              "      <td>NaN</td>\n",
              "      <td>1.996453</td>\n",
              "    </tr>\n",
              "  </tbody>\n",
              "</table>\n",
              "</div>"
            ],
            "text/plain": [
              "C             bar       foo\n",
              "A     B                    \n",
              "one   A  0.159092 -0.811411\n",
              "      B -0.595530 -1.108299\n",
              "      C -2.249604  0.704484\n",
              "three A  0.124191       NaN\n",
              "      B       NaN -1.370169\n",
              "      C -0.193894       NaN\n",
              "two   A       NaN  1.290258\n",
              "      B  0.159515       NaN\n",
              "      C       NaN  1.996453"
            ]
          },
          "metadata": {
            "tags": []
          },
          "execution_count": 107
        }
      ]
    },
    {
      "metadata": {
        "id": "ZYenx0CU2Lvc",
        "colab_type": "text"
      },
      "cell_type": "markdown",
      "source": [
        "## Time Series (시계열)"
      ]
    },
    {
      "metadata": {
        "id": "y-awduy52QAH",
        "colab_type": "text"
      },
      "cell_type": "markdown",
      "source": [
        "pandas는 자주 일어나는 변환(예시 : 5분마다 일어나는 데이터에 대한 2차 데이터 변환) 사이에 수행하는 리샘플링 연산을 위한 간단하고, 강력하며, 효율적인 함수를 제공합니다. 이는 재무(금융) 응용에서 매우 일반적이지만 이에 국한되지 않습니다. [시계열](https://pandas.pydata.org/pandas-docs/stable/timeseries.html#timeseries) 부분을 참고하세요."
      ]
    },
    {
      "metadata": {
        "id": "Y9eFwVdS2VP_",
        "colab_type": "code",
        "colab": {},
        "collapsed": true
      },
      "cell_type": "code",
      "source": [
        "rng = pd.date_range('1/1/2012', periods=100, freq='S')"
      ],
      "execution_count": 0,
      "outputs": []
    },
    {
      "metadata": {
        "id": "Cyqthy0N2WlK",
        "colab_type": "code",
        "colab": {},
        "collapsed": true
      },
      "cell_type": "code",
      "source": [
        "ts = pd.Series(np.random.randint(0, 500, len(rng)), index=rng)"
      ],
      "execution_count": 0,
      "outputs": []
    },
    {
      "metadata": {
        "id": "ZISF14wx2WpQ",
        "colab_type": "code",
        "colab": {
          "base_uri": "https://localhost:8080/",
          "height": 52
        },
        "outputId": "a9379f99-9e6c-4ded-9f25-c7fe2685feaa"
      },
      "cell_type": "code",
      "source": [
        "ts.resample('5Min').sum()"
      ],
      "execution_count": 0,
      "outputs": [
        {
          "output_type": "execute_result",
          "data": {
            "text/plain": [
              "2012-01-01    24066\n",
              "Freq: 5T, dtype: int32"
            ]
          },
          "metadata": {
            "tags": []
          },
          "execution_count": 110
        }
      ]
    },
    {
      "metadata": {
        "id": "3LcQGxvr2aBM",
        "colab_type": "text"
      },
      "cell_type": "markdown",
      "source": [
        "시간대를 표현합니다."
      ]
    },
    {
      "metadata": {
        "id": "N6uN3VkD2WyK",
        "colab_type": "code",
        "colab": {},
        "collapsed": true
      },
      "cell_type": "code",
      "source": [
        "rng = pd.date_range('3/6/2012 00:00', periods=5, freq='D')"
      ],
      "execution_count": 0,
      "outputs": []
    },
    {
      "metadata": {
        "id": "zIMrP5Te2cht",
        "colab_type": "code",
        "colab": {},
        "collapsed": true
      },
      "cell_type": "code",
      "source": [
        "ts = pd.Series(np.random.randn(len(rng)), rng)"
      ],
      "execution_count": 0,
      "outputs": []
    },
    {
      "metadata": {
        "id": "SmAOR9oR2Wtw",
        "colab_type": "code",
        "colab": {
          "base_uri": "https://localhost:8080/",
          "height": 122
        },
        "outputId": "d800085a-e5f1-43ae-9f73-8e08add09d5e"
      },
      "cell_type": "code",
      "source": [
        "ts"
      ],
      "execution_count": 0,
      "outputs": [
        {
          "output_type": "execute_result",
          "data": {
            "text/plain": [
              "2012-03-06    0.116103\n",
              "2012-03-07    1.634178\n",
              "2012-03-08    0.907955\n",
              "2012-03-09   -1.289089\n",
              "2012-03-10    0.618807\n",
              "Freq: D, dtype: float64"
            ]
          },
          "metadata": {
            "tags": []
          },
          "execution_count": 113
        }
      ]
    },
    {
      "metadata": {
        "id": "tSHoco6N2ezX",
        "colab_type": "code",
        "colab": {},
        "collapsed": true
      },
      "cell_type": "code",
      "source": [
        "ts_utc = ts.tz_localize('UTC')"
      ],
      "execution_count": 0,
      "outputs": []
    },
    {
      "metadata": {
        "id": "YA5wOamF2e3c",
        "colab_type": "code",
        "colab": {
          "base_uri": "https://localhost:8080/",
          "height": 122
        },
        "outputId": "7fad2ece-56fd-4f87-b69e-55757c490ae1"
      },
      "cell_type": "code",
      "source": [
        "ts_utc"
      ],
      "execution_count": 0,
      "outputs": [
        {
          "output_type": "execute_result",
          "data": {
            "text/plain": [
              "2012-03-06 00:00:00+00:00    0.116103\n",
              "2012-03-07 00:00:00+00:00    1.634178\n",
              "2012-03-08 00:00:00+00:00    0.907955\n",
              "2012-03-09 00:00:00+00:00   -1.289089\n",
              "2012-03-10 00:00:00+00:00    0.618807\n",
              "Freq: D, dtype: float64"
            ]
          },
          "metadata": {
            "tags": []
          },
          "execution_count": 115
        }
      ]
    },
    {
      "metadata": {
        "id": "3vrPJFj12hUk",
        "colab_type": "text"
      },
      "cell_type": "markdown",
      "source": [
        "다른 시간대로 변환합니다."
      ]
    },
    {
      "metadata": {
        "id": "OQWgvsVo2e76",
        "colab_type": "code",
        "colab": {
          "base_uri": "https://localhost:8080/",
          "height": 122
        },
        "outputId": "00b33d85-4cb9-4b39-f9df-8cae3402dcf6"
      },
      "cell_type": "code",
      "source": [
        "ts_utc.tz_convert('US/Eastern')"
      ],
      "execution_count": 0,
      "outputs": [
        {
          "output_type": "execute_result",
          "data": {
            "text/plain": [
              "2012-03-05 19:00:00-05:00    0.116103\n",
              "2012-03-06 19:00:00-05:00    1.634178\n",
              "2012-03-07 19:00:00-05:00    0.907955\n",
              "2012-03-08 19:00:00-05:00   -1.289089\n",
              "2012-03-09 19:00:00-05:00    0.618807\n",
              "Freq: D, dtype: float64"
            ]
          },
          "metadata": {
            "tags": []
          },
          "execution_count": 116
        }
      ]
    },
    {
      "metadata": {
        "id": "THfGaHND2kli",
        "colab_type": "text"
      },
      "cell_type": "markdown",
      "source": [
        "시간 표현 ↔ 기간 표현으로 변환합니다."
      ]
    },
    {
      "metadata": {
        "id": "bZPXGpSZ2lLt",
        "colab_type": "code",
        "colab": {},
        "collapsed": true
      },
      "cell_type": "code",
      "source": [
        "rng = pd.date_range('1/1/2012', periods=5, freq='M')"
      ],
      "execution_count": 0,
      "outputs": []
    },
    {
      "metadata": {
        "id": "NCpFTZCz2e_7",
        "colab_type": "code",
        "colab": {},
        "collapsed": true
      },
      "cell_type": "code",
      "source": [
        "ts = pd.Series(np.random.randn(len(rng)), index=rng)"
      ],
      "execution_count": 0,
      "outputs": []
    },
    {
      "metadata": {
        "id": "TFbL7np62obz",
        "colab_type": "code",
        "colab": {
          "base_uri": "https://localhost:8080/",
          "height": 122
        },
        "outputId": "ebbc654b-c785-49b8-8761-4c93eb867c42"
      },
      "cell_type": "code",
      "source": [
        "ts"
      ],
      "execution_count": 0,
      "outputs": [
        {
          "output_type": "execute_result",
          "data": {
            "text/plain": [
              "2012-01-31   -0.181686\n",
              "2012-02-29   -0.004559\n",
              "2012-03-31   -1.414444\n",
              "2012-04-30   -1.355264\n",
              "2012-05-31    0.987271\n",
              "Freq: M, dtype: float64"
            ]
          },
          "metadata": {
            "tags": []
          },
          "execution_count": 119
        }
      ]
    },
    {
      "metadata": {
        "id": "I30_LkrG2o_g",
        "colab_type": "code",
        "colab": {},
        "collapsed": true
      },
      "cell_type": "code",
      "source": [
        "ps = ts.to_period()"
      ],
      "execution_count": 0,
      "outputs": []
    },
    {
      "metadata": {
        "id": "Ue18d1fv2pHh",
        "colab_type": "code",
        "colab": {
          "base_uri": "https://localhost:8080/",
          "height": 122
        },
        "outputId": "95180de3-204e-4bbd-ca04-5104a703ac7d"
      },
      "cell_type": "code",
      "source": [
        "ps"
      ],
      "execution_count": 0,
      "outputs": [
        {
          "output_type": "execute_result",
          "data": {
            "text/plain": [
              "2012-01   -0.181686\n",
              "2012-02   -0.004559\n",
              "2012-03   -1.414444\n",
              "2012-04   -1.355264\n",
              "2012-05    0.987271\n",
              "Freq: M, dtype: float64"
            ]
          },
          "metadata": {
            "tags": []
          },
          "execution_count": 121
        }
      ]
    },
    {
      "metadata": {
        "id": "YgdyzQNW2pQp",
        "colab_type": "code",
        "colab": {
          "base_uri": "https://localhost:8080/",
          "height": 122
        },
        "outputId": "6059235d-d536-4328-f4f1-55b3a270f206"
      },
      "cell_type": "code",
      "source": [
        "ps.to_timestamp()"
      ],
      "execution_count": 0,
      "outputs": [
        {
          "output_type": "execute_result",
          "data": {
            "text/plain": [
              "2012-01-01   -0.181686\n",
              "2012-02-01   -0.004559\n",
              "2012-03-01   -1.414444\n",
              "2012-04-01   -1.355264\n",
              "2012-05-01    0.987271\n",
              "Freq: MS, dtype: float64"
            ]
          },
          "metadata": {
            "tags": []
          },
          "execution_count": 122
        }
      ]
    },
    {
      "metadata": {
        "id": "mxuEnG7R2twf",
        "colab_type": "text"
      },
      "cell_type": "markdown",
      "source": [
        "기간 - 시간 변환은 편리한 산술 기능들을 사용할 수 있도록 만들어줍니다. 다음 예제에서, 우리는 11월에 끝나는 연말 결산의 분기별 빈도를 분기말 익월의 월말일 오전 9시로 변환합니다."
      ]
    },
    {
      "metadata": {
        "id": "tPlpI7I02wU2",
        "colab_type": "code",
        "colab": {},
        "collapsed": true
      },
      "cell_type": "code",
      "source": [
        "prng = pd.period_range('1990Q1', '2000Q4', freq='Q-NOV')"
      ],
      "execution_count": 0,
      "outputs": []
    },
    {
      "metadata": {
        "id": "HJrVQIbf2xnO",
        "colab_type": "code",
        "colab": {},
        "collapsed": true
      },
      "cell_type": "code",
      "source": [
        "ts = pd.Series(np.random.randn(len(prng)), prng)"
      ],
      "execution_count": 0,
      "outputs": []
    },
    {
      "metadata": {
        "id": "0e5Bd6Nq23QY",
        "colab_type": "code",
        "colab": {},
        "collapsed": true
      },
      "cell_type": "code",
      "source": [
        "ts.index = (prng.asfreq('M', 'e') + 1).asfreq('H', 's') + 9"
      ],
      "execution_count": 0,
      "outputs": []
    },
    {
      "metadata": {
        "id": "RecuXufR26SS",
        "colab_type": "code",
        "colab": {
          "base_uri": "https://localhost:8080/",
          "height": 122
        },
        "outputId": "1a7cbbe9-1966-4907-fc77-71e446d31040"
      },
      "cell_type": "code",
      "source": [
        "ts.head()"
      ],
      "execution_count": 0,
      "outputs": [
        {
          "output_type": "execute_result",
          "data": {
            "text/plain": [
              "1990-03-01 09:00    1.122972\n",
              "1990-06-01 09:00   -2.001189\n",
              "1990-09-01 09:00   -0.112309\n",
              "1990-12-01 09:00    0.971896\n",
              "1991-03-01 09:00    0.236775\n",
              "Freq: H, dtype: float64"
            ]
          },
          "metadata": {
            "tags": []
          },
          "execution_count": 126
        }
      ]
    },
    {
      "metadata": {
        "id": "8OfzvbgW28Hc",
        "colab_type": "text"
      },
      "cell_type": "markdown",
      "source": [
        "## Categoricals (범주화)"
      ]
    },
    {
      "metadata": {
        "id": "e3UtUKXU_P2R",
        "colab_type": "text"
      },
      "cell_type": "markdown",
      "source": [
        "pandas는 데이터프레임 내에 범주형 데이터를 포함할 수 있습니다. [범주형 소개](https://pandas.pydata.org/pandas-docs/stable/categorical.html#categorical) 와 [API 문서](https://pandas.pydata.org/pandas-docs/stable/api.html#api-categorical) 부분을 참조하세요."
      ]
    },
    {
      "metadata": {
        "id": "06N2dtiG_Syu",
        "colab_type": "code",
        "colab": {}
      },
      "cell_type": "code",
      "source": [
        "df = pd.DataFrame({\"id\":[1,2,3,4,5,6], \"raw_grade\":['a', 'b', 'b', 'a', 'a', 'e']})"
      ],
      "execution_count": 0,
      "outputs": []
    },
    {
      "metadata": {
        "id": "gDRaVjoD_j_o",
        "colab_type": "text"
      },
      "cell_type": "markdown",
      "source": [
        "가공하지 않은 성적을 범주형 데이터로 변환합니다."
      ]
    },
    {
      "metadata": {
        "id": "1SYkcjem_sGv",
        "colab_type": "code",
        "colab": {}
      },
      "cell_type": "code",
      "source": [
        "df[\"grade\"] = df[\"raw_grade\"].astype(\"category\")"
      ],
      "execution_count": 0,
      "outputs": []
    },
    {
      "metadata": {
        "id": "jydcy-_m_uzu",
        "colab_type": "code",
        "colab": {},
        "outputId": "8ef881b3-12ed-4b62-a7f8-81d5f01d2b7f"
      },
      "cell_type": "code",
      "source": [
        "df[\"grade\"]"
      ],
      "execution_count": 0,
      "outputs": [
        {
          "output_type": "execute_result",
          "data": {
            "text/plain": [
              "0    a\n",
              "1    b\n",
              "2    b\n",
              "3    a\n",
              "4    a\n",
              "5    e\n",
              "Name: grade, dtype: category\n",
              "Categories (3, object): [a, b, e]"
            ]
          },
          "metadata": {
            "tags": []
          },
          "execution_count": 129
        }
      ]
    },
    {
      "metadata": {
        "id": "42GBAJv5Bt1I",
        "colab_type": "text"
      },
      "cell_type": "markdown",
      "source": [
        "범주에 더 의미 있는 이름을 붙여주세요. (Series.cat.categories로 할당하는 것이 적합합니다!)"
      ]
    },
    {
      "metadata": {
        "id": "doobrAvYBudq",
        "colab_type": "code",
        "colab": {}
      },
      "cell_type": "code",
      "source": [
        "df[\"grade\"].cat.categories = [\"very good\", \"good\", \"very bad\"]"
      ],
      "execution_count": 0,
      "outputs": []
    },
    {
      "metadata": {
        "id": "vhhGHW7LBwYW",
        "colab_type": "text"
      },
      "cell_type": "markdown",
      "source": [
        "범주의 순서를 바꾸고 동시에 누락된 범주를 추가합니다. (Series.cat에 속하는 메소드는 기본적으로 새로운 Series를 반환합니다.)"
      ]
    },
    {
      "metadata": {
        "id": "lUcARnDbBw9g",
        "colab_type": "code",
        "colab": {}
      },
      "cell_type": "code",
      "source": [
        "df[\"grade\"] = df[\"grade\"].cat.set_categories([\"very bad\", \"bad\", \"medium\", \"good\", \"very good\"])"
      ],
      "execution_count": 0,
      "outputs": []
    },
    {
      "metadata": {
        "id": "RA_znfuKBy8q",
        "colab_type": "code",
        "colab": {},
        "outputId": "f91bf6b0-7d04-484d-f193-458c1702fbb2"
      },
      "cell_type": "code",
      "source": [
        "df[\"grade\"]"
      ],
      "execution_count": 0,
      "outputs": [
        {
          "output_type": "execute_result",
          "data": {
            "text/plain": [
              "0    very good\n",
              "1         good\n",
              "2         good\n",
              "3    very good\n",
              "4    very good\n",
              "5     very bad\n",
              "Name: grade, dtype: category\n",
              "Categories (5, object): [very bad, bad, medium, good, very good]"
            ]
          },
          "metadata": {
            "tags": []
          },
          "execution_count": 132
        }
      ]
    },
    {
      "metadata": {
        "id": "SPNrY_SE3Evr",
        "colab_type": "text"
      },
      "cell_type": "markdown",
      "source": [
        "정렬은 사전 순서가 아닌, 해당 범주에서 지정된 순서대로 배열합니다.\n",
        "\n",
        "*역자 주 : 131번에서 very bad, bad, medium, good, very good 의 순서로 기재되어 있기 때문에 정렬 결과도 해당 순서대로 배열됩니다.*"
      ]
    },
    {
      "metadata": {
        "id": "FuGS1e023A8g",
        "colab_type": "code",
        "colab": {},
        "outputId": "53c5b797-c7f6-41f1-bb9c-b122038d23e4"
      },
      "cell_type": "code",
      "source": [
        "df.sort_values(by=\"grade\")"
      ],
      "execution_count": 0,
      "outputs": [
        {
          "output_type": "execute_result",
          "data": {
            "text/html": [
              "<div>\n",
              "<style>\n",
              "    .dataframe thead tr:only-child th {\n",
              "        text-align: right;\n",
              "    }\n",
              "\n",
              "    .dataframe thead th {\n",
              "        text-align: left;\n",
              "    }\n",
              "\n",
              "    .dataframe tbody tr th {\n",
              "        vertical-align: top;\n",
              "    }\n",
              "</style>\n",
              "<table border=\"1\" class=\"dataframe\">\n",
              "  <thead>\n",
              "    <tr style=\"text-align: right;\">\n",
              "      <th></th>\n",
              "      <th>id</th>\n",
              "      <th>raw_grade</th>\n",
              "      <th>grade</th>\n",
              "    </tr>\n",
              "  </thead>\n",
              "  <tbody>\n",
              "    <tr>\n",
              "      <th>5</th>\n",
              "      <td>6</td>\n",
              "      <td>e</td>\n",
              "      <td>very bad</td>\n",
              "    </tr>\n",
              "    <tr>\n",
              "      <th>1</th>\n",
              "      <td>2</td>\n",
              "      <td>b</td>\n",
              "      <td>good</td>\n",
              "    </tr>\n",
              "    <tr>\n",
              "      <th>2</th>\n",
              "      <td>3</td>\n",
              "      <td>b</td>\n",
              "      <td>good</td>\n",
              "    </tr>\n",
              "    <tr>\n",
              "      <th>0</th>\n",
              "      <td>1</td>\n",
              "      <td>a</td>\n",
              "      <td>very good</td>\n",
              "    </tr>\n",
              "    <tr>\n",
              "      <th>3</th>\n",
              "      <td>4</td>\n",
              "      <td>a</td>\n",
              "      <td>very good</td>\n",
              "    </tr>\n",
              "    <tr>\n",
              "      <th>4</th>\n",
              "      <td>5</td>\n",
              "      <td>a</td>\n",
              "      <td>very good</td>\n",
              "    </tr>\n",
              "  </tbody>\n",
              "</table>\n",
              "</div>"
            ],
            "text/plain": [
              "   id raw_grade      grade\n",
              "5   6         e   very bad\n",
              "1   2         b       good\n",
              "2   3         b       good\n",
              "0   1         a  very good\n",
              "3   4         a  very good\n",
              "4   5         a  very good"
            ]
          },
          "metadata": {
            "tags": []
          },
          "execution_count": 133
        }
      ]
    },
    {
      "metadata": {
        "id": "tl3VskO43Hd9",
        "colab_type": "text"
      },
      "cell_type": "markdown",
      "source": [
        "범주의 열을 기준으로 그룹화하면 빈 범주도 표시됩니다."
      ]
    },
    {
      "metadata": {
        "id": "pD-EDBKN3KNk",
        "colab_type": "code",
        "colab": {},
        "outputId": "e238f08f-2950-414c-dfa2-8494ddc3e50f"
      },
      "cell_type": "code",
      "source": [
        "df.groupby(\"grade\").size()"
      ],
      "execution_count": 0,
      "outputs": [
        {
          "output_type": "execute_result",
          "data": {
            "text/plain": [
              "grade\n",
              "very bad     1\n",
              "bad          0\n",
              "medium       0\n",
              "good         2\n",
              "very good    3\n",
              "dtype: int64"
            ]
          },
          "metadata": {
            "tags": []
          },
          "execution_count": 134
        }
      ]
    },
    {
      "metadata": {
        "id": "LDarUbRI1K9c",
        "colab_type": "text"
      },
      "cell_type": "markdown",
      "source": [
        "## Plotting"
      ]
    },
    {
      "metadata": {
        "id": "pi9t1o4-1X2Q",
        "colab_type": "text"
      },
      "cell_type": "markdown",
      "source": [
        "[Plotting](https://pandas.pydata.org/pandas-docs/stable/visualization.html#visualization) 부분을 참조하세요."
      ]
    },
    {
      "metadata": {
        "id": "ypfwa2Zy1WrL",
        "colab_type": "code",
        "colab": {}
      },
      "cell_type": "code",
      "source": [
        "ts = pd.Series(np.random.randn(1000), index=pd.date_range('1/1/2000', periods=1000))"
      ],
      "execution_count": 0,
      "outputs": []
    },
    {
      "metadata": {
        "id": "Ai8kXvor1cSZ",
        "colab_type": "code",
        "colab": {}
      },
      "cell_type": "code",
      "source": [
        "ts = ts.cumsum()"
      ],
      "execution_count": 0,
      "outputs": []
    },
    {
      "metadata": {
        "id": "sfICp0cs1gXu",
        "colab_type": "code",
        "colab": {
          "base_uri": "https://localhost:8080/",
          "height": 377
        },
        "outputId": "c6009633-5e9a-47b6-e94d-217c6a93c646"
      },
      "cell_type": "code",
      "source": [
        "ts.plot()"
      ],
      "execution_count": 0,
      "outputs": [
        {
          "output_type": "execute_result",
          "data": {
            "text/plain": [
              "<matplotlib.axes._subplots.AxesSubplot at 0x9546710>"
            ]
          },
          "metadata": {
            "tags": []
          },
          "execution_count": 137
        }
      ]
    },
    {
      "metadata": {
        "id": "iOsgd7LK1kXK",
        "colab_type": "text"
      },
      "cell_type": "markdown",
      "source": [
        "데이터프레임에서 [plot()](https://pandas.pydata.org/pandas-docs/stable/generated/pandas.DataFrame.plot.html#pandas.DataFrame.plot) 메소드는 라벨이 존재하는 모든 열을 그릴 때 편리합니다."
      ]
    },
    {
      "metadata": {
        "id": "LHvapoGC1pPT",
        "colab_type": "code",
        "colab": {}
      },
      "cell_type": "code",
      "source": [
        "df = pd.DataFrame(np.random.randn(1000, 4), index=ts.index,\n",
        "                  columns=['A', 'B', 'C', 'D'])  "
      ],
      "execution_count": 0,
      "outputs": []
    },
    {
      "metadata": {
        "id": "g6ebCUZa1rKu",
        "colab_type": "code",
        "colab": {}
      },
      "cell_type": "code",
      "source": [
        "df = df.cumsum()"
      ],
      "execution_count": 0,
      "outputs": []
    },
    {
      "metadata": {
        "id": "Qfil41-P1uMu",
        "colab_type": "code",
        "colab": {
          "base_uri": "https://localhost:8080/",
          "height": 396
        },
        "outputId": "941e5874-1699-4f75-c209-ac22d06accd9"
      },
      "cell_type": "code",
      "source": [
        "plt.figure(); df.plot(); plt.legend(loc='best')"
      ],
      "execution_count": 0,
      "outputs": [
        {
          "output_type": "execute_result",
          "data": {
            "text/plain": [
              "<matplotlib.legend.Legend at 0x9bc8c50>"
            ]
          },
          "metadata": {
            "tags": []
          },
          "execution_count": 140
        }
      ]
    },
    {
      "metadata": {
        "id": "6orrhxzC2vJh",
        "colab_type": "text"
      },
      "cell_type": "markdown",
      "source": [
        "## Getting Data In/Out (데이터 입/출력)"
      ]
    },
    {
      "metadata": {
        "id": "bYZJgW252vq2",
        "colab_type": "text"
      },
      "cell_type": "markdown",
      "source": [
        "### CSV"
      ]
    },
    {
      "metadata": {
        "id": "Z7q2-xWD_YkP",
        "colab_type": "text"
      },
      "cell_type": "markdown",
      "source": [
        "[csv 파일에 씁니다.](https://pandas.pydata.org/pandas-docs/stable/io.html#io-store-in-csv)"
      ]
    },
    {
      "metadata": {
        "id": "1iet_DHP_XSk",
        "colab_type": "code",
        "colab": {}
      },
      "cell_type": "code",
      "source": [
        "df.to_csv('foo.csv')"
      ],
      "execution_count": 0,
      "outputs": []
    },
    {
      "metadata": {
        "id": "7luq7S6OANk_",
        "colab_type": "text"
      },
      "cell_type": "markdown",
      "source": [
        "[csv 파일을 읽습니다.](https://pandas.pydata.org/pandas-docs/stable/io.html#io-read-csv-table)"
      ]
    },
    {
      "metadata": {
        "id": "NE2Xhx-MAW45",
        "colab_type": "code",
        "colab": {
          "base_uri": "https://localhost:8080/",
          "height": 1949
        },
        "outputId": "8c7a769b-d1d5-4c30-99b1-2338036e5e8f"
      },
      "cell_type": "code",
      "source": [
        "pd.read_csv('foo.csv')"
      ],
      "execution_count": 0,
      "outputs": [
        {
          "output_type": "execute_result",
          "data": {
            "text/html": [
              "<div>\n",
              "<style>\n",
              "    .dataframe thead tr:only-child th {\n",
              "        text-align: right;\n",
              "    }\n",
              "\n",
              "    .dataframe thead th {\n",
              "        text-align: left;\n",
              "    }\n",
              "\n",
              "    .dataframe tbody tr th {\n",
              "        vertical-align: top;\n",
              "    }\n",
              "</style>\n",
              "<table border=\"1\" class=\"dataframe\">\n",
              "  <thead>\n",
              "    <tr style=\"text-align: right;\">\n",
              "      <th></th>\n",
              "      <th>Unnamed: 0</th>\n",
              "      <th>A</th>\n",
              "      <th>B</th>\n",
              "      <th>C</th>\n",
              "      <th>D</th>\n",
              "    </tr>\n",
              "  </thead>\n",
              "  <tbody>\n",
              "    <tr>\n",
              "      <th>0</th>\n",
              "      <td>2000-01-01</td>\n",
              "      <td>-0.673818</td>\n",
              "      <td>-2.229466</td>\n",
              "      <td>-2.318174</td>\n",
              "      <td>1.257831</td>\n",
              "    </tr>\n",
              "    <tr>\n",
              "      <th>1</th>\n",
              "      <td>2000-01-02</td>\n",
              "      <td>-0.420270</td>\n",
              "      <td>-3.602629</td>\n",
              "      <td>-3.444045</td>\n",
              "      <td>1.086148</td>\n",
              "    </tr>\n",
              "    <tr>\n",
              "      <th>2</th>\n",
              "      <td>2000-01-03</td>\n",
              "      <td>-1.666716</td>\n",
              "      <td>-4.354933</td>\n",
              "      <td>-3.709838</td>\n",
              "      <td>0.918151</td>\n",
              "    </tr>\n",
              "    <tr>\n",
              "      <th>3</th>\n",
              "      <td>2000-01-04</td>\n",
              "      <td>-0.692385</td>\n",
              "      <td>-4.941321</td>\n",
              "      <td>-3.084321</td>\n",
              "      <td>0.569502</td>\n",
              "    </tr>\n",
              "    <tr>\n",
              "      <th>4</th>\n",
              "      <td>2000-01-05</td>\n",
              "      <td>0.045749</td>\n",
              "      <td>-3.964906</td>\n",
              "      <td>-3.570405</td>\n",
              "      <td>1.026525</td>\n",
              "    </tr>\n",
              "    <tr>\n",
              "      <th>5</th>\n",
              "      <td>2000-01-06</td>\n",
              "      <td>0.959110</td>\n",
              "      <td>-3.478274</td>\n",
              "      <td>-3.029088</td>\n",
              "      <td>-0.649877</td>\n",
              "    </tr>\n",
              "    <tr>\n",
              "      <th>6</th>\n",
              "      <td>2000-01-07</td>\n",
              "      <td>1.276407</td>\n",
              "      <td>-5.012207</td>\n",
              "      <td>-3.696240</td>\n",
              "      <td>-1.232399</td>\n",
              "    </tr>\n",
              "    <tr>\n",
              "      <th>7</th>\n",
              "      <td>2000-01-08</td>\n",
              "      <td>-0.060906</td>\n",
              "      <td>-6.565836</td>\n",
              "      <td>-3.154668</td>\n",
              "      <td>-1.388649</td>\n",
              "    </tr>\n",
              "    <tr>\n",
              "      <th>8</th>\n",
              "      <td>2000-01-09</td>\n",
              "      <td>0.211959</td>\n",
              "      <td>-5.531839</td>\n",
              "      <td>-2.368236</td>\n",
              "      <td>-0.813646</td>\n",
              "    </tr>\n",
              "    <tr>\n",
              "      <th>9</th>\n",
              "      <td>2000-01-10</td>\n",
              "      <td>-0.234651</td>\n",
              "      <td>-4.916613</td>\n",
              "      <td>-2.735872</td>\n",
              "      <td>-1.682131</td>\n",
              "    </tr>\n",
              "    <tr>\n",
              "      <th>10</th>\n",
              "      <td>2000-01-11</td>\n",
              "      <td>-0.623360</td>\n",
              "      <td>-4.075775</td>\n",
              "      <td>-4.076921</td>\n",
              "      <td>-2.542520</td>\n",
              "    </tr>\n",
              "    <tr>\n",
              "      <th>11</th>\n",
              "      <td>2000-01-12</td>\n",
              "      <td>-0.193377</td>\n",
              "      <td>-5.098689</td>\n",
              "      <td>-2.809045</td>\n",
              "      <td>-2.327928</td>\n",
              "    </tr>\n",
              "    <tr>\n",
              "      <th>12</th>\n",
              "      <td>2000-01-13</td>\n",
              "      <td>0.161736</td>\n",
              "      <td>-5.620983</td>\n",
              "      <td>-4.931289</td>\n",
              "      <td>-1.441896</td>\n",
              "    </tr>\n",
              "    <tr>\n",
              "      <th>13</th>\n",
              "      <td>2000-01-14</td>\n",
              "      <td>-0.434071</td>\n",
              "      <td>-6.090342</td>\n",
              "      <td>-4.285995</td>\n",
              "      <td>0.251044</td>\n",
              "    </tr>\n",
              "    <tr>\n",
              "      <th>14</th>\n",
              "      <td>2000-01-15</td>\n",
              "      <td>-1.479152</td>\n",
              "      <td>-5.942091</td>\n",
              "      <td>-5.376464</td>\n",
              "      <td>-0.086773</td>\n",
              "    </tr>\n",
              "    <tr>\n",
              "      <th>15</th>\n",
              "      <td>2000-01-16</td>\n",
              "      <td>-1.159149</td>\n",
              "      <td>-6.761241</td>\n",
              "      <td>-5.979358</td>\n",
              "      <td>0.101267</td>\n",
              "    </tr>\n",
              "    <tr>\n",
              "      <th>16</th>\n",
              "      <td>2000-01-17</td>\n",
              "      <td>-0.874011</td>\n",
              "      <td>-7.216181</td>\n",
              "      <td>-4.651470</td>\n",
              "      <td>0.575930</td>\n",
              "    </tr>\n",
              "    <tr>\n",
              "      <th>17</th>\n",
              "      <td>2000-01-18</td>\n",
              "      <td>-0.781759</td>\n",
              "      <td>-7.468608</td>\n",
              "      <td>-3.104531</td>\n",
              "      <td>1.189680</td>\n",
              "    </tr>\n",
              "    <tr>\n",
              "      <th>18</th>\n",
              "      <td>2000-01-19</td>\n",
              "      <td>-1.612792</td>\n",
              "      <td>-7.535590</td>\n",
              "      <td>-4.140936</td>\n",
              "      <td>1.454246</td>\n",
              "    </tr>\n",
              "    <tr>\n",
              "      <th>19</th>\n",
              "      <td>2000-01-20</td>\n",
              "      <td>-1.496001</td>\n",
              "      <td>-7.672709</td>\n",
              "      <td>-3.761911</td>\n",
              "      <td>1.616197</td>\n",
              "    </tr>\n",
              "    <tr>\n",
              "      <th>20</th>\n",
              "      <td>2000-01-21</td>\n",
              "      <td>-1.530591</td>\n",
              "      <td>-6.098261</td>\n",
              "      <td>-3.598433</td>\n",
              "      <td>1.958704</td>\n",
              "    </tr>\n",
              "    <tr>\n",
              "      <th>21</th>\n",
              "      <td>2000-01-22</td>\n",
              "      <td>-1.375367</td>\n",
              "      <td>-8.237915</td>\n",
              "      <td>-4.388563</td>\n",
              "      <td>2.459954</td>\n",
              "    </tr>\n",
              "    <tr>\n",
              "      <th>22</th>\n",
              "      <td>2000-01-23</td>\n",
              "      <td>0.095261</td>\n",
              "      <td>-7.216472</td>\n",
              "      <td>-4.811811</td>\n",
              "      <td>2.819721</td>\n",
              "    </tr>\n",
              "    <tr>\n",
              "      <th>23</th>\n",
              "      <td>2000-01-24</td>\n",
              "      <td>0.214243</td>\n",
              "      <td>-6.030548</td>\n",
              "      <td>-3.144359</td>\n",
              "      <td>3.511291</td>\n",
              "    </tr>\n",
              "    <tr>\n",
              "      <th>24</th>\n",
              "      <td>2000-01-25</td>\n",
              "      <td>1.429447</td>\n",
              "      <td>-5.217954</td>\n",
              "      <td>-5.624924</td>\n",
              "      <td>3.614314</td>\n",
              "    </tr>\n",
              "    <tr>\n",
              "      <th>25</th>\n",
              "      <td>2000-01-26</td>\n",
              "      <td>-0.301220</td>\n",
              "      <td>-5.446025</td>\n",
              "      <td>-5.823559</td>\n",
              "      <td>1.699184</td>\n",
              "    </tr>\n",
              "    <tr>\n",
              "      <th>26</th>\n",
              "      <td>2000-01-27</td>\n",
              "      <td>2.135443</td>\n",
              "      <td>-5.407336</td>\n",
              "      <td>-3.699933</td>\n",
              "      <td>2.175287</td>\n",
              "    </tr>\n",
              "    <tr>\n",
              "      <th>27</th>\n",
              "      <td>2000-01-28</td>\n",
              "      <td>0.431727</td>\n",
              "      <td>-5.431105</td>\n",
              "      <td>-1.655192</td>\n",
              "      <td>1.205280</td>\n",
              "    </tr>\n",
              "    <tr>\n",
              "      <th>28</th>\n",
              "      <td>2000-01-29</td>\n",
              "      <td>0.327101</td>\n",
              "      <td>-4.335189</td>\n",
              "      <td>-1.674483</td>\n",
              "      <td>-0.274729</td>\n",
              "    </tr>\n",
              "    <tr>\n",
              "      <th>29</th>\n",
              "      <td>2000-01-30</td>\n",
              "      <td>-0.876068</td>\n",
              "      <td>-5.781809</td>\n",
              "      <td>-0.960081</td>\n",
              "      <td>0.002058</td>\n",
              "    </tr>\n",
              "    <tr>\n",
              "      <th>...</th>\n",
              "      <td>...</td>\n",
              "      <td>...</td>\n",
              "      <td>...</td>\n",
              "      <td>...</td>\n",
              "      <td>...</td>\n",
              "    </tr>\n",
              "    <tr>\n",
              "      <th>970</th>\n",
              "      <td>2002-08-28</td>\n",
              "      <td>-33.743593</td>\n",
              "      <td>17.486365</td>\n",
              "      <td>55.919407</td>\n",
              "      <td>42.095548</td>\n",
              "    </tr>\n",
              "    <tr>\n",
              "      <th>971</th>\n",
              "      <td>2002-08-29</td>\n",
              "      <td>-35.674088</td>\n",
              "      <td>17.851160</td>\n",
              "      <td>54.455635</td>\n",
              "      <td>41.892275</td>\n",
              "    </tr>\n",
              "    <tr>\n",
              "      <th>972</th>\n",
              "      <td>2002-08-30</td>\n",
              "      <td>-36.388419</td>\n",
              "      <td>17.975779</td>\n",
              "      <td>55.411214</td>\n",
              "      <td>42.098639</td>\n",
              "    </tr>\n",
              "    <tr>\n",
              "      <th>973</th>\n",
              "      <td>2002-08-31</td>\n",
              "      <td>-36.402773</td>\n",
              "      <td>19.881016</td>\n",
              "      <td>54.345437</td>\n",
              "      <td>42.507453</td>\n",
              "    </tr>\n",
              "    <tr>\n",
              "      <th>974</th>\n",
              "      <td>2002-09-01</td>\n",
              "      <td>-37.153529</td>\n",
              "      <td>20.440210</td>\n",
              "      <td>53.698540</td>\n",
              "      <td>42.189897</td>\n",
              "    </tr>\n",
              "    <tr>\n",
              "      <th>975</th>\n",
              "      <td>2002-09-02</td>\n",
              "      <td>-36.817828</td>\n",
              "      <td>20.504834</td>\n",
              "      <td>53.023143</td>\n",
              "      <td>42.403090</td>\n",
              "    </tr>\n",
              "    <tr>\n",
              "      <th>976</th>\n",
              "      <td>2002-09-03</td>\n",
              "      <td>-35.984492</td>\n",
              "      <td>20.832504</td>\n",
              "      <td>53.600424</td>\n",
              "      <td>41.220828</td>\n",
              "    </tr>\n",
              "    <tr>\n",
              "      <th>977</th>\n",
              "      <td>2002-09-04</td>\n",
              "      <td>-36.636345</td>\n",
              "      <td>20.364514</td>\n",
              "      <td>53.158539</td>\n",
              "      <td>41.765248</td>\n",
              "    </tr>\n",
              "    <tr>\n",
              "      <th>978</th>\n",
              "      <td>2002-09-05</td>\n",
              "      <td>-37.849504</td>\n",
              "      <td>22.867457</td>\n",
              "      <td>52.906122</td>\n",
              "      <td>41.352228</td>\n",
              "    </tr>\n",
              "    <tr>\n",
              "      <th>979</th>\n",
              "      <td>2002-09-06</td>\n",
              "      <td>-38.794197</td>\n",
              "      <td>23.433160</td>\n",
              "      <td>53.748259</td>\n",
              "      <td>40.549788</td>\n",
              "    </tr>\n",
              "    <tr>\n",
              "      <th>980</th>\n",
              "      <td>2002-09-07</td>\n",
              "      <td>-37.946207</td>\n",
              "      <td>22.673713</td>\n",
              "      <td>52.459463</td>\n",
              "      <td>40.790972</td>\n",
              "    </tr>\n",
              "    <tr>\n",
              "      <th>981</th>\n",
              "      <td>2002-09-08</td>\n",
              "      <td>-37.806858</td>\n",
              "      <td>22.562674</td>\n",
              "      <td>52.913922</td>\n",
              "      <td>41.432203</td>\n",
              "    </tr>\n",
              "    <tr>\n",
              "      <th>982</th>\n",
              "      <td>2002-09-09</td>\n",
              "      <td>-40.617700</td>\n",
              "      <td>23.056518</td>\n",
              "      <td>53.597938</td>\n",
              "      <td>42.205432</td>\n",
              "    </tr>\n",
              "    <tr>\n",
              "      <th>983</th>\n",
              "      <td>2002-09-10</td>\n",
              "      <td>-40.189807</td>\n",
              "      <td>23.843867</td>\n",
              "      <td>54.138251</td>\n",
              "      <td>42.921704</td>\n",
              "    </tr>\n",
              "    <tr>\n",
              "      <th>984</th>\n",
              "      <td>2002-09-11</td>\n",
              "      <td>-39.770745</td>\n",
              "      <td>23.016801</td>\n",
              "      <td>55.030264</td>\n",
              "      <td>43.279547</td>\n",
              "    </tr>\n",
              "    <tr>\n",
              "      <th>985</th>\n",
              "      <td>2002-09-12</td>\n",
              "      <td>-38.639904</td>\n",
              "      <td>23.140240</td>\n",
              "      <td>55.103998</td>\n",
              "      <td>42.348905</td>\n",
              "    </tr>\n",
              "    <tr>\n",
              "      <th>986</th>\n",
              "      <td>2002-09-13</td>\n",
              "      <td>-40.036546</td>\n",
              "      <td>21.463485</td>\n",
              "      <td>54.905939</td>\n",
              "      <td>43.019018</td>\n",
              "    </tr>\n",
              "    <tr>\n",
              "      <th>987</th>\n",
              "      <td>2002-09-14</td>\n",
              "      <td>-40.999676</td>\n",
              "      <td>21.064496</td>\n",
              "      <td>56.824461</td>\n",
              "      <td>42.290138</td>\n",
              "    </tr>\n",
              "    <tr>\n",
              "      <th>988</th>\n",
              "      <td>2002-09-15</td>\n",
              "      <td>-41.548077</td>\n",
              "      <td>20.363314</td>\n",
              "      <td>56.642028</td>\n",
              "      <td>41.574488</td>\n",
              "    </tr>\n",
              "    <tr>\n",
              "      <th>989</th>\n",
              "      <td>2002-09-16</td>\n",
              "      <td>-41.661082</td>\n",
              "      <td>20.168098</td>\n",
              "      <td>56.000195</td>\n",
              "      <td>43.905955</td>\n",
              "    </tr>\n",
              "    <tr>\n",
              "      <th>990</th>\n",
              "      <td>2002-09-17</td>\n",
              "      <td>-41.632907</td>\n",
              "      <td>20.719981</td>\n",
              "      <td>57.043294</td>\n",
              "      <td>45.433879</td>\n",
              "    </tr>\n",
              "    <tr>\n",
              "      <th>991</th>\n",
              "      <td>2002-09-18</td>\n",
              "      <td>-41.430942</td>\n",
              "      <td>21.504371</td>\n",
              "      <td>58.131391</td>\n",
              "      <td>44.832636</td>\n",
              "    </tr>\n",
              "    <tr>\n",
              "      <th>992</th>\n",
              "      <td>2002-09-19</td>\n",
              "      <td>-41.656721</td>\n",
              "      <td>22.019381</td>\n",
              "      <td>54.701762</td>\n",
              "      <td>45.024034</td>\n",
              "    </tr>\n",
              "    <tr>\n",
              "      <th>993</th>\n",
              "      <td>2002-09-20</td>\n",
              "      <td>-42.477485</td>\n",
              "      <td>23.197576</td>\n",
              "      <td>54.987928</td>\n",
              "      <td>46.506041</td>\n",
              "    </tr>\n",
              "    <tr>\n",
              "      <th>994</th>\n",
              "      <td>2002-09-21</td>\n",
              "      <td>-41.435700</td>\n",
              "      <td>23.072394</td>\n",
              "      <td>54.832852</td>\n",
              "      <td>46.597038</td>\n",
              "    </tr>\n",
              "    <tr>\n",
              "      <th>995</th>\n",
              "      <td>2002-09-22</td>\n",
              "      <td>-41.132843</td>\n",
              "      <td>24.663317</td>\n",
              "      <td>56.082239</td>\n",
              "      <td>46.268703</td>\n",
              "    </tr>\n",
              "    <tr>\n",
              "      <th>996</th>\n",
              "      <td>2002-09-23</td>\n",
              "      <td>-42.638254</td>\n",
              "      <td>23.819559</td>\n",
              "      <td>55.793242</td>\n",
              "      <td>49.036620</td>\n",
              "    </tr>\n",
              "    <tr>\n",
              "      <th>997</th>\n",
              "      <td>2002-09-24</td>\n",
              "      <td>-41.902302</td>\n",
              "      <td>23.926604</td>\n",
              "      <td>55.953050</td>\n",
              "      <td>49.019658</td>\n",
              "    </tr>\n",
              "    <tr>\n",
              "      <th>998</th>\n",
              "      <td>2002-09-25</td>\n",
              "      <td>-42.648650</td>\n",
              "      <td>24.616109</td>\n",
              "      <td>56.450820</td>\n",
              "      <td>47.786768</td>\n",
              "    </tr>\n",
              "    <tr>\n",
              "      <th>999</th>\n",
              "      <td>2002-09-26</td>\n",
              "      <td>-42.578949</td>\n",
              "      <td>25.108167</td>\n",
              "      <td>56.381025</td>\n",
              "      <td>48.064933</td>\n",
              "    </tr>\n",
              "  </tbody>\n",
              "</table>\n",
              "<p>1000 rows × 5 columns</p>\n",
              "</div>"
            ],
            "text/plain": [
              "     Unnamed: 0          A          B          C          D\n",
              "0    2000-01-01  -0.673818  -2.229466  -2.318174   1.257831\n",
              "1    2000-01-02  -0.420270  -3.602629  -3.444045   1.086148\n",
              "2    2000-01-03  -1.666716  -4.354933  -3.709838   0.918151\n",
              "3    2000-01-04  -0.692385  -4.941321  -3.084321   0.569502\n",
              "4    2000-01-05   0.045749  -3.964906  -3.570405   1.026525\n",
              "5    2000-01-06   0.959110  -3.478274  -3.029088  -0.649877\n",
              "6    2000-01-07   1.276407  -5.012207  -3.696240  -1.232399\n",
              "7    2000-01-08  -0.060906  -6.565836  -3.154668  -1.388649\n",
              "8    2000-01-09   0.211959  -5.531839  -2.368236  -0.813646\n",
              "9    2000-01-10  -0.234651  -4.916613  -2.735872  -1.682131\n",
              "10   2000-01-11  -0.623360  -4.075775  -4.076921  -2.542520\n",
              "11   2000-01-12  -0.193377  -5.098689  -2.809045  -2.327928\n",
              "12   2000-01-13   0.161736  -5.620983  -4.931289  -1.441896\n",
              "13   2000-01-14  -0.434071  -6.090342  -4.285995   0.251044\n",
              "14   2000-01-15  -1.479152  -5.942091  -5.376464  -0.086773\n",
              "15   2000-01-16  -1.159149  -6.761241  -5.979358   0.101267\n",
              "16   2000-01-17  -0.874011  -7.216181  -4.651470   0.575930\n",
              "17   2000-01-18  -0.781759  -7.468608  -3.104531   1.189680\n",
              "18   2000-01-19  -1.612792  -7.535590  -4.140936   1.454246\n",
              "19   2000-01-20  -1.496001  -7.672709  -3.761911   1.616197\n",
              "20   2000-01-21  -1.530591  -6.098261  -3.598433   1.958704\n",
              "21   2000-01-22  -1.375367  -8.237915  -4.388563   2.459954\n",
              "22   2000-01-23   0.095261  -7.216472  -4.811811   2.819721\n",
              "23   2000-01-24   0.214243  -6.030548  -3.144359   3.511291\n",
              "24   2000-01-25   1.429447  -5.217954  -5.624924   3.614314\n",
              "25   2000-01-26  -0.301220  -5.446025  -5.823559   1.699184\n",
              "26   2000-01-27   2.135443  -5.407336  -3.699933   2.175287\n",
              "27   2000-01-28   0.431727  -5.431105  -1.655192   1.205280\n",
              "28   2000-01-29   0.327101  -4.335189  -1.674483  -0.274729\n",
              "29   2000-01-30  -0.876068  -5.781809  -0.960081   0.002058\n",
              "..          ...        ...        ...        ...        ...\n",
              "970  2002-08-28 -33.743593  17.486365  55.919407  42.095548\n",
              "971  2002-08-29 -35.674088  17.851160  54.455635  41.892275\n",
              "972  2002-08-30 -36.388419  17.975779  55.411214  42.098639\n",
              "973  2002-08-31 -36.402773  19.881016  54.345437  42.507453\n",
              "974  2002-09-01 -37.153529  20.440210  53.698540  42.189897\n",
              "975  2002-09-02 -36.817828  20.504834  53.023143  42.403090\n",
              "976  2002-09-03 -35.984492  20.832504  53.600424  41.220828\n",
              "977  2002-09-04 -36.636345  20.364514  53.158539  41.765248\n",
              "978  2002-09-05 -37.849504  22.867457  52.906122  41.352228\n",
              "979  2002-09-06 -38.794197  23.433160  53.748259  40.549788\n",
              "980  2002-09-07 -37.946207  22.673713  52.459463  40.790972\n",
              "981  2002-09-08 -37.806858  22.562674  52.913922  41.432203\n",
              "982  2002-09-09 -40.617700  23.056518  53.597938  42.205432\n",
              "983  2002-09-10 -40.189807  23.843867  54.138251  42.921704\n",
              "984  2002-09-11 -39.770745  23.016801  55.030264  43.279547\n",
              "985  2002-09-12 -38.639904  23.140240  55.103998  42.348905\n",
              "986  2002-09-13 -40.036546  21.463485  54.905939  43.019018\n",
              "987  2002-09-14 -40.999676  21.064496  56.824461  42.290138\n",
              "988  2002-09-15 -41.548077  20.363314  56.642028  41.574488\n",
              "989  2002-09-16 -41.661082  20.168098  56.000195  43.905955\n",
              "990  2002-09-17 -41.632907  20.719981  57.043294  45.433879\n",
              "991  2002-09-18 -41.430942  21.504371  58.131391  44.832636\n",
              "992  2002-09-19 -41.656721  22.019381  54.701762  45.024034\n",
              "993  2002-09-20 -42.477485  23.197576  54.987928  46.506041\n",
              "994  2002-09-21 -41.435700  23.072394  54.832852  46.597038\n",
              "995  2002-09-22 -41.132843  24.663317  56.082239  46.268703\n",
              "996  2002-09-23 -42.638254  23.819559  55.793242  49.036620\n",
              "997  2002-09-24 -41.902302  23.926604  55.953050  49.019658\n",
              "998  2002-09-25 -42.648650  24.616109  56.450820  47.786768\n",
              "999  2002-09-26 -42.578949  25.108167  56.381025  48.064933\n",
              "\n",
              "[1000 rows x 5 columns]"
            ]
          },
          "metadata": {
            "tags": []
          },
          "execution_count": 142
        }
      ]
    },
    {
      "metadata": {
        "id": "P9knaZtu24Nj",
        "colab_type": "text"
      },
      "cell_type": "markdown",
      "source": [
        "### HDF5"
      ]
    },
    {
      "metadata": {
        "id": "tHW2rtWWkHNd",
        "colab_type": "text"
      },
      "cell_type": "markdown",
      "source": [
        "[HDFStores](https://pandas.pydata.org/pandas-docs/stable/io.html#io-hdf5)에 읽고 씁니다."
      ]
    },
    {
      "metadata": {
        "id": "Mzz9k4TQkHNe",
        "colab_type": "text"
      },
      "cell_type": "markdown",
      "source": [
        "HDF5 Store에 씁니다."
      ]
    },
    {
      "metadata": {
        "id": "R0VSHXW30H9a",
        "colab_type": "code",
        "colab": {}
      },
      "cell_type": "code",
      "source": [
        "df.to_hdf('foo.h5','df')"
      ],
      "execution_count": 0,
      "outputs": []
    },
    {
      "metadata": {
        "id": "tw3vxS450MpB",
        "colab_type": "text"
      },
      "cell_type": "markdown",
      "source": [
        "HDF5 Store에서 읽어옵니다."
      ]
    },
    {
      "metadata": {
        "id": "QXqtNXK8zx0f",
        "colab_type": "code",
        "colab": {
          "base_uri": "https://localhost:8080/",
          "height": 278
        },
        "outputId": "b2651a35-a12b-44b8-93cd-ecd14ae968cf"
      },
      "cell_type": "code",
      "source": [
        "pd.read_hdf('foo.h5','df')"
      ],
      "execution_count": 0,
      "outputs": [
        {
          "output_type": "execute_result",
          "data": {
            "text/html": [
              "<div>\n",
              "<style>\n",
              "    .dataframe thead tr:only-child th {\n",
              "        text-align: right;\n",
              "    }\n",
              "\n",
              "    .dataframe thead th {\n",
              "        text-align: left;\n",
              "    }\n",
              "\n",
              "    .dataframe tbody tr th {\n",
              "        vertical-align: top;\n",
              "    }\n",
              "</style>\n",
              "<table border=\"1\" class=\"dataframe\">\n",
              "  <thead>\n",
              "    <tr style=\"text-align: right;\">\n",
              "      <th></th>\n",
              "      <th>A</th>\n",
              "      <th>B</th>\n",
              "      <th>C</th>\n",
              "      <th>D</th>\n",
              "    </tr>\n",
              "  </thead>\n",
              "  <tbody>\n",
              "    <tr>\n",
              "      <th>2000-01-01</th>\n",
              "      <td>-0.673818</td>\n",
              "      <td>-2.229466</td>\n",
              "      <td>-2.318174</td>\n",
              "      <td>1.257831</td>\n",
              "    </tr>\n",
              "    <tr>\n",
              "      <th>2000-01-02</th>\n",
              "      <td>-0.420270</td>\n",
              "      <td>-3.602629</td>\n",
              "      <td>-3.444045</td>\n",
              "      <td>1.086148</td>\n",
              "    </tr>\n",
              "    <tr>\n",
              "      <th>2000-01-03</th>\n",
              "      <td>-1.666716</td>\n",
              "      <td>-4.354933</td>\n",
              "      <td>-3.709838</td>\n",
              "      <td>0.918151</td>\n",
              "    </tr>\n",
              "    <tr>\n",
              "      <th>2000-01-04</th>\n",
              "      <td>-0.692385</td>\n",
              "      <td>-4.941321</td>\n",
              "      <td>-3.084321</td>\n",
              "      <td>0.569502</td>\n",
              "    </tr>\n",
              "    <tr>\n",
              "      <th>2000-01-05</th>\n",
              "      <td>0.045749</td>\n",
              "      <td>-3.964906</td>\n",
              "      <td>-3.570405</td>\n",
              "      <td>1.026525</td>\n",
              "    </tr>\n",
              "    <tr>\n",
              "      <th>2000-01-06</th>\n",
              "      <td>0.959110</td>\n",
              "      <td>-3.478274</td>\n",
              "      <td>-3.029088</td>\n",
              "      <td>-0.649877</td>\n",
              "    </tr>\n",
              "    <tr>\n",
              "      <th>2000-01-07</th>\n",
              "      <td>1.276407</td>\n",
              "      <td>-5.012207</td>\n",
              "      <td>-3.696240</td>\n",
              "      <td>-1.232399</td>\n",
              "    </tr>\n",
              "    <tr>\n",
              "      <th>2000-01-08</th>\n",
              "      <td>-0.060906</td>\n",
              "      <td>-6.565836</td>\n",
              "      <td>-3.154668</td>\n",
              "      <td>-1.388649</td>\n",
              "    </tr>\n",
              "    <tr>\n",
              "      <th>2000-01-09</th>\n",
              "      <td>0.211959</td>\n",
              "      <td>-5.531839</td>\n",
              "      <td>-2.368236</td>\n",
              "      <td>-0.813646</td>\n",
              "    </tr>\n",
              "    <tr>\n",
              "      <th>2000-01-10</th>\n",
              "      <td>-0.234651</td>\n",
              "      <td>-4.916613</td>\n",
              "      <td>-2.735872</td>\n",
              "      <td>-1.682131</td>\n",
              "    </tr>\n",
              "    <tr>\n",
              "      <th>2000-01-11</th>\n",
              "      <td>-0.623360</td>\n",
              "      <td>-4.075775</td>\n",
              "      <td>-4.076921</td>\n",
              "      <td>-2.542520</td>\n",
              "    </tr>\n",
              "    <tr>\n",
              "      <th>2000-01-12</th>\n",
              "      <td>-0.193377</td>\n",
              "      <td>-5.098689</td>\n",
              "      <td>-2.809045</td>\n",
              "      <td>-2.327928</td>\n",
              "    </tr>\n",
              "    <tr>\n",
              "      <th>2000-01-13</th>\n",
              "      <td>0.161736</td>\n",
              "      <td>-5.620983</td>\n",
              "      <td>-4.931289</td>\n",
              "      <td>-1.441896</td>\n",
              "    </tr>\n",
              "    <tr>\n",
              "      <th>2000-01-14</th>\n",
              "      <td>-0.434071</td>\n",
              "      <td>-6.090342</td>\n",
              "      <td>-4.285995</td>\n",
              "      <td>0.251044</td>\n",
              "    </tr>\n",
              "    <tr>\n",
              "      <th>2000-01-15</th>\n",
              "      <td>-1.479152</td>\n",
              "      <td>-5.942091</td>\n",
              "      <td>-5.376464</td>\n",
              "      <td>-0.086773</td>\n",
              "    </tr>\n",
              "    <tr>\n",
              "      <th>2000-01-16</th>\n",
              "      <td>-1.159149</td>\n",
              "      <td>-6.761241</td>\n",
              "      <td>-5.979358</td>\n",
              "      <td>0.101267</td>\n",
              "    </tr>\n",
              "    <tr>\n",
              "      <th>2000-01-17</th>\n",
              "      <td>-0.874011</td>\n",
              "      <td>-7.216181</td>\n",
              "      <td>-4.651470</td>\n",
              "      <td>0.575930</td>\n",
              "    </tr>\n",
              "    <tr>\n",
              "      <th>2000-01-18</th>\n",
              "      <td>-0.781759</td>\n",
              "      <td>-7.468608</td>\n",
              "      <td>-3.104531</td>\n",
              "      <td>1.189680</td>\n",
              "    </tr>\n",
              "    <tr>\n",
              "      <th>2000-01-19</th>\n",
              "      <td>-1.612792</td>\n",
              "      <td>-7.535590</td>\n",
              "      <td>-4.140936</td>\n",
              "      <td>1.454246</td>\n",
              "    </tr>\n",
              "    <tr>\n",
              "      <th>2000-01-20</th>\n",
              "      <td>-1.496001</td>\n",
              "      <td>-7.672709</td>\n",
              "      <td>-3.761911</td>\n",
              "      <td>1.616197</td>\n",
              "    </tr>\n",
              "    <tr>\n",
              "      <th>2000-01-21</th>\n",
              "      <td>-1.530591</td>\n",
              "      <td>-6.098261</td>\n",
              "      <td>-3.598433</td>\n",
              "      <td>1.958704</td>\n",
              "    </tr>\n",
              "    <tr>\n",
              "      <th>2000-01-22</th>\n",
              "      <td>-1.375367</td>\n",
              "      <td>-8.237915</td>\n",
              "      <td>-4.388563</td>\n",
              "      <td>2.459954</td>\n",
              "    </tr>\n",
              "    <tr>\n",
              "      <th>2000-01-23</th>\n",
              "      <td>0.095261</td>\n",
              "      <td>-7.216472</td>\n",
              "      <td>-4.811811</td>\n",
              "      <td>2.819721</td>\n",
              "    </tr>\n",
              "    <tr>\n",
              "      <th>2000-01-24</th>\n",
              "      <td>0.214243</td>\n",
              "      <td>-6.030548</td>\n",
              "      <td>-3.144359</td>\n",
              "      <td>3.511291</td>\n",
              "    </tr>\n",
              "    <tr>\n",
              "      <th>2000-01-25</th>\n",
              "      <td>1.429447</td>\n",
              "      <td>-5.217954</td>\n",
              "      <td>-5.624924</td>\n",
              "      <td>3.614314</td>\n",
              "    </tr>\n",
              "    <tr>\n",
              "      <th>2000-01-26</th>\n",
              "      <td>-0.301220</td>\n",
              "      <td>-5.446025</td>\n",
              "      <td>-5.823559</td>\n",
              "      <td>1.699184</td>\n",
              "    </tr>\n",
              "    <tr>\n",
              "      <th>2000-01-27</th>\n",
              "      <td>2.135443</td>\n",
              "      <td>-5.407336</td>\n",
              "      <td>-3.699933</td>\n",
              "      <td>2.175287</td>\n",
              "    </tr>\n",
              "    <tr>\n",
              "      <th>2000-01-28</th>\n",
              "      <td>0.431727</td>\n",
              "      <td>-5.431105</td>\n",
              "      <td>-1.655192</td>\n",
              "      <td>1.205280</td>\n",
              "    </tr>\n",
              "    <tr>\n",
              "      <th>2000-01-29</th>\n",
              "      <td>0.327101</td>\n",
              "      <td>-4.335189</td>\n",
              "      <td>-1.674483</td>\n",
              "      <td>-0.274729</td>\n",
              "    </tr>\n",
              "    <tr>\n",
              "      <th>2000-01-30</th>\n",
              "      <td>-0.876068</td>\n",
              "      <td>-5.781809</td>\n",
              "      <td>-0.960081</td>\n",
              "      <td>0.002058</td>\n",
              "    </tr>\n",
              "    <tr>\n",
              "      <th>...</th>\n",
              "      <td>...</td>\n",
              "      <td>...</td>\n",
              "      <td>...</td>\n",
              "      <td>...</td>\n",
              "    </tr>\n",
              "    <tr>\n",
              "      <th>2002-08-28</th>\n",
              "      <td>-33.743593</td>\n",
              "      <td>17.486365</td>\n",
              "      <td>55.919407</td>\n",
              "      <td>42.095548</td>\n",
              "    </tr>\n",
              "    <tr>\n",
              "      <th>2002-08-29</th>\n",
              "      <td>-35.674088</td>\n",
              "      <td>17.851160</td>\n",
              "      <td>54.455635</td>\n",
              "      <td>41.892275</td>\n",
              "    </tr>\n",
              "    <tr>\n",
              "      <th>2002-08-30</th>\n",
              "      <td>-36.388419</td>\n",
              "      <td>17.975779</td>\n",
              "      <td>55.411214</td>\n",
              "      <td>42.098639</td>\n",
              "    </tr>\n",
              "    <tr>\n",
              "      <th>2002-08-31</th>\n",
              "      <td>-36.402773</td>\n",
              "      <td>19.881016</td>\n",
              "      <td>54.345437</td>\n",
              "      <td>42.507453</td>\n",
              "    </tr>\n",
              "    <tr>\n",
              "      <th>2002-09-01</th>\n",
              "      <td>-37.153529</td>\n",
              "      <td>20.440210</td>\n",
              "      <td>53.698540</td>\n",
              "      <td>42.189897</td>\n",
              "    </tr>\n",
              "    <tr>\n",
              "      <th>2002-09-02</th>\n",
              "      <td>-36.817828</td>\n",
              "      <td>20.504834</td>\n",
              "      <td>53.023143</td>\n",
              "      <td>42.403090</td>\n",
              "    </tr>\n",
              "    <tr>\n",
              "      <th>2002-09-03</th>\n",
              "      <td>-35.984492</td>\n",
              "      <td>20.832504</td>\n",
              "      <td>53.600424</td>\n",
              "      <td>41.220828</td>\n",
              "    </tr>\n",
              "    <tr>\n",
              "      <th>2002-09-04</th>\n",
              "      <td>-36.636345</td>\n",
              "      <td>20.364514</td>\n",
              "      <td>53.158539</td>\n",
              "      <td>41.765248</td>\n",
              "    </tr>\n",
              "    <tr>\n",
              "      <th>2002-09-05</th>\n",
              "      <td>-37.849504</td>\n",
              "      <td>22.867457</td>\n",
              "      <td>52.906122</td>\n",
              "      <td>41.352228</td>\n",
              "    </tr>\n",
              "    <tr>\n",
              "      <th>2002-09-06</th>\n",
              "      <td>-38.794197</td>\n",
              "      <td>23.433160</td>\n",
              "      <td>53.748259</td>\n",
              "      <td>40.549788</td>\n",
              "    </tr>\n",
              "    <tr>\n",
              "      <th>2002-09-07</th>\n",
              "      <td>-37.946207</td>\n",
              "      <td>22.673713</td>\n",
              "      <td>52.459463</td>\n",
              "      <td>40.790972</td>\n",
              "    </tr>\n",
              "    <tr>\n",
              "      <th>2002-09-08</th>\n",
              "      <td>-37.806858</td>\n",
              "      <td>22.562674</td>\n",
              "      <td>52.913922</td>\n",
              "      <td>41.432203</td>\n",
              "    </tr>\n",
              "    <tr>\n",
              "      <th>2002-09-09</th>\n",
              "      <td>-40.617700</td>\n",
              "      <td>23.056518</td>\n",
              "      <td>53.597938</td>\n",
              "      <td>42.205432</td>\n",
              "    </tr>\n",
              "    <tr>\n",
              "      <th>2002-09-10</th>\n",
              "      <td>-40.189807</td>\n",
              "      <td>23.843867</td>\n",
              "      <td>54.138251</td>\n",
              "      <td>42.921704</td>\n",
              "    </tr>\n",
              "    <tr>\n",
              "      <th>2002-09-11</th>\n",
              "      <td>-39.770745</td>\n",
              "      <td>23.016801</td>\n",
              "      <td>55.030264</td>\n",
              "      <td>43.279547</td>\n",
              "    </tr>\n",
              "    <tr>\n",
              "      <th>2002-09-12</th>\n",
              "      <td>-38.639904</td>\n",
              "      <td>23.140240</td>\n",
              "      <td>55.103998</td>\n",
              "      <td>42.348905</td>\n",
              "    </tr>\n",
              "    <tr>\n",
              "      <th>2002-09-13</th>\n",
              "      <td>-40.036546</td>\n",
              "      <td>21.463485</td>\n",
              "      <td>54.905939</td>\n",
              "      <td>43.019018</td>\n",
              "    </tr>\n",
              "    <tr>\n",
              "      <th>2002-09-14</th>\n",
              "      <td>-40.999676</td>\n",
              "      <td>21.064496</td>\n",
              "      <td>56.824461</td>\n",
              "      <td>42.290138</td>\n",
              "    </tr>\n",
              "    <tr>\n",
              "      <th>2002-09-15</th>\n",
              "      <td>-41.548077</td>\n",
              "      <td>20.363314</td>\n",
              "      <td>56.642028</td>\n",
              "      <td>41.574488</td>\n",
              "    </tr>\n",
              "    <tr>\n",
              "      <th>2002-09-16</th>\n",
              "      <td>-41.661082</td>\n",
              "      <td>20.168098</td>\n",
              "      <td>56.000195</td>\n",
              "      <td>43.905955</td>\n",
              "    </tr>\n",
              "    <tr>\n",
              "      <th>2002-09-17</th>\n",
              "      <td>-41.632907</td>\n",
              "      <td>20.719981</td>\n",
              "      <td>57.043294</td>\n",
              "      <td>45.433879</td>\n",
              "    </tr>\n",
              "    <tr>\n",
              "      <th>2002-09-18</th>\n",
              "      <td>-41.430942</td>\n",
              "      <td>21.504371</td>\n",
              "      <td>58.131391</td>\n",
              "      <td>44.832636</td>\n",
              "    </tr>\n",
              "    <tr>\n",
              "      <th>2002-09-19</th>\n",
              "      <td>-41.656721</td>\n",
              "      <td>22.019381</td>\n",
              "      <td>54.701762</td>\n",
              "      <td>45.024034</td>\n",
              "    </tr>\n",
              "    <tr>\n",
              "      <th>2002-09-20</th>\n",
              "      <td>-42.477485</td>\n",
              "      <td>23.197576</td>\n",
              "      <td>54.987928</td>\n",
              "      <td>46.506041</td>\n",
              "    </tr>\n",
              "    <tr>\n",
              "      <th>2002-09-21</th>\n",
              "      <td>-41.435700</td>\n",
              "      <td>23.072394</td>\n",
              "      <td>54.832852</td>\n",
              "      <td>46.597038</td>\n",
              "    </tr>\n",
              "    <tr>\n",
              "      <th>2002-09-22</th>\n",
              "      <td>-41.132843</td>\n",
              "      <td>24.663317</td>\n",
              "      <td>56.082239</td>\n",
              "      <td>46.268703</td>\n",
              "    </tr>\n",
              "    <tr>\n",
              "      <th>2002-09-23</th>\n",
              "      <td>-42.638254</td>\n",
              "      <td>23.819559</td>\n",
              "      <td>55.793242</td>\n",
              "      <td>49.036620</td>\n",
              "    </tr>\n",
              "    <tr>\n",
              "      <th>2002-09-24</th>\n",
              "      <td>-41.902302</td>\n",
              "      <td>23.926604</td>\n",
              "      <td>55.953050</td>\n",
              "      <td>49.019658</td>\n",
              "    </tr>\n",
              "    <tr>\n",
              "      <th>2002-09-25</th>\n",
              "      <td>-42.648650</td>\n",
              "      <td>24.616109</td>\n",
              "      <td>56.450820</td>\n",
              "      <td>47.786768</td>\n",
              "    </tr>\n",
              "    <tr>\n",
              "      <th>2002-09-26</th>\n",
              "      <td>-42.578949</td>\n",
              "      <td>25.108167</td>\n",
              "      <td>56.381025</td>\n",
              "      <td>48.064933</td>\n",
              "    </tr>\n",
              "  </tbody>\n",
              "</table>\n",
              "<p>1000 rows × 4 columns</p>\n",
              "</div>"
            ],
            "text/plain": [
              "                    A          B          C          D\n",
              "2000-01-01  -0.673818  -2.229466  -2.318174   1.257831\n",
              "2000-01-02  -0.420270  -3.602629  -3.444045   1.086148\n",
              "2000-01-03  -1.666716  -4.354933  -3.709838   0.918151\n",
              "2000-01-04  -0.692385  -4.941321  -3.084321   0.569502\n",
              "2000-01-05   0.045749  -3.964906  -3.570405   1.026525\n",
              "2000-01-06   0.959110  -3.478274  -3.029088  -0.649877\n",
              "2000-01-07   1.276407  -5.012207  -3.696240  -1.232399\n",
              "2000-01-08  -0.060906  -6.565836  -3.154668  -1.388649\n",
              "2000-01-09   0.211959  -5.531839  -2.368236  -0.813646\n",
              "2000-01-10  -0.234651  -4.916613  -2.735872  -1.682131\n",
              "2000-01-11  -0.623360  -4.075775  -4.076921  -2.542520\n",
              "2000-01-12  -0.193377  -5.098689  -2.809045  -2.327928\n",
              "2000-01-13   0.161736  -5.620983  -4.931289  -1.441896\n",
              "2000-01-14  -0.434071  -6.090342  -4.285995   0.251044\n",
              "2000-01-15  -1.479152  -5.942091  -5.376464  -0.086773\n",
              "2000-01-16  -1.159149  -6.761241  -5.979358   0.101267\n",
              "2000-01-17  -0.874011  -7.216181  -4.651470   0.575930\n",
              "2000-01-18  -0.781759  -7.468608  -3.104531   1.189680\n",
              "2000-01-19  -1.612792  -7.535590  -4.140936   1.454246\n",
              "2000-01-20  -1.496001  -7.672709  -3.761911   1.616197\n",
              "2000-01-21  -1.530591  -6.098261  -3.598433   1.958704\n",
              "2000-01-22  -1.375367  -8.237915  -4.388563   2.459954\n",
              "2000-01-23   0.095261  -7.216472  -4.811811   2.819721\n",
              "2000-01-24   0.214243  -6.030548  -3.144359   3.511291\n",
              "2000-01-25   1.429447  -5.217954  -5.624924   3.614314\n",
              "2000-01-26  -0.301220  -5.446025  -5.823559   1.699184\n",
              "2000-01-27   2.135443  -5.407336  -3.699933   2.175287\n",
              "2000-01-28   0.431727  -5.431105  -1.655192   1.205280\n",
              "2000-01-29   0.327101  -4.335189  -1.674483  -0.274729\n",
              "2000-01-30  -0.876068  -5.781809  -0.960081   0.002058\n",
              "...               ...        ...        ...        ...\n",
              "2002-08-28 -33.743593  17.486365  55.919407  42.095548\n",
              "2002-08-29 -35.674088  17.851160  54.455635  41.892275\n",
              "2002-08-30 -36.388419  17.975779  55.411214  42.098639\n",
              "2002-08-31 -36.402773  19.881016  54.345437  42.507453\n",
              "2002-09-01 -37.153529  20.440210  53.698540  42.189897\n",
              "2002-09-02 -36.817828  20.504834  53.023143  42.403090\n",
              "2002-09-03 -35.984492  20.832504  53.600424  41.220828\n",
              "2002-09-04 -36.636345  20.364514  53.158539  41.765248\n",
              "2002-09-05 -37.849504  22.867457  52.906122  41.352228\n",
              "2002-09-06 -38.794197  23.433160  53.748259  40.549788\n",
              "2002-09-07 -37.946207  22.673713  52.459463  40.790972\n",
              "2002-09-08 -37.806858  22.562674  52.913922  41.432203\n",
              "2002-09-09 -40.617700  23.056518  53.597938  42.205432\n",
              "2002-09-10 -40.189807  23.843867  54.138251  42.921704\n",
              "2002-09-11 -39.770745  23.016801  55.030264  43.279547\n",
              "2002-09-12 -38.639904  23.140240  55.103998  42.348905\n",
              "2002-09-13 -40.036546  21.463485  54.905939  43.019018\n",
              "2002-09-14 -40.999676  21.064496  56.824461  42.290138\n",
              "2002-09-15 -41.548077  20.363314  56.642028  41.574488\n",
              "2002-09-16 -41.661082  20.168098  56.000195  43.905955\n",
              "2002-09-17 -41.632907  20.719981  57.043294  45.433879\n",
              "2002-09-18 -41.430942  21.504371  58.131391  44.832636\n",
              "2002-09-19 -41.656721  22.019381  54.701762  45.024034\n",
              "2002-09-20 -42.477485  23.197576  54.987928  46.506041\n",
              "2002-09-21 -41.435700  23.072394  54.832852  46.597038\n",
              "2002-09-22 -41.132843  24.663317  56.082239  46.268703\n",
              "2002-09-23 -42.638254  23.819559  55.793242  49.036620\n",
              "2002-09-24 -41.902302  23.926604  55.953050  49.019658\n",
              "2002-09-25 -42.648650  24.616109  56.450820  47.786768\n",
              "2002-09-26 -42.578949  25.108167  56.381025  48.064933\n",
              "\n",
              "[1000 rows x 4 columns]"
            ]
          },
          "metadata": {
            "tags": []
          },
          "execution_count": 144
        }
      ]
    },
    {
      "metadata": {
        "id": "PPEdwZcg3AHk",
        "colab_type": "text"
      },
      "cell_type": "markdown",
      "source": [
        "### Excel\n",
        "[MS Excel](https://pandas.pydata.org/pandas-docs/stable/io.html#io-excel)에 읽고 씁니다. \n",
        "\n",
        "엑셀 파일에 씁니다. \n"
      ]
    },
    {
      "metadata": {
        "id": "TcFx1mGk3tdT",
        "colab_type": "code",
        "colab": {}
      },
      "cell_type": "code",
      "source": [
        "df.to_excel('foo.xlsx', sheet_name='Sheet1')"
      ],
      "execution_count": 0,
      "outputs": []
    },
    {
      "metadata": {
        "id": "Eqr2I0bk3yDg",
        "colab_type": "text"
      },
      "cell_type": "markdown",
      "source": [
        "엑셀 파일을 읽어옵니다."
      ]
    },
    {
      "metadata": {
        "id": "znXQzTWX31-1",
        "colab_type": "code",
        "colab": {
          "base_uri": "https://localhost:8080/",
          "height": 1949
        },
        "outputId": "cc3eee2d-545a-4725-b41e-69fdd4832bf3"
      },
      "cell_type": "code",
      "source": [
        "pd.read_excel('foo.xlsx', 'Sheet1', index_col=None, na_values=['NA'])"
      ],
      "execution_count": 0,
      "outputs": [
        {
          "output_type": "execute_result",
          "data": {
            "text/html": [
              "<div>\n",
              "<style>\n",
              "    .dataframe thead tr:only-child th {\n",
              "        text-align: right;\n",
              "    }\n",
              "\n",
              "    .dataframe thead th {\n",
              "        text-align: left;\n",
              "    }\n",
              "\n",
              "    .dataframe tbody tr th {\n",
              "        vertical-align: top;\n",
              "    }\n",
              "</style>\n",
              "<table border=\"1\" class=\"dataframe\">\n",
              "  <thead>\n",
              "    <tr style=\"text-align: right;\">\n",
              "      <th></th>\n",
              "      <th>A</th>\n",
              "      <th>B</th>\n",
              "      <th>C</th>\n",
              "      <th>D</th>\n",
              "    </tr>\n",
              "  </thead>\n",
              "  <tbody>\n",
              "    <tr>\n",
              "      <th>2000-01-01</th>\n",
              "      <td>-0.673818</td>\n",
              "      <td>-2.229466</td>\n",
              "      <td>-2.318174</td>\n",
              "      <td>1.257831</td>\n",
              "    </tr>\n",
              "    <tr>\n",
              "      <th>2000-01-02</th>\n",
              "      <td>-0.420270</td>\n",
              "      <td>-3.602629</td>\n",
              "      <td>-3.444045</td>\n",
              "      <td>1.086148</td>\n",
              "    </tr>\n",
              "    <tr>\n",
              "      <th>2000-01-03</th>\n",
              "      <td>-1.666716</td>\n",
              "      <td>-4.354933</td>\n",
              "      <td>-3.709838</td>\n",
              "      <td>0.918151</td>\n",
              "    </tr>\n",
              "    <tr>\n",
              "      <th>2000-01-04</th>\n",
              "      <td>-0.692385</td>\n",
              "      <td>-4.941321</td>\n",
              "      <td>-3.084321</td>\n",
              "      <td>0.569502</td>\n",
              "    </tr>\n",
              "    <tr>\n",
              "      <th>2000-01-05</th>\n",
              "      <td>0.045749</td>\n",
              "      <td>-3.964906</td>\n",
              "      <td>-3.570405</td>\n",
              "      <td>1.026525</td>\n",
              "    </tr>\n",
              "    <tr>\n",
              "      <th>2000-01-06</th>\n",
              "      <td>0.959110</td>\n",
              "      <td>-3.478274</td>\n",
              "      <td>-3.029088</td>\n",
              "      <td>-0.649877</td>\n",
              "    </tr>\n",
              "    <tr>\n",
              "      <th>2000-01-07</th>\n",
              "      <td>1.276407</td>\n",
              "      <td>-5.012207</td>\n",
              "      <td>-3.696240</td>\n",
              "      <td>-1.232399</td>\n",
              "    </tr>\n",
              "    <tr>\n",
              "      <th>2000-01-08</th>\n",
              "      <td>-0.060906</td>\n",
              "      <td>-6.565836</td>\n",
              "      <td>-3.154668</td>\n",
              "      <td>-1.388649</td>\n",
              "    </tr>\n",
              "    <tr>\n",
              "      <th>2000-01-09</th>\n",
              "      <td>0.211959</td>\n",
              "      <td>-5.531839</td>\n",
              "      <td>-2.368236</td>\n",
              "      <td>-0.813646</td>\n",
              "    </tr>\n",
              "    <tr>\n",
              "      <th>2000-01-10</th>\n",
              "      <td>-0.234651</td>\n",
              "      <td>-4.916613</td>\n",
              "      <td>-2.735872</td>\n",
              "      <td>-1.682131</td>\n",
              "    </tr>\n",
              "    <tr>\n",
              "      <th>2000-01-11</th>\n",
              "      <td>-0.623360</td>\n",
              "      <td>-4.075775</td>\n",
              "      <td>-4.076921</td>\n",
              "      <td>-2.542520</td>\n",
              "    </tr>\n",
              "    <tr>\n",
              "      <th>2000-01-12</th>\n",
              "      <td>-0.193377</td>\n",
              "      <td>-5.098689</td>\n",
              "      <td>-2.809045</td>\n",
              "      <td>-2.327928</td>\n",
              "    </tr>\n",
              "    <tr>\n",
              "      <th>2000-01-13</th>\n",
              "      <td>0.161736</td>\n",
              "      <td>-5.620983</td>\n",
              "      <td>-4.931289</td>\n",
              "      <td>-1.441896</td>\n",
              "    </tr>\n",
              "    <tr>\n",
              "      <th>2000-01-14</th>\n",
              "      <td>-0.434071</td>\n",
              "      <td>-6.090342</td>\n",
              "      <td>-4.285995</td>\n",
              "      <td>0.251044</td>\n",
              "    </tr>\n",
              "    <tr>\n",
              "      <th>2000-01-15</th>\n",
              "      <td>-1.479152</td>\n",
              "      <td>-5.942091</td>\n",
              "      <td>-5.376464</td>\n",
              "      <td>-0.086773</td>\n",
              "    </tr>\n",
              "    <tr>\n",
              "      <th>2000-01-16</th>\n",
              "      <td>-1.159149</td>\n",
              "      <td>-6.761241</td>\n",
              "      <td>-5.979358</td>\n",
              "      <td>0.101267</td>\n",
              "    </tr>\n",
              "    <tr>\n",
              "      <th>2000-01-17</th>\n",
              "      <td>-0.874011</td>\n",
              "      <td>-7.216181</td>\n",
              "      <td>-4.651470</td>\n",
              "      <td>0.575930</td>\n",
              "    </tr>\n",
              "    <tr>\n",
              "      <th>2000-01-18</th>\n",
              "      <td>-0.781759</td>\n",
              "      <td>-7.468608</td>\n",
              "      <td>-3.104531</td>\n",
              "      <td>1.189680</td>\n",
              "    </tr>\n",
              "    <tr>\n",
              "      <th>2000-01-19</th>\n",
              "      <td>-1.612792</td>\n",
              "      <td>-7.535590</td>\n",
              "      <td>-4.140936</td>\n",
              "      <td>1.454246</td>\n",
              "    </tr>\n",
              "    <tr>\n",
              "      <th>2000-01-20</th>\n",
              "      <td>-1.496001</td>\n",
              "      <td>-7.672709</td>\n",
              "      <td>-3.761911</td>\n",
              "      <td>1.616197</td>\n",
              "    </tr>\n",
              "    <tr>\n",
              "      <th>2000-01-21</th>\n",
              "      <td>-1.530591</td>\n",
              "      <td>-6.098261</td>\n",
              "      <td>-3.598433</td>\n",
              "      <td>1.958704</td>\n",
              "    </tr>\n",
              "    <tr>\n",
              "      <th>2000-01-22</th>\n",
              "      <td>-1.375367</td>\n",
              "      <td>-8.237915</td>\n",
              "      <td>-4.388563</td>\n",
              "      <td>2.459954</td>\n",
              "    </tr>\n",
              "    <tr>\n",
              "      <th>2000-01-23</th>\n",
              "      <td>0.095261</td>\n",
              "      <td>-7.216472</td>\n",
              "      <td>-4.811811</td>\n",
              "      <td>2.819721</td>\n",
              "    </tr>\n",
              "    <tr>\n",
              "      <th>2000-01-24</th>\n",
              "      <td>0.214243</td>\n",
              "      <td>-6.030548</td>\n",
              "      <td>-3.144359</td>\n",
              "      <td>3.511291</td>\n",
              "    </tr>\n",
              "    <tr>\n",
              "      <th>2000-01-25</th>\n",
              "      <td>1.429447</td>\n",
              "      <td>-5.217954</td>\n",
              "      <td>-5.624924</td>\n",
              "      <td>3.614314</td>\n",
              "    </tr>\n",
              "    <tr>\n",
              "      <th>2000-01-26</th>\n",
              "      <td>-0.301220</td>\n",
              "      <td>-5.446025</td>\n",
              "      <td>-5.823559</td>\n",
              "      <td>1.699184</td>\n",
              "    </tr>\n",
              "    <tr>\n",
              "      <th>2000-01-27</th>\n",
              "      <td>2.135443</td>\n",
              "      <td>-5.407336</td>\n",
              "      <td>-3.699933</td>\n",
              "      <td>2.175287</td>\n",
              "    </tr>\n",
              "    <tr>\n",
              "      <th>2000-01-28</th>\n",
              "      <td>0.431727</td>\n",
              "      <td>-5.431105</td>\n",
              "      <td>-1.655192</td>\n",
              "      <td>1.205280</td>\n",
              "    </tr>\n",
              "    <tr>\n",
              "      <th>2000-01-29</th>\n",
              "      <td>0.327101</td>\n",
              "      <td>-4.335189</td>\n",
              "      <td>-1.674483</td>\n",
              "      <td>-0.274729</td>\n",
              "    </tr>\n",
              "    <tr>\n",
              "      <th>2000-01-30</th>\n",
              "      <td>-0.876068</td>\n",
              "      <td>-5.781809</td>\n",
              "      <td>-0.960081</td>\n",
              "      <td>0.002058</td>\n",
              "    </tr>\n",
              "    <tr>\n",
              "      <th>...</th>\n",
              "      <td>...</td>\n",
              "      <td>...</td>\n",
              "      <td>...</td>\n",
              "      <td>...</td>\n",
              "    </tr>\n",
              "    <tr>\n",
              "      <th>2002-08-28</th>\n",
              "      <td>-33.743593</td>\n",
              "      <td>17.486365</td>\n",
              "      <td>55.919407</td>\n",
              "      <td>42.095548</td>\n",
              "    </tr>\n",
              "    <tr>\n",
              "      <th>2002-08-29</th>\n",
              "      <td>-35.674088</td>\n",
              "      <td>17.851160</td>\n",
              "      <td>54.455635</td>\n",
              "      <td>41.892275</td>\n",
              "    </tr>\n",
              "    <tr>\n",
              "      <th>2002-08-30</th>\n",
              "      <td>-36.388419</td>\n",
              "      <td>17.975779</td>\n",
              "      <td>55.411214</td>\n",
              "      <td>42.098639</td>\n",
              "    </tr>\n",
              "    <tr>\n",
              "      <th>2002-08-31</th>\n",
              "      <td>-36.402773</td>\n",
              "      <td>19.881016</td>\n",
              "      <td>54.345437</td>\n",
              "      <td>42.507453</td>\n",
              "    </tr>\n",
              "    <tr>\n",
              "      <th>2002-09-01</th>\n",
              "      <td>-37.153529</td>\n",
              "      <td>20.440210</td>\n",
              "      <td>53.698540</td>\n",
              "      <td>42.189897</td>\n",
              "    </tr>\n",
              "    <tr>\n",
              "      <th>2002-09-02</th>\n",
              "      <td>-36.817828</td>\n",
              "      <td>20.504834</td>\n",
              "      <td>53.023143</td>\n",
              "      <td>42.403090</td>\n",
              "    </tr>\n",
              "    <tr>\n",
              "      <th>2002-09-03</th>\n",
              "      <td>-35.984492</td>\n",
              "      <td>20.832504</td>\n",
              "      <td>53.600424</td>\n",
              "      <td>41.220828</td>\n",
              "    </tr>\n",
              "    <tr>\n",
              "      <th>2002-09-04</th>\n",
              "      <td>-36.636345</td>\n",
              "      <td>20.364514</td>\n",
              "      <td>53.158539</td>\n",
              "      <td>41.765248</td>\n",
              "    </tr>\n",
              "    <tr>\n",
              "      <th>2002-09-05</th>\n",
              "      <td>-37.849504</td>\n",
              "      <td>22.867457</td>\n",
              "      <td>52.906122</td>\n",
              "      <td>41.352228</td>\n",
              "    </tr>\n",
              "    <tr>\n",
              "      <th>2002-09-06</th>\n",
              "      <td>-38.794197</td>\n",
              "      <td>23.433160</td>\n",
              "      <td>53.748259</td>\n",
              "      <td>40.549788</td>\n",
              "    </tr>\n",
              "    <tr>\n",
              "      <th>2002-09-07</th>\n",
              "      <td>-37.946207</td>\n",
              "      <td>22.673713</td>\n",
              "      <td>52.459463</td>\n",
              "      <td>40.790972</td>\n",
              "    </tr>\n",
              "    <tr>\n",
              "      <th>2002-09-08</th>\n",
              "      <td>-37.806858</td>\n",
              "      <td>22.562674</td>\n",
              "      <td>52.913922</td>\n",
              "      <td>41.432203</td>\n",
              "    </tr>\n",
              "    <tr>\n",
              "      <th>2002-09-09</th>\n",
              "      <td>-40.617700</td>\n",
              "      <td>23.056518</td>\n",
              "      <td>53.597938</td>\n",
              "      <td>42.205432</td>\n",
              "    </tr>\n",
              "    <tr>\n",
              "      <th>2002-09-10</th>\n",
              "      <td>-40.189807</td>\n",
              "      <td>23.843867</td>\n",
              "      <td>54.138251</td>\n",
              "      <td>42.921704</td>\n",
              "    </tr>\n",
              "    <tr>\n",
              "      <th>2002-09-11</th>\n",
              "      <td>-39.770745</td>\n",
              "      <td>23.016801</td>\n",
              "      <td>55.030264</td>\n",
              "      <td>43.279547</td>\n",
              "    </tr>\n",
              "    <tr>\n",
              "      <th>2002-09-12</th>\n",
              "      <td>-38.639904</td>\n",
              "      <td>23.140240</td>\n",
              "      <td>55.103998</td>\n",
              "      <td>42.348905</td>\n",
              "    </tr>\n",
              "    <tr>\n",
              "      <th>2002-09-13</th>\n",
              "      <td>-40.036546</td>\n",
              "      <td>21.463485</td>\n",
              "      <td>54.905939</td>\n",
              "      <td>43.019018</td>\n",
              "    </tr>\n",
              "    <tr>\n",
              "      <th>2002-09-14</th>\n",
              "      <td>-40.999676</td>\n",
              "      <td>21.064496</td>\n",
              "      <td>56.824461</td>\n",
              "      <td>42.290138</td>\n",
              "    </tr>\n",
              "    <tr>\n",
              "      <th>2002-09-15</th>\n",
              "      <td>-41.548077</td>\n",
              "      <td>20.363314</td>\n",
              "      <td>56.642028</td>\n",
              "      <td>41.574488</td>\n",
              "    </tr>\n",
              "    <tr>\n",
              "      <th>2002-09-16</th>\n",
              "      <td>-41.661082</td>\n",
              "      <td>20.168098</td>\n",
              "      <td>56.000195</td>\n",
              "      <td>43.905955</td>\n",
              "    </tr>\n",
              "    <tr>\n",
              "      <th>2002-09-17</th>\n",
              "      <td>-41.632907</td>\n",
              "      <td>20.719981</td>\n",
              "      <td>57.043294</td>\n",
              "      <td>45.433879</td>\n",
              "    </tr>\n",
              "    <tr>\n",
              "      <th>2002-09-18</th>\n",
              "      <td>-41.430942</td>\n",
              "      <td>21.504371</td>\n",
              "      <td>58.131391</td>\n",
              "      <td>44.832636</td>\n",
              "    </tr>\n",
              "    <tr>\n",
              "      <th>2002-09-19</th>\n",
              "      <td>-41.656721</td>\n",
              "      <td>22.019381</td>\n",
              "      <td>54.701762</td>\n",
              "      <td>45.024034</td>\n",
              "    </tr>\n",
              "    <tr>\n",
              "      <th>2002-09-20</th>\n",
              "      <td>-42.477485</td>\n",
              "      <td>23.197576</td>\n",
              "      <td>54.987928</td>\n",
              "      <td>46.506041</td>\n",
              "    </tr>\n",
              "    <tr>\n",
              "      <th>2002-09-21</th>\n",
              "      <td>-41.435700</td>\n",
              "      <td>23.072394</td>\n",
              "      <td>54.832852</td>\n",
              "      <td>46.597038</td>\n",
              "    </tr>\n",
              "    <tr>\n",
              "      <th>2002-09-22</th>\n",
              "      <td>-41.132843</td>\n",
              "      <td>24.663317</td>\n",
              "      <td>56.082239</td>\n",
              "      <td>46.268703</td>\n",
              "    </tr>\n",
              "    <tr>\n",
              "      <th>2002-09-23</th>\n",
              "      <td>-42.638254</td>\n",
              "      <td>23.819559</td>\n",
              "      <td>55.793242</td>\n",
              "      <td>49.036620</td>\n",
              "    </tr>\n",
              "    <tr>\n",
              "      <th>2002-09-24</th>\n",
              "      <td>-41.902302</td>\n",
              "      <td>23.926604</td>\n",
              "      <td>55.953050</td>\n",
              "      <td>49.019658</td>\n",
              "    </tr>\n",
              "    <tr>\n",
              "      <th>2002-09-25</th>\n",
              "      <td>-42.648650</td>\n",
              "      <td>24.616109</td>\n",
              "      <td>56.450820</td>\n",
              "      <td>47.786768</td>\n",
              "    </tr>\n",
              "    <tr>\n",
              "      <th>2002-09-26</th>\n",
              "      <td>-42.578949</td>\n",
              "      <td>25.108167</td>\n",
              "      <td>56.381025</td>\n",
              "      <td>48.064933</td>\n",
              "    </tr>\n",
              "  </tbody>\n",
              "</table>\n",
              "<p>1000 rows × 4 columns</p>\n",
              "</div>"
            ],
            "text/plain": [
              "                    A          B          C          D\n",
              "2000-01-01  -0.673818  -2.229466  -2.318174   1.257831\n",
              "2000-01-02  -0.420270  -3.602629  -3.444045   1.086148\n",
              "2000-01-03  -1.666716  -4.354933  -3.709838   0.918151\n",
              "2000-01-04  -0.692385  -4.941321  -3.084321   0.569502\n",
              "2000-01-05   0.045749  -3.964906  -3.570405   1.026525\n",
              "2000-01-06   0.959110  -3.478274  -3.029088  -0.649877\n",
              "2000-01-07   1.276407  -5.012207  -3.696240  -1.232399\n",
              "2000-01-08  -0.060906  -6.565836  -3.154668  -1.388649\n",
              "2000-01-09   0.211959  -5.531839  -2.368236  -0.813646\n",
              "2000-01-10  -0.234651  -4.916613  -2.735872  -1.682131\n",
              "2000-01-11  -0.623360  -4.075775  -4.076921  -2.542520\n",
              "2000-01-12  -0.193377  -5.098689  -2.809045  -2.327928\n",
              "2000-01-13   0.161736  -5.620983  -4.931289  -1.441896\n",
              "2000-01-14  -0.434071  -6.090342  -4.285995   0.251044\n",
              "2000-01-15  -1.479152  -5.942091  -5.376464  -0.086773\n",
              "2000-01-16  -1.159149  -6.761241  -5.979358   0.101267\n",
              "2000-01-17  -0.874011  -7.216181  -4.651470   0.575930\n",
              "2000-01-18  -0.781759  -7.468608  -3.104531   1.189680\n",
              "2000-01-19  -1.612792  -7.535590  -4.140936   1.454246\n",
              "2000-01-20  -1.496001  -7.672709  -3.761911   1.616197\n",
              "2000-01-21  -1.530591  -6.098261  -3.598433   1.958704\n",
              "2000-01-22  -1.375367  -8.237915  -4.388563   2.459954\n",
              "2000-01-23   0.095261  -7.216472  -4.811811   2.819721\n",
              "2000-01-24   0.214243  -6.030548  -3.144359   3.511291\n",
              "2000-01-25   1.429447  -5.217954  -5.624924   3.614314\n",
              "2000-01-26  -0.301220  -5.446025  -5.823559   1.699184\n",
              "2000-01-27   2.135443  -5.407336  -3.699933   2.175287\n",
              "2000-01-28   0.431727  -5.431105  -1.655192   1.205280\n",
              "2000-01-29   0.327101  -4.335189  -1.674483  -0.274729\n",
              "2000-01-30  -0.876068  -5.781809  -0.960081   0.002058\n",
              "...               ...        ...        ...        ...\n",
              "2002-08-28 -33.743593  17.486365  55.919407  42.095548\n",
              "2002-08-29 -35.674088  17.851160  54.455635  41.892275\n",
              "2002-08-30 -36.388419  17.975779  55.411214  42.098639\n",
              "2002-08-31 -36.402773  19.881016  54.345437  42.507453\n",
              "2002-09-01 -37.153529  20.440210  53.698540  42.189897\n",
              "2002-09-02 -36.817828  20.504834  53.023143  42.403090\n",
              "2002-09-03 -35.984492  20.832504  53.600424  41.220828\n",
              "2002-09-04 -36.636345  20.364514  53.158539  41.765248\n",
              "2002-09-05 -37.849504  22.867457  52.906122  41.352228\n",
              "2002-09-06 -38.794197  23.433160  53.748259  40.549788\n",
              "2002-09-07 -37.946207  22.673713  52.459463  40.790972\n",
              "2002-09-08 -37.806858  22.562674  52.913922  41.432203\n",
              "2002-09-09 -40.617700  23.056518  53.597938  42.205432\n",
              "2002-09-10 -40.189807  23.843867  54.138251  42.921704\n",
              "2002-09-11 -39.770745  23.016801  55.030264  43.279547\n",
              "2002-09-12 -38.639904  23.140240  55.103998  42.348905\n",
              "2002-09-13 -40.036546  21.463485  54.905939  43.019018\n",
              "2002-09-14 -40.999676  21.064496  56.824461  42.290138\n",
              "2002-09-15 -41.548077  20.363314  56.642028  41.574488\n",
              "2002-09-16 -41.661082  20.168098  56.000195  43.905955\n",
              "2002-09-17 -41.632907  20.719981  57.043294  45.433879\n",
              "2002-09-18 -41.430942  21.504371  58.131391  44.832636\n",
              "2002-09-19 -41.656721  22.019381  54.701762  45.024034\n",
              "2002-09-20 -42.477485  23.197576  54.987928  46.506041\n",
              "2002-09-21 -41.435700  23.072394  54.832852  46.597038\n",
              "2002-09-22 -41.132843  24.663317  56.082239  46.268703\n",
              "2002-09-23 -42.638254  23.819559  55.793242  49.036620\n",
              "2002-09-24 -41.902302  23.926604  55.953050  49.019658\n",
              "2002-09-25 -42.648650  24.616109  56.450820  47.786768\n",
              "2002-09-26 -42.578949  25.108167  56.381025  48.064933\n",
              "\n",
              "[1000 rows x 4 columns]"
            ]
          },
          "metadata": {
            "tags": []
          },
          "execution_count": 146
        }
      ]
    },
    {
      "metadata": {
        "id": "fBibp76_3IjV",
        "colab_type": "text"
      },
      "cell_type": "markdown",
      "source": [
        "## Gotchas (들켰지!)"
      ]
    },
    {
      "metadata": {
        "id": "IwTGemuB31es",
        "colab_type": "text"
      },
      "cell_type": "markdown",
      "source": [
        "연산을 수행하기 위해 시도하면 다음과 같은 예외 상황을 볼 수도 있습니다."
      ]
    },
    {
      "metadata": {
        "id": "7Pl6ilbuLNju",
        "colab_type": "code",
        "colab": {},
        "outputId": "bacf7033-4d39-418f-d128-a25eb517b02a"
      },
      "cell_type": "code",
      "source": [
        "if pd.Series([False, True, False]):\n",
        "    print(\"I was true\")"
      ],
      "execution_count": 0,
      "outputs": [
        {
          "output_type": "error",
          "ename": "ValueError",
          "evalue": "The truth value of a Series is ambiguous. Use a.empty, a.bool(), a.item(), a.any() or a.all().",
          "traceback": [
            "\u001b[1;31m---------------------------------------------------------------------------\u001b[0m",
            "\u001b[1;31mValueError\u001b[0m                                Traceback (most recent call last)",
            "\u001b[1;32m<ipython-input-147-9cae3ab0f79f>\u001b[0m in \u001b[0;36m<module>\u001b[1;34m()\u001b[0m\n\u001b[1;32m----> 1\u001b[1;33m \u001b[1;32mif\u001b[0m \u001b[0mpd\u001b[0m\u001b[1;33m.\u001b[0m\u001b[0mSeries\u001b[0m\u001b[1;33m(\u001b[0m\u001b[1;33m[\u001b[0m\u001b[1;32mFalse\u001b[0m\u001b[1;33m,\u001b[0m \u001b[1;32mTrue\u001b[0m\u001b[1;33m,\u001b[0m \u001b[1;32mFalse\u001b[0m\u001b[1;33m]\u001b[0m\u001b[1;33m)\u001b[0m\u001b[1;33m:\u001b[0m\u001b[1;33m\u001b[0m\u001b[0m\n\u001b[0m\u001b[0;32m      2\u001b[0m     \u001b[0mprint\u001b[0m\u001b[1;33m(\u001b[0m\u001b[1;34m\"I was true\"\u001b[0m\u001b[1;33m)\u001b[0m\u001b[1;33m\u001b[0m\u001b[0m\n",
            "\u001b[1;32mC:\\Users\\Admin\\Anaconda3\\lib\\site-packages\\pandas\\core\\generic.py\u001b[0m in \u001b[0;36m__nonzero__\u001b[1;34m(self)\u001b[0m\n\u001b[0;32m    951\u001b[0m         raise ValueError(\"The truth value of a {0} is ambiguous. \"\n\u001b[0;32m    952\u001b[0m                          \u001b[1;34m\"Use a.empty, a.bool(), a.item(), a.any() or a.all().\"\u001b[0m\u001b[1;33m\u001b[0m\u001b[0m\n\u001b[1;32m--> 953\u001b[1;33m                          .format(self.__class__.__name__))\n\u001b[0m\u001b[0;32m    954\u001b[0m \u001b[1;33m\u001b[0m\u001b[0m\n\u001b[0;32m    955\u001b[0m     \u001b[0m__bool__\u001b[0m \u001b[1;33m=\u001b[0m \u001b[0m__nonzero__\u001b[0m\u001b[1;33m\u001b[0m\u001b[0m\n",
            "\u001b[1;31mValueError\u001b[0m: The truth value of a Series is ambiguous. Use a.empty, a.bool(), a.item(), a.any() or a.all()."
          ]
        }
      ]
    },
    {
      "metadata": {
        "id": "8wpBt_ePLNjy",
        "colab_type": "text"
      },
      "cell_type": "markdown",
      "source": [
        "설명과 무엇을 해야하는지에 대해서는 [비교](https://pandas.pydata.org/pandas-docs/stable/basics.html#basics-compare) 부분을 참조하세요.\n",
        "\n",
        "[Gotchas](https://pandas.pydata.org/pandas-docs/stable/gotchas.html#gotchas) 부분도 참조하세요."
      ]
    }
  ]
}