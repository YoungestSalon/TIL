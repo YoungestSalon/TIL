{
  "nbformat": 4,
  "nbformat_minor": 0,
  "metadata": {
    "colab": {
      "name": "20180724_RegexOne.ipynb",
      "version": "0.3.2",
      "provenance": [],
      "include_colab_link": true
    },
    "kernelspec": {
      "name": "python3",
      "display_name": "Python 3"
    }
  },
  "cells": [
    {
      "cell_type": "markdown",
      "metadata": {
        "id": "view-in-github",
        "colab_type": "text"
      },
      "source": [
        "[View in Colaboratory](https://colab.research.google.com/github/YoungestSalon/TIL/blob/master/20180724_RegexOne.ipynb)"
      ]
    },
    {
      "metadata": {
        "id": "5taCwO1c2zix",
        "colab_type": "text"
      },
      "cell_type": "markdown",
      "source": [
        "## 과제 개요\n",
        "\n",
        "<br> 필수 : [다음 사이트](https://regexone.com/lesson/introduction_abcs)에서 풀 수 있는 단계까지 최대한 해결하고, 각 단계별로 본인이 사용한 정규표현식을 정리하여 과제폴더에 공유해주세요. <br>\n",
        "\n",
        "\n",
        "\n",
        "\n",
        "참고자료 : [Regular expression cheat sheet](http://www.cbs.dtu.dk/courses/27610/regular-expressions-cheat-sheet-v2.pdf)\n",
        "<br><br>\n",
        "\n",
        "\n",
        "---\n",
        "\n"
      ]
    },
    {
      "metadata": {
        "id": "f5HyyTPEh6dP",
        "colab_type": "text"
      },
      "cell_type": "markdown",
      "source": [
        "## Lesson 1~15"
      ]
    },
    {
      "metadata": {
        "id": "odV547ePrbXQ",
        "colab_type": "text"
      },
      "cell_type": "markdown",
      "source": [
        "### Exercise 1: Matching Characters"
      ]
    },
    {
      "metadata": {
        "id": "shFyXiTcrT9o",
        "colab_type": "code",
        "colab": {}
      },
      "cell_type": "code",
      "source": [
        "abc"
      ],
      "execution_count": 0,
      "outputs": []
    },
    {
      "metadata": {
        "id": "LOegIKVjrguW",
        "colab_type": "text"
      },
      "cell_type": "markdown",
      "source": [
        "### Exercise 1½: Matching Digits"
      ]
    },
    {
      "metadata": {
        "id": "qmG-dNO4rkIW",
        "colab_type": "code",
        "colab": {}
      },
      "cell_type": "code",
      "source": [
        "123"
      ],
      "execution_count": 0,
      "outputs": []
    },
    {
      "metadata": {
        "id": "bJ-y2bu5rl-O",
        "colab_type": "text"
      },
      "cell_type": "markdown",
      "source": [
        "### Exercise 2: Matching With Wildcards"
      ]
    },
    {
      "metadata": {
        "id": "my_CSOpvrs1u",
        "colab_type": "code",
        "colab": {}
      },
      "cell_type": "code",
      "source": [
        "."
      ],
      "execution_count": 0,
      "outputs": []
    },
    {
      "metadata": {
        "id": "M076m8-GruZJ",
        "colab_type": "text"
      },
      "cell_type": "markdown",
      "source": [
        "### Exercise 3: Matching Characters"
      ]
    },
    {
      "metadata": {
        "id": "QvKoR82bryPt",
        "colab_type": "code",
        "colab": {}
      },
      "cell_type": "code",
      "source": [
        "[cmf]an"
      ],
      "execution_count": 0,
      "outputs": []
    },
    {
      "metadata": {
        "id": "nBTaI_9kr1W9",
        "colab_type": "text"
      },
      "cell_type": "markdown",
      "source": [
        "### Exercise 4: Excluding Characters"
      ]
    },
    {
      "metadata": {
        "id": "4fK4rIrDr0ve",
        "colab_type": "code",
        "colab": {}
      },
      "cell_type": "code",
      "source": [
        "[^b]og"
      ],
      "execution_count": 0,
      "outputs": []
    },
    {
      "metadata": {
        "id": "0OfikDhOr7j8",
        "colab_type": "text"
      },
      "cell_type": "markdown",
      "source": [
        "### Exercise 5: Matching Character Ranges"
      ]
    },
    {
      "metadata": {
        "id": "MfJdNvbUr_c8",
        "colab_type": "code",
        "colab": {}
      },
      "cell_type": "code",
      "source": [
        "[ABC]"
      ],
      "execution_count": 0,
      "outputs": []
    },
    {
      "metadata": {
        "id": "R-1GarVpr_-L",
        "colab_type": "text"
      },
      "cell_type": "markdown",
      "source": [
        "### Exercise 6: Matching Repeated Characters"
      ]
    },
    {
      "metadata": {
        "id": "if2QJZuOsEb7",
        "colab_type": "code",
        "colab": {}
      },
      "cell_type": "code",
      "source": [
        "wazz"
      ],
      "execution_count": 0,
      "outputs": []
    },
    {
      "metadata": {
        "id": "HL5EGZCUsG8a",
        "colab_type": "text"
      },
      "cell_type": "markdown",
      "source": [
        "### Exercise 7: Matching Repeated Characters"
      ]
    },
    {
      "metadata": {
        "id": "amUr_15QsKHU",
        "colab_type": "code",
        "colab": {}
      },
      "cell_type": "code",
      "source": [
        "aa"
      ],
      "execution_count": 0,
      "outputs": []
    },
    {
      "metadata": {
        "id": "O3IB9mm5sO36",
        "colab_type": "text"
      },
      "cell_type": "markdown",
      "source": [
        "### Exercise 8: Matching Optional Characters"
      ]
    },
    {
      "metadata": {
        "id": "2QzTNEPSsPzi",
        "colab_type": "code",
        "colab": {}
      },
      "cell_type": "code",
      "source": [
        "\\d"
      ],
      "execution_count": 0,
      "outputs": []
    },
    {
      "metadata": {
        "id": "hwOsB6iesR8Z",
        "colab_type": "text"
      },
      "cell_type": "markdown",
      "source": [
        "### Exercise 9: Matching Whitespaces"
      ]
    },
    {
      "metadata": {
        "id": "OZCJ4iOEsUja",
        "colab_type": "code",
        "colab": {}
      },
      "cell_type": "code",
      "source": [
        "\\d.\\s"
      ],
      "execution_count": 0,
      "outputs": []
    },
    {
      "metadata": {
        "id": "uVHMAAgZsXf7",
        "colab_type": "text"
      },
      "cell_type": "markdown",
      "source": [
        "### Exercise 10: Matching Lines"
      ]
    },
    {
      "metadata": {
        "id": "ZcVfjwlVsbJi",
        "colab_type": "code",
        "colab": {}
      },
      "cell_type": "code",
      "source": [
        "^Mission"
      ],
      "execution_count": 0,
      "outputs": []
    },
    {
      "metadata": {
        "id": "0cmlf60IsdIK",
        "colab_type": "text"
      },
      "cell_type": "markdown",
      "source": [
        "### Exercise 11: Matching Groups"
      ]
    },
    {
      "metadata": {
        "id": "hHcIykrcsgcY",
        "colab_type": "code",
        "colab": {}
      },
      "cell_type": "code",
      "source": [
        "^(file_\\S+).pdf$"
      ],
      "execution_count": 0,
      "outputs": []
    },
    {
      "metadata": {
        "id": "9PlVPtxIsiWy",
        "colab_type": "text"
      },
      "cell_type": "markdown",
      "source": [
        "### Exercise 12: Matching Nested Groups"
      ]
    },
    {
      "metadata": {
        "id": "hHtIfaXAsmVJ",
        "colab_type": "code",
        "colab": {}
      },
      "cell_type": "code",
      "source": [
        "(\\S{3}\\s(\\d{4}))"
      ],
      "execution_count": 0,
      "outputs": []
    },
    {
      "metadata": {
        "id": "1b-9SGpfsomJ",
        "colab_type": "text"
      },
      "cell_type": "markdown",
      "source": [
        "### Exercise 13: Matching Nested Groups"
      ]
    },
    {
      "metadata": {
        "id": "zI9gMNSNsrX_",
        "colab_type": "code",
        "colab": {}
      },
      "cell_type": "code",
      "source": [
        "(\\d{4})x(\\d{3,4})"
      ],
      "execution_count": 0,
      "outputs": []
    },
    {
      "metadata": {
        "id": "wLvBiDUastQD",
        "colab_type": "text"
      },
      "cell_type": "markdown",
      "source": [
        "### Exercise 14: Matching Conditional Text"
      ]
    },
    {
      "metadata": {
        "id": "-NF3LuxPsu9X",
        "colab_type": "code",
        "colab": {}
      },
      "cell_type": "code",
      "source": [
        "I love (cats|dogs)"
      ],
      "execution_count": 0,
      "outputs": []
    },
    {
      "metadata": {
        "id": "eYXKg264syt3",
        "colab_type": "text"
      },
      "cell_type": "markdown",
      "source": [
        "### Exercise 15: Matching Other Special Characters"
      ]
    },
    {
      "metadata": {
        "id": "OcUDXzqhs1k9",
        "colab_type": "code",
        "colab": {}
      },
      "cell_type": "code",
      "source": [
        "^The"
      ],
      "execution_count": 0,
      "outputs": []
    },
    {
      "metadata": {
        "id": "pGPeMlEz31Ar",
        "colab_type": "text"
      },
      "cell_type": "markdown",
      "source": [
        "---"
      ]
    },
    {
      "metadata": {
        "id": "yYxl1qd2tihi",
        "colab_type": "text"
      },
      "cell_type": "markdown",
      "source": [
        "## Problem 1~8"
      ]
    },
    {
      "metadata": {
        "id": "BABlFiRqtH9r",
        "colab_type": "text"
      },
      "cell_type": "markdown",
      "source": [
        "### Exercise 1: Matching Numbers"
      ]
    },
    {
      "metadata": {
        "id": "9PfnMmMth49Y",
        "colab_type": "code",
        "colab": {}
      },
      "cell_type": "code",
      "source": [
        "(\\d|-)*(\\d)$"
      ],
      "execution_count": 0,
      "outputs": []
    },
    {
      "metadata": {
        "id": "1t14r2CwtI4a",
        "colab_type": "text"
      },
      "cell_type": "markdown",
      "source": [
        "### Exercise 2: Matching Phone Numbers"
      ]
    },
    {
      "metadata": {
        "id": "das1_rEbtHdM",
        "colab_type": "code",
        "colab": {}
      },
      "cell_type": "code",
      "source": [
        "(\\d{3})"
      ],
      "execution_count": 0,
      "outputs": []
    },
    {
      "metadata": {
        "id": "NCD4p1gftT2T",
        "colab_type": "text"
      },
      "cell_type": "markdown",
      "source": [
        "### Exercise 3: Matching Emails"
      ]
    },
    {
      "metadata": {
        "id": "wHlQzITstXHT",
        "colab_type": "code",
        "colab": {}
      },
      "cell_type": "code",
      "source": [
        "([a-z.?a-z]*)\\+?[a-z]*@"
      ],
      "execution_count": 0,
      "outputs": []
    },
    {
      "metadata": {
        "id": "-9EwwzDKwSSj",
        "colab_type": "text"
      },
      "cell_type": "markdown",
      "source": [
        "#### Exercise 4: Capturing HTML Tags"
      ]
    },
    {
      "metadata": {
        "id": "vOeJPBbNwVfa",
        "colab_type": "code",
        "colab": {}
      },
      "cell_type": "code",
      "source": [
        "</((a|div))>"
      ],
      "execution_count": 0,
      "outputs": []
    },
    {
      "metadata": {
        "id": "7ML4URb4xhbt",
        "colab_type": "text"
      },
      "cell_type": "markdown",
      "source": [
        "### Exercise 5: Capturing Filename Data"
      ]
    },
    {
      "metadata": {
        "id": "asd4mUZKxjr5",
        "colab_type": "code",
        "colab": {}
      },
      "cell_type": "code",
      "source": [
        "(\\S*).(jpg|png|gif)$"
      ],
      "execution_count": 0,
      "outputs": []
    },
    {
      "metadata": {
        "id": "do7Qi-zQy-d9",
        "colab_type": "text"
      },
      "cell_type": "markdown",
      "source": [
        "### Exercise 6: Matching Lines"
      ]
    },
    {
      "metadata": {
        "id": "OrNxDlDTzAqd",
        "colab_type": "code",
        "colab": {}
      },
      "cell_type": "code",
      "source": [
        "\\s*(\\D*)"
      ],
      "execution_count": 0,
      "outputs": []
    },
    {
      "metadata": {
        "id": "Dg645367zUNZ",
        "colab_type": "text"
      },
      "cell_type": "markdown",
      "source": [
        "### Exercise 7: Extracting Data From Log Entries"
      ]
    },
    {
      "metadata": {
        "id": "Vj6MLKvYzZgJ",
        "colab_type": "code",
        "colab": {}
      },
      "cell_type": "code",
      "source": [
        "\\(\\s(1553)\\):\\s+\\D{2}\\s{1}\\D{6}.\\D{4}.(\\D{8})\\((\\D{13}).(\\d*)\\)"
      ],
      "execution_count": 0,
      "outputs": []
    },
    {
      "metadata": {
        "id": "HiApDdRz05BN",
        "colab_type": "text"
      },
      "cell_type": "markdown",
      "source": [
        "### Exercise 8: Extracting Data From URLs"
      ]
    },
    {
      "metadata": {
        "id": "xMVZi-k93CQs",
        "colab_type": "code",
        "colab": {}
      },
      "cell_type": "code",
      "source": [
        "((\\D*)://(\\S*):(\\d*)|(\\D*)://([a-z.?a-z]*))"
      ],
      "execution_count": 0,
      "outputs": []
    },
    {
      "metadata": {
        "id": "YJcaUi-i3YF4",
        "colab_type": "text"
      },
      "cell_type": "markdown",
      "source": [
        "<br>\n",
        "\n",
        "#### p.s. 전부 다 푼 것 같은데... (응?)"
      ]
    }
  ]
}